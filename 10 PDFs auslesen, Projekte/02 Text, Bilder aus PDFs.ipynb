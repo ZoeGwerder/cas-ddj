{
 "cells": [
  {
   "cell_type": "markdown",
   "metadata": {},
   "source": [
    "# Bereiten wir das Script vor"
   ]
  },
  {
   "cell_type": "code",
   "execution_count": 1,
   "metadata": {
    "scrolled": false
   },
   "outputs": [
    {
     "name": "stdout",
     "output_type": "stream",
     "text": [
      "Requirement already satisfied: textract in c:\\users\\zoe\\anaconda3\\lib\\site-packages (1.6.3)\n",
      "Requirement already satisfied: pdfminer.six==20181108 in c:\\users\\zoe\\anaconda3\\lib\\site-packages (from textract) (20181108)\n",
      "Requirement already satisfied: six==1.12.0 in c:\\users\\zoe\\anaconda3\\lib\\site-packages (from textract) (1.12.0)\n",
      "Requirement already satisfied: chardet==3.0.4 in c:\\users\\zoe\\anaconda3\\lib\\site-packages (from textract) (3.0.4)\n",
      "Requirement already satisfied: SpeechRecognition==3.8.1 in c:\\users\\zoe\\anaconda3\\lib\\site-packages (from textract) (3.8.1)\n",
      "Requirement already satisfied: python-pptx==0.6.18 in c:\\users\\zoe\\anaconda3\\lib\\site-packages (from textract) (0.6.18)\n",
      "Requirement already satisfied: xlrd==1.2.0 in c:\\users\\zoe\\anaconda3\\lib\\site-packages (from textract) (1.2.0)\n",
      "Requirement already satisfied: EbookLib==0.17.1 in c:\\users\\zoe\\anaconda3\\lib\\site-packages (from textract) (0.17.1)\n",
      "Requirement already satisfied: docx2txt==0.8 in c:\\users\\zoe\\anaconda3\\lib\\site-packages (from textract) (0.8)\n",
      "Requirement already satisfied: beautifulsoup4==4.8.0 in c:\\users\\zoe\\anaconda3\\lib\\site-packages (from textract) (4.8.0)\n",
      "Requirement already satisfied: argcomplete==1.10.0 in c:\\users\\zoe\\anaconda3\\lib\\site-packages (from textract) (1.10.0)\n",
      "Requirement already satisfied: extract-msg==0.23.1 in c:\\users\\zoe\\anaconda3\\lib\\site-packages (from textract) (0.23.1)\n",
      "Requirement already satisfied: pycryptodome in c:\\users\\zoe\\anaconda3\\lib\\site-packages (from pdfminer.six==20181108->textract) (3.9.0)\n",
      "Requirement already satisfied: sortedcontainers in c:\\users\\zoe\\anaconda3\\lib\\site-packages (from pdfminer.six==20181108->textract) (2.1.0)\n",
      "Requirement already satisfied: XlsxWriter>=0.5.7 in c:\\users\\zoe\\anaconda3\\lib\\site-packages (from python-pptx==0.6.18->textract) (1.2.1)\n",
      "Requirement already satisfied: lxml>=3.1.0 in c:\\users\\zoe\\anaconda3\\lib\\site-packages (from python-pptx==0.6.18->textract) (4.4.1)\n",
      "Requirement already satisfied: Pillow>=3.3.2 in c:\\users\\zoe\\anaconda3\\lib\\site-packages (from python-pptx==0.6.18->textract) (6.2.0)\n",
      "Requirement already satisfied: soupsieve>=1.2 in c:\\users\\zoe\\anaconda3\\lib\\site-packages (from beautifulsoup4==4.8.0->textract) (1.9.3)\n",
      "Requirement already satisfied: tzlocal==1.5.1 in c:\\users\\zoe\\anaconda3\\lib\\site-packages (from extract-msg==0.23.1->textract) (1.5.1)\n",
      "Requirement already satisfied: olefile==0.46 in c:\\users\\zoe\\anaconda3\\lib\\site-packages (from extract-msg==0.23.1->textract) (0.46)\n",
      "Requirement already satisfied: imapclient==2.1.0 in c:\\users\\zoe\\anaconda3\\lib\\site-packages (from extract-msg==0.23.1->textract) (2.1.0)\n",
      "Requirement already satisfied: pytz in c:\\users\\zoe\\anaconda3\\lib\\site-packages (from tzlocal==1.5.1->extract-msg==0.23.1->textract) (2019.3)\n"
     ]
    }
   ],
   "source": [
    "!pip install textract"
   ]
  },
  {
   "cell_type": "code",
   "execution_count": null,
   "metadata": {},
   "outputs": [],
   "source": []
  },
  {
   "cell_type": "code",
   "execution_count": 2,
   "metadata": {
    "scrolled": true
   },
   "outputs": [],
   "source": [
    "#Imports\n",
    "import os #Files in listen abgreifen\n",
    "import tqdm #anzeigen, wo wir stehen\n",
    "import textract\n",
    "import pandas as pd"
   ]
  },
  {
   "cell_type": "markdown",
   "metadata": {},
   "source": [
    "## Vorbereitung"
   ]
  },
  {
   "cell_type": "code",
   "execution_count": 3,
   "metadata": {},
   "outputs": [],
   "source": [
    "#Als Vorbereitung, machen aus dem Inhalt des Folders eine Liste. Es handelt sich hierbei\n",
    "#um eine Liste aller pdfs im Ordner \"pdfs\". Es sind die Swissmedic Recalls (#ImplantFiles)\n",
    "pdfs = os.listdir('pdfs') "
   ]
  },
  {
   "cell_type": "code",
   "execution_count": 4,
   "metadata": {},
   "outputs": [
    {
     "data": {
      "text/plain": [
       "['Vk_20180226_08documents0.pdf',\n",
       " 'Vk_20180226_08documents1.pdf',\n",
       " 'Vk_20180226_08documents2.pdf',\n",
       " 'Vk_20180326_03documents0.pdf',\n",
       " 'Vk_20180413_17documents0.pdf',\n",
       " 'Vk_20180413_17documents1.pdf',\n",
       " 'Vk_20180413_17documents2.pdf',\n",
       " 'Vk_20180413_17documents3.pdf',\n",
       " 'Vk_20180417_10documents0.pdf',\n",
       " 'Vk_20180417_10documents1.pdf',\n",
       " 'Vk_20180509_08documents0.pdf',\n",
       " 'Vk_20180509_08documents1.pdf',\n",
       " 'Vk_20180509_08documents2.pdf',\n",
       " 'Vk_20180514_49documents0.pdf',\n",
       " 'Vk_20180514_49documents1.pdf',\n",
       " 'Vk_20180514_49documents2.pdf',\n",
       " 'Vk_20180516_01documents0.pdf',\n",
       " 'Vk_20180516_01documents1.pdf',\n",
       " 'Vk_20180516_07documents0.pdf',\n",
       " 'Vk_20180516_07documents1.pdf',\n",
       " 'Vk_20180516_07documents2.pdf',\n",
       " 'Vk_20180516_12documents0.pdf',\n",
       " 'Vk_20180516_14documents0.pdf',\n",
       " 'Vk_20180516_14documents1.pdf',\n",
       " 'Vk_20180517_02documents0.pdf',\n",
       " 'Vk_20180517_02documents1.pdf',\n",
       " 'Vk_20180517_02documents2.pdf',\n",
       " 'Vk_20180517_02documents3.pdf',\n",
       " 'Vk_20180517_06documents0.pdf',\n",
       " 'Vk_20180517_12documents0.pdf',\n",
       " 'Vk_20180518_18documents0.pdf',\n",
       " 'Vk_20180518_18documents1.pdf',\n",
       " 'Vk_20180518_18documents2.pdf',\n",
       " 'Vk_20180518_18documents3.pdf',\n",
       " 'Vk_20180521_01documents0.pdf',\n",
       " 'Vk_20180521_01documents1.pdf',\n",
       " 'Vk_20180521_01documents2.pdf',\n",
       " 'Vk_20180522_02documents0.pdf',\n",
       " 'Vk_20180522_02documents1.pdf',\n",
       " 'Vk_20180522_02documents2.pdf',\n",
       " 'Vk_20180522_05documents0.pdf',\n",
       " 'Vk_20180522_05documents1.pdf',\n",
       " 'Vk_20180522_05documents2.pdf',\n",
       " 'Vk_20180522_05documents3.pdf',\n",
       " 'Vk_20180522_13documents0.pdf',\n",
       " 'Vk_20180522_13documents1.pdf',\n",
       " 'Vk_20180522_23documents0.pdf',\n",
       " 'Vk_20180522_23documents1.pdf',\n",
       " 'Vk_20180522_23documents2.pdf',\n",
       " 'Vk_20180522_23documents3.pdf',\n",
       " 'Vk_20180523_05documents0.pdf',\n",
       " 'Vk_20180523_05documents1.pdf',\n",
       " 'Vk_20180523_05documents2.pdf',\n",
       " 'Vk_20180523_09documents0.pdf',\n",
       " 'Vk_20180523_09documents1.pdf',\n",
       " 'Vk_20180524_02documents0.pdf',\n",
       " 'Vk_20180524_02documents1.pdf',\n",
       " 'Vk_20180524_02documents2.pdf',\n",
       " 'Vk_20180524_08documents0.pdf',\n",
       " 'Vk_20180525_03documents0.pdf',\n",
       " 'Vk_20180525_03documents1.pdf',\n",
       " 'Vk_20180525_03documents2.pdf',\n",
       " 'Vk_20180525_26documents0.pdf',\n",
       " 'Vk_20180525_26documents1.pdf',\n",
       " 'Vk_20180525_26documents2.pdf',\n",
       " 'Vk_20180528_08documents0.pdf',\n",
       " 'Vk_20180528_08documents1.pdf',\n",
       " 'Vk_20180529_02documents0.pdf',\n",
       " 'Vk_20180529_02documents1.pdf',\n",
       " 'Vk_20180529_02documents2.pdf',\n",
       " 'Vk_20180530_08documents0.pdf',\n",
       " 'Vk_20180530_08documents1.pdf',\n",
       " 'Vk_20180530_08documents2.pdf',\n",
       " 'Vk_20180530_09documents0.pdf',\n",
       " 'Vk_20180530_09documents1.pdf',\n",
       " 'Vk_20180530_10documents0.pdf',\n",
       " 'Vk_20180530_10documents1.pdf',\n",
       " 'Vk_20180530_10documents2.pdf',\n",
       " 'Vk_20180530_11documents0.pdf',\n",
       " 'Vk_20180530_11documents1.pdf',\n",
       " 'Vk_20180530_11documents2.pdf',\n",
       " 'Vk_20180530_11documents3.pdf']"
      ]
     },
     "execution_count": 4,
     "metadata": {},
     "output_type": "execute_result"
    }
   ],
   "source": [
    "pdfs #hier sehen wir den ganzen ordner mit allen pdfs"
   ]
  },
  {
   "cell_type": "markdown",
   "metadata": {},
   "source": [
    "## Fortschritt anzeigen"
   ]
  },
  {
   "cell_type": "code",
   "execution_count": 5,
   "metadata": {},
   "outputs": [
    {
     "name": "stderr",
     "output_type": "stream",
     "text": [
      "100%|██████████| 1000/1000 [00:00<00:00, 501831.06it/s]\n"
     ]
    }
   ],
   "source": [
    "from tqdm import tqdm\n",
    "for i in tqdm(range(1000)): #100000000000\n",
    "    elem = i\n",
    "    \n",
    "    #er rechnet hier nur einen leeren Loop durch ohne dabei auf ein File zurückzugreiffen. Ist nur als Beispiel"
   ]
  },
  {
   "cell_type": "markdown",
   "metadata": {},
   "source": [
    "## Ein File auslesen"
   ]
  },
  {
   "cell_type": "code",
   "execution_count": 6,
   "metadata": {},
   "outputs": [
    {
     "ename": "ShellError",
     "evalue": "The command `pdftotext pdfs/Vk_20180326_03documents0.pdf -` failed with exit code 127\n------------- stdout -------------\n------------- stderr -------------\n",
     "output_type": "error",
     "traceback": [
      "\u001b[1;31m---------------------------------------------------------------------------\u001b[0m",
      "\u001b[1;31mFileNotFoundError\u001b[0m                         Traceback (most recent call last)",
      "\u001b[1;32m~\\Anaconda3\\lib\\site-packages\\textract\\parsers\\utils.py\u001b[0m in \u001b[0;36mrun\u001b[1;34m(self, args)\u001b[0m\n\u001b[0;32m     83\u001b[0m                 \u001b[0margs\u001b[0m\u001b[1;33m,\u001b[0m\u001b[1;33m\u001b[0m\u001b[1;33m\u001b[0m\u001b[0m\n\u001b[1;32m---> 84\u001b[1;33m                 \u001b[0mstdout\u001b[0m\u001b[1;33m=\u001b[0m\u001b[0msubprocess\u001b[0m\u001b[1;33m.\u001b[0m\u001b[0mPIPE\u001b[0m\u001b[1;33m,\u001b[0m \u001b[0mstderr\u001b[0m\u001b[1;33m=\u001b[0m\u001b[0msubprocess\u001b[0m\u001b[1;33m.\u001b[0m\u001b[0mPIPE\u001b[0m\u001b[1;33m,\u001b[0m\u001b[1;33m\u001b[0m\u001b[1;33m\u001b[0m\u001b[0m\n\u001b[0m\u001b[0;32m     85\u001b[0m             )\n",
      "\u001b[1;32m~\\Anaconda3\\lib\\subprocess.py\u001b[0m in \u001b[0;36m__init__\u001b[1;34m(self, args, bufsize, executable, stdin, stdout, stderr, preexec_fn, close_fds, shell, cwd, env, universal_newlines, startupinfo, creationflags, restore_signals, start_new_session, pass_fds, encoding, errors, text)\u001b[0m\n\u001b[0;32m    774\u001b[0m                                 \u001b[0merrread\u001b[0m\u001b[1;33m,\u001b[0m \u001b[0merrwrite\u001b[0m\u001b[1;33m,\u001b[0m\u001b[1;33m\u001b[0m\u001b[1;33m\u001b[0m\u001b[0m\n\u001b[1;32m--> 775\u001b[1;33m                                 restore_signals, start_new_session)\n\u001b[0m\u001b[0;32m    776\u001b[0m         \u001b[1;32mexcept\u001b[0m\u001b[1;33m:\u001b[0m\u001b[1;33m\u001b[0m\u001b[1;33m\u001b[0m\u001b[0m\n",
      "\u001b[1;32m~\\Anaconda3\\lib\\subprocess.py\u001b[0m in \u001b[0;36m_execute_child\u001b[1;34m(self, args, executable, preexec_fn, close_fds, pass_fds, cwd, env, startupinfo, creationflags, shell, p2cread, p2cwrite, c2pread, c2pwrite, errread, errwrite, unused_restore_signals, unused_start_new_session)\u001b[0m\n\u001b[0;32m   1177\u001b[0m                                          \u001b[0mos\u001b[0m\u001b[1;33m.\u001b[0m\u001b[0mfspath\u001b[0m\u001b[1;33m(\u001b[0m\u001b[0mcwd\u001b[0m\u001b[1;33m)\u001b[0m \u001b[1;32mif\u001b[0m \u001b[0mcwd\u001b[0m \u001b[1;32mis\u001b[0m \u001b[1;32mnot\u001b[0m \u001b[1;32mNone\u001b[0m \u001b[1;32melse\u001b[0m \u001b[1;32mNone\u001b[0m\u001b[1;33m,\u001b[0m\u001b[1;33m\u001b[0m\u001b[1;33m\u001b[0m\u001b[0m\n\u001b[1;32m-> 1178\u001b[1;33m                                          startupinfo)\n\u001b[0m\u001b[0;32m   1179\u001b[0m             \u001b[1;32mfinally\u001b[0m\u001b[1;33m:\u001b[0m\u001b[1;33m\u001b[0m\u001b[1;33m\u001b[0m\u001b[0m\n",
      "\u001b[1;31mFileNotFoundError\u001b[0m: [WinError 2] The system cannot find the file specified",
      "\nDuring handling of the above exception, another exception occurred:\n",
      "\u001b[1;31mShellError\u001b[0m                                Traceback (most recent call last)",
      "\u001b[1;32m<ipython-input-6-6193924f8467>\u001b[0m in \u001b[0;36m<module>\u001b[1;34m\u001b[0m\n\u001b[1;32m----> 1\u001b[1;33m \u001b[0mtext\u001b[0m \u001b[1;33m=\u001b[0m \u001b[0mtextract\u001b[0m\u001b[1;33m.\u001b[0m\u001b[0mprocess\u001b[0m\u001b[1;33m(\u001b[0m\u001b[1;34m\"pdfs/\"\u001b[0m\u001b[1;33m+\u001b[0m\u001b[0mpdfs\u001b[0m\u001b[1;33m[\u001b[0m\u001b[1;36m3\u001b[0m\u001b[1;33m]\u001b[0m\u001b[1;33m)\u001b[0m\u001b[1;33m\u001b[0m\u001b[1;33m\u001b[0m\u001b[0m\n\u001b[0m\u001b[0;32m      2\u001b[0m \u001b[1;31m#method='pdfminer', encoding='ISO-8859-1'\u001b[0m\u001b[1;33m\u001b[0m\u001b[1;33m\u001b[0m\u001b[1;33m\u001b[0m\u001b[0m\n",
      "\u001b[1;32m~\\Anaconda3\\lib\\site-packages\\textract\\parsers\\__init__.py\u001b[0m in \u001b[0;36mprocess\u001b[1;34m(filename, encoding, extension, **kwargs)\u001b[0m\n\u001b[0;32m     75\u001b[0m \u001b[1;33m\u001b[0m\u001b[0m\n\u001b[0;32m     76\u001b[0m     \u001b[0mparser\u001b[0m \u001b[1;33m=\u001b[0m \u001b[0mfiletype_module\u001b[0m\u001b[1;33m.\u001b[0m\u001b[0mParser\u001b[0m\u001b[1;33m(\u001b[0m\u001b[1;33m)\u001b[0m\u001b[1;33m\u001b[0m\u001b[1;33m\u001b[0m\u001b[0m\n\u001b[1;32m---> 77\u001b[1;33m     \u001b[1;32mreturn\u001b[0m \u001b[0mparser\u001b[0m\u001b[1;33m.\u001b[0m\u001b[0mprocess\u001b[0m\u001b[1;33m(\u001b[0m\u001b[0mfilename\u001b[0m\u001b[1;33m,\u001b[0m \u001b[0mencoding\u001b[0m\u001b[1;33m,\u001b[0m \u001b[1;33m**\u001b[0m\u001b[0mkwargs\u001b[0m\u001b[1;33m)\u001b[0m\u001b[1;33m\u001b[0m\u001b[1;33m\u001b[0m\u001b[0m\n\u001b[0m\u001b[0;32m     78\u001b[0m \u001b[1;33m\u001b[0m\u001b[0m\n\u001b[0;32m     79\u001b[0m \u001b[1;33m\u001b[0m\u001b[0m\n",
      "\u001b[1;32m~\\Anaconda3\\lib\\site-packages\\textract\\parsers\\utils.py\u001b[0m in \u001b[0;36mprocess\u001b[1;34m(self, filename, encoding, **kwargs)\u001b[0m\n\u001b[0;32m     44\u001b[0m         \u001b[1;31m# output encoding\u001b[0m\u001b[1;33m\u001b[0m\u001b[1;33m\u001b[0m\u001b[1;33m\u001b[0m\u001b[0m\n\u001b[0;32m     45\u001b[0m         \u001b[1;31m# http://nedbatchelder.com/text/unipain/unipain.html#35\u001b[0m\u001b[1;33m\u001b[0m\u001b[1;33m\u001b[0m\u001b[1;33m\u001b[0m\u001b[0m\n\u001b[1;32m---> 46\u001b[1;33m         \u001b[0mbyte_string\u001b[0m \u001b[1;33m=\u001b[0m \u001b[0mself\u001b[0m\u001b[1;33m.\u001b[0m\u001b[0mextract\u001b[0m\u001b[1;33m(\u001b[0m\u001b[0mfilename\u001b[0m\u001b[1;33m,\u001b[0m \u001b[1;33m**\u001b[0m\u001b[0mkwargs\u001b[0m\u001b[1;33m)\u001b[0m\u001b[1;33m\u001b[0m\u001b[1;33m\u001b[0m\u001b[0m\n\u001b[0m\u001b[0;32m     47\u001b[0m         \u001b[0municode_string\u001b[0m \u001b[1;33m=\u001b[0m \u001b[0mself\u001b[0m\u001b[1;33m.\u001b[0m\u001b[0mdecode\u001b[0m\u001b[1;33m(\u001b[0m\u001b[0mbyte_string\u001b[0m\u001b[1;33m)\u001b[0m\u001b[1;33m\u001b[0m\u001b[1;33m\u001b[0m\u001b[0m\n\u001b[0;32m     48\u001b[0m         \u001b[1;32mreturn\u001b[0m \u001b[0mself\u001b[0m\u001b[1;33m.\u001b[0m\u001b[0mencode\u001b[0m\u001b[1;33m(\u001b[0m\u001b[0municode_string\u001b[0m\u001b[1;33m,\u001b[0m \u001b[0mencoding\u001b[0m\u001b[1;33m)\u001b[0m\u001b[1;33m\u001b[0m\u001b[1;33m\u001b[0m\u001b[0m\n",
      "\u001b[1;32m~\\Anaconda3\\lib\\site-packages\\textract\\parsers\\pdf_parser.py\u001b[0m in \u001b[0;36mextract\u001b[1;34m(self, filename, method, **kwargs)\u001b[0m\n\u001b[0;32m     26\u001b[0m                     \u001b[1;32mreturn\u001b[0m \u001b[0mself\u001b[0m\u001b[1;33m.\u001b[0m\u001b[0mextract_pdfminer\u001b[0m\u001b[1;33m(\u001b[0m\u001b[0mfilename\u001b[0m\u001b[1;33m,\u001b[0m \u001b[1;33m**\u001b[0m\u001b[0mkwargs\u001b[0m\u001b[1;33m)\u001b[0m\u001b[1;33m\u001b[0m\u001b[1;33m\u001b[0m\u001b[0m\n\u001b[0;32m     27\u001b[0m                 \u001b[1;32melse\u001b[0m\u001b[1;33m:\u001b[0m\u001b[1;33m\u001b[0m\u001b[1;33m\u001b[0m\u001b[0m\n\u001b[1;32m---> 28\u001b[1;33m                     \u001b[1;32mraise\u001b[0m \u001b[0mex\u001b[0m\u001b[1;33m\u001b[0m\u001b[1;33m\u001b[0m\u001b[0m\n\u001b[0m\u001b[0;32m     29\u001b[0m \u001b[1;33m\u001b[0m\u001b[0m\n\u001b[0;32m     30\u001b[0m         \u001b[1;32melif\u001b[0m \u001b[0mmethod\u001b[0m \u001b[1;33m==\u001b[0m \u001b[1;34m'pdfminer'\u001b[0m\u001b[1;33m:\u001b[0m\u001b[1;33m\u001b[0m\u001b[1;33m\u001b[0m\u001b[0m\n",
      "\u001b[1;32m~\\Anaconda3\\lib\\site-packages\\textract\\parsers\\pdf_parser.py\u001b[0m in \u001b[0;36mextract\u001b[1;34m(self, filename, method, **kwargs)\u001b[0m\n\u001b[0;32m     18\u001b[0m         \u001b[1;32mif\u001b[0m \u001b[0mmethod\u001b[0m \u001b[1;33m==\u001b[0m \u001b[1;34m''\u001b[0m \u001b[1;32mor\u001b[0m \u001b[0mmethod\u001b[0m \u001b[1;33m==\u001b[0m \u001b[1;34m'pdftotext'\u001b[0m\u001b[1;33m:\u001b[0m\u001b[1;33m\u001b[0m\u001b[1;33m\u001b[0m\u001b[0m\n\u001b[0;32m     19\u001b[0m             \u001b[1;32mtry\u001b[0m\u001b[1;33m:\u001b[0m\u001b[1;33m\u001b[0m\u001b[1;33m\u001b[0m\u001b[0m\n\u001b[1;32m---> 20\u001b[1;33m                 \u001b[1;32mreturn\u001b[0m \u001b[0mself\u001b[0m\u001b[1;33m.\u001b[0m\u001b[0mextract_pdftotext\u001b[0m\u001b[1;33m(\u001b[0m\u001b[0mfilename\u001b[0m\u001b[1;33m,\u001b[0m \u001b[1;33m**\u001b[0m\u001b[0mkwargs\u001b[0m\u001b[1;33m)\u001b[0m\u001b[1;33m\u001b[0m\u001b[1;33m\u001b[0m\u001b[0m\n\u001b[0m\u001b[0;32m     21\u001b[0m             \u001b[1;32mexcept\u001b[0m \u001b[0mShellError\u001b[0m \u001b[1;32mas\u001b[0m \u001b[0mex\u001b[0m\u001b[1;33m:\u001b[0m\u001b[1;33m\u001b[0m\u001b[1;33m\u001b[0m\u001b[0m\n\u001b[0;32m     22\u001b[0m                 \u001b[1;31m# If pdftotext isn't installed and the pdftotext method\u001b[0m\u001b[1;33m\u001b[0m\u001b[1;33m\u001b[0m\u001b[1;33m\u001b[0m\u001b[0m\n",
      "\u001b[1;32m~\\Anaconda3\\lib\\site-packages\\textract\\parsers\\pdf_parser.py\u001b[0m in \u001b[0;36mextract_pdftotext\u001b[1;34m(self, filename, **kwargs)\u001b[0m\n\u001b[0;32m     41\u001b[0m         \u001b[1;32melse\u001b[0m\u001b[1;33m:\u001b[0m\u001b[1;33m\u001b[0m\u001b[1;33m\u001b[0m\u001b[0m\n\u001b[0;32m     42\u001b[0m             \u001b[0margs\u001b[0m \u001b[1;33m=\u001b[0m \u001b[1;33m[\u001b[0m\u001b[1;34m'pdftotext'\u001b[0m\u001b[1;33m,\u001b[0m \u001b[0mfilename\u001b[0m\u001b[1;33m,\u001b[0m \u001b[1;34m'-'\u001b[0m\u001b[1;33m]\u001b[0m\u001b[1;33m\u001b[0m\u001b[1;33m\u001b[0m\u001b[0m\n\u001b[1;32m---> 43\u001b[1;33m         \u001b[0mstdout\u001b[0m\u001b[1;33m,\u001b[0m \u001b[0m_\u001b[0m \u001b[1;33m=\u001b[0m \u001b[0mself\u001b[0m\u001b[1;33m.\u001b[0m\u001b[0mrun\u001b[0m\u001b[1;33m(\u001b[0m\u001b[0margs\u001b[0m\u001b[1;33m)\u001b[0m\u001b[1;33m\u001b[0m\u001b[1;33m\u001b[0m\u001b[0m\n\u001b[0m\u001b[0;32m     44\u001b[0m         \u001b[1;32mreturn\u001b[0m \u001b[0mstdout\u001b[0m\u001b[1;33m\u001b[0m\u001b[1;33m\u001b[0m\u001b[0m\n\u001b[0;32m     45\u001b[0m \u001b[1;33m\u001b[0m\u001b[0m\n",
      "\u001b[1;32m~\\Anaconda3\\lib\\site-packages\\textract\\parsers\\utils.py\u001b[0m in \u001b[0;36mrun\u001b[1;34m(self, args)\u001b[0m\n\u001b[0;32m     89\u001b[0m                 \u001b[1;31m# This is equivalent to getting exitcode 127 from sh\u001b[0m\u001b[1;33m\u001b[0m\u001b[1;33m\u001b[0m\u001b[1;33m\u001b[0m\u001b[0m\n\u001b[0;32m     90\u001b[0m                 raise exceptions.ShellError(\n\u001b[1;32m---> 91\u001b[1;33m                     \u001b[1;34m' '\u001b[0m\u001b[1;33m.\u001b[0m\u001b[0mjoin\u001b[0m\u001b[1;33m(\u001b[0m\u001b[0margs\u001b[0m\u001b[1;33m)\u001b[0m\u001b[1;33m,\u001b[0m \u001b[1;36m127\u001b[0m\u001b[1;33m,\u001b[0m \u001b[1;34m''\u001b[0m\u001b[1;33m,\u001b[0m \u001b[1;34m''\u001b[0m\u001b[1;33m,\u001b[0m\u001b[1;33m\u001b[0m\u001b[1;33m\u001b[0m\u001b[0m\n\u001b[0m\u001b[0;32m     92\u001b[0m                 )\n\u001b[0;32m     93\u001b[0m \u001b[1;33m\u001b[0m\u001b[0m\n",
      "\u001b[1;31mShellError\u001b[0m: The command `pdftotext pdfs/Vk_20180326_03documents0.pdf -` failed with exit code 127\n------------- stdout -------------\n------------- stderr -------------\n"
     ]
    }
   ],
   "source": [
    "text = textract.process(\"pdfs/\"+pdfs[3]) \n",
    "#method='pdfminer', encoding='ISO-8859-1'"
   ]
  },
  {
   "cell_type": "code",
   "execution_count": null,
   "metadata": {},
   "outputs": [],
   "source": [
    "#häufig machen Firmen ihre Publikationen als Bild und nicht als Text.(abfotografiert und in PDF getan). \n",
    "#Dies können wir mit den aktuellen Mitteln lösen"
   ]
  },
  {
   "cell_type": "markdown",
   "metadata": {},
   "source": [
    "## Alle Files auslesen"
   ]
  },
  {
   "cell_type": "code",
   "execution_count": null,
   "metadata": {},
   "outputs": [],
   "source": [
    "#hier der For-Loop über alle 82 PDFs.\n",
    "#wir machen zwei Listen. Eine für die Resultate und eine für die Fehler.\n",
    "#aus den Elementen (pdf) in der Variable pdfs zieht er den Text raus. Dort stopft diesen wieder in die Liste. "
   ]
  },
  {
   "cell_type": "code",
   "execution_count": null,
   "metadata": {
    "scrolled": true
   },
   "outputs": [],
   "source": [
    "lst = []                   \n",
    "mistakes = []\n",
    "for pdf in tqdm(pdfs): #pdfs ist die Liste mit den pdfs\n",
    "    try:\n",
    "        text = textract.process(\"pdfs/\"+pdf, method='pdfminer', encoding='ISO-8859-1')\n",
    "        lst.append(text)\n",
    "    except:\n",
    "        mistakes.append(pdf)"
   ]
  },
  {
   "cell_type": "markdown",
   "metadata": {},
   "source": [
    "## Bilder auslesen"
   ]
  },
  {
   "cell_type": "code",
   "execution_count": null,
   "metadata": {},
   "outputs": [],
   "source": [
    "text = textract.process(\"pdfs/\"+pdfs[0], method='tesseract') #Nicht ideal, aber gut"
   ]
  },
  {
   "cell_type": "markdown",
   "metadata": {},
   "source": [
    "## Alles zusammen"
   ]
  },
  {
   "cell_type": "code",
   "execution_count": null,
   "metadata": {
    "scrolled": true
   },
   "outputs": [],
   "source": [
    "#Rohe Analyse\n",
    "for pdf in tqdm(pdfs):\n",
    "    try:\n",
    "        text = textract.process(\"pdfs/\"+pdf, method='pdfminer', encoding='ISO-8859-1')\n",
    "        text = text.decode(\"ISO-8859-1\").replace(\"\\n\", \" \") #decode benötigts um einen Str draus zu machen. (mit str(text)\n",
    "                                                            #würde das auch gehen, aber könnte Fehler haben)..replace ist \n",
    "                                                            #dass es schöner wird. \n",
    "        if len(text) < 40:     #wenn es sehr wenig Text ist, muss es fast ein Bild sein. Deshalb mit dem tesseract behandeln\n",
    "            text = textract.process(\"pdfs/\"+pdf, method='tesseract',  encoding='ISO-8859-1') \n",
    "                                                            #Sprache mit: language='deu', nur definieren, wenn es eine \n",
    "                                                            #einzige Sprache ist. Mehrere Sprachen dann weglassen.\n",
    "            text = text.decode(\"ISO-8859-1\").replace(\"\\n\", \" \")\n",
    "            \n",
    "        mini_dict = {'Text':text,\n",
    "                     'File':pdf}\n",
    "        lst.append(mini_dict)\n",
    "    except:\n",
    "        mini_dict = {'Text':'Fehlermeldung',\n",
    "                     'File':pdf}\n",
    "        lst.append(mini_dict)"
   ]
  },
  {
   "cell_type": "code",
   "execution_count": null,
   "metadata": {},
   "outputs": [],
   "source": [
    "#dann kann man es in ein DataFrame einpacken\n",
    "pd.DataFrame(lst)"
   ]
  },
  {
   "cell_type": "code",
   "execution_count": null,
   "metadata": {},
   "outputs": [],
   "source": [
    "#Erste Säuberung\n",
    "df = pd.DataFrame(lst)\n",
    "def date(elem):\n",
    "    elem = elem[3:11]\n",
    "    return elem\n",
    "df['date'] = df['File'].apply(date)\n",
    "df['date'] = pd.to_datetime(df['date'], format='%Y%m%d')\n",
    "df.index = df['date']\n",
    "#Suchen wir noch nach Implantaten\n",
    "df['implant'] = df['Text'].str.contains('implant')\n",
    "df.to_csv('datafile.csv')"
   ]
  },
  {
   "cell_type": "code",
   "execution_count": null,
   "metadata": {},
   "outputs": [],
   "source": [
    "df = pd.DataFrame(lst)"
   ]
  },
  {
   "cell_type": "code",
   "execution_count": null,
   "metadata": {},
   "outputs": [],
   "source": [
    "def length(elem)\n",
    "    elem=len(elem)\n",
    "    return elem\n",
    "    df[\"Text Länge\"]=df[\"Text\"].apply(length) #so könnte man alle PDFs auf deren Länge untersuchen. "
   ]
  }
 ],
 "metadata": {
  "kernelspec": {
   "display_name": "Python 3",
   "language": "python",
   "name": "python3"
  },
  "language_info": {
   "codemirror_mode": {
    "name": "ipython",
    "version": 3
   },
   "file_extension": ".py",
   "mimetype": "text/x-python",
   "name": "python",
   "nbconvert_exporter": "python",
   "pygments_lexer": "ipython3",
   "version": "3.7.3"
  }
 },
 "nbformat": 4,
 "nbformat_minor": 2
}
