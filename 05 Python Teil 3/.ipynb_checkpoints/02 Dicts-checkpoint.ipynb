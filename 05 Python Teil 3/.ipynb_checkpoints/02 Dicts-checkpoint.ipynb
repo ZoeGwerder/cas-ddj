{
 "cells": [
  {
   "cell_type": "markdown",
   "metadata": {},
   "source": [
    "## Dictionaries in Python\n",
    "\n",
    "Dictionaries sind unglaublich praktisch, damit kannst du z. B. folgendes machen:\n",
    "\n",
    "- Du kannst Wertezuordnungen speichern (z.B. Telefonbuch: Ein Nachname hat eine Telefonnummer).\n",
    "- Du kannst nachträglich Elemente verändern / entfernen / hinzufügen.\n",
    "- Dictionaries brauchst du wirklich immer wieder...\n",
    "\n",
    "Machen wir mal ein Beispiel..."
   ]
  },
  {
   "cell_type": "code",
   "execution_count": 1,
   "metadata": {},
   "outputs": [],
   "source": [
    "d = {\"Berlin\": \"BER\", \"Helsinki\": \"HEL\", \"Saigon\": \"SGN\"}"
   ]
  },
  {
   "cell_type": "code",
   "execution_count": 2,
   "metadata": {},
   "outputs": [
    {
     "name": "stdout",
     "output_type": "stream",
     "text": [
      "{'Berlin': 'BER', 'Helsinki': 'HEL', 'Saigon': 'SGN'}\n"
     ]
    }
   ],
   "source": [
    "print(d)"
   ]
  },
  {
   "cell_type": "markdown",
   "metadata": {},
   "source": [
    "Zugriff auf ein einzelnes Element:"
   ]
  },
  {
   "cell_type": "code",
   "execution_count": 3,
   "metadata": {},
   "outputs": [
    {
     "name": "stdout",
     "output_type": "stream",
     "text": [
      "HEL\n"
     ]
    }
   ],
   "source": [
    "print(d[\"Helsinki\"])"
   ]
  },
  {
   "cell_type": "code",
   "execution_count": 4,
   "metadata": {},
   "outputs": [],
   "source": [
    "#dics sind nicht sortiert. wie ein loses wörterbuch. Da muss man sagen wo nachschauen. Das vor dem Doppelpunkt ist der Key, das danach der output."
   ]
  },
  {
   "cell_type": "markdown",
   "metadata": {},
   "source": [
    "Hiermit überschreibst du ein einzelnes Element:"
   ]
  },
  {
   "cell_type": "code",
   "execution_count": 5,
   "metadata": {},
   "outputs": [],
   "source": [
    "d[\"Budapest\"] = \"BUD\""
   ]
  },
  {
   "cell_type": "code",
   "execution_count": 6,
   "metadata": {
    "scrolled": true
   },
   "outputs": [
    {
     "name": "stdout",
     "output_type": "stream",
     "text": [
      "{'Berlin': 'BER', 'Helsinki': 'HEL', 'Saigon': 'SGN', 'Budapest': 'BUD'}\n"
     ]
    }
   ],
   "source": [
    "print(d)"
   ]
  },
  {
   "cell_type": "code",
   "execution_count": 7,
   "metadata": {},
   "outputs": [],
   "source": [
    "#{key:output, key:output, key: output}"
   ]
  },
  {
   "cell_type": "markdown",
   "metadata": {},
   "source": [
    "## Übung"
   ]
  },
  {
   "cell_type": "code",
   "execution_count": 8,
   "metadata": {},
   "outputs": [
    {
     "name": "stdout",
     "output_type": "stream",
     "text": [
      "{'Basel': 'BSL', 'Zürich': 'ZRH', 'Genf': 'GVA'}\n"
     ]
    }
   ],
   "source": [
    "flughafen={\"Basel\": \"BSL\", \"Zürich\":\"ZRH\",\"Genf\":\"GVA\"}\n",
    "print (flughafen)"
   ]
  },
  {
   "cell_type": "code",
   "execution_count": 9,
   "metadata": {},
   "outputs": [
    {
     "name": "stdout",
     "output_type": "stream",
     "text": [
      "{'Basel': 'BSL', 'Genf': 'GVA'}\n"
     ]
    }
   ],
   "source": [
    "del flughafen[\"Zürich\"]\n",
    "print(flughafen)"
   ]
  },
  {
   "cell_type": "markdown",
   "metadata": {},
   "source": [
    "Legt ein eigenes Dict für die schweiz an mit den Flughäfen und den Abkürzungen. "
   ]
  },
  {
   "cell_type": "markdown",
   "metadata": {},
   "source": [
    "## Element entfernen"
   ]
  },
  {
   "cell_type": "code",
   "execution_count": 10,
   "metadata": {},
   "outputs": [],
   "source": [
    "del d[\"Budapest\"]"
   ]
  },
  {
   "cell_type": "code",
   "execution_count": 11,
   "metadata": {},
   "outputs": [
    {
     "name": "stdout",
     "output_type": "stream",
     "text": [
      "{'Berlin': 'BER', 'Helsinki': 'HEL', 'Saigon': 'SGN'}\n"
     ]
    }
   ],
   "source": [
    "print(d)"
   ]
  },
  {
   "cell_type": "markdown",
   "metadata": {},
   "source": [
    "## Abfrage: Ist ein Element im Dictionary?"
   ]
  },
  {
   "cell_type": "code",
   "execution_count": 12,
   "metadata": {},
   "outputs": [
    {
     "name": "stdout",
     "output_type": "stream",
     "text": [
      "Saigon ist im Dicionary enthalten\n"
     ]
    }
   ],
   "source": [
    "if \"Budapest\" in d:\n",
    "    print(\"Budapest ist im Dictionary enthalten\")\n",
    "if \"Saigon\" in d:\n",
    "    print(\"Saigon ist im Dicionary enthalten\")"
   ]
  },
  {
   "cell_type": "markdown",
   "metadata": {},
   "source": [
    "## Auf Elemente zugreifen..."
   ]
  },
  {
   "cell_type": "code",
   "execution_count": 13,
   "metadata": {},
   "outputs": [
    {
     "name": "stdout",
     "output_type": "stream",
     "text": [
      "SGN\n",
      "SGN\n"
     ]
    }
   ],
   "source": [
    "print(d[\"Saigon\"])\n",
    "print(d.get(\"Saigon\"))\n",
    "#.get heist hol mir den Wert der bei Saigon drin ist. Wieso diese funktion: ohne get entsteht ein Fehler wenn das gesuchte Wort nicht darin enthalten ist.\n",
    "#mit .get kommt \"none\" raus, wenn es nicht im Dict. ist."
   ]
  },
  {
   "cell_type": "markdown",
   "metadata": {},
   "source": [
    "Warum sollte man get nutzen? Man kann doch auch einfach so drauf zugraifen? Die Lösung ist einfach aber sehr praktisch. Fehlertoleranz."
   ]
  },
  {
   "cell_type": "code",
   "execution_count": 14,
   "metadata": {},
   "outputs": [
    {
     "ename": "KeyError",
     "evalue": "'Budapest'",
     "output_type": "error",
     "traceback": [
      "\u001b[1;31m---------------------------------------------------------------------------\u001b[0m",
      "\u001b[1;31mKeyError\u001b[0m                                  Traceback (most recent call last)",
      "\u001b[1;32m<ipython-input-14-a5640edcb8ab>\u001b[0m in \u001b[0;36m<module>\u001b[1;34m\u001b[0m\n\u001b[1;32m----> 1\u001b[1;33m \u001b[0mprint\u001b[0m\u001b[1;33m(\u001b[0m\u001b[0md\u001b[0m\u001b[1;33m[\u001b[0m\u001b[1;34m\"Budapest\"\u001b[0m\u001b[1;33m]\u001b[0m\u001b[1;33m)\u001b[0m\u001b[1;33m\u001b[0m\u001b[1;33m\u001b[0m\u001b[0m\n\u001b[0m",
      "\u001b[1;31mKeyError\u001b[0m: 'Budapest'"
     ]
    }
   ],
   "source": [
    "print(d[\"Budapest\"])"
   ]
  },
  {
   "cell_type": "code",
   "execution_count": null,
   "metadata": {
    "scrolled": true
   },
   "outputs": [],
   "source": [
    "print(d.get(\"Budapest\"))"
   ]
  },
  {
   "cell_type": "markdown",
   "metadata": {},
   "source": [
    "## Dictionaries und Schleifen\n",
    "\n",
    "Du hast bei Dictionaries 2 Möglichkeiten, diese mit einer for - Schleife durchzugehen.\n",
    "\n",
    "Entweder direkt, dann gehst du die Schlüssel durch:"
   ]
  },
  {
   "cell_type": "code",
   "execution_count": null,
   "metadata": {},
   "outputs": [],
   "source": [
    "d = {\"München\": \"MUC\", \"Budapest\": \"BUD\", \"Helsinki\": \"HEL\"}\n",
    "\n",
    "for key in d: \n",
    "    value = d[key]\n",
    "    print(key)\n",
    "    print(value)"
   ]
  },
  {
   "cell_type": "markdown",
   "metadata": {},
   "source": [
    "Oder über die .items() - Methode, damit kannst du Schlüssel + Wert direkt durchgehen:"
   ]
  },
  {
   "cell_type": "code",
   "execution_count": null,
   "metadata": {
    "scrolled": true
   },
   "outputs": [],
   "source": [
    "for key, value in d.items():\n",
    "    print(key + \": \" + value)"
   ]
  },
  {
   "cell_type": "markdown",
   "metadata": {},
   "source": [
    "## Übung \n",
    "Wie oft kommt jedes Wort in der liste vor?"
   ]
  },
  {
   "cell_type": "code",
   "execution_count": null,
   "metadata": {},
   "outputs": [],
   "source": [
    "liste = [\"Hallo\", \"Hallo\", \"Welt\", \"Hallo\", \"Mars\"]\n",
    "\n",
    "dic = {}\n",
    "\n"
   ]
  },
  {
   "cell_type": "code",
   "execution_count": null,
   "metadata": {},
   "outputs": [],
   "source": [
    "\n",
    "liste = [\"Hallo\", \"Hallo\", \"Welt\", \"Hallo\", \"Mars\"]\n",
    "\n",
    "dic = {}\n",
    "\n",
    "\n",
    "for wort in liste:\n",
    "    if wort in dic:\n",
    "        dic[wort]=dic[wort]+1\n",
    "    else:\n",
    "        dic[wort]=1\n",
    "  \n",
    "        \n",
    "        \n",
    "   \n",
    "  \n",
    "        \n",
    "            \n",
    "print(dic)\n",
    "            \n",
    "            \n",
    "        \n",
    "    \n",
    "    \n",
    "\n",
    "# dein code hier \n",
    "\n",
    "#print(d)"
   ]
  },
  {
   "cell_type": "markdown",
   "metadata": {},
   "source": [
    "## Übung Hardcore"
   ]
  },
  {
   "cell_type": "markdown",
   "metadata": {},
   "source": [
    "Für diejenigen die eine Herausforderung suchen, gibts hier auch einen echten datensatz. http://p3.snf.ch/Pages/DataAndDocumentation.aspx"
   ]
  },
  {
   "cell_type": "code",
   "execution_count": 17,
   "metadata": {},
   "outputs": [],
   "source": [
    "import requests\n",
    "import csv\n",
    "data = requests.get(\"http://p3.snf.ch/P3Export/P3_PersonExport.csv\").text.splitlines()\n",
    "personen = csv.DictReader(data,delimiter=';')\n"
   ]
  },
  {
   "cell_type": "code",
   "execution_count": 18,
   "metadata": {},
   "outputs": [
    {
     "data": {
      "text/plain": [
       "OrderedDict([('Last Name', 'a Marca'),\n",
       "             ('First Name', 'Davide'),\n",
       "             ('Gender', 'male'),\n",
       "             ('Institute Name', ''),\n",
       "             ('Institute Place', ''),\n",
       "             ('Person ID SNSF', '53856'),\n",
       "             ('OCRID', ''),\n",
       "             ('Projects as responsible Applicant', ''),\n",
       "             ('Projects as Applicant', ''),\n",
       "             ('Projects as Partner', ''),\n",
       "             ('Projects as Practice Partner', ''),\n",
       "             ('Projects as Employee', '36549'),\n",
       "             ('Projects as Contact Person', '')])"
      ]
     },
     "execution_count": 18,
     "metadata": {},
     "output_type": "execute_result"
    }
   ],
   "source": [
    "next(personen)"
   ]
  },
  {
   "cell_type": "markdown",
   "metadata": {},
   "source": [
    "### So sieht ein Datensatz aus:"
   ]
  },
  {
   "cell_type": "code",
   "execution_count": null,
   "metadata": {},
   "outputs": [],
   "source": []
  },
  {
   "cell_type": "markdown",
   "metadata": {},
   "source": [
    "Welche Institute hatten die meisten beiteiligten Personen?"
   ]
  },
  {
   "cell_type": "code",
   "execution_count": null,
   "metadata": {},
   "outputs": [],
   "source": [
    "#der Versuch, die einzel-Anfübrungszeichen in Listen zu verwandeln.\n",
    "total_institut=0\n",
    "for zeile in data:\n",
    "    listlist.append[zeile]\n",
    "    \n",
    "    \n",
    "    "
   ]
  },
  {
   "cell_type": "code",
   "execution_count": null,
   "metadata": {},
   "outputs": [],
   "source": [
    "print(data)"
   ]
  },
  {
   "cell_type": "code",
   "execution_count": null,
   "metadata": {},
   "outputs": [],
   "source": [
    "# institutes = {}\n",
    "# for row in personen:\n",
    "# dein code hier"
   ]
  }
 ],
 "metadata": {
  "kernelspec": {
   "display_name": "Python 3",
   "language": "python",
   "name": "python3"
  },
  "language_info": {
   "codemirror_mode": {
    "name": "ipython",
    "version": 3
   },
   "file_extension": ".py",
   "mimetype": "text/x-python",
   "name": "python",
   "nbconvert_exporter": "python",
   "pygments_lexer": "ipython3",
   "version": "3.7.3"
  }
 },
 "nbformat": 4,
 "nbformat_minor": 2
}
