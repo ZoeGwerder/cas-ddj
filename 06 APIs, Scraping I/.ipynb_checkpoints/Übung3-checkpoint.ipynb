{
 "cells": [
  {
   "cell_type": "markdown",
   "metadata": {},
   "source": [
    "# Übung 3"
   ]
  },
  {
   "cell_type": "markdown",
   "metadata": {},
   "source": [
    "#### 1. Importiere requests, BeautifulSoup und Pandas"
   ]
  },
  {
   "cell_type": "code",
   "execution_count": 6,
   "metadata": {},
   "outputs": [],
   "source": [
    "import requests\n",
    "from bs4 import BeautifulSoup\n",
    "import pandas as pd"
   ]
  },
  {
   "cell_type": "markdown",
   "metadata": {},
   "source": [
    "#### 2. Lade den Inhalt des Parkhaus-RSS-Feeds in eine Variabel"
   ]
  },
  {
   "cell_type": "code",
   "execution_count": 21,
   "metadata": {},
   "outputs": [],
   "source": [
    "r=requests.get(\"http://www.plszh.ch/plsFeed/rss\")"
   ]
  },
  {
   "cell_type": "markdown",
   "metadata": {},
   "source": [
    "#### 3. Ziehen wir aus dieser alle Daten (Datum) heraus und machen daraus eine Liste"
   ]
  },
  {
   "cell_type": "code",
   "execution_count": 9,
   "metadata": {},
   "outputs": [
    {
     "name": "stdout",
     "output_type": "stream",
     "text": [
      "<?xml version=\"1.0\" encoding=\"UTF-8\"?>\r\n",
      "<rss xmlns:dc=\"http://purl.org/dc/elements/1.1/\" version=\"2.0\">\r\n",
      "  <channel>\r\n",
      "    <title>FEED Parkleitsystem Stadt Zürich</title>\r\n",
      "    <link>http://www.plszh.ch/plsFeed/rss</link>\r\n",
      "    <description>http://www.plszh.ch/plsFeed/rss?type=rss_0.92 | rss_0.93 | rss_0.94 | rss_1.0 | rss_2.0 (=default) | atom_0.3 | atom_1.0</description>\r\n",
      "    <copyright>Nutzungsbedingungen entsprechen der Creative-Commons-Null-Lizenz (CC-0)</copyright>\r\n",
      "    <dc:rights>Nutzungsbedingungen entsprechen der Creative-Commons-Null-Lizenz (CC-0)</dc:rights>\r\n",
      "    <item>\r\n",
      "      <title>Parkgarage am Central / Seilergraben</title>\r\n",
      "      <link>http://www.plszh.ch/plsNeu/parkhaus/central.jsp?pid=central</link>\r\n",
      "      <description>open /    0</description>\r\n",
      "      <guid>http://www.plszh.ch/plsNeu/parkhaus/central.jsp?pid=central</guid>\r\n",
      "    </item>\r\n",
      "    <item>\r\n",
      "      <title>Parkhaus Accu / Otto-Schütz-Weg</title>\r\n",
      "      <link>http://www.plszh.ch/plsNeu/parkhaus/accu.jsp?pid=accu</link>\r\n",
      "      <description>open /  129</description>\r\n",
      "      <guid>http://www.plszh.ch/plsNeu/parkhaus/accu.jsp?pid=accu</guid>\r\n",
      "    </item>\r\n",
      "    <item>\r\n",
      "      <title>Parkhaus Albisriederplatz / Badenerstrasse 380</title>\r\n",
      "      <link>http://www.plszh.ch/plsNeu/parkhaus/albisriederplatz.jsp?pid=albisriederplatz</link>\r\n",
      "      <description>open /   55</description>\r\n",
      "      <guid>http://www.plszh.ch/plsNeu/parkhaus/albisriederplatz.jsp?pid=albisriederplatz</guid>\r\n",
      "    </item>\r\n",
      "    <item>\r\n",
      "      <title>Parkhaus Bleicherweg / Beethovenstrasse 35</title>\r\n",
      "      <link>http://www.plszh.ch/plsNeu/parkhaus/bleicherweg.jsp?pid=bleicherweg</link>\r\n",
      "      <description>open /    7</description>\r\n",
      "      <guid>http://www.plszh.ch/plsNeu/parkhaus/bleicherweg.jsp?pid=bleicherweg</guid>\r\n",
      "    </item>\r\n",
      "    <item>\r\n",
      "      <title>Parkhaus Center Eleven / Sophie-Täuber-Strasse 4</title>\r\n",
      "      <link>http://www.plszh.ch/plsNeu/parkhaus/center_11.jsp?pid=center_11</link>\r\n",
      "      <description>open /  143</description>\r\n",
      "      <guid>http://www.plszh.ch/plsNeu/parkhaus/center_11.jsp?pid=center_11</guid>\r\n",
      "    </item>\r\n",
      "    <item>\r\n",
      "      <title>Parkhaus City Parking / Gessnerallee 14</title>\r\n",
      "      <link>http://www.plszh.ch/plsNeu/parkhaus/cp.jsp?pid=cp</link>\r\n",
      "      <description>open /  102</description>\r\n",
      "      <guid>http://www.plszh.ch/plsNeu/parkhaus/cp.jsp?pid=cp</guid>\r\n",
      "    </item>\r\n",
      "    <item>\r\n",
      "      <title>Parkhaus Cityport / Affolternstrasse 56</title>\r\n",
      "      <link>http://www.plszh.ch/plsNeu/parkhaus/cityport.jsp?pid=cityport</link>\r\n",
      "      <description>open /   17</description>\r\n",
      "      <guid>http://www.plszh.ch/plsNeu/parkhaus/cityport.jsp?pid=cityport</guid>\r\n",
      "    </item>\r\n",
      "    <item>\r\n",
      "      <title>Parkhaus Crowne Plaza / Badenerstrasse 420</title>\r\n",
      "      <link>http://www.plszh.ch/plsNeu/parkhaus/crowne_plaza.jsp?pid=crowne_plaza</link>\r\n",
      "      <description>open /  169</description>\r\n",
      "      <guid>http://www.plszh.ch/plsNeu/parkhaus/crowne_plaza.jsp?pid=crowne_plaza</guid>\r\n",
      "    </item>\r\n",
      "    <item>\r\n",
      "      <title>Parkhaus Dorflinde / Schwamendingenstrasse 31</title>\r\n",
      "      <link>http://www.plszh.ch/plsNeu/parkhaus/dorflinde.jsp?pid=dorflinde</link>\r\n",
      "      <description>open /   30</description>\r\n",
      "      <guid>http://www.plszh.ch/plsNeu/parkhaus/dorflinde.jsp?pid=dorflinde</guid>\r\n",
      "    </item>\r\n",
      "    <item>\r\n",
      "      <title>Parkhaus Feldegg / Riesbachstrasse 7</title>\r\n",
      "      <link>http://www.plszh.ch/plsNeu/parkhaus/feldegg.jsp?pid=feldegg</link>\r\n",
      "      <description>open /   24</description>\r\n",
      "      <guid>http://www.plszh.ch/plsNeu/parkhaus/feldegg.jsp?pid=feldegg</guid>\r\n",
      "    </item>\r\n",
      "    <item>\r\n",
      "      <title>Parkhaus Globus / Löwenstrasse 50</title>\r\n",
      "      <link>http://www.plszh.ch/plsNeu/parkhaus/globus.jsp?pid=globus</link>\r\n",
      "      <description>open /   19</description>\r\n",
      "      <guid>http://www.plszh.ch/plsNeu/parkhaus/globus.jsp?pid=globus</guid>\r\n",
      "    </item>\r\n",
      "    <item>\r\n",
      "      <title>Parkhaus Hardau II / Bullingerstrasse 73</title>\r\n",
      "      <link>http://www.plszh.ch/plsNeu/parkhaus/hardau.jsp?pid=hardau</link>\r\n",
      "      <description>open /   97</description>\r\n",
      "      <guid>http://www.plszh.ch/plsNeu/parkhaus/hardau.jsp?pid=hardau</guid>\r\n",
      "    </item>\r\n",
      "    <item>\r\n",
      "      <title>Parkhaus Hauptbahnhof / Sihlquai 41</title>\r\n",
      "      <link>http://www.plszh.ch/plsNeu/parkhaus/hb.jsp?pid=hb</link>\r\n",
      "      <description>open /   54</description>\r\n",
      "      <guid>http://www.plszh.ch/plsNeu/parkhaus/hb.jsp?pid=hb</guid>\r\n",
      "    </item>\r\n",
      "    <item>\r\n",
      "      <title>Parkhaus Hohe Promenade / Rämistrasse 22a</title>\r\n",
      "      <link>http://www.plszh.ch/plsNeu/parkhaus/promenade.jsp?pid=promenade</link>\r\n",
      "      <description>open /  285</description>\r\n",
      "      <guid>http://www.plszh.ch/plsNeu/parkhaus/promenade.jsp?pid=promenade</guid>\r\n",
      "    </item>\r\n",
      "    <item>\r\n",
      "      <title>Parkhaus Jelmoli / Steinmühleplatz 1</title>\r\n",
      "      <link>http://www.plszh.ch/plsNeu/parkhaus/jelmoli.jsp?pid=jelmoli</link>\r\n",
      "      <description>open /    0</description>\r\n",
      "      <guid>http://www.plszh.ch/plsNeu/parkhaus/jelmoli.jsp?pid=jelmoli</guid>\r\n",
      "    </item>\r\n",
      "    <item>\r\n",
      "      <title>Parkhaus Jungholz / Jungholzstrasse 19</title>\r\n",
      "      <link>http://www.plszh.ch/plsNeu/parkhaus/jungholz.jsp?pid=jungholz</link>\r\n",
      "      <description>open /   89</description>\r\n",
      "      <guid>http://www.plszh.ch/plsNeu/parkhaus/jungholz.jsp?pid=jungholz</guid>\r\n",
      "    </item>\r\n",
      "    <item>\r\n",
      "      <title>Parkhaus Max-Bill-Platz / Armin-Bollinger-Weg</title>\r\n",
      "      <link>http://www.plszh.ch/plsNeu/parkhaus/max_bill_platz.jsp?pid=max_bill_platz</link>\r\n",
      "      <description>open /   76</description>\r\n",
      "      <guid>http://www.plszh.ch/plsNeu/parkhaus/max_bill_platz.jsp?pid=max_bill_platz</guid>\r\n",
      "    </item>\r\n",
      "    <item>\r\n",
      "      <title>Parkhaus Messe Zürich AG / Andreasstrasse 65</title>\r\n",
      "      <link>http://www.plszh.ch/plsNeu/parkhaus/messe.jsp?pid=messe</link>\r\n",
      "      <description>open /  999</description>\r\n",
      "      <guid>http://www.plszh.ch/plsNeu/parkhaus/messe.jsp?pid=messe</guid>\r\n",
      "    </item>\r\n",
      "    <item>\r\n",
      "      <title>Parkhaus Nordhaus / Siewerdtstrasse 8</title>\r\n",
      "      <link>http://www.plszh.ch/plsNeu/parkhaus/nordhaus.jsp?pid=nordhaus</link>\r\n",
      "      <description>open /   35</description>\r\n",
      "      <guid>http://www.plszh.ch/plsNeu/parkhaus/nordhaus.jsp?pid=nordhaus</guid>\r\n",
      "    </item>\r\n",
      "    <item>\r\n",
      "      <title>Parkhaus Octavo / Brown-Boveri-Strasse 2</title>\r\n",
      "      <link>http://www.plszh.ch/plsNeu/parkhaus/octavo.jsp?pid=octavo</link>\r\n",
      "      <description>open /  107</description>\r\n",
      "      <guid>http://www.plszh.ch/plsNeu/parkhaus/octavo.jsp?pid=octavo</guid>\r\n",
      "    </item>\r\n",
      "    <item>\r\n",
      "      <title>Parkhaus Opéra / Schillerstrasse 5</title>\r\n",
      "      <link>http://www.plszh.ch/plsNeu/parkhaus/opera.jsp?pid=opera</link>\r\n",
      "      <description>open /   78</description>\r\n",
      "      <guid>http://www.plszh.ch/plsNeu/parkhaus/opera.jsp?pid=opera</guid>\r\n",
      "    </item>\r\n",
      "    <item>\r\n",
      "      <title>Parkhaus P West / Förrlibuckstrasse 151</title>\r\n",
      "      <link>http://www.plszh.ch/plsNeu/parkhaus/p_west.jsp?pid=p_west</link>\r\n",
      "      <description>open /  254</description>\r\n",
      "      <guid>http://www.plszh.ch/plsNeu/parkhaus/p_west.jsp?pid=p_west</guid>\r\n",
      "    </item>\r\n",
      "    <item>\r\n",
      "      <title>Parkhaus Park Hyatt / Beethovenstrasse 21</title>\r\n",
      "      <link>http://www.plszh.ch/plsNeu/parkhaus/park_hyatt.jsp?pid=park_hyatt</link>\r\n",
      "      <description>open /   97</description>\r\n",
      "      <guid>http://www.plszh.ch/plsNeu/parkhaus/park_hyatt.jsp?pid=park_hyatt</guid>\r\n",
      "    </item>\r\n",
      "    <item>\r\n",
      "      <title>Parkhaus Parkside / Sophie-Täuber-Strasse 10</title>\r\n",
      "      <link>http://www.plszh.ch/plsNeu/parkhaus/parkside.jsp?pid=parkside</link>\r\n",
      "      <description>open /    0</description>\r\n",
      "      <guid>http://www.plszh.ch/plsNeu/parkhaus/parkside.jsp?pid=parkside</guid>\r\n",
      "    </item>\r\n",
      "    <item>\r\n",
      "      <title>Parkhaus Pfingstweid / Pfingstweidstrasse 1</title>\r\n",
      "      <link>http://www.plszh.ch/plsNeu/parkhaus/pfingstweid.jsp?pid=pfingstweid</link>\r\n",
      "      <description>open /   65</description>\r\n",
      "      <guid>http://www.plszh.ch/plsNeu/parkhaus/pfingstweid.jsp?pid=pfingstweid</guid>\r\n",
      "    </item>\r\n",
      "    <item>\r\n",
      "      <title>Parkhaus Stampfenbach / Niklausstrasse 1</title>\r\n",
      "      <link>http://www.plszh.ch/plsNeu/parkhaus/stampfenbach.jsp?pid=stampfenbach</link>\r\n",
      "      <description>open /   87</description>\r\n",
      "      <guid>http://www.plszh.ch/plsNeu/parkhaus/stampfenbach.jsp?pid=stampfenbach</guid>\r\n",
      "    </item>\r\n",
      "    <item>\r\n",
      "      <title>Parkhaus Talgarten / Nüschelerstrasse 31</title>\r\n",
      "      <link>http://www.plszh.ch/plsNeu/parkhaus/talgarten.jsp?pid=talgarten</link>\r\n",
      "      <description>open /    6</description>\r\n",
      "      <guid>http://www.plszh.ch/plsNeu/parkhaus/talgarten.jsp?pid=talgarten</guid>\r\n",
      "    </item>\r\n",
      "    <item>\r\n",
      "      <title>Parkhaus USZ Nord / Frauenklinikstrasse</title>\r\n",
      "      <link>http://www.plszh.ch/plsNeu/parkhaus/unispital_nord.jsp?pid=unispital_nord</link>\r\n",
      "      <description>open /    1</description>\r\n",
      "      <guid>http://www.plszh.ch/plsNeu/parkhaus/unispital_nord.jsp?pid=unispital_nord</guid>\r\n",
      "    </item>\r\n",
      "    <item>\r\n",
      "      <title>Parkhaus Uni Irchel / Winterthurerstrasse 181</title>\r\n",
      "      <link>http://www.plszh.ch/plsNeu/parkhaus/uni_irchel.jsp?pid=uni_irchel</link>\r\n",
      "      <description>open /  414</description>\r\n",
      "      <guid>http://www.plszh.ch/plsNeu/parkhaus/uni_irchel.jsp?pid=uni_irchel</guid>\r\n",
      "    </item>\r\n",
      "    <item>\r\n",
      "      <title>Parkhaus Urania / Uraniastrasse 3</title>\r\n",
      "      <link>http://www.plszh.ch/plsNeu/parkhaus/urania.jsp?pid=urania</link>\r\n",
      "      <description>open /  117</description>\r\n",
      "      <guid>http://www.plszh.ch/plsNeu/parkhaus/urania.jsp?pid=urania</guid>\r\n",
      "    </item>\r\n",
      "    <item>\r\n",
      "      <title>Parkhaus Utoquai / Färberstrasse 6</title>\r\n",
      "      <link>http://www.plszh.ch/plsNeu/parkhaus/utoquai.jsp?pid=utoquai</link>\r\n",
      "      <description>open /   22</description>\r\n",
      "      <guid>http://www.plszh.ch/plsNeu/parkhaus/utoquai.jsp?pid=utoquai</guid>\r\n",
      "    </item>\r\n",
      "    <item>\r\n",
      "      <title>Parkhaus Züri 11 Shopping / Nansenstrasse 5/7</title>\r\n",
      "      <link>http://www.plszh.ch/plsNeu/parkhaus/zueri11.jsp?pid=zueri11</link>\r\n",
      "      <description>open /    6</description>\r\n",
      "      <guid>http://www.plszh.ch/plsNeu/parkhaus/zueri11.jsp?pid=zueri11</guid>\r\n",
      "    </item>\r\n",
      "    <item>\r\n",
      "      <title>Parkhaus Zürichhorn / Dufourstrasse 142</title>\r\n",
      "      <link>http://www.plszh.ch/plsNeu/parkhaus/zuerichhorn.jsp?pid=zuerichhorn</link>\r\n",
      "      <description>open /   37</description>\r\n",
      "      <guid>http://www.plszh.ch/plsNeu/parkhaus/zuerichhorn.jsp?pid=zuerichhorn</guid>\r\n",
      "    </item>\r\n",
      "    <item>\r\n",
      "      <title>Parkplatz Eisfeld / Thurgauerstrasse 54</title>\r\n",
      "      <link>http://www.plszh.ch/plsNeu/parkhaus/eisfeld.jsp?pid=eisfeld</link>\r\n",
      "      <description>open /   36</description>\r\n",
      "      <guid>http://www.plszh.ch/plsNeu/parkhaus/eisfeld.jsp?pid=eisfeld</guid>\r\n",
      "    </item>\r\n",
      "    <item>\r\n",
      "      <title>Parkplatz Theater 11 / Dörfli-/Thurgauerstrasse</title>\r\n",
      "      <link>http://www.plszh.ch/plsNeu/parkhaus/theater_11.jsp?pid=theater_11</link>\r\n",
      "      <description>open /  138</description>\r\n",
      "      <guid>http://www.plszh.ch/plsNeu/parkhaus/theater_11.jsp?pid=theater_11</guid>\r\n",
      "    </item>\r\n",
      "    <item>\r\n",
      "      <title>Parkplatz USZ Süd / Gloriastrasse</title>\r\n",
      "      <link>http://www.plszh.ch/plsNeu/parkhaus/unispital_sued.jsp?pid=unispital_sued</link>\r\n",
      "      <description>open /    0</description>\r\n",
      "      <guid>http://www.plszh.ch/plsNeu/parkhaus/unispital_sued.jsp?pid=unispital_sued</guid>\r\n",
      "    </item>\r\n",
      "    <item>\r\n",
      "      <title>Puls 5 Parkgarage / Giessereistrasse 18</title>\r\n",
      "      <link>http://www.plszh.ch/plsNeu/parkhaus/puls5.jsp?pid=puls5</link>\r\n",
      "      <description>open /   16</description>\r\n",
      "      <guid>http://www.plszh.ch/plsNeu/parkhaus/puls5.jsp?pid=puls5</guid>\r\n",
      "    </item>\r\n",
      "  </channel>\r\n",
      "</rss>\r\n",
      "\r\n",
      "\n"
     ]
    }
   ],
   "source": [
    "print(r.text)"
   ]
  },
  {
   "cell_type": "code",
   "execution_count": 51,
   "metadata": {},
   "outputs": [],
   "source": [
    "inhalt=r.text\n",
    "suppe=BeautifulSoup(inhalt,\"xml\")\n",
    "namen= suppe.find_all(\"title\")\n",
    "links= suppe.find_all(\"link\")\n",
    "anzahl=suppe.find_all(\"description\")"
   ]
  },
  {
   "cell_type": "code",
   "execution_count": 52,
   "metadata": {},
   "outputs": [
    {
     "data": {
      "text/plain": [
       "[<description>http://www.plszh.ch/plsFeed/rss?type=rss_0.92 | rss_0.93 | rss_0.94 | rss_1.0 | rss_2.0 (=default) | atom_0.3 | atom_1.0</description>,\n",
       " <description>open /    1</description>,\n",
       " <description>open /  130</description>,\n",
       " <description>open /   56</description>,\n",
       " <description>open /    4</description>,\n",
       " <description>open /  146</description>,\n",
       " <description>open /  109</description>,\n",
       " <description>open /   19</description>,\n",
       " <description>open /  168</description>,\n",
       " <description>open /   32</description>,\n",
       " <description>open /   32</description>,\n",
       " <description>open /   24</description>,\n",
       " <description>open /   98</description>,\n",
       " <description>open /   63</description>,\n",
       " <description>open /  290</description>,\n",
       " <description>open /   26</description>,\n",
       " <description>open /   86</description>,\n",
       " <description>open /   77</description>,\n",
       " <description>open /  999</description>,\n",
       " <description>open /   40</description>,\n",
       " <description>open /  106</description>,\n",
       " <description>open /   75</description>,\n",
       " <description>open /  258</description>,\n",
       " <description>open /  107</description>,\n",
       " <description>open /    0</description>,\n",
       " <description>open /   64</description>,\n",
       " <description>open /   85</description>,\n",
       " <description>open /    3</description>,\n",
       " <description>open /   16</description>,\n",
       " <description>open /  429</description>,\n",
       " <description>open /  127</description>,\n",
       " <description>open /   22</description>,\n",
       " <description>open /   11</description>,\n",
       " <description>open /   37</description>,\n",
       " <description>open /   42</description>,\n",
       " <description>open /  133</description>,\n",
       " <description>open /    1</description>,\n",
       " <description>open /   16</description>]"
      ]
     },
     "execution_count": 52,
     "metadata": {},
     "output_type": "execute_result"
    }
   ],
   "source": [
    "anzahl"
   ]
  },
  {
   "cell_type": "code",
   "execution_count": 77,
   "metadata": {},
   "outputs": [
    {
     "name": "stdout",
     "output_type": "stream",
     "text": [
      "[{'Titel': 'FEED Parkleitsystem Stadt Zürich', 'Link': 'http://www.plszh.ch/plsFeed/rss', 'Freie Plätze': '0'}, {'Titel': 'Parkgarage am Central / Seilergraben', 'Link': 'http://www.plszh.ch/plsNeu/parkhaus/central.jsp?pid=central', 'Freie Plätze': '1'}, {'Titel': 'Parkhaus Accu / Otto-Schütz-Weg', 'Link': 'http://www.plszh.ch/plsNeu/parkhaus/accu.jsp?pid=accu', 'Freie Plätze': '130'}, {'Titel': 'Parkhaus Albisriederplatz / Badenerstrasse 380', 'Link': 'http://www.plszh.ch/plsNeu/parkhaus/albisriederplatz.jsp?pid=albisriederplatz', 'Freie Plätze': '56'}, {'Titel': 'Parkhaus Bleicherweg / Beethovenstrasse 35', 'Link': 'http://www.plszh.ch/plsNeu/parkhaus/bleicherweg.jsp?pid=bleicherweg', 'Freie Plätze': '4'}, {'Titel': 'Parkhaus Center Eleven / Sophie-Täuber-Strasse 4', 'Link': 'http://www.plszh.ch/plsNeu/parkhaus/center_11.jsp?pid=center_11', 'Freie Plätze': '146'}, {'Titel': 'Parkhaus City Parking / Gessnerallee 14', 'Link': 'http://www.plszh.ch/plsNeu/parkhaus/cp.jsp?pid=cp', 'Freie Plätze': '109'}, {'Titel': 'Parkhaus Cityport / Affolternstrasse 56', 'Link': 'http://www.plszh.ch/plsNeu/parkhaus/cityport.jsp?pid=cityport', 'Freie Plätze': '19'}, {'Titel': 'Parkhaus Crowne Plaza / Badenerstrasse 420', 'Link': 'http://www.plszh.ch/plsNeu/parkhaus/crowne_plaza.jsp?pid=crowne_plaza', 'Freie Plätze': '168'}, {'Titel': 'Parkhaus Dorflinde / Schwamendingenstrasse 31', 'Link': 'http://www.plszh.ch/plsNeu/parkhaus/dorflinde.jsp?pid=dorflinde', 'Freie Plätze': '32'}, {'Titel': 'Parkhaus Feldegg / Riesbachstrasse 7', 'Link': 'http://www.plszh.ch/plsNeu/parkhaus/feldegg.jsp?pid=feldegg', 'Freie Plätze': '32'}, {'Titel': 'Parkhaus Globus / Löwenstrasse 50', 'Link': 'http://www.plszh.ch/plsNeu/parkhaus/globus.jsp?pid=globus', 'Freie Plätze': '24'}, {'Titel': 'Parkhaus Hardau II / Bullingerstrasse 73', 'Link': 'http://www.plszh.ch/plsNeu/parkhaus/hardau.jsp?pid=hardau', 'Freie Plätze': '98'}, {'Titel': 'Parkhaus Hauptbahnhof / Sihlquai 41', 'Link': 'http://www.plszh.ch/plsNeu/parkhaus/hb.jsp?pid=hb', 'Freie Plätze': '63'}, {'Titel': 'Parkhaus Hohe Promenade / Rämistrasse 22a', 'Link': 'http://www.plszh.ch/plsNeu/parkhaus/promenade.jsp?pid=promenade', 'Freie Plätze': '290'}, {'Titel': 'Parkhaus Jelmoli / Steinmühleplatz 1', 'Link': 'http://www.plszh.ch/plsNeu/parkhaus/jelmoli.jsp?pid=jelmoli', 'Freie Plätze': '26'}, {'Titel': 'Parkhaus Jungholz / Jungholzstrasse 19', 'Link': 'http://www.plszh.ch/plsNeu/parkhaus/jungholz.jsp?pid=jungholz', 'Freie Plätze': '86'}, {'Titel': 'Parkhaus Max-Bill-Platz / Armin-Bollinger-Weg', 'Link': 'http://www.plszh.ch/plsNeu/parkhaus/max_bill_platz.jsp?pid=max_bill_platz', 'Freie Plätze': '77'}, {'Titel': 'Parkhaus Messe Zürich AG / Andreasstrasse 65', 'Link': 'http://www.plszh.ch/plsNeu/parkhaus/messe.jsp?pid=messe', 'Freie Plätze': '999'}, {'Titel': 'Parkhaus Nordhaus / Siewerdtstrasse 8', 'Link': 'http://www.plszh.ch/plsNeu/parkhaus/nordhaus.jsp?pid=nordhaus', 'Freie Plätze': '40'}, {'Titel': 'Parkhaus Octavo / Brown-Boveri-Strasse 2', 'Link': 'http://www.plszh.ch/plsNeu/parkhaus/octavo.jsp?pid=octavo', 'Freie Plätze': '106'}, {'Titel': 'Parkhaus Opéra / Schillerstrasse 5', 'Link': 'http://www.plszh.ch/plsNeu/parkhaus/opera.jsp?pid=opera', 'Freie Plätze': '75'}, {'Titel': 'Parkhaus P West / Förrlibuckstrasse 151', 'Link': 'http://www.plszh.ch/plsNeu/parkhaus/p_west.jsp?pid=p_west', 'Freie Plätze': '258'}, {'Titel': 'Parkhaus Park Hyatt / Beethovenstrasse 21', 'Link': 'http://www.plszh.ch/plsNeu/parkhaus/park_hyatt.jsp?pid=park_hyatt', 'Freie Plätze': '107'}, {'Titel': 'Parkhaus Parkside / Sophie-Täuber-Strasse 10', 'Link': 'http://www.plszh.ch/plsNeu/parkhaus/parkside.jsp?pid=parkside', 'Freie Plätze': '0'}, {'Titel': 'Parkhaus Pfingstweid / Pfingstweidstrasse 1', 'Link': 'http://www.plszh.ch/plsNeu/parkhaus/pfingstweid.jsp?pid=pfingstweid', 'Freie Plätze': '64'}, {'Titel': 'Parkhaus Stampfenbach / Niklausstrasse 1', 'Link': 'http://www.plszh.ch/plsNeu/parkhaus/stampfenbach.jsp?pid=stampfenbach', 'Freie Plätze': '85'}, {'Titel': 'Parkhaus Talgarten / Nüschelerstrasse 31', 'Link': 'http://www.plszh.ch/plsNeu/parkhaus/talgarten.jsp?pid=talgarten', 'Freie Plätze': '3'}, {'Titel': 'Parkhaus USZ Nord / Frauenklinikstrasse', 'Link': 'http://www.plszh.ch/plsNeu/parkhaus/unispital_nord.jsp?pid=unispital_nord', 'Freie Plätze': '16'}, {'Titel': 'Parkhaus Uni Irchel / Winterthurerstrasse 181', 'Link': 'http://www.plszh.ch/plsNeu/parkhaus/uni_irchel.jsp?pid=uni_irchel', 'Freie Plätze': '429'}, {'Titel': 'Parkhaus Urania / Uraniastrasse 3', 'Link': 'http://www.plszh.ch/plsNeu/parkhaus/urania.jsp?pid=urania', 'Freie Plätze': '127'}, {'Titel': 'Parkhaus Utoquai / Färberstrasse 6', 'Link': 'http://www.plszh.ch/plsNeu/parkhaus/utoquai.jsp?pid=utoquai', 'Freie Plätze': '22'}, {'Titel': 'Parkhaus Züri 11 Shopping / Nansenstrasse 5/7', 'Link': 'http://www.plszh.ch/plsNeu/parkhaus/zueri11.jsp?pid=zueri11', 'Freie Plätze': '11'}, {'Titel': 'Parkhaus Zürichhorn / Dufourstrasse 142', 'Link': 'http://www.plszh.ch/plsNeu/parkhaus/zuerichhorn.jsp?pid=zuerichhorn', 'Freie Plätze': '37'}, {'Titel': 'Parkplatz Eisfeld / Thurgauerstrasse 54', 'Link': 'http://www.plszh.ch/plsNeu/parkhaus/eisfeld.jsp?pid=eisfeld', 'Freie Plätze': '42'}, {'Titel': 'Parkplatz Theater 11 / Dörfli-/Thurgauerstrasse', 'Link': 'http://www.plszh.ch/plsNeu/parkhaus/theater_11.jsp?pid=theater_11', 'Freie Plätze': '133'}, {'Titel': 'Parkplatz USZ Süd / Gloriastrasse', 'Link': 'http://www.plszh.ch/plsNeu/parkhaus/unispital_sued.jsp?pid=unispital_sued', 'Freie Plätze': '1'}, {'Titel': 'Puls 5 Parkgarage / Giessereistrasse 18', 'Link': 'http://www.plszh.ch/plsNeu/parkhaus/puls5.jsp?pid=puls5', 'Freie Plätze': '16'}]\n"
     ]
    }
   ],
   "source": [
    "list1=[]\n",
    "for titel_ph,link_ph,freie_pp in zip(namen,links,anzahl):\n",
    "    a = re.findall(\"[0-9]+\",freie_pp.text)[0]\n",
    "    mini_dictio={\"Titel\":titel_ph.text,\"Link\":link_ph.text, \"Freie Plätze\":a}\n",
    "    list1.append(mini_dictio)\n",
    "    \n",
    "print(list1)"
   ]
  },
  {
   "cell_type": "markdown",
   "metadata": {},
   "source": [
    "#### 4. Ziehen wir alle Links heraus und machen daraus eine Liste"
   ]
  },
  {
   "cell_type": "code",
   "execution_count": null,
   "metadata": {
    "collapsed": true
   },
   "outputs": [],
   "source": []
  },
  {
   "cell_type": "markdown",
   "metadata": {},
   "source": [
    "#### 5. Nun bauen wir eine Dictionary aus den beiden Listen mit dem ersten Key \"Datum\" und zweiten Key \"URL\"."
   ]
  },
  {
   "cell_type": "code",
   "execution_count": null,
   "metadata": {
    "collapsed": true
   },
   "outputs": [],
   "source": []
  },
  {
   "cell_type": "markdown",
   "metadata": {},
   "source": [
    "#### 6. Schliesslich machen wir daraus einen DataFrame (eine für uns Menschen lesbare Tabelle) und speichern das Ergebnis ab."
   ]
  },
  {
   "cell_type": "code",
   "execution_count": 78,
   "metadata": {},
   "outputs": [
    {
     "data": {
      "text/plain": [
       "[{'Titel': 'FEED Parkleitsystem Stadt Zürich',\n",
       "  'Link': 'http://www.plszh.ch/plsFeed/rss',\n",
       "  'Freie Plätze': '0'},\n",
       " {'Titel': 'Parkgarage am Central / Seilergraben',\n",
       "  'Link': 'http://www.plszh.ch/plsNeu/parkhaus/central.jsp?pid=central',\n",
       "  'Freie Plätze': '1'},\n",
       " {'Titel': 'Parkhaus Accu / Otto-Schütz-Weg',\n",
       "  'Link': 'http://www.plszh.ch/plsNeu/parkhaus/accu.jsp?pid=accu',\n",
       "  'Freie Plätze': '130'},\n",
       " {'Titel': 'Parkhaus Albisriederplatz / Badenerstrasse 380',\n",
       "  'Link': 'http://www.plszh.ch/plsNeu/parkhaus/albisriederplatz.jsp?pid=albisriederplatz',\n",
       "  'Freie Plätze': '56'},\n",
       " {'Titel': 'Parkhaus Bleicherweg / Beethovenstrasse 35',\n",
       "  'Link': 'http://www.plszh.ch/plsNeu/parkhaus/bleicherweg.jsp?pid=bleicherweg',\n",
       "  'Freie Plätze': '4'},\n",
       " {'Titel': 'Parkhaus Center Eleven / Sophie-Täuber-Strasse 4',\n",
       "  'Link': 'http://www.plszh.ch/plsNeu/parkhaus/center_11.jsp?pid=center_11',\n",
       "  'Freie Plätze': '146'},\n",
       " {'Titel': 'Parkhaus City Parking / Gessnerallee 14',\n",
       "  'Link': 'http://www.plszh.ch/plsNeu/parkhaus/cp.jsp?pid=cp',\n",
       "  'Freie Plätze': '109'},\n",
       " {'Titel': 'Parkhaus Cityport / Affolternstrasse 56',\n",
       "  'Link': 'http://www.plszh.ch/plsNeu/parkhaus/cityport.jsp?pid=cityport',\n",
       "  'Freie Plätze': '19'},\n",
       " {'Titel': 'Parkhaus Crowne Plaza / Badenerstrasse 420',\n",
       "  'Link': 'http://www.plszh.ch/plsNeu/parkhaus/crowne_plaza.jsp?pid=crowne_plaza',\n",
       "  'Freie Plätze': '168'},\n",
       " {'Titel': 'Parkhaus Dorflinde / Schwamendingenstrasse 31',\n",
       "  'Link': 'http://www.plszh.ch/plsNeu/parkhaus/dorflinde.jsp?pid=dorflinde',\n",
       "  'Freie Plätze': '32'},\n",
       " {'Titel': 'Parkhaus Feldegg / Riesbachstrasse 7',\n",
       "  'Link': 'http://www.plszh.ch/plsNeu/parkhaus/feldegg.jsp?pid=feldegg',\n",
       "  'Freie Plätze': '32'},\n",
       " {'Titel': 'Parkhaus Globus / Löwenstrasse 50',\n",
       "  'Link': 'http://www.plszh.ch/plsNeu/parkhaus/globus.jsp?pid=globus',\n",
       "  'Freie Plätze': '24'},\n",
       " {'Titel': 'Parkhaus Hardau II / Bullingerstrasse 73',\n",
       "  'Link': 'http://www.plszh.ch/plsNeu/parkhaus/hardau.jsp?pid=hardau',\n",
       "  'Freie Plätze': '98'},\n",
       " {'Titel': 'Parkhaus Hauptbahnhof / Sihlquai 41',\n",
       "  'Link': 'http://www.plszh.ch/plsNeu/parkhaus/hb.jsp?pid=hb',\n",
       "  'Freie Plätze': '63'},\n",
       " {'Titel': 'Parkhaus Hohe Promenade / Rämistrasse 22a',\n",
       "  'Link': 'http://www.plszh.ch/plsNeu/parkhaus/promenade.jsp?pid=promenade',\n",
       "  'Freie Plätze': '290'},\n",
       " {'Titel': 'Parkhaus Jelmoli / Steinmühleplatz 1',\n",
       "  'Link': 'http://www.plszh.ch/plsNeu/parkhaus/jelmoli.jsp?pid=jelmoli',\n",
       "  'Freie Plätze': '26'},\n",
       " {'Titel': 'Parkhaus Jungholz / Jungholzstrasse 19',\n",
       "  'Link': 'http://www.plszh.ch/plsNeu/parkhaus/jungholz.jsp?pid=jungholz',\n",
       "  'Freie Plätze': '86'},\n",
       " {'Titel': 'Parkhaus Max-Bill-Platz / Armin-Bollinger-Weg',\n",
       "  'Link': 'http://www.plszh.ch/plsNeu/parkhaus/max_bill_platz.jsp?pid=max_bill_platz',\n",
       "  'Freie Plätze': '77'},\n",
       " {'Titel': 'Parkhaus Messe Zürich AG / Andreasstrasse 65',\n",
       "  'Link': 'http://www.plszh.ch/plsNeu/parkhaus/messe.jsp?pid=messe',\n",
       "  'Freie Plätze': '999'},\n",
       " {'Titel': 'Parkhaus Nordhaus / Siewerdtstrasse 8',\n",
       "  'Link': 'http://www.plszh.ch/plsNeu/parkhaus/nordhaus.jsp?pid=nordhaus',\n",
       "  'Freie Plätze': '40'},\n",
       " {'Titel': 'Parkhaus Octavo / Brown-Boveri-Strasse 2',\n",
       "  'Link': 'http://www.plszh.ch/plsNeu/parkhaus/octavo.jsp?pid=octavo',\n",
       "  'Freie Plätze': '106'},\n",
       " {'Titel': 'Parkhaus Opéra / Schillerstrasse 5',\n",
       "  'Link': 'http://www.plszh.ch/plsNeu/parkhaus/opera.jsp?pid=opera',\n",
       "  'Freie Plätze': '75'},\n",
       " {'Titel': 'Parkhaus P West / Förrlibuckstrasse 151',\n",
       "  'Link': 'http://www.plszh.ch/plsNeu/parkhaus/p_west.jsp?pid=p_west',\n",
       "  'Freie Plätze': '258'},\n",
       " {'Titel': 'Parkhaus Park Hyatt / Beethovenstrasse 21',\n",
       "  'Link': 'http://www.plszh.ch/plsNeu/parkhaus/park_hyatt.jsp?pid=park_hyatt',\n",
       "  'Freie Plätze': '107'},\n",
       " {'Titel': 'Parkhaus Parkside / Sophie-Täuber-Strasse 10',\n",
       "  'Link': 'http://www.plszh.ch/plsNeu/parkhaus/parkside.jsp?pid=parkside',\n",
       "  'Freie Plätze': '0'},\n",
       " {'Titel': 'Parkhaus Pfingstweid / Pfingstweidstrasse 1',\n",
       "  'Link': 'http://www.plszh.ch/plsNeu/parkhaus/pfingstweid.jsp?pid=pfingstweid',\n",
       "  'Freie Plätze': '64'},\n",
       " {'Titel': 'Parkhaus Stampfenbach / Niklausstrasse 1',\n",
       "  'Link': 'http://www.plszh.ch/plsNeu/parkhaus/stampfenbach.jsp?pid=stampfenbach',\n",
       "  'Freie Plätze': '85'},\n",
       " {'Titel': 'Parkhaus Talgarten / Nüschelerstrasse 31',\n",
       "  'Link': 'http://www.plszh.ch/plsNeu/parkhaus/talgarten.jsp?pid=talgarten',\n",
       "  'Freie Plätze': '3'},\n",
       " {'Titel': 'Parkhaus USZ Nord / Frauenklinikstrasse',\n",
       "  'Link': 'http://www.plszh.ch/plsNeu/parkhaus/unispital_nord.jsp?pid=unispital_nord',\n",
       "  'Freie Plätze': '16'},\n",
       " {'Titel': 'Parkhaus Uni Irchel / Winterthurerstrasse 181',\n",
       "  'Link': 'http://www.plszh.ch/plsNeu/parkhaus/uni_irchel.jsp?pid=uni_irchel',\n",
       "  'Freie Plätze': '429'},\n",
       " {'Titel': 'Parkhaus Urania / Uraniastrasse 3',\n",
       "  'Link': 'http://www.plszh.ch/plsNeu/parkhaus/urania.jsp?pid=urania',\n",
       "  'Freie Plätze': '127'},\n",
       " {'Titel': 'Parkhaus Utoquai / Färberstrasse 6',\n",
       "  'Link': 'http://www.plszh.ch/plsNeu/parkhaus/utoquai.jsp?pid=utoquai',\n",
       "  'Freie Plätze': '22'},\n",
       " {'Titel': 'Parkhaus Züri 11 Shopping / Nansenstrasse 5/7',\n",
       "  'Link': 'http://www.plszh.ch/plsNeu/parkhaus/zueri11.jsp?pid=zueri11',\n",
       "  'Freie Plätze': '11'},\n",
       " {'Titel': 'Parkhaus Zürichhorn / Dufourstrasse 142',\n",
       "  'Link': 'http://www.plszh.ch/plsNeu/parkhaus/zuerichhorn.jsp?pid=zuerichhorn',\n",
       "  'Freie Plätze': '37'},\n",
       " {'Titel': 'Parkplatz Eisfeld / Thurgauerstrasse 54',\n",
       "  'Link': 'http://www.plszh.ch/plsNeu/parkhaus/eisfeld.jsp?pid=eisfeld',\n",
       "  'Freie Plätze': '42'},\n",
       " {'Titel': 'Parkplatz Theater 11 / Dörfli-/Thurgauerstrasse',\n",
       "  'Link': 'http://www.plszh.ch/plsNeu/parkhaus/theater_11.jsp?pid=theater_11',\n",
       "  'Freie Plätze': '133'},\n",
       " {'Titel': 'Parkplatz USZ Süd / Gloriastrasse',\n",
       "  'Link': 'http://www.plszh.ch/plsNeu/parkhaus/unispital_sued.jsp?pid=unispital_sued',\n",
       "  'Freie Plätze': '1'},\n",
       " {'Titel': 'Puls 5 Parkgarage / Giessereistrasse 18',\n",
       "  'Link': 'http://www.plszh.ch/plsNeu/parkhaus/puls5.jsp?pid=puls5',\n",
       "  'Freie Plätze': '16'}]"
      ]
     },
     "execution_count": 78,
     "metadata": {},
     "output_type": "execute_result"
    }
   ],
   "source": [
    "list1"
   ]
  },
  {
   "cell_type": "code",
   "execution_count": 79,
   "metadata": {},
   "outputs": [
    {
     "data": {
      "text/html": [
       "<div>\n",
       "<style scoped>\n",
       "    .dataframe tbody tr th:only-of-type {\n",
       "        vertical-align: middle;\n",
       "    }\n",
       "\n",
       "    .dataframe tbody tr th {\n",
       "        vertical-align: top;\n",
       "    }\n",
       "\n",
       "    .dataframe thead th {\n",
       "        text-align: right;\n",
       "    }\n",
       "</style>\n",
       "<table border=\"1\" class=\"dataframe\">\n",
       "  <thead>\n",
       "    <tr style=\"text-align: right;\">\n",
       "      <th></th>\n",
       "      <th>Freie Plätze</th>\n",
       "      <th>Link</th>\n",
       "      <th>Titel</th>\n",
       "    </tr>\n",
       "  </thead>\n",
       "  <tbody>\n",
       "    <tr>\n",
       "      <th>0</th>\n",
       "      <td>0</td>\n",
       "      <td>http://www.plszh.ch/plsFeed/rss</td>\n",
       "      <td>FEED Parkleitsystem Stadt Zürich</td>\n",
       "    </tr>\n",
       "    <tr>\n",
       "      <th>1</th>\n",
       "      <td>1</td>\n",
       "      <td>http://www.plszh.ch/plsNeu/parkhaus/central.js...</td>\n",
       "      <td>Parkgarage am Central / Seilergraben</td>\n",
       "    </tr>\n",
       "    <tr>\n",
       "      <th>2</th>\n",
       "      <td>130</td>\n",
       "      <td>http://www.plszh.ch/plsNeu/parkhaus/accu.jsp?p...</td>\n",
       "      <td>Parkhaus Accu / Otto-Schütz-Weg</td>\n",
       "    </tr>\n",
       "    <tr>\n",
       "      <th>3</th>\n",
       "      <td>56</td>\n",
       "      <td>http://www.plszh.ch/plsNeu/parkhaus/albisriede...</td>\n",
       "      <td>Parkhaus Albisriederplatz / Badenerstrasse 380</td>\n",
       "    </tr>\n",
       "    <tr>\n",
       "      <th>4</th>\n",
       "      <td>4</td>\n",
       "      <td>http://www.plszh.ch/plsNeu/parkhaus/bleicherwe...</td>\n",
       "      <td>Parkhaus Bleicherweg / Beethovenstrasse 35</td>\n",
       "    </tr>\n",
       "  </tbody>\n",
       "</table>\n",
       "</div>"
      ],
      "text/plain": [
       "  Freie Plätze                                               Link  \\\n",
       "0            0                    http://www.plszh.ch/plsFeed/rss   \n",
       "1            1  http://www.plszh.ch/plsNeu/parkhaus/central.js...   \n",
       "2          130  http://www.plszh.ch/plsNeu/parkhaus/accu.jsp?p...   \n",
       "3           56  http://www.plszh.ch/plsNeu/parkhaus/albisriede...   \n",
       "4            4  http://www.plszh.ch/plsNeu/parkhaus/bleicherwe...   \n",
       "\n",
       "                                            Titel  \n",
       "0                FEED Parkleitsystem Stadt Zürich  \n",
       "1            Parkgarage am Central / Seilergraben  \n",
       "2                 Parkhaus Accu / Otto-Schütz-Weg  \n",
       "3  Parkhaus Albisriederplatz / Badenerstrasse 380  \n",
       "4      Parkhaus Bleicherweg / Beethovenstrasse 35  "
      ]
     },
     "execution_count": 79,
     "metadata": {},
     "output_type": "execute_result"
    }
   ],
   "source": [
    "pd.DataFrame(list1).head()"
   ]
  },
  {
   "cell_type": "code",
   "execution_count": 69,
   "metadata": {},
   "outputs": [
    {
     "data": {
      "text/plain": [
       "<description>open /   16</description>"
      ]
     },
     "execution_count": 69,
     "metadata": {},
     "output_type": "execute_result"
    }
   ],
   "source": []
  },
  {
   "cell_type": "code",
   "execution_count": 85,
   "metadata": {},
   "outputs": [
    {
     "ename": "IndexError",
     "evalue": "string index out of range",
     "output_type": "error",
     "traceback": [
      "\u001b[1;31m---------------------------------------------------------------------------\u001b[0m",
      "\u001b[1;31mIndexError\u001b[0m                                Traceback (most recent call last)",
      "\u001b[1;32m<ipython-input-85-7d61c10e5ef5>\u001b[0m in \u001b[0;36m<module>\u001b[1;34m\u001b[0m\n\u001b[0;32m      3\u001b[0m \u001b[1;32mimport\u001b[0m \u001b[0mre\u001b[0m\u001b[1;33m\u001b[0m\u001b[1;33m\u001b[0m\u001b[0m\n\u001b[0;32m      4\u001b[0m \u001b[1;32mfor\u001b[0m \u001b[0mzahl\u001b[0m \u001b[1;32min\u001b[0m \u001b[0ma\u001b[0m\u001b[1;33m:\u001b[0m\u001b[1;33m\u001b[0m\u001b[1;33m\u001b[0m\u001b[0m\n\u001b[1;32m----> 5\u001b[1;33m     \u001b[0mzahl\u001b[0m\u001b[1;33m=\u001b[0m\u001b[0mzahl\u001b[0m \u001b[1;33m+\u001b[0m \u001b[0mzahl\u001b[0m\u001b[1;33m[\u001b[0m\u001b[1;36m1\u001b[0m\u001b[1;33m]\u001b[0m\u001b[1;33m\u001b[0m\u001b[1;33m\u001b[0m\u001b[0m\n\u001b[0m\u001b[0;32m      6\u001b[0m \u001b[1;33m\u001b[0m\u001b[0m\n",
      "\u001b[1;31mIndexError\u001b[0m: string index out of range"
     ]
    }
   ],
   "source": [
    "#Der Versuch, diese zusammenzuzählen:\n",
    "ganze_rechnung=[]\n",
    "import re\n",
    "for zahl in a:\n",
    "    zahl=zahl + zahl\n",
    " \n"
   ]
  },
  {
   "cell_type": "code",
   "execution_count": 82,
   "metadata": {},
   "outputs": [
    {
     "data": {
      "text/plain": [
       "['11', '66']"
      ]
     },
     "execution_count": 82,
     "metadata": {},
     "output_type": "execute_result"
    }
   ],
   "source": [
    "ganze_rechnung"
   ]
  },
  {
   "cell_type": "code",
   "execution_count": null,
   "metadata": {},
   "outputs": [],
   "source": []
  }
 ],
 "metadata": {
  "kernelspec": {
   "display_name": "Python 3",
   "language": "python",
   "name": "python3"
  },
  "language_info": {
   "codemirror_mode": {
    "name": "ipython",
    "version": 3
   },
   "file_extension": ".py",
   "mimetype": "text/x-python",
   "name": "python",
   "nbconvert_exporter": "python",
   "pygments_lexer": "ipython3",
   "version": "3.7.3"
  }
 },
 "nbformat": 4,
 "nbformat_minor": 2
}
