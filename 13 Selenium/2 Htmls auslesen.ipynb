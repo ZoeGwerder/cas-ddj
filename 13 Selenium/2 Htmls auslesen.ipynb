{
 "cells": [
  {
   "cell_type": "markdown",
   "metadata": {},
   "source": [
    "## Imports"
   ]
  },
  {
   "cell_type": "code",
   "execution_count": 1,
   "metadata": {},
   "outputs": [],
   "source": [
    "from bs4 import BeautifulSoup\n",
    "import pandas as pd\n",
    "import time\n",
    "import os\n",
    "import re\n",
    "from tqdm import tqdm"
   ]
  },
  {
   "cell_type": "markdown",
   "metadata": {},
   "source": [
    "Liste aller HTMLs"
   ]
  },
  {
   "cell_type": "code",
   "execution_count": 2,
   "metadata": {},
   "outputs": [],
   "source": [
    "lst = os.listdir('pages/')"
   ]
  },
  {
   "cell_type": "markdown",
   "metadata": {},
   "source": [
    "Seiten einlesen, hier zuerst mit einer Seite"
   ]
  },
  {
   "cell_type": "code",
   "execution_count": 3,
   "metadata": {},
   "outputs": [],
   "source": [
    "file = open('pages/' + lst[0], 'r')\n",
    "text = file.read()\n",
    "h = BeautifulSoup(text, 'html.parser')"
   ]
  },
  {
   "cell_type": "markdown",
   "metadata": {},
   "source": [
    "Alle Elemente, die uns interessieren"
   ]
  },
  {
   "cell_type": "code",
   "execution_count": 4,
   "metadata": {},
   "outputs": [
    {
     "data": {
      "text/plain": [
       "[<tr class=\"ng-scope\" ng-repeat=\"row in $data\"><!-- ngRepeat: col in $columns --><!-- ngIf: col.show() --><td class=\"ng-scope\" data-title-text=\"business name\" filter=\"$listCtrl.filters[col.name]\" ng-if=\"col.show()\" ng-repeat=\"col in $columns\"><!-- ngIf: col.name === 'company' --><div class=\"company-name ng-scope\" ng-attr-title=\"{{row.name}}\" ng-if=\"col.name === 'company'\" title='BÃ¤ckerei \"gsund\" AG'><a class=\"ng-binding\" href=\"/en/search/entity/list/firm/1167884?name=b%C3%A4ckerei&amp;searchType=exact\" ng-bind-html=\"highlight(row.name, $listCtrl.tableParams.filter(), 'name')\" ng-class=\"{ 'strike-thru': row.status === 'GELOESCHT'}\" ui-sref=\".details({ ehraid: row.ehraid })\">BÃ¤ckerei \"gsund\" AG</a></div><!-- end ngIf: col.name === 'company' --><!-- ngIf: col.name === 'legalSeat' --><!-- ngIf: col.getValue --></td><!-- end ngIf: col.show() --><!-- end ngRepeat: col in $columns --><!-- ngIf: col.show() --><td class=\"ng-scope\" data-title-text=\"excerpt\" filter=\"$listCtrl.filters[col.name]\" ng-if=\"col.show()\" ng-repeat=\"col in $columns\"><!-- ngIf: col.name === 'company' --><!-- ngIf: col.name === 'legalSeat' --><!-- ngIf: col.getValue --><div class=\"ng-binding ng-scope\" ng-bind-html=\"col.getValue(this, row)\" ng-if=\"col.getValue\"><a href=\"https://sz.chregister.ch/cr-portal/auszug/zefix.xhtml?uid=CHE-240.641.011&amp;lang=de\" style=\"margin: 0em 1em;\" target=\"_blank\" title=\"excerpt (Web)\"><span class=\"icon icon--external\"></span></a> </div><!-- end ngIf: col.getValue --></td><!-- end ngIf: col.show() --><!-- end ngRepeat: col in $columns --><!-- ngIf: col.show() --><td class=\"ng-scope\" data-title-text=\"UID / UID register\" filter=\"$listCtrl.filters[col.name]\" ng-if=\"col.show()\" ng-repeat=\"col in $columns\"><!-- ngIf: col.name === 'company' --><!-- ngIf: col.name === 'legalSeat' --><!-- ngIf: col.getValue --><div class=\"ng-binding ng-scope\" ng-bind-html=\"col.getValue(this, row)\" ng-if=\"col.getValue\"><span class=\"no-wrap\">CHE-240.641.011<a class=\"uid-link\" href=\"https://www.uid.admin.ch/Detail.aspx?uid_id=CHE240641011\" target=\"_blank\"><span class=\"icon icon--external icon--after\"></span></a></span></div><!-- end ngIf: col.getValue --></td><!-- end ngIf: col.show() --><!-- end ngRepeat: col in $columns --><!-- ngIf: col.show() --><!-- end ngRepeat: col in $columns --><!-- ngIf: col.show() --><td class=\"ng-scope\" data-title-text=\"legal form\" filter=\"$listCtrl.filters[col.name]\" ng-if=\"col.show()\" ng-repeat=\"col in $columns\"><!-- ngIf: col.name === 'company' --><!-- ngIf: col.name === 'legalSeat' --><!-- ngIf: col.getValue --><div class=\"ng-binding ng-scope\" ng-bind-html=\"col.getValue(this, row)\" ng-if=\"col.getValue\"><span title=\"Corporation\">Ltd</span></div><!-- end ngIf: col.getValue --></td><!-- end ngIf: col.show() --><!-- end ngRepeat: col in $columns --><!-- ngIf: col.show() --><td class=\"ng-scope\" data-title-text=\"seat\" filter=\"$listCtrl.filters[col.name]\" ng-if=\"col.show()\" ng-repeat=\"col in $columns\"><!-- ngIf: col.name === 'company' --><!-- ngIf: col.name === 'legalSeat' --><div class=\"company-seat ng-scope\" ng-if=\"col.name === 'legalSeat'\"><span class=\"ng-binding\" ng-bind-html=\"highlight(row.legalSeat, $listCtrl.tableParams.filter(), 'legalSeat')\">Feusisberg</span></div><!-- end ngIf: col.name === 'legalSeat' --><!-- ngIf: col.getValue --></td><!-- end ngIf: col.show() --><!-- end ngRepeat: col in $columns --><!-- ngIf: col.show() --><td class=\"ng-scope\" data-title-text=\"canton / rc\" filter=\"$listCtrl.filters[col.name]\" ng-if=\"col.show()\" ng-repeat=\"col in $columns\"><!-- ngIf: col.name === 'company' --><!-- ngIf: col.name === 'legalSeat' --><!-- ngIf: col.getValue --><div class=\"ng-binding ng-scope\" ng-bind-html=\"col.getValue(this, row)\" ng-if=\"col.getValue\"><a href=\"https://www.sz.ch/kanton/wirtschaft/handelsregister/handelsregister-schwyz.html/72-210-94-1916-1890\" target=\"_blank\" title=\"Handelsregisteramt des Kantons Schwyz\">SZ - Schwyz</a></div><!-- end ngIf: col.getValue --></td><!-- end ngIf: col.show() --><!-- end ngRepeat: col in $columns --><!-- ngIf: col.show() --><!-- end ngRepeat: col in $columns --></tr>,\n",
       " <tr class=\"ng-scope\" ng-repeat=\"row in $data\"><!-- ngRepeat: col in $columns --><!-- ngIf: col.show() --><td class=\"ng-scope\" data-title-text=\"business name\" filter=\"$listCtrl.filters[col.name]\" ng-if=\"col.show()\" ng-repeat=\"col in $columns\"><!-- ngIf: col.name === 'company' --><div class=\"company-name ng-scope\" ng-attr-title=\"{{row.name}}\" ng-if=\"col.name === 'company'\" title=\"BÃ¤ckerei &amp; Catering M Janicijevic\"><a class=\"ng-binding\" href=\"/en/search/entity/list/firm/963213?name=b%C3%A4ckerei&amp;searchType=exact\" ng-bind-html=\"highlight(row.name, $listCtrl.tableParams.filter(), 'name')\" ng-class=\"{ 'strike-thru': row.status === 'GELOESCHT'}\" ui-sref=\".details({ ehraid: row.ehraid })\">BÃ¤ckerei &amp; Catering M Janicijevic</a></div><!-- end ngIf: col.name === 'company' --><!-- ngIf: col.name === 'legalSeat' --><!-- ngIf: col.getValue --></td><!-- end ngIf: col.show() --><!-- end ngRepeat: col in $columns --><!-- ngIf: col.show() --><td class=\"ng-scope\" data-title-text=\"excerpt\" filter=\"$listCtrl.filters[col.name]\" ng-if=\"col.show()\" ng-repeat=\"col in $columns\"><!-- ngIf: col.name === 'company' --><!-- ngIf: col.name === 'legalSeat' --><!-- ngIf: col.getValue --><div class=\"ng-binding ng-scope\" ng-bind-html=\"col.getValue(this, row)\" ng-if=\"col.getValue\"><a href=\"https://zh.chregister.ch/cr-portal/auszug/zefix.xhtml?uid=CHE-114.960.579&amp;lang=de\" style=\"margin: 0em 1em;\" target=\"_blank\" title=\"excerpt (Web)\"><span class=\"icon icon--external\"></span></a> </div><!-- end ngIf: col.getValue --></td><!-- end ngIf: col.show() --><!-- end ngRepeat: col in $columns --><!-- ngIf: col.show() --><td class=\"ng-scope\" data-title-text=\"UID / UID register\" filter=\"$listCtrl.filters[col.name]\" ng-if=\"col.show()\" ng-repeat=\"col in $columns\"><!-- ngIf: col.name === 'company' --><!-- ngIf: col.name === 'legalSeat' --><!-- ngIf: col.getValue --><div class=\"ng-binding ng-scope\" ng-bind-html=\"col.getValue(this, row)\" ng-if=\"col.getValue\"><span class=\"no-wrap\">CHE-114.960.579<a class=\"uid-link\" href=\"https://www.uid.admin.ch/Detail.aspx?uid_id=CHE114960579\" target=\"_blank\"><span class=\"icon icon--external icon--after\"></span></a></span></div><!-- end ngIf: col.getValue --></td><!-- end ngIf: col.show() --><!-- end ngRepeat: col in $columns --><!-- ngIf: col.show() --><!-- end ngRepeat: col in $columns --><!-- ngIf: col.show() --><td class=\"ng-scope\" data-title-text=\"legal form\" filter=\"$listCtrl.filters[col.name]\" ng-if=\"col.show()\" ng-repeat=\"col in $columns\"><!-- ngIf: col.name === 'company' --><!-- ngIf: col.name === 'legalSeat' --><!-- ngIf: col.getValue --><div class=\"ng-binding ng-scope\" ng-bind-html=\"col.getValue(this, row)\" ng-if=\"col.getValue\"><span title=\"Sole proprietorship\">SP</span></div><!-- end ngIf: col.getValue --></td><!-- end ngIf: col.show() --><!-- end ngRepeat: col in $columns --><!-- ngIf: col.show() --><td class=\"ng-scope\" data-title-text=\"seat\" filter=\"$listCtrl.filters[col.name]\" ng-if=\"col.show()\" ng-repeat=\"col in $columns\"><!-- ngIf: col.name === 'company' --><!-- ngIf: col.name === 'legalSeat' --><div class=\"company-seat ng-scope\" ng-if=\"col.name === 'legalSeat'\"><span class=\"ng-binding\" ng-bind-html=\"highlight(row.legalSeat, $listCtrl.tableParams.filter(), 'legalSeat')\">ZÃ¼rich</span></div><!-- end ngIf: col.name === 'legalSeat' --><!-- ngIf: col.getValue --></td><!-- end ngIf: col.show() --><!-- end ngRepeat: col in $columns --><!-- ngIf: col.show() --><td class=\"ng-scope\" data-title-text=\"canton / rc\" filter=\"$listCtrl.filters[col.name]\" ng-if=\"col.show()\" ng-repeat=\"col in $columns\"><!-- ngIf: col.name === 'company' --><!-- ngIf: col.name === 'legalSeat' --><!-- ngIf: col.getValue --><div class=\"ng-binding ng-scope\" ng-bind-html=\"col.getValue(this, row)\" ng-if=\"col.getValue\"><a href=\"https://hra.zh.ch/\" target=\"_blank\" title=\"Handelsregisteramt des Kantons ZÃ¼rich\">ZH - ZÃ¼rich</a></div><!-- end ngIf: col.getValue --></td><!-- end ngIf: col.show() --><!-- end ngRepeat: col in $columns --><!-- ngIf: col.show() --><!-- end ngRepeat: col in $columns --></tr>,\n",
       " <tr class=\"ng-scope\" ng-repeat=\"row in $data\"><!-- ngRepeat: col in $columns --><!-- ngIf: col.show() --><td class=\"ng-scope\" data-title-text=\"business name\" filter=\"$listCtrl.filters[col.name]\" ng-if=\"col.show()\" ng-repeat=\"col in $columns\"><!-- ngIf: col.name === 'company' --><div class=\"company-name ng-scope\" ng-attr-title=\"{{row.name}}\" ng-if=\"col.name === 'company'\" title=\"BÃ¤ckerei &amp; Konditorei, Biner &amp; Co.\"><a class=\"ng-binding\" href=\"/en/search/entity/list/firm/752847?name=b%C3%A4ckerei&amp;searchType=exact\" ng-bind-html=\"highlight(row.name, $listCtrl.tableParams.filter(), 'name')\" ng-class=\"{ 'strike-thru': row.status === 'GELOESCHT'}\" ui-sref=\".details({ ehraid: row.ehraid })\">BÃ¤ckerei &amp; Konditorei, Biner &amp; Co.</a></div><!-- end ngIf: col.name === 'company' --><!-- ngIf: col.name === 'legalSeat' --><!-- ngIf: col.getValue --></td><!-- end ngIf: col.show() --><!-- end ngRepeat: col in $columns --><!-- ngIf: col.show() --><td class=\"ng-scope\" data-title-text=\"excerpt\" filter=\"$listCtrl.filters[col.name]\" ng-if=\"col.show()\" ng-repeat=\"col in $columns\"><!-- ngIf: col.name === 'company' --><!-- ngIf: col.name === 'legalSeat' --><!-- ngIf: col.getValue --><div class=\"ng-binding ng-scope\" ng-bind-html=\"col.getValue(this, row)\" ng-if=\"col.getValue\"><a href=\"https://vo.chregister.ch/cr-portal/auszug/zefix.xhtml?uid=CHE-102.073.772&amp;lang=de\" style=\"margin: 0em 1em;\" target=\"_blank\" title=\"excerpt (Web)\"><span class=\"icon icon--external\"></span></a> </div><!-- end ngIf: col.getValue --></td><!-- end ngIf: col.show() --><!-- end ngRepeat: col in $columns --><!-- ngIf: col.show() --><td class=\"ng-scope\" data-title-text=\"UID / UID register\" filter=\"$listCtrl.filters[col.name]\" ng-if=\"col.show()\" ng-repeat=\"col in $columns\"><!-- ngIf: col.name === 'company' --><!-- ngIf: col.name === 'legalSeat' --><!-- ngIf: col.getValue --><div class=\"ng-binding ng-scope\" ng-bind-html=\"col.getValue(this, row)\" ng-if=\"col.getValue\"><span class=\"no-wrap\">CHE-102.073.772<a class=\"uid-link\" href=\"https://www.uid.admin.ch/Detail.aspx?uid_id=CHE102073772\" target=\"_blank\"><span class=\"icon icon--external icon--after\"></span></a></span></div><!-- end ngIf: col.getValue --></td><!-- end ngIf: col.show() --><!-- end ngRepeat: col in $columns --><!-- ngIf: col.show() --><!-- end ngRepeat: col in $columns --><!-- ngIf: col.show() --><td class=\"ng-scope\" data-title-text=\"legal form\" filter=\"$listCtrl.filters[col.name]\" ng-if=\"col.show()\" ng-repeat=\"col in $columns\"><!-- ngIf: col.name === 'company' --><!-- ngIf: col.name === 'legalSeat' --><!-- ngIf: col.getValue --><div class=\"ng-binding ng-scope\" ng-bind-html=\"col.getValue(this, row)\" ng-if=\"col.getValue\"><span title=\"General Partnership\">GP</span></div><!-- end ngIf: col.getValue --></td><!-- end ngIf: col.show() --><!-- end ngRepeat: col in $columns --><!-- ngIf: col.show() --><td class=\"ng-scope\" data-title-text=\"seat\" filter=\"$listCtrl.filters[col.name]\" ng-if=\"col.show()\" ng-repeat=\"col in $columns\"><!-- ngIf: col.name === 'company' --><!-- ngIf: col.name === 'legalSeat' --><div class=\"company-seat ng-scope\" ng-if=\"col.name === 'legalSeat'\"><span class=\"ng-binding\" ng-bind-html=\"highlight(row.legalSeat, $listCtrl.tableParams.filter(), 'legalSeat')\">Zermatt</span></div><!-- end ngIf: col.name === 'legalSeat' --><!-- ngIf: col.getValue --></td><!-- end ngIf: col.show() --><!-- end ngRepeat: col in $columns --><!-- ngIf: col.show() --><td class=\"ng-scope\" data-title-text=\"canton / rc\" filter=\"$listCtrl.filters[col.name]\" ng-if=\"col.show()\" ng-repeat=\"col in $columns\"><!-- ngIf: col.name === 'company' --><!-- ngIf: col.name === 'legalSeat' --><!-- ngIf: col.getValue --><div class=\"ng-binding ng-scope\" ng-bind-html=\"col.getValue(this, row)\" ng-if=\"col.getValue\"><a href=\"https://www.vs.ch/de/web/ext-rc/\" target=\"_blank\" title=\"Handelsregisteramt Oberwallis\">VS - Brig (Oberwallis)</a></div><!-- end ngIf: col.getValue --></td><!-- end ngIf: col.show() --><!-- end ngRepeat: col in $columns --><!-- ngIf: col.show() --><!-- end ngRepeat: col in $columns --></tr>,\n",
       " <tr class=\"ng-scope\" ng-repeat=\"row in $data\"><!-- ngRepeat: col in $columns --><!-- ngIf: col.show() --><td class=\"ng-scope\" data-title-text=\"business name\" filter=\"$listCtrl.filters[col.name]\" ng-if=\"col.show()\" ng-repeat=\"col in $columns\"><!-- ngIf: col.name === 'company' --><div class=\"company-name ng-scope\" ng-attr-title=\"{{row.name}}\" ng-if=\"col.name === 'company'\" title=\"BÃ¤ckerei + Party-Service Sandra Bircher\"><a class=\"ng-binding\" href=\"/en/search/entity/list/firm/991050?name=b%C3%A4ckerei&amp;searchType=exact\" ng-bind-html=\"highlight(row.name, $listCtrl.tableParams.filter(), 'name')\" ng-class=\"{ 'strike-thru': row.status === 'GELOESCHT'}\" ui-sref=\".details({ ehraid: row.ehraid })\">BÃ¤ckerei + Party-Service Sandra Bircher</a></div><!-- end ngIf: col.name === 'company' --><!-- ngIf: col.name === 'legalSeat' --><!-- ngIf: col.getValue --></td><!-- end ngIf: col.show() --><!-- end ngRepeat: col in $columns --><!-- ngIf: col.show() --><td class=\"ng-scope\" data-title-text=\"excerpt\" filter=\"$listCtrl.filters[col.name]\" ng-if=\"col.show()\" ng-repeat=\"col in $columns\"><!-- ngIf: col.name === 'company' --><!-- ngIf: col.name === 'legalSeat' --><!-- ngIf: col.getValue --><div class=\"ng-binding ng-scope\" ng-bind-html=\"col.getValue(this, row)\" ng-if=\"col.getValue\"><a href=\"https://ag.chregister.ch/cr-portal/auszug/zefix.xhtml?uid=CHE-115.910.495&amp;lang=de\" style=\"margin: 0em 1em;\" target=\"_blank\" title=\"excerpt (Web)\"><span class=\"icon icon--external\"></span></a> </div><!-- end ngIf: col.getValue --></td><!-- end ngIf: col.show() --><!-- end ngRepeat: col in $columns --><!-- ngIf: col.show() --><td class=\"ng-scope\" data-title-text=\"UID / UID register\" filter=\"$listCtrl.filters[col.name]\" ng-if=\"col.show()\" ng-repeat=\"col in $columns\"><!-- ngIf: col.name === 'company' --><!-- ngIf: col.name === 'legalSeat' --><!-- ngIf: col.getValue --><div class=\"ng-binding ng-scope\" ng-bind-html=\"col.getValue(this, row)\" ng-if=\"col.getValue\"><span class=\"no-wrap\">CHE-115.910.495<a class=\"uid-link\" href=\"https://www.uid.admin.ch/Detail.aspx?uid_id=CHE115910495\" target=\"_blank\"><span class=\"icon icon--external icon--after\"></span></a></span></div><!-- end ngIf: col.getValue --></td><!-- end ngIf: col.show() --><!-- end ngRepeat: col in $columns --><!-- ngIf: col.show() --><!-- end ngRepeat: col in $columns --><!-- ngIf: col.show() --><td class=\"ng-scope\" data-title-text=\"legal form\" filter=\"$listCtrl.filters[col.name]\" ng-if=\"col.show()\" ng-repeat=\"col in $columns\"><!-- ngIf: col.name === 'company' --><!-- ngIf: col.name === 'legalSeat' --><!-- ngIf: col.getValue --><div class=\"ng-binding ng-scope\" ng-bind-html=\"col.getValue(this, row)\" ng-if=\"col.getValue\"><span title=\"Sole proprietorship\">SP</span></div><!-- end ngIf: col.getValue --></td><!-- end ngIf: col.show() --><!-- end ngRepeat: col in $columns --><!-- ngIf: col.show() --><td class=\"ng-scope\" data-title-text=\"seat\" filter=\"$listCtrl.filters[col.name]\" ng-if=\"col.show()\" ng-repeat=\"col in $columns\"><!-- ngIf: col.name === 'company' --><!-- ngIf: col.name === 'legalSeat' --><div class=\"company-seat ng-scope\" ng-if=\"col.name === 'legalSeat'\"><span class=\"ng-binding\" ng-bind-html=\"highlight(row.legalSeat, $listCtrl.tableParams.filter(), 'legalSeat')\">WÃ¶lflinswil</span></div><!-- end ngIf: col.name === 'legalSeat' --><!-- ngIf: col.getValue --></td><!-- end ngIf: col.show() --><!-- end ngRepeat: col in $columns --><!-- ngIf: col.show() --><td class=\"ng-scope\" data-title-text=\"canton / rc\" filter=\"$listCtrl.filters[col.name]\" ng-if=\"col.show()\" ng-repeat=\"col in $columns\"><!-- ngIf: col.name === 'company' --><!-- ngIf: col.name === 'legalSeat' --><!-- ngIf: col.getValue --><div class=\"ng-binding ng-scope\" ng-bind-html=\"col.getValue(this, row)\" ng-if=\"col.getValue\"><a href=\"http://www.ag.ch/handelsregisteramt/\" target=\"_blank\" title=\"Handelsregisteramt des Kantons Aargau\">AG - Aargau</a></div><!-- end ngIf: col.getValue --></td><!-- end ngIf: col.show() --><!-- end ngRepeat: col in $columns --><!-- ngIf: col.show() --><!-- end ngRepeat: col in $columns --></tr>,\n",
       " <tr class=\"ng-scope\" ng-repeat=\"row in $data\"><!-- ngRepeat: col in $columns --><!-- ngIf: col.show() --><td class=\"ng-scope\" data-title-text=\"business name\" filter=\"$listCtrl.filters[col.name]\" ng-if=\"col.show()\" ng-repeat=\"col in $columns\"><!-- ngIf: col.name === 'company' --><div class=\"company-name ng-scope\" ng-attr-title=\"{{row.name}}\" ng-if=\"col.name === 'company'\" title=\"BÃ¤ckerei - Konditorei - CafÃ© Gut\"><a class=\"ng-binding\" href=\"/en/search/entity/list/firm/770662?name=b%C3%A4ckerei&amp;searchType=exact\" ng-bind-html=\"highlight(row.name, $listCtrl.tableParams.filter(), 'name')\" ng-class=\"{ 'strike-thru': row.status === 'GELOESCHT'}\" ui-sref=\".details({ ehraid: row.ehraid })\">BÃ¤ckerei - Konditorei - CafÃ© Gut</a></div><!-- end ngIf: col.name === 'company' --><!-- ngIf: col.name === 'legalSeat' --><!-- ngIf: col.getValue --></td><!-- end ngIf: col.show() --><!-- end ngRepeat: col in $columns --><!-- ngIf: col.show() --><td class=\"ng-scope\" data-title-text=\"excerpt\" filter=\"$listCtrl.filters[col.name]\" ng-if=\"col.show()\" ng-repeat=\"col in $columns\"><!-- ngIf: col.name === 'company' --><!-- ngIf: col.name === 'legalSeat' --><!-- ngIf: col.getValue --><div class=\"ng-binding ng-scope\" ng-bind-html=\"col.getValue(this, row)\" ng-if=\"col.getValue\"><a href=\"https://lu.chregister.ch/cr-portal/auszug/zefix.xhtml?uid=CHE-112.034.070&amp;lang=de\" style=\"margin: 0em 1em;\" target=\"_blank\" title=\"excerpt (Web)\"><span class=\"icon icon--external\"></span></a> </div><!-- end ngIf: col.getValue --></td><!-- end ngIf: col.show() --><!-- end ngRepeat: col in $columns --><!-- ngIf: col.show() --><td class=\"ng-scope\" data-title-text=\"UID / UID register\" filter=\"$listCtrl.filters[col.name]\" ng-if=\"col.show()\" ng-repeat=\"col in $columns\"><!-- ngIf: col.name === 'company' --><!-- ngIf: col.name === 'legalSeat' --><!-- ngIf: col.getValue --><div class=\"ng-binding ng-scope\" ng-bind-html=\"col.getValue(this, row)\" ng-if=\"col.getValue\"><span class=\"no-wrap\">CHE-112.034.070<a class=\"uid-link\" href=\"https://www.uid.admin.ch/Detail.aspx?uid_id=CHE112034070\" target=\"_blank\"><span class=\"icon icon--external icon--after\"></span></a></span></div><!-- end ngIf: col.getValue --></td><!-- end ngIf: col.show() --><!-- end ngRepeat: col in $columns --><!-- ngIf: col.show() --><!-- end ngRepeat: col in $columns --><!-- ngIf: col.show() --><td class=\"ng-scope\" data-title-text=\"legal form\" filter=\"$listCtrl.filters[col.name]\" ng-if=\"col.show()\" ng-repeat=\"col in $columns\"><!-- ngIf: col.name === 'company' --><!-- ngIf: col.name === 'legalSeat' --><!-- ngIf: col.getValue --><div class=\"ng-binding ng-scope\" ng-bind-html=\"col.getValue(this, row)\" ng-if=\"col.getValue\"><span title=\"Sole proprietorship\">SP</span></div><!-- end ngIf: col.getValue --></td><!-- end ngIf: col.show() --><!-- end ngRepeat: col in $columns --><!-- ngIf: col.show() --><td class=\"ng-scope\" data-title-text=\"seat\" filter=\"$listCtrl.filters[col.name]\" ng-if=\"col.show()\" ng-repeat=\"col in $columns\"><!-- ngIf: col.name === 'company' --><!-- ngIf: col.name === 'legalSeat' --><div class=\"company-seat ng-scope\" ng-if=\"col.name === 'legalSeat'\"><span class=\"ng-binding\" ng-bind-html=\"highlight(row.legalSeat, $listCtrl.tableParams.filter(), 'legalSeat')\">Willisau</span></div><!-- end ngIf: col.name === 'legalSeat' --><!-- ngIf: col.getValue --></td><!-- end ngIf: col.show() --><!-- end ngRepeat: col in $columns --><!-- ngIf: col.show() --><td class=\"ng-scope\" data-title-text=\"canton / rc\" filter=\"$listCtrl.filters[col.name]\" ng-if=\"col.show()\" ng-repeat=\"col in $columns\"><!-- ngIf: col.name === 'company' --><!-- ngIf: col.name === 'legalSeat' --><!-- ngIf: col.getValue --><div class=\"ng-binding ng-scope\" ng-bind-html=\"col.getValue(this, row)\" ng-if=\"col.getValue\"><a href=\"http://www.handelsregister.lu.ch/\" target=\"_blank\" title=\"Handelsregisteramt des Kantons Luzern\">LU - Luzern</a></div><!-- end ngIf: col.getValue --></td><!-- end ngIf: col.show() --><!-- end ngRepeat: col in $columns --><!-- ngIf: col.show() --><!-- end ngRepeat: col in $columns --></tr>,\n",
       " <tr class=\"ng-scope\" ng-repeat=\"row in $data\"><!-- ngRepeat: col in $columns --><!-- ngIf: col.show() --><td class=\"ng-scope\" data-title-text=\"business name\" filter=\"$listCtrl.filters[col.name]\" ng-if=\"col.show()\" ng-repeat=\"col in $columns\"><!-- ngIf: col.name === 'company' --><div class=\"company-name ng-scope\" ng-attr-title=\"{{row.name}}\" ng-if=\"col.name === 'company'\" title=\"BÃ¤ckerei - Konditorei - Lebensmittel Leuenberger\"><a class=\"ng-binding\" href=\"/en/search/entity/list/firm/748504?name=b%C3%A4ckerei&amp;searchType=exact\" ng-bind-html=\"highlight(row.name, $listCtrl.tableParams.filter(), 'name')\" ng-class=\"{ 'strike-thru': row.status === 'GELOESCHT'}\" ui-sref=\".details({ ehraid: row.ehraid })\">BÃ¤ckerei - Konditorei - Lebensmittel Leuenberger</a></div><!-- end ngIf: col.name === 'company' --><!-- ngIf: col.name === 'legalSeat' --><!-- ngIf: col.getValue --></td><!-- end ngIf: col.show() --><!-- end ngRepeat: col in $columns --><!-- ngIf: col.show() --><td class=\"ng-scope\" data-title-text=\"excerpt\" filter=\"$listCtrl.filters[col.name]\" ng-if=\"col.show()\" ng-repeat=\"col in $columns\"><!-- ngIf: col.name === 'company' --><!-- ngIf: col.name === 'legalSeat' --><!-- ngIf: col.getValue --><div class=\"ng-binding ng-scope\" ng-bind-html=\"col.getValue(this, row)\" ng-if=\"col.getValue\"><a href=\"https://so.chregister.ch/cr-portal/auszug/zefix.xhtml?uid=CHE-107.195.164&amp;lang=de\" style=\"margin: 0em 1em;\" target=\"_blank\" title=\"excerpt (Web)\"><span class=\"icon icon--external\"></span></a> </div><!-- end ngIf: col.getValue --></td><!-- end ngIf: col.show() --><!-- end ngRepeat: col in $columns --><!-- ngIf: col.show() --><td class=\"ng-scope\" data-title-text=\"UID / UID register\" filter=\"$listCtrl.filters[col.name]\" ng-if=\"col.show()\" ng-repeat=\"col in $columns\"><!-- ngIf: col.name === 'company' --><!-- ngIf: col.name === 'legalSeat' --><!-- ngIf: col.getValue --><div class=\"ng-binding ng-scope\" ng-bind-html=\"col.getValue(this, row)\" ng-if=\"col.getValue\"><span class=\"no-wrap\">CHE-107.195.164<a class=\"uid-link\" href=\"https://www.uid.admin.ch/Detail.aspx?uid_id=CHE107195164\" target=\"_blank\"><span class=\"icon icon--external icon--after\"></span></a></span></div><!-- end ngIf: col.getValue --></td><!-- end ngIf: col.show() --><!-- end ngRepeat: col in $columns --><!-- ngIf: col.show() --><!-- end ngRepeat: col in $columns --><!-- ngIf: col.show() --><td class=\"ng-scope\" data-title-text=\"legal form\" filter=\"$listCtrl.filters[col.name]\" ng-if=\"col.show()\" ng-repeat=\"col in $columns\"><!-- ngIf: col.name === 'company' --><!-- ngIf: col.name === 'legalSeat' --><!-- ngIf: col.getValue --><div class=\"ng-binding ng-scope\" ng-bind-html=\"col.getValue(this, row)\" ng-if=\"col.getValue\"><span title=\"Sole proprietorship\">SP</span></div><!-- end ngIf: col.getValue --></td><!-- end ngIf: col.show() --><!-- end ngRepeat: col in $columns --><!-- ngIf: col.show() --><td class=\"ng-scope\" data-title-text=\"seat\" filter=\"$listCtrl.filters[col.name]\" ng-if=\"col.show()\" ng-repeat=\"col in $columns\"><!-- ngIf: col.name === 'company' --><!-- ngIf: col.name === 'legalSeat' --><div class=\"company-seat ng-scope\" ng-if=\"col.name === 'legalSeat'\"><span class=\"ng-binding\" ng-bind-html=\"highlight(row.legalSeat, $listCtrl.tableParams.filter(), 'legalSeat')\">Erlinsbach (SO)</span></div><!-- end ngIf: col.name === 'legalSeat' --><!-- ngIf: col.getValue --></td><!-- end ngIf: col.show() --><!-- end ngRepeat: col in $columns --><!-- ngIf: col.show() --><td class=\"ng-scope\" data-title-text=\"canton / rc\" filter=\"$listCtrl.filters[col.name]\" ng-if=\"col.show()\" ng-repeat=\"col in $columns\"><!-- ngIf: col.name === 'company' --><!-- ngIf: col.name === 'legalSeat' --><!-- ngIf: col.getValue --><div class=\"ng-binding ng-scope\" ng-bind-html=\"col.getValue(this, row)\" ng-if=\"col.getValue\"><a href=\"http://www.so.ch/verwaltung/finanzdepartement/kantonales-handelsregister/\" target=\"_blank\" title=\"Handelsregisteramt des Kantons Solothurn\">SO - Solothurn</a></div><!-- end ngIf: col.getValue --></td><!-- end ngIf: col.show() --><!-- end ngRepeat: col in $columns --><!-- ngIf: col.show() --><!-- end ngRepeat: col in $columns --></tr>,\n",
       " <tr class=\"ng-scope\" ng-repeat=\"row in $data\"><!-- ngRepeat: col in $columns --><!-- ngIf: col.show() --><td class=\"ng-scope\" data-title-text=\"business name\" filter=\"$listCtrl.filters[col.name]\" ng-if=\"col.show()\" ng-repeat=\"col in $columns\"><!-- ngIf: col.name === 'company' --><div class=\"company-name ng-scope\" ng-attr-title=\"{{row.name}}\" ng-if=\"col.name === 'company'\" title=\"BÃ¤ckerei - Konditorei - Lebensmittel Oester\"><a class=\"ng-binding\" href=\"/en/search/entity/list/firm/623772?name=b%C3%A4ckerei&amp;searchType=exact\" ng-bind-html=\"highlight(row.name, $listCtrl.tableParams.filter(), 'name')\" ng-class=\"{ 'strike-thru': row.status === 'GELOESCHT'}\" ui-sref=\".details({ ehraid: row.ehraid })\">BÃ¤ckerei - Konditorei - Lebensmittel Oester</a></div><!-- end ngIf: col.name === 'company' --><!-- ngIf: col.name === 'legalSeat' --><!-- ngIf: col.getValue --></td><!-- end ngIf: col.show() --><!-- end ngRepeat: col in $columns --><!-- ngIf: col.show() --><td class=\"ng-scope\" data-title-text=\"excerpt\" filter=\"$listCtrl.filters[col.name]\" ng-if=\"col.show()\" ng-repeat=\"col in $columns\"><!-- ngIf: col.name === 'company' --><!-- ngIf: col.name === 'legalSeat' --><!-- ngIf: col.getValue --><div class=\"ng-binding ng-scope\" ng-bind-html=\"col.getValue(this, row)\" ng-if=\"col.getValue\"><a href=\"https://be.chregister.ch/cr-portal/auszug/zefix.xhtml?uid=CHE-109.306.718&amp;lang=de\" style=\"margin: 0em 1em;\" target=\"_blank\" title=\"excerpt (Web)\"><span class=\"icon icon--external\"></span></a> </div><!-- end ngIf: col.getValue --></td><!-- end ngIf: col.show() --><!-- end ngRepeat: col in $columns --><!-- ngIf: col.show() --><td class=\"ng-scope\" data-title-text=\"UID / UID register\" filter=\"$listCtrl.filters[col.name]\" ng-if=\"col.show()\" ng-repeat=\"col in $columns\"><!-- ngIf: col.name === 'company' --><!-- ngIf: col.name === 'legalSeat' --><!-- ngIf: col.getValue --><div class=\"ng-binding ng-scope\" ng-bind-html=\"col.getValue(this, row)\" ng-if=\"col.getValue\"><span class=\"no-wrap\">CHE-109.306.718<a class=\"uid-link\" href=\"https://www.uid.admin.ch/Detail.aspx?uid_id=CHE109306718\" target=\"_blank\"><span class=\"icon icon--external icon--after\"></span></a></span></div><!-- end ngIf: col.getValue --></td><!-- end ngIf: col.show() --><!-- end ngRepeat: col in $columns --><!-- ngIf: col.show() --><!-- end ngRepeat: col in $columns --><!-- ngIf: col.show() --><td class=\"ng-scope\" data-title-text=\"legal form\" filter=\"$listCtrl.filters[col.name]\" ng-if=\"col.show()\" ng-repeat=\"col in $columns\"><!-- ngIf: col.name === 'company' --><!-- ngIf: col.name === 'legalSeat' --><!-- ngIf: col.getValue --><div class=\"ng-binding ng-scope\" ng-bind-html=\"col.getValue(this, row)\" ng-if=\"col.getValue\"><span title=\"Sole proprietorship\">SP</span></div><!-- end ngIf: col.getValue --></td><!-- end ngIf: col.show() --><!-- end ngRepeat: col in $columns --><!-- ngIf: col.show() --><td class=\"ng-scope\" data-title-text=\"seat\" filter=\"$listCtrl.filters[col.name]\" ng-if=\"col.show()\" ng-repeat=\"col in $columns\"><!-- ngIf: col.name === 'company' --><!-- ngIf: col.name === 'legalSeat' --><div class=\"company-seat ng-scope\" ng-if=\"col.name === 'legalSeat'\"><span class=\"ng-binding\" ng-bind-html=\"highlight(row.legalSeat, $listCtrl.tableParams.filter(), 'legalSeat')\">Adelboden</span></div><!-- end ngIf: col.name === 'legalSeat' --><!-- ngIf: col.getValue --></td><!-- end ngIf: col.show() --><!-- end ngRepeat: col in $columns --><!-- ngIf: col.show() --><td class=\"ng-scope\" data-title-text=\"canton / rc\" filter=\"$listCtrl.filters[col.name]\" ng-if=\"col.show()\" ng-repeat=\"col in $columns\"><!-- ngIf: col.name === 'company' --><!-- ngIf: col.name === 'legalSeat' --><!-- ngIf: col.getValue --><div class=\"ng-binding ng-scope\" ng-bind-html=\"col.getValue(this, row)\" ng-if=\"col.getValue\"><a href=\"http://www.hrabe.ch/\" target=\"_blank\" title=\"Handelsregisteramt des Kantons Bern\">BE - Bern</a></div><!-- end ngIf: col.getValue --></td><!-- end ngIf: col.show() --><!-- end ngRepeat: col in $columns --><!-- ngIf: col.show() --><!-- end ngRepeat: col in $columns --></tr>,\n",
       " <tr class=\"ng-scope\" ng-repeat=\"row in $data\"><!-- ngRepeat: col in $columns --><!-- ngIf: col.show() --><td class=\"ng-scope\" data-title-text=\"business name\" filter=\"$listCtrl.filters[col.name]\" ng-if=\"col.show()\" ng-repeat=\"col in $columns\"><!-- ngIf: col.name === 'company' --><div class=\"company-name ng-scope\" ng-attr-title=\"{{row.name}}\" ng-if=\"col.name === 'company'\" title=\"BÃ¤ckerei - Konditorei Adula, Georg Schmid und Josefin Burri\"><a class=\"ng-binding\" href=\"/en/search/entity/list/firm/1056466?name=b%C3%A4ckerei&amp;searchType=exact\" ng-bind-html=\"highlight(row.name, $listCtrl.tableParams.filter(), 'name')\" ng-class=\"{ 'strike-thru': row.status === 'GELOESCHT'}\" ui-sref=\".details({ ehraid: row.ehraid })\">BÃ¤ckerei - Konditorei Adula, Georg Schmid und Josefin Burri</a></div><!-- end ngIf: col.name === 'company' --><!-- ngIf: col.name === 'legalSeat' --><!-- ngIf: col.getValue --></td><!-- end ngIf: col.show() --><!-- end ngRepeat: col in $columns --><!-- ngIf: col.show() --><td class=\"ng-scope\" data-title-text=\"excerpt\" filter=\"$listCtrl.filters[col.name]\" ng-if=\"col.show()\" ng-repeat=\"col in $columns\"><!-- ngIf: col.name === 'company' --><!-- ngIf: col.name === 'legalSeat' --><!-- ngIf: col.getValue --><div class=\"ng-binding ng-scope\" ng-bind-html=\"col.getValue(this, row)\" ng-if=\"col.getValue\"><a href=\"https://gr.chregister.ch/cr-portal/auszug/zefix.xhtml?uid=CHE-438.593.065&amp;lang=de\" style=\"margin: 0em 1em;\" target=\"_blank\" title=\"excerpt (Web)\"><span class=\"icon icon--external\"></span></a> </div><!-- end ngIf: col.getValue --></td><!-- end ngIf: col.show() --><!-- end ngRepeat: col in $columns --><!-- ngIf: col.show() --><td class=\"ng-scope\" data-title-text=\"UID / UID register\" filter=\"$listCtrl.filters[col.name]\" ng-if=\"col.show()\" ng-repeat=\"col in $columns\"><!-- ngIf: col.name === 'company' --><!-- ngIf: col.name === 'legalSeat' --><!-- ngIf: col.getValue --><div class=\"ng-binding ng-scope\" ng-bind-html=\"col.getValue(this, row)\" ng-if=\"col.getValue\"><span class=\"no-wrap\">CHE-438.593.065<a class=\"uid-link\" href=\"https://www.uid.admin.ch/Detail.aspx?uid_id=CHE438593065\" target=\"_blank\"><span class=\"icon icon--external icon--after\"></span></a></span></div><!-- end ngIf: col.getValue --></td><!-- end ngIf: col.show() --><!-- end ngRepeat: col in $columns --><!-- ngIf: col.show() --><!-- end ngRepeat: col in $columns --><!-- ngIf: col.show() --><td class=\"ng-scope\" data-title-text=\"legal form\" filter=\"$listCtrl.filters[col.name]\" ng-if=\"col.show()\" ng-repeat=\"col in $columns\"><!-- ngIf: col.name === 'company' --><!-- ngIf: col.name === 'legalSeat' --><!-- ngIf: col.getValue --><div class=\"ng-binding ng-scope\" ng-bind-html=\"col.getValue(this, row)\" ng-if=\"col.getValue\"><span title=\"General Partnership\">GP</span></div><!-- end ngIf: col.getValue --></td><!-- end ngIf: col.show() --><!-- end ngRepeat: col in $columns --><!-- ngIf: col.show() --><td class=\"ng-scope\" data-title-text=\"seat\" filter=\"$listCtrl.filters[col.name]\" ng-if=\"col.show()\" ng-repeat=\"col in $columns\"><!-- ngIf: col.name === 'company' --><!-- ngIf: col.name === 'legalSeat' --><div class=\"company-seat ng-scope\" ng-if=\"col.name === 'legalSeat'\"><span class=\"ng-binding\" ng-bind-html=\"highlight(row.legalSeat, $listCtrl.tableParams.filter(), 'legalSeat')\">Tujetsch</span></div><!-- end ngIf: col.name === 'legalSeat' --><!-- ngIf: col.getValue --></td><!-- end ngIf: col.show() --><!-- end ngRepeat: col in $columns --><!-- ngIf: col.show() --><td class=\"ng-scope\" data-title-text=\"canton / rc\" filter=\"$listCtrl.filters[col.name]\" ng-if=\"col.show()\" ng-repeat=\"col in $columns\"><!-- ngIf: col.name === 'company' --><!-- ngIf: col.name === 'legalSeat' --><!-- ngIf: col.getValue --><div class=\"ng-binding ng-scope\" ng-bind-html=\"col.getValue(this, row)\" ng-if=\"col.getValue\"><a href=\"http://www.gr.ch/DE/institutionen/verwaltung/dvs/giha/ueberuns/Seiten/home.aspx\" target=\"_blank\" title=\"Handelsregisteramt des Kantons GraubÃ¼nden\">GR - GraubÃ¼nden</a></div><!-- end ngIf: col.getValue --></td><!-- end ngIf: col.show() --><!-- end ngRepeat: col in $columns --><!-- ngIf: col.show() --><!-- end ngRepeat: col in $columns --></tr>,\n",
       " <tr class=\"ng-scope\" ng-repeat=\"row in $data\"><!-- ngRepeat: col in $columns --><!-- ngIf: col.show() --><td class=\"ng-scope\" data-title-text=\"business name\" filter=\"$listCtrl.filters[col.name]\" ng-if=\"col.show()\" ng-repeat=\"col in $columns\"><!-- ngIf: col.name === 'company' --><div class=\"company-name ng-scope\" ng-attr-title=\"{{row.name}}\" ng-if=\"col.name === 'company'\" title=\"BÃ¤ckerei - Konditorei D. Pfister\"><a class=\"ng-binding\" href=\"/en/search/entity/list/firm/999069?name=b%C3%A4ckerei&amp;searchType=exact\" ng-bind-html=\"highlight(row.name, $listCtrl.tableParams.filter(), 'name')\" ng-class=\"{ 'strike-thru': row.status === 'GELOESCHT'}\" ui-sref=\".details({ ehraid: row.ehraid })\">BÃ¤ckerei - Konditorei D. Pfister</a></div><!-- end ngIf: col.name === 'company' --><!-- ngIf: col.name === 'legalSeat' --><!-- ngIf: col.getValue --></td><!-- end ngIf: col.show() --><!-- end ngRepeat: col in $columns --><!-- ngIf: col.show() --><td class=\"ng-scope\" data-title-text=\"excerpt\" filter=\"$listCtrl.filters[col.name]\" ng-if=\"col.show()\" ng-repeat=\"col in $columns\"><!-- ngIf: col.name === 'company' --><!-- ngIf: col.name === 'legalSeat' --><!-- ngIf: col.getValue --><div class=\"ng-binding ng-scope\" ng-bind-html=\"col.getValue(this, row)\" ng-if=\"col.getValue\"><a href=\"https://be.chregister.ch/cr-portal/auszug/zefix.xhtml?uid=CHE-116.198.463&amp;lang=de\" style=\"margin: 0em 1em;\" target=\"_blank\" title=\"excerpt (Web)\"><span class=\"icon icon--external\"></span></a> </div><!-- end ngIf: col.getValue --></td><!-- end ngIf: col.show() --><!-- end ngRepeat: col in $columns --><!-- ngIf: col.show() --><td class=\"ng-scope\" data-title-text=\"UID / UID register\" filter=\"$listCtrl.filters[col.name]\" ng-if=\"col.show()\" ng-repeat=\"col in $columns\"><!-- ngIf: col.name === 'company' --><!-- ngIf: col.name === 'legalSeat' --><!-- ngIf: col.getValue --><div class=\"ng-binding ng-scope\" ng-bind-html=\"col.getValue(this, row)\" ng-if=\"col.getValue\"><span class=\"no-wrap\">CHE-116.198.463<a class=\"uid-link\" href=\"https://www.uid.admin.ch/Detail.aspx?uid_id=CHE116198463\" target=\"_blank\"><span class=\"icon icon--external icon--after\"></span></a></span></div><!-- end ngIf: col.getValue --></td><!-- end ngIf: col.show() --><!-- end ngRepeat: col in $columns --><!-- ngIf: col.show() --><!-- end ngRepeat: col in $columns --><!-- ngIf: col.show() --><td class=\"ng-scope\" data-title-text=\"legal form\" filter=\"$listCtrl.filters[col.name]\" ng-if=\"col.show()\" ng-repeat=\"col in $columns\"><!-- ngIf: col.name === 'company' --><!-- ngIf: col.name === 'legalSeat' --><!-- ngIf: col.getValue --><div class=\"ng-binding ng-scope\" ng-bind-html=\"col.getValue(this, row)\" ng-if=\"col.getValue\"><span title=\"Sole proprietorship\">SP</span></div><!-- end ngIf: col.getValue --></td><!-- end ngIf: col.show() --><!-- end ngRepeat: col in $columns --><!-- ngIf: col.show() --><td class=\"ng-scope\" data-title-text=\"seat\" filter=\"$listCtrl.filters[col.name]\" ng-if=\"col.show()\" ng-repeat=\"col in $columns\"><!-- ngIf: col.name === 'company' --><!-- ngIf: col.name === 'legalSeat' --><div class=\"company-seat ng-scope\" ng-if=\"col.name === 'legalSeat'\"><span class=\"ng-binding\" ng-bind-html=\"highlight(row.legalSeat, $listCtrl.tableParams.filter(), 'legalSeat')\">Uetendorf</span></div><!-- end ngIf: col.name === 'legalSeat' --><!-- ngIf: col.getValue --></td><!-- end ngIf: col.show() --><!-- end ngRepeat: col in $columns --><!-- ngIf: col.show() --><td class=\"ng-scope\" data-title-text=\"canton / rc\" filter=\"$listCtrl.filters[col.name]\" ng-if=\"col.show()\" ng-repeat=\"col in $columns\"><!-- ngIf: col.name === 'company' --><!-- ngIf: col.name === 'legalSeat' --><!-- ngIf: col.getValue --><div class=\"ng-binding ng-scope\" ng-bind-html=\"col.getValue(this, row)\" ng-if=\"col.getValue\"><a href=\"http://www.hrabe.ch/\" target=\"_blank\" title=\"Handelsregisteramt des Kantons Bern\">BE - Bern</a></div><!-- end ngIf: col.getValue --></td><!-- end ngIf: col.show() --><!-- end ngRepeat: col in $columns --><!-- ngIf: col.show() --><!-- end ngRepeat: col in $columns --></tr>,\n",
       " <tr class=\"ng-scope\" ng-repeat=\"row in $data\"><!-- ngRepeat: col in $columns --><!-- ngIf: col.show() --><td class=\"ng-scope\" data-title-text=\"business name\" filter=\"$listCtrl.filters[col.name]\" ng-if=\"col.show()\" ng-repeat=\"col in $columns\"><!-- ngIf: col.name === 'company' --><div class=\"company-name ng-scope\" ng-attr-title=\"{{row.name}}\" ng-if=\"col.name === 'company'\" title=\"BÃ¤ckerei - Konditorei Eichenberger AG\"><a class=\"ng-binding\" href=\"/en/search/entity/list/firm/1263740?name=b%C3%A4ckerei&amp;searchType=exact\" ng-bind-html=\"highlight(row.name, $listCtrl.tableParams.filter(), 'name')\" ng-class=\"{ 'strike-thru': row.status === 'GELOESCHT'}\" ui-sref=\".details({ ehraid: row.ehraid })\">BÃ¤ckerei - Konditorei Eichenberger AG</a></div><!-- end ngIf: col.name === 'company' --><!-- ngIf: col.name === 'legalSeat' --><!-- ngIf: col.getValue --></td><!-- end ngIf: col.show() --><!-- end ngRepeat: col in $columns --><!-- ngIf: col.show() --><td class=\"ng-scope\" data-title-text=\"excerpt\" filter=\"$listCtrl.filters[col.name]\" ng-if=\"col.show()\" ng-repeat=\"col in $columns\"><!-- ngIf: col.name === 'company' --><!-- ngIf: col.name === 'legalSeat' --><!-- ngIf: col.getValue --><div class=\"ng-binding ng-scope\" ng-bind-html=\"col.getValue(this, row)\" ng-if=\"col.getValue\"><a href=\"https://be.chregister.ch/cr-portal/auszug/zefix.xhtml?uid=CHE-313.666.724&amp;lang=de\" style=\"margin: 0em 1em;\" target=\"_blank\" title=\"excerpt (Web)\"><span class=\"icon icon--external\"></span></a> </div><!-- end ngIf: col.getValue --></td><!-- end ngIf: col.show() --><!-- end ngRepeat: col in $columns --><!-- ngIf: col.show() --><td class=\"ng-scope\" data-title-text=\"UID / UID register\" filter=\"$listCtrl.filters[col.name]\" ng-if=\"col.show()\" ng-repeat=\"col in $columns\"><!-- ngIf: col.name === 'company' --><!-- ngIf: col.name === 'legalSeat' --><!-- ngIf: col.getValue --><div class=\"ng-binding ng-scope\" ng-bind-html=\"col.getValue(this, row)\" ng-if=\"col.getValue\"><span class=\"no-wrap\">CHE-313.666.724<a class=\"uid-link\" href=\"https://www.uid.admin.ch/Detail.aspx?uid_id=CHE313666724\" target=\"_blank\"><span class=\"icon icon--external icon--after\"></span></a></span></div><!-- end ngIf: col.getValue --></td><!-- end ngIf: col.show() --><!-- end ngRepeat: col in $columns --><!-- ngIf: col.show() --><!-- end ngRepeat: col in $columns --><!-- ngIf: col.show() --><td class=\"ng-scope\" data-title-text=\"legal form\" filter=\"$listCtrl.filters[col.name]\" ng-if=\"col.show()\" ng-repeat=\"col in $columns\"><!-- ngIf: col.name === 'company' --><!-- ngIf: col.name === 'legalSeat' --><!-- ngIf: col.getValue --><div class=\"ng-binding ng-scope\" ng-bind-html=\"col.getValue(this, row)\" ng-if=\"col.getValue\"><span title=\"Corporation\">Ltd</span></div><!-- end ngIf: col.getValue --></td><!-- end ngIf: col.show() --><!-- end ngRepeat: col in $columns --><!-- ngIf: col.show() --><td class=\"ng-scope\" data-title-text=\"seat\" filter=\"$listCtrl.filters[col.name]\" ng-if=\"col.show()\" ng-repeat=\"col in $columns\"><!-- ngIf: col.name === 'company' --><!-- ngIf: col.name === 'legalSeat' --><div class=\"company-seat ng-scope\" ng-if=\"col.name === 'legalSeat'\"><span class=\"ng-binding\" ng-bind-html=\"highlight(row.legalSeat, $listCtrl.tableParams.filter(), 'legalSeat')\">Langnau im Emmental</span></div><!-- end ngIf: col.name === 'legalSeat' --><!-- ngIf: col.getValue --></td><!-- end ngIf: col.show() --><!-- end ngRepeat: col in $columns --><!-- ngIf: col.show() --><td class=\"ng-scope\" data-title-text=\"canton / rc\" filter=\"$listCtrl.filters[col.name]\" ng-if=\"col.show()\" ng-repeat=\"col in $columns\"><!-- ngIf: col.name === 'company' --><!-- ngIf: col.name === 'legalSeat' --><!-- ngIf: col.getValue --><div class=\"ng-binding ng-scope\" ng-bind-html=\"col.getValue(this, row)\" ng-if=\"col.getValue\"><a href=\"http://www.hrabe.ch/\" target=\"_blank\" title=\"Handelsregisteramt des Kantons Bern\">BE - Bern</a></div><!-- end ngIf: col.getValue --></td><!-- end ngIf: col.show() --><!-- end ngRepeat: col in $columns --><!-- ngIf: col.show() --><!-- end ngRepeat: col in $columns --></tr>]"
      ]
     },
     "execution_count": 4,
     "metadata": {},
     "output_type": "execute_result"
    }
   ],
   "source": [
    "h.find_all('tr', {'class':'ng-scope'})"
   ]
  },
  {
   "cell_type": "markdown",
   "metadata": {},
   "source": [
    "Alle Elemente"
   ]
  },
  {
   "cell_type": "code",
   "execution_count": 17,
   "metadata": {},
   "outputs": [
    {
     "data": {
      "text/plain": [
       "'Bäckerei zur Kettenbrücke M. Leutwiler'"
      ]
     },
     "execution_count": 17,
     "metadata": {},
     "output_type": "execute_result"
    }
   ],
   "source": [
    "h.find_all('tr', {'class':'ng-scope'})[0].find('div')['title']"
   ]
  },
  {
   "cell_type": "code",
   "execution_count": 22,
   "metadata": {},
   "outputs": [
    {
     "data": {
      "text/plain": [
       "'https://ag.chregister.ch/cr-portal/auszug/zefix.xhtml?uid=CHE-107.083.298&lang=de'"
      ]
     },
     "execution_count": 22,
     "metadata": {},
     "output_type": "execute_result"
    }
   ],
   "source": [
    "h.find_all('tr', {'class':'ng-scope'})[0].find_next('div').find_next('div').find('a')['href']"
   ]
  },
  {
   "cell_type": "code",
   "execution_count": 35,
   "metadata": {},
   "outputs": [
    {
     "data": {
      "text/plain": [
       "'Aarau'"
      ]
     },
     "execution_count": 35,
     "metadata": {},
     "output_type": "execute_result"
    }
   ],
   "source": [
    "h.find_all('tr', {'class':'ng-scope'})[0].find_next('div') \\\n",
    "    .find_next('div').find_next('div').find_next('div').find_next('div').text"
   ]
  },
  {
   "cell_type": "code",
   "execution_count": 37,
   "metadata": {},
   "outputs": [
    {
     "data": {
      "text/plain": [
       "'AG - Aargau'"
      ]
     },
     "execution_count": 37,
     "metadata": {},
     "output_type": "execute_result"
    }
   ],
   "source": [
    "h.find_all('tr', {'class':'ng-scope'})[0].find_next('div') \\\n",
    "    .find_next('div').find_next('div').find_next('div') \\\n",
    "    .find_next('div').find_next('div').text"
   ]
  },
  {
   "cell_type": "markdown",
   "metadata": {},
   "source": [
    "Und jetzt alles in einen For_loop packen"
   ]
  },
  {
   "cell_type": "code",
   "execution_count": 39,
   "metadata": {},
   "outputs": [],
   "source": [
    "soup_lst = h.find_all('tr', {'class':'ng-scope'})"
   ]
  },
  {
   "cell_type": "code",
   "execution_count": 41,
   "metadata": {},
   "outputs": [],
   "source": [
    "bäck_lst = []\n",
    "\n",
    "for bäck in soup_lst:\n",
    "    \n",
    "    name = bäck.find('div')['title']\n",
    "    url = bäck.find_next('div').find_next('div').find('a')['href']\n",
    "    gem = bäck.find_next('div') \\\n",
    "        .find_next('div').find_next('div').find_next('div').find_next('div').text\n",
    "    kt = bäck.find_next('div') \\\n",
    "        .find_next('div').find_next('div').find_next('div') \\\n",
    "        .find_next('div').find_next('div').text\n",
    "    \n",
    "    minidict = {'Bäckerei': name,\n",
    "                'URL': url,\n",
    "                'Gemeinde': gem,\n",
    "                'Kanton': kt}\n",
    "    \n",
    "    bäck_lst.append(minidict)"
   ]
  },
  {
   "cell_type": "markdown",
   "metadata": {},
   "source": [
    "Jetzt machen wir daraus eine Funktion"
   ]
  },
  {
   "cell_type": "code",
   "execution_count": 45,
   "metadata": {},
   "outputs": [],
   "source": [
    "def get_bäcks(html_code):\n",
    "    \n",
    "    soup_lst = html_code.find_all('tr', {'class':'ng-scope'})\n",
    "    \n",
    "    bäck_lst = []\n",
    "    for bäck in soup_lst:\n",
    "    \n",
    "        name = bäck.find('div')['title']\n",
    "        url = bäck.find_next('div').find_next('div').find('a')['href']\n",
    "        gem = bäck.find_next('div') \\\n",
    "            .find_next('div').find_next('div').find_next('div').find_next('div').text\n",
    "        kt = bäck.find_next('div') \\\n",
    "            .find_next('div').find_next('div').find_next('div') \\\n",
    "            .find_next('div').find_next('div').text\n",
    "    \n",
    "        minidict = {'Bäckerei': name,\n",
    "                'URL': url,\n",
    "                'Gemeinde': gem,\n",
    "                'Kanton': kt}\n",
    "    \n",
    "        bäck_lst.append(minidict)\n",
    "    \n",
    "    return bäck_lst"
   ]
  },
  {
   "cell_type": "code",
   "execution_count": 46,
   "metadata": {},
   "outputs": [],
   "source": [
    "file = open('pages/' + lst[0], 'r')\n",
    "text = file.read()\n",
    "h = BeautifulSoup(text, 'html.parser')"
   ]
  },
  {
   "cell_type": "code",
   "execution_count": 47,
   "metadata": {},
   "outputs": [
    {
     "data": {
      "text/plain": [
       "[{'Bäckerei': 'Bäckerei zur Kettenbrücke M. Leutwiler',\n",
       "  'URL': 'https://ag.chregister.ch/cr-portal/auszug/zefix.xhtml?uid=CHE-107.083.298&lang=de',\n",
       "  'Gemeinde': 'Aarau',\n",
       "  'Kanton': 'AG - Aargau'},\n",
       " {'Bäckerei': 'Bäckerei, Konditorei Fahrni',\n",
       "  'URL': 'https://be.chregister.ch/cr-portal/auszug/zefix.xhtml?uid=CHE-107.180.240&lang=de',\n",
       "  'Gemeinde': 'Dotzigen',\n",
       "  'Kanton': 'BE - Bern'},\n",
       " {'Bäckerei': 'Bäckerei, Konditorei Winter, Ilic Milovan',\n",
       "  'URL': 'https://zh.chregister.ch/cr-portal/auszug/zefix.xhtml?uid=CHE-189.036.773&lang=de',\n",
       "  'Gemeinde': 'Adliswil',\n",
       "  'Kanton': 'ZH - Zürich'},\n",
       " {'Bäckerei': 'Bäckerei, Konditorei, Café \"Zum Steinenen Trauben\" Walz',\n",
       "  'URL': 'https://sh.chregister.ch/cr-portal/auszug/zefix.xhtml?uid=CHE-106.833.950&lang=de',\n",
       "  'Gemeinde': 'Stein am Rhein',\n",
       "  'Kanton': 'SH - Schaffhausen'},\n",
       " {'Bäckerei': 'Bäckerei, Konditorei, Confiserie Mock',\n",
       "  'URL': 'https://bs.chregister.ch/cr-portal/auszug/zefix.xhtml?uid=CHE-110.597.445&lang=de',\n",
       "  'Gemeinde': 'Basel',\n",
       "  'Kanton': 'BS - Basel-Stadt'},\n",
       " {'Bäckerei': 'Bäckerei, Konditorei, Lebensmittel E. Fahrni',\n",
       "  'URL': 'https://be.chregister.ch/cr-portal/auszug/zefix.xhtml?uid=CHE-105.384.814&lang=de',\n",
       "  'Gemeinde': 'Sigriswil',\n",
       "  'Kanton': 'BE - Bern'},\n",
       " {'Bäckerei': 'Bäckerei, Tea-Room und Garni Imseng',\n",
       "  'URL': 'https://vo.chregister.ch/cr-portal/auszug/zefix.xhtml?uid=CHE-106.986.387&lang=de',\n",
       "  'Gemeinde': 'Saas-Fee',\n",
       "  'Kanton': 'VS - Brig (Oberwallis)'},\n",
       " {'Bäckerei': 'Bäckerei-Café Betschart',\n",
       "  'URL': 'https://zh.chregister.ch/cr-portal/auszug/zefix.xhtml?uid=CHE-115.764.041&lang=de',\n",
       "  'Gemeinde': 'Bonstetten',\n",
       "  'Kanton': 'ZH - Zürich'},\n",
       " {'Bäckerei': 'Bäckerei-Café Kohler AG',\n",
       "  'URL': 'https://ag.chregister.ch/cr-portal/auszug/zefix.xhtml?uid=CHE-214.578.660&lang=de',\n",
       "  'Gemeinde': 'Hunzenschwil',\n",
       "  'Kanton': 'AG - Aargau'},\n",
       " {'Bäckerei': 'Bäckerei-Café Meyer AG',\n",
       "  'URL': 'https://lu.chregister.ch/cr-portal/auszug/zefix.xhtml?uid=CHE-112.409.371&lang=de',\n",
       "  'Gemeinde': 'Hitzkirch',\n",
       "  'Kanton': 'LU - Luzern'}]"
      ]
     },
     "execution_count": 47,
     "metadata": {},
     "output_type": "execute_result"
    }
   ],
   "source": [
    "get_bäcks(h)"
   ]
  },
  {
   "cell_type": "markdown",
   "metadata": {},
   "source": [
    "Und jetzt wenden wir das auf alle html files an"
   ]
  },
  {
   "cell_type": "code",
   "execution_count": 58,
   "metadata": {},
   "outputs": [
    {
     "name": "stderr",
     "output_type": "stream",
     "text": [
      "100%|██████████| 36/36 [00:02<00:00, 12.17it/s]\n"
     ]
    }
   ],
   "source": [
    "full_bäck_lst = []\n",
    "for html_file in tqdm(lst):\n",
    "    \n",
    "    file = open('pages/' + html_file, 'r')\n",
    "    text = file.read()\n",
    "    h = BeautifulSoup(text, 'html.parser')\n",
    "    \n",
    "    full_bäck_lst = full_bäck_lst + get_bäcks(h)"
   ]
  },
  {
   "cell_type": "markdown",
   "metadata": {},
   "source": [
    "Einlesen in die Liste und abspeichern"
   ]
  },
  {
   "cell_type": "code",
   "execution_count": 64,
   "metadata": {},
   "outputs": [],
   "source": [
    "df = pd.DataFrame(full_bäck_lst)\n",
    "df.to_csv('bäckereien_list.csv')"
   ]
  },
  {
   "cell_type": "code",
   "execution_count": 63,
   "metadata": {},
   "outputs": [
    {
     "data": {
      "text/plain": [
       "BE - Bern                 86\n",
       "AG - Aargau               43\n",
       "SG - St. Gallen           39\n",
       "ZH - Zürich               35\n",
       "LU - Luzern               31\n",
       "GR - Graubünden           14\n",
       "SO - Solothurn            13\n",
       "VS - Brig (Oberwallis)    13\n",
       "TG - Thurgau              12\n",
       "FR - Fribourg             11\n",
       "BS - Basel-Stadt          10\n",
       "SZ - Schwyz                8\n",
       "BL - Basel-Landschaft      7\n",
       "AR - Appenzell A. Rh.      7\n",
       "ZG - Zug                   5\n",
       "UR - Uri                   3\n",
       "GL - Glarus                3\n",
       "SH - Schaffhausen          2\n",
       "AI - Appenzell I. Rh.      1\n",
       "NW - Nidwalden             1\n",
       "Name: Kanton, dtype: int64"
      ]
     },
     "execution_count": 63,
     "metadata": {},
     "output_type": "execute_result"
    }
   ],
   "source": [
    "df['Kanton'].value_counts()"
   ]
  },
  {
   "cell_type": "code",
   "execution_count": null,
   "metadata": {},
   "outputs": [],
   "source": []
  }
 ],
 "metadata": {
  "kernelspec": {
   "display_name": "Python 3",
   "language": "python",
   "name": "python3"
  },
  "language_info": {
   "codemirror_mode": {
    "name": "ipython",
    "version": 3
   },
   "file_extension": ".py",
   "mimetype": "text/x-python",
   "name": "python",
   "nbconvert_exporter": "python",
   "pygments_lexer": "ipython3",
   "version": "3.7.3"
  }
 },
 "nbformat": 4,
 "nbformat_minor": 2
}
