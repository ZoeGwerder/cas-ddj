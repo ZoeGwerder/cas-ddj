{
 "cells": [
  {
   "cell_type": "code",
   "execution_count": 1,
   "metadata": {},
   "outputs": [],
   "source": [
    "from selenium import webdriver\n",
    "from selenium.webdriver.common.keys import Keys\n",
    "from selenium.webdriver.common.by import By\n",
    "from selenium.webdriver.support.ui import Select\n",
    "import time\n",
    "import pandas as pd\n",
    "from bs4 import BeautifulSoup"
   ]
  },
  {
   "cell_type": "code",
   "execution_count": null,
   "metadata": {},
   "outputs": [],
   "source": []
  },
  {
   "cell_type": "code",
   "execution_count": 3,
   "metadata": {},
   "outputs": [],
   "source": [
    "driver = webdriver.Chrome(executable_path='C:\\chromedriver.exe')"
   ]
  },
  {
   "cell_type": "code",
   "execution_count": 4,
   "metadata": {},
   "outputs": [],
   "source": [
    "driver.get('https://ski.ticketcorner.ch/resort/56?forDate=28.10.2019')"
   ]
  },
  {
   "cell_type": "code",
   "execution_count": 9,
   "metadata": {},
   "outputs": [],
   "source": [
    "search = driver.find_element_by_class_name('graph-days')"
   ]
  },
  {
   "cell_type": "code",
   "execution_count": 10,
   "metadata": {},
   "outputs": [
    {
     "data": {
      "text/plain": [
       "'28.10.\\nMo\\n29.10.\\nDi\\n30.10.\\nMi\\n31.10.\\nDo\\n1.11.\\nFr\\n2.11.\\nSa\\n3.11.\\nSo\\n4.11.\\nMo\\n5.11.\\nDi\\n6.11.\\nMi\\n7.11.\\nDo\\n8.11.\\nFr\\n9.11.\\nSa\\n10.11.\\nSo\\n11.11.\\nMo\\n12.11.\\nDi\\n13.11.\\nMi\\n14.11.\\nDo\\n15.11.\\nFr\\n16.11.\\nSa\\n17.11.\\nSo\\n18.11.\\nMo\\n19.11.\\nDi\\n20.11.\\nMi\\n21.11.\\nDo\\n22.11.\\nFr\\n23.11.\\nSa\\n24.11.\\nSo\\n25.11.\\nMo\\n26.11.\\nDi\\n27.11.\\nMi\\n28.11.\\nDo\\n29.11.\\nFr\\n49.00\\n30.11.\\nSa\\n49.00\\n1.12.\\nSo\\n2.12.\\nMo\\n3.12.\\nDi\\n4.12.\\nMi\\n5.12.\\nDo\\n6.12.\\nFr\\n49.00\\n7.12.\\nSa\\n49.00\\n8.12.\\nSo\\n9.12.\\nMo\\n10.12.\\nDi\\n11.12.\\nMi\\n12.12.\\nDo\\n13.12.\\nFr\\n49.00\\n14.12.\\nSa\\n49.00\\n15.12.\\nSo\\n16.12.\\nMo\\n17.12.\\nDi\\n18.12.\\nMi\\n19.12.\\nDo\\n49.00\\n20.12.\\nFr\\n49.00\\n21.12.\\nSa\\n49.00\\n22.12.\\nSo\\n44.00\\n23.12.\\nMo\\n48.00\\n24.12.\\nDi\\n48.00\\n25.12.\\nMi\\n48.00\\n26.12.\\nDo\\n49.00\\n27.12.\\nFr\\n49.00\\n28.12.\\nSa\\n49.00\\n29.12.\\nSo\\n44.00\\n30.12.\\nMo\\n48.00\\n31.12.\\nDi\\n48.00\\n1.1.\\nMi\\n48.00\\n2.1.\\nDo\\n49.00\\n3.1.\\nFr\\n49.00\\n4.1.\\nSa\\n49.00\\n5.1.\\nSo\\n38.00\\n6.1.\\nMo\\n39.00\\n7.1.\\nDi\\n39.00\\n8.1.\\nMi\\n39.00\\n9.1.\\nDo\\n40.00\\n10.1.\\nFr\\n40.00\\n11.1.\\nSa\\n40.00\\n12.1.\\nSo\\n38.00\\n13.1.\\nMo\\n39.00\\n14.1.\\nDi\\n39.00\\n15.1.\\nMi\\n39.00\\n16.1.\\nDo\\n40.00\\n17.1.\\nFr\\n44.00\\n18.1.\\nSa\\n44.00\\n19.1.\\nSo\\n39.00\\n20.1.\\nMo\\n42.00\\n21.1.\\nDi\\n42.00\\n22.1.\\nMi\\n42.00\\n23.1.\\nDo\\n44.00\\n24.1.\\nFr\\n49.00\\n25.1.\\nSa\\n49.00\\n26.1.\\nSo\\n44.00\\n27.1.\\nMo\\n48.00\\n28.1.\\nDi\\n48.00\\n29.1.\\nMi\\n48.00\\n30.1.\\nDo\\n49.00\\n31.1.\\nFr\\n49.00\\n1.2.\\nSa\\n49.00\\n2.2.\\nSo\\n44.00\\n3.2.\\nMo\\n48.00\\n4.2.\\nDi\\n48.00\\n5.2.\\nMi\\n48.00\\n6.2.\\nDo\\n49.00\\n7.2.\\nFr\\n49.00\\n8.2.\\nSa\\n49.00\\n9.2.\\nSo\\n44.00\\n10.2.\\nMo\\n48.00\\n11.2.\\nDi\\n48.00\\n12.2.\\nMi\\n48.00\\n13.2.\\nDo\\n49.00\\n14.2.\\nFr\\n49.00\\n15.2.\\nSa\\n49.00\\n16.2.\\nSo\\n44.00\\n17.2.\\nMo\\n48.00\\n18.2.\\nDi\\n48.00\\n19.2.\\nMi\\n48.00\\n20.2.\\nDo\\n49.00\\n21.2.\\nFr\\n49.00\\n22.2.\\nSa\\n49.00\\n23.2.\\nSo\\n44.00\\n24.2.\\nMo\\n48.00\\n25.2.\\nDi\\n48.00\\n26.2.\\nMi\\n48.00\\n27.2.\\nDo\\n49.00\\n28.2.\\nFr\\n42.00\\n29.2.\\nSa\\n42.00\\n1.3.\\nSo\\n38.00\\n2.3.\\nMo\\n41.00\\n3.3.\\nDi\\n41.00\\n4.3.\\nMi\\n41.00\\n5.3.\\nDo\\n42.00\\n6.3.\\nFr\\n42.00\\n7.3.\\nSa\\n42.00\\n8.3.\\nSo\\n38.00\\n9.3.\\nMo\\n41.00\\n10.3.\\nDi\\n41.00\\n11.3.\\nMi\\n41.00\\n12.3.\\nDo\\n42.00\\n13.3.\\nFr\\n40.00\\n14.3.\\nSa\\n40.00\\n15.3.\\nSo\\n38.00\\n16.3.\\nMo\\n39.00\\n17.3.\\nDi\\n39.00\\n18.3.\\nMi\\n39.00\\n19.3.\\nDo\\n40.00\\n20.3.\\nFr\\n40.00\\n21.3.\\nSa\\n40.00\\n22.3.\\nSo\\n38.00\\n23.3.\\nMo\\n39.00\\n24.3.\\nDi\\n39.00\\n25.3.\\nMi\\n39.00\\n26.3.\\nDo\\n40.00\\n27.3.\\nFr\\n40.00\\n28.3.\\nSa\\n40.00\\n29.3.\\nSo\\n30.3.\\nMo\\n31.3.\\nDi\\n1.4.\\nMi\\n2.4.\\nDo\\n3.4.\\nFr\\n4.4.\\nSa\\n5.4.\\nSo\\n6.4.\\nMo\\n7.4.\\nDi\\n8.4.\\nMi\\n9.4.\\nDo\\n10.4.\\nFr\\n11.4.\\nSa\\n12.4.\\nSo\\n13.4.\\nMo\\n14.4.\\nDi'"
      ]
     },
     "execution_count": 10,
     "metadata": {},
     "output_type": "execute_result"
    }
   ],
   "source": [
    "search.text"
   ]
  },
  {
   "cell_type": "code",
   "execution_count": null,
   "metadata": {},
   "outputs": [],
   "source": []
  }
 ],
 "metadata": {
  "kernelspec": {
   "display_name": "Python 3",
   "language": "python",
   "name": "python3"
  },
  "language_info": {
   "codemirror_mode": {
    "name": "ipython",
    "version": 3
   },
   "file_extension": ".py",
   "mimetype": "text/x-python",
   "name": "python",
   "nbconvert_exporter": "python",
   "pygments_lexer": "ipython3",
   "version": "3.7.3"
  }
 },
 "nbformat": 4,
 "nbformat_minor": 2
}
