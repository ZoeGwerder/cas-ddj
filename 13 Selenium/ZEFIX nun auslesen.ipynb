{
 "cells": [
  {
   "cell_type": "code",
   "execution_count": 18,
   "metadata": {},
   "outputs": [],
   "source": [
    "import time\n",
    "import pandas as pd\n",
    "from bs4 import BeautifulSoup\n",
    "import os\n",
    "import re\n",
    "from tqdm import tqdm"
   ]
  },
  {
   "cell_type": "code",
   "execution_count": 24,
   "metadata": {},
   "outputs": [],
   "source": [
    "lst=os.listdir(\"pages/\")"
   ]
  },
  {
   "cell_type": "code",
   "execution_count": 25,
   "metadata": {},
   "outputs": [
    {
     "data": {
      "text/plain": [
       "36"
      ]
     },
     "execution_count": 25,
     "metadata": {},
     "output_type": "execute_result"
    }
   ],
   "source": [
    "len(lst)"
   ]
  },
  {
   "cell_type": "code",
   "execution_count": 26,
   "metadata": {},
   "outputs": [],
   "source": [
    "file = open(\"pages/\"+lst[1],\"r\")\n",
    "text = file.read()\n",
    "h = BeautifulSoup(text, 'html.parser')\n",
    "\n",
    "\n"
   ]
  },
  {
   "cell_type": "code",
   "execution_count": 30,
   "metadata": {},
   "outputs": [],
   "source": [
    "# auf der SEite immer die Class suchen und rausziehen\n",
    "zeilen = h.find_all(\"tr\", {\"class\":\"ng-scope\"})\n",
    "\n",
    "\n"
   ]
  },
  {
   "cell_type": "code",
   "execution_count": 45,
   "metadata": {},
   "outputs": [
    {
     "data": {
      "text/plain": [
       "[<tr class=\"ng-scope\" ng-repeat=\"row in $data\"><!-- ngRepeat: col in $columns --><!-- ngIf: col.show() --><td class=\"ng-scope\" data-title-text=\"business name\" filter=\"$listCtrl.filters[col.name]\" ng-if=\"col.show()\" ng-repeat=\"col in $columns\"><!-- ngIf: col.name === 'company' --><div class=\"company-name ng-scope\" ng-attr-title=\"{{row.name}}\" ng-if=\"col.name === 'company'\" title=\"BÃ„CKEREI - KONDITOREI FÃ„SSLER\"><a class=\"ng-binding\" href=\"/en/search/entity/list/firm/958928?name=b%C3%A4ckerei&amp;searchType=exact\" ng-bind-html=\"highlight(row.name, $listCtrl.tableParams.filter(), 'name')\" ng-class=\"{ 'strike-thru': row.status === 'GELOESCHT'}\" ui-sref=\".details({ ehraid: row.ehraid })\">BÃ„CKEREI - KONDITOREI FÃ„SSLER</a></div><!-- end ngIf: col.name === 'company' --><!-- ngIf: col.name === 'legalSeat' --><!-- ngIf: col.getValue --></td><!-- end ngIf: col.show() --><!-- end ngRepeat: col in $columns --><!-- ngIf: col.show() --><td class=\"ng-scope\" data-title-text=\"excerpt\" filter=\"$listCtrl.filters[col.name]\" ng-if=\"col.show()\" ng-repeat=\"col in $columns\"><!-- ngIf: col.name === 'company' --><!-- ngIf: col.name === 'legalSeat' --><!-- ngIf: col.getValue --><div class=\"ng-binding ng-scope\" ng-bind-html=\"col.getValue(this, row)\" ng-if=\"col.getValue\"><a href=\"https://ai.chregister.ch/cr-portal/auszug/zefix.xhtml?uid=CHE-115.132.898&amp;lang=de\" style=\"margin: 0em 1em;\" target=\"_blank\" title=\"excerpt (Web)\"><span class=\"icon icon--external\"></span></a> </div><!-- end ngIf: col.getValue --></td><!-- end ngIf: col.show() --><!-- end ngRepeat: col in $columns --><!-- ngIf: col.show() --><td class=\"ng-scope\" data-title-text=\"UID / UID register\" filter=\"$listCtrl.filters[col.name]\" ng-if=\"col.show()\" ng-repeat=\"col in $columns\"><!-- ngIf: col.name === 'company' --><!-- ngIf: col.name === 'legalSeat' --><!-- ngIf: col.getValue --><div class=\"ng-binding ng-scope\" ng-bind-html=\"col.getValue(this, row)\" ng-if=\"col.getValue\"><span class=\"no-wrap\">CHE-115.132.898<a class=\"uid-link\" href=\"https://www.uid.admin.ch/Detail.aspx?uid_id=CHE115132898\" target=\"_blank\"><span class=\"icon icon--external icon--after\"></span></a></span></div><!-- end ngIf: col.getValue --></td><!-- end ngIf: col.show() --><!-- end ngRepeat: col in $columns --><!-- ngIf: col.show() --><!-- end ngRepeat: col in $columns --><!-- ngIf: col.show() --><td class=\"ng-scope\" data-title-text=\"legal form\" filter=\"$listCtrl.filters[col.name]\" ng-if=\"col.show()\" ng-repeat=\"col in $columns\"><!-- ngIf: col.name === 'company' --><!-- ngIf: col.name === 'legalSeat' --><!-- ngIf: col.getValue --><div class=\"ng-binding ng-scope\" ng-bind-html=\"col.getValue(this, row)\" ng-if=\"col.getValue\"><span title=\"Sole proprietorship\">SP</span></div><!-- end ngIf: col.getValue --></td><!-- end ngIf: col.show() --><!-- end ngRepeat: col in $columns --><!-- ngIf: col.show() --><td class=\"ng-scope\" data-title-text=\"seat\" filter=\"$listCtrl.filters[col.name]\" ng-if=\"col.show()\" ng-repeat=\"col in $columns\"><!-- ngIf: col.name === 'company' --><!-- ngIf: col.name === 'legalSeat' --><div class=\"company-seat ng-scope\" ng-if=\"col.name === 'legalSeat'\"><span class=\"ng-binding\" ng-bind-html=\"highlight(row.legalSeat, $listCtrl.tableParams.filter(), 'legalSeat')\">RÃ¼te</span></div><!-- end ngIf: col.name === 'legalSeat' --><!-- ngIf: col.getValue --></td><!-- end ngIf: col.show() --><!-- end ngRepeat: col in $columns --><!-- ngIf: col.show() --><td class=\"ng-scope\" data-title-text=\"canton / rc\" filter=\"$listCtrl.filters[col.name]\" ng-if=\"col.show()\" ng-repeat=\"col in $columns\"><!-- ngIf: col.name === 'company' --><!-- ngIf: col.name === 'legalSeat' --><!-- ngIf: col.getValue --><div class=\"ng-binding ng-scope\" ng-bind-html=\"col.getValue(this, row)\" ng-if=\"col.getValue\"><a href=\"https://www.ai.ch/themen/wirtschaft-und-arbeit/handelsregister\" target=\"_blank\" title=\"Handelsregisteramt des Kantons Appenzell I. Rh.\">AI - Appenzell I. Rh.</a></div><!-- end ngIf: col.getValue --></td><!-- end ngIf: col.show() --><!-- end ngRepeat: col in $columns --><!-- ngIf: col.show() --><!-- end ngRepeat: col in $columns --></tr>,\n",
       " <tr class=\"ng-scope\" ng-repeat=\"row in $data\"><!-- ngRepeat: col in $columns --><!-- ngIf: col.show() --><td class=\"ng-scope\" data-title-text=\"business name\" filter=\"$listCtrl.filters[col.name]\" ng-if=\"col.show()\" ng-repeat=\"col in $columns\"><!-- ngIf: col.name === 'company' --><div class=\"company-name ng-scope\" ng-attr-title=\"{{row.name}}\" ng-if=\"col.name === 'company'\" title=\"BÃ¤ckerei - Konditorei Furter, Nachfolger Mario Monaco-Oesch\"><a class=\"ng-binding\" href=\"/en/search/entity/list/firm/665315?name=b%C3%A4ckerei&amp;searchType=exact\" ng-bind-html=\"highlight(row.name, $listCtrl.tableParams.filter(), 'name')\" ng-class=\"{ 'strike-thru': row.status === 'GELOESCHT'}\" ui-sref=\".details({ ehraid: row.ehraid })\">BÃ¤ckerei - Konditorei Furter, Nachfolger Mario Monaco-Oesch</a></div><!-- end ngIf: col.name === 'company' --><!-- ngIf: col.name === 'legalSeat' --><!-- ngIf: col.getValue --></td><!-- end ngIf: col.show() --><!-- end ngRepeat: col in $columns --><!-- ngIf: col.show() --><td class=\"ng-scope\" data-title-text=\"excerpt\" filter=\"$listCtrl.filters[col.name]\" ng-if=\"col.show()\" ng-repeat=\"col in $columns\"><!-- ngIf: col.name === 'company' --><!-- ngIf: col.name === 'legalSeat' --><!-- ngIf: col.getValue --><div class=\"ng-binding ng-scope\" ng-bind-html=\"col.getValue(this, row)\" ng-if=\"col.getValue\"><a href=\"https://ag.chregister.ch/cr-portal/auszug/zefix.xhtml?uid=CHE-109.386.806&amp;lang=de\" style=\"margin: 0em 1em;\" target=\"_blank\" title=\"excerpt (Web)\"><span class=\"icon icon--external\"></span></a> </div><!-- end ngIf: col.getValue --></td><!-- end ngIf: col.show() --><!-- end ngRepeat: col in $columns --><!-- ngIf: col.show() --><td class=\"ng-scope\" data-title-text=\"UID / UID register\" filter=\"$listCtrl.filters[col.name]\" ng-if=\"col.show()\" ng-repeat=\"col in $columns\"><!-- ngIf: col.name === 'company' --><!-- ngIf: col.name === 'legalSeat' --><!-- ngIf: col.getValue --><div class=\"ng-binding ng-scope\" ng-bind-html=\"col.getValue(this, row)\" ng-if=\"col.getValue\"><span class=\"no-wrap\">CHE-109.386.806<a class=\"uid-link\" href=\"https://www.uid.admin.ch/Detail.aspx?uid_id=CHE109386806\" target=\"_blank\"><span class=\"icon icon--external icon--after\"></span></a></span></div><!-- end ngIf: col.getValue --></td><!-- end ngIf: col.show() --><!-- end ngRepeat: col in $columns --><!-- ngIf: col.show() --><!-- end ngRepeat: col in $columns --><!-- ngIf: col.show() --><td class=\"ng-scope\" data-title-text=\"legal form\" filter=\"$listCtrl.filters[col.name]\" ng-if=\"col.show()\" ng-repeat=\"col in $columns\"><!-- ngIf: col.name === 'company' --><!-- ngIf: col.name === 'legalSeat' --><!-- ngIf: col.getValue --><div class=\"ng-binding ng-scope\" ng-bind-html=\"col.getValue(this, row)\" ng-if=\"col.getValue\"><span title=\"Sole proprietorship\">SP</span></div><!-- end ngIf: col.getValue --></td><!-- end ngIf: col.show() --><!-- end ngRepeat: col in $columns --><!-- ngIf: col.show() --><td class=\"ng-scope\" data-title-text=\"seat\" filter=\"$listCtrl.filters[col.name]\" ng-if=\"col.show()\" ng-repeat=\"col in $columns\"><!-- ngIf: col.name === 'company' --><!-- ngIf: col.name === 'legalSeat' --><div class=\"company-seat ng-scope\" ng-if=\"col.name === 'legalSeat'\"><span class=\"ng-binding\" ng-bind-html=\"highlight(row.legalSeat, $listCtrl.tableParams.filter(), 'legalSeat')\">Aarau</span></div><!-- end ngIf: col.name === 'legalSeat' --><!-- ngIf: col.getValue --></td><!-- end ngIf: col.show() --><!-- end ngRepeat: col in $columns --><!-- ngIf: col.show() --><td class=\"ng-scope\" data-title-text=\"canton / rc\" filter=\"$listCtrl.filters[col.name]\" ng-if=\"col.show()\" ng-repeat=\"col in $columns\"><!-- ngIf: col.name === 'company' --><!-- ngIf: col.name === 'legalSeat' --><!-- ngIf: col.getValue --><div class=\"ng-binding ng-scope\" ng-bind-html=\"col.getValue(this, row)\" ng-if=\"col.getValue\"><a href=\"http://www.ag.ch/handelsregisteramt/\" target=\"_blank\" title=\"Handelsregisteramt des Kantons Aargau\">AG - Aargau</a></div><!-- end ngIf: col.getValue --></td><!-- end ngIf: col.show() --><!-- end ngRepeat: col in $columns --><!-- ngIf: col.show() --><!-- end ngRepeat: col in $columns --></tr>,\n",
       " <tr class=\"ng-scope\" ng-repeat=\"row in $data\"><!-- ngRepeat: col in $columns --><!-- ngIf: col.show() --><td class=\"ng-scope\" data-title-text=\"business name\" filter=\"$listCtrl.filters[col.name]\" ng-if=\"col.show()\" ng-repeat=\"col in $columns\"><!-- ngIf: col.name === 'company' --><div class=\"company-name ng-scope\" ng-attr-title=\"{{row.name}}\" ng-if=\"col.name === 'company'\" title=\"BÃ¤ckerei - Konditorei GÃ¼beli\"><a class=\"ng-binding\" href=\"/en/search/entity/list/firm/947999?name=b%C3%A4ckerei&amp;searchType=exact\" ng-bind-html=\"highlight(row.name, $listCtrl.tableParams.filter(), 'name')\" ng-class=\"{ 'strike-thru': row.status === 'GELOESCHT'}\" ui-sref=\".details({ ehraid: row.ehraid })\">BÃ¤ckerei - Konditorei GÃ¼beli</a></div><!-- end ngIf: col.name === 'company' --><!-- ngIf: col.name === 'legalSeat' --><!-- ngIf: col.getValue --></td><!-- end ngIf: col.show() --><!-- end ngRepeat: col in $columns --><!-- ngIf: col.show() --><td class=\"ng-scope\" data-title-text=\"excerpt\" filter=\"$listCtrl.filters[col.name]\" ng-if=\"col.show()\" ng-repeat=\"col in $columns\"><!-- ngIf: col.name === 'company' --><!-- ngIf: col.name === 'legalSeat' --><!-- ngIf: col.getValue --><div class=\"ng-binding ng-scope\" ng-bind-html=\"col.getValue(this, row)\" ng-if=\"col.getValue\"><a href=\"https://be.chregister.ch/cr-portal/auszug/zefix.xhtml?uid=CHE-114.920.189&amp;lang=de\" style=\"margin: 0em 1em;\" target=\"_blank\" title=\"excerpt (Web)\"><span class=\"icon icon--external\"></span></a> </div><!-- end ngIf: col.getValue --></td><!-- end ngIf: col.show() --><!-- end ngRepeat: col in $columns --><!-- ngIf: col.show() --><td class=\"ng-scope\" data-title-text=\"UID / UID register\" filter=\"$listCtrl.filters[col.name]\" ng-if=\"col.show()\" ng-repeat=\"col in $columns\"><!-- ngIf: col.name === 'company' --><!-- ngIf: col.name === 'legalSeat' --><!-- ngIf: col.getValue --><div class=\"ng-binding ng-scope\" ng-bind-html=\"col.getValue(this, row)\" ng-if=\"col.getValue\"><span class=\"no-wrap\">CHE-114.920.189<a class=\"uid-link\" href=\"https://www.uid.admin.ch/Detail.aspx?uid_id=CHE114920189\" target=\"_blank\"><span class=\"icon icon--external icon--after\"></span></a></span></div><!-- end ngIf: col.getValue --></td><!-- end ngIf: col.show() --><!-- end ngRepeat: col in $columns --><!-- ngIf: col.show() --><!-- end ngRepeat: col in $columns --><!-- ngIf: col.show() --><td class=\"ng-scope\" data-title-text=\"legal form\" filter=\"$listCtrl.filters[col.name]\" ng-if=\"col.show()\" ng-repeat=\"col in $columns\"><!-- ngIf: col.name === 'company' --><!-- ngIf: col.name === 'legalSeat' --><!-- ngIf: col.getValue --><div class=\"ng-binding ng-scope\" ng-bind-html=\"col.getValue(this, row)\" ng-if=\"col.getValue\"><span title=\"Sole proprietorship\">SP</span></div><!-- end ngIf: col.getValue --></td><!-- end ngIf: col.show() --><!-- end ngRepeat: col in $columns --><!-- ngIf: col.show() --><td class=\"ng-scope\" data-title-text=\"seat\" filter=\"$listCtrl.filters[col.name]\" ng-if=\"col.show()\" ng-repeat=\"col in $columns\"><!-- ngIf: col.name === 'company' --><!-- ngIf: col.name === 'legalSeat' --><div class=\"company-seat ng-scope\" ng-if=\"col.name === 'legalSeat'\"><span class=\"ng-binding\" ng-bind-html=\"highlight(row.legalSeat, $listCtrl.tableParams.filter(), 'legalSeat')\">St. Stephan</span></div><!-- end ngIf: col.name === 'legalSeat' --><!-- ngIf: col.getValue --></td><!-- end ngIf: col.show() --><!-- end ngRepeat: col in $columns --><!-- ngIf: col.show() --><td class=\"ng-scope\" data-title-text=\"canton / rc\" filter=\"$listCtrl.filters[col.name]\" ng-if=\"col.show()\" ng-repeat=\"col in $columns\"><!-- ngIf: col.name === 'company' --><!-- ngIf: col.name === 'legalSeat' --><!-- ngIf: col.getValue --><div class=\"ng-binding ng-scope\" ng-bind-html=\"col.getValue(this, row)\" ng-if=\"col.getValue\"><a href=\"http://www.hrabe.ch/\" target=\"_blank\" title=\"Handelsregisteramt des Kantons Bern\">BE - Bern</a></div><!-- end ngIf: col.getValue --></td><!-- end ngIf: col.show() --><!-- end ngRepeat: col in $columns --><!-- ngIf: col.show() --><!-- end ngRepeat: col in $columns --></tr>,\n",
       " <tr class=\"ng-scope\" ng-repeat=\"row in $data\"><!-- ngRepeat: col in $columns --><!-- ngIf: col.show() --><td class=\"ng-scope\" data-title-text=\"business name\" filter=\"$listCtrl.filters[col.name]\" ng-if=\"col.show()\" ng-repeat=\"col in $columns\"><!-- ngIf: col.name === 'company' --><div class=\"company-name ng-scope\" ng-attr-title=\"{{row.name}}\" ng-if=\"col.name === 'company'\" title=\"BÃ¤ckerei - Konditorei Hermann\"><a class=\"ng-binding\" href=\"/en/search/entity/list/firm/578071?name=b%C3%A4ckerei&amp;searchType=exact\" ng-bind-html=\"highlight(row.name, $listCtrl.tableParams.filter(), 'name')\" ng-class=\"{ 'strike-thru': row.status === 'GELOESCHT'}\" ui-sref=\".details({ ehraid: row.ehraid })\">BÃ¤ckerei - Konditorei Hermann</a></div><!-- end ngIf: col.name === 'company' --><!-- ngIf: col.name === 'legalSeat' --><!-- ngIf: col.getValue --></td><!-- end ngIf: col.show() --><!-- end ngRepeat: col in $columns --><!-- ngIf: col.show() --><td class=\"ng-scope\" data-title-text=\"excerpt\" filter=\"$listCtrl.filters[col.name]\" ng-if=\"col.show()\" ng-repeat=\"col in $columns\"><!-- ngIf: col.name === 'company' --><!-- ngIf: col.name === 'legalSeat' --><!-- ngIf: col.getValue --><div class=\"ng-binding ng-scope\" ng-bind-html=\"col.getValue(this, row)\" ng-if=\"col.getValue\"><a href=\"https://ag.chregister.ch/cr-portal/auszug/zefix.xhtml?uid=CHE-107.066.035&amp;lang=de\" style=\"margin: 0em 1em;\" target=\"_blank\" title=\"excerpt (Web)\"><span class=\"icon icon--external\"></span></a> </div><!-- end ngIf: col.getValue --></td><!-- end ngIf: col.show() --><!-- end ngRepeat: col in $columns --><!-- ngIf: col.show() --><td class=\"ng-scope\" data-title-text=\"UID / UID register\" filter=\"$listCtrl.filters[col.name]\" ng-if=\"col.show()\" ng-repeat=\"col in $columns\"><!-- ngIf: col.name === 'company' --><!-- ngIf: col.name === 'legalSeat' --><!-- ngIf: col.getValue --><div class=\"ng-binding ng-scope\" ng-bind-html=\"col.getValue(this, row)\" ng-if=\"col.getValue\"><span class=\"no-wrap\">CHE-107.066.035<a class=\"uid-link\" href=\"https://www.uid.admin.ch/Detail.aspx?uid_id=CHE107066035\" target=\"_blank\"><span class=\"icon icon--external icon--after\"></span></a></span></div><!-- end ngIf: col.getValue --></td><!-- end ngIf: col.show() --><!-- end ngRepeat: col in $columns --><!-- ngIf: col.show() --><!-- end ngRepeat: col in $columns --><!-- ngIf: col.show() --><td class=\"ng-scope\" data-title-text=\"legal form\" filter=\"$listCtrl.filters[col.name]\" ng-if=\"col.show()\" ng-repeat=\"col in $columns\"><!-- ngIf: col.name === 'company' --><!-- ngIf: col.name === 'legalSeat' --><!-- ngIf: col.getValue --><div class=\"ng-binding ng-scope\" ng-bind-html=\"col.getValue(this, row)\" ng-if=\"col.getValue\"><span title=\"Sole proprietorship\">SP</span></div><!-- end ngIf: col.getValue --></td><!-- end ngIf: col.show() --><!-- end ngRepeat: col in $columns --><!-- ngIf: col.show() --><td class=\"ng-scope\" data-title-text=\"seat\" filter=\"$listCtrl.filters[col.name]\" ng-if=\"col.show()\" ng-repeat=\"col in $columns\"><!-- ngIf: col.name === 'company' --><!-- ngIf: col.name === 'legalSeat' --><div class=\"company-seat ng-scope\" ng-if=\"col.name === 'legalSeat'\"><span class=\"ng-binding\" ng-bind-html=\"highlight(row.legalSeat, $listCtrl.tableParams.filter(), 'legalSeat')\">Muhen</span></div><!-- end ngIf: col.name === 'legalSeat' --><!-- ngIf: col.getValue --></td><!-- end ngIf: col.show() --><!-- end ngRepeat: col in $columns --><!-- ngIf: col.show() --><td class=\"ng-scope\" data-title-text=\"canton / rc\" filter=\"$listCtrl.filters[col.name]\" ng-if=\"col.show()\" ng-repeat=\"col in $columns\"><!-- ngIf: col.name === 'company' --><!-- ngIf: col.name === 'legalSeat' --><!-- ngIf: col.getValue --><div class=\"ng-binding ng-scope\" ng-bind-html=\"col.getValue(this, row)\" ng-if=\"col.getValue\"><a href=\"http://www.ag.ch/handelsregisteramt/\" target=\"_blank\" title=\"Handelsregisteramt des Kantons Aargau\">AG - Aargau</a></div><!-- end ngIf: col.getValue --></td><!-- end ngIf: col.show() --><!-- end ngRepeat: col in $columns --><!-- ngIf: col.show() --><!-- end ngRepeat: col in $columns --></tr>,\n",
       " <tr class=\"ng-scope\" ng-repeat=\"row in $data\"><!-- ngRepeat: col in $columns --><!-- ngIf: col.show() --><td class=\"ng-scope\" data-title-text=\"business name\" filter=\"$listCtrl.filters[col.name]\" ng-if=\"col.show()\" ng-repeat=\"col in $columns\"><!-- ngIf: col.name === 'company' --><div class=\"company-name ng-scope\" ng-attr-title=\"{{row.name}}\" ng-if=\"col.name === 'company'\" title=\"BÃ¤ckerei - Konditorei Jean-Pierre Grindat\"><a class=\"ng-binding\" href=\"/en/search/entity/list/firm/837841?name=b%C3%A4ckerei&amp;searchType=exact\" ng-bind-html=\"highlight(row.name, $listCtrl.tableParams.filter(), 'name')\" ng-class=\"{ 'strike-thru': row.status === 'GELOESCHT'}\" ui-sref=\".details({ ehraid: row.ehraid })\">BÃ¤ckerei - Konditorei Jean-Pierre Grindat</a></div><!-- end ngIf: col.name === 'company' --><!-- ngIf: col.name === 'legalSeat' --><!-- ngIf: col.getValue --></td><!-- end ngIf: col.show() --><!-- end ngRepeat: col in $columns --><!-- ngIf: col.show() --><td class=\"ng-scope\" data-title-text=\"excerpt\" filter=\"$listCtrl.filters[col.name]\" ng-if=\"col.show()\" ng-repeat=\"col in $columns\"><!-- ngIf: col.name === 'company' --><!-- ngIf: col.name === 'legalSeat' --><!-- ngIf: col.getValue --><div class=\"ng-binding ng-scope\" ng-bind-html=\"col.getValue(this, row)\" ng-if=\"col.getValue\"><a href=\"https://be.chregister.ch/cr-portal/auszug/zefix.xhtml?uid=CHE-106.154.151&amp;lang=de\" style=\"margin: 0em 1em;\" target=\"_blank\" title=\"excerpt (Web)\"><span class=\"icon icon--external\"></span></a> </div><!-- end ngIf: col.getValue --></td><!-- end ngIf: col.show() --><!-- end ngRepeat: col in $columns --><!-- ngIf: col.show() --><td class=\"ng-scope\" data-title-text=\"UID / UID register\" filter=\"$listCtrl.filters[col.name]\" ng-if=\"col.show()\" ng-repeat=\"col in $columns\"><!-- ngIf: col.name === 'company' --><!-- ngIf: col.name === 'legalSeat' --><!-- ngIf: col.getValue --><div class=\"ng-binding ng-scope\" ng-bind-html=\"col.getValue(this, row)\" ng-if=\"col.getValue\"><span class=\"no-wrap\">CHE-106.154.151<a class=\"uid-link\" href=\"https://www.uid.admin.ch/Detail.aspx?uid_id=CHE106154151\" target=\"_blank\"><span class=\"icon icon--external icon--after\"></span></a></span></div><!-- end ngIf: col.getValue --></td><!-- end ngIf: col.show() --><!-- end ngRepeat: col in $columns --><!-- ngIf: col.show() --><!-- end ngRepeat: col in $columns --><!-- ngIf: col.show() --><td class=\"ng-scope\" data-title-text=\"legal form\" filter=\"$listCtrl.filters[col.name]\" ng-if=\"col.show()\" ng-repeat=\"col in $columns\"><!-- ngIf: col.name === 'company' --><!-- ngIf: col.name === 'legalSeat' --><!-- ngIf: col.getValue --><div class=\"ng-binding ng-scope\" ng-bind-html=\"col.getValue(this, row)\" ng-if=\"col.getValue\"><span title=\"Sole proprietorship\">SP</span></div><!-- end ngIf: col.getValue --></td><!-- end ngIf: col.show() --><!-- end ngRepeat: col in $columns --><!-- ngIf: col.show() --><td class=\"ng-scope\" data-title-text=\"seat\" filter=\"$listCtrl.filters[col.name]\" ng-if=\"col.show()\" ng-repeat=\"col in $columns\"><!-- ngIf: col.name === 'company' --><!-- ngIf: col.name === 'legalSeat' --><div class=\"company-seat ng-scope\" ng-if=\"col.name === 'legalSeat'\"><span class=\"ng-binding\" ng-bind-html=\"highlight(row.legalSeat, $listCtrl.tableParams.filter(), 'legalSeat')\">Orpund</span></div><!-- end ngIf: col.name === 'legalSeat' --><!-- ngIf: col.getValue --></td><!-- end ngIf: col.show() --><!-- end ngRepeat: col in $columns --><!-- ngIf: col.show() --><td class=\"ng-scope\" data-title-text=\"canton / rc\" filter=\"$listCtrl.filters[col.name]\" ng-if=\"col.show()\" ng-repeat=\"col in $columns\"><!-- ngIf: col.name === 'company' --><!-- ngIf: col.name === 'legalSeat' --><!-- ngIf: col.getValue --><div class=\"ng-binding ng-scope\" ng-bind-html=\"col.getValue(this, row)\" ng-if=\"col.getValue\"><a href=\"http://www.hrabe.ch/\" target=\"_blank\" title=\"Handelsregisteramt des Kantons Bern\">BE - Bern</a></div><!-- end ngIf: col.getValue --></td><!-- end ngIf: col.show() --><!-- end ngRepeat: col in $columns --><!-- ngIf: col.show() --><!-- end ngRepeat: col in $columns --></tr>,\n",
       " <tr class=\"ng-scope\" ng-repeat=\"row in $data\"><!-- ngRepeat: col in $columns --><!-- ngIf: col.show() --><td class=\"ng-scope\" data-title-text=\"business name\" filter=\"$listCtrl.filters[col.name]\" ng-if=\"col.show()\" ng-repeat=\"col in $columns\"><!-- ngIf: col.name === 'company' --><div class=\"company-name ng-scope\" ng-attr-title=\"{{row.name}}\" ng-if=\"col.name === 'company'\" title=\"BÃ¤ckerei - Konditorei Leuenberger\"><a class=\"ng-binding\" href=\"/en/search/entity/list/firm/613286?name=b%C3%A4ckerei&amp;searchType=exact\" ng-bind-html=\"highlight(row.name, $listCtrl.tableParams.filter(), 'name')\" ng-class=\"{ 'strike-thru': row.status === 'GELOESCHT'}\" ui-sref=\".details({ ehraid: row.ehraid })\">BÃ¤ckerei - Konditorei Leuenberger</a></div><!-- end ngIf: col.name === 'company' --><!-- ngIf: col.name === 'legalSeat' --><!-- ngIf: col.getValue --></td><!-- end ngIf: col.show() --><!-- end ngRepeat: col in $columns --><!-- ngIf: col.show() --><td class=\"ng-scope\" data-title-text=\"excerpt\" filter=\"$listCtrl.filters[col.name]\" ng-if=\"col.show()\" ng-repeat=\"col in $columns\"><!-- ngIf: col.name === 'company' --><!-- ngIf: col.name === 'legalSeat' --><!-- ngIf: col.getValue --><div class=\"ng-binding ng-scope\" ng-bind-html=\"col.getValue(this, row)\" ng-if=\"col.getValue\"><a href=\"https://be.chregister.ch/cr-portal/auszug/zefix.xhtml?uid=CHE-107.148.259&amp;lang=de\" style=\"margin: 0em 1em;\" target=\"_blank\" title=\"excerpt (Web)\"><span class=\"icon icon--external\"></span></a> </div><!-- end ngIf: col.getValue --></td><!-- end ngIf: col.show() --><!-- end ngRepeat: col in $columns --><!-- ngIf: col.show() --><td class=\"ng-scope\" data-title-text=\"UID / UID register\" filter=\"$listCtrl.filters[col.name]\" ng-if=\"col.show()\" ng-repeat=\"col in $columns\"><!-- ngIf: col.name === 'company' --><!-- ngIf: col.name === 'legalSeat' --><!-- ngIf: col.getValue --><div class=\"ng-binding ng-scope\" ng-bind-html=\"col.getValue(this, row)\" ng-if=\"col.getValue\"><span class=\"no-wrap\">CHE-107.148.259<a class=\"uid-link\" href=\"https://www.uid.admin.ch/Detail.aspx?uid_id=CHE107148259\" target=\"_blank\"><span class=\"icon icon--external icon--after\"></span></a></span></div><!-- end ngIf: col.getValue --></td><!-- end ngIf: col.show() --><!-- end ngRepeat: col in $columns --><!-- ngIf: col.show() --><!-- end ngRepeat: col in $columns --><!-- ngIf: col.show() --><td class=\"ng-scope\" data-title-text=\"legal form\" filter=\"$listCtrl.filters[col.name]\" ng-if=\"col.show()\" ng-repeat=\"col in $columns\"><!-- ngIf: col.name === 'company' --><!-- ngIf: col.name === 'legalSeat' --><!-- ngIf: col.getValue --><div class=\"ng-binding ng-scope\" ng-bind-html=\"col.getValue(this, row)\" ng-if=\"col.getValue\"><span title=\"Sole proprietorship\">SP</span></div><!-- end ngIf: col.getValue --></td><!-- end ngIf: col.show() --><!-- end ngRepeat: col in $columns --><!-- ngIf: col.show() --><td class=\"ng-scope\" data-title-text=\"seat\" filter=\"$listCtrl.filters[col.name]\" ng-if=\"col.show()\" ng-repeat=\"col in $columns\"><!-- ngIf: col.name === 'company' --><!-- ngIf: col.name === 'legalSeat' --><div class=\"company-seat ng-scope\" ng-if=\"col.name === 'legalSeat'\"><span class=\"ng-binding\" ng-bind-html=\"highlight(row.legalSeat, $listCtrl.tableParams.filter(), 'legalSeat')\">Zollikofen</span></div><!-- end ngIf: col.name === 'legalSeat' --><!-- ngIf: col.getValue --></td><!-- end ngIf: col.show() --><!-- end ngRepeat: col in $columns --><!-- ngIf: col.show() --><td class=\"ng-scope\" data-title-text=\"canton / rc\" filter=\"$listCtrl.filters[col.name]\" ng-if=\"col.show()\" ng-repeat=\"col in $columns\"><!-- ngIf: col.name === 'company' --><!-- ngIf: col.name === 'legalSeat' --><!-- ngIf: col.getValue --><div class=\"ng-binding ng-scope\" ng-bind-html=\"col.getValue(this, row)\" ng-if=\"col.getValue\"><a href=\"http://www.hrabe.ch/\" target=\"_blank\" title=\"Handelsregisteramt des Kantons Bern\">BE - Bern</a></div><!-- end ngIf: col.getValue --></td><!-- end ngIf: col.show() --><!-- end ngRepeat: col in $columns --><!-- ngIf: col.show() --><!-- end ngRepeat: col in $columns --></tr>,\n",
       " <tr class=\"ng-scope\" ng-repeat=\"row in $data\"><!-- ngRepeat: col in $columns --><!-- ngIf: col.show() --><td class=\"ng-scope\" data-title-text=\"business name\" filter=\"$listCtrl.filters[col.name]\" ng-if=\"col.show()\" ng-repeat=\"col in $columns\"><!-- ngIf: col.name === 'company' --><div class=\"company-name ng-scope\" ng-attr-title=\"{{row.name}}\" ng-if=\"col.name === 'company'\" title=\"BÃ¤ckerei - Konditorei Maier GmbH\"><a class=\"ng-binding\" href=\"/en/search/entity/list/firm/1272422?name=b%C3%A4ckerei&amp;searchType=exact\" ng-bind-html=\"highlight(row.name, $listCtrl.tableParams.filter(), 'name')\" ng-class=\"{ 'strike-thru': row.status === 'GELOESCHT'}\" ui-sref=\".details({ ehraid: row.ehraid })\">BÃ¤ckerei - Konditorei Maier GmbH</a></div><!-- end ngIf: col.name === 'company' --><!-- ngIf: col.name === 'legalSeat' --><!-- ngIf: col.getValue --></td><!-- end ngIf: col.show() --><!-- end ngRepeat: col in $columns --><!-- ngIf: col.show() --><td class=\"ng-scope\" data-title-text=\"excerpt\" filter=\"$listCtrl.filters[col.name]\" ng-if=\"col.show()\" ng-repeat=\"col in $columns\"><!-- ngIf: col.name === 'company' --><!-- ngIf: col.name === 'legalSeat' --><!-- ngIf: col.getValue --><div class=\"ng-binding ng-scope\" ng-bind-html=\"col.getValue(this, row)\" ng-if=\"col.getValue\"><a href=\"https://ag.chregister.ch/cr-portal/auszug/zefix.xhtml?uid=CHE-200.539.725&amp;lang=de\" style=\"margin: 0em 1em;\" target=\"_blank\" title=\"excerpt (Web)\"><span class=\"icon icon--external\"></span></a> </div><!-- end ngIf: col.getValue --></td><!-- end ngIf: col.show() --><!-- end ngRepeat: col in $columns --><!-- ngIf: col.show() --><td class=\"ng-scope\" data-title-text=\"UID / UID register\" filter=\"$listCtrl.filters[col.name]\" ng-if=\"col.show()\" ng-repeat=\"col in $columns\"><!-- ngIf: col.name === 'company' --><!-- ngIf: col.name === 'legalSeat' --><!-- ngIf: col.getValue --><div class=\"ng-binding ng-scope\" ng-bind-html=\"col.getValue(this, row)\" ng-if=\"col.getValue\"><span class=\"no-wrap\">CHE-200.539.725<a class=\"uid-link\" href=\"https://www.uid.admin.ch/Detail.aspx?uid_id=CHE200539725\" target=\"_blank\"><span class=\"icon icon--external icon--after\"></span></a></span></div><!-- end ngIf: col.getValue --></td><!-- end ngIf: col.show() --><!-- end ngRepeat: col in $columns --><!-- ngIf: col.show() --><!-- end ngRepeat: col in $columns --><!-- ngIf: col.show() --><td class=\"ng-scope\" data-title-text=\"legal form\" filter=\"$listCtrl.filters[col.name]\" ng-if=\"col.show()\" ng-repeat=\"col in $columns\"><!-- ngIf: col.name === 'company' --><!-- ngIf: col.name === 'legalSeat' --><!-- ngIf: col.getValue --><div class=\"ng-binding ng-scope\" ng-bind-html=\"col.getValue(this, row)\" ng-if=\"col.getValue\"><span title=\"Limited Liability Company\">LLC</span></div><!-- end ngIf: col.getValue --></td><!-- end ngIf: col.show() --><!-- end ngRepeat: col in $columns --><!-- ngIf: col.show() --><td class=\"ng-scope\" data-title-text=\"seat\" filter=\"$listCtrl.filters[col.name]\" ng-if=\"col.show()\" ng-repeat=\"col in $columns\"><!-- ngIf: col.name === 'company' --><!-- ngIf: col.name === 'legalSeat' --><div class=\"company-seat ng-scope\" ng-if=\"col.name === 'legalSeat'\"><span class=\"ng-binding\" ng-bind-html=\"highlight(row.legalSeat, $listCtrl.tableParams.filter(), 'legalSeat')\">BÃ¶ttstein</span></div><!-- end ngIf: col.name === 'legalSeat' --><!-- ngIf: col.getValue --></td><!-- end ngIf: col.show() --><!-- end ngRepeat: col in $columns --><!-- ngIf: col.show() --><td class=\"ng-scope\" data-title-text=\"canton / rc\" filter=\"$listCtrl.filters[col.name]\" ng-if=\"col.show()\" ng-repeat=\"col in $columns\"><!-- ngIf: col.name === 'company' --><!-- ngIf: col.name === 'legalSeat' --><!-- ngIf: col.getValue --><div class=\"ng-binding ng-scope\" ng-bind-html=\"col.getValue(this, row)\" ng-if=\"col.getValue\"><a href=\"http://www.ag.ch/handelsregisteramt/\" target=\"_blank\" title=\"Handelsregisteramt des Kantons Aargau\">AG - Aargau</a></div><!-- end ngIf: col.getValue --></td><!-- end ngIf: col.show() --><!-- end ngRepeat: col in $columns --><!-- ngIf: col.show() --><!-- end ngRepeat: col in $columns --></tr>,\n",
       " <tr class=\"ng-scope\" ng-repeat=\"row in $data\"><!-- ngRepeat: col in $columns --><!-- ngIf: col.show() --><td class=\"ng-scope\" data-title-text=\"business name\" filter=\"$listCtrl.filters[col.name]\" ng-if=\"col.show()\" ng-repeat=\"col in $columns\"><!-- ngIf: col.name === 'company' --><div class=\"company-name ng-scope\" ng-attr-title=\"{{row.name}}\" ng-if=\"col.name === 'company'\" title=\"BÃ¤ckerei - Konditorei MÃ¤rchy GmbH\"><a class=\"ng-binding\" href=\"/en/search/entity/list/firm/609954?name=b%C3%A4ckerei&amp;searchType=exact\" ng-bind-html=\"highlight(row.name, $listCtrl.tableParams.filter(), 'name')\" ng-class=\"{ 'strike-thru': row.status === 'GELOESCHT'}\" ui-sref=\".details({ ehraid: row.ehraid })\">BÃ¤ckerei - Konditorei MÃ¤rchy GmbH</a></div><!-- end ngIf: col.name === 'company' --><!-- ngIf: col.name === 'legalSeat' --><!-- ngIf: col.getValue --></td><!-- end ngIf: col.show() --><!-- end ngRepeat: col in $columns --><!-- ngIf: col.show() --><td class=\"ng-scope\" data-title-text=\"excerpt\" filter=\"$listCtrl.filters[col.name]\" ng-if=\"col.show()\" ng-repeat=\"col in $columns\"><!-- ngIf: col.name === 'company' --><!-- ngIf: col.name === 'legalSeat' --><!-- ngIf: col.getValue --><div class=\"ng-binding ng-scope\" ng-bind-html=\"col.getValue(this, row)\" ng-if=\"col.getValue\"><a href=\"https://gl.chregister.ch/cr-portal/auszug/zefix.xhtml?uid=CHE-105.728.428&amp;lang=de\" style=\"margin: 0em 1em;\" target=\"_blank\" title=\"excerpt (Web)\"><span class=\"icon icon--external\"></span></a> </div><!-- end ngIf: col.getValue --></td><!-- end ngIf: col.show() --><!-- end ngRepeat: col in $columns --><!-- ngIf: col.show() --><td class=\"ng-scope\" data-title-text=\"UID / UID register\" filter=\"$listCtrl.filters[col.name]\" ng-if=\"col.show()\" ng-repeat=\"col in $columns\"><!-- ngIf: col.name === 'company' --><!-- ngIf: col.name === 'legalSeat' --><!-- ngIf: col.getValue --><div class=\"ng-binding ng-scope\" ng-bind-html=\"col.getValue(this, row)\" ng-if=\"col.getValue\"><span class=\"no-wrap\">CHE-105.728.428<a class=\"uid-link\" href=\"https://www.uid.admin.ch/Detail.aspx?uid_id=CHE105728428\" target=\"_blank\"><span class=\"icon icon--external icon--after\"></span></a></span></div><!-- end ngIf: col.getValue --></td><!-- end ngIf: col.show() --><!-- end ngRepeat: col in $columns --><!-- ngIf: col.show() --><!-- end ngRepeat: col in $columns --><!-- ngIf: col.show() --><td class=\"ng-scope\" data-title-text=\"legal form\" filter=\"$listCtrl.filters[col.name]\" ng-if=\"col.show()\" ng-repeat=\"col in $columns\"><!-- ngIf: col.name === 'company' --><!-- ngIf: col.name === 'legalSeat' --><!-- ngIf: col.getValue --><div class=\"ng-binding ng-scope\" ng-bind-html=\"col.getValue(this, row)\" ng-if=\"col.getValue\"><span title=\"Limited Liability Company\">LLC</span></div><!-- end ngIf: col.getValue --></td><!-- end ngIf: col.show() --><!-- end ngRepeat: col in $columns --><!-- ngIf: col.show() --><td class=\"ng-scope\" data-title-text=\"seat\" filter=\"$listCtrl.filters[col.name]\" ng-if=\"col.show()\" ng-repeat=\"col in $columns\"><!-- ngIf: col.name === 'company' --><!-- ngIf: col.name === 'legalSeat' --><div class=\"company-seat ng-scope\" ng-if=\"col.name === 'legalSeat'\"><span class=\"ng-binding\" ng-bind-html=\"highlight(row.legalSeat, $listCtrl.tableParams.filter(), 'legalSeat')\">Glarus Nord</span></div><!-- end ngIf: col.name === 'legalSeat' --><!-- ngIf: col.getValue --></td><!-- end ngIf: col.show() --><!-- end ngRepeat: col in $columns --><!-- ngIf: col.show() --><td class=\"ng-scope\" data-title-text=\"canton / rc\" filter=\"$listCtrl.filters[col.name]\" ng-if=\"col.show()\" ng-repeat=\"col in $columns\"><!-- ngIf: col.name === 'company' --><!-- ngIf: col.name === 'legalSeat' --><!-- ngIf: col.getValue --><div class=\"ng-binding ng-scope\" ng-bind-html=\"col.getValue(this, row)\" ng-if=\"col.getValue\"><a href=\"https://www.gl.ch/verwaltung/volkswirtschaft-und-inneres/wirtschaft-und-arbeit/handelsregister.html/1038\" target=\"_blank\" title=\"Handelsregisteramt des Kantons Glarus\">GL - Glarus</a></div><!-- end ngIf: col.getValue --></td><!-- end ngIf: col.show() --><!-- end ngRepeat: col in $columns --><!-- ngIf: col.show() --><!-- end ngRepeat: col in $columns --></tr>,\n",
       " <tr class=\"ng-scope\" ng-repeat=\"row in $data\"><!-- ngRepeat: col in $columns --><!-- ngIf: col.show() --><td class=\"ng-scope\" data-title-text=\"business name\" filter=\"$listCtrl.filters[col.name]\" ng-if=\"col.show()\" ng-repeat=\"col in $columns\"><!-- ngIf: col.name === 'company' --><div class=\"company-name ng-scope\" ng-attr-title=\"{{row.name}}\" ng-if=\"col.name === 'company'\" title=\"BÃ¤ckerei - Konditorei Not ClalÃ¼na\"><a class=\"ng-binding\" href=\"/en/search/entity/list/firm/1219646?name=b%C3%A4ckerei&amp;searchType=exact\" ng-bind-html=\"highlight(row.name, $listCtrl.tableParams.filter(), 'name')\" ng-class=\"{ 'strike-thru': row.status === 'GELOESCHT'}\" ui-sref=\".details({ ehraid: row.ehraid })\">BÃ¤ckerei - Konditorei Not ClalÃ¼na</a></div><!-- end ngIf: col.name === 'company' --><!-- ngIf: col.name === 'legalSeat' --><!-- ngIf: col.getValue --></td><!-- end ngIf: col.show() --><!-- end ngRepeat: col in $columns --><!-- ngIf: col.show() --><td class=\"ng-scope\" data-title-text=\"excerpt\" filter=\"$listCtrl.filters[col.name]\" ng-if=\"col.show()\" ng-repeat=\"col in $columns\"><!-- ngIf: col.name === 'company' --><!-- ngIf: col.name === 'legalSeat' --><!-- ngIf: col.getValue --><div class=\"ng-binding ng-scope\" ng-bind-html=\"col.getValue(this, row)\" ng-if=\"col.getValue\"><a href=\"https://gr.chregister.ch/cr-portal/auszug/zefix.xhtml?uid=CHE-107.695.188&amp;lang=de\" style=\"margin: 0em 1em;\" target=\"_blank\" title=\"excerpt (Web)\"><span class=\"icon icon--external\"></span></a> </div><!-- end ngIf: col.getValue --></td><!-- end ngIf: col.show() --><!-- end ngRepeat: col in $columns --><!-- ngIf: col.show() --><td class=\"ng-scope\" data-title-text=\"UID / UID register\" filter=\"$listCtrl.filters[col.name]\" ng-if=\"col.show()\" ng-repeat=\"col in $columns\"><!-- ngIf: col.name === 'company' --><!-- ngIf: col.name === 'legalSeat' --><!-- ngIf: col.getValue --><div class=\"ng-binding ng-scope\" ng-bind-html=\"col.getValue(this, row)\" ng-if=\"col.getValue\"><span class=\"no-wrap\">CHE-107.695.188<a class=\"uid-link\" href=\"https://www.uid.admin.ch/Detail.aspx?uid_id=CHE107695188\" target=\"_blank\"><span class=\"icon icon--external icon--after\"></span></a></span></div><!-- end ngIf: col.getValue --></td><!-- end ngIf: col.show() --><!-- end ngRepeat: col in $columns --><!-- ngIf: col.show() --><!-- end ngRepeat: col in $columns --><!-- ngIf: col.show() --><td class=\"ng-scope\" data-title-text=\"legal form\" filter=\"$listCtrl.filters[col.name]\" ng-if=\"col.show()\" ng-repeat=\"col in $columns\"><!-- ngIf: col.name === 'company' --><!-- ngIf: col.name === 'legalSeat' --><!-- ngIf: col.getValue --><div class=\"ng-binding ng-scope\" ng-bind-html=\"col.getValue(this, row)\" ng-if=\"col.getValue\"><span title=\"Sole proprietorship\">SP</span></div><!-- end ngIf: col.getValue --></td><!-- end ngIf: col.show() --><!-- end ngRepeat: col in $columns --><!-- ngIf: col.show() --><td class=\"ng-scope\" data-title-text=\"seat\" filter=\"$listCtrl.filters[col.name]\" ng-if=\"col.show()\" ng-repeat=\"col in $columns\"><!-- ngIf: col.name === 'company' --><!-- ngIf: col.name === 'legalSeat' --><div class=\"company-seat ng-scope\" ng-if=\"col.name === 'legalSeat'\"><span class=\"ng-binding\" ng-bind-html=\"highlight(row.legalSeat, $listCtrl.tableParams.filter(), 'legalSeat')\">Scuol</span></div><!-- end ngIf: col.name === 'legalSeat' --><!-- ngIf: col.getValue --></td><!-- end ngIf: col.show() --><!-- end ngRepeat: col in $columns --><!-- ngIf: col.show() --><td class=\"ng-scope\" data-title-text=\"canton / rc\" filter=\"$listCtrl.filters[col.name]\" ng-if=\"col.show()\" ng-repeat=\"col in $columns\"><!-- ngIf: col.name === 'company' --><!-- ngIf: col.name === 'legalSeat' --><!-- ngIf: col.getValue --><div class=\"ng-binding ng-scope\" ng-bind-html=\"col.getValue(this, row)\" ng-if=\"col.getValue\"><a href=\"http://www.gr.ch/DE/institutionen/verwaltung/dvs/giha/ueberuns/Seiten/home.aspx\" target=\"_blank\" title=\"Handelsregisteramt des Kantons GraubÃ¼nden\">GR - GraubÃ¼nden</a></div><!-- end ngIf: col.getValue --></td><!-- end ngIf: col.show() --><!-- end ngRepeat: col in $columns --><!-- ngIf: col.show() --><!-- end ngRepeat: col in $columns --></tr>,\n",
       " <tr class=\"ng-scope\" ng-repeat=\"row in $data\"><!-- ngRepeat: col in $columns --><!-- ngIf: col.show() --><td class=\"ng-scope\" data-title-text=\"business name\" filter=\"$listCtrl.filters[col.name]\" ng-if=\"col.show()\" ng-repeat=\"col in $columns\"><!-- ngIf: col.name === 'company' --><div class=\"company-name ng-scope\" ng-attr-title=\"{{row.name}}\" ng-if=\"col.name === 'company'\" title=\"BÃ¤ckerei - Konditorei UnternÃ¤hrer &amp; Co\"><a class=\"ng-binding\" href=\"/en/search/entity/list/firm/801320?name=b%C3%A4ckerei&amp;searchType=exact\" ng-bind-html=\"highlight(row.name, $listCtrl.tableParams.filter(), 'name')\" ng-class=\"{ 'strike-thru': row.status === 'GELOESCHT'}\" ui-sref=\".details({ ehraid: row.ehraid })\">BÃ¤ckerei - Konditorei UnternÃ¤hrer &amp; Co</a></div><!-- end ngIf: col.name === 'company' --><!-- ngIf: col.name === 'legalSeat' --><!-- ngIf: col.getValue --></td><!-- end ngIf: col.show() --><!-- end ngRepeat: col in $columns --><!-- ngIf: col.show() --><td class=\"ng-scope\" data-title-text=\"excerpt\" filter=\"$listCtrl.filters[col.name]\" ng-if=\"col.show()\" ng-repeat=\"col in $columns\"><!-- ngIf: col.name === 'company' --><!-- ngIf: col.name === 'legalSeat' --><!-- ngIf: col.getValue --><div class=\"ng-binding ng-scope\" ng-bind-html=\"col.getValue(this, row)\" ng-if=\"col.getValue\"><a href=\"https://so.chregister.ch/cr-portal/auszug/zefix.xhtml?uid=CHE-112.494.017&amp;lang=de\" style=\"margin: 0em 1em;\" target=\"_blank\" title=\"excerpt (Web)\"><span class=\"icon icon--external\"></span></a> </div><!-- end ngIf: col.getValue --></td><!-- end ngIf: col.show() --><!-- end ngRepeat: col in $columns --><!-- ngIf: col.show() --><td class=\"ng-scope\" data-title-text=\"UID / UID register\" filter=\"$listCtrl.filters[col.name]\" ng-if=\"col.show()\" ng-repeat=\"col in $columns\"><!-- ngIf: col.name === 'company' --><!-- ngIf: col.name === 'legalSeat' --><!-- ngIf: col.getValue --><div class=\"ng-binding ng-scope\" ng-bind-html=\"col.getValue(this, row)\" ng-if=\"col.getValue\"><span class=\"no-wrap\">CHE-112.494.017<a class=\"uid-link\" href=\"https://www.uid.admin.ch/Detail.aspx?uid_id=CHE112494017\" target=\"_blank\"><span class=\"icon icon--external icon--after\"></span></a></span></div><!-- end ngIf: col.getValue --></td><!-- end ngIf: col.show() --><!-- end ngRepeat: col in $columns --><!-- ngIf: col.show() --><!-- end ngRepeat: col in $columns --><!-- ngIf: col.show() --><td class=\"ng-scope\" data-title-text=\"legal form\" filter=\"$listCtrl.filters[col.name]\" ng-if=\"col.show()\" ng-repeat=\"col in $columns\"><!-- ngIf: col.name === 'company' --><!-- ngIf: col.name === 'legalSeat' --><!-- ngIf: col.getValue --><div class=\"ng-binding ng-scope\" ng-bind-html=\"col.getValue(this, row)\" ng-if=\"col.getValue\"><span title=\"General Partnership\">GP</span></div><!-- end ngIf: col.getValue --></td><!-- end ngIf: col.show() --><!-- end ngRepeat: col in $columns --><!-- ngIf: col.show() --><td class=\"ng-scope\" data-title-text=\"seat\" filter=\"$listCtrl.filters[col.name]\" ng-if=\"col.show()\" ng-repeat=\"col in $columns\"><!-- ngIf: col.name === 'company' --><!-- ngIf: col.name === 'legalSeat' --><div class=\"company-seat ng-scope\" ng-if=\"col.name === 'legalSeat'\"><span class=\"ng-binding\" ng-bind-html=\"highlight(row.legalSeat, $listCtrl.tableParams.filter(), 'legalSeat')\">Kappel (SO)</span></div><!-- end ngIf: col.name === 'legalSeat' --><!-- ngIf: col.getValue --></td><!-- end ngIf: col.show() --><!-- end ngRepeat: col in $columns --><!-- ngIf: col.show() --><td class=\"ng-scope\" data-title-text=\"canton / rc\" filter=\"$listCtrl.filters[col.name]\" ng-if=\"col.show()\" ng-repeat=\"col in $columns\"><!-- ngIf: col.name === 'company' --><!-- ngIf: col.name === 'legalSeat' --><!-- ngIf: col.getValue --><div class=\"ng-binding ng-scope\" ng-bind-html=\"col.getValue(this, row)\" ng-if=\"col.getValue\"><a href=\"http://www.so.ch/verwaltung/finanzdepartement/kantonales-handelsregister/\" target=\"_blank\" title=\"Handelsregisteramt des Kantons Solothurn\">SO - Solothurn</a></div><!-- end ngIf: col.getValue --></td><!-- end ngIf: col.show() --><!-- end ngRepeat: col in $columns --><!-- ngIf: col.show() --><!-- end ngRepeat: col in $columns --></tr>]"
      ]
     },
     "execution_count": 45,
     "metadata": {},
     "output_type": "execute_result"
    }
   ],
   "source": [
    "zeilen"
   ]
  },
  {
   "cell_type": "code",
   "execution_count": 54,
   "metadata": {},
   "outputs": [],
   "source": [
    "baeckerei = zeilen[0].find_all(\"div\")[0].text"
   ]
  },
  {
   "cell_type": "code",
   "execution_count": 55,
   "metadata": {},
   "outputs": [
    {
     "data": {
      "text/plain": [
       "'BÃ„CKEREI - KONDITOREI FÃ„SSLER'"
      ]
     },
     "execution_count": 55,
     "metadata": {},
     "output_type": "execute_result"
    }
   ],
   "source": [
    "baeckerei"
   ]
  },
  {
   "cell_type": "code",
   "execution_count": 56,
   "metadata": {},
   "outputs": [],
   "source": [
    "u_id=zeilen[0].find_all(\"div\")[2].text"
   ]
  },
  {
   "cell_type": "code",
   "execution_count": 57,
   "metadata": {},
   "outputs": [],
   "source": [
    "sitz = zeilen[0].find_all(\"div\")[4].text"
   ]
  },
  {
   "cell_type": "code",
   "execution_count": 58,
   "metadata": {},
   "outputs": [],
   "source": [
    "kanton = zeilen[0].find_all(\"div\")[5].text"
   ]
  },
  {
   "cell_type": "code",
   "execution_count": 59,
   "metadata": {},
   "outputs": [],
   "source": [
    "# Gibt noch Befehl: \"find next\" Falls einen Liste die Länge verändert. wenn man nicht weiss wie lang Liste ist.\n",
    "# hier also: finde das übernächste \"div\" und dort nimm die url raus. (nicht optimales Beispiel)\n",
    "urls_baecker = zeilen[0].find_next(\"div\").find_next(\"div\").find(\"a\")[\"href\"]"
   ]
  },
  {
   "cell_type": "code",
   "execution_count": 60,
   "metadata": {},
   "outputs": [
    {
     "data": {
      "text/plain": [
       "'https://ai.chregister.ch/cr-portal/auszug/zefix.xhtml?uid=CHE-115.132.898&lang=de'"
      ]
     },
     "execution_count": 60,
     "metadata": {},
     "output_type": "execute_result"
    }
   ],
   "source": [
    "urls_baecker"
   ]
  },
  {
   "cell_type": "code",
   "execution_count": 61,
   "metadata": {},
   "outputs": [],
   "source": [
    "minidict_b={\"Name\":baeckerei, \"UID\":u_id, \"Sitz\":sitz, \"Kanton\":kanton, \"Webpage\":urls_baecker}"
   ]
  },
  {
   "cell_type": "code",
   "execution_count": 62,
   "metadata": {},
   "outputs": [],
   "source": [
    "alle_baecker_dok=[]\n",
    "zeilen = h.find_all(\"tr\", {\"class\":\"ng-scope\"})\n",
    "for punkt in zeilen:\n",
    "    baeckerei = punkt.find_all(\"div\")[0].text\n",
    "    u_id=punkt.find_all(\"div\")[2].text\n",
    "    sitz = punkt.find_all(\"div\")[4].text\n",
    "    kanton = punkt.find_all(\"div\")[5].text\n",
    "    urls_baecker = punkt.find_next(\"div\").find_next(\"div\").find(\"a\")[\"href\"]\n",
    "    \n",
    "    minidict_b={\"Name\":baeckerei, \"UID\":u_id, \"Sitz\":sitz, \"Kanton\":kanton, \"Webpage\":urls_baecker}\n",
    "    \n",
    "    alle_baecker_dok.append(minidict_b)\n",
    "    \n",
    "    \n",
    "    "
   ]
  },
  {
   "cell_type": "markdown",
   "metadata": {},
   "source": [
    "# Funktion bauen, um dieses auf jedes File anzuwenden"
   ]
  },
  {
   "cell_type": "code",
   "execution_count": 64,
   "metadata": {},
   "outputs": [],
   "source": [
    "def extract_bakeries(elem): #elem ist die Variable für den HTML Text aus Beautiful suout\n",
    "    zeilen = elem.find_all(\"tr\", {\"class\":\"ng-scope\"})\n",
    "    for punkt in zeilen:\n",
    "        baeckerei = punkt.find_all(\"div\")[0].text\n",
    "        u_id=punkt.find_all(\"div\")[2].text\n",
    "        sitz = punkt.find_all(\"div\")[4].text\n",
    "        kanton = punkt.find_all(\"div\")[5].text\n",
    "        urls_baecker = punkt.find_next(\"div\").find_next(\"div\").find(\"a\")[\"href\"]\n",
    "    \n",
    "        minidict_b={\"Name\":baeckerei, \"UID\":u_id, \"Sitz\":sitz, \"Kanton\":kanton, \"Webpage\":urls_baecker}\n",
    "    \n",
    "        alle_baecker_dok.append(minidict_b)\n",
    "    return alle_baecker_dok\n",
    "\n",
    "# WEnn ich die Funktion nun verwende, kommt raus, was unter return steht."
   ]
  },
  {
   "cell_type": "code",
   "execution_count": 65,
   "metadata": {},
   "outputs": [],
   "source": [
    "file = open(\"pages/\"+lst[1],\"r\")\n",
    "text = file.read()\n",
    "h = BeautifulSoup(text, 'html.parser')"
   ]
  },
  {
   "cell_type": "code",
   "execution_count": 66,
   "metadata": {},
   "outputs": [
    {
     "data": {
      "text/html": [
       "<div>\n",
       "<style scoped>\n",
       "    .dataframe tbody tr th:only-of-type {\n",
       "        vertical-align: middle;\n",
       "    }\n",
       "\n",
       "    .dataframe tbody tr th {\n",
       "        vertical-align: top;\n",
       "    }\n",
       "\n",
       "    .dataframe thead th {\n",
       "        text-align: right;\n",
       "    }\n",
       "</style>\n",
       "<table border=\"1\" class=\"dataframe\">\n",
       "  <thead>\n",
       "    <tr style=\"text-align: right;\">\n",
       "      <th></th>\n",
       "      <th>Name</th>\n",
       "      <th>UID</th>\n",
       "      <th>Sitz</th>\n",
       "      <th>Kanton</th>\n",
       "      <th>Webpage</th>\n",
       "    </tr>\n",
       "  </thead>\n",
       "  <tbody>\n",
       "    <tr>\n",
       "      <td>0</td>\n",
       "      <td>BÃ„CKEREI - KONDITOREI FÃ„SSLER</td>\n",
       "      <td>CHE-115.132.898</td>\n",
       "      <td>RÃ¼te</td>\n",
       "      <td>AI - Appenzell I. Rh.</td>\n",
       "      <td>https://ai.chregister.ch/cr-portal/auszug/zefi...</td>\n",
       "    </tr>\n",
       "    <tr>\n",
       "      <td>1</td>\n",
       "      <td>BÃ¤ckerei - Konditorei Furter, Nachfolger Mari...</td>\n",
       "      <td>CHE-109.386.806</td>\n",
       "      <td>Aarau</td>\n",
       "      <td>AG - Aargau</td>\n",
       "      <td>https://ag.chregister.ch/cr-portal/auszug/zefi...</td>\n",
       "    </tr>\n",
       "    <tr>\n",
       "      <td>2</td>\n",
       "      <td>BÃ¤ckerei - Konditorei GÃ¼beli</td>\n",
       "      <td>CHE-114.920.189</td>\n",
       "      <td>St. Stephan</td>\n",
       "      <td>BE - Bern</td>\n",
       "      <td>https://be.chregister.ch/cr-portal/auszug/zefi...</td>\n",
       "    </tr>\n",
       "    <tr>\n",
       "      <td>3</td>\n",
       "      <td>BÃ¤ckerei - Konditorei Hermann</td>\n",
       "      <td>CHE-107.066.035</td>\n",
       "      <td>Muhen</td>\n",
       "      <td>AG - Aargau</td>\n",
       "      <td>https://ag.chregister.ch/cr-portal/auszug/zefi...</td>\n",
       "    </tr>\n",
       "    <tr>\n",
       "      <td>4</td>\n",
       "      <td>BÃ¤ckerei - Konditorei Jean-Pierre Grindat</td>\n",
       "      <td>CHE-106.154.151</td>\n",
       "      <td>Orpund</td>\n",
       "      <td>BE - Bern</td>\n",
       "      <td>https://be.chregister.ch/cr-portal/auszug/zefi...</td>\n",
       "    </tr>\n",
       "    <tr>\n",
       "      <td>5</td>\n",
       "      <td>BÃ¤ckerei - Konditorei Leuenberger</td>\n",
       "      <td>CHE-107.148.259</td>\n",
       "      <td>Zollikofen</td>\n",
       "      <td>BE - Bern</td>\n",
       "      <td>https://be.chregister.ch/cr-portal/auszug/zefi...</td>\n",
       "    </tr>\n",
       "    <tr>\n",
       "      <td>6</td>\n",
       "      <td>BÃ¤ckerei - Konditorei Maier GmbH</td>\n",
       "      <td>CHE-200.539.725</td>\n",
       "      <td>BÃ¶ttstein</td>\n",
       "      <td>AG - Aargau</td>\n",
       "      <td>https://ag.chregister.ch/cr-portal/auszug/zefi...</td>\n",
       "    </tr>\n",
       "    <tr>\n",
       "      <td>7</td>\n",
       "      <td>BÃ¤ckerei - Konditorei MÃ¤rchy GmbH</td>\n",
       "      <td>CHE-105.728.428</td>\n",
       "      <td>Glarus Nord</td>\n",
       "      <td>GL - Glarus</td>\n",
       "      <td>https://gl.chregister.ch/cr-portal/auszug/zefi...</td>\n",
       "    </tr>\n",
       "    <tr>\n",
       "      <td>8</td>\n",
       "      <td>BÃ¤ckerei - Konditorei Not ClalÃ¼na</td>\n",
       "      <td>CHE-107.695.188</td>\n",
       "      <td>Scuol</td>\n",
       "      <td>GR - GraubÃ¼nden</td>\n",
       "      <td>https://gr.chregister.ch/cr-portal/auszug/zefi...</td>\n",
       "    </tr>\n",
       "    <tr>\n",
       "      <td>9</td>\n",
       "      <td>BÃ¤ckerei - Konditorei UnternÃ¤hrer &amp; Co</td>\n",
       "      <td>CHE-112.494.017</td>\n",
       "      <td>Kappel (SO)</td>\n",
       "      <td>SO - Solothurn</td>\n",
       "      <td>https://so.chregister.ch/cr-portal/auszug/zefi...</td>\n",
       "    </tr>\n",
       "    <tr>\n",
       "      <td>10</td>\n",
       "      <td>BÃ„CKEREI - KONDITOREI FÃ„SSLER</td>\n",
       "      <td>CHE-115.132.898</td>\n",
       "      <td>RÃ¼te</td>\n",
       "      <td>AI - Appenzell I. Rh.</td>\n",
       "      <td>https://ai.chregister.ch/cr-portal/auszug/zefi...</td>\n",
       "    </tr>\n",
       "    <tr>\n",
       "      <td>11</td>\n",
       "      <td>BÃ¤ckerei - Konditorei Furter, Nachfolger Mari...</td>\n",
       "      <td>CHE-109.386.806</td>\n",
       "      <td>Aarau</td>\n",
       "      <td>AG - Aargau</td>\n",
       "      <td>https://ag.chregister.ch/cr-portal/auszug/zefi...</td>\n",
       "    </tr>\n",
       "    <tr>\n",
       "      <td>12</td>\n",
       "      <td>BÃ¤ckerei - Konditorei GÃ¼beli</td>\n",
       "      <td>CHE-114.920.189</td>\n",
       "      <td>St. Stephan</td>\n",
       "      <td>BE - Bern</td>\n",
       "      <td>https://be.chregister.ch/cr-portal/auszug/zefi...</td>\n",
       "    </tr>\n",
       "    <tr>\n",
       "      <td>13</td>\n",
       "      <td>BÃ¤ckerei - Konditorei Hermann</td>\n",
       "      <td>CHE-107.066.035</td>\n",
       "      <td>Muhen</td>\n",
       "      <td>AG - Aargau</td>\n",
       "      <td>https://ag.chregister.ch/cr-portal/auszug/zefi...</td>\n",
       "    </tr>\n",
       "    <tr>\n",
       "      <td>14</td>\n",
       "      <td>BÃ¤ckerei - Konditorei Jean-Pierre Grindat</td>\n",
       "      <td>CHE-106.154.151</td>\n",
       "      <td>Orpund</td>\n",
       "      <td>BE - Bern</td>\n",
       "      <td>https://be.chregister.ch/cr-portal/auszug/zefi...</td>\n",
       "    </tr>\n",
       "    <tr>\n",
       "      <td>15</td>\n",
       "      <td>BÃ¤ckerei - Konditorei Leuenberger</td>\n",
       "      <td>CHE-107.148.259</td>\n",
       "      <td>Zollikofen</td>\n",
       "      <td>BE - Bern</td>\n",
       "      <td>https://be.chregister.ch/cr-portal/auszug/zefi...</td>\n",
       "    </tr>\n",
       "    <tr>\n",
       "      <td>16</td>\n",
       "      <td>BÃ¤ckerei - Konditorei Maier GmbH</td>\n",
       "      <td>CHE-200.539.725</td>\n",
       "      <td>BÃ¶ttstein</td>\n",
       "      <td>AG - Aargau</td>\n",
       "      <td>https://ag.chregister.ch/cr-portal/auszug/zefi...</td>\n",
       "    </tr>\n",
       "    <tr>\n",
       "      <td>17</td>\n",
       "      <td>BÃ¤ckerei - Konditorei MÃ¤rchy GmbH</td>\n",
       "      <td>CHE-105.728.428</td>\n",
       "      <td>Glarus Nord</td>\n",
       "      <td>GL - Glarus</td>\n",
       "      <td>https://gl.chregister.ch/cr-portal/auszug/zefi...</td>\n",
       "    </tr>\n",
       "    <tr>\n",
       "      <td>18</td>\n",
       "      <td>BÃ¤ckerei - Konditorei Not ClalÃ¼na</td>\n",
       "      <td>CHE-107.695.188</td>\n",
       "      <td>Scuol</td>\n",
       "      <td>GR - GraubÃ¼nden</td>\n",
       "      <td>https://gr.chregister.ch/cr-portal/auszug/zefi...</td>\n",
       "    </tr>\n",
       "    <tr>\n",
       "      <td>19</td>\n",
       "      <td>BÃ¤ckerei - Konditorei UnternÃ¤hrer &amp; Co</td>\n",
       "      <td>CHE-112.494.017</td>\n",
       "      <td>Kappel (SO)</td>\n",
       "      <td>SO - Solothurn</td>\n",
       "      <td>https://so.chregister.ch/cr-portal/auszug/zefi...</td>\n",
       "    </tr>\n",
       "  </tbody>\n",
       "</table>\n",
       "</div>"
      ],
      "text/plain": [
       "                                                 Name              UID  \\\n",
       "0                     BÃ„CKEREI - KONDITOREI FÃ„SSLER  CHE-115.132.898   \n",
       "1   BÃ¤ckerei - Konditorei Furter, Nachfolger Mari...  CHE-109.386.806   \n",
       "2                      BÃ¤ckerei - Konditorei GÃ¼beli  CHE-114.920.189   \n",
       "3                      BÃ¤ckerei - Konditorei Hermann  CHE-107.066.035   \n",
       "4          BÃ¤ckerei - Konditorei Jean-Pierre Grindat  CHE-106.154.151   \n",
       "5                  BÃ¤ckerei - Konditorei Leuenberger  CHE-107.148.259   \n",
       "6                   BÃ¤ckerei - Konditorei Maier GmbH  CHE-200.539.725   \n",
       "7                 BÃ¤ckerei - Konditorei MÃ¤rchy GmbH  CHE-105.728.428   \n",
       "8                 BÃ¤ckerei - Konditorei Not ClalÃ¼na  CHE-107.695.188   \n",
       "9            BÃ¤ckerei - Konditorei UnternÃ¤hrer & Co  CHE-112.494.017   \n",
       "10                    BÃ„CKEREI - KONDITOREI FÃ„SSLER  CHE-115.132.898   \n",
       "11  BÃ¤ckerei - Konditorei Furter, Nachfolger Mari...  CHE-109.386.806   \n",
       "12                     BÃ¤ckerei - Konditorei GÃ¼beli  CHE-114.920.189   \n",
       "13                     BÃ¤ckerei - Konditorei Hermann  CHE-107.066.035   \n",
       "14         BÃ¤ckerei - Konditorei Jean-Pierre Grindat  CHE-106.154.151   \n",
       "15                 BÃ¤ckerei - Konditorei Leuenberger  CHE-107.148.259   \n",
       "16                  BÃ¤ckerei - Konditorei Maier GmbH  CHE-200.539.725   \n",
       "17                BÃ¤ckerei - Konditorei MÃ¤rchy GmbH  CHE-105.728.428   \n",
       "18                BÃ¤ckerei - Konditorei Not ClalÃ¼na  CHE-107.695.188   \n",
       "19           BÃ¤ckerei - Konditorei UnternÃ¤hrer & Co  CHE-112.494.017   \n",
       "\n",
       "           Sitz                 Kanton  \\\n",
       "0         RÃ¼te  AI - Appenzell I. Rh.   \n",
       "1         Aarau            AG - Aargau   \n",
       "2   St. Stephan              BE - Bern   \n",
       "3         Muhen            AG - Aargau   \n",
       "4        Orpund              BE - Bern   \n",
       "5    Zollikofen              BE - Bern   \n",
       "6    BÃ¶ttstein            AG - Aargau   \n",
       "7   Glarus Nord            GL - Glarus   \n",
       "8         Scuol       GR - GraubÃ¼nden   \n",
       "9   Kappel (SO)         SO - Solothurn   \n",
       "10        RÃ¼te  AI - Appenzell I. Rh.   \n",
       "11        Aarau            AG - Aargau   \n",
       "12  St. Stephan              BE - Bern   \n",
       "13        Muhen            AG - Aargau   \n",
       "14       Orpund              BE - Bern   \n",
       "15   Zollikofen              BE - Bern   \n",
       "16   BÃ¶ttstein            AG - Aargau   \n",
       "17  Glarus Nord            GL - Glarus   \n",
       "18        Scuol       GR - GraubÃ¼nden   \n",
       "19  Kappel (SO)         SO - Solothurn   \n",
       "\n",
       "                                              Webpage  \n",
       "0   https://ai.chregister.ch/cr-portal/auszug/zefi...  \n",
       "1   https://ag.chregister.ch/cr-portal/auszug/zefi...  \n",
       "2   https://be.chregister.ch/cr-portal/auszug/zefi...  \n",
       "3   https://ag.chregister.ch/cr-portal/auszug/zefi...  \n",
       "4   https://be.chregister.ch/cr-portal/auszug/zefi...  \n",
       "5   https://be.chregister.ch/cr-portal/auszug/zefi...  \n",
       "6   https://ag.chregister.ch/cr-portal/auszug/zefi...  \n",
       "7   https://gl.chregister.ch/cr-portal/auszug/zefi...  \n",
       "8   https://gr.chregister.ch/cr-portal/auszug/zefi...  \n",
       "9   https://so.chregister.ch/cr-portal/auszug/zefi...  \n",
       "10  https://ai.chregister.ch/cr-portal/auszug/zefi...  \n",
       "11  https://ag.chregister.ch/cr-portal/auszug/zefi...  \n",
       "12  https://be.chregister.ch/cr-portal/auszug/zefi...  \n",
       "13  https://ag.chregister.ch/cr-portal/auszug/zefi...  \n",
       "14  https://be.chregister.ch/cr-portal/auszug/zefi...  \n",
       "15  https://be.chregister.ch/cr-portal/auszug/zefi...  \n",
       "16  https://ag.chregister.ch/cr-portal/auszug/zefi...  \n",
       "17  https://gl.chregister.ch/cr-portal/auszug/zefi...  \n",
       "18  https://gr.chregister.ch/cr-portal/auszug/zefi...  \n",
       "19  https://so.chregister.ch/cr-portal/auszug/zefi...  "
      ]
     },
     "execution_count": 66,
     "metadata": {},
     "output_type": "execute_result"
    }
   ],
   "source": [
    "pd.DataFrame(extract_bakeries(h))"
   ]
  },
  {
   "cell_type": "code",
   "execution_count": 70,
   "metadata": {},
   "outputs": [],
   "source": [
    "alle_baeckereien=[]\n",
    "for page in range(1,36):\n",
    "    file = open(\"pages/\"+lst[page],\"r\")\n",
    "    text = file.read()\n",
    "    h = BeautifulSoup(text, 'html.parser')\n",
    "    \n",
    "    alle_baeckereien=alle_baeckereien+extract_bakeries(h)\n",
    "    "
   ]
  },
  {
   "cell_type": "code",
   "execution_count": 71,
   "metadata": {},
   "outputs": [
    {
     "data": {
      "text/html": [
       "<div>\n",
       "<style scoped>\n",
       "    .dataframe tbody tr th:only-of-type {\n",
       "        vertical-align: middle;\n",
       "    }\n",
       "\n",
       "    .dataframe tbody tr th {\n",
       "        vertical-align: top;\n",
       "    }\n",
       "\n",
       "    .dataframe thead th {\n",
       "        text-align: right;\n",
       "    }\n",
       "</style>\n",
       "<table border=\"1\" class=\"dataframe\">\n",
       "  <thead>\n",
       "    <tr style=\"text-align: right;\">\n",
       "      <th></th>\n",
       "      <th>Name</th>\n",
       "      <th>UID</th>\n",
       "      <th>Sitz</th>\n",
       "      <th>Kanton</th>\n",
       "      <th>Webpage</th>\n",
       "    </tr>\n",
       "  </thead>\n",
       "  <tbody>\n",
       "    <tr>\n",
       "      <td>0</td>\n",
       "      <td>BÃ„CKEREI - KONDITOREI FÃ„SSLER</td>\n",
       "      <td>CHE-115.132.898</td>\n",
       "      <td>RÃ¼te</td>\n",
       "      <td>AI - Appenzell I. Rh.</td>\n",
       "      <td>https://ai.chregister.ch/cr-portal/auszug/zefi...</td>\n",
       "    </tr>\n",
       "    <tr>\n",
       "      <td>1</td>\n",
       "      <td>BÃ¤ckerei - Konditorei Furter, Nachfolger Mari...</td>\n",
       "      <td>CHE-109.386.806</td>\n",
       "      <td>Aarau</td>\n",
       "      <td>AG - Aargau</td>\n",
       "      <td>https://ag.chregister.ch/cr-portal/auszug/zefi...</td>\n",
       "    </tr>\n",
       "    <tr>\n",
       "      <td>2</td>\n",
       "      <td>BÃ¤ckerei - Konditorei GÃ¼beli</td>\n",
       "      <td>CHE-114.920.189</td>\n",
       "      <td>St. Stephan</td>\n",
       "      <td>BE - Bern</td>\n",
       "      <td>https://be.chregister.ch/cr-portal/auszug/zefi...</td>\n",
       "    </tr>\n",
       "    <tr>\n",
       "      <td>3</td>\n",
       "      <td>BÃ¤ckerei - Konditorei Hermann</td>\n",
       "      <td>CHE-107.066.035</td>\n",
       "      <td>Muhen</td>\n",
       "      <td>AG - Aargau</td>\n",
       "      <td>https://ag.chregister.ch/cr-portal/auszug/zefi...</td>\n",
       "    </tr>\n",
       "    <tr>\n",
       "      <td>4</td>\n",
       "      <td>BÃ¤ckerei - Konditorei Jean-Pierre Grindat</td>\n",
       "      <td>CHE-106.154.151</td>\n",
       "      <td>Orpund</td>\n",
       "      <td>BE - Bern</td>\n",
       "      <td>https://be.chregister.ch/cr-portal/auszug/zefi...</td>\n",
       "    </tr>\n",
       "    <tr>\n",
       "      <td>...</td>\n",
       "      <td>...</td>\n",
       "      <td>...</td>\n",
       "      <td>...</td>\n",
       "      <td>...</td>\n",
       "      <td>...</td>\n",
       "    </tr>\n",
       "    <tr>\n",
       "      <td>19265</td>\n",
       "      <td>BÃ¤ckerei Konditorei Fahrni, Nachfolger Heinz ...</td>\n",
       "      <td>CHE-276.039.461</td>\n",
       "      <td>Thun</td>\n",
       "      <td>BE - Bern</td>\n",
       "      <td>https://be.chregister.ch/cr-portal/auszug/zefi...</td>\n",
       "    </tr>\n",
       "    <tr>\n",
       "      <td>19266</td>\n",
       "      <td>BÃ¤ckerei Konditorei Gabriel AG</td>\n",
       "      <td>CHE-361.794.690</td>\n",
       "      <td>Breil/Brigels</td>\n",
       "      <td>GR - GraubÃ¼nden</td>\n",
       "      <td>https://gr.chregister.ch/cr-portal/auszug/zefi...</td>\n",
       "    </tr>\n",
       "    <tr>\n",
       "      <td>19267</td>\n",
       "      <td>BÃ¤ckerei Konditorei Graber</td>\n",
       "      <td>CHE-113.643.314</td>\n",
       "      <td>Aeschi bei Spiez</td>\n",
       "      <td>BE - Bern</td>\n",
       "      <td>https://be.chregister.ch/cr-portal/auszug/zefi...</td>\n",
       "    </tr>\n",
       "    <tr>\n",
       "      <td>19268</td>\n",
       "      <td>BÃ¤ckerei Konditorei Grossenbacher AG</td>\n",
       "      <td>CHE-166.810.220</td>\n",
       "      <td>Jegenstorf</td>\n",
       "      <td>BE - Bern</td>\n",
       "      <td>https://be.chregister.ch/cr-portal/auszug/zefi...</td>\n",
       "    </tr>\n",
       "    <tr>\n",
       "      <td>19269</td>\n",
       "      <td>BÃ¤ckerei Konditorei Gut</td>\n",
       "      <td>CHE-152.889.089</td>\n",
       "      <td>Marthalen</td>\n",
       "      <td>ZH - ZÃ¼rich</td>\n",
       "      <td>https://zh.chregister.ch/cr-portal/auszug/zefi...</td>\n",
       "    </tr>\n",
       "  </tbody>\n",
       "</table>\n",
       "<p>19270 rows × 5 columns</p>\n",
       "</div>"
      ],
      "text/plain": [
       "                                                    Name              UID  \\\n",
       "0                        BÃ„CKEREI - KONDITOREI FÃ„SSLER  CHE-115.132.898   \n",
       "1      BÃ¤ckerei - Konditorei Furter, Nachfolger Mari...  CHE-109.386.806   \n",
       "2                         BÃ¤ckerei - Konditorei GÃ¼beli  CHE-114.920.189   \n",
       "3                         BÃ¤ckerei - Konditorei Hermann  CHE-107.066.035   \n",
       "4             BÃ¤ckerei - Konditorei Jean-Pierre Grindat  CHE-106.154.151   \n",
       "...                                                  ...              ...   \n",
       "19265  BÃ¤ckerei Konditorei Fahrni, Nachfolger Heinz ...  CHE-276.039.461   \n",
       "19266                    BÃ¤ckerei Konditorei Gabriel AG  CHE-361.794.690   \n",
       "19267                        BÃ¤ckerei Konditorei Graber  CHE-113.643.314   \n",
       "19268              BÃ¤ckerei Konditorei Grossenbacher AG  CHE-166.810.220   \n",
       "19269                           BÃ¤ckerei Konditorei Gut  CHE-152.889.089   \n",
       "\n",
       "                   Sitz                 Kanton  \\\n",
       "0                 RÃ¼te  AI - Appenzell I. Rh.   \n",
       "1                 Aarau            AG - Aargau   \n",
       "2           St. Stephan              BE - Bern   \n",
       "3                 Muhen            AG - Aargau   \n",
       "4                Orpund              BE - Bern   \n",
       "...                 ...                    ...   \n",
       "19265              Thun              BE - Bern   \n",
       "19266     Breil/Brigels       GR - GraubÃ¼nden   \n",
       "19267  Aeschi bei Spiez              BE - Bern   \n",
       "19268        Jegenstorf              BE - Bern   \n",
       "19269         Marthalen           ZH - ZÃ¼rich   \n",
       "\n",
       "                                                 Webpage  \n",
       "0      https://ai.chregister.ch/cr-portal/auszug/zefi...  \n",
       "1      https://ag.chregister.ch/cr-portal/auszug/zefi...  \n",
       "2      https://be.chregister.ch/cr-portal/auszug/zefi...  \n",
       "3      https://ag.chregister.ch/cr-portal/auszug/zefi...  \n",
       "4      https://be.chregister.ch/cr-portal/auszug/zefi...  \n",
       "...                                                  ...  \n",
       "19265  https://be.chregister.ch/cr-portal/auszug/zefi...  \n",
       "19266  https://gr.chregister.ch/cr-portal/auszug/zefi...  \n",
       "19267  https://be.chregister.ch/cr-portal/auszug/zefi...  \n",
       "19268  https://be.chregister.ch/cr-portal/auszug/zefi...  \n",
       "19269  https://zh.chregister.ch/cr-portal/auszug/zefi...  \n",
       "\n",
       "[19270 rows x 5 columns]"
      ]
     },
     "execution_count": 71,
     "metadata": {},
     "output_type": "execute_result"
    }
   ],
   "source": [
    "pd.DataFrame(alle_baeckereien)"
   ]
  },
  {
   "cell_type": "code",
   "execution_count": null,
   "metadata": {},
   "outputs": [],
   "source": []
  }
 ],
 "metadata": {
  "kernelspec": {
   "display_name": "Python 3",
   "language": "python",
   "name": "python3"
  },
  "language_info": {
   "codemirror_mode": {
    "name": "ipython",
    "version": 3
   },
   "file_extension": ".py",
   "mimetype": "text/x-python",
   "name": "python",
   "nbconvert_exporter": "python",
   "pygments_lexer": "ipython3",
   "version": "3.7.3"
  }
 },
 "nbformat": 4,
 "nbformat_minor": 2
}
