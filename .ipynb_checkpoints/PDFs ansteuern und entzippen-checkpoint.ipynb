{
 "cells": [
  {
   "cell_type": "code",
   "execution_count": 1,
   "metadata": {},
   "outputs": [],
   "source": [
    "import requests, zipfile, io"
   ]
  },
  {
   "cell_type": "code",
   "execution_count": 2,
   "metadata": {},
   "outputs": [],
   "source": [
    "url = \"https://kr-geschaefte.zug.ch/gast/geschaefte/1362.zip\""
   ]
  },
  {
   "cell_type": "code",
   "execution_count": 3,
   "metadata": {},
   "outputs": [],
   "source": [
    "#hier wird diese Loesung diskutiert\n",
    "#https://stackoverflow.com/questions/9419162/download-returned-zip-file-from-url\n",
    "r = requests.get(url, stream =True) #Das Stream braucht es, um mit dem Zip umgehen zu koennen\n",
    "check = zipfile.is_zipfile(io.BytesIO(r.content))#hier wird das File entzippt\n",
    "while not check:\n",
    "    r = requests.get(url, stream =True)\n",
    "    check = zipfile.is_zipfile(io.BytesIO(r.content)) #hier wird das File nochmals gecheckt\n",
    "else:\n",
    "    z = zipfile.ZipFile(io.BytesIO(r.content))\n",
    "    z.extractall(\"KRGeschPDF\") #Du brauchst eine Folder auf derselben Ebene wir dieses Notebook, dann wird das File hier entzippt abgespeicher"
   ]
  },
  {
   "cell_type": "code",
   "execution_count": null,
   "metadata": {},
   "outputs": [],
   "source": []
  }
 ],
 "metadata": {
  "kernelspec": {
   "display_name": "Python 3",
   "language": "python",
   "name": "python3"
  },
  "language_info": {
   "codemirror_mode": {
    "name": "ipython",
    "version": 3
   },
   "file_extension": ".py",
   "mimetype": "text/x-python",
   "name": "python",
   "nbconvert_exporter": "python",
   "pygments_lexer": "ipython3",
   "version": "3.7.3"
  }
 },
 "nbformat": 4,
 "nbformat_minor": 2
}
