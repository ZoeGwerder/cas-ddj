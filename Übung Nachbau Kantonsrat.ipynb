{
 "cells": [
  {
   "cell_type": "code",
   "execution_count": 52,
   "metadata": {},
   "outputs": [],
   "source": [
    "import pandas as pd\n",
    "import requests\n",
    "from bs4 import BeautifulSoup"
   ]
  },
  {
   "cell_type": "code",
   "execution_count": 35,
   "metadata": {},
   "outputs": [],
   "source": [
    "url_start=requests.get(\"https://kr-geschaefte.zug.ch/gast/geschaefte?commit=Filtern&geschaeft_filter%5Babgeschlossen_bis%5D=&geschaeft_filter%5Babgeschlossen_von%5D=&geschaeft_filter%5Barten_refs%5D%5B%5D=&geschaeft_filter%5Beingereicht_bis%5D=&geschaeft_filter%5Beingereicht_von%5D=&geschaeft_filter%5Bfrist_bis%5D=&geschaeft_filter%5Bhistorische_staende_refs%5D%5B%5D=&geschaeft_filter%5Bkommissionen_refs%5D%5B%5D=&geschaeft_filter%5Bstaende_refs%5D%5B%5D=&geschaeft_filter%5Bstatus_ids%5D%5B%5D=haengig&geschaeft_filter%5Bstatus_ids%5D%5B%5D=abgeschlossen&geschaeft_filter%5Bstatus_ids%5D%5B%5D=&geschaeft_filter%5Btitel%5D=&geschaeft_filter%5Bzustaendig_refs%5D%5B%5D=&page=1\")\n",
    "soup = BeautifulSoup(url_start.text, \"html.parser\")"
   ]
  },
  {
   "cell_type": "code",
   "execution_count": 36,
   "metadata": {},
   "outputs": [
    {
     "data": {
      "text/plain": [
       "52"
      ]
     },
     "execution_count": 36,
     "metadata": {},
     "output_type": "execute_result"
    }
   ],
   "source": [
    "tr_liste = soup.find_all(\"tr\")\n",
    "len(tr_liste)"
   ]
  },
  {
   "cell_type": "code",
   "execution_count": 37,
   "metadata": {},
   "outputs": [],
   "source": [
    "tr_liste=tr_liste[2:]"
   ]
  },
  {
   "cell_type": "code",
   "execution_count": 38,
   "metadata": {},
   "outputs": [
    {
     "data": {
      "text/plain": [
       "50"
      ]
     },
     "execution_count": 38,
     "metadata": {},
     "output_type": "execute_result"
    }
   ],
   "source": [
    "len(tr_liste)"
   ]
  },
  {
   "cell_type": "code",
   "execution_count": 39,
   "metadata": {},
   "outputs": [
    {
     "data": {
      "text/plain": [
       "[<td><a href=\"/gast/geschaefte/1998\">3010</a></td>,\n",
       " <td><a href=\"/gast/geschaefte/1998\">Postulat von Ivo Egger, Stéphanie Vuichard, Hanni Schriber-Neiger und Andreas Lustenberger betreffend eines klimaneutralen, kantonalen Gebäudeparks des Kantons Zug</a></td>,\n",
       " <td class=\"hidden-xs\">Einreichung</td>,\n",
       " <td class=\"hidden-xs\">Baudirektion</td>,\n",
       " <td class=\"hidden-xs\">Postulat</td>,\n",
       " <td class=\"hidden-xs\">hängig</td>]"
      ]
     },
     "execution_count": 39,
     "metadata": {},
     "output_type": "execute_result"
    }
   ],
   "source": [
    "tr_liste[0].find_all(\"td\")"
   ]
  },
  {
   "cell_type": "code",
   "execution_count": 40,
   "metadata": {},
   "outputs": [],
   "source": [
    "td_liste=tr_liste[0](\"td\")"
   ]
  },
  {
   "cell_type": "code",
   "execution_count": 41,
   "metadata": {},
   "outputs": [
    {
     "data": {
      "text/plain": [
       "[<td><a href=\"/gast/geschaefte/1998\">3010</a></td>,\n",
       " <td><a href=\"/gast/geschaefte/1998\">Postulat von Ivo Egger, Stéphanie Vuichard, Hanni Schriber-Neiger und Andreas Lustenberger betreffend eines klimaneutralen, kantonalen Gebäudeparks des Kantons Zug</a></td>,\n",
       " <td class=\"hidden-xs\">Einreichung</td>,\n",
       " <td class=\"hidden-xs\">Baudirektion</td>,\n",
       " <td class=\"hidden-xs\">Postulat</td>,\n",
       " <td class=\"hidden-xs\">hängig</td>]"
      ]
     },
     "execution_count": 41,
     "metadata": {},
     "output_type": "execute_result"
    }
   ],
   "source": [
    "td_liste"
   ]
  },
  {
   "cell_type": "code",
   "execution_count": 42,
   "metadata": {},
   "outputs": [],
   "source": [
    "liste_erste_seite=[]\n",
    "\n",
    "for element in tr_liste:\n",
    "    td_liste=element.find_all(\"td\")\n",
    "\n",
    "    nummer=td_liste[0].text\n",
    "    name=td_liste[1].text\n",
    "    status=td_liste[2].text\n",
    "    ursprung=td_liste[3].text\n",
    "    art=td_liste[4].text\n",
    "    entscheid=td_liste[5].text\n",
    "    \n",
    "    mini_dict_td={\"Nummer\":nummer, \"Titel\": name,\"Statis\": status, \"Direktion\": ursprung, \"Art\":art, \"Entscheid\": entscheid}\n",
    "    \n",
    "    liste_erste_seite.append(mini_dict_td)\n",
    "    "
   ]
  },
  {
   "cell_type": "code",
   "execution_count": 43,
   "metadata": {},
   "outputs": [
    {
     "data": {
      "text/plain": [
       "[{'Nummer': '3010',\n",
       "  'Titel': 'Postulat von Ivo Egger, Stéphanie Vuichard, Hanni Schriber-Neiger und Andreas Lustenberger betreffend eines klimaneutralen, kantonalen Gebäudeparks des Kantons Zug',\n",
       "  'Statis': 'Einreichung',\n",
       "  'Direktion': 'Baudirektion',\n",
       "  'Art': 'Postulat',\n",
       "  'Entscheid': 'hängig'},\n",
       " {'Nummer': '3009',\n",
       "  'Titel': 'Postulat von Stéphanie Vuichard, Mariann Hess und Rita Hofer betreffend Biodiversitätsförderung',\n",
       "  'Statis': 'Einreichung',\n",
       "  'Direktion': 'Baudirektion',\n",
       "  'Art': 'Postulat',\n",
       "  'Entscheid': 'hängig'},\n",
       " {'Nummer': '3008',\n",
       "  'Titel': 'Motion von Rainer Leemann und Michael Arnold betreffend Standesinitiative: Gleiches Recht für jede Mutter und nicht nur für Politikerinnen\\r\\n',\n",
       "  'Statis': 'Einreichung',\n",
       "  'Direktion': 'Gesundheitsdirektion',\n",
       "  'Art': 'Motion',\n",
       "  'Entscheid': 'hängig'},\n",
       " {'Nummer': '3007',\n",
       "  'Titel': 'Interpellation der SP-Fraktion betreffend Pestizide und Nitrat im Zuger Trinkwasser',\n",
       "  'Statis': 'Einreichung',\n",
       "  'Direktion': 'Baudirektion',\n",
       "  'Art': 'Interpellation',\n",
       "  'Entscheid': 'hängig'},\n",
       " {'Nummer': '3006',\n",
       "  'Titel': 'Interpellation von Pirmin Andermatt und Heini Schmid betreffend Nutzung des historisch tiefen Zinsumfeldes und der guten Bonität des Kantons Zug zu Gunsten der Zuger Bevölkerung\\r\\n',\n",
       "  'Statis': 'Einreichung',\n",
       "  'Direktion': 'Finanzdirektion',\n",
       "  'Art': 'Interpellation',\n",
       "  'Entscheid': 'hängig'},\n",
       " {'Nummer': '3005',\n",
       "  'Titel': 'Kantonsrats-Ersatzwahl in der Einwohnergemeinde Zug',\n",
       "  'Statis': 'Traktandiert',\n",
       "  'Direktion': 'Staatskanzlei',\n",
       "  'Art': 'Wahlen',\n",
       "  'Entscheid': 'hängig'},\n",
       " {'Nummer': '3004',\n",
       "  'Titel': 'Motion der CVP-Fraktion betreffend bedarfsgerechte Einführung von Tagesschulen\\r\\n',\n",
       "  'Statis': 'Einreichung',\n",
       "  'Direktion': 'Direktion für Bildung und Kultur',\n",
       "  'Art': 'Motion',\n",
       "  'Entscheid': 'hängig'},\n",
       " {'Nummer': '3003',\n",
       "  'Titel': 'Postulat von Manuela Leemann, Benny Elsener und Richard Rüegg betreffend stufenlose Unterführung Brüggli \\r\\n',\n",
       "  'Statis': 'Überweisung an Regierungsrat',\n",
       "  'Direktion': 'Baudirektion',\n",
       "  'Art': 'Postulat',\n",
       "  'Entscheid': 'hängig'},\n",
       " {'Nummer': '3002',\n",
       "  'Titel': 'Interpellation von Hans Baumgartner, Manuela Käch, Jean Luc Mösch, Brigitte Wenzin Widmer, Rainer Suter, Thomas Gander, Drin Alaj, Petra Muheim Quick und Claus Soltermann betreffend Vorhaben Richtplanfestsetzung Kiesabbau Hatwil-Hubletzen, Gemeinde Cham\\r\\n',\n",
       "  'Statis': 'Überweisung an Regierungsrat',\n",
       "  'Direktion': 'Baudirektion',\n",
       "  'Art': 'Interpellation',\n",
       "  'Entscheid': 'hängig'},\n",
       " {'Nummer': '3001',\n",
       "  'Titel': 'Kantonsrats-Ersatzwahl in der Einwohnergemeinde Hünenberg',\n",
       "  'Statis': 'Wahl: Feststellung Gültigkeit',\n",
       "  'Direktion': 'Staatskanzlei',\n",
       "  'Art': 'Wahlen',\n",
       "  'Entscheid': 'abgeschlossen'},\n",
       " {'Nummer': '3000',\n",
       "  'Titel': 'Interpellation von Pirmin Andermatt, Zari Dzaferi und Urs Andermatt betreffend 5G\\r\\n',\n",
       "  'Statis': 'Überweisung an Regierungsrat',\n",
       "  'Direktion': 'Baudirektion',\n",
       "  'Art': 'Interpellation',\n",
       "  'Entscheid': 'hängig'},\n",
       " {'Nummer': '2999',\n",
       "  'Titel': 'Motion der FDP-Fraktion betreffend mehr Kompetenz und Flexibilität an die Gemeinden im Führen der Oberstufe nach deren Bedürfnissen',\n",
       "  'Statis': 'Überweisung an Regierungsrat',\n",
       "  'Direktion': 'Direktion für Bildung und Kultur',\n",
       "  'Art': 'Motion',\n",
       "  'Entscheid': 'hängig'},\n",
       " {'Nummer': '2998',\n",
       "  'Titel': 'Kantonsratsbeschluss betreffend Kenntnisnahme vom mehrjährigen Leistungsauftrag 2020–2023 für die Fachhochschule Zentralschweiz (Hochschule Luzern)',\n",
       "  'Statis': 'Kommission bestellt',\n",
       "  'Direktion': 'Volkswirtschaftsdirektion',\n",
       "  'Art': 'Kantonsratsbeschluss (nicht referendumsfähig)',\n",
       "  'Entscheid': 'hängig'},\n",
       " {'Nummer': '2997',\n",
       "  'Titel': 'Kleine Anfrage von Andreas Lustenberger betreffend Unterkünfte für asylsuchende Menschen',\n",
       "  'Statis': 'Antwort des Regierungsrats',\n",
       "  'Direktion': 'Direktion des Innern',\n",
       "  'Art': 'Kleine Anfrage',\n",
       "  'Entscheid': 'abgeschlossen'},\n",
       " {'Nummer': '2996',\n",
       "  'Titel': 'Kantonsratsbeschluss betreffend Beitritt zum Gesamtschweizerischen Geldspielkonkordat (GSK) und Beitritt zur Interkantonalen Vereinbarung betreffend die gemeinsame Durchführung von Geldspielen (IKV 2020)',\n",
       "  'Statis': 'Kommission bestellt',\n",
       "  'Direktion': 'Sicherheitsdirektion',\n",
       "  'Art': 'Konkordat',\n",
       "  'Entscheid': 'hängig'},\n",
       " {'Nummer': '2995',\n",
       "  'Titel': 'Interpellation der CVP-Fraktion betreffend Aushub - Deponien im Kanton Zug',\n",
       "  'Statis': 'Überweisung an Regierungsrat',\n",
       "  'Direktion': 'Baudirektion',\n",
       "  'Art': 'Interpellation',\n",
       "  'Entscheid': 'hängig'},\n",
       " {'Nummer': '2994',\n",
       "  'Titel': 'Interpellation der FDP-Fraktion betreffend kantonaler Arbeitsplatz im 21. Jahrhundert',\n",
       "  'Statis': 'Überweisung an Regierungsrat',\n",
       "  'Direktion': 'Finanzdirektion',\n",
       "  'Art': 'Interpellation',\n",
       "  'Entscheid': 'hängig'},\n",
       " {'Nummer': '2993',\n",
       "  'Titel': 'Motion von Anna Bieri und Barbara Häseli betreffend Standesinitiative betreffend politisches Mandat auch bei Mutterschaft',\n",
       "  'Statis': 'Erheblicherklärung',\n",
       "  'Direktion': 'Gesundheitsdirektion',\n",
       "  'Art': 'Motion',\n",
       "  'Entscheid': 'hängig'},\n",
       " {'Nummer': '2992',\n",
       "  'Titel': 'Postulat der SP-Fraktion und der Fraktion Alternative - die Grünen betreffend 150 Millionen Franken Überschuss, unnötige Sparmassnahmen rückgängig machen',\n",
       "  'Statis': 'Nichtüberweisung',\n",
       "  'Direktion': 'Finanzdirektion',\n",
       "  'Art': 'Postulat',\n",
       "  'Entscheid': 'abgeschlossen'},\n",
       " {'Nummer': '2991',\n",
       "  'Titel': 'Kantonsratsbeschluss betreffend Anpassung des kantonalen Richtplans (L 11 Gebiete für Erholung und Sport; V 2 Nationalstrassen; V 3 Kantonsstrassen; V 6 Busverkehr/Feinverteiler, u. a. auf Eigentrassee; V 9 Radverkehr; V 10 Kantonales Wanderwegnetz; V 12 Prioritäten bei den Verkehrsvorhaben; E 15 Energie) ',\n",
       "  'Statis': 'Kommission bestellt',\n",
       "  'Direktion': 'Baudirektion',\n",
       "  'Art': 'Kantonsratsbeschluss (nicht referendumsfähig)',\n",
       "  'Entscheid': 'hängig'},\n",
       " {'Nummer': '2990',\n",
       "  'Titel': 'Postulat von Fabio Iten und Patrick Iten betreffend Massnahmen für einen optimalen Verkehrsfluss während der Sanierung der Lorzental-Kantonsstrasse\\r\\n',\n",
       "  'Statis': 'Überweisung an Regierungsrat',\n",
       "  'Direktion': 'Baudirektion',\n",
       "  'Art': 'Postulat',\n",
       "  'Entscheid': 'hängig'},\n",
       " {'Nummer': '2989',\n",
       "  'Titel': 'Interpellation von Ivo Egger und Zari Dzaferi betreffend Förderung des Veloverkehrs für Arbeits- und Schulweg',\n",
       "  'Statis': 'Überweisung an Regierungsrat',\n",
       "  'Direktion': 'Baudirektion',\n",
       "  'Art': 'Interpellation',\n",
       "  'Entscheid': 'hängig'},\n",
       " {'Nummer': '2988',\n",
       "  'Titel': 'Petition «Forderungen der Pflegefachfrauen der Spitalexternen Pflege des Kantons Zug»',\n",
       "  'Statis': 'Überweisung an Kommission',\n",
       "  'Direktion': 'Justizprüfungskommission',\n",
       "  'Art': 'Petition',\n",
       "  'Entscheid': 'hängig'},\n",
       " {'Nummer': '2987',\n",
       "  'Titel': 'Petition «Frauen*streik Manifest»',\n",
       "  'Statis': 'Überweisung an Kommission',\n",
       "  'Direktion': 'Justizprüfungskommission',\n",
       "  'Art': 'Petition',\n",
       "  'Entscheid': 'hängig'},\n",
       " {'Nummer': '2986',\n",
       "  'Titel': 'Geschäftsbericht 2018 der Kindes- und Erwachsenenschutzbehörde (KESB)\\r\\n',\n",
       "  'Statis': '',\n",
       "  'Direktion': 'Justizprüfungskommission',\n",
       "  'Art': 'Verschiedenes',\n",
       "  'Entscheid': 'abgeschlossen'},\n",
       " {'Nummer': '2985',\n",
       "  'Titel': 'Änderung des Datenschutzgesetzes',\n",
       "  'Statis': 'Kommission bestellt',\n",
       "  'Direktion': 'Sicherheitsdirektion',\n",
       "  'Art': 'Gesetz',\n",
       "  'Entscheid': 'hängig'},\n",
       " {'Nummer': '2984',\n",
       "  'Titel': 'Kleine Anfrage von Rita Hofer betreffend Umsetzung Lehrplan 21 an den Kantonsschulen Zug und Menzingen ',\n",
       "  'Statis': 'Antwort des Regierungsrats',\n",
       "  'Direktion': 'Direktion für Bildung und Kultur',\n",
       "  'Art': 'Kleine Anfrage',\n",
       "  'Entscheid': 'abgeschlossen'},\n",
       " {'Nummer': '2983',\n",
       "  'Titel': 'Kleine Anfrage der SP-Fraktion betreffend Kampagne «Alter hat Potenzial» \\r\\n',\n",
       "  'Statis': 'Antwort des Regierungsrats',\n",
       "  'Direktion': 'Finanzdirektion',\n",
       "  'Art': 'Kleine Anfrage',\n",
       "  'Entscheid': 'abgeschlossen'},\n",
       " {'Nummer': '2982',\n",
       "  'Titel': 'Interpellation von Daniel Stadlin betreffend Nutzung der Windenergie',\n",
       "  'Statis': 'Überweisung an Regierungsrat',\n",
       "  'Direktion': 'Baudirektion',\n",
       "  'Art': 'Interpellation',\n",
       "  'Entscheid': 'hängig'},\n",
       " {'Nummer': '2981',\n",
       "  'Titel': 'Änderung des Einführungsgesetzes zu den Bundesgesetzen über die Berufsbildung und Fachhochschulen (EG Berufsbildung) betreffend Führung einer Höheren Fachschule für Informatik und Elektronik am GIBZ',\n",
       "  'Statis': 'Kommission bestellt',\n",
       "  'Direktion': 'Volkswirtschaftsdirektion',\n",
       "  'Art': 'Gesetz',\n",
       "  'Entscheid': 'hängig'},\n",
       " {'Nummer': '2980',\n",
       "  'Titel': 'Interpellation von Stéphanie Vuichard, Marianne Hess und Andreas Lustenberger betreffend Anstrengungen des Kantons zur Vermeidung von schädlicher und lästiger Lichteinwirkung',\n",
       "  'Statis': 'Überweisung an Regierungsrat',\n",
       "  'Direktion': 'Baudirektion',\n",
       "  'Art': 'Interpellation',\n",
       "  'Entscheid': 'hängig'},\n",
       " {'Nummer': '2979',\n",
       "  'Titel': 'Interpellation von Anna Bieri und Manuela Leemann betreffend Umgang mit Beurteilungen von überfachlichen Kompetenzen bei Kindern mit Autismus-Spektrumstörungen (ASS) und mit Aufmerksamkeitsdefizit-Störungen (ADS/ADHS)',\n",
       "  'Statis': 'Überweisung an Regierungsrat',\n",
       "  'Direktion': 'Direktion für Bildung und Kultur',\n",
       "  'Art': 'Interpellation',\n",
       "  'Entscheid': 'hängig'},\n",
       " {'Nummer': '2978',\n",
       "  'Titel': 'Interpellation von Ivo Egger, Andreas Hürlimann und Anastas Odermatt betreffend Mobilfunkstrahlenbelastung im Kanton Zug',\n",
       "  'Statis': 'Überweisung an Regierungsrat',\n",
       "  'Direktion': 'Baudirektion',\n",
       "  'Art': 'Interpellation',\n",
       "  'Entscheid': 'hängig'},\n",
       " {'Nummer': '2977',\n",
       "  'Titel': 'Postulat der SVP-Fraktion betreffend Förderung der Eigenverantwortung bei der Integration durch die Möglichkeit der Kostenbeteiligung für Kulturvermittler und Dolmetscher an Schulen',\n",
       "  'Statis': 'Überweisung an Regierungsrat',\n",
       "  'Direktion': 'Direktion für Bildung und Kultur',\n",
       "  'Art': 'Postulat',\n",
       "  'Entscheid': 'hängig'},\n",
       " {'Nummer': '2976',\n",
       "  'Titel': 'Interpellation der SP-Fraktion betreffend Revision des Planungs- und Baugesetzes',\n",
       "  'Statis': 'Überweisung an Regierungsrat',\n",
       "  'Direktion': 'Baudirektion',\n",
       "  'Art': 'Interpellation',\n",
       "  'Entscheid': 'hängig'},\n",
       " {'Nummer': '2975',\n",
       "  'Titel': 'Interpellation der SP-Fraktion betreffend Einsatz von Insektiziden im Zuger Wald',\n",
       "  'Statis': 'Überweisung an Regierungsrat',\n",
       "  'Direktion': 'Direktion des Innern',\n",
       "  'Art': 'Interpellation',\n",
       "  'Entscheid': 'hängig'},\n",
       " {'Nummer': '2974',\n",
       "  'Titel': 'Postulat der SP-Fraktion betreffend wirksames Vorgehen gegen häusliche Gewalt',\n",
       "  'Statis': 'Traktandiert',\n",
       "  'Direktion': 'Sicherheitsdirektion',\n",
       "  'Art': 'Postulat',\n",
       "  'Entscheid': 'hängig'},\n",
       " {'Nummer': '2973',\n",
       "  'Titel': 'Interpellation von Ivo Egger, Esther Haas, Hanni Schriber-Neiger betreffend Projektänderungen der Umfahrung Cham-Hünenberg',\n",
       "  'Statis': 'Überweisung an Regierungsrat',\n",
       "  'Direktion': 'Baudirektion',\n",
       "  'Art': 'Interpellation',\n",
       "  'Entscheid': 'hängig'},\n",
       " {'Nummer': '2972',\n",
       "  'Titel': 'Postulat von Tabea Zimmermann Gibson, Andreas Lustenberger und Mariann Hess betreffend nachhaltige Anlagestrategie der Zuger Pensionskasse',\n",
       "  'Statis': 'Traktandiert',\n",
       "  'Direktion': 'Finanzdirektion',\n",
       "  'Art': 'Postulat',\n",
       "  'Entscheid': 'hängig'},\n",
       " {'Nummer': '2971',\n",
       "  'Titel': 'Ersatzwahl eines neuen Mitglieds der Schätzungskommission für die restliche Amtsdauer 2019–2022',\n",
       "  'Statis': 'Wahl',\n",
       "  'Direktion': 'Justizprüfungskommission',\n",
       "  'Art': 'Wahlen',\n",
       "  'Entscheid': 'abgeschlossen'},\n",
       " {'Nummer': '2970',\n",
       "  'Titel': 'Kantonsratsbeschluss betreffend Kenntnisnahme der Jahresrechnung 2018 und des Geschäftsberichts 2018 der Gebäudeversicherung Zug \\r\\n',\n",
       "  'Statis': '',\n",
       "  'Direktion': 'Sicherheitsdirektion',\n",
       "  'Art': 'Verschiedenes',\n",
       "  'Entscheid': 'abgeschlossen'},\n",
       " {'Nummer': '2969',\n",
       "  'Titel': 'Rechenschaftsberichte 2017/2018 des Verwaltungsgerichts und der Schätzungskommission',\n",
       "  'Statis': '',\n",
       "  'Direktion': 'Verwaltungsgericht',\n",
       "  'Art': 'Verschiedenes',\n",
       "  'Entscheid': 'abgeschlossen'},\n",
       " {'Nummer': '2968',\n",
       "  'Titel': 'Zwischenbericht zu den per Ende März 2019 zur Berichterstattung fälligen parlamentarischen Vorstössen ',\n",
       "  'Statis': '',\n",
       "  'Direktion': 'Staatskanzlei',\n",
       "  'Art': 'Verschiedenes',\n",
       "  'Entscheid': 'abgeschlossen'},\n",
       " {'Nummer': '2967',\n",
       "  'Titel': 'Interpellation von Manuela Leemann und Isabel Liniger betreffend Berücksichtigung des hindernisfreien Bauens bei Gesetzesprojekten',\n",
       "  'Statis': 'Traktandiert',\n",
       "  'Direktion': 'Baudirektion',\n",
       "  'Art': 'Interpellation',\n",
       "  'Entscheid': 'hängig'},\n",
       " {'Nummer': '2966',\n",
       "  'Titel': 'Postulat der CVP-Fraktion betreffend klimaneutralen öffentlichen Verkehr im Kanton Zug',\n",
       "  'Statis': 'Überweisung an Regierungsrat',\n",
       "  'Direktion': 'Baudirektion',\n",
       "  'Art': 'Postulat',\n",
       "  'Entscheid': 'hängig'},\n",
       " {'Nummer': '2965',\n",
       "  'Titel': 'Feststellung der Gültigkeit der stillen Wahl eines Ersatzmitglieds des Obergerichts für den Rest der Amtsdauer 2019–2024',\n",
       "  'Statis': 'Wahl: Feststellung Gültigkeit',\n",
       "  'Direktion': 'Staatskanzlei',\n",
       "  'Art': 'Wahlen',\n",
       "  'Entscheid': 'abgeschlossen'},\n",
       " {'Nummer': '2964',\n",
       "  'Titel': 'Kantonsratsbeschluss betreffend Objektkredit für die Planung der Instandsetzung und eines Neubaus an der Hofstrasse 15, Zug ',\n",
       "  'Statis': 'Kommission bestellt',\n",
       "  'Direktion': 'Baudirektion',\n",
       "  'Art': 'Kantonsratsbeschluss (referendumsfähig)',\n",
       "  'Entscheid': 'hängig'},\n",
       " {'Nummer': '2963',\n",
       "  'Titel': 'ZFA-Reform 2018: Abschlussbericht',\n",
       "  'Statis': 'Traktandiert',\n",
       "  'Direktion': 'Finanzdirektion',\n",
       "  'Art': 'Verschiedenes',\n",
       "  'Entscheid': 'hängig'},\n",
       " {'Nummer': '2962',\n",
       "  'Titel': 'Interpellation der CVP-Fraktion betreffend bessere Beleuchtung und Energieoptimierung auf den Zuger Strassen insbesondere bei Fussgängerübergängen',\n",
       "  'Statis': 'Traktandiert',\n",
       "  'Direktion': 'Baudirektion',\n",
       "  'Art': 'Interpellation',\n",
       "  'Entscheid': 'hängig'},\n",
       " {'Nummer': '2961',\n",
       "  'Titel': 'Geschäftsbericht 2018',\n",
       "  'Statis': '',\n",
       "  'Direktion': 'Finanzdirektion',\n",
       "  'Art': 'Verschiedenes',\n",
       "  'Entscheid': 'abgeschlossen'}]"
      ]
     },
     "execution_count": 43,
     "metadata": {},
     "output_type": "execute_result"
    }
   ],
   "source": [
    "liste_erste_seite"
   ]
  },
  {
   "cell_type": "code",
   "execution_count": 72,
   "metadata": {},
   "outputs": [],
   "source": [
    "#jetzt muss ich das noch für alle Seiten machen\n",
    "liste_allerseiten=[]\n",
    "url_anfang =\"https://kr-geschaefte.zug.ch/gast/geschaefte?commit=Filtern&geschaeft_filter%5Babgeschlossen_bis%5D=&geschaeft_filter%5Babgeschlossen_von%5D=&geschaeft_filter%5Barten_refs%5D%5B%5D=&geschaeft_filter%5Beingereicht_bis%5D=&geschaeft_filter%5Beingereicht_von%5D=&geschaeft_filter%5Bfrist_bis%5D=&geschaeft_filter%5Bhistorische_staende_refs%5D%5B%5D=&geschaeft_filter%5Bkommissionen_refs%5D%5B%5D=&geschaeft_filter%5Bstaende_refs%5D%5B%5D=&geschaeft_filter%5Bstatus_ids%5D%5B%5D=haengig&geschaeft_filter%5Bstatus_ids%5D%5B%5D=abgeschlossen&geschaeft_filter%5Bstatus_ids%5D%5B%5D=&geschaeft_filter%5Btitel%5D=&geschaeft_filter%5Bzustaendig_refs%5D%5B%5D=&page=\"\n",
    "\n",
    "for seiten in range(1,41):\n",
    "    url_seitenzahl=seiten\n",
    "    url_ganz = requests.get(url_anfang+str(url_seitenzahl))\n",
    "   \n",
    "    ganze_soup= BeautifulSoup(url_ganz.text, \"html.parser\")\n",
    "    \n",
    "    liste_allerseiten=ganze_soup.find_all(\"tr\")[2:]\n",
    "\n",
    "    list_alle=[]\n",
    "    for element in liste_allerseiten:\n",
    "        td_liste=element.find_all(\"td\")\n",
    "        nummer=td_liste[0].find(\"a\")[\"href\"]\n",
    "        name=td_liste[1].text\n",
    "        status=td_liste[2].text\n",
    "        ursprung=td_liste[3].text\n",
    "        art=td_liste[4].text\n",
    "        entscheid=td_liste[5].text\n",
    "    \n",
    "        mini_dict_td={\"Nummer\":nummer, \"Titel\": name,\"Statis\": status, \"Direktion\": ursprung, \"Art\":art, \"Entscheid\": entscheid}\n",
    "    \n",
    "        list_alle.append(mini_dict_td)"
   ]
  },
  {
   "cell_type": "code",
   "execution_count": 73,
   "metadata": {},
   "outputs": [
    {
     "data": {
      "text/plain": [
       "13"
      ]
     },
     "execution_count": 73,
     "metadata": {},
     "output_type": "execute_result"
    }
   ],
   "source": [
    "len(list_alle)"
   ]
  },
  {
   "cell_type": "code",
   "execution_count": 67,
   "metadata": {},
   "outputs": [],
   "source": [
    "df=pd.DataFrame(list_alle)"
   ]
  },
  {
   "cell_type": "code",
   "execution_count": 69,
   "metadata": {},
   "outputs": [],
   "source": [
    "url_sammlung=[]\n",
    "url_start= \"https://kr-geschaefte.zug.ch\"\n",
    "for item in df[\"Nummer\"]:\n",
    "    url_sammlung.append(url_start+item)"
   ]
  },
  {
   "cell_type": "code",
   "execution_count": 71,
   "metadata": {},
   "outputs": [
    {
     "data": {
      "text/plain": [
       "13"
      ]
     },
     "execution_count": 71,
     "metadata": {},
     "output_type": "execute_result"
    }
   ],
   "source": [
    "url_sammlung"
   ]
  },
  {
   "cell_type": "code",
   "execution_count": null,
   "metadata": {},
   "outputs": [],
   "source": []
  }
 ],
 "metadata": {
  "kernelspec": {
   "display_name": "Python 3",
   "language": "python",
   "name": "python3"
  },
  "language_info": {
   "codemirror_mode": {
    "name": "ipython",
    "version": 3
   },
   "file_extension": ".py",
   "mimetype": "text/x-python",
   "name": "python",
   "nbconvert_exporter": "python",
   "pygments_lexer": "ipython3",
   "version": "3.7.3"
  }
 },
 "nbformat": 4,
 "nbformat_minor": 2
}
