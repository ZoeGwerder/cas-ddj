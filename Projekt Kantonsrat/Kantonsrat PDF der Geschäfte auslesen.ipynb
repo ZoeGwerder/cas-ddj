{
 "cells": [
  {
   "cell_type": "code",
   "execution_count": 2,
   "metadata": {},
   "outputs": [],
   "source": [
    "import pandas as pd\n",
    "import camelot\n",
    "from bs4 import BeautifulSoup\n",
    "import matplotlib.pyplot as plt\n",
    "import requests\n",
    "import os\n",
    "import textract\n",
    "import tqdm"
   ]
  },
  {
   "cell_type": "code",
   "execution_count": 4,
   "metadata": {},
   "outputs": [],
   "source": [
    "%matplotlib inline"
   ]
  },
  {
   "cell_type": "code",
   "execution_count": 3,
   "metadata": {},
   "outputs": [
    {
     "name": "stderr",
     "output_type": "stream",
     "text": [
      "UserWarning: No tables found in table area 1 [stream.py:361]\n"
     ]
    }
   ],
   "source": [
    "bunda=camelot.read_pdf(\"https://kr-geschaefte.zug.ch/dokumente/2312/pdoc_416_1.pdf\", flavor= \"stream\", pages=\"1\")"
   ]
  },
  {
   "cell_type": "code",
   "execution_count": 6,
   "metadata": {},
   "outputs": [
    {
     "data": {
      "text/html": [
       "<div>\n",
       "<style scoped>\n",
       "    .dataframe tbody tr th:only-of-type {\n",
       "        vertical-align: middle;\n",
       "    }\n",
       "\n",
       "    .dataframe tbody tr th {\n",
       "        vertical-align: top;\n",
       "    }\n",
       "\n",
       "    .dataframe thead th {\n",
       "        text-align: right;\n",
       "    }\n",
       "</style>\n",
       "<table border=\"1\" class=\"dataframe\">\n",
       "  <thead>\n",
       "    <tr style=\"text-align: right;\">\n",
       "      <th></th>\n",
       "      <th>0</th>\n",
       "    </tr>\n",
       "  </thead>\n",
       "  <tbody>\n",
       "    <tr>\n",
       "      <td>0</td>\n",
       "      <td>Die FDP-Fraktion hat am 27. Mai 2003 folgende ...</td>\n",
       "    </tr>\n",
       "    <tr>\n",
       "      <td>1</td>\n",
       "      <td>Der  Regierungsrat  wird  beauftragt,  dem  Ka...</td>\n",
       "    </tr>\n",
       "    <tr>\n",
       "      <td>2</td>\n",
       "      <td>gesetzes zu unterbreiten, wonach Personen aus ...</td>\n",
       "    </tr>\n",
       "    <tr>\n",
       "      <td>3</td>\n",
       "      <td>auf  Unterstützung  erhalten,  auf  deren  Ges...</td>\n",
       "    </tr>\n",
       "    <tr>\n",
       "      <td>4</td>\n",
       "      <td>Gesuch abgewiesen wurde und die ihrer  Ausreis...</td>\n",
       "    </tr>\n",
       "    <tr>\n",
       "      <td>5</td>\n",
       "      <td>und  sich  der Wegweisung  entziehen.  Damit  ...</td>\n",
       "    </tr>\n",
       "    <tr>\n",
       "      <td>6</td>\n",
       "      <td>stellungen kommt, muss der Ausschluss von Sozi...</td>\n",
       "    </tr>\n",
       "    <tr>\n",
       "      <td>7</td>\n",
       "      <td>len  und  persönlichen  Unterstützung  gleichz...</td>\n",
       "    </tr>\n",
       "    <tr>\n",
       "      <td>8</td>\n",
       "      <td>sich aus anderen Gründen illegal in der Schwei...</td>\n",
       "    </tr>\n",
       "  </tbody>\n",
       "</table>\n",
       "</div>"
      ],
      "text/plain": [
       "                                                   0\n",
       "0  Die FDP-Fraktion hat am 27. Mai 2003 folgende ...\n",
       "1  Der  Regierungsrat  wird  beauftragt,  dem  Ka...\n",
       "2  gesetzes zu unterbreiten, wonach Personen aus ...\n",
       "3  auf  Unterstützung  erhalten,  auf  deren  Ges...\n",
       "4  Gesuch abgewiesen wurde und die ihrer  Ausreis...\n",
       "5  und  sich  der Wegweisung  entziehen.  Damit  ...\n",
       "6  stellungen kommt, muss der Ausschluss von Sozi...\n",
       "7  len  und  persönlichen  Unterstützung  gleichz...\n",
       "8  sich aus anderen Gründen illegal in der Schwei..."
      ]
     },
     "execution_count": 6,
     "metadata": {},
     "output_type": "execute_result"
    }
   ],
   "source": [
    "bunda[0].df"
   ]
  },
  {
   "cell_type": "code",
   "execution_count": null,
   "metadata": {},
   "outputs": [],
   "source": [
    "#Problem: Ich muss das DAtum aus dem Text extrahieren. lernen wir wohl erst noch"
   ]
  },
  {
   "cell_type": "markdown",
   "metadata": {},
   "source": [
    "# Wohl besser mit Textract nochmals versuchen"
   ]
  },
  {
   "cell_type": "code",
   "execution_count": 7,
   "metadata": {},
   "outputs": [
    {
     "ename": "SyntaxError",
     "evalue": "(unicode error) 'unicodeescape' codec can't decode bytes in position 2-3: truncated \\UXXXXXXXX escape (<ipython-input-7-470ab5d2998a>, line 1)",
     "output_type": "error",
     "traceback": [
      "\u001b[1;36m  File \u001b[1;32m\"<ipython-input-7-470ab5d2998a>\"\u001b[1;36m, line \u001b[1;32m1\u001b[0m\n\u001b[1;33m    text = textract.process(\"C:\\Users\\Zoe\\Desktop\\maz-datenjournalismus\\cas-ddj\\Projekt Kantonsrat\\Liste_20190516_anerkannteKitas.pdf\")\u001b[0m\n\u001b[1;37m                           ^\u001b[0m\n\u001b[1;31mSyntaxError\u001b[0m\u001b[1;31m:\u001b[0m (unicode error) 'unicodeescape' codec can't decode bytes in position 2-3: truncated \\UXXXXXXXX escape\n"
     ]
    }
   ],
   "source": [
    "text = textract.process(\"C:\\Users\\Zoe\\Desktop\\maz-datenjournalismus\\cas-ddj\\Projekt Kantonsrat\\Liste_20190516_anerkannteKitas.pdf\")"
   ]
  },
  {
   "cell_type": "code",
   "execution_count": null,
   "metadata": {},
   "outputs": [],
   "source": []
  }
 ],
 "metadata": {
  "kernelspec": {
   "display_name": "Python 3",
   "language": "python",
   "name": "python3"
  },
  "language_info": {
   "codemirror_mode": {
    "name": "ipython",
    "version": 3
   },
   "file_extension": ".py",
   "mimetype": "text/x-python",
   "name": "python",
   "nbconvert_exporter": "python",
   "pygments_lexer": "ipython3",
   "version": "3.7.3"
  }
 },
 "nbformat": 4,
 "nbformat_minor": 2
}
