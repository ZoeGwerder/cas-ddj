{
 "cells": [
  {
   "cell_type": "code",
   "execution_count": 2,
   "metadata": {},
   "outputs": [],
   "source": [
    "import pandas as pd\n",
    "import camelot\n",
    "from bs4 import BeautifulSoup\n",
    "import matplotlib.pyplot as plt\n",
    "import requests\n",
    "import os\n",
    "import textract\n",
    "import tqdm\n",
    "import PyPDF2\n",
    "import re"
   ]
  },
  {
   "cell_type": "code",
   "execution_count": 3,
   "metadata": {},
   "outputs": [],
   "source": [
    "%matplotlib inline"
   ]
  },
  {
   "cell_type": "markdown",
   "metadata": {},
   "source": [
    "# Nicht mit Textract (nicht so Windowskompartibel) sondern mit pypdf2"
   ]
  },
  {
   "cell_type": "code",
   "execution_count": 4,
   "metadata": {},
   "outputs": [
    {
     "name": "stderr",
     "output_type": "stream",
     "text": [
      "PdfReadWarning: Xref table not zero-indexed. ID numbers for objects will be corrected. [pdf.py:1736]\n"
     ]
    }
   ],
   "source": [
    "mypdf = open(\"KRGeschPDF/12562_1616_1_motion.pdf\", mode='rb')\n",
    "pdf_document = PyPDF2.PdfFileReader(mypdf)"
   ]
  },
  {
   "cell_type": "code",
   "execution_count": 5,
   "metadata": {},
   "outputs": [
    {
     "data": {
      "text/plain": [
       "2"
      ]
     },
     "execution_count": 5,
     "metadata": {},
     "output_type": "execute_result"
    }
   ],
   "source": [
    "pdf_document.numPages"
   ]
  },
  {
   "cell_type": "code",
   "execution_count": 6,
   "metadata": {
    "scrolled": true
   },
   "outputs": [
    {
     "name": "stdout",
     "output_type": "stream",
     "text": [
      "   KANTON ZUG VORLAGE NR. 1616.1  \n",
      " (Laufnummer 12562) \n",
      "  \n",
      " \n",
      " MOTION DER FDP-FRAKTION UND DER CVP-FRAKTION \n",
      " BETREFFEND WAHLGESETZ \n",
      " VOM 6. DEZEMBER 2007 \n",
      " \n",
      " \n",
      " \n",
      " \n",
      "Die FDP-Fraktion und die CVP-Frakti\n",
      "on haben am 6. Deze\n",
      "mber 2007 folgende \n",
      "Mo-tion eingereicht:  \n",
      "Der Regierungsrat wird beauftragt, dem Kantonsrat baldmöglichst ein teilrevidiertes \n",
      "\n",
      "Wahlgesetz vorzulegen, damit im Jahr \n",
      "2010 verständliche, faire und praxistaugliche gemeindliche und kantonale Wahlen möglich si\n",
      "nd. Die Teilrevision soll unter ande-\n",
      "rem folgende Punkte umfassen: \n",
      " \n",
      "1. Listenverbindungen sollen be\n",
      "i den Exekutiv- und Legislativwahlen nicht mehr \n",
      "zugelassen werden. \n",
      " 2. Die organisatorische \n",
      "Abwicklung soll in Bezug \n",
      "auf Wahlausschreibung und \n",
      "Wahlzeitpunkt überprüft werden.  Begründung:  Bei den Nationalratswahlen vom vergangenen \n",
      "Oktober hat sich gezeigt, dass die \n",
      "grosse Anzahl Listenverbindungen zu \n",
      "Verwirrung bei der w\n",
      "ählenden Bevölkerung \n",
      "geführt hat. 5% der Stimmen wurden ungültig\n",
      " eingelegt, zumeist, weil Wählerinnen \n",
      "und Wählern nicht bewusst war, dass nur \n",
      "eine Liste gültig eingelegt werden kann. \n",
      " \n",
      "Bei der Beratung des Wahlgesetzes und be\n",
      "i der Änderung Listenproporz zum Natio-\n",
      "nalratsproporz für die Exekutive hat der\n",
      " Kantonsrat den richtigen Weg eingeschla-\n",
      "gen. Unterschätzt hat der Kantonsrat damals \n",
      "die Problematik, die sich aus der Zu-\n",
      "lässigkeit der Listenverbindungen ergibt. W\n",
      "enn die Wahlzettelflut bei drei National-\n",
      "ratssitzen evtl. noch überschaubar war, ist doc\n",
      "h festzustellen, dass ein Anteil von 5% \n",
      "ungültigen Stimmen zu hoch ist und aufzeigt, \n",
      "dass dieses System für die Stimmen-\n",
      "den nicht nachvollziehbar ist. Oberstes Zi\n",
      "el muss es sein, dass der Wählerwille zum \n",
      "Ausdruck kommt und nicht, dass Wahlen ungül\n",
      "tig sind, weil eben das Wahlsystem zu \n",
      "kompliziert ist. \n",
      " \n",
      "Es ist deshalb nötig, insbesondere die \n",
      "Frage der Listenverbindungen nochmals kri-\n",
      "tisch zu überprüfen. Dies ist umso wichti\n",
      "ger, als beispielsweise die Einreichung \n",
      "zweier Listen von jeder Partei bei \n",
      "den nächsten Gesamterneuerungswahlen dazu \n",
      "führen würde, dass 10 Listen für den \n",
      "Kantonsrat, 10 Listen für den Regierungsrat, \n"
     ]
    }
   ],
   "source": [
    "first_page = pdf_document.getPage(0)\n",
    "print(first_page.extractText())"
   ]
  },
  {
   "cell_type": "code",
   "execution_count": 126,
   "metadata": {},
   "outputs": [],
   "source": [
    "first_page = pdf_document.getPage(0)"
   ]
  },
  {
   "cell_type": "code",
   "execution_count": 1,
   "metadata": {},
   "outputs": [
    {
     "ename": "NameError",
     "evalue": "name 'first_page' is not defined",
     "output_type": "error",
     "traceback": [
      "\u001b[1;31m---------------------------------------------------------------------------\u001b[0m",
      "\u001b[1;31mNameError\u001b[0m                                 Traceback (most recent call last)",
      "\u001b[1;32m<ipython-input-1-16b17e05dc37>\u001b[0m in \u001b[0;36m<module>\u001b[1;34m\u001b[0m\n\u001b[1;32m----> 1\u001b[1;33m \u001b[0mfirst_page\u001b[0m\u001b[1;33m\u001b[0m\u001b[1;33m\u001b[0m\u001b[0m\n\u001b[0m",
      "\u001b[1;31mNameError\u001b[0m: name 'first_page' is not defined"
     ]
    }
   ],
   "source": [
    "front=first_page.extractText()"
   ]
  },
  {
   "cell_type": "markdown",
   "metadata": {},
   "source": [
    "# Jetzt Regex Baby Datum rausziehen (evtl auch gleich Namen)"
   ]
  },
  {
   "cell_type": "code",
   "execution_count": 140,
   "metadata": {},
   "outputs": [],
   "source": [
    "#nun will ich aus jedem PDF zum Einen die VorlagenNR rausziehen sowie Namen und Datum\n",
    "regex_vorlage= r\"VORLAGE.NR\\..(\\d*)\\.1\"\n",
    "regex_datum = r\"VOM.(\\d+\\..\\w*.\\d{4})\"\n",
    "regex_name=r\"\\bVON(.*UND.*)\"\n",
    "regex_name1= r\"\\bVON.(\\w*.\\w*\\b)\"\n",
    "regex_partei= r\"DER.(\\w*)\""
   ]
  },
  {
   "cell_type": "code",
   "execution_count": 35,
   "metadata": {},
   "outputs": [],
   "source": [
    "newlist = re.split(r\"\\b[\\n]\\b\", front, re.IGNORECASE) \n",
    "#Der Versuch, die ganze Sache zu splitten funktioniert nicht wie gewünscht. Er erkennt einige \\n nicht. Keine Ahnung"
   ]
  },
  {
   "cell_type": "code",
   "execution_count": 129,
   "metadata": {},
   "outputs": [],
   "source": [
    "dat_einr= re.findall(regex_datum, front)\n",
    "vorl_nr= re.findall(regex_vorlage, front)\n"
   ]
  },
  {
   "cell_type": "code",
   "execution_count": 130,
   "metadata": {},
   "outputs": [
    {
     "data": {
      "text/plain": [
       "['31. MÄRZ 2004']"
      ]
     },
     "execution_count": 130,
     "metadata": {},
     "output_type": "execute_result"
    }
   ],
   "source": [
    "dat_einr"
   ]
  },
  {
   "cell_type": "code",
   "execution_count": 131,
   "metadata": {},
   "outputs": [
    {
     "data": {
      "text/plain": [
       "['1226']"
      ]
     },
     "execution_count": 131,
     "metadata": {},
     "output_type": "execute_result"
    }
   ],
   "source": [
    "vorl_nr"
   ]
  },
  {
   "cell_type": "code",
   "execution_count": 112,
   "metadata": {},
   "outputs": [],
   "source": [
    "name_eing = re.findall(regex_partei, front)"
   ]
  },
  {
   "cell_type": "code",
   "execution_count": 113,
   "metadata": {
    "scrolled": true
   },
   "outputs": [
    {
     "data": {
      "text/plain": [
       "['BZUGES']"
      ]
     },
     "execution_count": 113,
     "metadata": {},
     "output_type": "execute_result"
    }
   ],
   "source": [
    "name_eing"
   ]
  },
  {
   "cell_type": "code",
   "execution_count": 143,
   "metadata": {},
   "outputs": [],
   "source": [
    "name_eing = re.findall(regex_name1, front)"
   ]
  },
  {
   "cell_type": "code",
   "execution_count": 144,
   "metadata": {},
   "outputs": [
    {
     "data": {
      "text/plain": [
       "['GREGOR KUPPER']"
      ]
     },
     "execution_count": 144,
     "metadata": {},
     "output_type": "execute_result"
    }
   ],
   "source": [
    "name_eing"
   ]
  },
  {
   "cell_type": "markdown",
   "metadata": {},
   "source": [
    "## hier will ich sagen, was er suchen soll: \n",
    "### Bin aber noch nicht sicher, ob das so funktioniert. Es will irgendwie nicht. aber ich habe es auch noch nicht geschafft, die Regex zu den mehreren Namen rauszufinden. "
   ]
  },
  {
   "cell_type": "code",
   "execution_count": 116,
   "metadata": {},
   "outputs": [],
   "source": [
    "\n",
    "#Name müsste irgendwie so rausgezogen werden:\n",
    "for i in front: \n",
    "    if regex_name in i == True:\n",
    "        name_eing = re.findall(regex_name, front) #wenn mehrer Namen da sind, dann sollen diese alle rausgenommen werden\n",
    "    else:\n",
    "        name_eing = re.findall(regex_name1, front) #ist nur ein Name da, Nur diesen nehmen.\n",
    "        if regex_name1 == False:\n",
    "            name_eing = re.findall(regex_partei, front) #falls es eine Partei ist"
   ]
  },
  {
   "cell_type": "code",
   "execution_count": 117,
   "metadata": {},
   "outputs": [
    {
     "data": {
      "text/plain": [
       "['ALOIS GÖSSI']"
      ]
     },
     "execution_count": 117,
     "metadata": {},
     "output_type": "execute_result"
    }
   ],
   "source": [
    "name_eing"
   ]
  },
  {
   "cell_type": "code",
   "execution_count": null,
   "metadata": {},
   "outputs": [],
   "source": []
  }
 ],
 "metadata": {
  "kernelspec": {
   "display_name": "Python 3",
   "language": "python",
   "name": "python3"
  },
  "language_info": {
   "codemirror_mode": {
    "name": "ipython",
    "version": 3
   },
   "file_extension": ".py",
   "mimetype": "text/x-python",
   "name": "python",
   "nbconvert_exporter": "python",
   "pygments_lexer": "ipython3",
   "version": "3.7.3"
  }
 },
 "nbformat": 4,
 "nbformat_minor": 2
}
