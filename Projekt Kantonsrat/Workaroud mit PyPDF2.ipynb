{
 "cells": [
  {
   "cell_type": "code",
   "execution_count": 9,
   "metadata": {},
   "outputs": [],
   "source": [
    "#Anleitung hier https://stackabuse.com/python-for-nlp-working-with-text-and-pdf-files/\n",
    "#im Anaconda Prompt eingeben: pip install PyPDF2\n",
    "import PyPDF2\n",
    "mypdf = open(\"pdoc_405_1.pdf\", mode='rb')\n",
    "pdf_document = PyPDF2.PdfFileReader(mypdf)"
   ]
  },
  {
   "cell_type": "code",
   "execution_count": 3,
   "metadata": {},
   "outputs": [
    {
     "data": {
      "text/plain": [
       "<PyPDF2.pdf.PdfFileReader at 0x1da7af914e0>"
      ]
     },
     "execution_count": 3,
     "metadata": {},
     "output_type": "execute_result"
    }
   ],
   "source": [
    "pdf_document "
   ]
  },
  {
   "cell_type": "code",
   "execution_count": 4,
   "metadata": {},
   "outputs": [
    {
     "data": {
      "text/plain": [
       "5"
      ]
     },
     "execution_count": 4,
     "metadata": {},
     "output_type": "execute_result"
    }
   ],
   "source": [
    "pdf_document.numPages"
   ]
  },
  {
   "cell_type": "code",
   "execution_count": 7,
   "metadata": {},
   "outputs": [
    {
     "name": "stdout",
     "output_type": "stream",
     "text": [
      "KANTON ZUGVORLAGE NR. 1118.2\n",
      "(Laufnummer 11217)\n",
      "INTERPELLATION VON BEAT VILLIGER\n",
      "BETREFFEND EINFÜHRUNG DES NEUEN LOHNAUSWEISES\n",
      "(VORLAGE NR. 1118.1 Œ 11152)\n",
      "ANTWORT DES REGIERUNGSRATES\n",
      "VOM 01. JULI 2003\n",
      "Sehr geehrter Herr Präsident\n",
      "Sehr geehrte Damen und Herren\n",
      "In seiner Interpellation vom 8. Mai 2003 rügt Kantonsrat Beat Villiger, Baar, den\n",
      "durch die Schweizerische Steuerkonferenz (SSK) ausgearbeiteten neuen Lohn-\n",
      "\n",
      "ausweis, welcher ab Anfang 2005 verwendet werden soll. Er ist der Auffassung, dass\n",
      "\n",
      "dieser vor allem den KMU eine erhebliche administrative Mehrbelastung beschert\n",
      "\n",
      "und sieht unter anderem auch den Datenschutz gefährdet. Deshalb stellt er dem\n",
      "\n",
      "Regierungsrat 6 Fragen, welche dieser wie folgt beantwortet:\n",
      "Zu Frage 1Welche Stellungnahme hat der Kanton Zug im Rahmen des Vernehmlassungs-\n",
      "\n",
      "verfahrens —neuer Lohnausweisﬁ abgegeben?\n",
      "Es handelte sich nicht um ein eigentliches Vernehmlassungsverfahren, sondern um\n",
      "\n",
      "eine Umfrage der Schweizerischen Steuerkonferenz (SSK) bei den Kantonen und\n",
      "\n",
      "beim Bund vom Oktober 2000. Diese Umfrage wurde direkt durch die kantonale\n",
      "\n",
      "Steuerverwaltung beantwortet. Dabei ging es insbesondere um die Klärung von\n",
      "\n",
      "logistischen Fragen bezüglich des Einführungszeitpunktes und des Versands. Unter\n",
      "\n",
      "anderem wurde seitens der Steuerverwaltung bestätigt, dass der Erlass der \n",
      "\n"
     ]
    }
   ],
   "source": [
    "first_page = pdf_document.getPage(0)\n",
    "print(first_page.extractText())"
   ]
  },
  {
   "cell_type": "code",
   "execution_count": null,
   "metadata": {},
   "outputs": [],
   "source": []
  }
 ],
 "metadata": {
  "kernelspec": {
   "display_name": "Python 3",
   "language": "python",
   "name": "python3"
  },
  "language_info": {
   "codemirror_mode": {
    "name": "ipython",
    "version": 3
   },
   "file_extension": ".py",
   "mimetype": "text/x-python",
   "name": "python",
   "nbconvert_exporter": "python",
   "pygments_lexer": "ipython3",
   "version": "3.7.3"
  }
 },
 "nbformat": 4,
 "nbformat_minor": 2
}
