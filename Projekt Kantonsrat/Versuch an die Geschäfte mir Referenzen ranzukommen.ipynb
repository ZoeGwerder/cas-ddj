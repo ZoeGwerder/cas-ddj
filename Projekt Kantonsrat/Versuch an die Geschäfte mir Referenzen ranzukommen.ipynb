{
 "cells": [
  {
   "cell_type": "code",
   "execution_count": 1,
   "metadata": {},
   "outputs": [],
   "source": [
    "import requests\n",
    "import pandas as pd\n",
    "from bs4 import BeautifulSoup\n",
    "from datetime import datetime\n",
    "import numpy as np\n",
    "import requests, zipfile, io #zum abspeichern von PDFs\n",
    "from tqdm import tqdm # Anzeigen des aktuellen Ladestandes\n",
    "import PyPDF2\n",
    "import re\n",
    "from os import listdir\n",
    "from os.path import isfile, join\n",
    "import locale #für das deutsche Zeitformat"
   ]
  },
  {
   "cell_type": "markdown",
   "metadata": {},
   "source": [
    "## 1. URL von allen Hauptseiten holen"
   ]
  },
  {
   "cell_type": "code",
   "execution_count": 2,
   "metadata": {},
   "outputs": [],
   "source": [
    "df_v=pd.read_csv(\"KRFrames/df_v_Hauptseiten\")"
   ]
  },
  {
   "cell_type": "code",
   "execution_count": 18,
   "metadata": {},
   "outputs": [
    {
     "data": {
      "text/html": [
       "<div>\n",
       "<style scoped>\n",
       "    .dataframe tbody tr th:only-of-type {\n",
       "        vertical-align: middle;\n",
       "    }\n",
       "\n",
       "    .dataframe tbody tr th {\n",
       "        vertical-align: top;\n",
       "    }\n",
       "\n",
       "    .dataframe thead th {\n",
       "        text-align: right;\n",
       "    }\n",
       "</style>\n",
       "<table border=\"1\" class=\"dataframe\">\n",
       "  <thead>\n",
       "    <tr style=\"text-align: right;\">\n",
       "      <th></th>\n",
       "      <th>Unnamed: 0</th>\n",
       "      <th>index</th>\n",
       "      <th>VorlageNR</th>\n",
       "      <th>url</th>\n",
       "      <th>Geschäft</th>\n",
       "      <th>Stand</th>\n",
       "      <th>Zuständigkeit</th>\n",
       "      <th>Art des Geschäfts</th>\n",
       "      <th>Status</th>\n",
       "    </tr>\n",
       "  </thead>\n",
       "  <tbody>\n",
       "    <tr>\n",
       "      <td>0</td>\n",
       "      <td>0</td>\n",
       "      <td>0</td>\n",
       "      <td>3020</td>\n",
       "      <td>/gast/geschaefte/2008</td>\n",
       "      <td>Postulat von Luzian Franzini und Esther Haas b...</td>\n",
       "      <td>Überweisung an Regierungsrat</td>\n",
       "      <td>Sicherheitsdirektion</td>\n",
       "      <td>Postulat</td>\n",
       "      <td>hängig</td>\n",
       "    </tr>\n",
       "    <tr>\n",
       "      <td>1</td>\n",
       "      <td>1</td>\n",
       "      <td>1</td>\n",
       "      <td>3019</td>\n",
       "      <td>/gast/geschaefte/2007</td>\n",
       "      <td>Motion von Luzian Franzini, Rita Hofer, Tabea ...</td>\n",
       "      <td>Überweisung an Regierungsrat</td>\n",
       "      <td>Direktion des Innern</td>\n",
       "      <td>Motion</td>\n",
       "      <td>hängig</td>\n",
       "    </tr>\n",
       "    <tr>\n",
       "      <td>2</td>\n",
       "      <td>2</td>\n",
       "      <td>2</td>\n",
       "      <td>3018</td>\n",
       "      <td>/gast/geschaefte/2006</td>\n",
       "      <td>Interpellation von Fabio Iten, Laura Dittli un...</td>\n",
       "      <td>Überweisung an Regierungsrat</td>\n",
       "      <td>Volkswirtschaftsdirektion</td>\n",
       "      <td>Interpellation</td>\n",
       "      <td>hängig</td>\n",
       "    </tr>\n",
       "    <tr>\n",
       "      <td>3</td>\n",
       "      <td>3</td>\n",
       "      <td>3</td>\n",
       "      <td>3017</td>\n",
       "      <td>/gast/geschaefte/2005</td>\n",
       "      <td>Postulat von Tabea Zimmermann Gibson, Stéphani...</td>\n",
       "      <td>Überweisung an Regierungsrat</td>\n",
       "      <td>Direktion des Innern</td>\n",
       "      <td>Postulat</td>\n",
       "      <td>hängig</td>\n",
       "    </tr>\n",
       "    <tr>\n",
       "      <td>4</td>\n",
       "      <td>4</td>\n",
       "      <td>6</td>\n",
       "      <td>3014</td>\n",
       "      <td>/gast/geschaefte/2002</td>\n",
       "      <td>Interpellation der SVP-Fraktion betreffend mob...</td>\n",
       "      <td>Kenntnisnahme</td>\n",
       "      <td>Sicherheitsdirektion</td>\n",
       "      <td>Interpellation</td>\n",
       "      <td>hängig</td>\n",
       "    </tr>\n",
       "    <tr>\n",
       "      <td>...</td>\n",
       "      <td>...</td>\n",
       "      <td>...</td>\n",
       "      <td>...</td>\n",
       "      <td>...</td>\n",
       "      <td>...</td>\n",
       "      <td>...</td>\n",
       "      <td>...</td>\n",
       "      <td>...</td>\n",
       "      <td>...</td>\n",
       "    </tr>\n",
       "    <tr>\n",
       "      <td>1215</td>\n",
       "      <td>1215</td>\n",
       "      <td>1946</td>\n",
       "      <td>762</td>\n",
       "      <td>/gast/geschaefte/1331</td>\n",
       "      <td>Motion der erweiterten Justizprüfungskommissio...</td>\n",
       "      <td>Datenmigration</td>\n",
       "      <td>NaN</td>\n",
       "      <td>Motion</td>\n",
       "      <td>abgeschlossen</td>\n",
       "    </tr>\n",
       "    <tr>\n",
       "      <td>1216</td>\n",
       "      <td>1216</td>\n",
       "      <td>1952</td>\n",
       "      <td>666</td>\n",
       "      <td>/gast/geschaefte/1325</td>\n",
       "      <td>Motion der Kommission Teilrevision Personalges...</td>\n",
       "      <td>Datenmigration</td>\n",
       "      <td>NaN</td>\n",
       "      <td>Motion</td>\n",
       "      <td>abgeschlossen</td>\n",
       "    </tr>\n",
       "    <tr>\n",
       "      <td>1217</td>\n",
       "      <td>1217</td>\n",
       "      <td>1968</td>\n",
       "      <td>304</td>\n",
       "      <td>/gast/geschaefte/1309</td>\n",
       "      <td>Motion von Manuela Weichelt betreffend HIV-Prä...</td>\n",
       "      <td>Datenmigration</td>\n",
       "      <td>NaN</td>\n",
       "      <td>Motion</td>\n",
       "      <td>abgeschlossen</td>\n",
       "    </tr>\n",
       "    <tr>\n",
       "      <td>1218</td>\n",
       "      <td>1218</td>\n",
       "      <td>1969</td>\n",
       "      <td>282</td>\n",
       "      <td>/gast/geschaefte/1712</td>\n",
       "      <td>Motion von Christoph Hohler betreffend Radstre...</td>\n",
       "      <td>Frist erstreckt</td>\n",
       "      <td>Baudirektion</td>\n",
       "      <td>Motion</td>\n",
       "      <td>hängig</td>\n",
       "    </tr>\n",
       "    <tr>\n",
       "      <td>1219</td>\n",
       "      <td>1219</td>\n",
       "      <td>1972</td>\n",
       "      <td>81</td>\n",
       "      <td>/gast/geschaefte/1334</td>\n",
       "      <td>Motion der vorberatenden Kommission betreffend...</td>\n",
       "      <td>Datenmigration</td>\n",
       "      <td>NaN</td>\n",
       "      <td>Motion</td>\n",
       "      <td>abgeschlossen</td>\n",
       "    </tr>\n",
       "  </tbody>\n",
       "</table>\n",
       "<p>1220 rows × 9 columns</p>\n",
       "</div>"
      ],
      "text/plain": [
       "      Unnamed: 0  index  VorlageNR                    url  \\\n",
       "0              0      0       3020  /gast/geschaefte/2008   \n",
       "1              1      1       3019  /gast/geschaefte/2007   \n",
       "2              2      2       3018  /gast/geschaefte/2006   \n",
       "3              3      3       3017  /gast/geschaefte/2005   \n",
       "4              4      6       3014  /gast/geschaefte/2002   \n",
       "...          ...    ...        ...                    ...   \n",
       "1215        1215   1946        762  /gast/geschaefte/1331   \n",
       "1216        1216   1952        666  /gast/geschaefte/1325   \n",
       "1217        1217   1968        304  /gast/geschaefte/1309   \n",
       "1218        1218   1969        282  /gast/geschaefte/1712   \n",
       "1219        1219   1972         81  /gast/geschaefte/1334   \n",
       "\n",
       "                                               Geschäft  \\\n",
       "0     Postulat von Luzian Franzini und Esther Haas b...   \n",
       "1     Motion von Luzian Franzini, Rita Hofer, Tabea ...   \n",
       "2     Interpellation von Fabio Iten, Laura Dittli un...   \n",
       "3     Postulat von Tabea Zimmermann Gibson, Stéphani...   \n",
       "4     Interpellation der SVP-Fraktion betreffend mob...   \n",
       "...                                                 ...   \n",
       "1215  Motion der erweiterten Justizprüfungskommissio...   \n",
       "1216  Motion der Kommission Teilrevision Personalges...   \n",
       "1217  Motion von Manuela Weichelt betreffend HIV-Prä...   \n",
       "1218  Motion von Christoph Hohler betreffend Radstre...   \n",
       "1219  Motion der vorberatenden Kommission betreffend...   \n",
       "\n",
       "                             Stand              Zuständigkeit  \\\n",
       "0     Überweisung an Regierungsrat       Sicherheitsdirektion   \n",
       "1     Überweisung an Regierungsrat       Direktion des Innern   \n",
       "2     Überweisung an Regierungsrat  Volkswirtschaftsdirektion   \n",
       "3     Überweisung an Regierungsrat       Direktion des Innern   \n",
       "4                    Kenntnisnahme       Sicherheitsdirektion   \n",
       "...                            ...                        ...   \n",
       "1215                Datenmigration                        NaN   \n",
       "1216                Datenmigration                        NaN   \n",
       "1217                Datenmigration                        NaN   \n",
       "1218               Frist erstreckt               Baudirektion   \n",
       "1219                Datenmigration                        NaN   \n",
       "\n",
       "     Art des Geschäfts         Status  \n",
       "0             Postulat         hängig  \n",
       "1               Motion         hängig  \n",
       "2       Interpellation         hängig  \n",
       "3             Postulat         hängig  \n",
       "4       Interpellation         hängig  \n",
       "...                ...            ...  \n",
       "1215            Motion  abgeschlossen  \n",
       "1216            Motion  abgeschlossen  \n",
       "1217            Motion  abgeschlossen  \n",
       "1218            Motion         hängig  \n",
       "1219            Motion  abgeschlossen  \n",
       "\n",
       "[1220 rows x 9 columns]"
      ]
     },
     "execution_count": 18,
     "metadata": {},
     "output_type": "execute_result"
    }
   ],
   "source": [
    "df_v"
   ]
  },
  {
   "cell_type": "code",
   "execution_count": 4,
   "metadata": {},
   "outputs": [
    {
     "ename": "NameError",
     "evalue": "name 'eingang_list' is not defined",
     "output_type": "error",
     "traceback": [
      "\u001b[1;31m---------------------------------------------------------------------------\u001b[0m",
      "\u001b[1;31mNameError\u001b[0m                                 Traceback (most recent call last)",
      "\u001b[1;32m<ipython-input-4-1e338aca0461>\u001b[0m in \u001b[0;36m<module>\u001b[1;34m\u001b[0m\n\u001b[1;32m----> 1\u001b[1;33m \u001b[0mdf_g\u001b[0m\u001b[1;33m=\u001b[0m\u001b[0mpd\u001b[0m\u001b[1;33m.\u001b[0m\u001b[0mDataFrame\u001b[0m\u001b[1;33m(\u001b[0m\u001b[0meingang_list\u001b[0m\u001b[1;33m)\u001b[0m\u001b[1;33m\u001b[0m\u001b[1;33m\u001b[0m\u001b[0m\n\u001b[0m",
      "\u001b[1;31mNameError\u001b[0m: name 'eingang_list' is not defined"
     ]
    }
   ],
   "source": [
    "df_g=pd.DataFrame(eingang_list)"
   ]
  },
  {
   "cell_type": "code",
   "execution_count": null,
   "metadata": {},
   "outputs": [],
   "source": []
  },
  {
   "cell_type": "code",
   "execution_count": null,
   "metadata": {},
   "outputs": [],
   "source": [
    "df_g.to_csv(\"KRFrames/df_g_LinkszuPDF\")"
   ]
  },
  {
   "cell_type": "code",
   "execution_count": 5,
   "metadata": {},
   "outputs": [],
   "source": [
    "df_g=pd.read_csv(\"KRFrames/df_g_LinkszuPDF\")"
   ]
  },
  {
   "cell_type": "code",
   "execution_count": 6,
   "metadata": {},
   "outputs": [
    {
     "data": {
      "text/html": [
       "<div>\n",
       "<style scoped>\n",
       "    .dataframe tbody tr th:only-of-type {\n",
       "        vertical-align: middle;\n",
       "    }\n",
       "\n",
       "    .dataframe tbody tr th {\n",
       "        vertical-align: top;\n",
       "    }\n",
       "\n",
       "    .dataframe thead th {\n",
       "        text-align: right;\n",
       "    }\n",
       "</style>\n",
       "<table border=\"1\" class=\"dataframe\">\n",
       "  <thead>\n",
       "    <tr style=\"text-align: right;\">\n",
       "      <th></th>\n",
       "      <th>Unnamed: 0</th>\n",
       "      <th>VorlageNR</th>\n",
       "      <th>Einreichedatum</th>\n",
       "      <th>Link Vorstoss-PDF</th>\n",
       "    </tr>\n",
       "  </thead>\n",
       "  <tbody>\n",
       "    <tr>\n",
       "      <td>0</td>\n",
       "      <td>0</td>\n",
       "      <td>3020</td>\n",
       "      <td>2019-10-11</td>\n",
       "      <td>/dokumente/8316/3020-1-16168_Racial-Profiling.pdf</td>\n",
       "    </tr>\n",
       "    <tr>\n",
       "      <td>1</td>\n",
       "      <td>1</td>\n",
       "      <td>3019</td>\n",
       "      <td>2019-10-11</td>\n",
       "      <td>/dokumente/8317/3019-1-16167_Chancengleichheit...</td>\n",
       "    </tr>\n",
       "    <tr>\n",
       "      <td>2</td>\n",
       "      <td>2</td>\n",
       "      <td>3018</td>\n",
       "      <td>2019-10-07</td>\n",
       "      <td>/dokumente/8310/3018-1-16166_Praktikum.pdf</td>\n",
       "    </tr>\n",
       "    <tr>\n",
       "      <td>3</td>\n",
       "      <td>3</td>\n",
       "      <td>3017</td>\n",
       "      <td>2019-10-06</td>\n",
       "      <td>/dokumente/8311/3017-1-16165_Frauenwahl-stimmr...</td>\n",
       "    </tr>\n",
       "    <tr>\n",
       "      <td>4</td>\n",
       "      <td>4</td>\n",
       "      <td>3014</td>\n",
       "      <td>2019-09-26</td>\n",
       "      <td>/dokumente/8312/3014-1-16159_Geschwindigkeitsk...</td>\n",
       "    </tr>\n",
       "    <tr>\n",
       "      <td>...</td>\n",
       "      <td>...</td>\n",
       "      <td>...</td>\n",
       "      <td>...</td>\n",
       "      <td>...</td>\n",
       "    </tr>\n",
       "    <tr>\n",
       "      <td>1215</td>\n",
       "      <td>1215</td>\n",
       "      <td>762</td>\n",
       "      <td>NaN</td>\n",
       "      <td>/dokumente/4232/pdoc_1047_1.pdf</td>\n",
       "    </tr>\n",
       "    <tr>\n",
       "      <td>1216</td>\n",
       "      <td>1216</td>\n",
       "      <td>666</td>\n",
       "      <td>NaN</td>\n",
       "      <td>/dokumente/4215/pdoc_55_1.pdf</td>\n",
       "    </tr>\n",
       "    <tr>\n",
       "      <td>1217</td>\n",
       "      <td>1217</td>\n",
       "      <td>304</td>\n",
       "      <td>NaN</td>\n",
       "      <td>/dokumente/4179/pdoc_50_1.pdf</td>\n",
       "    </tr>\n",
       "    <tr>\n",
       "      <td>1218</td>\n",
       "      <td>1218</td>\n",
       "      <td>2635</td>\n",
       "      <td>1995-08-07</td>\n",
       "      <td>/gast/geschaefte/1620</td>\n",
       "    </tr>\n",
       "    <tr>\n",
       "      <td>1219</td>\n",
       "      <td>1219</td>\n",
       "      <td>81</td>\n",
       "      <td>NaN</td>\n",
       "      <td>/dokumente/4236/pdoc_1705_1.pdf</td>\n",
       "    </tr>\n",
       "  </tbody>\n",
       "</table>\n",
       "<p>1220 rows × 4 columns</p>\n",
       "</div>"
      ],
      "text/plain": [
       "      Unnamed: 0  VorlageNR Einreichedatum  \\\n",
       "0              0       3020     2019-10-11   \n",
       "1              1       3019     2019-10-11   \n",
       "2              2       3018     2019-10-07   \n",
       "3              3       3017     2019-10-06   \n",
       "4              4       3014     2019-09-26   \n",
       "...          ...        ...            ...   \n",
       "1215        1215        762            NaN   \n",
       "1216        1216        666            NaN   \n",
       "1217        1217        304            NaN   \n",
       "1218        1218       2635     1995-08-07   \n",
       "1219        1219         81            NaN   \n",
       "\n",
       "                                      Link Vorstoss-PDF  \n",
       "0     /dokumente/8316/3020-1-16168_Racial-Profiling.pdf  \n",
       "1     /dokumente/8317/3019-1-16167_Chancengleichheit...  \n",
       "2            /dokumente/8310/3018-1-16166_Praktikum.pdf  \n",
       "3     /dokumente/8311/3017-1-16165_Frauenwahl-stimmr...  \n",
       "4     /dokumente/8312/3014-1-16159_Geschwindigkeitsk...  \n",
       "...                                                 ...  \n",
       "1215                    /dokumente/4232/pdoc_1047_1.pdf  \n",
       "1216                      /dokumente/4215/pdoc_55_1.pdf  \n",
       "1217                      /dokumente/4179/pdoc_50_1.pdf  \n",
       "1218                              /gast/geschaefte/1620  \n",
       "1219                    /dokumente/4236/pdoc_1705_1.pdf  \n",
       "\n",
       "[1220 rows x 4 columns]"
      ]
     },
     "execution_count": 6,
     "metadata": {},
     "output_type": "execute_result"
    }
   ],
   "source": [
    "df_g"
   ]
  },
  {
   "cell_type": "code",
   "execution_count": 7,
   "metadata": {
    "scrolled": true
   },
   "outputs": [],
   "source": [
    "#Ich suche nun alle raus, die einen Referenz haben, vielleicht geben die mehr aufschluss auf \n",
    "# Wahlvorschläge \n",
    "df_ref=df_g[df_g[\"Link Vorstoss-PDF\"].str.contains(\"gast\")]"
   ]
  },
  {
   "cell_type": "code",
   "execution_count": 8,
   "metadata": {
    "scrolled": true
   },
   "outputs": [],
   "source": [
    "df_rf=df_ref.rename(columns={\"Link Vorstoss-PDF\":\"url mir Referenz\"})"
   ]
  },
  {
   "cell_type": "code",
   "execution_count": 10,
   "metadata": {},
   "outputs": [],
   "source": [
    "url_liste_ganz=[]\n",
    "url_anfang_original=\"https://kr-geschaefte.zug.ch\"\n",
    "for element in df_rf[\"url mir Referenz\"]:\n",
    "    url_liste_ganz.append(url_anfang_original+element)\n",
    "#diese werden zusammengefügt aus dem Anfang der Adresse sowie dem Geschäfts-URL"
   ]
  },
  {
   "cell_type": "code",
   "execution_count": 11,
   "metadata": {},
   "outputs": [
    {
     "data": {
      "text/plain": [
       "127"
      ]
     },
     "execution_count": 11,
     "metadata": {},
     "output_type": "execute_result"
    }
   ],
   "source": [
    "len(url_liste_ganz)"
   ]
  },
  {
   "cell_type": "code",
   "execution_count": 12,
   "metadata": {},
   "outputs": [
    {
     "ename": "KeyboardInterrupt",
     "evalue": "",
     "output_type": "error",
     "traceback": [
      "\u001b[1;31m---------------------------------------------------------------------------\u001b[0m",
      "\u001b[1;31mKeyboardInterrupt\u001b[0m                         Traceback (most recent call last)",
      "\u001b[1;32m<ipython-input-12-44feef348145>\u001b[0m in \u001b[0;36m<module>\u001b[1;34m\u001b[0m\n\u001b[0;32m      1\u001b[0m \u001b[0mnumber\u001b[0m \u001b[1;33m=\u001b[0m \u001b[1;36m0\u001b[0m\u001b[1;33m\u001b[0m\u001b[1;33m\u001b[0m\u001b[0m\n\u001b[0;32m      2\u001b[0m \u001b[1;32mfor\u001b[0m \u001b[0mpage\u001b[0m \u001b[1;32min\u001b[0m \u001b[0murl_liste_ganz\u001b[0m\u001b[1;33m:\u001b[0m\u001b[1;33m\u001b[0m\u001b[1;33m\u001b[0m\u001b[0m\n\u001b[1;32m----> 3\u001b[1;33m     \u001b[0mpage_content\u001b[0m \u001b[1;33m=\u001b[0m \u001b[0mrequests\u001b[0m\u001b[1;33m.\u001b[0m\u001b[0mget\u001b[0m\u001b[1;33m(\u001b[0m\u001b[0mpage\u001b[0m\u001b[1;33m)\u001b[0m\u001b[1;33m\u001b[0m\u001b[1;33m\u001b[0m\u001b[0m\n\u001b[0m\u001b[0;32m      4\u001b[0m     \u001b[0mpage_content\u001b[0m \u001b[1;33m=\u001b[0m \u001b[0mpage_content\u001b[0m\u001b[1;33m.\u001b[0m\u001b[0mtext\u001b[0m\u001b[1;33m\u001b[0m\u001b[1;33m\u001b[0m\u001b[0m\n\u001b[0;32m      5\u001b[0m     \u001b[1;32mwith\u001b[0m \u001b[0mopen\u001b[0m\u001b[1;33m(\u001b[0m\u001b[1;34m\"KRRef/Geschaeft\"\u001b[0m\u001b[1;33m+\u001b[0m\u001b[0mstr\u001b[0m\u001b[1;33m(\u001b[0m\u001b[0mnumber\u001b[0m\u001b[1;33m)\u001b[0m\u001b[1;33m+\u001b[0m\u001b[1;34m\".html\"\u001b[0m\u001b[1;33m,\u001b[0m \u001b[1;34m\"w\"\u001b[0m\u001b[1;33m)\u001b[0m \u001b[1;32mas\u001b[0m \u001b[0mfile\u001b[0m\u001b[1;33m:\u001b[0m\u001b[1;33m\u001b[0m\u001b[1;33m\u001b[0m\u001b[0m\n",
      "\u001b[1;32m~\\Anaconda3\\lib\\site-packages\\requests\\api.py\u001b[0m in \u001b[0;36mget\u001b[1;34m(url, params, **kwargs)\u001b[0m\n\u001b[0;32m     73\u001b[0m \u001b[1;33m\u001b[0m\u001b[0m\n\u001b[0;32m     74\u001b[0m     \u001b[0mkwargs\u001b[0m\u001b[1;33m.\u001b[0m\u001b[0msetdefault\u001b[0m\u001b[1;33m(\u001b[0m\u001b[1;34m'allow_redirects'\u001b[0m\u001b[1;33m,\u001b[0m \u001b[1;32mTrue\u001b[0m\u001b[1;33m)\u001b[0m\u001b[1;33m\u001b[0m\u001b[1;33m\u001b[0m\u001b[0m\n\u001b[1;32m---> 75\u001b[1;33m     \u001b[1;32mreturn\u001b[0m \u001b[0mrequest\u001b[0m\u001b[1;33m(\u001b[0m\u001b[1;34m'get'\u001b[0m\u001b[1;33m,\u001b[0m \u001b[0murl\u001b[0m\u001b[1;33m,\u001b[0m \u001b[0mparams\u001b[0m\u001b[1;33m=\u001b[0m\u001b[0mparams\u001b[0m\u001b[1;33m,\u001b[0m \u001b[1;33m**\u001b[0m\u001b[0mkwargs\u001b[0m\u001b[1;33m)\u001b[0m\u001b[1;33m\u001b[0m\u001b[1;33m\u001b[0m\u001b[0m\n\u001b[0m\u001b[0;32m     76\u001b[0m \u001b[1;33m\u001b[0m\u001b[0m\n\u001b[0;32m     77\u001b[0m \u001b[1;33m\u001b[0m\u001b[0m\n",
      "\u001b[1;32m~\\Anaconda3\\lib\\site-packages\\requests\\api.py\u001b[0m in \u001b[0;36mrequest\u001b[1;34m(method, url, **kwargs)\u001b[0m\n\u001b[0;32m     58\u001b[0m     \u001b[1;31m# cases, and look like a memory leak in others.\u001b[0m\u001b[1;33m\u001b[0m\u001b[1;33m\u001b[0m\u001b[1;33m\u001b[0m\u001b[0m\n\u001b[0;32m     59\u001b[0m     \u001b[1;32mwith\u001b[0m \u001b[0msessions\u001b[0m\u001b[1;33m.\u001b[0m\u001b[0mSession\u001b[0m\u001b[1;33m(\u001b[0m\u001b[1;33m)\u001b[0m \u001b[1;32mas\u001b[0m \u001b[0msession\u001b[0m\u001b[1;33m:\u001b[0m\u001b[1;33m\u001b[0m\u001b[1;33m\u001b[0m\u001b[0m\n\u001b[1;32m---> 60\u001b[1;33m         \u001b[1;32mreturn\u001b[0m \u001b[0msession\u001b[0m\u001b[1;33m.\u001b[0m\u001b[0mrequest\u001b[0m\u001b[1;33m(\u001b[0m\u001b[0mmethod\u001b[0m\u001b[1;33m=\u001b[0m\u001b[0mmethod\u001b[0m\u001b[1;33m,\u001b[0m \u001b[0murl\u001b[0m\u001b[1;33m=\u001b[0m\u001b[0murl\u001b[0m\u001b[1;33m,\u001b[0m \u001b[1;33m**\u001b[0m\u001b[0mkwargs\u001b[0m\u001b[1;33m)\u001b[0m\u001b[1;33m\u001b[0m\u001b[1;33m\u001b[0m\u001b[0m\n\u001b[0m\u001b[0;32m     61\u001b[0m \u001b[1;33m\u001b[0m\u001b[0m\n\u001b[0;32m     62\u001b[0m \u001b[1;33m\u001b[0m\u001b[0m\n",
      "\u001b[1;32m~\\Anaconda3\\lib\\site-packages\\requests\\sessions.py\u001b[0m in \u001b[0;36mrequest\u001b[1;34m(self, method, url, params, data, headers, cookies, files, auth, timeout, allow_redirects, proxies, hooks, stream, verify, cert, json)\u001b[0m\n\u001b[0;32m    531\u001b[0m         }\n\u001b[0;32m    532\u001b[0m         \u001b[0msend_kwargs\u001b[0m\u001b[1;33m.\u001b[0m\u001b[0mupdate\u001b[0m\u001b[1;33m(\u001b[0m\u001b[0msettings\u001b[0m\u001b[1;33m)\u001b[0m\u001b[1;33m\u001b[0m\u001b[1;33m\u001b[0m\u001b[0m\n\u001b[1;32m--> 533\u001b[1;33m         \u001b[0mresp\u001b[0m \u001b[1;33m=\u001b[0m \u001b[0mself\u001b[0m\u001b[1;33m.\u001b[0m\u001b[0msend\u001b[0m\u001b[1;33m(\u001b[0m\u001b[0mprep\u001b[0m\u001b[1;33m,\u001b[0m \u001b[1;33m**\u001b[0m\u001b[0msend_kwargs\u001b[0m\u001b[1;33m)\u001b[0m\u001b[1;33m\u001b[0m\u001b[1;33m\u001b[0m\u001b[0m\n\u001b[0m\u001b[0;32m    534\u001b[0m \u001b[1;33m\u001b[0m\u001b[0m\n\u001b[0;32m    535\u001b[0m         \u001b[1;32mreturn\u001b[0m \u001b[0mresp\u001b[0m\u001b[1;33m\u001b[0m\u001b[1;33m\u001b[0m\u001b[0m\n",
      "\u001b[1;32m~\\Anaconda3\\lib\\site-packages\\requests\\sessions.py\u001b[0m in \u001b[0;36msend\u001b[1;34m(self, request, **kwargs)\u001b[0m\n\u001b[0;32m    644\u001b[0m \u001b[1;33m\u001b[0m\u001b[0m\n\u001b[0;32m    645\u001b[0m         \u001b[1;31m# Send the request\u001b[0m\u001b[1;33m\u001b[0m\u001b[1;33m\u001b[0m\u001b[1;33m\u001b[0m\u001b[0m\n\u001b[1;32m--> 646\u001b[1;33m         \u001b[0mr\u001b[0m \u001b[1;33m=\u001b[0m \u001b[0madapter\u001b[0m\u001b[1;33m.\u001b[0m\u001b[0msend\u001b[0m\u001b[1;33m(\u001b[0m\u001b[0mrequest\u001b[0m\u001b[1;33m,\u001b[0m \u001b[1;33m**\u001b[0m\u001b[0mkwargs\u001b[0m\u001b[1;33m)\u001b[0m\u001b[1;33m\u001b[0m\u001b[1;33m\u001b[0m\u001b[0m\n\u001b[0m\u001b[0;32m    647\u001b[0m \u001b[1;33m\u001b[0m\u001b[0m\n\u001b[0;32m    648\u001b[0m         \u001b[1;31m# Total elapsed time of the request (approximately)\u001b[0m\u001b[1;33m\u001b[0m\u001b[1;33m\u001b[0m\u001b[1;33m\u001b[0m\u001b[0m\n",
      "\u001b[1;32m~\\Anaconda3\\lib\\site-packages\\requests\\adapters.py\u001b[0m in \u001b[0;36msend\u001b[1;34m(self, request, stream, timeout, verify, cert, proxies)\u001b[0m\n\u001b[0;32m    447\u001b[0m                     \u001b[0mdecode_content\u001b[0m\u001b[1;33m=\u001b[0m\u001b[1;32mFalse\u001b[0m\u001b[1;33m,\u001b[0m\u001b[1;33m\u001b[0m\u001b[1;33m\u001b[0m\u001b[0m\n\u001b[0;32m    448\u001b[0m                     \u001b[0mretries\u001b[0m\u001b[1;33m=\u001b[0m\u001b[0mself\u001b[0m\u001b[1;33m.\u001b[0m\u001b[0mmax_retries\u001b[0m\u001b[1;33m,\u001b[0m\u001b[1;33m\u001b[0m\u001b[1;33m\u001b[0m\u001b[0m\n\u001b[1;32m--> 449\u001b[1;33m                     \u001b[0mtimeout\u001b[0m\u001b[1;33m=\u001b[0m\u001b[0mtimeout\u001b[0m\u001b[1;33m\u001b[0m\u001b[1;33m\u001b[0m\u001b[0m\n\u001b[0m\u001b[0;32m    450\u001b[0m                 )\n\u001b[0;32m    451\u001b[0m \u001b[1;33m\u001b[0m\u001b[0m\n",
      "\u001b[1;32m~\\Anaconda3\\lib\\site-packages\\urllib3\\connectionpool.py\u001b[0m in \u001b[0;36murlopen\u001b[1;34m(self, method, url, body, headers, retries, redirect, assert_same_host, timeout, pool_timeout, release_conn, chunked, body_pos, **response_kw)\u001b[0m\n\u001b[0;32m    598\u001b[0m                                                   \u001b[0mtimeout\u001b[0m\u001b[1;33m=\u001b[0m\u001b[0mtimeout_obj\u001b[0m\u001b[1;33m,\u001b[0m\u001b[1;33m\u001b[0m\u001b[1;33m\u001b[0m\u001b[0m\n\u001b[0;32m    599\u001b[0m                                                   \u001b[0mbody\u001b[0m\u001b[1;33m=\u001b[0m\u001b[0mbody\u001b[0m\u001b[1;33m,\u001b[0m \u001b[0mheaders\u001b[0m\u001b[1;33m=\u001b[0m\u001b[0mheaders\u001b[0m\u001b[1;33m,\u001b[0m\u001b[1;33m\u001b[0m\u001b[1;33m\u001b[0m\u001b[0m\n\u001b[1;32m--> 600\u001b[1;33m                                                   chunked=chunked)\n\u001b[0m\u001b[0;32m    601\u001b[0m \u001b[1;33m\u001b[0m\u001b[0m\n\u001b[0;32m    602\u001b[0m             \u001b[1;31m# If we're going to release the connection in ``finally:``, then\u001b[0m\u001b[1;33m\u001b[0m\u001b[1;33m\u001b[0m\u001b[1;33m\u001b[0m\u001b[0m\n",
      "\u001b[1;32m~\\Anaconda3\\lib\\site-packages\\urllib3\\connectionpool.py\u001b[0m in \u001b[0;36m_make_request\u001b[1;34m(self, conn, method, url, timeout, chunked, **httplib_request_kw)\u001b[0m\n\u001b[0;32m    341\u001b[0m         \u001b[1;31m# Trigger any extra validation we need to do.\u001b[0m\u001b[1;33m\u001b[0m\u001b[1;33m\u001b[0m\u001b[1;33m\u001b[0m\u001b[0m\n\u001b[0;32m    342\u001b[0m         \u001b[1;32mtry\u001b[0m\u001b[1;33m:\u001b[0m\u001b[1;33m\u001b[0m\u001b[1;33m\u001b[0m\u001b[0m\n\u001b[1;32m--> 343\u001b[1;33m             \u001b[0mself\u001b[0m\u001b[1;33m.\u001b[0m\u001b[0m_validate_conn\u001b[0m\u001b[1;33m(\u001b[0m\u001b[0mconn\u001b[0m\u001b[1;33m)\u001b[0m\u001b[1;33m\u001b[0m\u001b[1;33m\u001b[0m\u001b[0m\n\u001b[0m\u001b[0;32m    344\u001b[0m         \u001b[1;32mexcept\u001b[0m \u001b[1;33m(\u001b[0m\u001b[0mSocketTimeout\u001b[0m\u001b[1;33m,\u001b[0m \u001b[0mBaseSSLError\u001b[0m\u001b[1;33m)\u001b[0m \u001b[1;32mas\u001b[0m \u001b[0me\u001b[0m\u001b[1;33m:\u001b[0m\u001b[1;33m\u001b[0m\u001b[1;33m\u001b[0m\u001b[0m\n\u001b[0;32m    345\u001b[0m             \u001b[1;31m# Py2 raises this as a BaseSSLError, Py3 raises it as socket timeout.\u001b[0m\u001b[1;33m\u001b[0m\u001b[1;33m\u001b[0m\u001b[1;33m\u001b[0m\u001b[0m\n",
      "\u001b[1;32m~\\Anaconda3\\lib\\site-packages\\urllib3\\connectionpool.py\u001b[0m in \u001b[0;36m_validate_conn\u001b[1;34m(self, conn)\u001b[0m\n\u001b[0;32m    837\u001b[0m         \u001b[1;31m# Force connect early to allow us to validate the connection.\u001b[0m\u001b[1;33m\u001b[0m\u001b[1;33m\u001b[0m\u001b[1;33m\u001b[0m\u001b[0m\n\u001b[0;32m    838\u001b[0m         \u001b[1;32mif\u001b[0m \u001b[1;32mnot\u001b[0m \u001b[0mgetattr\u001b[0m\u001b[1;33m(\u001b[0m\u001b[0mconn\u001b[0m\u001b[1;33m,\u001b[0m \u001b[1;34m'sock'\u001b[0m\u001b[1;33m,\u001b[0m \u001b[1;32mNone\u001b[0m\u001b[1;33m)\u001b[0m\u001b[1;33m:\u001b[0m  \u001b[1;31m# AppEngine might not have  `.sock`\u001b[0m\u001b[1;33m\u001b[0m\u001b[1;33m\u001b[0m\u001b[0m\n\u001b[1;32m--> 839\u001b[1;33m             \u001b[0mconn\u001b[0m\u001b[1;33m.\u001b[0m\u001b[0mconnect\u001b[0m\u001b[1;33m(\u001b[0m\u001b[1;33m)\u001b[0m\u001b[1;33m\u001b[0m\u001b[1;33m\u001b[0m\u001b[0m\n\u001b[0m\u001b[0;32m    840\u001b[0m \u001b[1;33m\u001b[0m\u001b[0m\n\u001b[0;32m    841\u001b[0m         \u001b[1;32mif\u001b[0m \u001b[1;32mnot\u001b[0m \u001b[0mconn\u001b[0m\u001b[1;33m.\u001b[0m\u001b[0mis_verified\u001b[0m\u001b[1;33m:\u001b[0m\u001b[1;33m\u001b[0m\u001b[1;33m\u001b[0m\u001b[0m\n",
      "\u001b[1;32m~\\Anaconda3\\lib\\site-packages\\urllib3\\connection.py\u001b[0m in \u001b[0;36mconnect\u001b[1;34m(self)\u001b[0m\n\u001b[0;32m    342\u001b[0m             \u001b[0mca_cert_dir\u001b[0m\u001b[1;33m=\u001b[0m\u001b[0mself\u001b[0m\u001b[1;33m.\u001b[0m\u001b[0mca_cert_dir\u001b[0m\u001b[1;33m,\u001b[0m\u001b[1;33m\u001b[0m\u001b[1;33m\u001b[0m\u001b[0m\n\u001b[0;32m    343\u001b[0m             \u001b[0mserver_hostname\u001b[0m\u001b[1;33m=\u001b[0m\u001b[0mserver_hostname\u001b[0m\u001b[1;33m,\u001b[0m\u001b[1;33m\u001b[0m\u001b[1;33m\u001b[0m\u001b[0m\n\u001b[1;32m--> 344\u001b[1;33m             ssl_context=context)\n\u001b[0m\u001b[0;32m    345\u001b[0m \u001b[1;33m\u001b[0m\u001b[0m\n\u001b[0;32m    346\u001b[0m         \u001b[1;32mif\u001b[0m \u001b[0mself\u001b[0m\u001b[1;33m.\u001b[0m\u001b[0massert_fingerprint\u001b[0m\u001b[1;33m:\u001b[0m\u001b[1;33m\u001b[0m\u001b[1;33m\u001b[0m\u001b[0m\n",
      "\u001b[1;32m~\\Anaconda3\\lib\\site-packages\\urllib3\\util\\ssl_.py\u001b[0m in \u001b[0;36mssl_wrap_socket\u001b[1;34m(sock, keyfile, certfile, cert_reqs, ca_certs, server_hostname, ssl_version, ciphers, ssl_context, ca_cert_dir)\u001b[0m\n\u001b[0;32m    345\u001b[0m             or IS_SECURETRANSPORT):\n\u001b[0;32m    346\u001b[0m         \u001b[1;32mif\u001b[0m \u001b[0mHAS_SNI\u001b[0m \u001b[1;32mand\u001b[0m \u001b[0mserver_hostname\u001b[0m \u001b[1;32mis\u001b[0m \u001b[1;32mnot\u001b[0m \u001b[1;32mNone\u001b[0m\u001b[1;33m:\u001b[0m\u001b[1;33m\u001b[0m\u001b[1;33m\u001b[0m\u001b[0m\n\u001b[1;32m--> 347\u001b[1;33m             \u001b[1;32mreturn\u001b[0m \u001b[0mcontext\u001b[0m\u001b[1;33m.\u001b[0m\u001b[0mwrap_socket\u001b[0m\u001b[1;33m(\u001b[0m\u001b[0msock\u001b[0m\u001b[1;33m,\u001b[0m \u001b[0mserver_hostname\u001b[0m\u001b[1;33m=\u001b[0m\u001b[0mserver_hostname\u001b[0m\u001b[1;33m)\u001b[0m\u001b[1;33m\u001b[0m\u001b[1;33m\u001b[0m\u001b[0m\n\u001b[0m\u001b[0;32m    348\u001b[0m \u001b[1;33m\u001b[0m\u001b[0m\n\u001b[0;32m    349\u001b[0m         warnings.warn(\n",
      "\u001b[1;32m~\\Anaconda3\\lib\\site-packages\\urllib3\\contrib\\pyopenssl.py\u001b[0m in \u001b[0;36mwrap_socket\u001b[1;34m(self, sock, server_side, do_handshake_on_connect, suppress_ragged_eofs, server_hostname)\u001b[0m\n\u001b[0;32m    454\u001b[0m         \u001b[1;32mwhile\u001b[0m \u001b[1;32mTrue\u001b[0m\u001b[1;33m:\u001b[0m\u001b[1;33m\u001b[0m\u001b[1;33m\u001b[0m\u001b[0m\n\u001b[0;32m    455\u001b[0m             \u001b[1;32mtry\u001b[0m\u001b[1;33m:\u001b[0m\u001b[1;33m\u001b[0m\u001b[1;33m\u001b[0m\u001b[0m\n\u001b[1;32m--> 456\u001b[1;33m                 \u001b[0mcnx\u001b[0m\u001b[1;33m.\u001b[0m\u001b[0mdo_handshake\u001b[0m\u001b[1;33m(\u001b[0m\u001b[1;33m)\u001b[0m\u001b[1;33m\u001b[0m\u001b[1;33m\u001b[0m\u001b[0m\n\u001b[0m\u001b[0;32m    457\u001b[0m             \u001b[1;32mexcept\u001b[0m \u001b[0mOpenSSL\u001b[0m\u001b[1;33m.\u001b[0m\u001b[0mSSL\u001b[0m\u001b[1;33m.\u001b[0m\u001b[0mWantReadError\u001b[0m\u001b[1;33m:\u001b[0m\u001b[1;33m\u001b[0m\u001b[1;33m\u001b[0m\u001b[0m\n\u001b[0;32m    458\u001b[0m                 \u001b[1;32mif\u001b[0m \u001b[1;32mnot\u001b[0m \u001b[0mutil\u001b[0m\u001b[1;33m.\u001b[0m\u001b[0mwait_for_read\u001b[0m\u001b[1;33m(\u001b[0m\u001b[0msock\u001b[0m\u001b[1;33m,\u001b[0m \u001b[0msock\u001b[0m\u001b[1;33m.\u001b[0m\u001b[0mgettimeout\u001b[0m\u001b[1;33m(\u001b[0m\u001b[1;33m)\u001b[0m\u001b[1;33m)\u001b[0m\u001b[1;33m:\u001b[0m\u001b[1;33m\u001b[0m\u001b[1;33m\u001b[0m\u001b[0m\n",
      "\u001b[1;32m~\\Anaconda3\\lib\\site-packages\\OpenSSL\\SSL.py\u001b[0m in \u001b[0;36mdo_handshake\u001b[1;34m(self)\u001b[0m\n\u001b[0;32m   1912\u001b[0m         \u001b[1;33m:\u001b[0m\u001b[1;32mreturn\u001b[0m\u001b[1;33m:\u001b[0m \u001b[1;32mNone\u001b[0m\u001b[1;33m.\u001b[0m\u001b[1;33m\u001b[0m\u001b[1;33m\u001b[0m\u001b[0m\n\u001b[0;32m   1913\u001b[0m         \"\"\"\n\u001b[1;32m-> 1914\u001b[1;33m         \u001b[0mresult\u001b[0m \u001b[1;33m=\u001b[0m \u001b[0m_lib\u001b[0m\u001b[1;33m.\u001b[0m\u001b[0mSSL_do_handshake\u001b[0m\u001b[1;33m(\u001b[0m\u001b[0mself\u001b[0m\u001b[1;33m.\u001b[0m\u001b[0m_ssl\u001b[0m\u001b[1;33m)\u001b[0m\u001b[1;33m\u001b[0m\u001b[1;33m\u001b[0m\u001b[0m\n\u001b[0m\u001b[0;32m   1915\u001b[0m         \u001b[0mself\u001b[0m\u001b[1;33m.\u001b[0m\u001b[0m_raise_ssl_error\u001b[0m\u001b[1;33m(\u001b[0m\u001b[0mself\u001b[0m\u001b[1;33m.\u001b[0m\u001b[0m_ssl\u001b[0m\u001b[1;33m,\u001b[0m \u001b[0mresult\u001b[0m\u001b[1;33m)\u001b[0m\u001b[1;33m\u001b[0m\u001b[1;33m\u001b[0m\u001b[0m\n\u001b[0;32m   1916\u001b[0m \u001b[1;33m\u001b[0m\u001b[0m\n",
      "\u001b[1;31mKeyboardInterrupt\u001b[0m: "
     ]
    }
   ],
   "source": [
    "number = 0\n",
    "for page in url_liste_ganz:\n",
    "    page_content = requests.get(page)\n",
    "    page_content = page_content.text\n",
    "    with open(\"KRRef/Geschaeft\"+str(number)+\".html\", \"w\") as file:\n",
    "        file.write(page_content)\n",
    "        file.close()\n",
    "    number +=1"
   ]
  },
  {
   "cell_type": "code",
   "execution_count": 13,
   "metadata": {},
   "outputs": [],
   "source": [
    "geschaefts_liste=[]#####ACHTUNG ich mache den RANGE kleiner, um weniger GEschäfte zu erhalten.\n",
    "\n",
    "for seite_g in range(0,126): #Range für alle Geschäfte wäre 1219!\n",
    "    gesch= \"KRRef/Geschaeft\"+str(seite_g)+\".html\"\n",
    "    geschaefts_liste.append(gesch)"
   ]
  },
  {
   "cell_type": "code",
   "execution_count": 14,
   "metadata": {
    "scrolled": true
   },
   "outputs": [],
   "source": [
    "# Die fehlerhaften Geschäfte weil sie REfernzen haben abrufen und den PDF-LInk holen\n",
    "# Da ich irgendwie nich alles in einen Code reinbringe, mach ich mal listen\n",
    "eingang_list=[]\n",
    "minuszwei=[]\n",
    "minusdrei=[]\n",
    "\n",
    "\n",
    "for geschaeft in geschaefts_liste:\n",
    "    file = open(geschaeft, 'r')\n",
    "    text = file.read()\n",
    "    soup_g = BeautifulSoup(text, 'html.parser')\n",
    "    tr_g_list=soup_g.find_all(\"tr\")\n",
    "    \n",
    "    \n",
    "    td_g_list=tr_g_list[-2].find_all(\"td\")\n",
    "    if td_g_list[1].find_all(\"a\")[0].text== \"1\":\n",
    "        minuszwei.append(geschaeft)\n",
    "    else:\n",
    "        minusdrei.append(geschaeft)\n",
    "          "
   ]
  },
  {
   "cell_type": "code",
   "execution_count": null,
   "metadata": {
    "scrolled": true
   },
   "outputs": [],
   "source": [
    "minuszwei"
   ]
  },
  {
   "cell_type": "code",
   "execution_count": null,
   "metadata": {},
   "outputs": [],
   "source": [
    "len(minusdrei)"
   ]
  },
  {
   "cell_type": "code",
   "execution_count": null,
   "metadata": {},
   "outputs": [],
   "source": [
    "link_minuszwei=[]\n",
    "\n",
    "\n",
    "file = open('KRRef/Geschaeft6.html', 'r')\n",
    "text = file.read()\n",
    "soup_g = BeautifulSoup(text, 'html.parser')\n",
    "tr_g_list1=soup_g.find_all(\"tr\")\n",
    "gesch_nr = tr_g_list1[-2].find_all(\"td\")[0].text\n",
    "td_g_list1=tr_g_list1[-2].find_all(\"td\")\n",
    "url_v_pdf1=td_g_list1[1].find(\"a\")[\"href\"]\n",
    "    \n",
    "minidict21={\"Url PDF\":url_v_pdf1, \"VorlageNR\":gesch_nr}\n",
    "        \n",
    "link_minuszwei.append(minidict21)"
   ]
  },
  {
   "cell_type": "code",
   "execution_count": null,
   "metadata": {},
   "outputs": [],
   "source": [
    "link_minuszwei"
   ]
  },
  {
   "cell_type": "code",
   "execution_count": null,
   "metadata": {},
   "outputs": [],
   "source": [
    "td_g_list[1].find(\"a\")[\"href\"]"
   ]
  },
  {
   "cell_type": "code",
   "execution_count": 15,
   "metadata": {},
   "outputs": [],
   "source": [
    "links_minuszwei=[]\n",
    "\n",
    "for geschaeft in minuszwei:\n",
    "    file = open(geschaeft, 'r')\n",
    "    text = file.read()\n",
    "    soup_g = BeautifulSoup(text, 'html.parser')\n",
    "    tr_g_list=soup_g.find_all(\"tr\")\n",
    "    gesch_nr = tr_g_list[-2].find_all(\"td\")[0].text\n",
    "    td_g_list=tr_g_list[-2].find_all(\"td\")\n",
    "    url_v_pdf=td_g_list[1].find(\"a\")[\"href\"]\n",
    "    \n",
    "    minidict2={\"Url PDF\":url_v_pdf, \"VorlageNR\":gesch_nr}\n",
    "        \n",
    "    links_minuszwei.append(minidict2)"
   ]
  },
  {
   "cell_type": "code",
   "execution_count": 19,
   "metadata": {},
   "outputs": [
    {
     "data": {
      "text/plain": [
       "[{'Url PDF': '/dokumente/7354/2881-1-15800_Mutterschaft.pdf',\n",
       "  'VorlageNR': '2881'},\n",
       " {'Url PDF': '/dokumente/8174/2993-1-16111_Mutterschaft.pdf',\n",
       "  'VorlageNR': '2993'},\n",
       " {'Url PDF': '/dokumente/7303/2876-1-15783-Paradiese-Papers.pdf',\n",
       "  'VorlageNR': '2876'},\n",
       " {'Url PDF': '/dokumente/7310/2877-1-15784_Paradiese-Papers.pdf',\n",
       "  'VorlageNR': '2877'},\n",
       " {'Url PDF': '/dokumente/7064/2831-1-15684_Busverbindung.pdf',\n",
       "  'VorlageNR': '2831'},\n",
       " {'Url PDF': '/dokumente/7086/2834-1-15686_OeffentlicherVerkehr.pdf',\n",
       "  'VorlageNR': '2834'},\n",
       " {'Url PDF': '/dokumente/6839/2792-1-15602_KA-Bostadel.pdf',\n",
       "  'VorlageNR': '2792'},\n",
       " {'Url PDF': '/dokumente/6925/2808-1-15622_Konzerte.pdf', 'VorlageNR': '2808'},\n",
       " {'Url PDF': '/dokumente/6735/2781-1-15562_2782-1-15563_Bushaltestellen.pdf',\n",
       "  'VorlageNR': '2781'},\n",
       " {'Url PDF': '/dokumente/6736/2781-1-15562_2782-1-15563_Bushaltestellen.pdf',\n",
       "  'VorlageNR': '2782'},\n",
       " {'Url PDF': '/dokumente/6744/2773-1-15558_KA-Geb%C3%A4udeversicherung.pdf',\n",
       "  'VorlageNR': '2773'},\n",
       " {'Url PDF': '/dokumente/6667/2774-1-15524_Gebaeudeversicherung.pdf',\n",
       "  'VorlageNR': '2774'},\n",
       " {'Url PDF': '/dokumente/7849/2921-1-15967_Durchgangsstation.pdf',\n",
       "  'VorlageNR': '2921'},\n",
       " {'Url PDF': '/dokumente/3061/pdoc_1052_1.pdf', 'VorlageNR': '1380'},\n",
       " {'Url PDF': '/dokumente/7377/2880-1-15795_GO-KR.pdf', 'VorlageNR': '2880'},\n",
       " {'Url PDF': '/dokumente/7649/2910-1-15906_GOG-Interessenverbindungen.pdf',\n",
       "  'VorlageNR': '2910'},\n",
       " {'Url PDF': '/dokumente/6295/2716-1-15371_Verwaltungsrechtspflegegesetz.pdf',\n",
       "  'VorlageNR': '2716'},\n",
       " {'Url PDF': '/dokumente/5936/2644-1-15218_Integrationsklassen.pdf',\n",
       "  'VorlageNR': '2644'},\n",
       " {'Url PDF': '/dokumente/5215/2531-1-14978_Kantonsreferendum.pdf',\n",
       "  'VorlageNR': '2531'},\n",
       " {'Url PDF': '/dokumente/990/13712_2028_1_Ausbildungsbeitraege.pdf',\n",
       "  'VorlageNR': '2028'},\n",
       " {'Url PDF': '/dokumente/7647/2911-1-15914_Verwaltungsrechtspflegegesetz.pdf',\n",
       "  'VorlageNR': '2911'},\n",
       " {'Url PDF': '/dokumente/5664/2604-1-15130_Hochbauten.pdf',\n",
       "  'VorlageNR': '2604'},\n",
       " {'Url PDF': '/dokumente/5708/2611-1-15148_Gemeindegesetz.pdf',\n",
       "  'VorlageNR': '2611'},\n",
       " {'Url PDF': '/dokumente/6102/2670-1-15276_EG-Waldgesetz.pdf',\n",
       "  'VorlageNR': '2670'},\n",
       " {'Url PDF': '/dokumente/6789/2789-1-15580_Gerichtsorganisationsgesetz.pdf',\n",
       "  'VorlageNR': '2789'},\n",
       " {'Url PDF': '/dokumente/1999/14619_2369_1_Masseneinwanderungsinitiative.pdf',\n",
       "  'VorlageNR': '2369'},\n",
       " {'Url PDF': '/dokumente/2014/14627_2370_1_Unternehmungsgruendungen.pdf',\n",
       "  'VorlageNR': '2370'},\n",
       " {'Url PDF': '/dokumente/6178/2687-1-15317_Personalgesetz.pdf',\n",
       "  'VorlageNR': '2687'},\n",
       " {'Url PDF': '/dokumente/4912/2482-1-14882_Schulgesetz.pdf',\n",
       "  'VorlageNR': '2482'},\n",
       " {'Url PDF': '/dokumente/7000/2817-1-15655_Amtsenthebung.pdf',\n",
       "  'VorlageNR': '2817'},\n",
       " {'Url PDF': '/dokumente/6187/2688-1-15319_Steuergesetz.pdf',\n",
       "  'VorlageNR': '2688'},\n",
       " {'Url PDF': '/dokumente/6055/2665-1-15267_Sozialhilfegesetz.pdf',\n",
       "  'VorlageNR': '2665'},\n",
       " {'Url PDF': '/dokumente/4836/2377-1-14649_Schulgesetz.pdf',\n",
       "  'VorlageNR': '2377'},\n",
       " {'Url PDF': '/dokumente/5657/2602-1-15126_Untergrund-GNU.pdf',\n",
       "  'VorlageNR': '2602'},\n",
       " {'Url PDF': '/dokumente/1848/14441_2290_1_Beherbergungsabgabe.pdf',\n",
       "  'VorlageNR': '2290'},\n",
       " {'Url PDF': '/dokumente/4883/2328-1-14528_Beurkundungsgesetz-1.pdf',\n",
       "  'VorlageNR': '2328'},\n",
       " {'Url PDF': '/dokumente/4720/2476-1-14867_Nachbarrecht.pdf',\n",
       "  'VorlageNR': '2476'},\n",
       " {'Url PDF': '/dokumente/6430/2736-1-15425_PBG_Teil-1.pdf',\n",
       "  'VorlageNR': '2736'},\n",
       " {'Url PDF': '/dokumente/4819/2467-1-14846_Gemeinde_Kantonsb%C3%BCrgerrecht.pdf',\n",
       "  'VorlageNR': '2467'},\n",
       " {'Url PDF': '/dokumente/1985/14557_2349_1_Feuerschutz.pdf',\n",
       "  'VorlageNR': '2349'},\n",
       " {'Url PDF': '/dokumente/4162/13074_1816_1_Zwischenbericht.pdf',\n",
       "  'VorlageNR': '1816'},\n",
       " {'Url PDF': '/dokumente/1613/14211_2207_1_Video%C3%BCberwachungsgesetz.pdf',\n",
       "  'VorlageNR': '2207'},\n",
       " {'Url PDF': '/dokumente/3956/pdoc_2196_1.pdf', 'VorlageNR': '1669'}]"
      ]
     },
     "execution_count": 19,
     "metadata": {},
     "output_type": "execute_result"
    }
   ],
   "source": [
    "links_minuszwei\n",
    "#Irgendetwas ist komisch. zum einen die doppelte LInks, zum Andern sind vieles definitiv nicht\n",
    "#die Vorlage,die ich brauche. Könnten auch TEil der Referenz sein. "
   ]
  },
  {
   "cell_type": "code",
   "execution_count": null,
   "metadata": {},
   "outputs": [],
   "source": [
    "   try: \n",
    "        if tr_g_list[-2].find_all(\"td\")[1].text == \"1\"== True:\n",
    "            td_list= tr_g_list[-2].find_all(\"td\")[1]\n",
    "            url_v_pdf=td_list.find(\"a\")[\"href\"]\n",
    "    except IndexError:\n",
    "        continue\n",
    "        \n",
    "        \n",
    "          minidict_g={\"VorlageNR\":gesch_nr, \"Einreichedatum\":einger_am, \"Link Vorstoss-PDF\":url_v_pdf,}\n",
    "    \n",
    "            \n",
    "    eingang_list.append(minidict_g)"
   ]
  },
  {
   "cell_type": "code",
   "execution_count": null,
   "metadata": {
    "scrolled": false
   },
   "outputs": [],
   "source": [
    "tr_g_list[-3].find_all(\"td\")[1]"
   ]
  },
  {
   "cell_type": "code",
   "execution_count": null,
   "metadata": {},
   "outputs": [],
   "source": [
    "    file = open(\"KRRef/Geschaeft\"+str(3)+\".html\", 'r')\n",
    "    text = file.read()\n",
    "    soup_gneu = BeautifulSoup(text, 'html.parser')\n",
    "    tr_g_listneu=soup_gneu.find_all(\"tr\")"
   ]
  },
  {
   "cell_type": "code",
   "execution_count": null,
   "metadata": {},
   "outputs": [],
   "source": [
    "tr_g_listneu[-2]"
   ]
  },
  {
   "cell_type": "code",
   "execution_count": null,
   "metadata": {},
   "outputs": [],
   "source": [
    "td_g_list=tr_g_list[-1].find_all(\"td\")#hier gehe ich zum Dokument.\n",
    "    gesch_nr = tr_g_list[-1].find_all(\"td\")[0].text\n",
    "    einger_am = tr_g_list[1].find_all(\"td\")[0].text   \n",
    "   \n",
    "   \n",
    "     #Da es zum Teil Referenzen hat und dadurch ein anderer Ort abgegriffen werden muss, muss ich varieren.\n",
    "    \n",
    "    if td_g_list[-1].find_all(\"a\")[0].text== \"1\": #Ich brauche immer das Dokument 1. \n",
    "        url_v_pdf = td_g_list[-1].find(\"a\")[\"href\"]\n",
    "    \n",
    "    elif td_g_list[-1].find_all(\"a\")[0].text== \"2\": #bei älteren GEschäften sind es Bericht&Anträge\n",
    "        url_v_pdf = td_g_list[-1].find(\"a\")[\"href\"]   \n",
    "    else: \n",
    "        td_g_list[-1].find_all(\"a\")[0].text== \"3\"\n",
    "        url_v_pdf = td_g_list[-1].find(\"a\")[\"href\"]\n",
    "   \n",
    "            \n",
    "    \n",
    "    minidict_g={\"VorlageNR\":gesch_nr, \"Einreichedatum\":einger_am, \"Link Vorstoss-PDF\":url_v_pdf,}\n",
    "    for key, value in minidict_g.items():\n",
    "        if value == '':\n",
    "            minidict_g[key] = 'NaN'  #hier schaue ich noch, dass ich die Leeren Zeilen mit NAN ersetzten kann.\n",
    "        else:\n",
    "            minidict_g[key] = value\n",
    "            \n",
    "    eingang_list.append(minidict_g)"
   ]
  },
  {
   "cell_type": "code",
   "execution_count": null,
   "metadata": {},
   "outputs": [],
   "source": [
    "df_rf"
   ]
  },
  {
   "cell_type": "code",
   "execution_count": null,
   "metadata": {},
   "outputs": [],
   "source": [
    "# Nun zusammenbringen mit dem URL\n",
    "df_referenzen=pd.merge(df_v,df_ref, on=\"VorlageNR\", how=\"inner\")"
   ]
  },
  {
   "cell_type": "code",
   "execution_count": null,
   "metadata": {},
   "outputs": [],
   "source": [
    "df_referenzen"
   ]
  },
  {
   "cell_type": "markdown",
   "metadata": {},
   "source": [
    "# 3. Die PDFs verlorenen Vorstösse runterladen"
   ]
  },
  {
   "cell_type": "code",
   "execution_count": null,
   "metadata": {},
   "outputs": [],
   "source": [
    "###FALSCH ich muss ja die Links erst noch finden!!!"
   ]
  },
  {
   "cell_type": "code",
   "execution_count": null,
   "metadata": {},
   "outputs": [],
   "source": [
    "for link in tqdm(df_referenzen[\"Link Vorstoss-PDF\"]):\n",
    "    r = requests.get(\"https://kr-geschaefte.zug.ch\"+link, stream =True) #Das Stream braucht es, um mit dem Zip umgehen zu koennen\n",
    "    name = link.split(\"/\")[-1] #Der Computer kann mit \"/\" in einem Namen nicht umgehen, deshalb nehme ich die hier raus, und nehme nur den letzten Teil des NAmens.\n",
    "    with open(\"KRGeschPDF/\"+\"REF\"+name, \"wb\") as f:\n",
    "        f.write(r.content)"
   ]
  },
  {
   "cell_type": "markdown",
   "metadata": {},
   "source": [
    "# 4. PDFs sind auf dem Rechner, nun lesbar machen und !Regex Baby!"
   ]
  },
  {
   "cell_type": "code",
   "execution_count": null,
   "metadata": {},
   "outputs": [],
   "source": [
    "#nun will ich aus jedem PDF zum Einen die VorlagenNR rausziehen sowie Namen und Datum hier die Definition\n",
    "# ! Danke dem |$ am Schluss gibt es keinen Index-Error, wenn er kein Resultat findet.\n",
    "regex_vorlage= r\"VORLAGE.NR\\..(\\d*)\\.1|$\" #hier ziehe ich die Vorlagennummer raus. \n",
    "regex_datum = r\"VOM.(\\d+\\..\\w*.\\d{4})|$\" # hier gehe ich an das DAtum\n",
    "regex_name=r\"\\bVON(.*UND.*)\" #Hier muss ich noch überlegen, wie anders. Problem: zum Teil sind Namen einzeln zum teil mehr\n",
    "# Und irgendwie erkennt er die Zeilenende nicht.\n",
    "regex_name1= r\"\\bVON.(\\w*.\\w*\\b)\"\n",
    "regex_partei= r\"DER.(\\w*)\""
   ]
  },
  {
   "cell_type": "code",
   "execution_count": null,
   "metadata": {},
   "outputs": [],
   "source": [
    "#Lösung online gefunden um aus dem PDF-Ordner eine Liste mit den Links herzustellen.\n",
    "pdf_files_list= [f for f in listdir(\"KRGeschPDF\") if isfile(join(\"KRGeschPDF\", f))]"
   ]
  },
  {
   "cell_type": "code",
   "execution_count": null,
   "metadata": {},
   "outputs": [],
   "source": [
    "len(pdf_files_list) #Ich habe ja die PDFs ignoriert, zu welchen ich auf Grund der Referenz keine PDF-Links hatte."
   ]
  },
  {
   "cell_type": "code",
   "execution_count": null,
   "metadata": {},
   "outputs": [],
   "source": [
    "# !!!!!! ACHTUNG: zuerst mit einzelen testen. Möglicherweise findet er die Files nicht. \n",
    "dat_pdf_list=[]\n",
    "for dok in pdf_files_list:\n",
    "    mypdf = open(\"KRGeschPDF/\"+dok, mode='rb')\n",
    "    pdf_name = dok\n",
    "    pdf_document = PyPDF2.PdfFileReader(mypdf)\n",
    "    first_page = pdf_document.getPage(0)\n",
    "    front=first_page.extractText()\n",
    "    dat_p_ein= re.findall(regex_datum, front, re.IGNORECASE)[0] #Ich greiffe auf das Datum zu\n",
    "        # um zu verhindern, dass ich mehrer Daten und Vorlagen habe, sage ich mit [0] er soll das erste nehmen\n",
    "    vorl_p_nr= re.findall(regex_vorlage, front, re.IGNORECASE)[0] # Ich greiffe auf die Vorlagennummer zu (zum Zusammenfügen der Dataframes)\n",
    "    \n",
    "    \n",
    "    minidict_pdf_dat={\"Einreichedatum\": dat_p_ein, \"VorlageNR\":vorl_p_nr, \"Filename\":pdf_name}\n",
    "    \n",
    "    dat_pdf_list.append(minidict_pdf_dat)"
   ]
  },
  {
   "cell_type": "code",
   "execution_count": null,
   "metadata": {},
   "outputs": [],
   "source": [
    "df_p=pd.DataFrame(dat_pdf_list)"
   ]
  },
  {
   "cell_type": "code",
   "execution_count": null,
   "metadata": {},
   "outputs": [],
   "source": [
    "df_p.sort_values(\"Einreichedatum\") #Stichproben haben gezeigt, dass die fehlerhaften Datumsangaben in GEschäftern sind,\n",
    "# Welche selber meist schon ein Datum haben. "
   ]
  },
  {
   "cell_type": "code",
   "execution_count": null,
   "metadata": {},
   "outputs": [],
   "source": [
    "df_p.to_csv(\"KRFrames/INFOSausPDF\")"
   ]
  },
  {
   "cell_type": "code",
   "execution_count": null,
   "metadata": {},
   "outputs": [],
   "source": [
    "df_p[\"Filename\"]"
   ]
  },
  {
   "cell_type": "code",
   "execution_count": null,
   "metadata": {},
   "outputs": [],
   "source": [
    "df_p=pd.read_csv(\"KRFrames/INFOSausPDF\")\n",
    "df_p"
   ]
  },
  {
   "cell_type": "markdown",
   "metadata": {},
   "source": [
    "## 4.1 Zeit in Datetime umwandeln\n",
    "schwierigkeit: wie bringe ich das deutsche Zeitformat in englisches. Mache ich es falsch oder gibts wieder probleme mit den Grossbuchstaben der Zeitformate? Hatten wir windowsuser auch schon."
   ]
  },
  {
   "cell_type": "code",
   "execution_count": null,
   "metadata": {},
   "outputs": [],
   "source": [
    "df_p=pd.read_csv(\"KRFrames/INFOSausPDF\")"
   ]
  },
  {
   "cell_type": "code",
   "execution_count": null,
   "metadata": {},
   "outputs": [],
   "source": [
    "locale.setlocale(locale.LC_ALL, 'de_DE') # hier die Sprachwahl\n",
    "df_p[\"Einreichedatum\"] = pd.to_datetime(df_p[\"Einreichedatum\"], format= \"%d. %B %Y\", errors='coerce') #Angabe des Formats"
   ]
  },
  {
   "cell_type": "code",
   "execution_count": null,
   "metadata": {},
   "outputs": [],
   "source": [
    " df_p #Halleluia:-) habs doch noch geschafft. Und die wenigen, die falsch formiert sind, werden nicht auffallen."
   ]
  },
  {
   "cell_type": "code",
   "execution_count": null,
   "metadata": {},
   "outputs": [],
   "source": [
    "df_p.to_csv(\"KRFrames/KonvertierteDatenformate\")"
   ]
  },
  {
   "cell_type": "code",
   "execution_count": null,
   "metadata": {},
   "outputs": [],
   "source": [
    "df_p=pd.read_csv(\"KRFrames/KonvertierteDatenformate\")"
   ]
  },
  {
   "cell_type": "code",
   "execution_count": null,
   "metadata": {},
   "outputs": [],
   "source": [
    "#Nun noch ohne.0 hinten bei der VorlageNR. Ah es ist ein Float. Kann es also zu int oder str machen\n",
    "df_p[\"VorlageNR\"]=df_p[\"VorlageNR\"].astype(str)"
   ]
  },
  {
   "cell_type": "code",
   "execution_count": null,
   "metadata": {},
   "outputs": [],
   "source": [
    "def splitting(elem):\n",
    "    elem = elem.split('.')[0].strip()\n",
    "    return elem\n"
   ]
  },
  {
   "cell_type": "code",
   "execution_count": null,
   "metadata": {},
   "outputs": [],
   "source": [
    "df_p[\"VorlageNR\"]=df_p[\"VorlageNR\"].apply(splitting) # So, nun sind die .0 weg. Mal schauen. Das String-Format reicht wohl\n",
    "del df_p[\"Unnamed: 0\"] # die beiden Spalten entfernen\n",
    "del df_p[\"Unnamed: 0.1\"]\n",
    "df_ps=df_p.rename(columns={\"Filename\": \"Link Vorstoss-PDF\"}) #Spalte gleich benennen wie im anderen Frame"
   ]
  },
  {
   "cell_type": "code",
   "execution_count": null,
   "metadata": {},
   "outputs": [],
   "source": [
    "df_ps.to_csv(\"KRFrames/df_p_Datum\") # und speichern"
   ]
  },
  {
   "cell_type": "markdown",
   "metadata": {},
   "source": [
    "## 4.2 Ein Dataframe machen, mit den PDF-Dokumentennamen\n",
    "- splitting funktion schreiben\n",
    "- auf Spalte anwenden\n",
    "- neu abspeichern "
   ]
  },
  {
   "cell_type": "code",
   "execution_count": null,
   "metadata": {},
   "outputs": [],
   "source": [
    "def splittpdf(elem):\n",
    "    elem = elem.split('/')[-1].strip()\n",
    "    return elem"
   ]
  },
  {
   "cell_type": "code",
   "execution_count": null,
   "metadata": {},
   "outputs": [],
   "source": [
    "df_g[\"Link Vorstoss-PDF\"]=df_g[\"Link Vorstoss-PDF\"].apply(splittpdf)"
   ]
  },
  {
   "cell_type": "code",
   "execution_count": null,
   "metadata": {},
   "outputs": [],
   "source": [
    "df_g.to_csv(\"KRFrames/df_g_Datum_mit_PDF\")"
   ]
  },
  {
   "cell_type": "markdown",
   "metadata": {},
   "source": [
    "## 4.3 Nun zusammenfügen der beiden Daten-Dataframes anhand der PDF-Namen"
   ]
  },
  {
   "cell_type": "code",
   "execution_count": null,
   "metadata": {},
   "outputs": [],
   "source": [
    "df_g1=pd.read_csv(\"KRFrames/df_g_Datum_mit_PDF\")\n",
    "df_p1=pd.read_csv(\"KRFrames/df_p_Datum\")"
   ]
  },
  {
   "cell_type": "code",
   "execution_count": null,
   "metadata": {},
   "outputs": [],
   "source": []
  },
  {
   "cell_type": "code",
   "execution_count": null,
   "metadata": {},
   "outputs": [],
   "source": [
    "df_dat_max=pd.merge(df_g1, df_p1, how=\"left\",on= \"Link Vorstoss-PDF\")"
   ]
  },
  {
   "cell_type": "code",
   "execution_count": null,
   "metadata": {},
   "outputs": [],
   "source": [
    "df_dat_max.shape"
   ]
  },
  {
   "cell_type": "code",
   "execution_count": null,
   "metadata": {},
   "outputs": [],
   "source": [
    "df_dat_max.sort_values(\"Einreichedatum_x\").tail(100)  #So, jetzt sind zwar beide zusammen, aber noch nicht vereint\n",
    "#Jetzt noch irgendwie die beiden Einreichedaten miteinander ableichen/ergängen."
   ]
  },
  {
   "cell_type": "markdown",
   "metadata": {},
   "source": [
    "### 4.3.1 die Datenspalten zusammenbekommen."
   ]
  },
  {
   "cell_type": "code",
   "execution_count": null,
   "metadata": {},
   "outputs": [],
   "source": [
    "#hier füge ich sie zusammen\n",
    "df_dat_zus=df_dat_max.Einreichedatum_x.combine_first(df_dat_max.Einreichedatum_y)"
   ]
  },
  {
   "cell_type": "code",
   "execution_count": null,
   "metadata": {},
   "outputs": [],
   "source": [
    "df_dat_max['Einreichedatum'] = df_dat_zus # hier füge ich die neu enstandene \"Series\" dem Dataframe an"
   ]
  },
  {
   "cell_type": "code",
   "execution_count": null,
   "metadata": {},
   "outputs": [],
   "source": [
    "df_datum=df_dat_max[[\"Unnamed: 0_x\",\"VorlageNR_x\", \"Einreichedatum\", \"Link Vorstoss-PDF\"]]"
   ]
  },
  {
   "cell_type": "code",
   "execution_count": null,
   "metadata": {},
   "outputs": [],
   "source": [
    "df_datum.shape"
   ]
  },
  {
   "cell_type": "code",
   "execution_count": null,
   "metadata": {},
   "outputs": [],
   "source": [
    "df_datum[\"Einreichedatum\"].sort_values().tail(30)\n",
    "                                             "
   ]
  },
  {
   "cell_type": "code",
   "execution_count": null,
   "metadata": {},
   "outputs": [],
   "source": [
    "df_datum.to_csv(\"KRFrames/df_datum_ALLE\")"
   ]
  },
  {
   "cell_type": "markdown",
   "metadata": {},
   "source": [
    "# 5. Alle Dataframes zusammenfügen \n",
    "- Alle einlesen und auf die Unterseiten verweisen\n",
    "- eines nach dem andern anhängen\n",
    "- noch schön machen und kontrollieren"
   ]
  },
  {
   "cell_type": "code",
   "execution_count": null,
   "metadata": {},
   "outputs": [],
   "source": [
    "# Einlesen:\n",
    "df_v=pd.read_csv(\"KRFrames/df_v_Hauptseiten\") #Alle Vorstösse mit Infos mit Titel und Nummer der Page mit allen Geschäften\n",
    "df_dat_all=pd.read_csv(\"KRFrames/df_datum_ALLE\")# Frame mit allen Zeitangaben(Datum)(oben)\n",
    "df_np=pd.read_csv(\"KRFrames/Frame_mit_Namen_und_Parteien\")# Aus File \"02 Namen aus Geschäftsnamen...\" Alle Namen und Parteien\n",
    "\n"
   ]
  },
  {
   "cell_type": "code",
   "execution_count": null,
   "metadata": {},
   "outputs": [],
   "source": [
    "#  zuerst vorputzen\n",
    "df_v1 = df_v[[\"VorlageNR\", \"Geschäft\"]].copy()\n",
    "df_v1"
   ]
  },
  {
   "cell_type": "code",
   "execution_count": null,
   "metadata": {},
   "outputs": [],
   "source": [
    "df_dat_all=df_dat_all.rename(columns={\"VorlageNR_x\": \"VorlageNR\"})"
   ]
  },
  {
   "cell_type": "code",
   "execution_count": null,
   "metadata": {},
   "outputs": [],
   "source": [
    "df_dat_all"
   ]
  },
  {
   "cell_type": "code",
   "execution_count": null,
   "metadata": {
    "scrolled": false
   },
   "outputs": [],
   "source": [
    "# Nun zusammenfügen\n",
    "df_alles=pd.merge(df_v1, df_dat_all, how=\"left\",on= \"VorlageNR\")"
   ]
  },
  {
   "cell_type": "code",
   "execution_count": null,
   "metadata": {
    "scrolled": true
   },
   "outputs": [],
   "source": [
    "df_alles.to_csv(\"KRFrames/df_alles_ohne_Namen\")"
   ]
  },
  {
   "cell_type": "code",
   "execution_count": null,
   "metadata": {},
   "outputs": [],
   "source": [
    "df_np"
   ]
  },
  {
   "cell_type": "code",
   "execution_count": null,
   "metadata": {},
   "outputs": [],
   "source": [
    "df_alles_ganz=pd.merge(df_alles, df_np, how=\"left\", on=\"VorlageNR\")\n",
    "df_alles_ganz"
   ]
  },
  {
   "cell_type": "code",
   "execution_count": null,
   "metadata": {},
   "outputs": [],
   "source": [
    "df_tuti=df_alles_ganz[[\"VorlageNR\",\"Geschäft\", \"Namenganz\", \"P\", \"Einreichedatum\", \"Link Vorstoss-PDF\"]]"
   ]
  },
  {
   "cell_type": "code",
   "execution_count": null,
   "metadata": {},
   "outputs": [],
   "source": [
    "df_tuti #Wieso wird es nicht ergänzt. Der Fehler ist im File 02 Namen passiert. dort nachschauen."
   ]
  },
  {
   "cell_type": "code",
   "execution_count": null,
   "metadata": {},
   "outputs": [],
   "source": [
    "df_tuti[\"Einreichedatum\"].sort_values().tail(80)\n",
    "# Obwohl mir nur von 30 Geschäften das Datum fehlt, explodiert dies, wenn es auf die Namen-Tabelle kommt."
   ]
  },
  {
   "cell_type": "code",
   "execution_count": null,
   "metadata": {},
   "outputs": [],
   "source": [
    "df_tuti.to_csv(\"KRFrames/df_tuti_Ganzes_Frame\")"
   ]
  },
  {
   "cell_type": "markdown",
   "metadata": {},
   "source": [
    "# Daten aus B&A mit falschen Zahlen\n",
    "Eine Lösung wäre, nochmals die Links zu den PDF auslesen und diese in zwei verschiedene Listen verpacken. \n",
    "Da die Datenmigration im Jahr 2000 war, schaue ich einfach mal die Zahlen ab 2005 an. Vo dort an, werden die meisten Geschäfte tatsächlich neu sein. \n",
    "## #Andere Variante: ich lasse die B&A einfach weg. Da gibt es eh keine verlässliche Daten. Mengenmässig.\n",
    "# Nun plotten"
   ]
  },
  {
   "cell_type": "code",
   "execution_count": null,
   "metadata": {},
   "outputs": [],
   "source": [
    "df_tuti = df_tuti.set_index('Einreichedatum')"
   ]
  },
  {
   "cell_type": "code",
   "execution_count": null,
   "metadata": {},
   "outputs": [],
   "source": [
    "df_tuti"
   ]
  },
  {
   "cell_type": "code",
   "execution_count": null,
   "metadata": {},
   "outputs": [],
   "source": [
    "df_tuti.dtypes"
   ]
  },
  {
   "cell_type": "code",
   "execution_count": null,
   "metadata": {},
   "outputs": [],
   "source": []
  },
  {
   "cell_type": "code",
   "execution_count": null,
   "metadata": {},
   "outputs": [],
   "source": []
  },
  {
   "cell_type": "code",
   "execution_count": null,
   "metadata": {},
   "outputs": [],
   "source": []
  },
  {
   "cell_type": "code",
   "execution_count": null,
   "metadata": {},
   "outputs": [],
   "source": []
  }
 ],
 "metadata": {
  "kernelspec": {
   "display_name": "Python 3",
   "language": "python",
   "name": "python3"
  },
  "language_info": {
   "codemirror_mode": {
    "name": "ipython",
    "version": 3
   },
   "file_extension": ".py",
   "mimetype": "text/x-python",
   "name": "python",
   "nbconvert_exporter": "python",
   "pygments_lexer": "ipython3",
   "version": "3.7.3"
  }
 },
 "nbformat": 4,
 "nbformat_minor": 2
}
