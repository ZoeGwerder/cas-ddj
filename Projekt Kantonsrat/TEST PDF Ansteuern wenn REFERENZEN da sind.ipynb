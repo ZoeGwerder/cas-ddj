{
 "cells": [
  {
   "cell_type": "code",
   "execution_count": 2,
   "metadata": {},
   "outputs": [],
   "source": [
    "import requests\n",
    "import pandas as pd\n",
    "from bs4 import BeautifulSoup\n",
    "from datetime import datetime\n",
    "import numpy as np\n",
    "import requests, zipfile, io #zum abspeichern von PDFs\n",
    "from tqdm import tqdm\n",
    "import PyPDF2\n",
    "import re"
   ]
  },
  {
   "cell_type": "code",
   "execution_count": 3,
   "metadata": {},
   "outputs": [],
   "source": [
    "geschaefts_liste=[]#####ACHTUNG ich mache den RANGE kleiner, um weniger GEschäfte zu erhalten.\n",
    "\n",
    "for seite_g in range(0,1220): #Range für alle Geschäfte wäre 1219!\n",
    "    gesch= \"KRhtml/Geschaeft\"+str(seite_g)+\".html\"\n",
    "    geschaefts_liste.append(gesch)"
   ]
  },
  {
   "cell_type": "code",
   "execution_count": 5,
   "metadata": {},
   "outputs": [],
   "source": [
    "eingang_list=[]\n",
    "file = open(\"KRhtml/Geschaeft1002.html\", \"r\")\n",
    "text = file.read()\n",
    "soup_g = BeautifulSoup(text, 'html.parser')\n",
    "tr_g_list=soup_g.find_all(\"tr\")\n",
    "td_g_list=tr_g_list[-1].find_all(\"td\")#hier gehe ich zum Dokument. Dieses scheint von unten her an derselben Position zu sein\n",
    "url_v_pdf = td_g_list[1].find(\"a\")[\"href\"] #nun hier die URL zum PDF des Vorstosses\n",
    "gesch_nr = tr_g_list[-1].find_all(\"td\")[0].text\n",
    "einger_am = tr_g_list[1].find_all(\"td\")[0].text   \n",
    "ul_list = tr_g_list[2].find_all(\"ul\")\n",
    "li_list = ul_list[0].find_all(\"li\")\n",
    "    \n",
    "    \n",
    "    \n",
    "    \n",
    "    \n",
    "minidict_g={\"GeschäftsNR\":gesch_nr, \"Einreichedatum\":einger_am, \"Link Vorstoss-PDF\":url_v_pdf}\n",
    "    \n",
    "eingang_list.append(minidict_g)"
   ]
  },
  {
   "cell_type": "code",
   "execution_count": 7,
   "metadata": {},
   "outputs": [
    {
     "data": {
      "text/plain": [
       "[<tr>\n",
       " <th class=\"col-lg-3\">Geschäftsart</th>\n",
       " <td class=\"col-lg-9\">Interpellation</td>\n",
       " </tr>, <tr>\n",
       " <th class=\"col-lg-3\">Eingereicht am</th>\n",
       " <td class=\"col-lg-9 geschaeft-eingereicht_am\"></td>\n",
       " </tr>, <tr>\n",
       " <th class=\"col-lg-3\">Eingereicht von</th>\n",
       " <td class=\"col-lg-9\">\n",
       " <ul class=\"nomargin list-unstyled\" id=\"eingereicht-von\">\n",
       " </ul>\n",
       " </td>\n",
       " </tr>, <tr>\n",
       " <th class=\"col-lg-3\">Abgeschlossen am</th>\n",
       " <td class=\"col-lg-9 geschaeft-abgeschlossen_am\"></td>\n",
       " </tr>, <tr>\n",
       " <th class=\"col-lg-3\">Status</th>\n",
       " <td class=\"col-lg-9 geschaeft-status\">abgeschlossen</td>\n",
       " </tr>, <tr>\n",
       " <th class=\"col-lg-3\">Zuständig</th>\n",
       " <td class=\"col-lg-9 geschaeft-zustaendig\"></td>\n",
       " </tr>, <tr>\n",
       " <th class=\"col-lg-3\">Verfahrensstand</th>\n",
       " <td class=\"col-lg-9\">\n",
       "         01.01.2000: Datenmigration\n",
       "     </td>\n",
       " </tr>, <tr>\n",
       " <th class=\"col-lg-3\">Frist</th>\n",
       " <td class=\"col-lg-9 geschaeft-frist\"></td>\n",
       " </tr>, <tr>\n",
       " <th>Vorlage-Nr.</th>\n",
       " <th>ID</th>\n",
       " <th>Laufnummer</th>\n",
       " <th>Titel</th>\n",
       " <th>Versanddatum</th>\n",
       " <th></th>\n",
       " </tr>, <tr id=\"dok_3070\">\n",
       " <td>1385</td>\n",
       " <td><a href=\"/dokumente/3070/pdoc_1133_1.pdf\">3</a></td>\n",
       " <td><a href=\"/dokumente/3070/pdoc_1133_1.pdf\"></a></td>\n",
       " <td><a href=\"/dokumente/3070/pdoc_1133_1.pdf\">Bericht der Kommission für Spitalfragen</a></td>\n",
       " <td>\n",
       " <span class=\"label label-xs label-success\">&lt;kein Datum&gt;</span>\n",
       " </td>\n",
       " <td>\n",
       " <a href=\"/dokumente/3070/pdoc_1133_1.pdf\">\n",
       " <span class=\"glyphicon glyphicon-download\"></span>\n",
       " </a> </td>\n",
       " </tr>, <tr id=\"dok_3069\">\n",
       " <td>1385</td>\n",
       " <td><a href=\"/dokumente/3069/pdoc_1070_1.pdf\">2</a></td>\n",
       " <td><a href=\"/dokumente/3069/pdoc_1070_1.pdf\"></a></td>\n",
       " <td><a href=\"/dokumente/3069/pdoc_1070_1.pdf\">Antwort des Regierungsrates</a></td>\n",
       " <td>\n",
       " <span class=\"label label-xs label-success\">&lt;kein Datum&gt;</span>\n",
       " </td>\n",
       " <td>\n",
       " <a href=\"/dokumente/3069/pdoc_1070_1.pdf\">\n",
       " <span class=\"glyphicon glyphicon-download\"></span>\n",
       " </a> </td>\n",
       " </tr>, <tr id=\"dok_3068\">\n",
       " <td>1385</td>\n",
       " <td><a href=\"/dokumente/3068/pdoc_1065_1.pdf\">1</a></td>\n",
       " <td><a href=\"/dokumente/3068/pdoc_1065_1.pdf\"></a></td>\n",
       " <td><a href=\"/dokumente/3068/pdoc_1065_1.pdf\">Interpellationstext</a></td>\n",
       " <td>\n",
       " <span class=\"label label-xs label-success\">&lt;kein Datum&gt;</span>\n",
       " </td>\n",
       " <td>\n",
       " <a href=\"/dokumente/3068/pdoc_1065_1.pdf\">\n",
       " <span class=\"glyphicon glyphicon-download\"></span>\n",
       " </a> </td>\n",
       " </tr>]"
      ]
     },
     "execution_count": 7,
     "metadata": {},
     "output_type": "execute_result"
    }
   ],
   "source": [
    "tr_g_list"
   ]
  },
  {
   "cell_type": "code",
   "execution_count": 21,
   "metadata": {},
   "outputs": [
    {
     "ename": "OSError",
     "evalue": "[Errno 22] Invalid argument: 'https://kr-geschaefte.zug.ch/gast/geschaefte/970'",
     "output_type": "error",
     "traceback": [
      "\u001b[1;31m---------------------------------------------------------------------------\u001b[0m",
      "\u001b[1;31mOSError\u001b[0m                                   Traceback (most recent call last)",
      "\u001b[1;32m<ipython-input-21-96008e56049c>\u001b[0m in \u001b[0;36m<module>\u001b[1;34m\u001b[0m\n\u001b[0;32m      1\u001b[0m \u001b[0meingang_list\u001b[0m\u001b[1;33m=\u001b[0m\u001b[1;33m[\u001b[0m\u001b[1;33m]\u001b[0m\u001b[1;33m\u001b[0m\u001b[1;33m\u001b[0m\u001b[0m\n\u001b[1;32m----> 2\u001b[1;33m \u001b[0mfile\u001b[0m \u001b[1;33m=\u001b[0m \u001b[0mopen\u001b[0m\u001b[1;33m(\u001b[0m\u001b[1;34m\"https://kr-geschaefte.zug.ch/gast/geschaefte/970\"\u001b[0m\u001b[1;33m,\u001b[0m \u001b[1;34m\"r\"\u001b[0m\u001b[1;33m)\u001b[0m\u001b[1;33m\u001b[0m\u001b[1;33m\u001b[0m\u001b[0m\n\u001b[0m\u001b[0;32m      3\u001b[0m \u001b[0mtext\u001b[0m \u001b[1;33m=\u001b[0m \u001b[0mfile\u001b[0m\u001b[1;33m.\u001b[0m\u001b[0mread\u001b[0m\u001b[1;33m(\u001b[0m\u001b[1;33m)\u001b[0m\u001b[1;33m\u001b[0m\u001b[1;33m\u001b[0m\u001b[0m\n\u001b[0;32m      4\u001b[0m \u001b[0msoup_g\u001b[0m \u001b[1;33m=\u001b[0m \u001b[0mBeautifulSoup\u001b[0m\u001b[1;33m(\u001b[0m\u001b[0mtext\u001b[0m\u001b[1;33m,\u001b[0m \u001b[1;34m'html.parser'\u001b[0m\u001b[1;33m)\u001b[0m\u001b[1;33m\u001b[0m\u001b[1;33m\u001b[0m\u001b[0m\n\u001b[0;32m      5\u001b[0m \u001b[0mtr_g_list\u001b[0m\u001b[1;33m=\u001b[0m\u001b[0msoup_g\u001b[0m\u001b[1;33m.\u001b[0m\u001b[0mfind_all\u001b[0m\u001b[1;33m(\u001b[0m\u001b[1;34m\"tr\"\u001b[0m\u001b[1;33m)\u001b[0m\u001b[1;33m\u001b[0m\u001b[1;33m\u001b[0m\u001b[0m\n",
      "\u001b[1;31mOSError\u001b[0m: [Errno 22] Invalid argument: 'https://kr-geschaefte.zug.ch/gast/geschaefte/970'"
     ]
    }
   ],
   "source": [
    "eingang_list=[]\n",
    "file = open(\"https://kr-geschaefte.zug.ch/gast/geschaefte/970\", \"r\")\n",
    "text = file.read()\n",
    "soup_g = BeautifulSoup(text, 'html.parser')\n",
    "tr_g_list=soup_g.find_all(\"tr\")\n",
    "td_g_list=tr_g_list[-1].find_all(\"td\")#hier gehe ich zum Dokument. Dieses scheint von unten her an derselben Position zu sein\n",
    "testzahl=td_g_list[1].find_all(\"a\")[0].text #nun hier die URL zum PDF des Vorstosses\n",
    "gesch_nr = tr_g_list[-1].find_all(\"td\")[0].text\n",
    "einger_am = tr_g_list[1].find_all(\"td\")[0].text   \n",
    "ul_list = tr_g_list[2].find_all(\"ul\")\n",
    "li_list = ul_list[0].find_all(\"li\")\n",
    "if td_g_list[1].find_all(\"a\")[0].text== \"1\": #Da es zum Teil Referenzen hat, muss ich varieren.\n",
    "    url_v_pdf = td_g_list[1].find(\"a\")[\"href\"]\n",
    "else:\n",
    "    td_g_list=tr_g_list[-2].find_all(\"td\")\n",
    "    url_v_pdf = td_g_list[1].find(\"a\")[\"href\"]\n",
    "    \n",
    "    \n",
    "    \n",
    "minidict_g={\"GeschäftsNR\":gesch_nr, \"Einreichedatum\":einger_am, \"Link Vorstoss-PDF\":url_v_pdf}\n",
    "    \n",
    "eingang_list.append(minidict_g)"
   ]
  },
  {
   "cell_type": "code",
   "execution_count": 20,
   "metadata": {},
   "outputs": [
    {
     "data": {
      "text/plain": [
       "'/dokumente/6326/282-1-8690_Radstrecke.pdf'"
      ]
     },
     "execution_count": 20,
     "metadata": {},
     "output_type": "execute_result"
    }
   ],
   "source": [
    "url_v_pdf"
   ]
  },
  {
   "cell_type": "code",
   "execution_count": 12,
   "metadata": {
    "scrolled": true
   },
   "outputs": [
    {
     "data": {
      "text/plain": [
       "[<td>282</td>,\n",
       " <td><a href=\"/dokumente/6326/282-1-8690_Radstrecke.pdf\">1</a></td>,\n",
       " <td><a href=\"/dokumente/6326/282-1-8690_Radstrecke.pdf\">8690</a></td>,\n",
       " <td><a href=\"/dokumente/6326/282-1-8690_Radstrecke.pdf\">Motionstext</a></td>,\n",
       " <td>\n",
       " <span class=\"label label-xs label-success\">&lt;kein Datum&gt;</span>\n",
       " </td>,\n",
       " <td>\n",
       " <a href=\"/dokumente/6326/282-1-8690_Radstrecke.pdf\">\n",
       " <span class=\"glyphicon glyphicon-download\"></span>\n",
       " </a> </td>]"
      ]
     },
     "execution_count": 12,
     "metadata": {},
     "output_type": "execute_result"
    }
   ],
   "source": [
    "td_g_list"
   ]
  },
  {
   "cell_type": "code",
   "execution_count": 27,
   "metadata": {},
   "outputs": [],
   "source": [
    "eingang_list=[]\n",
    "file = requests.get(\"https://kr-geschaefte.zug.ch/gast/geschaefte/971\", \"r\")\n",
    "\n",
    "soup_g = BeautifulSoup(file.text, 'html.parser')\n",
    "tr_g_list=soup_g.find_all(\"tr\")\n",
    "td_g_list=tr_g_list[-1].find_all(\"td\")#hier gehe ich zum Dokument. Dieses scheint von unten her an derselben Position zu sein\n",
    "testzahl=td_g_list[1].find_all(\"a\")[0].text #nun hier die URL zum PDF des Vorstosses\n",
    "gesch_nr = tr_g_list[-1].find_all(\"td\")[0].text\n",
    "einger_am = tr_g_list[1].find_all(\"td\")[0].text   \n",
    "ul_list = tr_g_list[2].find_all(\"ul\")\n",
    "li_list = ul_list[0].find_all(\"li\")\n",
    "if td_g_list[1].find_all(\"a\")[0].text== \"1\": #Da es zum Teil Referenzen hat, muss ich varieren.\n",
    "    url_v_pdf = td_g_list[1].find(\"a\")[\"href\"]\n",
    "else:\n",
    "    td_g_list=tr_g_list[-2].find_all(\"td\")\n",
    "    url_v_pdf = td_g_list[1].find(\"a\")[\"href\"]\n",
    "    \n",
    "    \n",
    "    \n",
    "minidict_g={\"GeschäftsNR\":gesch_nr, \"Einreichedatum\":einger_am, \"Link Vorstoss-PDF\":url_v_pdf}\n",
    "    \n",
    "eingang_list.append(minidict_g)"
   ]
  },
  {
   "cell_type": "code",
   "execution_count": 28,
   "metadata": {},
   "outputs": [
    {
     "data": {
      "text/plain": [
       "[{'GeschäftsNR': '1381',\n",
       "  'Einreichedatum': '',\n",
       "  'Link Vorstoss-PDF': '/dokumente/3062/pdoc_1053_1.pdf'}]"
      ]
     },
     "execution_count": 28,
     "metadata": {},
     "output_type": "execute_result"
    }
   ],
   "source": [
    "eingang_list"
   ]
  },
  {
   "cell_type": "code",
   "execution_count": null,
   "metadata": {},
   "outputs": [],
   "source": []
  }
 ],
 "metadata": {
  "kernelspec": {
   "display_name": "Python 3",
   "language": "python",
   "name": "python3"
  },
  "language_info": {
   "codemirror_mode": {
    "name": "ipython",
    "version": 3
   },
   "file_extension": ".py",
   "mimetype": "text/x-python",
   "name": "python",
   "nbconvert_exporter": "python",
   "pygments_lexer": "ipython3",
   "version": "3.7.3"
  }
 },
 "nbformat": 4,
 "nbformat_minor": 2
}
