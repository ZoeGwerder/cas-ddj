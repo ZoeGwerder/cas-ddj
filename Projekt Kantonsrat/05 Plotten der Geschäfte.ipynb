{
 "cells": [
  {
   "cell_type": "markdown",
   "metadata": {},
   "source": [
    "# Die Plotversuche"
   ]
  },
  {
   "cell_type": "code",
   "execution_count": 2,
   "metadata": {},
   "outputs": [
    {
     "name": "stdout",
     "output_type": "stream",
     "text": [
      "NetworkX version: 2.3\n"
     ]
    }
   ],
   "source": [
    "%matplotlib inline\n",
    "import numpy as np\n",
    "import requests\n",
    "import pandas as pd\n",
    "from bs4 import BeautifulSoup\n",
    "from datetime import datetime\n",
    "import numpy as np\n",
    "import requests, zipfile, io #zum abspeichern von PDFs\n",
    "from tqdm import tqdm # Anzeigen des aktuellen Ladestandes\n",
    "import PyPDF2\n",
    "import re\n",
    "from os import listdir\n",
    "from os.path import isfile, join\n",
    "import locale\n",
    "import matplotlib.pyplot as plt\n",
    "import warnings\n",
    "warnings.filterwarnings('ignore')\n",
    "\n",
    "import networkx as nx\n",
    "import matplotlib.pyplot as plt\n",
    "%matplotlib inline\n",
    "print('NetworkX version: {}'.format(nx.__version__))"
   ]
  },
  {
   "cell_type": "code",
   "execution_count": 3,
   "metadata": {},
   "outputs": [],
   "source": [
    "df=pd.read_csv(\"KRFrames/df_tuti_Ganzes_Frame\")"
   ]
  },
  {
   "cell_type": "code",
   "execution_count": null,
   "metadata": {},
   "outputs": [],
   "source": []
  },
  {
   "cell_type": "code",
   "execution_count": 4,
   "metadata": {},
   "outputs": [],
   "source": [
    "df1= df[[\"VorlageNR\", \"Namenganz\", \"Einreichedatum\"]]"
   ]
  },
  {
   "cell_type": "code",
   "execution_count": 5,
   "metadata": {},
   "outputs": [
    {
     "data": {
      "text/html": [
       "<div>\n",
       "<style scoped>\n",
       "    .dataframe tbody tr th:only-of-type {\n",
       "        vertical-align: middle;\n",
       "    }\n",
       "\n",
       "    .dataframe tbody tr th {\n",
       "        vertical-align: top;\n",
       "    }\n",
       "\n",
       "    .dataframe thead th {\n",
       "        text-align: right;\n",
       "    }\n",
       "</style>\n",
       "<table border=\"1\" class=\"dataframe\">\n",
       "  <thead>\n",
       "    <tr style=\"text-align: right;\">\n",
       "      <th></th>\n",
       "      <th>VorlageNR</th>\n",
       "      <th>Namenganz</th>\n",
       "      <th>Einreichedatum</th>\n",
       "    </tr>\n",
       "  </thead>\n",
       "  <tbody>\n",
       "    <tr>\n",
       "      <td>2019-11-26</td>\n",
       "      <td>3031</td>\n",
       "      <td>SVP-Fraktion</td>\n",
       "      <td>2019-11-26</td>\n",
       "    </tr>\n",
       "    <tr>\n",
       "      <td>2019-11-26</td>\n",
       "      <td>3030</td>\n",
       "      <td>SVP-Fraktion</td>\n",
       "      <td>2019-11-26</td>\n",
       "    </tr>\n",
       "    <tr>\n",
       "      <td>2019-11-24</td>\n",
       "      <td>3029</td>\n",
       "      <td>Alternative</td>\n",
       "      <td>2019-11-24</td>\n",
       "    </tr>\n",
       "    <tr>\n",
       "      <td>2019-11-15</td>\n",
       "      <td>3026</td>\n",
       "      <td>Thomas Gander</td>\n",
       "      <td>2019-11-15</td>\n",
       "    </tr>\n",
       "    <tr>\n",
       "      <td>2019-11-15</td>\n",
       "      <td>3026</td>\n",
       "      <td>Markus Spörri</td>\n",
       "      <td>2019-11-15</td>\n",
       "    </tr>\n",
       "    <tr>\n",
       "      <td>...</td>\n",
       "      <td>...</td>\n",
       "      <td>...</td>\n",
       "      <td>...</td>\n",
       "    </tr>\n",
       "    <tr>\n",
       "      <td>2005-04-26</td>\n",
       "      <td>857</td>\n",
       "      <td>Karl Betschart</td>\n",
       "      <td>2005-04-26</td>\n",
       "    </tr>\n",
       "    <tr>\n",
       "      <td>2002-12-03</td>\n",
       "      <td>836</td>\n",
       "      <td>Käty Hofer Buser</td>\n",
       "      <td>2002-12-03</td>\n",
       "    </tr>\n",
       "    <tr>\n",
       "      <td>2002-08-13</td>\n",
       "      <td>810</td>\n",
       "      <td>Marcel Meyer</td>\n",
       "      <td>2002-08-13</td>\n",
       "    </tr>\n",
       "    <tr>\n",
       "      <td>2006-08-22</td>\n",
       "      <td>801</td>\n",
       "      <td>Hans Abicht</td>\n",
       "      <td>2006-08-22</td>\n",
       "    </tr>\n",
       "    <tr>\n",
       "      <td>2003-05-27</td>\n",
       "      <td>304</td>\n",
       "      <td>Manuela Weichelt</td>\n",
       "      <td>2003-05-27</td>\n",
       "    </tr>\n",
       "  </tbody>\n",
       "</table>\n",
       "<p>1803 rows × 3 columns</p>\n",
       "</div>"
      ],
      "text/plain": [
       "            VorlageNR         Namenganz Einreichedatum\n",
       "2019-11-26       3031      SVP-Fraktion     2019-11-26\n",
       "2019-11-26       3030      SVP-Fraktion     2019-11-26\n",
       "2019-11-24       3029       Alternative     2019-11-24\n",
       "2019-11-15       3026     Thomas Gander     2019-11-15\n",
       "2019-11-15       3026     Markus Spörri     2019-11-15\n",
       "...               ...               ...            ...\n",
       "2005-04-26        857    Karl Betschart     2005-04-26\n",
       "2002-12-03        836  Käty Hofer Buser     2002-12-03\n",
       "2002-08-13        810      Marcel Meyer     2002-08-13\n",
       "2006-08-22        801       Hans Abicht     2006-08-22\n",
       "2003-05-27        304  Manuela Weichelt     2003-05-27\n",
       "\n",
       "[1803 rows x 3 columns]"
      ]
     },
     "execution_count": 5,
     "metadata": {},
     "output_type": "execute_result"
    }
   ],
   "source": [
    "df2=df1.set_index(pd.DatetimeIndex(df1[\"Einreichedatum\"]).date)\n",
    "df2"
   ]
  },
  {
   "cell_type": "code",
   "execution_count": 6,
   "metadata": {},
   "outputs": [],
   "source": [
    "df33=df2.drop_duplicates()"
   ]
  },
  {
   "cell_type": "code",
   "execution_count": 8,
   "metadata": {},
   "outputs": [],
   "source": [
    "df3=df33.sort_index(ascending=False).head(1102)"
   ]
  },
  {
   "cell_type": "code",
   "execution_count": 9,
   "metadata": {},
   "outputs": [],
   "source": [
    "df3.index= pd.to_datetime(df3.index) #nun den Index in datetime umwalndeln"
   ]
  },
  {
   "cell_type": "code",
   "execution_count": 27,
   "metadata": {},
   "outputs": [],
   "source": [
    "df5=df3"
   ]
  },
  {
   "cell_type": "markdown",
   "metadata": {},
   "source": [
    "# Ergebnisse\n",
    "nun scheint es endlich zu stimmen. Mal schauen wie es aussieht."
   ]
  },
  {
   "cell_type": "code",
   "execution_count": 28,
   "metadata": {},
   "outputs": [
    {
     "data": {
      "text/plain": [
       "1982-12-31    1\n",
       "1983-01-31    0\n",
       "1983-02-28    0\n",
       "1983-03-31    0\n",
       "1983-04-30    0\n",
       "             ..\n",
       "2019-07-31    6\n",
       "2019-08-31    3\n",
       "2019-09-30    7\n",
       "2019-10-31    6\n",
       "2019-11-30    5\n",
       "Freq: M, Name: Geschäft, Length: 444, dtype: int64"
      ]
     },
     "execution_count": 28,
     "metadata": {},
     "output_type": "execute_result"
    }
   ],
   "source": [
    "df5[\"Geschäft\"].resample(\"M\").count()"
   ]
  },
  {
   "cell_type": "markdown",
   "metadata": {},
   "source": [
    "# Hier das Ergebnis\n",
    "Zahlen 2009 weisen (Wahljahre 2010/2011) nicht auf eine solche Veränderung hin. Die Zahlen für die Wahljahre 14/15 und 18/19 hingegen schon.\n",
    "HMMM oder doch nicht - das Resutat scheint nicht so klar"
   ]
  },
  {
   "cell_type": "code",
   "execution_count": 29,
   "metadata": {},
   "outputs": [
    {
     "data": {
      "text/plain": [
       "<matplotlib.axes._subplots.AxesSubplot at 0x1a9a2cdc208>"
      ]
     },
     "execution_count": 29,
     "metadata": {},
     "output_type": "execute_result"
    },
    {
     "data": {
      "image/png": "[encoded data removed]",
      "text/plain": [
       "<Figure size 1080x288 with 1 Axes>"
      ]
     },
     "metadata": {
      "needs_background": "light"
     },
     "output_type": "display_data"
    }
   ],
   "source": [
    "\n",
    "df5[\"Geschäft\"].resample(\"Q\").count()[\"2005\":].plot(figsize=(15,4), kind=\"bar\")"
   ]
  },
  {
   "cell_type": "code",
   "execution_count": 32,
   "metadata": {},
   "outputs": [
    {
     "data": {
      "text/plain": [
       "2005-12-31    52\n",
       "2006-12-31    49\n",
       "2007-12-31    74\n",
       "2008-12-31    84\n",
       "2009-12-31    71\n",
       "2010-12-31    49\n",
       "2011-12-31    45\n",
       "2012-12-31    45\n",
       "2013-12-31    61\n",
       "2014-12-31    77\n",
       "2015-12-31    63\n",
       "2016-12-31    77\n",
       "2017-12-31    69\n",
       "2018-12-31    66\n",
       "2019-12-31    71\n",
       "Freq: A-DEC, Name: Geschäft, dtype: int64"
      ]
     },
     "execution_count": 32,
     "metadata": {},
     "output_type": "execute_result"
    }
   ],
   "source": [
    "df5[\"Geschäft\"].resample(\"A\").count()[\"2005\":]"
   ]
  },
  {
   "cell_type": "code",
   "execution_count": 30,
   "metadata": {},
   "outputs": [
    {
     "data": {
      "text/plain": [
       "<matplotlib.axes._subplots.AxesSubplot at 0x1a9a3240160>"
      ]
     },
     "execution_count": 30,
     "metadata": {},
     "output_type": "execute_result"
    },
    {
     "data": {
      "image/png": "[encoded data removed]",
      "text/plain": [
       "<Figure size 1080x288 with 1 Axes>"
      ]
     },
     "metadata": {
      "needs_background": "light"
     },
     "output_type": "display_data"
    }
   ],
   "source": [
    "# so sieht der Verlauf über die Jahre hinweg aus. 2011 ein Tief und seither wieder eher konstant.\n",
    "# Wobei das aktuelle Jahr ja eigentlich noch nicht zu Ende ist, und die Daten von Oktober sind. \n",
    "# 2014 war ein Spitzenjahr. \n",
    "df5[\"Geschäft\"].resample(\"A\").count()[\"2005\":].plot(figsize=(15,4), kind=\"bar\")"
   ]
  },
  {
   "cell_type": "markdown",
   "metadata": {},
   "source": [
    "df5[\"Geschäft\"].resample(\"Y\").count()[\"2005\":].plot(figsize=(15,4))"
   ]
  },
  {
   "cell_type": "code",
   "execution_count": 31,
   "metadata": {},
   "outputs": [
    {
     "data": {
      "text/plain": [
       "<matplotlib.axes._subplots.AxesSubplot at 0x1a9a30fd748>"
      ]
     },
     "execution_count": 31,
     "metadata": {},
     "output_type": "execute_result"
    },
    {
     "data": {
      "image/png": "[encoded data removed]",
      "text/plain": [
       "<Figure size 1080x288 with 1 Axes>"
      ]
     },
     "metadata": {
      "needs_background": "light"
     },
     "output_type": "display_data"
    }
   ],
   "source": [
    "df5[\"Geschäft\"].resample(\"A\").count()[\"2005\":].plot(figsize=(15,4))"
   ]
  },
  {
   "cell_type": "code",
   "execution_count": null,
   "metadata": {},
   "outputs": [],
   "source": [
    "# Sehr gut... so siehts realistisch aus. \n",
    "# Kontrolle ergibt ebenfall ähnliche Zahlen. Abgesehen von 2011 - von dort gibt es viele Datenmigrations-Files. \n",
    "# Diese werden bei der Page des Kantons nicht aufgeführt. die restlichen Zahlen stimmem ,mit der Grafik überein.\n",
    "# Nun noch die Skala so einstellen, dass sie von 0 ausgeht. Sonst wird es verwirrend. "
   ]
  }
 ],
 "metadata": {
  "kernelspec": {
   "display_name": "Python 3",
   "language": "python",
   "name": "python3"
  },
  "language_info": {
   "codemirror_mode": {
    "name": "ipython",
    "version": 3
   },
   "file_extension": ".py",
   "mimetype": "text/x-python",
   "name": "python",
   "nbconvert_exporter": "python",
   "pygments_lexer": "ipython3",
   "version": "3.7.3"
  }
 },
 "nbformat": 4,
 "nbformat_minor": 2
}
