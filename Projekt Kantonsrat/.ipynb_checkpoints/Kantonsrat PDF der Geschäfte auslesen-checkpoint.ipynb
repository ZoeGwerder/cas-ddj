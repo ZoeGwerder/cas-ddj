{
 "cells": [
  {
   "cell_type": "code",
   "execution_count": 16,
   "metadata": {},
   "outputs": [],
   "source": [
    "import pandas as pd\n",
    "import camelot\n",
    "from bs4 import BeautifulSoup\n",
    "import matplotlib.pyplot as plt\n",
    "import requests\n",
    "import os\n",
    "import textract\n",
    "import tqdm\n",
    "import PyPDF2\n",
    "import re"
   ]
  },
  {
   "cell_type": "code",
   "execution_count": 2,
   "metadata": {},
   "outputs": [],
   "source": [
    "%matplotlib inline"
   ]
  },
  {
   "cell_type": "markdown",
   "metadata": {},
   "source": [
    "# Nicht mit Textract (nicht so Windowskompartibel) sondern mit pypdf2"
   ]
  },
  {
   "cell_type": "code",
   "execution_count": 123,
   "metadata": {},
   "outputs": [],
   "source": [
    "mypdf = open(\"KRGeschPDF/pdoc_660_1.pdf\", mode='rb')\n",
    "pdf_document = PyPDF2.PdfFileReader(mypdf)"
   ]
  },
  {
   "cell_type": "code",
   "execution_count": 124,
   "metadata": {},
   "outputs": [
    {
     "data": {
      "text/plain": [
       "1"
      ]
     },
     "execution_count": 124,
     "metadata": {},
     "output_type": "execute_result"
    }
   ],
   "source": [
    "pdf_document.numPages"
   ]
  },
  {
   "cell_type": "code",
   "execution_count": 125,
   "metadata": {
    "scrolled": true
   },
   "outputs": [
    {
     "name": "stdout",
     "output_type": "stream",
     "text": [
      "KANTON ZUGVORLAGE NR. 1226.1\n",
      "(Laufnummer 11456)\n",
      "POSTULAT VON GREGOR KUPPER, KARL BETSCHART \n",
      "UND THOMAS LÖTSCHER\n",
      "BETREFFEND STÄNDIGE VERTRETUNG IM VERWALTUNGSRAT DER\n",
      "INTERKANTONALEN UMWELTAGENTUR\n",
      "VOM 31. MÄRZ 2004\n",
      "Die Kantonsräte Gregor Kupper, Neuheim, Karl Betschart, Baar, und Thomas\n",
      "\n",
      "Lötscher, Neuheim, haben am 31. März 2004 folgendes \n",
      "Postulat\n",
      " eingereicht:\n",
      "Der Regierungsrat wird eingeladen, die nötigen Massnahmen zu treffen, damit der\n",
      "Kanton Zug ständig mit einem Mitglied im Verwaltungsrat der sich in Gründung\n",
      "\n",
      "befindenden interkantonalen Umweltagentur vertreten ist.\n",
      "Nachdem der Kantonsratsbeschluss betreffend Beitritt zur Interkantonalen Verein-\n",
      "\n",
      "barung über die Gründung einer interkantonalen Umweltagentur an der Kantonsrats-\n",
      "\n",
      "sitzung vom 29. April 2004 in 2. Lesung behandelt wird, ist das Postulat im Sinne von\n",
      "\n",
      "§ 39, Abs. 2 der Geschäftsordnung zusammen mit dem Hauptgeschäft \n",
      "sofort zu be-\n",
      "handeln und erheblich zu erklären.\n",
      "Begründung:Anlässlich der 1. Lesung des KRB betreffend den Beitritt zur Interkantonalen Verein-\n",
      "\n",
      "barung über die Gründung einer interkantonalen Umweltagentur ist durch diverse\n",
      "\n",
      "Fraktionssprecher und weitere Votanten klar zum Ausdruck gebracht worden, dass\n",
      "\n",
      "der Kantonsrat eine ständige Vertretung im Verwaltungsrat der Umweltagentur\n",
      "\n",
      "wünscht. Damit soll sichergestellt werden\n",
      ", dass der Kanton Zug seine Interessen\n",
      "nicht nur als Aktionär, sondern auch aktiv als Verwaltungsrat vertreten, und auf die\n",
      "\n",
      "Geschäftsführung der Umweltagentur unmittelbar Einfluss nehmen kann. Es wird auf\n",
      "\n",
      "das Protokoll der Kantonsratssitzung vom 25. März 2004 zum fraglichen Geschäft\n",
      "\n",
      "verwiesen.\n",
      "__________\n",
      "300/ks\n"
     ]
    }
   ],
   "source": [
    "first_page = pdf_document.getPage(0)\n",
    "print(first_page.extractText())"
   ]
  },
  {
   "cell_type": "code",
   "execution_count": 126,
   "metadata": {},
   "outputs": [],
   "source": [
    "front=first_page.extractText()"
   ]
  },
  {
   "cell_type": "code",
   "execution_count": 127,
   "metadata": {},
   "outputs": [
    {
     "data": {
      "text/plain": [
       "'KANTON ZUGVORLAGE NR. 1226.1\\n(Laufnummer 11456)\\nPOSTULAT VON GREGOR KUPPER, KARL BETSCHART \\nUND THOMAS LÖTSCHER\\nBETREFFEND STÄNDIGE VERTRETUNG IM VERWALTUNGSRAT DER\\nINTERKANTONALEN UMWELTAGENTUR\\nVOM 31. MÄRZ 2004\\nDie Kantonsräte Gregor Kupper, Neuheim, Karl Betschart, Baar, und Thomas\\n\\nLötscher, Neuheim, haben am 31. März 2004 folgendes \\nPostulat\\n eingereicht:\\nDer Regierungsrat wird eingeladen, die nötigen Massnahmen zu treffen, damit der\\nKanton Zug ständig mit einem Mitglied im Verwaltungsrat der sich in Gründung\\n\\nbefindenden interkantonalen Umweltagentur vertreten ist.\\nNachdem der Kantonsratsbeschluss betreffend Beitritt zur Interkantonalen Verein-\\n\\nbarung über die Gründung einer interkantonalen Umweltagentur an der Kantonsrats-\\n\\nsitzung vom 29. April 2004 in 2. Lesung behandelt wird, ist das Postulat im Sinne von\\n\\n§ 39, Abs. 2 der Geschäftsordnung zusammen mit dem Hauptgeschäft \\nsofort zu be-\\nhandeln und erheblich zu erklären.\\nBegründung:Anlässlich der 1. Lesung des KRB betreffend den Beitritt zur Interkantonalen Verein-\\n\\nbarung über die Gründung einer interkantonalen Umweltagentur ist durch diverse\\n\\nFraktionssprecher und weitere Votanten klar zum Ausdruck gebracht worden, dass\\n\\nder Kantonsrat eine ständige Vertretung im Verwaltungsrat der Umweltagentur\\n\\nwünscht. Damit soll sichergestellt werden\\n, dass der Kanton Zug seine Interessen\\nnicht nur als Aktionär, sondern auch aktiv als Verwaltungsrat vertreten, und auf die\\n\\nGeschäftsführung der Umweltagentur unmittelbar Einfluss nehmen kann. Es wird auf\\n\\ndas Protokoll der Kantonsratssitzung vom 25. März 2004 zum fraglichen Geschäft\\n\\nverwiesen.\\n__________\\n300/ks'"
      ]
     },
     "execution_count": 127,
     "metadata": {},
     "output_type": "execute_result"
    }
   ],
   "source": [
    "front"
   ]
  },
  {
   "cell_type": "markdown",
   "metadata": {},
   "source": [
    "# Jetzt Regex Baby Datum rausziehen (evtl auch gleich Namen)"
   ]
  },
  {
   "cell_type": "code",
   "execution_count": 140,
   "metadata": {},
   "outputs": [],
   "source": [
    "#nun will ich aus jedem PDF zum Einen die VorlagenNR rausziehen sowie Namen und Datum\n",
    "regex_vorlage= r\"VORLAGE.NR\\..(\\d*)\\.1\"\n",
    "regex_datum = r\"VOM.(\\d+\\..\\w*.\\d{4})\"\n",
    "regex_name=r\"\\bVON(.*UND.*)\"\n",
    "regex_name1= r\"\\bVON.(\\w*.\\w*\\b)\"\n",
    "regex_partei= r\"DER.(\\w*)\""
   ]
  },
  {
   "cell_type": "code",
   "execution_count": 35,
   "metadata": {},
   "outputs": [],
   "source": [
    "newlist = re.split(r\"\\b[\\n]\\b\", front, re.IGNORECASE) \n",
    "#Der Versuch, die ganze Sache zu splitten funktioniert nicht wie gewünscht. Er erkennt einige \\n nicht. Keine Ahnung"
   ]
  },
  {
   "cell_type": "code",
   "execution_count": 129,
   "metadata": {},
   "outputs": [],
   "source": [
    "dat_einr= re.findall(regex_datum, front)\n",
    "vorl_nr= re.findall(regex_vorlage, front)\n"
   ]
  },
  {
   "cell_type": "code",
   "execution_count": 130,
   "metadata": {},
   "outputs": [
    {
     "data": {
      "text/plain": [
       "['31. MÄRZ 2004']"
      ]
     },
     "execution_count": 130,
     "metadata": {},
     "output_type": "execute_result"
    }
   ],
   "source": [
    "dat_einr"
   ]
  },
  {
   "cell_type": "code",
   "execution_count": 131,
   "metadata": {},
   "outputs": [
    {
     "data": {
      "text/plain": [
       "['1226']"
      ]
     },
     "execution_count": 131,
     "metadata": {},
     "output_type": "execute_result"
    }
   ],
   "source": [
    "vorl_nr"
   ]
  },
  {
   "cell_type": "code",
   "execution_count": 112,
   "metadata": {},
   "outputs": [],
   "source": [
    "name_eing = re.findall(regex_partei, front)"
   ]
  },
  {
   "cell_type": "code",
   "execution_count": 113,
   "metadata": {
    "scrolled": true
   },
   "outputs": [
    {
     "data": {
      "text/plain": [
       "['BZUGES']"
      ]
     },
     "execution_count": 113,
     "metadata": {},
     "output_type": "execute_result"
    }
   ],
   "source": [
    "name_eing"
   ]
  },
  {
   "cell_type": "code",
   "execution_count": 143,
   "metadata": {},
   "outputs": [],
   "source": [
    "name_eing = re.findall(regex_name1, front)"
   ]
  },
  {
   "cell_type": "code",
   "execution_count": 144,
   "metadata": {},
   "outputs": [
    {
     "data": {
      "text/plain": [
       "['GREGOR KUPPER']"
      ]
     },
     "execution_count": 144,
     "metadata": {},
     "output_type": "execute_result"
    }
   ],
   "source": [
    "name_eing"
   ]
  },
  {
   "cell_type": "markdown",
   "metadata": {},
   "source": [
    "## hier will ich sagen, was er suchen soll: \n",
    "### Bin aber noch nicht sicher, ob das so funktioniert. Es will irgendwie nicht. aber ich habe es auch noch nicht geschafft, die Regex zu den mehreren Namen rauszufinden. "
   ]
  },
  {
   "cell_type": "code",
   "execution_count": 116,
   "metadata": {},
   "outputs": [],
   "source": [
    "\n",
    "#Name müsste irgendwie so rausgezogen werden:\n",
    "for i in front: \n",
    "    if regex_name in i == True:\n",
    "        name_eing = re.findall(regex_name, front) #wenn mehrer Namen da sind, dann sollen diese alle rausgenommen werden\n",
    "    else:\n",
    "        name_eing = re.findall(regex_name1, front) #ist nur ein Name da, Nur diesen nehmen.\n",
    "        if regex_name1 == False:\n",
    "            name_eing = re.findall(regex_partei, front) #falls es eine Partei ist"
   ]
  },
  {
   "cell_type": "code",
   "execution_count": 117,
   "metadata": {},
   "outputs": [
    {
     "data": {
      "text/plain": [
       "['ALOIS GÖSSI']"
      ]
     },
     "execution_count": 117,
     "metadata": {},
     "output_type": "execute_result"
    }
   ],
   "source": [
    "name_eing"
   ]
  },
  {
   "cell_type": "code",
   "execution_count": null,
   "metadata": {},
   "outputs": [],
   "source": []
  }
 ],
 "metadata": {
  "kernelspec": {
   "display_name": "Python 3",
   "language": "python",
   "name": "python3"
  },
  "language_info": {
   "codemirror_mode": {
    "name": "ipython",
    "version": 3
   },
   "file_extension": ".py",
   "mimetype": "text/x-python",
   "name": "python",
   "nbconvert_exporter": "python",
   "pygments_lexer": "ipython3",
   "version": "3.7.3"
  }
 },
 "nbformat": 4,
 "nbformat_minor": 2
}
