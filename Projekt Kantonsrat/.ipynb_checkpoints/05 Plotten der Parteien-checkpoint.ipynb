{
 "cells": [
  {
   "cell_type": "markdown",
   "metadata": {},
   "source": [
    "# Plott der Parteien\n",
    "- Alles anhand der Parteien sortieren\n",
    "- Danach alle Mehrfachnennungen rausschmeissen\n",
    "- Danach anschauen und anhand der Daten plotten."
   ]
  },
  {
   "cell_type": "code",
   "execution_count": 36,
   "metadata": {},
   "outputs": [],
   "source": [
    "%matplotlib inline\n",
    "import numpy as np\n",
    "import requests\n",
    "import pandas as pd\n",
    "from bs4 import BeautifulSoup\n",
    "from datetime import datetime\n",
    "\n",
    "import requests, zipfile, io #zum abspeichern von PDFs\n",
    "from tqdm import tqdm # Anzeigen des aktuellen Ladestandes\n",
    "import PyPDF2\n",
    "import re\n",
    "from os import listdir\n",
    "from os.path import isfile, join\n",
    "import locale\n",
    "import matplotlib.pyplot as plt"
   ]
  },
  {
   "cell_type": "code",
   "execution_count": 37,
   "metadata": {},
   "outputs": [],
   "source": [
    "df_tuti=pd.read_csv(\"KRFrames/df_tuti_Ganzes_Frame\")"
   ]
  },
  {
   "cell_type": "code",
   "execution_count": 38,
   "metadata": {},
   "outputs": [
    {
     "data": {
      "text/plain": [
       "(45, 7)"
      ]
     },
     "execution_count": 38,
     "metadata": {},
     "output_type": "execute_result"
    }
   ],
   "source": [
    "df_tuti[df_tuti[\"Geschäft\"].str.contains(\"FDP\")].shape"
   ]
  },
  {
   "cell_type": "code",
   "execution_count": 39,
   "metadata": {},
   "outputs": [
    {
     "data": {
      "text/html": [
       "<div>\n",
       "<style scoped>\n",
       "    .dataframe tbody tr th:only-of-type {\n",
       "        vertical-align: middle;\n",
       "    }\n",
       "\n",
       "    .dataframe tbody tr th {\n",
       "        vertical-align: top;\n",
       "    }\n",
       "\n",
       "    .dataframe thead th {\n",
       "        text-align: right;\n",
       "    }\n",
       "</style>\n",
       "<table border=\"1\" class=\"dataframe\">\n",
       "  <thead>\n",
       "    <tr style=\"text-align: right;\">\n",
       "      <th></th>\n",
       "      <th>Unnamed: 0</th>\n",
       "      <th>VorlageNR</th>\n",
       "      <th>Geschäft</th>\n",
       "      <th>Namenganz</th>\n",
       "      <th>P</th>\n",
       "      <th>Einreichedatum</th>\n",
       "      <th>Link Vorstoss-PDF</th>\n",
       "    </tr>\n",
       "  </thead>\n",
       "  <tbody>\n",
       "    <tr>\n",
       "      <td>0</td>\n",
       "      <td>0</td>\n",
       "      <td>3020</td>\n",
       "      <td>Postulat von Luzian Franzini und Esther Haas b...</td>\n",
       "      <td>Luzian Franzini</td>\n",
       "      <td>ALG</td>\n",
       "      <td>2019-10-11</td>\n",
       "      <td>3020-1-16168_Racial-Profiling.pdf</td>\n",
       "    </tr>\n",
       "    <tr>\n",
       "      <td>1</td>\n",
       "      <td>1</td>\n",
       "      <td>3020</td>\n",
       "      <td>Postulat von Luzian Franzini und Esther Haas b...</td>\n",
       "      <td>Esther Haas</td>\n",
       "      <td>ALG</td>\n",
       "      <td>2019-10-11</td>\n",
       "      <td>3020-1-16168_Racial-Profiling.pdf</td>\n",
       "    </tr>\n",
       "    <tr>\n",
       "      <td>2</td>\n",
       "      <td>2</td>\n",
       "      <td>3019</td>\n",
       "      <td>Motion von Luzian Franzini, Rita Hofer, Tabea ...</td>\n",
       "      <td>Luzian Franzini</td>\n",
       "      <td>ALG</td>\n",
       "      <td>2019-10-11</td>\n",
       "      <td>3019-1-16167_Chancengleichheit.pdf</td>\n",
       "    </tr>\n",
       "    <tr>\n",
       "      <td>3</td>\n",
       "      <td>3</td>\n",
       "      <td>3019</td>\n",
       "      <td>Motion von Luzian Franzini, Rita Hofer, Tabea ...</td>\n",
       "      <td>Rita Hofer</td>\n",
       "      <td>ALG</td>\n",
       "      <td>2019-10-11</td>\n",
       "      <td>3019-1-16167_Chancengleichheit.pdf</td>\n",
       "    </tr>\n",
       "    <tr>\n",
       "      <td>4</td>\n",
       "      <td>4</td>\n",
       "      <td>3019</td>\n",
       "      <td>Motion von Luzian Franzini, Rita Hofer, Tabea ...</td>\n",
       "      <td>Tabea Zimmermann Gibson</td>\n",
       "      <td>ALG</td>\n",
       "      <td>2019-10-11</td>\n",
       "      <td>3019-1-16167_Chancengleichheit.pdf</td>\n",
       "    </tr>\n",
       "    <tr>\n",
       "      <td>...</td>\n",
       "      <td>...</td>\n",
       "      <td>...</td>\n",
       "      <td>...</td>\n",
       "      <td>...</td>\n",
       "      <td>...</td>\n",
       "      <td>...</td>\n",
       "      <td>...</td>\n",
       "    </tr>\n",
       "    <tr>\n",
       "      <td>1988</td>\n",
       "      <td>1988</td>\n",
       "      <td>762</td>\n",
       "      <td>Motion der erweiterten Justizprüfungskommissio...</td>\n",
       "      <td>NaN</td>\n",
       "      <td>NaN</td>\n",
       "      <td>2005-10-31</td>\n",
       "      <td>pdoc_1047_1.pdf</td>\n",
       "    </tr>\n",
       "    <tr>\n",
       "      <td>1989</td>\n",
       "      <td>1989</td>\n",
       "      <td>666</td>\n",
       "      <td>Motion der Kommission Teilrevision Personalges...</td>\n",
       "      <td>NaN</td>\n",
       "      <td>NaN</td>\n",
       "      <td>2002-06-06</td>\n",
       "      <td>pdoc_55_1.pdf</td>\n",
       "    </tr>\n",
       "    <tr>\n",
       "      <td>1990</td>\n",
       "      <td>1990</td>\n",
       "      <td>304</td>\n",
       "      <td>Motion von Manuela Weichelt betreffend HIV-Prä...</td>\n",
       "      <td>Manuela Weichelt</td>\n",
       "      <td>ALG</td>\n",
       "      <td>2003-05-27</td>\n",
       "      <td>pdoc_50_1.pdf</td>\n",
       "    </tr>\n",
       "    <tr>\n",
       "      <td>1991</td>\n",
       "      <td>1991</td>\n",
       "      <td>282</td>\n",
       "      <td>Motion von Christoph Hohler betreffend Radstre...</td>\n",
       "      <td>Christoph Hohler</td>\n",
       "      <td>SP</td>\n",
       "      <td>NaN</td>\n",
       "      <td>NaN</td>\n",
       "    </tr>\n",
       "    <tr>\n",
       "      <td>1992</td>\n",
       "      <td>1992</td>\n",
       "      <td>81</td>\n",
       "      <td>Motion der vorberatenden Kommission betreffend...</td>\n",
       "      <td>NaN</td>\n",
       "      <td>NaN</td>\n",
       "      <td>2007-04-10</td>\n",
       "      <td>pdoc_1705_1.pdf</td>\n",
       "    </tr>\n",
       "  </tbody>\n",
       "</table>\n",
       "<p>1993 rows × 7 columns</p>\n",
       "</div>"
      ],
      "text/plain": [
       "      Unnamed: 0  VorlageNR  \\\n",
       "0              0       3020   \n",
       "1              1       3020   \n",
       "2              2       3019   \n",
       "3              3       3019   \n",
       "4              4       3019   \n",
       "...          ...        ...   \n",
       "1988        1988        762   \n",
       "1989        1989        666   \n",
       "1990        1990        304   \n",
       "1991        1991        282   \n",
       "1992        1992         81   \n",
       "\n",
       "                                               Geschäft  \\\n",
       "0     Postulat von Luzian Franzini und Esther Haas b...   \n",
       "1     Postulat von Luzian Franzini und Esther Haas b...   \n",
       "2     Motion von Luzian Franzini, Rita Hofer, Tabea ...   \n",
       "3     Motion von Luzian Franzini, Rita Hofer, Tabea ...   \n",
       "4     Motion von Luzian Franzini, Rita Hofer, Tabea ...   \n",
       "...                                                 ...   \n",
       "1988  Motion der erweiterten Justizprüfungskommissio...   \n",
       "1989  Motion der Kommission Teilrevision Personalges...   \n",
       "1990  Motion von Manuela Weichelt betreffend HIV-Prä...   \n",
       "1991  Motion von Christoph Hohler betreffend Radstre...   \n",
       "1992  Motion der vorberatenden Kommission betreffend...   \n",
       "\n",
       "                    Namenganz    P Einreichedatum  \\\n",
       "0             Luzian Franzini  ALG     2019-10-11   \n",
       "1                 Esther Haas  ALG     2019-10-11   \n",
       "2             Luzian Franzini  ALG     2019-10-11   \n",
       "3                  Rita Hofer  ALG     2019-10-11   \n",
       "4     Tabea Zimmermann Gibson  ALG     2019-10-11   \n",
       "...                       ...  ...            ...   \n",
       "1988                      NaN  NaN     2005-10-31   \n",
       "1989                      NaN  NaN     2002-06-06   \n",
       "1990         Manuela Weichelt  ALG     2003-05-27   \n",
       "1991         Christoph Hohler   SP            NaN   \n",
       "1992                      NaN  NaN     2007-04-10   \n",
       "\n",
       "                       Link Vorstoss-PDF  \n",
       "0      3020-1-16168_Racial-Profiling.pdf  \n",
       "1      3020-1-16168_Racial-Profiling.pdf  \n",
       "2     3019-1-16167_Chancengleichheit.pdf  \n",
       "3     3019-1-16167_Chancengleichheit.pdf  \n",
       "4     3019-1-16167_Chancengleichheit.pdf  \n",
       "...                                  ...  \n",
       "1988                     pdoc_1047_1.pdf  \n",
       "1989                       pdoc_55_1.pdf  \n",
       "1990                       pdoc_50_1.pdf  \n",
       "1991                                 NaN  \n",
       "1992                     pdoc_1705_1.pdf  \n",
       "\n",
       "[1993 rows x 7 columns]"
      ]
     },
     "execution_count": 39,
     "metadata": {},
     "output_type": "execute_result"
    }
   ],
   "source": [
    "df_tuti"
   ]
  },
  {
   "cell_type": "code",
   "execution_count": 40,
   "metadata": {},
   "outputs": [
    {
     "data": {
      "text/html": [
       "<div>\n",
       "<style scoped>\n",
       "    .dataframe tbody tr th:only-of-type {\n",
       "        vertical-align: middle;\n",
       "    }\n",
       "\n",
       "    .dataframe tbody tr th {\n",
       "        vertical-align: top;\n",
       "    }\n",
       "\n",
       "    .dataframe thead th {\n",
       "        text-align: right;\n",
       "    }\n",
       "</style>\n",
       "<table border=\"1\" class=\"dataframe\">\n",
       "  <thead>\n",
       "    <tr style=\"text-align: right;\">\n",
       "      <th></th>\n",
       "      <th>Unnamed: 0</th>\n",
       "      <th>VorlageNR</th>\n",
       "      <th>Geschäft</th>\n",
       "      <th>Namenganz</th>\n",
       "      <th>P</th>\n",
       "      <th>Einreichedatum</th>\n",
       "      <th>Link Vorstoss-PDF</th>\n",
       "    </tr>\n",
       "  </thead>\n",
       "  <tbody>\n",
       "    <tr>\n",
       "      <td>0</td>\n",
       "      <td>0</td>\n",
       "      <td>3020</td>\n",
       "      <td>Postulat von Luzian Franzini und Esther Haas b...</td>\n",
       "      <td>Luzian Franzini</td>\n",
       "      <td>ALG</td>\n",
       "      <td>2019-10-11</td>\n",
       "      <td>3020-1-16168_Racial-Profiling.pdf</td>\n",
       "    </tr>\n",
       "    <tr>\n",
       "      <td>733</td>\n",
       "      <td>733</td>\n",
       "      <td>2413</td>\n",
       "      <td>Postulat von Andreas Lustenberger betreffend R...</td>\n",
       "      <td>Andreas Lustenberger</td>\n",
       "      <td>ALG</td>\n",
       "      <td>2014-07-06</td>\n",
       "      <td>14724_2413_1_Wanderwege.pdf</td>\n",
       "    </tr>\n",
       "    <tr>\n",
       "      <td>1685</td>\n",
       "      <td>1685</td>\n",
       "      <td>1380</td>\n",
       "      <td>Interpellation der Alternativen Fraktion betre...</td>\n",
       "      <td>Alternativen Fraktion</td>\n",
       "      <td>ALG</td>\n",
       "      <td>2017-02-26</td>\n",
       "      <td>970</td>\n",
       "    </tr>\n",
       "    <tr>\n",
       "      <td>1689</td>\n",
       "      <td>1689</td>\n",
       "      <td>1378</td>\n",
       "      <td>Motion von Hans Christen, Eusebius Spescha, Be...</td>\n",
       "      <td>Martin Stuber</td>\n",
       "      <td>ALG</td>\n",
       "      <td>2005-10-03</td>\n",
       "      <td>pdoc_1011_1.pdf</td>\n",
       "    </tr>\n",
       "    <tr>\n",
       "      <td>1692</td>\n",
       "      <td>1692</td>\n",
       "      <td>1375</td>\n",
       "      <td>Interpellation von Jean-Pierre Prodolliet und ...</td>\n",
       "      <td>Stefan Gisler</td>\n",
       "      <td>ALG</td>\n",
       "      <td>2005-09-26</td>\n",
       "      <td>pdoc_1013_1.pdf</td>\n",
       "    </tr>\n",
       "    <tr>\n",
       "      <td>...</td>\n",
       "      <td>...</td>\n",
       "      <td>...</td>\n",
       "      <td>...</td>\n",
       "      <td>...</td>\n",
       "      <td>...</td>\n",
       "      <td>...</td>\n",
       "      <td>...</td>\n",
       "    </tr>\n",
       "    <tr>\n",
       "      <td>1984</td>\n",
       "      <td>1984</td>\n",
       "      <td>823</td>\n",
       "      <td>Motion der Kommission Parlamentsreform betreff...</td>\n",
       "      <td>NaN</td>\n",
       "      <td>NaN</td>\n",
       "      <td>2005-03-22</td>\n",
       "      <td>pdoc_851_1.pdf</td>\n",
       "    </tr>\n",
       "    <tr>\n",
       "      <td>1985</td>\n",
       "      <td>1985</td>\n",
       "      <td>822</td>\n",
       "      <td>Motion der Kommission Parlamentsreform betreff...</td>\n",
       "      <td>NaN</td>\n",
       "      <td>NaN</td>\n",
       "      <td>2005-04-26</td>\n",
       "      <td>pdoc_879_1.pdf</td>\n",
       "    </tr>\n",
       "    <tr>\n",
       "      <td>1988</td>\n",
       "      <td>1988</td>\n",
       "      <td>762</td>\n",
       "      <td>Motion der erweiterten Justizprüfungskommissio...</td>\n",
       "      <td>NaN</td>\n",
       "      <td>NaN</td>\n",
       "      <td>2005-10-31</td>\n",
       "      <td>pdoc_1047_1.pdf</td>\n",
       "    </tr>\n",
       "    <tr>\n",
       "      <td>1989</td>\n",
       "      <td>1989</td>\n",
       "      <td>666</td>\n",
       "      <td>Motion der Kommission Teilrevision Personalges...</td>\n",
       "      <td>NaN</td>\n",
       "      <td>NaN</td>\n",
       "      <td>2002-06-06</td>\n",
       "      <td>pdoc_55_1.pdf</td>\n",
       "    </tr>\n",
       "    <tr>\n",
       "      <td>1992</td>\n",
       "      <td>1992</td>\n",
       "      <td>81</td>\n",
       "      <td>Motion der vorberatenden Kommission betreffend...</td>\n",
       "      <td>NaN</td>\n",
       "      <td>NaN</td>\n",
       "      <td>2007-04-10</td>\n",
       "      <td>pdoc_1705_1.pdf</td>\n",
       "    </tr>\n",
       "  </tbody>\n",
       "</table>\n",
       "<p>1993 rows × 7 columns</p>\n",
       "</div>"
      ],
      "text/plain": [
       "      Unnamed: 0  VorlageNR  \\\n",
       "0              0       3020   \n",
       "733          733       2413   \n",
       "1685        1685       1380   \n",
       "1689        1689       1378   \n",
       "1692        1692       1375   \n",
       "...          ...        ...   \n",
       "1984        1984        823   \n",
       "1985        1985        822   \n",
       "1988        1988        762   \n",
       "1989        1989        666   \n",
       "1992        1992         81   \n",
       "\n",
       "                                               Geschäft  \\\n",
       "0     Postulat von Luzian Franzini und Esther Haas b...   \n",
       "733   Postulat von Andreas Lustenberger betreffend R...   \n",
       "1685  Interpellation der Alternativen Fraktion betre...   \n",
       "1689  Motion von Hans Christen, Eusebius Spescha, Be...   \n",
       "1692  Interpellation von Jean-Pierre Prodolliet und ...   \n",
       "...                                                 ...   \n",
       "1984  Motion der Kommission Parlamentsreform betreff...   \n",
       "1985  Motion der Kommission Parlamentsreform betreff...   \n",
       "1988  Motion der erweiterten Justizprüfungskommissio...   \n",
       "1989  Motion der Kommission Teilrevision Personalges...   \n",
       "1992  Motion der vorberatenden Kommission betreffend...   \n",
       "\n",
       "                  Namenganz    P Einreichedatum  \\\n",
       "0           Luzian Franzini  ALG     2019-10-11   \n",
       "733    Andreas Lustenberger  ALG     2014-07-06   \n",
       "1685  Alternativen Fraktion  ALG     2017-02-26   \n",
       "1689          Martin Stuber  ALG     2005-10-03   \n",
       "1692          Stefan Gisler  ALG     2005-09-26   \n",
       "...                     ...  ...            ...   \n",
       "1984                    NaN  NaN     2005-03-22   \n",
       "1985                    NaN  NaN     2005-04-26   \n",
       "1988                    NaN  NaN     2005-10-31   \n",
       "1989                    NaN  NaN     2002-06-06   \n",
       "1992                    NaN  NaN     2007-04-10   \n",
       "\n",
       "                      Link Vorstoss-PDF  \n",
       "0     3020-1-16168_Racial-Profiling.pdf  \n",
       "733         14724_2413_1_Wanderwege.pdf  \n",
       "1685                                970  \n",
       "1689                    pdoc_1011_1.pdf  \n",
       "1692                    pdoc_1013_1.pdf  \n",
       "...                                 ...  \n",
       "1984                     pdoc_851_1.pdf  \n",
       "1985                     pdoc_879_1.pdf  \n",
       "1988                    pdoc_1047_1.pdf  \n",
       "1989                      pdoc_55_1.pdf  \n",
       "1992                    pdoc_1705_1.pdf  \n",
       "\n",
       "[1993 rows x 7 columns]"
      ]
     },
     "execution_count": 40,
     "metadata": {},
     "output_type": "execute_result"
    }
   ],
   "source": [
    "# Nun sortieren nach Parteien\n",
    "df1=df_tuti.sort_values(\"P\")\n",
    "df1"
   ]
  },
  {
   "cell_type": "code",
   "execution_count": 41,
   "metadata": {
    "scrolled": true
   },
   "outputs": [],
   "source": [
    "#Voila, denke das stimmt - es sind rund 800 Vorlagen weniger. Also mehr als ein Drittel weniger.\n",
    "df2=df1.drop_duplicates(subset=['VorlageNR', 'P'], keep=False)"
   ]
  },
  {
   "cell_type": "code",
   "execution_count": 42,
   "metadata": {},
   "outputs": [
    {
     "data": {
      "text/html": [
       "<div>\n",
       "<style scoped>\n",
       "    .dataframe tbody tr th:only-of-type {\n",
       "        vertical-align: middle;\n",
       "    }\n",
       "\n",
       "    .dataframe tbody tr th {\n",
       "        vertical-align: top;\n",
       "    }\n",
       "\n",
       "    .dataframe thead th {\n",
       "        text-align: right;\n",
       "    }\n",
       "</style>\n",
       "<table border=\"1\" class=\"dataframe\">\n",
       "  <thead>\n",
       "    <tr style=\"text-align: right;\">\n",
       "      <th></th>\n",
       "      <th>Unnamed: 0</th>\n",
       "      <th>VorlageNR</th>\n",
       "      <th>Geschäft</th>\n",
       "      <th>Namenganz</th>\n",
       "      <th>P</th>\n",
       "      <th>Einreichedatum</th>\n",
       "      <th>Link Vorstoss-PDF</th>\n",
       "    </tr>\n",
       "  </thead>\n",
       "  <tbody>\n",
       "    <tr>\n",
       "      <td>733</td>\n",
       "      <td>733</td>\n",
       "      <td>2413</td>\n",
       "      <td>Postulat von Andreas Lustenberger betreffend R...</td>\n",
       "      <td>Andreas Lustenberger</td>\n",
       "      <td>ALG</td>\n",
       "      <td>2014-07-06</td>\n",
       "      <td>14724_2413_1_Wanderwege.pdf</td>\n",
       "    </tr>\n",
       "    <tr>\n",
       "      <td>1685</td>\n",
       "      <td>1685</td>\n",
       "      <td>1380</td>\n",
       "      <td>Interpellation der Alternativen Fraktion betre...</td>\n",
       "      <td>Alternativen Fraktion</td>\n",
       "      <td>ALG</td>\n",
       "      <td>2017-02-26</td>\n",
       "      <td>970</td>\n",
       "    </tr>\n",
       "    <tr>\n",
       "      <td>1689</td>\n",
       "      <td>1689</td>\n",
       "      <td>1378</td>\n",
       "      <td>Motion von Hans Christen, Eusebius Spescha, Be...</td>\n",
       "      <td>Martin Stuber</td>\n",
       "      <td>ALG</td>\n",
       "      <td>2005-10-03</td>\n",
       "      <td>pdoc_1011_1.pdf</td>\n",
       "    </tr>\n",
       "    <tr>\n",
       "      <td>1692</td>\n",
       "      <td>1692</td>\n",
       "      <td>1375</td>\n",
       "      <td>Interpellation von Jean-Pierre Prodolliet und ...</td>\n",
       "      <td>Stefan Gisler</td>\n",
       "      <td>ALG</td>\n",
       "      <td>2005-09-26</td>\n",
       "      <td>pdoc_1013_1.pdf</td>\n",
       "    </tr>\n",
       "    <tr>\n",
       "      <td>339</td>\n",
       "      <td>339</td>\n",
       "      <td>2753</td>\n",
       "      <td>Interpellation der Fraktion Alternative - die ...</td>\n",
       "      <td>Alternativen Fraktion</td>\n",
       "      <td>ALG</td>\n",
       "      <td>2017-05-31</td>\n",
       "      <td>2753-1-15456_Menschenrechtsverletzungen.pdf</td>\n",
       "    </tr>\n",
       "    <tr>\n",
       "      <td>...</td>\n",
       "      <td>...</td>\n",
       "      <td>...</td>\n",
       "      <td>...</td>\n",
       "      <td>...</td>\n",
       "      <td>...</td>\n",
       "      <td>...</td>\n",
       "      <td>...</td>\n",
       "    </tr>\n",
       "    <tr>\n",
       "      <td>1984</td>\n",
       "      <td>1984</td>\n",
       "      <td>823</td>\n",
       "      <td>Motion der Kommission Parlamentsreform betreff...</td>\n",
       "      <td>NaN</td>\n",
       "      <td>NaN</td>\n",
       "      <td>2005-03-22</td>\n",
       "      <td>pdoc_851_1.pdf</td>\n",
       "    </tr>\n",
       "    <tr>\n",
       "      <td>1985</td>\n",
       "      <td>1985</td>\n",
       "      <td>822</td>\n",
       "      <td>Motion der Kommission Parlamentsreform betreff...</td>\n",
       "      <td>NaN</td>\n",
       "      <td>NaN</td>\n",
       "      <td>2005-04-26</td>\n",
       "      <td>pdoc_879_1.pdf</td>\n",
       "    </tr>\n",
       "    <tr>\n",
       "      <td>1988</td>\n",
       "      <td>1988</td>\n",
       "      <td>762</td>\n",
       "      <td>Motion der erweiterten Justizprüfungskommissio...</td>\n",
       "      <td>NaN</td>\n",
       "      <td>NaN</td>\n",
       "      <td>2005-10-31</td>\n",
       "      <td>pdoc_1047_1.pdf</td>\n",
       "    </tr>\n",
       "    <tr>\n",
       "      <td>1989</td>\n",
       "      <td>1989</td>\n",
       "      <td>666</td>\n",
       "      <td>Motion der Kommission Teilrevision Personalges...</td>\n",
       "      <td>NaN</td>\n",
       "      <td>NaN</td>\n",
       "      <td>2002-06-06</td>\n",
       "      <td>pdoc_55_1.pdf</td>\n",
       "    </tr>\n",
       "    <tr>\n",
       "      <td>1992</td>\n",
       "      <td>1992</td>\n",
       "      <td>81</td>\n",
       "      <td>Motion der vorberatenden Kommission betreffend...</td>\n",
       "      <td>NaN</td>\n",
       "      <td>NaN</td>\n",
       "      <td>2007-04-10</td>\n",
       "      <td>pdoc_1705_1.pdf</td>\n",
       "    </tr>\n",
       "  </tbody>\n",
       "</table>\n",
       "<p>1193 rows × 7 columns</p>\n",
       "</div>"
      ],
      "text/plain": [
       "      Unnamed: 0  VorlageNR  \\\n",
       "733          733       2413   \n",
       "1685        1685       1380   \n",
       "1689        1689       1378   \n",
       "1692        1692       1375   \n",
       "339          339       2753   \n",
       "...          ...        ...   \n",
       "1984        1984        823   \n",
       "1985        1985        822   \n",
       "1988        1988        762   \n",
       "1989        1989        666   \n",
       "1992        1992         81   \n",
       "\n",
       "                                               Geschäft  \\\n",
       "733   Postulat von Andreas Lustenberger betreffend R...   \n",
       "1685  Interpellation der Alternativen Fraktion betre...   \n",
       "1689  Motion von Hans Christen, Eusebius Spescha, Be...   \n",
       "1692  Interpellation von Jean-Pierre Prodolliet und ...   \n",
       "339   Interpellation der Fraktion Alternative - die ...   \n",
       "...                                                 ...   \n",
       "1984  Motion der Kommission Parlamentsreform betreff...   \n",
       "1985  Motion der Kommission Parlamentsreform betreff...   \n",
       "1988  Motion der erweiterten Justizprüfungskommissio...   \n",
       "1989  Motion der Kommission Teilrevision Personalges...   \n",
       "1992  Motion der vorberatenden Kommission betreffend...   \n",
       "\n",
       "                  Namenganz    P Einreichedatum  \\\n",
       "733    Andreas Lustenberger  ALG     2014-07-06   \n",
       "1685  Alternativen Fraktion  ALG     2017-02-26   \n",
       "1689          Martin Stuber  ALG     2005-10-03   \n",
       "1692          Stefan Gisler  ALG     2005-09-26   \n",
       "339   Alternativen Fraktion  ALG     2017-05-31   \n",
       "...                     ...  ...            ...   \n",
       "1984                    NaN  NaN     2005-03-22   \n",
       "1985                    NaN  NaN     2005-04-26   \n",
       "1988                    NaN  NaN     2005-10-31   \n",
       "1989                    NaN  NaN     2002-06-06   \n",
       "1992                    NaN  NaN     2007-04-10   \n",
       "\n",
       "                                Link Vorstoss-PDF  \n",
       "733                   14724_2413_1_Wanderwege.pdf  \n",
       "1685                                          970  \n",
       "1689                              pdoc_1011_1.pdf  \n",
       "1692                              pdoc_1013_1.pdf  \n",
       "339   2753-1-15456_Menschenrechtsverletzungen.pdf  \n",
       "...                                           ...  \n",
       "1984                               pdoc_851_1.pdf  \n",
       "1985                               pdoc_879_1.pdf  \n",
       "1988                              pdoc_1047_1.pdf  \n",
       "1989                                pdoc_55_1.pdf  \n",
       "1992                              pdoc_1705_1.pdf  \n",
       "\n",
       "[1193 rows x 7 columns]"
      ]
     },
     "execution_count": 42,
     "metadata": {},
     "output_type": "execute_result"
    }
   ],
   "source": [
    "df2"
   ]
  },
  {
   "cell_type": "code",
   "execution_count": 43,
   "metadata": {},
   "outputs": [],
   "source": [
    "df3=df2.head(1141) #Entferne jene ohne Partei"
   ]
  },
  {
   "cell_type": "code",
   "execution_count": 45,
   "metadata": {},
   "outputs": [],
   "source": [
    "df4=df3.set_index(pd.DatetimeIndex(df3[\"Einreichedatum\"]))\n",
    "                 \n"
   ]
  },
  {
   "cell_type": "code",
   "execution_count": 46,
   "metadata": {},
   "outputs": [],
   "source": [
    "df5=df4.sort_index().head(1031)"
   ]
  },
  {
   "cell_type": "code",
   "execution_count": 48,
   "metadata": {},
   "outputs": [
    {
     "data": {
      "text/plain": [
       "CVP    226\n",
       "SVP    211\n",
       "ALG    207\n",
       "SP     180\n",
       "FDP    138\n",
       "GLP     41\n",
       "CSP     16\n",
       "pl       8\n",
       "SGA      4\n",
       "Name: P, dtype: int64"
      ]
     },
     "execution_count": 48,
     "metadata": {},
     "output_type": "execute_result"
    }
   ],
   "source": [
    "#Hier die Anzahl Nennungen der einzelnen Parteien\n",
    "df5[\"P\"].value_counts()"
   ]
  },
  {
   "cell_type": "code",
   "execution_count": 49,
   "metadata": {},
   "outputs": [],
   "source": [
    "df5=df4.head(1031)"
   ]
  },
  {
   "cell_type": "code",
   "execution_count": 50,
   "metadata": {},
   "outputs": [
    {
     "data": {
      "text/plain": [
       "CVP    257\n",
       "ALG    223\n",
       "SP     190\n",
       "FDP    160\n",
       "SVP    137\n",
       "GLP     44\n",
       "CSP     16\n",
       "SGA      4\n",
       "Name: P, dtype: int64"
      ]
     },
     "execution_count": 50,
     "metadata": {},
     "output_type": "execute_result"
    }
   ],
   "source": [
    "df5[\"P\"].value_counts() # scheint einigermassen verteilt zu sein"
   ]
  },
  {
   "cell_type": "code",
   "execution_count": 51,
   "metadata": {},
   "outputs": [
    {
     "data": {
      "text/plain": [
       "Einreichedatum\n",
       "2014-07-06    ALG\n",
       "2017-02-26    ALG\n",
       "2005-10-03    ALG\n",
       "2005-09-26    ALG\n",
       "2017-05-31    ALG\n",
       "             ... \n",
       "2014-06-19    SVP\n",
       "2014-07-08    SVP\n",
       "2016-02-28    SVP\n",
       "2007-05-04    SVP\n",
       "2007-05-07    SVP\n",
       "Name: P, Length: 1031, dtype: object"
      ]
     },
     "execution_count": 51,
     "metadata": {},
     "output_type": "execute_result"
    }
   ],
   "source": [
    "df_pa=df5[\"P\"]#ich versuchs mal mit nur den parteien und den Daten\n",
    "df_pa"
   ]
  },
  {
   "cell_type": "code",
   "execution_count": 52,
   "metadata": {},
   "outputs": [],
   "source": [
    "# Nun gehts ans Plotten - mal schauen ob das geht. "
   ]
  },
  {
   "cell_type": "code",
   "execution_count": 53,
   "metadata": {},
   "outputs": [
    {
     "data": {
      "text/plain": [
       "Einreichedatum\n",
       "1982-12-31    3\n",
       "1983-01-31    0\n",
       "1983-02-28    0\n",
       "1983-03-31    0\n",
       "1983-04-30    0\n",
       "             ..\n",
       "2019-05-31    9\n",
       "2019-06-30    4\n",
       "2019-07-31    7\n",
       "2019-08-31    3\n",
       "2019-09-30    3\n",
       "Name: P, Length: 442, dtype: int64"
      ]
     },
     "execution_count": 53,
     "metadata": {},
     "output_type": "execute_result"
    }
   ],
   "source": [
    "df_pa.resample(\"M\").count()# das geht nicht - ist fast dasselbe wie bei der gesamtauswertung"
   ]
  },
  {
   "cell_type": "markdown",
   "metadata": {},
   "source": [
    "# Die Ergebnisse der einzelnen Parteien\n",
    "Jedoch noch einzeln"
   ]
  },
  {
   "cell_type": "code",
   "execution_count": 133,
   "metadata": {},
   "outputs": [
    {
     "data": {
      "text/plain": [
       "<matplotlib.axes._subplots.AxesSubplot at 0x17a20464860>"
      ]
     },
     "execution_count": 133,
     "metadata": {},
     "output_type": "execute_result"
    },
    {
     "data": {
      "image/png": "[encoded data removed]",
      "text/plain": [
       "<Figure size 432x288 with 1 Axes>"
      ]
     },
     "metadata": {
      "needs_background": "light"
     },
     "output_type": "display_data"
    }
   ],
   "source": [
    "dfalg=df5[df5[\"P\"].str.contains(\"ALG\")]\n",
    "dfalgz=dfalg[[\"Geschäft\"]]\n",
    "dfalgz[\"2009\":].resample(\"A\").count().plot()"
   ]
  },
  {
   "cell_type": "code",
   "execution_count": 138,
   "metadata": {},
   "outputs": [
    {
     "data": {
      "text/plain": [
       "<matplotlib.axes._subplots.AxesSubplot at 0x17a20a36f98>"
      ]
     },
     "execution_count": 138,
     "metadata": {},
     "output_type": "execute_result"
    },
    {
     "data": {
      "image/png": "[encoded data removed]",
      "text/plain": [
       "<Figure size 432x288 with 1 Axes>"
      ]
     },
     "metadata": {
      "needs_background": "light"
     },
     "output_type": "display_data"
    }
   ],
   "source": [
    "dfsvp=df5[df5[\"P\"].str.contains(\"SVP\")]\n",
    "dfsvpz=dfsvp[[\"Geschäft\"]]\n",
    "dfsvpz[\"2009\":].resample(\"Q\").count().plot()"
   ]
  },
  {
   "cell_type": "code",
   "execution_count": 135,
   "metadata": {},
   "outputs": [
    {
     "data": {
      "text/plain": [
       "<matplotlib.axes._subplots.AxesSubplot at 0x17a2061cda0>"
      ]
     },
     "execution_count": 135,
     "metadata": {},
     "output_type": "execute_result"
    },
    {
     "data": {
      "image/png": "[encoded data removed]",
      "text/plain": [
       "<Figure size 432x288 with 1 Axes>"
      ]
     },
     "metadata": {
      "needs_background": "light"
     },
     "output_type": "display_data"
    }
   ],
   "source": [
    "dfcvp=df5[df5[\"P\"].str.contains(\"CVP\")]\n",
    "dfcvpz=dfcvp[[\"Geschäft\"]]\n",
    "dfcvpz[\"2009\":].resample(\"A\").count().plot()"
   ]
  },
  {
   "cell_type": "code",
   "execution_count": 94,
   "metadata": {},
   "outputs": [
    {
     "data": {
      "text/plain": [
       "<matplotlib.axes._subplots.AxesSubplot at 0x15cdf836e48>"
      ]
     },
     "execution_count": 94,
     "metadata": {},
     "output_type": "execute_result"
    },
    {
     "data": {
      "image/png": "[encoded data removed]",
      "text/plain": [
       "<Figure size 432x288 with 1 Axes>"
      ]
     },
     "metadata": {
      "needs_background": "light"
     },
     "output_type": "display_data"
    }
   ],
   "source": [
    "dffdp=df5[df5[\"P\"].str.contains(\"FDP\")]\n",
    "dffdpz=dffdp[[\"Geschäft\"]]\n",
    "dffdpz[\"2009\":].resample(\"Q\").count().plot()"
   ]
  },
  {
   "cell_type": "code",
   "execution_count": 95,
   "metadata": {},
   "outputs": [
    {
     "data": {
      "text/plain": [
       "<matplotlib.axes._subplots.AxesSubplot at 0x15cdf90d668>"
      ]
     },
     "execution_count": 95,
     "metadata": {},
     "output_type": "execute_result"
    },
    {
     "data": {
      "image/png": "[encoded data removed]",
      "text/plain": [
       "<Figure size 432x288 with 1 Axes>"
      ]
     },
     "metadata": {
      "needs_background": "light"
     },
     "output_type": "display_data"
    }
   ],
   "source": [
    "dfsp=df5[df5[\"P\"].str.contains(\"SP\")]\n",
    "dfspz=dfsp[[\"Geschäft\"]]\n",
    "dfspz[\"2009\":].resample(\"Q\").count().plot()"
   ]
  },
  {
   "cell_type": "markdown",
   "metadata": {},
   "source": [
    "# Nun müsste ich diese zusammenführen\n",
    "aber wie nur - geht es wenn ich die Frames einzeln abspeichere?"
   ]
  },
  {
   "cell_type": "code",
   "execution_count": 103,
   "metadata": {},
   "outputs": [],
   "source": [
    "svp=dfsvpz[\"2009\":].resample(\"Q\").count()\n",
    "sp=dfspz[\"2009\":].resample(\"Q\").count()\n",
    "alg=dfalgz[\"2009\":].resample(\"Q\").count()"
   ]
  },
  {
   "cell_type": "code",
   "execution_count": 104,
   "metadata": {},
   "outputs": [
    {
     "data": {
      "text/plain": [
       "<matplotlib.axes._subplots.AxesSubplot at 0x15cdfca6668>"
      ]
     },
     "execution_count": 104,
     "metadata": {},
     "output_type": "execute_result"
    },
    {
     "data": {
      "image/png": "[encoded data removed]",
      "text/plain": [
       "<Figure size 432x288 with 1 Axes>"
      ]
     },
     "metadata": {
      "needs_background": "light"
     },
     "output_type": "display_data"
    }
   ],
   "source": [
    "ax = svp.plot()\n",
    "alg.plot(ax=ax) #zwei zusammen. ok vielleicht noch mit unstack"
   ]
  },
  {
   "cell_type": "markdown",
   "metadata": {},
   "source": [
    "# Alle miteinander plotten\n",
    "Dazu versuche ich die Parteien zu Columns zu machen und das Datum wieder als Zeile"
   ]
  },
  {
   "cell_type": "code",
   "execution_count": null,
   "metadata": {},
   "outputs": [],
   "source": [
    "# Ich versuche es mal mit en parteien einzeln\n",
    "df_umgekehrt_m=df5.groupby(\"P\").resample(\"M\").count().unstack()\n",
    "df_umgekehrt_q=df5.groupby(\"P\").resample(\"Q\").count().unstack()\n",
    "df_umgekehrt_a=df5.groupby(\"P\").resample(\"A\").count().unstack()\n",
    "df_umge=df_umgekehrt_a[[\"Unnamed: 0\"]] #hier kann ich nun wähen welches DF. also wie resamplet"
   ]
  },
  {
   "cell_type": "code",
   "execution_count": 120,
   "metadata": {},
   "outputs": [],
   "source": [
    "df_swi=df_umge.T #hier mache ich die Zeilen zu Spalten und umgekehrt."
   ]
  },
  {
   "cell_type": "code",
   "execution_count": 128,
   "metadata": {},
   "outputs": [
    {
     "data": {
      "text/html": [
       "<div>\n",
       "<style scoped>\n",
       "    .dataframe tbody tr th:only-of-type {\n",
       "        vertical-align: middle;\n",
       "    }\n",
       "\n",
       "    .dataframe tbody tr th {\n",
       "        vertical-align: top;\n",
       "    }\n",
       "\n",
       "    .dataframe thead th {\n",
       "        text-align: right;\n",
       "    }\n",
       "</style>\n",
       "<table border=\"1\" class=\"dataframe\">\n",
       "  <thead>\n",
       "    <tr style=\"text-align: right;\">\n",
       "      <th></th>\n",
       "      <th>P</th>\n",
       "      <th>ALG</th>\n",
       "      <th>CSP</th>\n",
       "      <th>CVP</th>\n",
       "      <th>FDP</th>\n",
       "      <th>GLP</th>\n",
       "      <th>SGA</th>\n",
       "      <th>SP</th>\n",
       "      <th>SVP</th>\n",
       "    </tr>\n",
       "    <tr>\n",
       "      <th></th>\n",
       "      <th>Einreichedatum</th>\n",
       "      <th></th>\n",
       "      <th></th>\n",
       "      <th></th>\n",
       "      <th></th>\n",
       "      <th></th>\n",
       "      <th></th>\n",
       "      <th></th>\n",
       "      <th></th>\n",
       "    </tr>\n",
       "  </thead>\n",
       "  <tbody>\n",
       "    <tr>\n",
       "      <td rowspan=\"5\" valign=\"top\">Unnamed: 0</td>\n",
       "      <td>1982-12-31</td>\n",
       "      <td>NaN</td>\n",
       "      <td>NaN</td>\n",
       "      <td>1.0</td>\n",
       "      <td>1.0</td>\n",
       "      <td>NaN</td>\n",
       "      <td>NaN</td>\n",
       "      <td>NaN</td>\n",
       "      <td>1.0</td>\n",
       "    </tr>\n",
       "    <tr>\n",
       "      <td>1983-12-31</td>\n",
       "      <td>NaN</td>\n",
       "      <td>NaN</td>\n",
       "      <td>0.0</td>\n",
       "      <td>0.0</td>\n",
       "      <td>NaN</td>\n",
       "      <td>NaN</td>\n",
       "      <td>NaN</td>\n",
       "      <td>0.0</td>\n",
       "    </tr>\n",
       "    <tr>\n",
       "      <td>1984-12-31</td>\n",
       "      <td>NaN</td>\n",
       "      <td>NaN</td>\n",
       "      <td>0.0</td>\n",
       "      <td>0.0</td>\n",
       "      <td>NaN</td>\n",
       "      <td>NaN</td>\n",
       "      <td>NaN</td>\n",
       "      <td>0.0</td>\n",
       "    </tr>\n",
       "    <tr>\n",
       "      <td>1985-12-31</td>\n",
       "      <td>NaN</td>\n",
       "      <td>NaN</td>\n",
       "      <td>0.0</td>\n",
       "      <td>0.0</td>\n",
       "      <td>NaN</td>\n",
       "      <td>NaN</td>\n",
       "      <td>NaN</td>\n",
       "      <td>0.0</td>\n",
       "    </tr>\n",
       "    <tr>\n",
       "      <td>1986-12-31</td>\n",
       "      <td>NaN</td>\n",
       "      <td>NaN</td>\n",
       "      <td>0.0</td>\n",
       "      <td>0.0</td>\n",
       "      <td>NaN</td>\n",
       "      <td>NaN</td>\n",
       "      <td>NaN</td>\n",
       "      <td>0.0</td>\n",
       "    </tr>\n",
       "  </tbody>\n",
       "</table>\n",
       "</div>"
      ],
      "text/plain": [
       "P                          ALG  CSP  CVP  FDP  GLP  SGA  SP  SVP\n",
       "           Einreichedatum                                       \n",
       "Unnamed: 0 1982-12-31      NaN  NaN  1.0  1.0  NaN  NaN NaN  1.0\n",
       "           1983-12-31      NaN  NaN  0.0  0.0  NaN  NaN NaN  0.0\n",
       "           1984-12-31      NaN  NaN  0.0  0.0  NaN  NaN NaN  0.0\n",
       "           1985-12-31      NaN  NaN  0.0  0.0  NaN  NaN NaN  0.0\n",
       "           1986-12-31      NaN  NaN  0.0  0.0  NaN  NaN NaN  0.0"
      ]
     },
     "execution_count": 128,
     "metadata": {},
     "output_type": "execute_result"
    }
   ],
   "source": [
    "df_swi.head(5)"
   ]
  },
  {
   "cell_type": "code",
   "execution_count": 129,
   "metadata": {},
   "outputs": [],
   "source": [
    "df_swit=df_swi.reset_index(level=1)#ich muss irgendwie wieder den Datetime-Index haben\n",
    "df_7=df_swit.set_index(pd.DatetimeIndex(df_swit[\"Einreichedatum\"]))\n",
    "df8=df_7.sort_index()"
   ]
  },
  {
   "cell_type": "code",
   "execution_count": 130,
   "metadata": {},
   "outputs": [],
   "source": [
    "del df8 [\"Einreichedatum\"]\n",
    "del df8 [\"CSP\"]\n",
    "del df8 [\"SGA\"]"
   ]
  },
  {
   "cell_type": "code",
   "execution_count": 131,
   "metadata": {
    "scrolled": true
   },
   "outputs": [
    {
     "data": {
      "text/plain": [
       "<matplotlib.axes._subplots.AxesSubplot at 0x17a202ab0f0>"
      ]
     },
     "execution_count": 131,
     "metadata": {},
     "output_type": "execute_result"
    },
    {
     "data": {
      "image/png": "[encoded data removed]",
      "text/plain": [
       "<Figure size 1080x288 with 1 Axes>"
      ]
     },
     "metadata": {
      "needs_background": "light"
     },
     "output_type": "display_data"
    }
   ],
   "source": [
    "df8[\"2008\":].plot(figsize=(15,4))"
   ]
  },
  {
   "cell_type": "code",
   "execution_count": 132,
   "metadata": {},
   "outputs": [
    {
     "data": {
      "text/plain": [
       "<matplotlib.axes._subplots.AxesSubplot at 0x17a20365978>"
      ]
     },
     "execution_count": 132,
     "metadata": {},
     "output_type": "execute_result"
    },
    {
     "data": {
      "image/png": "[encoded data removed]",
      "text/plain": [
       "<Figure size 1080x288 with 1 Axes>"
      ]
     },
     "metadata": {
      "needs_background": "light"
     },
     "output_type": "display_data"
    }
   ],
   "source": [
    "df8[\"2013\":].plot(figsize=(15,4), kind=\"bar\")"
   ]
  },
  {
   "cell_type": "code",
   "execution_count": null,
   "metadata": {},
   "outputs": [],
   "source": []
  }
 ],
 "metadata": {
  "kernelspec": {
   "display_name": "Python 3",
   "language": "python",
   "name": "python3"
  },
  "language_info": {
   "codemirror_mode": {
    "name": "ipython",
    "version": 3
   },
   "file_extension": ".py",
   "mimetype": "text/x-python",
   "name": "python",
   "nbconvert_exporter": "python",
   "pygments_lexer": "ipython3",
   "version": "3.7.3"
  }
 },
 "nbformat": 4,
 "nbformat_minor": 2
}
