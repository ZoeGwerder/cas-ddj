{
 "cells": [
  {
   "cell_type": "markdown",
   "metadata": {},
   "source": [
    "# Die Plotversuche"
   ]
  },
  {
   "cell_type": "code",
   "execution_count": 1,
   "metadata": {},
   "outputs": [],
   "source": [
    "%matplotlib inline\n",
    "import numpy as np\n",
    "import requests\n",
    "import pandas as pd\n",
    "from bs4 import BeautifulSoup\n",
    "from datetime import datetime\n",
    "import numpy as np\n",
    "import requests, zipfile, io #zum abspeichern von PDFs\n",
    "from tqdm import tqdm # Anzeigen des aktuellen Ladestandes\n",
    "import PyPDF2\n",
    "import re\n",
    "from os import listdir\n",
    "from os.path import isfile, join\n",
    "import locale\n",
    "import matplotlib.pyplot as plt"
   ]
  },
  {
   "cell_type": "code",
   "execution_count": 10,
   "metadata": {},
   "outputs": [],
   "source": [
    "df=pd.read_csv(\"KRFrames/df_tuti_Ganzes_Frame\")"
   ]
  },
  {
   "cell_type": "code",
   "execution_count": 11,
   "metadata": {},
   "outputs": [],
   "source": [
    "df1= df[[\"VorlageNR\", \"Geschäft\", \"Namenganz\", \"P\", \"Einreichedatum\"]]"
   ]
  },
  {
   "cell_type": "code",
   "execution_count": 12,
   "metadata": {},
   "outputs": [
    {
     "data": {
      "text/html": [
       "<div>\n",
       "<style scoped>\n",
       "    .dataframe tbody tr th:only-of-type {\n",
       "        vertical-align: middle;\n",
       "    }\n",
       "\n",
       "    .dataframe tbody tr th {\n",
       "        vertical-align: top;\n",
       "    }\n",
       "\n",
       "    .dataframe thead th {\n",
       "        text-align: right;\n",
       "    }\n",
       "</style>\n",
       "<table border=\"1\" class=\"dataframe\">\n",
       "  <thead>\n",
       "    <tr style=\"text-align: right;\">\n",
       "      <th></th>\n",
       "      <th>VorlageNR</th>\n",
       "      <th>Geschäft</th>\n",
       "      <th>Namenganz</th>\n",
       "      <th>P</th>\n",
       "      <th>Einreichedatum</th>\n",
       "    </tr>\n",
       "  </thead>\n",
       "  <tbody>\n",
       "    <tr>\n",
       "      <td>0</td>\n",
       "      <td>3020</td>\n",
       "      <td>Postulat von Luzian Franzini und Esther Haas b...</td>\n",
       "      <td>Luzian Franzini</td>\n",
       "      <td>ALG</td>\n",
       "      <td>2019-10-11</td>\n",
       "    </tr>\n",
       "    <tr>\n",
       "      <td>1</td>\n",
       "      <td>3020</td>\n",
       "      <td>Postulat von Luzian Franzini und Esther Haas b...</td>\n",
       "      <td>Esther Haas</td>\n",
       "      <td>ALG</td>\n",
       "      <td>2019-10-11</td>\n",
       "    </tr>\n",
       "    <tr>\n",
       "      <td>2</td>\n",
       "      <td>3019</td>\n",
       "      <td>Motion von Luzian Franzini, Rita Hofer, Tabea ...</td>\n",
       "      <td>Luzian Franzini</td>\n",
       "      <td>ALG</td>\n",
       "      <td>2019-10-11</td>\n",
       "    </tr>\n",
       "    <tr>\n",
       "      <td>3</td>\n",
       "      <td>3019</td>\n",
       "      <td>Motion von Luzian Franzini, Rita Hofer, Tabea ...</td>\n",
       "      <td>Rita Hofer</td>\n",
       "      <td>ALG</td>\n",
       "      <td>2019-10-11</td>\n",
       "    </tr>\n",
       "    <tr>\n",
       "      <td>4</td>\n",
       "      <td>3019</td>\n",
       "      <td>Motion von Luzian Franzini, Rita Hofer, Tabea ...</td>\n",
       "      <td>Tabea Zimmermann Gibson</td>\n",
       "      <td>ALG</td>\n",
       "      <td>2019-10-11</td>\n",
       "    </tr>\n",
       "    <tr>\n",
       "      <td>...</td>\n",
       "      <td>...</td>\n",
       "      <td>...</td>\n",
       "      <td>...</td>\n",
       "      <td>...</td>\n",
       "      <td>...</td>\n",
       "    </tr>\n",
       "    <tr>\n",
       "      <td>1988</td>\n",
       "      <td>762</td>\n",
       "      <td>Motion der erweiterten Justizprüfungskommissio...</td>\n",
       "      <td>NaN</td>\n",
       "      <td>NaN</td>\n",
       "      <td>2005-10-31</td>\n",
       "    </tr>\n",
       "    <tr>\n",
       "      <td>1989</td>\n",
       "      <td>666</td>\n",
       "      <td>Motion der Kommission Teilrevision Personalges...</td>\n",
       "      <td>NaN</td>\n",
       "      <td>NaN</td>\n",
       "      <td>2002-06-06</td>\n",
       "    </tr>\n",
       "    <tr>\n",
       "      <td>1990</td>\n",
       "      <td>304</td>\n",
       "      <td>Motion von Manuela Weichelt betreffend HIV-Prä...</td>\n",
       "      <td>Manuela Weichelt</td>\n",
       "      <td>ALG</td>\n",
       "      <td>2003-05-27</td>\n",
       "    </tr>\n",
       "    <tr>\n",
       "      <td>1991</td>\n",
       "      <td>282</td>\n",
       "      <td>Motion von Christoph Hohler betreffend Radstre...</td>\n",
       "      <td>Christoph Hohler</td>\n",
       "      <td>SP</td>\n",
       "      <td>NaN</td>\n",
       "    </tr>\n",
       "    <tr>\n",
       "      <td>1992</td>\n",
       "      <td>81</td>\n",
       "      <td>Motion der vorberatenden Kommission betreffend...</td>\n",
       "      <td>NaN</td>\n",
       "      <td>NaN</td>\n",
       "      <td>2007-04-10</td>\n",
       "    </tr>\n",
       "  </tbody>\n",
       "</table>\n",
       "<p>1993 rows × 5 columns</p>\n",
       "</div>"
      ],
      "text/plain": [
       "      VorlageNR                                           Geschäft  \\\n",
       "0          3020  Postulat von Luzian Franzini und Esther Haas b...   \n",
       "1          3020  Postulat von Luzian Franzini und Esther Haas b...   \n",
       "2          3019  Motion von Luzian Franzini, Rita Hofer, Tabea ...   \n",
       "3          3019  Motion von Luzian Franzini, Rita Hofer, Tabea ...   \n",
       "4          3019  Motion von Luzian Franzini, Rita Hofer, Tabea ...   \n",
       "...         ...                                                ...   \n",
       "1988        762  Motion der erweiterten Justizprüfungskommissio...   \n",
       "1989        666  Motion der Kommission Teilrevision Personalges...   \n",
       "1990        304  Motion von Manuela Weichelt betreffend HIV-Prä...   \n",
       "1991        282  Motion von Christoph Hohler betreffend Radstre...   \n",
       "1992         81  Motion der vorberatenden Kommission betreffend...   \n",
       "\n",
       "                    Namenganz    P Einreichedatum  \n",
       "0             Luzian Franzini  ALG     2019-10-11  \n",
       "1                 Esther Haas  ALG     2019-10-11  \n",
       "2             Luzian Franzini  ALG     2019-10-11  \n",
       "3                  Rita Hofer  ALG     2019-10-11  \n",
       "4     Tabea Zimmermann Gibson  ALG     2019-10-11  \n",
       "...                       ...  ...            ...  \n",
       "1988                      NaN  NaN     2005-10-31  \n",
       "1989                      NaN  NaN     2002-06-06  \n",
       "1990         Manuela Weichelt  ALG     2003-05-27  \n",
       "1991         Christoph Hohler   SP            NaN  \n",
       "1992                      NaN  NaN     2007-04-10  \n",
       "\n",
       "[1993 rows x 5 columns]"
      ]
     },
     "execution_count": 12,
     "metadata": {},
     "output_type": "execute_result"
    }
   ],
   "source": [
    "df1"
   ]
  },
  {
   "cell_type": "code",
   "execution_count": 13,
   "metadata": {},
   "outputs": [],
   "source": [
    "df11=df1[\"Einreichedatum\"].sort_values().head(1804)"
   ]
  },
  {
   "cell_type": "code",
   "execution_count": 14,
   "metadata": {},
   "outputs": [
    {
     "data": {
      "text/plain": [
       "VorlageNR  Einreichedatum\n",
       "81         2007-04-10        1\n",
       "304        2003-05-27        1\n",
       "666        2002-06-06        1\n",
       "762        2005-10-31        1\n",
       "801        2006-08-22        1\n",
       "                            ..\n",
       "3014       2019-09-26        1\n",
       "3017       2019-10-06        3\n",
       "3018       2019-10-07        3\n",
       "3019       2019-10-11        5\n",
       "3020       2019-10-11        2\n",
       "Name: Einreichedatum, Length: 1117, dtype: int64"
      ]
     },
     "execution_count": 14,
     "metadata": {},
     "output_type": "execute_result"
    }
   ],
   "source": [
    "df1.groupby(\"VorlageNR\")[\"Einreichedatum\"].value_counts()"
   ]
  },
  {
   "cell_type": "code",
   "execution_count": 15,
   "metadata": {},
   "outputs": [
    {
     "data": {
      "text/html": [
       "<div>\n",
       "<style scoped>\n",
       "    .dataframe tbody tr th:only-of-type {\n",
       "        vertical-align: middle;\n",
       "    }\n",
       "\n",
       "    .dataframe tbody tr th {\n",
       "        vertical-align: top;\n",
       "    }\n",
       "\n",
       "    .dataframe thead th {\n",
       "        text-align: right;\n",
       "    }\n",
       "</style>\n",
       "<table border=\"1\" class=\"dataframe\">\n",
       "  <thead>\n",
       "    <tr style=\"text-align: right;\">\n",
       "      <th></th>\n",
       "      <th>VorlageNR</th>\n",
       "      <th>Geschäft</th>\n",
       "      <th>Namenganz</th>\n",
       "      <th>P</th>\n",
       "      <th>Einreichedatum</th>\n",
       "    </tr>\n",
       "  </thead>\n",
       "  <tbody>\n",
       "    <tr>\n",
       "      <td>2019-10-11</td>\n",
       "      <td>3020</td>\n",
       "      <td>Postulat von Luzian Franzini und Esther Haas b...</td>\n",
       "      <td>Luzian Franzini</td>\n",
       "      <td>ALG</td>\n",
       "      <td>2019-10-11</td>\n",
       "    </tr>\n",
       "    <tr>\n",
       "      <td>2019-10-11</td>\n",
       "      <td>3020</td>\n",
       "      <td>Postulat von Luzian Franzini und Esther Haas b...</td>\n",
       "      <td>Esther Haas</td>\n",
       "      <td>ALG</td>\n",
       "      <td>2019-10-11</td>\n",
       "    </tr>\n",
       "    <tr>\n",
       "      <td>2019-10-11</td>\n",
       "      <td>3019</td>\n",
       "      <td>Motion von Luzian Franzini, Rita Hofer, Tabea ...</td>\n",
       "      <td>Luzian Franzini</td>\n",
       "      <td>ALG</td>\n",
       "      <td>2019-10-11</td>\n",
       "    </tr>\n",
       "    <tr>\n",
       "      <td>2019-10-11</td>\n",
       "      <td>3019</td>\n",
       "      <td>Motion von Luzian Franzini, Rita Hofer, Tabea ...</td>\n",
       "      <td>Rita Hofer</td>\n",
       "      <td>ALG</td>\n",
       "      <td>2019-10-11</td>\n",
       "    </tr>\n",
       "    <tr>\n",
       "      <td>2019-10-11</td>\n",
       "      <td>3019</td>\n",
       "      <td>Motion von Luzian Franzini, Rita Hofer, Tabea ...</td>\n",
       "      <td>Tabea Zimmermann Gibson</td>\n",
       "      <td>ALG</td>\n",
       "      <td>2019-10-11</td>\n",
       "    </tr>\n",
       "    <tr>\n",
       "      <td>...</td>\n",
       "      <td>...</td>\n",
       "      <td>...</td>\n",
       "      <td>...</td>\n",
       "      <td>...</td>\n",
       "      <td>...</td>\n",
       "    </tr>\n",
       "    <tr>\n",
       "      <td>2005-10-31</td>\n",
       "      <td>762</td>\n",
       "      <td>Motion der erweiterten Justizprüfungskommissio...</td>\n",
       "      <td>NaN</td>\n",
       "      <td>NaN</td>\n",
       "      <td>2005-10-31</td>\n",
       "    </tr>\n",
       "    <tr>\n",
       "      <td>2002-06-06</td>\n",
       "      <td>666</td>\n",
       "      <td>Motion der Kommission Teilrevision Personalges...</td>\n",
       "      <td>NaN</td>\n",
       "      <td>NaN</td>\n",
       "      <td>2002-06-06</td>\n",
       "    </tr>\n",
       "    <tr>\n",
       "      <td>2003-05-27</td>\n",
       "      <td>304</td>\n",
       "      <td>Motion von Manuela Weichelt betreffend HIV-Prä...</td>\n",
       "      <td>Manuela Weichelt</td>\n",
       "      <td>ALG</td>\n",
       "      <td>2003-05-27</td>\n",
       "    </tr>\n",
       "    <tr>\n",
       "      <td>NaN</td>\n",
       "      <td>282</td>\n",
       "      <td>Motion von Christoph Hohler betreffend Radstre...</td>\n",
       "      <td>Christoph Hohler</td>\n",
       "      <td>SP</td>\n",
       "      <td>NaN</td>\n",
       "    </tr>\n",
       "    <tr>\n",
       "      <td>2007-04-10</td>\n",
       "      <td>81</td>\n",
       "      <td>Motion der vorberatenden Kommission betreffend...</td>\n",
       "      <td>NaN</td>\n",
       "      <td>NaN</td>\n",
       "      <td>2007-04-10</td>\n",
       "    </tr>\n",
       "  </tbody>\n",
       "</table>\n",
       "<p>1993 rows × 5 columns</p>\n",
       "</div>"
      ],
      "text/plain": [
       "            VorlageNR                                           Geschäft  \\\n",
       "2019-10-11       3020  Postulat von Luzian Franzini und Esther Haas b...   \n",
       "2019-10-11       3020  Postulat von Luzian Franzini und Esther Haas b...   \n",
       "2019-10-11       3019  Motion von Luzian Franzini, Rita Hofer, Tabea ...   \n",
       "2019-10-11       3019  Motion von Luzian Franzini, Rita Hofer, Tabea ...   \n",
       "2019-10-11       3019  Motion von Luzian Franzini, Rita Hofer, Tabea ...   \n",
       "...               ...                                                ...   \n",
       "2005-10-31        762  Motion der erweiterten Justizprüfungskommissio...   \n",
       "2002-06-06        666  Motion der Kommission Teilrevision Personalges...   \n",
       "2003-05-27        304  Motion von Manuela Weichelt betreffend HIV-Prä...   \n",
       "NaN               282  Motion von Christoph Hohler betreffend Radstre...   \n",
       "2007-04-10         81  Motion der vorberatenden Kommission betreffend...   \n",
       "\n",
       "                          Namenganz    P Einreichedatum  \n",
       "2019-10-11          Luzian Franzini  ALG     2019-10-11  \n",
       "2019-10-11              Esther Haas  ALG     2019-10-11  \n",
       "2019-10-11          Luzian Franzini  ALG     2019-10-11  \n",
       "2019-10-11               Rita Hofer  ALG     2019-10-11  \n",
       "2019-10-11  Tabea Zimmermann Gibson  ALG     2019-10-11  \n",
       "...                             ...  ...            ...  \n",
       "2005-10-31                      NaN  NaN     2005-10-31  \n",
       "2002-06-06                      NaN  NaN     2002-06-06  \n",
       "2003-05-27         Manuela Weichelt  ALG     2003-05-27  \n",
       "NaN                Christoph Hohler   SP            NaN  \n",
       "2007-04-10                      NaN  NaN     2007-04-10  \n",
       "\n",
       "[1993 rows x 5 columns]"
      ]
     },
     "execution_count": 15,
     "metadata": {},
     "output_type": "execute_result"
    }
   ],
   "source": [
    "#Index ist zwar im Datetime64-Format aber er verlangt DatetimeIndex.\n",
    "df2=df1.set_index(pd.DatetimeIndex(df1[\"Einreichedatum\"]).date)\n",
    "df2"
   ]
  },
  {
   "cell_type": "code",
   "execution_count": 16,
   "metadata": {},
   "outputs": [],
   "source": [
    "df3=df2.sort_index().head(1804)#Hier sortiere ich den Index, um ihn verwenden zu können\n",
    "# und nehme die vordersten 1804, weil die anderen NAN sind."
   ]
  },
  {
   "cell_type": "code",
   "execution_count": 17,
   "metadata": {},
   "outputs": [
    {
     "data": {
      "text/html": [
       "<div>\n",
       "<style scoped>\n",
       "    .dataframe tbody tr th:only-of-type {\n",
       "        vertical-align: middle;\n",
       "    }\n",
       "\n",
       "    .dataframe tbody tr th {\n",
       "        vertical-align: top;\n",
       "    }\n",
       "\n",
       "    .dataframe thead th {\n",
       "        text-align: right;\n",
       "    }\n",
       "</style>\n",
       "<table border=\"1\" class=\"dataframe\">\n",
       "  <thead>\n",
       "    <tr style=\"text-align: right;\">\n",
       "      <th></th>\n",
       "      <th>VorlageNR</th>\n",
       "      <th>Geschäft</th>\n",
       "      <th>Namenganz</th>\n",
       "      <th>P</th>\n",
       "      <th>Einreichedatum</th>\n",
       "    </tr>\n",
       "  </thead>\n",
       "  <tbody>\n",
       "    <tr>\n",
       "      <td>1982-12-16</td>\n",
       "      <td>1223</td>\n",
       "      <td>Motion von Karl Betschart, Andrea Hodel und Be...</td>\n",
       "      <td>Karl Betschart</td>\n",
       "      <td>SVP</td>\n",
       "      <td>1982-12-16</td>\n",
       "    </tr>\n",
       "    <tr>\n",
       "      <td>1982-12-16</td>\n",
       "      <td>1223</td>\n",
       "      <td>Motion von Karl Betschart, Andrea Hodel und Be...</td>\n",
       "      <td>Andrea Hodel</td>\n",
       "      <td>FDP</td>\n",
       "      <td>1982-12-16</td>\n",
       "    </tr>\n",
       "    <tr>\n",
       "      <td>1982-12-16</td>\n",
       "      <td>1223</td>\n",
       "      <td>Motion von Karl Betschart, Andrea Hodel und Be...</td>\n",
       "      <td>Beat Villiger</td>\n",
       "      <td>CVP</td>\n",
       "      <td>1982-12-16</td>\n",
       "    </tr>\n",
       "    <tr>\n",
       "      <td>1998-01-29</td>\n",
       "      <td>1201</td>\n",
       "      <td>Motion der FDP-Fraktion betreffend Einführungs...</td>\n",
       "      <td>FDP-Fraktion</td>\n",
       "      <td>FDP</td>\n",
       "      <td>1998-01-29</td>\n",
       "    </tr>\n",
       "    <tr>\n",
       "      <td>1998-10-27</td>\n",
       "      <td>1016</td>\n",
       "      <td>Postulat von René Bär betreffend Ungültigerklä...</td>\n",
       "      <td>René Bär</td>\n",
       "      <td>SVP</td>\n",
       "      <td>1998-10-27</td>\n",
       "    </tr>\n",
       "    <tr>\n",
       "      <td>...</td>\n",
       "      <td>...</td>\n",
       "      <td>...</td>\n",
       "      <td>...</td>\n",
       "      <td>...</td>\n",
       "      <td>...</td>\n",
       "    </tr>\n",
       "    <tr>\n",
       "      <td>2019-10-11</td>\n",
       "      <td>3019</td>\n",
       "      <td>Motion von Luzian Franzini, Rita Hofer, Tabea ...</td>\n",
       "      <td>Tabea Zimmermann Gibson</td>\n",
       "      <td>ALG</td>\n",
       "      <td>2019-10-11</td>\n",
       "    </tr>\n",
       "    <tr>\n",
       "      <td>2019-10-11</td>\n",
       "      <td>3019</td>\n",
       "      <td>Motion von Luzian Franzini, Rita Hofer, Tabea ...</td>\n",
       "      <td>Rita Hofer</td>\n",
       "      <td>ALG</td>\n",
       "      <td>2019-10-11</td>\n",
       "    </tr>\n",
       "    <tr>\n",
       "      <td>2019-10-11</td>\n",
       "      <td>3019</td>\n",
       "      <td>Motion von Luzian Franzini, Rita Hofer, Tabea ...</td>\n",
       "      <td>Luzian Franzini</td>\n",
       "      <td>ALG</td>\n",
       "      <td>2019-10-11</td>\n",
       "    </tr>\n",
       "    <tr>\n",
       "      <td>2019-10-11</td>\n",
       "      <td>3020</td>\n",
       "      <td>Postulat von Luzian Franzini und Esther Haas b...</td>\n",
       "      <td>Esther Haas</td>\n",
       "      <td>ALG</td>\n",
       "      <td>2019-10-11</td>\n",
       "    </tr>\n",
       "    <tr>\n",
       "      <td>2019-10-11</td>\n",
       "      <td>3020</td>\n",
       "      <td>Postulat von Luzian Franzini und Esther Haas b...</td>\n",
       "      <td>Luzian Franzini</td>\n",
       "      <td>ALG</td>\n",
       "      <td>2019-10-11</td>\n",
       "    </tr>\n",
       "  </tbody>\n",
       "</table>\n",
       "<p>1804 rows × 5 columns</p>\n",
       "</div>"
      ],
      "text/plain": [
       "            VorlageNR                                           Geschäft  \\\n",
       "1982-12-16       1223  Motion von Karl Betschart, Andrea Hodel und Be...   \n",
       "1982-12-16       1223  Motion von Karl Betschart, Andrea Hodel und Be...   \n",
       "1982-12-16       1223  Motion von Karl Betschart, Andrea Hodel und Be...   \n",
       "1998-01-29       1201  Motion der FDP-Fraktion betreffend Einführungs...   \n",
       "1998-10-27       1016  Postulat von René Bär betreffend Ungültigerklä...   \n",
       "...               ...                                                ...   \n",
       "2019-10-11       3019  Motion von Luzian Franzini, Rita Hofer, Tabea ...   \n",
       "2019-10-11       3019  Motion von Luzian Franzini, Rita Hofer, Tabea ...   \n",
       "2019-10-11       3019  Motion von Luzian Franzini, Rita Hofer, Tabea ...   \n",
       "2019-10-11       3020  Postulat von Luzian Franzini und Esther Haas b...   \n",
       "2019-10-11       3020  Postulat von Luzian Franzini und Esther Haas b...   \n",
       "\n",
       "                          Namenganz    P Einreichedatum  \n",
       "1982-12-16           Karl Betschart  SVP     1982-12-16  \n",
       "1982-12-16             Andrea Hodel  FDP     1982-12-16  \n",
       "1982-12-16            Beat Villiger  CVP     1982-12-16  \n",
       "1998-01-29             FDP-Fraktion  FDP     1998-01-29  \n",
       "1998-10-27                 René Bär  SVP     1998-10-27  \n",
       "...                             ...  ...            ...  \n",
       "2019-10-11  Tabea Zimmermann Gibson  ALG     2019-10-11  \n",
       "2019-10-11               Rita Hofer  ALG     2019-10-11  \n",
       "2019-10-11          Luzian Franzini  ALG     2019-10-11  \n",
       "2019-10-11              Esther Haas  ALG     2019-10-11  \n",
       "2019-10-11          Luzian Franzini  ALG     2019-10-11  \n",
       "\n",
       "[1804 rows x 5 columns]"
      ]
     },
     "execution_count": 17,
     "metadata": {},
     "output_type": "execute_result"
    }
   ],
   "source": [
    "df3"
   ]
  },
  {
   "cell_type": "code",
   "execution_count": 18,
   "metadata": {},
   "outputs": [],
   "source": [
    "df3.index= pd.to_datetime(df3.index) #nun den Index in datetime umwalndeln"
   ]
  },
  {
   "cell_type": "code",
   "execution_count": 19,
   "metadata": {},
   "outputs": [
    {
     "data": {
      "text/plain": [
       "1982-12-31     3\n",
       "1983-01-31     0\n",
       "1983-02-28     0\n",
       "1983-03-31     0\n",
       "1983-04-30     0\n",
       "              ..\n",
       "2019-06-30     9\n",
       "2019-07-31     9\n",
       "2019-08-31    13\n",
       "2019-09-30    14\n",
       "2019-10-31    13\n",
       "Freq: M, Name: Geschäft, Length: 443, dtype: int64"
      ]
     },
     "execution_count": 19,
     "metadata": {},
     "output_type": "execute_result"
    }
   ],
   "source": [
    "df3[\"Geschäft\"].resample(\"M\").count()"
   ]
  },
  {
   "cell_type": "code",
   "execution_count": 20,
   "metadata": {},
   "outputs": [
    {
     "data": {
      "text/plain": [
       "<matplotlib.axes._subplots.AxesSubplot at 0x25b879a59e8>"
      ]
     },
     "execution_count": 20,
     "metadata": {},
     "output_type": "execute_result"
    },
    {
     "data": {
      "image/png": "[encoded data removed]",
      "text/plain": [
       "<Figure size 432x288 with 1 Axes>"
      ]
     },
     "metadata": {
      "needs_background": "light"
     },
     "output_type": "display_data"
    }
   ],
   "source": [
    "df3[\"Geschäft\"].resample(\"M\").count().plot() #hier der Plot mit mehrfachnennungen"
   ]
  },
  {
   "cell_type": "code",
   "execution_count": 22,
   "metadata": {},
   "outputs": [],
   "source": [
    "df4=df3.sort_values(\"P\") #bin nicht sicher obs das braucht"
   ]
  },
  {
   "cell_type": "code",
   "execution_count": 28,
   "metadata": {
    "scrolled": true
   },
   "outputs": [],
   "source": [
    "#Aaahhh ich brauche hier ja nur die einzelnen Vorlagen, nicht die einzelnen Parteien.\n",
    "df5=df4.drop_duplicates(subset=['VorlageNR', 'Geschäft'], keep=False)"
   ]
  },
  {
   "cell_type": "code",
   "execution_count": 29,
   "metadata": {
    "scrolled": true
   },
   "outputs": [
    {
     "data": {
      "text/html": [
       "<div>\n",
       "<style scoped>\n",
       "    .dataframe tbody tr th:only-of-type {\n",
       "        vertical-align: middle;\n",
       "    }\n",
       "\n",
       "    .dataframe tbody tr th {\n",
       "        vertical-align: top;\n",
       "    }\n",
       "\n",
       "    .dataframe thead th {\n",
       "        text-align: right;\n",
       "    }\n",
       "</style>\n",
       "<table border=\"1\" class=\"dataframe\">\n",
       "  <thead>\n",
       "    <tr style=\"text-align: right;\">\n",
       "      <th></th>\n",
       "      <th>VorlageNR</th>\n",
       "      <th>Geschäft</th>\n",
       "      <th>Namenganz</th>\n",
       "      <th>P</th>\n",
       "      <th>Einreichedatum</th>\n",
       "    </tr>\n",
       "  </thead>\n",
       "  <tbody>\n",
       "    <tr>\n",
       "      <td>1998-01-29</td>\n",
       "      <td>1201</td>\n",
       "      <td>Motion der FDP-Fraktion betreffend Einführungs...</td>\n",
       "      <td>FDP-Fraktion</td>\n",
       "      <td>FDP</td>\n",
       "      <td>1998-01-29</td>\n",
       "    </tr>\n",
       "    <tr>\n",
       "      <td>1998-10-27</td>\n",
       "      <td>1016</td>\n",
       "      <td>Postulat von René Bär betreffend Ungültigerklä...</td>\n",
       "      <td>René Bär</td>\n",
       "      <td>SVP</td>\n",
       "      <td>1998-10-27</td>\n",
       "    </tr>\n",
       "    <tr>\n",
       "      <td>1999-04-18</td>\n",
       "      <td>2182</td>\n",
       "      <td>Kleine Anfrage von Thomas Aeschi betreffend Un...</td>\n",
       "      <td>Thomas Aeschi</td>\n",
       "      <td>SVP</td>\n",
       "      <td>1999-04-18</td>\n",
       "    </tr>\n",
       "    <tr>\n",
       "      <td>2001-11-29</td>\n",
       "      <td>974</td>\n",
       "      <td>Motion der Justizprüfungskommission betreffend...</td>\n",
       "      <td>NaN</td>\n",
       "      <td>NaN</td>\n",
       "      <td>2001-11-29</td>\n",
       "    </tr>\n",
       "    <tr>\n",
       "      <td>2002-04-23</td>\n",
       "      <td>1008</td>\n",
       "      <td>Motion der CVP-Fraktion betreffend Gewährung e...</td>\n",
       "      <td>CVP-Fraktion</td>\n",
       "      <td>CVP</td>\n",
       "      <td>2002-04-23</td>\n",
       "    </tr>\n",
       "    <tr>\n",
       "      <td>...</td>\n",
       "      <td>...</td>\n",
       "      <td>...</td>\n",
       "      <td>...</td>\n",
       "      <td>...</td>\n",
       "      <td>...</td>\n",
       "    </tr>\n",
       "    <tr>\n",
       "      <td>2019-07-15</td>\n",
       "      <td>2999</td>\n",
       "      <td>Motion der FDP-Fraktion betreffend mehr Kompet...</td>\n",
       "      <td>FDP-Fraktion</td>\n",
       "      <td>FDP</td>\n",
       "      <td>2019-07-15</td>\n",
       "    </tr>\n",
       "    <tr>\n",
       "      <td>2019-08-16</td>\n",
       "      <td>3004</td>\n",
       "      <td>Motion der CVP-Fraktion betreffend bedarfsgere...</td>\n",
       "      <td>CVP-Fraktion</td>\n",
       "      <td>CVP</td>\n",
       "      <td>2019-08-16</td>\n",
       "    </tr>\n",
       "    <tr>\n",
       "      <td>2019-09-08</td>\n",
       "      <td>3007</td>\n",
       "      <td>Interpellation der SP-Fraktion betreffend Pest...</td>\n",
       "      <td>SP-Fraktion</td>\n",
       "      <td>SP</td>\n",
       "      <td>2019-09-08</td>\n",
       "    </tr>\n",
       "    <tr>\n",
       "      <td>2019-09-23</td>\n",
       "      <td>3013</td>\n",
       "      <td>Interpellation der SP-Fraktion betreffend Wohn...</td>\n",
       "      <td>SP-Fraktion</td>\n",
       "      <td>SP</td>\n",
       "      <td>2019-09-23</td>\n",
       "    </tr>\n",
       "    <tr>\n",
       "      <td>2019-09-26</td>\n",
       "      <td>3014</td>\n",
       "      <td>Interpellation der SVP-Fraktion betreffend mob...</td>\n",
       "      <td>SVP-Fraktion</td>\n",
       "      <td>SVP</td>\n",
       "      <td>2019-09-26</td>\n",
       "    </tr>\n",
       "  </tbody>\n",
       "</table>\n",
       "<p>761 rows × 5 columns</p>\n",
       "</div>"
      ],
      "text/plain": [
       "            VorlageNR                                           Geschäft  \\\n",
       "1998-01-29       1201  Motion der FDP-Fraktion betreffend Einführungs...   \n",
       "1998-10-27       1016  Postulat von René Bär betreffend Ungültigerklä...   \n",
       "1999-04-18       2182  Kleine Anfrage von Thomas Aeschi betreffend Un...   \n",
       "2001-11-29        974  Motion der Justizprüfungskommission betreffend...   \n",
       "2002-04-23       1008  Motion der CVP-Fraktion betreffend Gewährung e...   \n",
       "...               ...                                                ...   \n",
       "2019-07-15       2999  Motion der FDP-Fraktion betreffend mehr Kompet...   \n",
       "2019-08-16       3004  Motion der CVP-Fraktion betreffend bedarfsgere...   \n",
       "2019-09-08       3007  Interpellation der SP-Fraktion betreffend Pest...   \n",
       "2019-09-23       3013  Interpellation der SP-Fraktion betreffend Wohn...   \n",
       "2019-09-26       3014  Interpellation der SVP-Fraktion betreffend mob...   \n",
       "\n",
       "                Namenganz    P Einreichedatum  \n",
       "1998-01-29   FDP-Fraktion  FDP     1998-01-29  \n",
       "1998-10-27       René Bär  SVP     1998-10-27  \n",
       "1999-04-18  Thomas Aeschi  SVP     1999-04-18  \n",
       "2001-11-29            NaN  NaN     2001-11-29  \n",
       "2002-04-23   CVP-Fraktion  CVP     2002-04-23  \n",
       "...                   ...  ...            ...  \n",
       "2019-07-15   FDP-Fraktion  FDP     2019-07-15  \n",
       "2019-08-16   CVP-Fraktion  CVP     2019-08-16  \n",
       "2019-09-08    SP-Fraktion   SP     2019-09-08  \n",
       "2019-09-23    SP-Fraktion   SP     2019-09-23  \n",
       "2019-09-26   SVP-Fraktion  SVP     2019-09-26  \n",
       "\n",
       "[761 rows x 5 columns]"
      ]
     },
     "execution_count": 29,
     "metadata": {},
     "output_type": "execute_result"
    }
   ],
   "source": [
    "df5.sort_index()"
   ]
  },
  {
   "cell_type": "markdown",
   "metadata": {},
   "source": [
    "# Ergebnisse\n",
    "nun scheint es endlich zu stimmen. Mal schauen wie es aussieht."
   ]
  },
  {
   "cell_type": "code",
   "execution_count": 30,
   "metadata": {},
   "outputs": [
    {
     "data": {
      "text/plain": [
       "1998-01-31    1\n",
       "1998-02-28    0\n",
       "1998-03-31    0\n",
       "1998-04-30    0\n",
       "1998-05-31    0\n",
       "             ..\n",
       "2019-05-31    7\n",
       "2019-06-30    2\n",
       "2019-07-31    4\n",
       "2019-08-31    1\n",
       "2019-09-30    3\n",
       "Freq: M, Name: Geschäft, Length: 261, dtype: int64"
      ]
     },
     "execution_count": 30,
     "metadata": {},
     "output_type": "execute_result"
    }
   ],
   "source": [
    "df5[\"Geschäft\"].resample(\"M\").count()"
   ]
  },
  {
   "cell_type": "markdown",
   "metadata": {},
   "source": [
    "# Hier das Ergebnis\n",
    "Zahlen 2009 weisen (Wahljahre 2010/2011) nicht auf eine solche Veränderung hin. Die Zahlen für die Wahljahre 14/15 und 18/19 hingegen schon.\n",
    "HMMM oder doch nicht - das Resutat scheint nicht so klar"
   ]
  },
  {
   "cell_type": "code",
   "execution_count": 42,
   "metadata": {},
   "outputs": [
    {
     "data": {
      "text/plain": [
       "<matplotlib.axes._subplots.AxesSubplot at 0x25b894797b8>"
      ]
     },
     "execution_count": 42,
     "metadata": {},
     "output_type": "execute_result"
    },
    {
     "data": {
      "image/png": "[encoded data removed]",
      "text/plain": [
       "<Figure size 1080x288 with 1 Axes>"
      ]
     },
     "metadata": {
      "needs_background": "light"
     },
     "output_type": "display_data"
    }
   ],
   "source": [
    "\n",
    "df5[\"Geschäft\"].resample(\"Q\").count()[\"2009\":].plot(figsize=(15,4), kind=\"bar\")"
   ]
  },
  {
   "cell_type": "code",
   "execution_count": null,
   "metadata": {},
   "outputs": [],
   "source": []
  }
 ],
 "metadata": {
  "kernelspec": {
   "display_name": "Python 3",
   "language": "python",
   "name": "python3"
  },
  "language_info": {
   "codemirror_mode": {
    "name": "ipython",
    "version": 3
   },
   "file_extension": ".py",
   "mimetype": "text/x-python",
   "name": "python",
   "nbconvert_exporter": "python",
   "pygments_lexer": "ipython3",
   "version": "3.7.3"
  }
 },
 "nbformat": 4,
 "nbformat_minor": 2
}
