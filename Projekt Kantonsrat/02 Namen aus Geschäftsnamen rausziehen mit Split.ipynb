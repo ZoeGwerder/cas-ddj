{
 "cells": [
  {
   "cell_type": "code",
   "execution_count": 3,
   "metadata": {},
   "outputs": [],
   "source": [
    "import requests\n",
    "import pandas as pd\n",
    "from bs4 import BeautifulSoup\n",
    "from datetime import datetime\n",
    "import numpy as np\n",
    "import requests, zipfile, io #zum abspeichern von PDFs\n",
    "from tqdm import tqdm\n",
    "import PyPDF2\n",
    "import re\n",
    "from os import listdir\n",
    "from os.path import isfile, join"
   ]
  },
  {
   "cell_type": "markdown",
   "metadata": {},
   "source": [
    "## URL von allen Hauptseiten holen"
   ]
  },
  {
   "cell_type": "code",
   "execution_count": null,
   "metadata": {},
   "outputs": [],
   "source": [
    "#alle urls und infos der Hauptseiten holen.\n",
    "url = \"https://kr-geschaefte.zug.ch/gast/geschaefte?commit=Filtern&geschaeft_filter%5Babgeschlossen_bis%5D=&geschaeft_filter%5Babgeschlossen_von%5D=&geschaeft_filter%5Barten_refs%5D%5B%5D=&geschaeft_filter%5Beingereicht_bis%5D=&geschaeft_filter%5Beingereicht_von%5D=&geschaeft_filter%5Bfrist_bis%5D=&geschaeft_filter%5Bhistorische_staende_refs%5D%5B%5D=&geschaeft_filter%5Bkommissionen_refs%5D%5B%5D=&geschaeft_filter%5Bstaende_refs%5D%5B%5D=&geschaeft_filter%5Bstatus_ids%5D%5B%5D=haengig&geschaeft_filter%5Bstatus_ids%5D%5B%5D=abgeschlossen&geschaeft_filter%5Bstatus_ids%5D%5B%5D=&geschaeft_filter%5Btitel%5D=&geschaeft_filter%5Bzustaendig_refs%5D%5B%5D=&page=\"\n",
    "\n",
    "alle_seiten = []\n",
    "for seite in range(1,41):\n",
    "    r=requests.get(url+str(seite))\n",
    "    soup = BeautifulSoup(r.text,\"html.parser\")\n",
    "    \n",
    "    tr_list=soup.find_all(\"tr\")[2:] #erst ab der Position 2 sind die Daten relevant.\n",
    "    \n",
    "    for element in tr_list:\n",
    "        td_list = element.find_all(\"td\")\n",
    "        vorlag_nr=td_list[0].text\n",
    "        href = td_list[0].find(\"a\")[\"href\"]\n",
    "        text = td_list[1].text\n",
    "        stand = td_list[2].text\n",
    "        zustaendig = td_list[3].text\n",
    "        geschaeft_art = td_list[4].text\n",
    "        status = td_list[5].text\n",
    "        \n",
    "        mini_dict = {\"VorlageNR\":vorlag_nr,\"url\":href,\"Geschäft\":text, \"Stand\":stand, \"Zuständigkeit\":zustaendig, \"Art des Geschäfts\": geschaeft_art, \"Status\":status}\n",
    "\n",
    "        alle_seiten.append(mini_dict)\n",
    "\n"
   ]
  },
  {
   "cell_type": "code",
   "execution_count": null,
   "metadata": {
    "scrolled": true
   },
   "outputs": [],
   "source": [
    "pd.DataFrame(alle_seiten)"
   ]
  },
  {
   "cell_type": "code",
   "execution_count": 54,
   "metadata": {},
   "outputs": [],
   "source": [
    "df_vs=pd.read_csv(\"KRFrames/df_v_Hauptseiten\")"
   ]
  },
  {
   "cell_type": "code",
   "execution_count": null,
   "metadata": {},
   "outputs": [],
   "source": [
    "df_vs"
   ]
  },
  {
   "cell_type": "markdown",
   "metadata": {},
   "source": [
    "# hier ein Test von Barnaby, wie man die Namen alleine mit \"Split\" separieren kann\n",
    "\n",
    "- Vielleicht zuerst noch mit Pandas nur die Vorstösse raussuchen. Ist ja das, was mich interessiert.\n",
    "- Rausfinden, wie ich die Namen nun rausziehe und in ein aufklappbares Dataframe stelle\n"
   ]
  },
  {
   "cell_type": "code",
   "execution_count": null,
   "metadata": {
    "scrolled": true
   },
   "outputs": [],
   "source": [
    "\n",
    "def splitting(elem):\n",
    "    elem = elem.split('betreffend')[0].strip()\n",
    "    if 'von' in elem:\n",
    "        elem = elem.split('von')[1].strip()\n",
    "        elem = elem.replace(' und', ',')\n",
    "    elif 'der' in elem:\n",
    "        elem = elem.split('der')[1].strip()    \n",
    "    return elem\n",
    "df_vs[\"Geschäft\"]=df_vs['Geschäft'].apply(splitting) #.apply ist um eine Funktion auf eine ganze Reihe Pandas einzusetze"
   ]
  },
  {
   "cell_type": "markdown",
   "metadata": {},
   "source": [
    "# Nun rausfinden, wie ich ein DataFrame machen kann, das man aufklappt"
   ]
  },
  {
   "cell_type": "code",
   "execution_count": null,
   "metadata": {},
   "outputs": [],
   "source": [
    "df_vs.head()"
   ]
  },
  {
   "cell_type": "code",
   "execution_count": null,
   "metadata": {},
   "outputs": [],
   "source": []
  },
  {
   "cell_type": "code",
   "execution_count": null,
   "metadata": {},
   "outputs": [],
   "source": [
    "#das funktionerit also nicht\n",
    "def splitkomma(elem):\n",
    "    elem=elem.split(\", \")\n",
    "    return elem\n"
   ]
  },
  {
   "cell_type": "code",
   "execution_count": null,
   "metadata": {},
   "outputs": [],
   "source": [
    "df_vs[\"Geschäft\"]=df_vs[\"Geschäft\"].apply(splitkomma) "
   ]
  },
  {
   "cell_type": "code",
   "execution_count": null,
   "metadata": {},
   "outputs": [],
   "source": [
    "# Hier die Lösung, wie ich für jeden Namen ein einzelnes Geschäft erhalte"
   ]
  },
  {
   "cell_type": "code",
   "execution_count": null,
   "metadata": {
    "scrolled": true
   },
   "outputs": [],
   "source": [
    "df_ex=df_vs.explode('Geschäft').reset_index(drop=True)"
   ]
  },
  {
   "cell_type": "code",
   "execution_count": null,
   "metadata": {},
   "outputs": [],
   "source": [
    "df_ex.rename(columns={'Geschäft':'Namenganz'}, inplace=True)"
   ]
  },
  {
   "cell_type": "code",
   "execution_count": null,
   "metadata": {},
   "outputs": [],
   "source": [
    "df_ex.to_csv(\"KRFrames/df_ex\")"
   ]
  },
  {
   "cell_type": "code",
   "execution_count": null,
   "metadata": {},
   "outputs": [],
   "source": [
    "df_ex=pd.read_csv(\"KRFrames/df_ex\")"
   ]
  },
  {
   "cell_type": "code",
   "execution_count": null,
   "metadata": {},
   "outputs": [],
   "source": [
    "# hier schaue ich, wie gross das Dataframe ohne die Kommissionen und so ist.\n",
    "df_ex_cl=df_ex[df_ex[\"Namenganz\"].str.contains(\"Kommission|kommission\")==False]"
   ]
  },
  {
   "cell_type": "code",
   "execution_count": null,
   "metadata": {},
   "outputs": [],
   "source": [
    "df_ex_cl=df_ex_cl[[\"VorlageNR\", \"Namenganz\", ]]"
   ]
  },
  {
   "cell_type": "code",
   "execution_count": null,
   "metadata": {},
   "outputs": [],
   "source": [
    "# ICH bereinige von Hand im Excel\n",
    "df_ex_cl.to_excel(\"KRFrames/df_ex_cl.xlsx\")"
   ]
  },
  {
   "cell_type": "code",
   "execution_count": null,
   "metadata": {
    "scrolled": true
   },
   "outputs": [],
   "source": [
    "df_ex_cl[df_ex_cl[\"Namenganz\"].str.contains(\"zur\")]\n",
    "#oook, die Alternativen wurden unteschiedliche benamselt. Das muss ich genauer anschauen.\n",
    "# Auch andere Parteien werden zum Teil doppelt genannt. "
   ]
  },
  {
   "cell_type": "markdown",
   "metadata": {},
   "source": [
    "# Bereinigen der Parteinamen\n",
    "Diese werden in mindestens drei unterschiedlichen Arten genannt\n",
    "\n",
    "### Ich habe mich fürs Bereinigen im Excel entschieden, da Daten noch übersichtlich sind"
   ]
  },
  {
   "cell_type": "code",
   "execution_count": 43,
   "metadata": {},
   "outputs": [],
   "source": [
    "# Hier nun das im Excel bereinigte Sheet\n",
    "df_ex_ber=pd.read_excel(\"KRFrames/df_ex_cl_geputzt.xlsx\")"
   ]
  },
  {
   "cell_type": "markdown",
   "metadata": {},
   "source": [
    "### Problem erkannt: \n",
    "offenbar werden gekoppelte Namen in den Geschäften nur mit den ersten aufgeführt."
   ]
  },
  {
   "cell_type": "code",
   "execution_count": null,
   "metadata": {},
   "outputs": [],
   "source": []
  },
  {
   "cell_type": "code",
   "execution_count": 44,
   "metadata": {},
   "outputs": [
    {
     "data": {
      "text/html": [
       "<div>\n",
       "<style scoped>\n",
       "    .dataframe tbody tr th:only-of-type {\n",
       "        vertical-align: middle;\n",
       "    }\n",
       "\n",
       "    .dataframe tbody tr th {\n",
       "        vertical-align: top;\n",
       "    }\n",
       "\n",
       "    .dataframe thead th {\n",
       "        text-align: right;\n",
       "    }\n",
       "</style>\n",
       "<table border=\"1\" class=\"dataframe\">\n",
       "  <thead>\n",
       "    <tr style=\"text-align: right;\">\n",
       "      <th></th>\n",
       "      <th>VorlageNR</th>\n",
       "      <th>Namenganz</th>\n",
       "    </tr>\n",
       "    <tr>\n",
       "      <th>Unnamed: 0</th>\n",
       "      <th></th>\n",
       "      <th></th>\n",
       "    </tr>\n",
       "  </thead>\n",
       "  <tbody>\n",
       "    <tr>\n",
       "      <td>0</td>\n",
       "      <td>3020</td>\n",
       "      <td>Luzian Franzini</td>\n",
       "    </tr>\n",
       "    <tr>\n",
       "      <td>1</td>\n",
       "      <td>3020</td>\n",
       "      <td>Esther Haas</td>\n",
       "    </tr>\n",
       "    <tr>\n",
       "      <td>2</td>\n",
       "      <td>3019</td>\n",
       "      <td>Luzian Franzini</td>\n",
       "    </tr>\n",
       "    <tr>\n",
       "      <td>3</td>\n",
       "      <td>3019</td>\n",
       "      <td>Rita Hofer</td>\n",
       "    </tr>\n",
       "    <tr>\n",
       "      <td>4</td>\n",
       "      <td>3019</td>\n",
       "      <td>Tabea Zimmermann Gibson</td>\n",
       "    </tr>\n",
       "    <tr>\n",
       "      <td>...</td>\n",
       "      <td>...</td>\n",
       "      <td>...</td>\n",
       "    </tr>\n",
       "    <tr>\n",
       "      <td>1937</td>\n",
       "      <td>836</td>\n",
       "      <td>Käty Hofer Buser</td>\n",
       "    </tr>\n",
       "    <tr>\n",
       "      <td>1940</td>\n",
       "      <td>810</td>\n",
       "      <td>Marcel Meyer</td>\n",
       "    </tr>\n",
       "    <tr>\n",
       "      <td>1941</td>\n",
       "      <td>801</td>\n",
       "      <td>Hans Abicht</td>\n",
       "    </tr>\n",
       "    <tr>\n",
       "      <td>1944</td>\n",
       "      <td>304</td>\n",
       "      <td>Manuela Weichelt</td>\n",
       "    </tr>\n",
       "    <tr>\n",
       "      <td>1945</td>\n",
       "      <td>282</td>\n",
       "      <td>Christoph Hohler</td>\n",
       "    </tr>\n",
       "  </tbody>\n",
       "</table>\n",
       "<p>1915 rows × 2 columns</p>\n",
       "</div>"
      ],
      "text/plain": [
       "            VorlageNR                Namenganz\n",
       "Unnamed: 0                                    \n",
       "0                3020          Luzian Franzini\n",
       "1                3020              Esther Haas\n",
       "2                3019          Luzian Franzini\n",
       "3                3019               Rita Hofer\n",
       "4                3019  Tabea Zimmermann Gibson\n",
       "...               ...                      ...\n",
       "1937              836         Käty Hofer Buser\n",
       "1940              810             Marcel Meyer\n",
       "1941              801              Hans Abicht\n",
       "1944              304         Manuela Weichelt\n",
       "1945              282         Christoph Hohler\n",
       "\n",
       "[1915 rows x 2 columns]"
      ]
     },
     "execution_count": 44,
     "metadata": {},
     "output_type": "execute_result"
    }
   ],
   "source": [
    "df_ex_ber.set_index(\"Unnamed: 0\")\n"
   ]
  },
  {
   "cell_type": "code",
   "execution_count": null,
   "metadata": {},
   "outputs": [],
   "source": [
    "df_ex_ber.shape"
   ]
  },
  {
   "cell_type": "code",
   "execution_count": 45,
   "metadata": {},
   "outputs": [],
   "source": [
    "# Nun das Frame mit den Namen einlesen\n",
    "df_np=pd.read_excel('KRFrames/Alle_Namen_mit_Allianz_und_ohne_ergänzt.xlsx')"
   ]
  },
  {
   "cell_type": "code",
   "execution_count": 46,
   "metadata": {},
   "outputs": [],
   "source": [
    "#von der Bearbeitung hat es nun noch einen anderen Index. stört uns nicht - Wir entfernen \"unnamed:0\"\n",
    "del df_np[\"Unnamed: 0\"]"
   ]
  },
  {
   "cell_type": "code",
   "execution_count": 41,
   "metadata": {},
   "outputs": [
    {
     "data": {
      "text/plain": [
       "(410, 3)"
      ]
     },
     "execution_count": 41,
     "metadata": {},
     "output_type": "execute_result"
    }
   ],
   "source": [
    "df_np.shape #voila"
   ]
  },
  {
   "cell_type": "code",
   "execution_count": null,
   "metadata": {},
   "outputs": [],
   "source": [
    "#Nun die beiden zusammenfügen - an den Namen\n",
    "df_alles=pd.merge(df_np, df_ex_ber, how=\"inner\",on= \"Namenganz\", )"
   ]
  },
  {
   "cell_type": "code",
   "execution_count": null,
   "metadata": {},
   "outputs": [],
   "source": [
    "df_alles=df_alles.sort_values(\"Unnamed: 0\")"
   ]
  },
  {
   "cell_type": "code",
   "execution_count": null,
   "metadata": {},
   "outputs": [],
   "source": [
    "df_alles"
   ]
  },
  {
   "cell_type": "code",
   "execution_count": null,
   "metadata": {
    "scrolled": true
   },
   "outputs": [],
   "source": [
    "df_alles.sort_values(\"P\").tail(41)# So, es sind noch einige wenige, die offenbar fehlerhaft sind\n",
    "# Da es nur noch einzelne Positionen betrifft, finde ich es so jetzt ok.\n",
    "                            "
   ]
  },
  {
   "cell_type": "code",
   "execution_count": null,
   "metadata": {},
   "outputs": [],
   "source": [
    "df_alles.set_index(\"Unnamed: 0\")\n",
    "del df_alles[\"Unnamed: 0.1\"]\n",
    "# nun das df_alles noch abspeichern für den Endcode\n",
    "df_alles.to_csv(\"KRFrames/Frame_mit_Namen_und_Parteien\")"
   ]
  },
  {
   "cell_type": "code",
   "execution_count": null,
   "metadata": {},
   "outputs": [],
   "source": [
    "df_alles.dtypes"
   ]
  },
  {
   "cell_type": "code",
   "execution_count": null,
   "metadata": {},
   "outputs": [],
   "source": [
    "del df_alles[\"Unnamed: 0.1\"]\n"
   ]
  },
  {
   "cell_type": "code",
   "execution_count": null,
   "metadata": {},
   "outputs": [],
   "source": [
    "# nun das df_alles noch abspeichern für den Endcode\n",
    "df_alles.to_csv(\"KRFrames/Frame_mit_Namen_und_Parteien\")"
   ]
  },
  {
   "cell_type": "markdown",
   "metadata": {},
   "source": [
    "# Bereinigung, Parteien und Doppelnamen\n",
    "offenbar werden bei mehrern Parteien diese nicht richtig getrennt. ich werde diese nun:\n",
    "- dataframes mit str.contains machen und die Parteien rausfiltern und sie richtig benennen\n",
    "- dazu sage ich allen jeweiligen Spalten, sie sollen nun z.b. SVP-Fraktion heissen.\n",
    "- Fäür jede Patei inkl Vorlagenummer ein neues Dataframe abspeichern\n",
    "- alle an die Namensliste hänen\n",
    "- Dublikate bei Namen und Vorlagenummern löschen"
   ]
  },
  {
   "cell_type": "code",
   "execution_count": 22,
   "metadata": {},
   "outputs": [],
   "source": [
    "df_alles1=pd.read_csv(\"KRFrames/Frame_mit_Namen_und_Parteien\")"
   ]
  },
  {
   "cell_type": "code",
   "execution_count": 4,
   "metadata": {},
   "outputs": [],
   "source": [
    "df_vs=pd.read_csv(\"KRFrames/df_v_Hauptseiten\")"
   ]
  },
  {
   "cell_type": "code",
   "execution_count": 5,
   "metadata": {},
   "outputs": [],
   "source": [
    "df_vs1=df_vs[[\"VorlageNR\", \"Geschäft\"]]"
   ]
  },
  {
   "cell_type": "code",
   "execution_count": 6,
   "metadata": {},
   "outputs": [],
   "source": [
    "#die Dataframes\n",
    "df_alg=df_vs1[df_vs1[\"Geschäft\"].str.contains(\"Alternative\")]\n",
    "df_sp=df_vs1[df_vs1[\"Geschäft\"].str.contains(\"SP\")]\n",
    "df_cvp=df_vs1[df_vs1[\"Geschäft\"].str.contains(\"CVP\")]\n",
    "df_fdp=df_vs1[df_vs1[\"Geschäft\"].str.contains(\"FDP\")]\n",
    "df_glp=df_vs1[df_vs1[\"Geschäft\"].str.contains(\"GLP\")]\n",
    "df_svp=df_vs1[df_vs1[\"Geschäft\"].str.contains(\"SVP\")]"
   ]
  },
  {
   "cell_type": "code",
   "execution_count": 10,
   "metadata": {
    "scrolled": true
   },
   "outputs": [],
   "source": [
    "#hier eine Funktion, um bei allen Namen die jeweilige Partei einzufügen.\n",
    "def pareiersetz(satz):\n",
    "    satz=partei\n",
    "    return satz        "
   ]
  },
  {
   "cell_type": "code",
   "execution_count": 19,
   "metadata": {},
   "outputs": [
    {
     "name": "stderr",
     "output_type": "stream",
     "text": [
      "C:\\Users\\Zoe\\Anaconda3\\lib\\site-packages\\ipykernel_launcher.py:2: SettingWithCopyWarning: \n",
      "A value is trying to be set on a copy of a slice from a DataFrame.\n",
      "Try using .loc[row_indexer,col_indexer] = value instead\n",
      "\n",
      "See the caveats in the documentation: http://pandas.pydata.org/pandas-docs/stable/user_guide/indexing.html#returning-a-view-versus-a-copy\n",
      "  \n",
      "C:\\Users\\Zoe\\Anaconda3\\lib\\site-packages\\ipykernel_launcher.py:4: SettingWithCopyWarning: \n",
      "A value is trying to be set on a copy of a slice from a DataFrame.\n",
      "Try using .loc[row_indexer,col_indexer] = value instead\n",
      "\n",
      "See the caveats in the documentation: http://pandas.pydata.org/pandas-docs/stable/user_guide/indexing.html#returning-a-view-versus-a-copy\n",
      "  after removing the cwd from sys.path.\n",
      "C:\\Users\\Zoe\\Anaconda3\\lib\\site-packages\\ipykernel_launcher.py:6: SettingWithCopyWarning: \n",
      "A value is trying to be set on a copy of a slice from a DataFrame.\n",
      "Try using .loc[row_indexer,col_indexer] = value instead\n",
      "\n",
      "See the caveats in the documentation: http://pandas.pydata.org/pandas-docs/stable/user_guide/indexing.html#returning-a-view-versus-a-copy\n",
      "  \n",
      "C:\\Users\\Zoe\\Anaconda3\\lib\\site-packages\\ipykernel_launcher.py:10: SettingWithCopyWarning: \n",
      "A value is trying to be set on a copy of a slice from a DataFrame.\n",
      "Try using .loc[row_indexer,col_indexer] = value instead\n",
      "\n",
      "See the caveats in the documentation: http://pandas.pydata.org/pandas-docs/stable/user_guide/indexing.html#returning-a-view-versus-a-copy\n",
      "  # Remove the CWD from sys.path while we load stuff.\n",
      "C:\\Users\\Zoe\\Anaconda3\\lib\\site-packages\\ipykernel_launcher.py:12: SettingWithCopyWarning: \n",
      "A value is trying to be set on a copy of a slice from a DataFrame.\n",
      "Try using .loc[row_indexer,col_indexer] = value instead\n",
      "\n",
      "See the caveats in the documentation: http://pandas.pydata.org/pandas-docs/stable/user_guide/indexing.html#returning-a-view-versus-a-copy\n",
      "  if sys.path[0] == '':\n"
     ]
    }
   ],
   "source": [
    "partei=\"SVP-Fraktion\"\n",
    "df_svp[\"Geschäft\"]=df_svp[\"Geschäft\"].apply(pareiersetz)\n",
    "partei=\"FDP-Fraktion\"\n",
    "df_fdp[\"Geschäft\"]=df_fdp[\"Geschäft\"].apply(pareiersetz)\n",
    "partei=\"CVP-Fraktion\"\n",
    "df_cvp[\"Geschäft\"]=df_cvp[\"Geschäft\"].apply(pareiersetz)\n",
    "partei=\"GLP-Fraktion\"\n",
    "df_glp[\"Geschäft\"]=df_glp[\"Geschäft\"].apply(pareiersetz)\n",
    "partei=\"SP-Fraktion\"\n",
    "df_sp[\"Geschäft\"]=df_sp[\"Geschäft\"].apply(pareiersetz)\n",
    "partei=\"Alternative\"\n",
    "df_alg[\"Geschäft\"]=df_alg[\"Geschäft\"].apply(pareiersetz)"
   ]
  },
  {
   "cell_type": "code",
   "execution_count": 27,
   "metadata": {},
   "outputs": [],
   "source": [
    "#zuerst die Parteiframes zusammenfügen\n",
    "frames=[df_svp, df_fdp, df_glp, df_cvp, df_sp, df_alg]\n",
    "df_alpart = pd.concat(frames,sort=True)\n"
   ]
  },
  {
   "cell_type": "code",
   "execution_count": 29,
   "metadata": {},
   "outputs": [],
   "source": [
    "#nun den Namen dem Frame Namenganz anpassen\n",
    "df_alpart.rename(columns={\"Geschäft\":\"Namenganz\"}, inplace=True)"
   ]
  },
  {
   "cell_type": "code",
   "execution_count": 47,
   "metadata": {},
   "outputs": [],
   "source": [
    "# nun muss ich das dataframe noch mit jenem der Parteien zusammenfügen\n",
    "df_alpart1=pd.merge(df_alpart, df_np, how=\"inner\",on= \"Namenganz\")"
   ]
  },
  {
   "cell_type": "code",
   "execution_count": 48,
   "metadata": {},
   "outputs": [
    {
     "data": {
      "text/html": [
       "<div>\n",
       "<style scoped>\n",
       "    .dataframe tbody tr th:only-of-type {\n",
       "        vertical-align: middle;\n",
       "    }\n",
       "\n",
       "    .dataframe tbody tr th {\n",
       "        vertical-align: top;\n",
       "    }\n",
       "\n",
       "    .dataframe thead th {\n",
       "        text-align: right;\n",
       "    }\n",
       "</style>\n",
       "<table border=\"1\" class=\"dataframe\">\n",
       "  <thead>\n",
       "    <tr style=\"text-align: right;\">\n",
       "      <th></th>\n",
       "      <th>Namenganz</th>\n",
       "      <th>VorlageNR</th>\n",
       "      <th>P</th>\n",
       "      <th>Unnamed: 0.1</th>\n",
       "    </tr>\n",
       "  </thead>\n",
       "  <tbody>\n",
       "    <tr>\n",
       "      <td>0</td>\n",
       "      <td>SVP-Fraktion</td>\n",
       "      <td>3014</td>\n",
       "      <td>SVP</td>\n",
       "      <td>NaN</td>\n",
       "    </tr>\n",
       "    <tr>\n",
       "      <td>1</td>\n",
       "      <td>SVP-Fraktion</td>\n",
       "      <td>2977</td>\n",
       "      <td>SVP</td>\n",
       "      <td>NaN</td>\n",
       "    </tr>\n",
       "    <tr>\n",
       "      <td>2</td>\n",
       "      <td>SVP-Fraktion</td>\n",
       "      <td>2955</td>\n",
       "      <td>SVP</td>\n",
       "      <td>NaN</td>\n",
       "    </tr>\n",
       "    <tr>\n",
       "      <td>3</td>\n",
       "      <td>SVP-Fraktion</td>\n",
       "      <td>2941</td>\n",
       "      <td>SVP</td>\n",
       "      <td>NaN</td>\n",
       "    </tr>\n",
       "    <tr>\n",
       "      <td>4</td>\n",
       "      <td>SVP-Fraktion</td>\n",
       "      <td>2937</td>\n",
       "      <td>SVP</td>\n",
       "      <td>NaN</td>\n",
       "    </tr>\n",
       "    <tr>\n",
       "      <td>...</td>\n",
       "      <td>...</td>\n",
       "      <td>...</td>\n",
       "      <td>...</td>\n",
       "      <td>...</td>\n",
       "    </tr>\n",
       "    <tr>\n",
       "      <td>296</td>\n",
       "      <td>SP-Fraktion</td>\n",
       "      <td>1253</td>\n",
       "      <td>SP</td>\n",
       "      <td>NaN</td>\n",
       "    </tr>\n",
       "    <tr>\n",
       "      <td>297</td>\n",
       "      <td>SP-Fraktion</td>\n",
       "      <td>1211</td>\n",
       "      <td>SP</td>\n",
       "      <td>NaN</td>\n",
       "    </tr>\n",
       "    <tr>\n",
       "      <td>298</td>\n",
       "      <td>SP-Fraktion</td>\n",
       "      <td>1188</td>\n",
       "      <td>SP</td>\n",
       "      <td>NaN</td>\n",
       "    </tr>\n",
       "    <tr>\n",
       "      <td>299</td>\n",
       "      <td>SP-Fraktion</td>\n",
       "      <td>1187</td>\n",
       "      <td>SP</td>\n",
       "      <td>NaN</td>\n",
       "    </tr>\n",
       "    <tr>\n",
       "      <td>300</td>\n",
       "      <td>SP-Fraktion</td>\n",
       "      <td>1025</td>\n",
       "      <td>SP</td>\n",
       "      <td>NaN</td>\n",
       "    </tr>\n",
       "  </tbody>\n",
       "</table>\n",
       "<p>301 rows × 4 columns</p>\n",
       "</div>"
      ],
      "text/plain": [
       "        Namenganz  VorlageNR    P  Unnamed: 0.1\n",
       "0    SVP-Fraktion       3014  SVP           NaN\n",
       "1    SVP-Fraktion       2977  SVP           NaN\n",
       "2    SVP-Fraktion       2955  SVP           NaN\n",
       "3    SVP-Fraktion       2941  SVP           NaN\n",
       "4    SVP-Fraktion       2937  SVP           NaN\n",
       "..            ...        ...  ...           ...\n",
       "296   SP-Fraktion       1253   SP           NaN\n",
       "297   SP-Fraktion       1211   SP           NaN\n",
       "298   SP-Fraktion       1188   SP           NaN\n",
       "299   SP-Fraktion       1187   SP           NaN\n",
       "300   SP-Fraktion       1025   SP           NaN\n",
       "\n",
       "[301 rows x 4 columns]"
      ]
     },
     "execution_count": 48,
     "metadata": {},
     "output_type": "execute_result"
    }
   ],
   "source": [
    "df_alpart1"
   ]
  },
  {
   "cell_type": "code",
   "execution_count": 49,
   "metadata": {},
   "outputs": [],
   "source": [
    "#nun mit df_alles zusammenfügen\n",
    "newframes=[df_alles1, df_alpart1]\n",
    "df_alles2=pd.concat(newframes, sort=True)"
   ]
  },
  {
   "cell_type": "code",
   "execution_count": 50,
   "metadata": {
    "scrolled": true
   },
   "outputs": [
    {
     "data": {
      "text/html": [
       "<div>\n",
       "<style scoped>\n",
       "    .dataframe tbody tr th:only-of-type {\n",
       "        vertical-align: middle;\n",
       "    }\n",
       "\n",
       "    .dataframe tbody tr th {\n",
       "        vertical-align: top;\n",
       "    }\n",
       "\n",
       "    .dataframe thead th {\n",
       "        text-align: right;\n",
       "    }\n",
       "</style>\n",
       "<table border=\"1\" class=\"dataframe\">\n",
       "  <thead>\n",
       "    <tr style=\"text-align: right;\">\n",
       "      <th></th>\n",
       "      <th>Namenganz</th>\n",
       "      <th>P</th>\n",
       "      <th>Unnamed: 0</th>\n",
       "      <th>Unnamed: 0.1</th>\n",
       "      <th>VorlageNR</th>\n",
       "    </tr>\n",
       "  </thead>\n",
       "  <tbody>\n",
       "    <tr>\n",
       "      <td>0</td>\n",
       "      <td>Luzian Franzini</td>\n",
       "      <td>ALG</td>\n",
       "      <td>1828.0</td>\n",
       "      <td>0.0</td>\n",
       "      <td>3020</td>\n",
       "    </tr>\n",
       "    <tr>\n",
       "      <td>1</td>\n",
       "      <td>Esther Haas</td>\n",
       "      <td>ALG</td>\n",
       "      <td>1018.0</td>\n",
       "      <td>1.0</td>\n",
       "      <td>3020</td>\n",
       "    </tr>\n",
       "    <tr>\n",
       "      <td>2</td>\n",
       "      <td>Luzian Franzini</td>\n",
       "      <td>ALG</td>\n",
       "      <td>1829.0</td>\n",
       "      <td>2.0</td>\n",
       "      <td>3019</td>\n",
       "    </tr>\n",
       "    <tr>\n",
       "      <td>3</td>\n",
       "      <td>Rita Hofer</td>\n",
       "      <td>ALG</td>\n",
       "      <td>1231.0</td>\n",
       "      <td>3.0</td>\n",
       "      <td>3019</td>\n",
       "    </tr>\n",
       "    <tr>\n",
       "      <td>4</td>\n",
       "      <td>Tabea Zimmermann Gibson</td>\n",
       "      <td>ALG</td>\n",
       "      <td>1323.0</td>\n",
       "      <td>4.0</td>\n",
       "      <td>3019</td>\n",
       "    </tr>\n",
       "    <tr>\n",
       "      <td>...</td>\n",
       "      <td>...</td>\n",
       "      <td>...</td>\n",
       "      <td>...</td>\n",
       "      <td>...</td>\n",
       "      <td>...</td>\n",
       "    </tr>\n",
       "    <tr>\n",
       "      <td>296</td>\n",
       "      <td>SP-Fraktion</td>\n",
       "      <td>SP</td>\n",
       "      <td>NaN</td>\n",
       "      <td>NaN</td>\n",
       "      <td>1253</td>\n",
       "    </tr>\n",
       "    <tr>\n",
       "      <td>297</td>\n",
       "      <td>SP-Fraktion</td>\n",
       "      <td>SP</td>\n",
       "      <td>NaN</td>\n",
       "      <td>NaN</td>\n",
       "      <td>1211</td>\n",
       "    </tr>\n",
       "    <tr>\n",
       "      <td>298</td>\n",
       "      <td>SP-Fraktion</td>\n",
       "      <td>SP</td>\n",
       "      <td>NaN</td>\n",
       "      <td>NaN</td>\n",
       "      <td>1188</td>\n",
       "    </tr>\n",
       "    <tr>\n",
       "      <td>299</td>\n",
       "      <td>SP-Fraktion</td>\n",
       "      <td>SP</td>\n",
       "      <td>NaN</td>\n",
       "      <td>NaN</td>\n",
       "      <td>1187</td>\n",
       "    </tr>\n",
       "    <tr>\n",
       "      <td>300</td>\n",
       "      <td>SP-Fraktion</td>\n",
       "      <td>SP</td>\n",
       "      <td>NaN</td>\n",
       "      <td>NaN</td>\n",
       "      <td>1025</td>\n",
       "    </tr>\n",
       "  </tbody>\n",
       "</table>\n",
       "<p>2201 rows × 5 columns</p>\n",
       "</div>"
      ],
      "text/plain": [
       "                   Namenganz    P  Unnamed: 0  Unnamed: 0.1  VorlageNR\n",
       "0            Luzian Franzini  ALG      1828.0           0.0       3020\n",
       "1                Esther Haas  ALG      1018.0           1.0       3020\n",
       "2            Luzian Franzini  ALG      1829.0           2.0       3019\n",
       "3                 Rita Hofer  ALG      1231.0           3.0       3019\n",
       "4    Tabea Zimmermann Gibson  ALG      1323.0           4.0       3019\n",
       "..                       ...  ...         ...           ...        ...\n",
       "296              SP-Fraktion   SP         NaN           NaN       1253\n",
       "297              SP-Fraktion   SP         NaN           NaN       1211\n",
       "298              SP-Fraktion   SP         NaN           NaN       1188\n",
       "299              SP-Fraktion   SP         NaN           NaN       1187\n",
       "300              SP-Fraktion   SP         NaN           NaN       1025\n",
       "\n",
       "[2201 rows x 5 columns]"
      ]
     },
     "execution_count": 50,
     "metadata": {},
     "output_type": "execute_result"
    }
   ],
   "source": [
    "df_alles2"
   ]
  },
  {
   "cell_type": "code",
   "execution_count": 51,
   "metadata": {},
   "outputs": [],
   "source": [
    "df_allesgut=df_alles2.drop_duplicates(subset=['VorlageNR', 'Namenganz'], keep=False)"
   ]
  },
  {
   "cell_type": "code",
   "execution_count": 52,
   "metadata": {
    "scrolled": false
   },
   "outputs": [
    {
     "data": {
      "text/html": [
       "<div>\n",
       "<style scoped>\n",
       "    .dataframe tbody tr th:only-of-type {\n",
       "        vertical-align: middle;\n",
       "    }\n",
       "\n",
       "    .dataframe tbody tr th {\n",
       "        vertical-align: top;\n",
       "    }\n",
       "\n",
       "    .dataframe thead th {\n",
       "        text-align: right;\n",
       "    }\n",
       "</style>\n",
       "<table border=\"1\" class=\"dataframe\">\n",
       "  <thead>\n",
       "    <tr style=\"text-align: right;\">\n",
       "      <th></th>\n",
       "      <th>Namenganz</th>\n",
       "      <th>P</th>\n",
       "      <th>Unnamed: 0</th>\n",
       "      <th>Unnamed: 0.1</th>\n",
       "    </tr>\n",
       "    <tr>\n",
       "      <th>VorlageNR</th>\n",
       "      <th></th>\n",
       "      <th></th>\n",
       "      <th></th>\n",
       "      <th></th>\n",
       "    </tr>\n",
       "  </thead>\n",
       "  <tbody>\n",
       "    <tr>\n",
       "      <td>282</td>\n",
       "      <td>1</td>\n",
       "      <td>1</td>\n",
       "      <td>1</td>\n",
       "      <td>1</td>\n",
       "    </tr>\n",
       "    <tr>\n",
       "      <td>304</td>\n",
       "      <td>1</td>\n",
       "      <td>1</td>\n",
       "      <td>1</td>\n",
       "      <td>1</td>\n",
       "    </tr>\n",
       "    <tr>\n",
       "      <td>801</td>\n",
       "      <td>1</td>\n",
       "      <td>1</td>\n",
       "      <td>1</td>\n",
       "      <td>1</td>\n",
       "    </tr>\n",
       "    <tr>\n",
       "      <td>810</td>\n",
       "      <td>1</td>\n",
       "      <td>1</td>\n",
       "      <td>1</td>\n",
       "      <td>1</td>\n",
       "    </tr>\n",
       "    <tr>\n",
       "      <td>836</td>\n",
       "      <td>1</td>\n",
       "      <td>1</td>\n",
       "      <td>1</td>\n",
       "      <td>1</td>\n",
       "    </tr>\n",
       "    <tr>\n",
       "      <td>...</td>\n",
       "      <td>...</td>\n",
       "      <td>...</td>\n",
       "      <td>...</td>\n",
       "      <td>...</td>\n",
       "    </tr>\n",
       "    <tr>\n",
       "      <td>3010</td>\n",
       "      <td>4</td>\n",
       "      <td>4</td>\n",
       "      <td>4</td>\n",
       "      <td>4</td>\n",
       "    </tr>\n",
       "    <tr>\n",
       "      <td>3017</td>\n",
       "      <td>3</td>\n",
       "      <td>3</td>\n",
       "      <td>3</td>\n",
       "      <td>3</td>\n",
       "    </tr>\n",
       "    <tr>\n",
       "      <td>3018</td>\n",
       "      <td>3</td>\n",
       "      <td>3</td>\n",
       "      <td>3</td>\n",
       "      <td>3</td>\n",
       "    </tr>\n",
       "    <tr>\n",
       "      <td>3019</td>\n",
       "      <td>5</td>\n",
       "      <td>5</td>\n",
       "      <td>5</td>\n",
       "      <td>5</td>\n",
       "    </tr>\n",
       "    <tr>\n",
       "      <td>3020</td>\n",
       "      <td>2</td>\n",
       "      <td>2</td>\n",
       "      <td>2</td>\n",
       "      <td>2</td>\n",
       "    </tr>\n",
       "  </tbody>\n",
       "</table>\n",
       "<p>891 rows × 4 columns</p>\n",
       "</div>"
      ],
      "text/plain": [
       "           Namenganz  P  Unnamed: 0  Unnamed: 0.1\n",
       "VorlageNR                                        \n",
       "282                1  1           1             1\n",
       "304                1  1           1             1\n",
       "801                1  1           1             1\n",
       "810                1  1           1             1\n",
       "836                1  1           1             1\n",
       "...              ... ..         ...           ...\n",
       "3010               4  4           4             4\n",
       "3017               3  3           3             3\n",
       "3018               3  3           3             3\n",
       "3019               5  5           5             5\n",
       "3020               2  2           2             2\n",
       "\n",
       "[891 rows x 4 columns]"
      ]
     },
     "execution_count": 52,
     "metadata": {},
     "output_type": "execute_result"
    }
   ],
   "source": [
    "df_allesgut.groupby(\"VorlageNR\").count()"
   ]
  },
  {
   "cell_type": "code",
   "execution_count": 53,
   "metadata": {},
   "outputs": [],
   "source": [
    "df_allesgut.to_csv(\"KRFrames/Frame_Namen_Partei_endversion\")"
   ]
  },
  {
   "cell_type": "code",
   "execution_count": null,
   "metadata": {},
   "outputs": [],
   "source": []
  }
 ],
 "metadata": {
  "kernelspec": {
   "display_name": "Python 3",
   "language": "python",
   "name": "python3"
  },
  "language_info": {
   "codemirror_mode": {
    "name": "ipython",
    "version": 3
   },
   "file_extension": ".py",
   "mimetype": "text/x-python",
   "name": "python",
   "nbconvert_exporter": "python",
   "pygments_lexer": "ipython3",
   "version": "3.7.3"
  }
 },
 "nbformat": 4,
 "nbformat_minor": 2
}
