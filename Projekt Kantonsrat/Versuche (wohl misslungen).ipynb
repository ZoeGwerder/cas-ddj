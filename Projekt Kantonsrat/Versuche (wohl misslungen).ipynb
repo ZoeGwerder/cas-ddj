{
 "cells": [
  {
   "cell_type": "code",
   "execution_count": null,
   "metadata": {},
   "outputs": [],
   "source": [
    "import requests\n",
    "import pandas as pd"
   ]
  },
  {
   "cell_type": "code",
   "execution_count": null,
   "metadata": {},
   "outputs": [],
   "source": [
    "from bs4 import BeautifulSoup\n",
    "import matplotlib.pyplot as plt\n",
    "%matplotlib inline\n",
    "#zuerst die nötigen Biblis runterladen."
   ]
  },
  {
   "cell_type": "code",
   "execution_count": null,
   "metadata": {},
   "outputs": [],
   "source": [
    "r=requests.get(\"https://kr-geschaefte.zug.ch/gast/geschaefte?commit=Filtern&geschaeft_filter%5Babgeschlossen_bis%5D=&geschaeft_filter%5Babgeschlossen_von%5D=&geschaeft_filter%5Barten_refs%5D%5B%5D=&geschaeft_filter%5Beingereicht_bis%5D=&geschaeft_filter%5Beingereicht_von%5D=&geschaeft_filter%5Bfrist_bis%5D=&geschaeft_filter%5Bhistorische_staende_refs%5D%5B%5D=&geschaeft_filter%5Bkommissionen_refs%5D%5B%5D=&geschaeft_filter%5Bstaende_refs%5D%5B%5D=&geschaeft_filter%5Bstatus_ids%5D%5B%5D=haengig&geschaeft_filter%5Bstatus_ids%5D%5B%5D=abgeschlossen&geschaeft_filter%5Bstatus_ids%5D%5B%5D=&geschaeft_filter%5Btitel%5D=&geschaeft_filter%5Bzustaendig_refs%5D%5B%5D=&page=1&utf8=✓\")\n",
    "soup=BeautifulSoup(r.text, \"html.parser\")"
   ]
  },
  {
   "cell_type": "code",
   "execution_count": null,
   "metadata": {},
   "outputs": [],
   "source": [
    "soup"
   ]
  },
  {
   "cell_type": "code",
   "execution_count": null,
   "metadata": {},
   "outputs": [],
   "source": [
    "tr_list=soup.find_all(\"tr\") #das ist eine Liste mit allen \"tr\"-Tags drinn."
   ]
  },
  {
   "cell_type": "code",
   "execution_count": null,
   "metadata": {},
   "outputs": [],
   "source": [
    "tr_list[3]#durchschauen, ab welcher Position es spannend wird und die Daten sind die wir baruchen."
   ]
  },
  {
   "cell_type": "code",
   "execution_count": null,
   "metadata": {},
   "outputs": [],
   "source": [
    "tr_liste=tr_list[3:] #da die Daten erst ab der 3. Position verwendet werden sollen, speichere ich die in neue Variable."
   ]
  },
  {
   "cell_type": "code",
   "execution_count": null,
   "metadata": {},
   "outputs": [],
   "source": [
    "\n",
    "    "
   ]
  },
  {
   "cell_type": "code",
   "execution_count": null,
   "metadata": {},
   "outputs": [],
   "source": []
  },
  {
   "cell_type": "code",
   "execution_count": null,
   "metadata": {},
   "outputs": [],
   "source": [
    "tr_liste[0].find_all(\"td\")[1].text #nun haben wir alle td rausgeholt und sie in einer Liste. \n",
    "#dort schauen wir die zweite Position an. Mit .text bringen wir dort den Text alleine raus. "
   ]
  },
  {
   "cell_type": "code",
   "execution_count": null,
   "metadata": {},
   "outputs": [],
   "source": [
    "td_list=tr_liste[0].find_all(\"td\") #nun eine vorübergehende Variable besteimmen. hier temp"
   ]
  },
  {
   "cell_type": "code",
   "execution_count": null,
   "metadata": {
    "scrolled": true
   },
   "outputs": [],
   "source": [
    "for td_tag in td_list:\n",
    "    print(td_tag.text)"
   ]
  },
  {
   "cell_type": "code",
   "execution_count": null,
   "metadata": {},
   "outputs": [],
   "source": [
    "td_list[0]"
   ]
  },
  {
   "cell_type": "code",
   "execution_count": null,
   "metadata": {},
   "outputs": [],
   "source": [
    "#nun müssen wir noch an den Titel rankommen. Der kommt nicht raus, weil er nicht als Text drinn gespeichert ist.\n",
    "#denn .text sieht nur das was auf der Page ersichtlich ist.\n",
    "td_list[0].text"
   ]
  },
  {
   "cell_type": "code",
   "execution_count": null,
   "metadata": {},
   "outputs": [],
   "source": [
    "td_list[0].find(\"a\")[\"href\"] #href ist wie ein key. das a müssen wir auslese, da es eine unterkathegorie von td ist.\n",
    "#alle html-Tags die eine weiter funktion bekanntgeben ist wie ein key "
   ]
  },
  {
   "cell_type": "code",
   "execution_count": null,
   "metadata": {},
   "outputs": [],
   "source": [
    "#hier würde auch die Geschäftsnummer drinn stehen. Nur ist diese für mich gerade nicht erreichbar.\n",
    "td_list[0].find(\"a\")"
   ]
  },
  {
   "cell_type": "code",
   "execution_count": null,
   "metadata": {},
   "outputs": [],
   "source": [
    "#nun müssen wir Infos zusammenziehen\n",
    "#zuerst ein Minidic bauen\n",
    "#wir ziehen nun ein Element nach dem anderen raus.\n",
    "td_list = tr_liste[0].find_all(\"td\")\n",
    "vorlag_nr=td_list[0].text\n",
    "url = td_list[0].find(\"a\")[\"href\"]\n",
    "text = td_list[1].text\n",
    "stand = td_list[2].text\n",
    "zustaendig = td_list[3].text\n",
    "geschaeft_art = td_list[4].text\n",
    "status = td_list[5].text\n",
    "\n",
    "#weil es relativ übersichtlich ist, haben wir jede Variable einzel definiert und geschrieben. Sonst wärs Loop in loop.\n",
    "#nun packen wir es in minidict\n",
    "\n",
    "mini_dict = {\"GeschäftsNR\": vorlag_nr, \"url\":url,\"Geschäft\":text, \"Stand\":stand, \"Zuständigkeit\":zustaendig, \"Art des Geschäfts\": geschaeft_art, \"Status\":status}\n"
   ]
  },
  {
   "cell_type": "code",
   "execution_count": null,
   "metadata": {},
   "outputs": [],
   "source": [
    "#jetzt müssen wir dies auf alle \"tr\"-Positionen (gute_liste) auf der Seite 1 anwenden.\n",
    "# die tr_liste durch element ersetzen. Bei Element keine \"ortsangabe\", da es bereits sagt, wo es  ist.\n",
    "seite_eins = []\n",
    "for element in tr_liste:\n",
    "    td_list = element.find_all(\"td\")\n",
    "    vorlag_nr=td_list[0].text\n",
    "    url = td_list[0].find(\"a\")[\"href\"]\n",
    "    text = td_list[1].text\n",
    "    stand = td_list[2].text\n",
    "    zustaendig = td_list[3].text\n",
    "    geschaeft_art = td_list[4].text\n",
    "    status = td_list[5].text\n",
    "\n",
    "#weil es relativ übersichtlich ist, haben wir jede Variable einzel definiert und geschrieben. Sonst wärs Loop in loop.\n",
    "#nun packen wir es in minidict\n",
    "\n",
    "    mini_dict = {\"GeschäftsNR\": vorlag_nr, \"Geschäft\":text, \"Stand\":stand, \"Zuständigkeit\":zustaendig, \"Art des Geschäfts\": geschaeft_art, \"Status\":status}\n",
    "\n",
    "    seite_eins.append(mini_dict)\n"
   ]
  },
  {
   "cell_type": "code",
   "execution_count": null,
   "metadata": {},
   "outputs": [],
   "source": [
    "pd.DataFrame(seite_eins)"
   ]
  },
  {
   "cell_type": "code",
   "execution_count": null,
   "metadata": {},
   "outputs": [],
   "source": [
    "#jetzt machen wir das für alle Seiten. (aber noch nicht ganz automatisiert)\n",
    "url = \"https://kr-geschaefte.zug.ch/gast/geschaefte?commit=Filtern&geschaeft_filter%5Babgeschlossen_bis%5D=&geschaeft_filter%5Babgeschlossen_von%5D=&geschaeft_filter%5Barten_refs%5D%5B%5D=&geschaeft_filter%5Beingereicht_bis%5D=&geschaeft_filter%5Beingereicht_von%5D=&geschaeft_filter%5Bfrist_bis%5D=&geschaeft_filter%5Bhistorische_staende_refs%5D%5B%5D=&geschaeft_filter%5Bkommissionen_refs%5D%5B%5D=&geschaeft_filter%5Bstaende_refs%5D%5B%5D=&geschaeft_filter%5Bstatus_ids%5D%5B%5D=haengig&geschaeft_filter%5Bstatus_ids%5D%5B%5D=abgeschlossen&geschaeft_filter%5Bstatus_ids%5D%5B%5D=&geschaeft_filter%5Btitel%5D=&geschaeft_filter%5Bzustaendig_refs%5D%5B%5D=&page=\"\n",
    "#zuerst wollen wir die Seite besuchen. \n",
    "#nun müssen wir das machen was wir ganz am Anfang gemacht haben, aber im Forloop.Durch alle 40 Seiten.\n",
    "# danach müssen wir den anderen Loop ranhängen. Sodass er es für alle 40 Seiten macht.\n",
    "# wir machen dazu auch eine neue Liste für alle Seiten.\n",
    "alle_seiten = []\n",
    "for seite in range(1,41):\n",
    "    r=requests.get(url+str(seite))\n",
    "    soup = BeautifulSoup(r.text,\"html.parser\")\n",
    "    \n",
    "    tr_list=soup.find_all(\"tr\")[2:] # 2 weil der Kopf (die ersten zwei Positionen) uns nicht interessiert\n",
    "    \n",
    "    for element in tr_list:\n",
    "        td_list = element.find_all(\"td\")\n",
    "        vorlag_nr=td_list[0].text\n",
    "        href = td_list[0].find(\"a\")[\"href\"]\n",
    "        text = td_list[1].text\n",
    "        stand = td_list[2].text\n",
    "        zustaendig = td_list[3].text\n",
    "        geschaeft_art = td_list[4].text\n",
    "        status = td_list[5].text\n",
    "        \n",
    "        mini_dict = {\"GeschäftsNR\": vorlag_nr,\"url\":href,\"Geschäft\":text, \"Stand\":stand, \"Zuständigkeit\":zustaendig, \"Art des Geschäfts\": geschaeft_art, \"Status\":status}\n",
    "\n",
    "        alle_seiten.append(mini_dict)\n",
    "\n"
   ]
  },
  {
   "cell_type": "code",
   "execution_count": null,
   "metadata": {
    "scrolled": false
   },
   "outputs": [],
   "source": [
    "df_a=pd.DataFrame(alle_seiten)"
   ]
  },
  {
   "cell_type": "code",
   "execution_count": null,
   "metadata": {},
   "outputs": [],
   "source": [
    "#Hier der Versuch, den \"unterloop\" als Definition zu machen.\n",
    "def minidict(listenelement):\n",
    " \n",
    "\n",
    "    for element in listenelement:\n",
    "        td_list = element.find_all(\"td\")\n",
    "        href = td_list[0].find(\"a\")[\"href\"]\n",
    "        text = td_list[1].text\n",
    "        stand = td_list[2].text\n",
    "        zustaendig = td_list[3].text\n",
    "        geschaeft_art = td_list[4].text\n",
    "        status = td_list[5].text\n",
    "        \n",
    "        mini_dict = {\"url\":href,\"Geschäft\":text, \"Stand\":stand, \"Zuständigkeit\":zustaendig, \"Art des Geschäfts\": geschaeft_art, \"Status\":status}\n",
    "\n",
    "        return mini_dict"
   ]
  },
  {
   "cell_type": "code",
   "execution_count": null,
   "metadata": {},
   "outputs": [],
   "source": [
    "df=pd.DataFrame(alle_seiten)"
   ]
  },
  {
   "cell_type": "code",
   "execution_count": null,
   "metadata": {
    "scrolled": true
   },
   "outputs": [],
   "source": [
    "df[\"url\"]\n",
    "#so kann ich einzelne Sachen rausziehen."
   ]
  },
  {
   "cell_type": "code",
   "execution_count": null,
   "metadata": {},
   "outputs": [],
   "source": [
    "url_liste_ganz=[]\n",
    "url_anfang_original=\"https://kr-geschaefte.zug.ch\"\n",
    "for element in df[\"url\"]:\n",
    "    url_liste_ganz.append(url_anfang_original+element)\n",
    "    \n",
    " "
   ]
  },
  {
   "cell_type": "code",
   "execution_count": null,
   "metadata": {},
   "outputs": [],
   "source": [
    "url_liste_ganz"
   ]
  },
  {
   "cell_type": "code",
   "execution_count": null,
   "metadata": {},
   "outputs": [],
   "source": [
    "#Auf diese URL-s können wir unser System wieder draufschicken."
   ]
  },
  {
   "cell_type": "markdown",
   "metadata": {},
   "source": [
    "## Nun gehts in die Unterseiten. \n",
    "Dort von diesen erstelle ich ein neues Dataframe mit Geschäftsnummer und Einreichedatum"
   ]
  },
  {
   "cell_type": "code",
   "execution_count": null,
   "metadata": {},
   "outputs": [],
   "source": [
    "rg=requests.get(\"https://kr-geschaefte.zug.ch/gast/geschaefte/1997\")"
   ]
  },
  {
   "cell_type": "code",
   "execution_count": null,
   "metadata": {},
   "outputs": [],
   "source": [
    "soup_g=BeautifulSoup(rg.text, \"html.parser\")"
   ]
  },
  {
   "cell_type": "code",
   "execution_count": null,
   "metadata": {},
   "outputs": [],
   "source": [
    "soup_g"
   ]
  },
  {
   "cell_type": "code",
   "execution_count": null,
   "metadata": {},
   "outputs": [],
   "source": [
    "tr_g_list=soup_g.find_all(\"tr\")"
   ]
  },
  {
   "cell_type": "code",
   "execution_count": null,
   "metadata": {},
   "outputs": [],
   "source": [
    "tr_g_list"
   ]
  },
  {
   "cell_type": "code",
   "execution_count": null,
   "metadata": {},
   "outputs": [],
   "source": [
    "#hier nochmals die Nummer des Geschäfts\n",
    "tr_g_list[-1].find_all(\"td\")[0].text"
   ]
  },
  {
   "cell_type": "code",
   "execution_count": null,
   "metadata": {},
   "outputs": [],
   "source": [
    "#Und hier das Einreichedatum\n",
    "tr_g_list[1].find_all(\"td\")[0].text"
   ]
  },
  {
   "cell_type": "code",
   "execution_count": null,
   "metadata": {},
   "outputs": [],
   "source": [
    "#Nun baue ich zuerst ein Minidict.\n",
    "gesch_nr = tr_g_list[-1].find_all(\"td\")[0].text\n",
    "einger_am = tr_g_list[1].find_all(\"td\")[0].text\n",
    "\n",
    "minidict_g={\"GeschäftsNR\":gesch_nr, \"Einreichedatum\":einger_am}\n"
   ]
  },
  {
   "cell_type": "code",
   "execution_count": null,
   "metadata": {},
   "outputs": [],
   "source": [
    "#For-loop schreiben um Seite für Seite abzurufen und deren Inhalte in das minidict und dieses in eine Liste packen\n",
    "eingang_list=[]\n",
    "\n",
    "for geschaeft in url_liste_ganz:\n",
    "    rg=requests.get(geschaeft)\n",
    "    soup_g=BeautifulSoup(rg.text, \"html.parser\")\n",
    "    tr_g_list=soup_g.find_all(\"tr\")\n",
    "    gesch_nr = tr_g_list[-1].find_all(\"td\")[0].text\n",
    "    einger_am = tr_g_list[1].find_all(\"td\")[0].text\n",
    "      \n",
    "    \n",
    "    minidict_g={\"GeschäftsNR\":gesch_nr, \"Einreichedatum\":einger_am}\n",
    "    for key, value in minidict_g.items():\n",
    "        if value == '':\n",
    "            minidict_g[key] = 'NaN'  #hier schaue ich noch, dass ich die Leeren Zeilen mit NAN ersetzten kann.\n",
    "        else:\n",
    "            minidict_g[key] = value\n",
    "            \n",
    "            eingang_list.append(minidict_g)\n"
   ]
  },
  {
   "cell_type": "code",
   "execution_count": null,
   "metadata": {},
   "outputs": [],
   "source": [
    "df_g=pd.DataFrame(eingang_list)"
   ]
  },
  {
   "cell_type": "code",
   "execution_count": null,
   "metadata": {},
   "outputs": [],
   "source": [
    "#ah, da liegt also das Problem, dass ich nicht plotten kann. es sind biedes Objekte. muss es also umwandeln. hmmm w\n",
    "pd.set_option(\"display.max_columns\",None)"
   ]
  },
  {
   "cell_type": "code",
   "execution_count": null,
   "metadata": {},
   "outputs": [],
   "source": [
    "df_g"
   ]
  },
  {
   "cell_type": "code",
   "execution_count": null,
   "metadata": {},
   "outputs": [],
   "source": [
    "df_g.dtypes"
   ]
  },
  {
   "cell_type": "code",
   "execution_count": null,
   "metadata": {},
   "outputs": [],
   "source": [
    "#Zwischenstand: nun hat er zwar aus allen leeren Feldern ein NaN gemacht. \n",
    "#Trotzdem betrachtet er die Daten noch als Objekte. \n",
    "\n",
    "#Ich versuche mal weiter zu machen, indem ich die beiden Dataframes zusammentun\n",
    " "
   ]
  },
  {
   "cell_type": "code",
   "execution_count": null,
   "metadata": {},
   "outputs": [],
   "source": [
    "df_mit_dat=pd.merge(df_a, df_g, how=\"left\", on=\"GeschäftsNR\")"
   ]
  },
  {
   "cell_type": "code",
   "execution_count": null,
   "metadata": {},
   "outputs": [],
   "source": [
    "df_mit_dat.dtypes"
   ]
  },
  {
   "cell_type": "code",
   "execution_count": null,
   "metadata": {},
   "outputs": [],
   "source": [
    "#geschafft. nun sind zumindest diese beiden Dataframes vereint. \n",
    "# Jetzt muss ich es noch hinkriegen, dass die Objekte zu verwertbaren Zahlen werden."
   ]
  },
  {
   "cell_type": "code",
   "execution_count": null,
   "metadata": {},
   "outputs": [],
   "source": [
    "#nun der Versuch, die ganze Liste zu sehen.\n",
    "df_g=pd.DataFrame(eingang_list)\n",
    "pd.set_option(\"display.max_rows\", 3000)"
   ]
  },
  {
   "cell_type": "code",
   "execution_count": null,
   "metadata": {},
   "outputs": [],
   "source": [
    "#ahhhh, es sind alles Strings. jetzt muss ich die in Daten und Nummern verwandeln\n",
    "eingang_list"
   ]
  },
  {
   "cell_type": "code",
   "execution_count": null,
   "metadata": {},
   "outputs": [],
   "source": [
    "df_g[\"GeschäftsNR\"]= df_g[\"GeschäftsNR\"].astype(int) #die Vorlagenummer als Zahle"
   ]
  },
  {
   "cell_type": "code",
   "execution_count": null,
   "metadata": {},
   "outputs": [],
   "source": [
    "df_g.dtypes"
   ]
  },
  {
   "cell_type": "code",
   "execution_count": null,
   "metadata": {},
   "outputs": [],
   "source": [
    "df_g[\"Einreichedatum\"] =  pd.to_datetime(df_g[\"Einreichedatum\"], format='%d.%m.%Y') #hier noch das Einreichedatum als Zahl."
   ]
  },
  {
   "cell_type": "code",
   "execution_count": null,
   "metadata": {},
   "outputs": [],
   "source": [
    "df_g.dtypes"
   ]
  },
  {
   "cell_type": "markdown",
   "metadata": {},
   "source": [
    "### der Misslungene Versuch die Namens-Seiten die Partei sowie den Namen herauszuziehen."
   ]
  },
  {
   "cell_type": "code",
   "execution_count": null,
   "metadata": {},
   "outputs": [],
   "source": [
    "liste_parteien=[]\n",
    "for url_p in df_mit_dat[\"Namens-url\"]:\n",
    "    rp=requests.get(url_p)\n",
    "    soup_p=BeautifulSoup(rp.text, \"html.parser\")\n",
    "    h1_p_list=soup_p.find_all(\"h1\")\n",
    "    div_p_list=soup_p.find_all(\"div\")\n",
    "    partei_p = div_p_list[1].find_all(\"a\")[51].text\n",
    "    name_p=h1_p_list[0].text\n",
    "    \n",
    "    minidict_p={\"Name eingereicht\":name_p, \"Partei\":partei_p}\n",
    "    liste_parteien.append(minidict_p)\n",
    "    #Das funktinoiert nicht, da die Partei offenbar an verschiedenen Positionen untergebracht ist"
   ]
  }
 ],
 "metadata": {
  "kernelspec": {
   "display_name": "Python 3",
   "language": "python",
   "name": "python3"
  },
  "language_info": {
   "codemirror_mode": {
    "name": "ipython",
    "version": 3
   },
   "file_extension": ".py",
   "mimetype": "text/x-python",
   "name": "python",
   "nbconvert_exporter": "python",
   "pygments_lexer": "ipython3",
   "version": "3.7.3"
  }
 },
 "nbformat": 4,
 "nbformat_minor": 2
}
