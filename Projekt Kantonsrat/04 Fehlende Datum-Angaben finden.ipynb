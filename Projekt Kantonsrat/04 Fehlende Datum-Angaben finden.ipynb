{
 "cells": [
  {
   "cell_type": "code",
   "execution_count": 1,
   "metadata": {},
   "outputs": [],
   "source": [
    "import requests\n",
    "import pandas as pd\n",
    "from bs4 import BeautifulSoup\n",
    "from datetime import datetime\n",
    "import numpy as np\n",
    "import requests, zipfile, io #zum abspeichern von PDFs\n",
    "from tqdm import tqdm # Anzeigen des aktuellen Ladestandes\n",
    "import PyPDF2\n",
    "import re\n",
    "from os import listdir\n",
    "from os.path import isfile, join\n",
    "import locale #für das deutsche Zeitformat"
   ]
  },
  {
   "cell_type": "markdown",
   "metadata": {},
   "source": [
    "# 5. Alle Dataframes zusammenfügen \n",
    "- Alle einlesen und auf die Unterseiten verweisen\n",
    "- eines nach dem andern anhängen\n",
    "- noch schön machen und kontrollieren"
   ]
  },
  {
   "cell_type": "code",
   "execution_count": 2,
   "metadata": {},
   "outputs": [],
   "source": [
    "# Einlesen:\n",
    "df_v=pd.read_csv(\"KRFrames/df_v_Hauptseiten\") #Alle Vorstösse mit Infos mit Titel und Nummer der Page mit allen Geschäften\n",
    "df_dat_all=pd.read_csv(\"KRFrames/df_datum_ALLE\")# Frame mit allen Zeitangaben(Datum)(oben)\n",
    "df_np=pd.read_csv(\"KRFrames/Frame_Namen_Partei_endversion\")# Aus File \"02 Namen aus Geschäftsnamen...\" Alle Namen und Parteien\n",
    "\n"
   ]
  },
  {
   "cell_type": "markdown",
   "metadata": {},
   "source": [
    "# nun mal alle gleich formatieren "
   ]
  },
  {
   "cell_type": "code",
   "execution_count": 3,
   "metadata": {},
   "outputs": [
    {
     "data": {
      "text/plain": [
       "Unnamed: 0            int64\n",
       "level_0               int64\n",
       "index                 int64\n",
       "VorlageNR             int64\n",
       "url                  object\n",
       "Geschäft             object\n",
       "Stand                object\n",
       "Zuständigkeit        object\n",
       "Art des Geschäfts    object\n",
       "Status               object\n",
       "dtype: object"
      ]
     },
     "execution_count": 3,
     "metadata": {},
     "output_type": "execute_result"
    }
   ],
   "source": [
    "df_v.dtypes #würde sagen das ist ok und unnamed wegnehmen"
   ]
  },
  {
   "cell_type": "code",
   "execution_count": 4,
   "metadata": {},
   "outputs": [],
   "source": [
    "df_v1=df_v[[\"VorlageNR\", \"Geschäft\", \"Art des Geschäfts\", \"Zuständigkeit\", \"Status\", \"Stand\", \"url\"]]"
   ]
  },
  {
   "cell_type": "code",
   "execution_count": 5,
   "metadata": {},
   "outputs": [
    {
     "data": {
      "text/html": [
       "<div>\n",
       "<style scoped>\n",
       "    .dataframe tbody tr th:only-of-type {\n",
       "        vertical-align: middle;\n",
       "    }\n",
       "\n",
       "    .dataframe tbody tr th {\n",
       "        vertical-align: top;\n",
       "    }\n",
       "\n",
       "    .dataframe thead th {\n",
       "        text-align: right;\n",
       "    }\n",
       "</style>\n",
       "<table border=\"1\" class=\"dataframe\">\n",
       "  <thead>\n",
       "    <tr style=\"text-align: right;\">\n",
       "      <th></th>\n",
       "      <th>VorlageNR</th>\n",
       "      <th>Geschäft</th>\n",
       "      <th>Art des Geschäfts</th>\n",
       "      <th>Zuständigkeit</th>\n",
       "      <th>Status</th>\n",
       "      <th>Stand</th>\n",
       "      <th>url</th>\n",
       "    </tr>\n",
       "  </thead>\n",
       "  <tbody>\n",
       "    <tr>\n",
       "      <td>416</td>\n",
       "      <td>2412</td>\n",
       "      <td>Motion der Kommission zur Totalrevision der Ge...</td>\n",
       "      <td>Motion</td>\n",
       "      <td>Staatskanzlei</td>\n",
       "      <td>abgeschlossen</td>\n",
       "      <td>Erledigterklärung</td>\n",
       "      <td>/gast/geschaefte/1399</td>\n",
       "    </tr>\n",
       "    <tr>\n",
       "      <td>419</td>\n",
       "      <td>2408</td>\n",
       "      <td>Interpellation der ad-hoc Kommission zur Unter...</td>\n",
       "      <td>Interpellation</td>\n",
       "      <td>Finanzdirektion</td>\n",
       "      <td>abgeschlossen</td>\n",
       "      <td>Kenntnisnahme</td>\n",
       "      <td>/gast/geschaefte/1389</td>\n",
       "    </tr>\n",
       "    <tr>\n",
       "      <td>420</td>\n",
       "      <td>2407</td>\n",
       "      <td>Motion der ad-hoc Kommission zur Untersuchung ...</td>\n",
       "      <td>Motion</td>\n",
       "      <td>Finanzdirektion</td>\n",
       "      <td>abgeschlossen</td>\n",
       "      <td>Erledigterklärung</td>\n",
       "      <td>/gast/geschaefte/1388</td>\n",
       "    </tr>\n",
       "    <tr>\n",
       "      <td>530</td>\n",
       "      <td>2243</td>\n",
       "      <td>Motion der vorberatenden Kommission zum Pensio...</td>\n",
       "      <td>Motion</td>\n",
       "      <td>Finanzdirektion</td>\n",
       "      <td>abgeschlossen</td>\n",
       "      <td>Erledigterklärung</td>\n",
       "      <td>/gast/geschaefte/494</td>\n",
       "    </tr>\n",
       "    <tr>\n",
       "      <td>534</td>\n",
       "      <td>2238</td>\n",
       "      <td>Motion der vorberatenden Kommission zur Änderu...</td>\n",
       "      <td>Motion</td>\n",
       "      <td>Finanzdirektion</td>\n",
       "      <td>abgeschlossen</td>\n",
       "      <td>Erledigterklärung</td>\n",
       "      <td>/gast/geschaefte/489</td>\n",
       "    </tr>\n",
       "    <tr>\n",
       "      <td>554</td>\n",
       "      <td>2202</td>\n",
       "      <td>Motion der vorberatenden Kommission zum Integr...</td>\n",
       "      <td>Motion</td>\n",
       "      <td>Direktion für Bildung und Kultur</td>\n",
       "      <td>abgeschlossen</td>\n",
       "      <td>Erledigterklärung</td>\n",
       "      <td>/gast/geschaefte/454</td>\n",
       "    </tr>\n",
       "    <tr>\n",
       "      <td>599</td>\n",
       "      <td>2124</td>\n",
       "      <td>Motion der Kommission Polycom zum Kantonsratsb...</td>\n",
       "      <td>Motion</td>\n",
       "      <td>Sicherheitsdirektion</td>\n",
       "      <td>abgeschlossen</td>\n",
       "      <td>Erledigterklärung</td>\n",
       "      <td>/gast/geschaefte/376</td>\n",
       "    </tr>\n",
       "    <tr>\n",
       "      <td>604</td>\n",
       "      <td>2114</td>\n",
       "      <td>Motion von Thomas Aeschi betreffend Möglichkei...</td>\n",
       "      <td>Motion</td>\n",
       "      <td>Sicherheitsdirektion</td>\n",
       "      <td>abgeschlossen</td>\n",
       "      <td>Nicht-Erheblicherklärung</td>\n",
       "      <td>/gast/geschaefte/366</td>\n",
       "    </tr>\n",
       "    <tr>\n",
       "      <td>707</td>\n",
       "      <td>1910</td>\n",
       "      <td>Motion der erweiterten Justizprüfungskommissio...</td>\n",
       "      <td>Motion</td>\n",
       "      <td>Staatskanzlei</td>\n",
       "      <td>abgeschlossen</td>\n",
       "      <td>Erledigterklärung</td>\n",
       "      <td>/gast/geschaefte/171</td>\n",
       "    </tr>\n",
       "    <tr>\n",
       "      <td>984</td>\n",
       "      <td>1447</td>\n",
       "      <td>Motion der Kommission für Wasserbau und Gewäss...</td>\n",
       "      <td>Motion</td>\n",
       "      <td>NaN</td>\n",
       "      <td>abgeschlossen</td>\n",
       "      <td>Datenmigration</td>\n",
       "      <td>/gast/geschaefte/1032</td>\n",
       "    </tr>\n",
       "    <tr>\n",
       "      <td>1035</td>\n",
       "      <td>1347</td>\n",
       "      <td>Interpellation der SP-Fraktion und der Alterna...</td>\n",
       "      <td>Interpellation</td>\n",
       "      <td>NaN</td>\n",
       "      <td>abgeschlossen</td>\n",
       "      <td>Datenmigration</td>\n",
       "      <td>/gast/geschaefte/939</td>\n",
       "    </tr>\n",
       "    <tr>\n",
       "      <td>1055</td>\n",
       "      <td>1310</td>\n",
       "      <td>Motion der Kommission \"Umsetzung der aktualisi...</td>\n",
       "      <td>Motion</td>\n",
       "      <td>NaN</td>\n",
       "      <td>abgeschlossen</td>\n",
       "      <td>Datenmigration</td>\n",
       "      <td>/gast/geschaefte/903</td>\n",
       "    </tr>\n",
       "    <tr>\n",
       "      <td>1113</td>\n",
       "      <td>1187</td>\n",
       "      <td>Interpellation der Alternativen Fraktion und d...</td>\n",
       "      <td>Interpellation</td>\n",
       "      <td>NaN</td>\n",
       "      <td>abgeschlossen</td>\n",
       "      <td>Datenmigration</td>\n",
       "      <td>/gast/geschaefte/789</td>\n",
       "    </tr>\n",
       "    <tr>\n",
       "      <td>1175</td>\n",
       "      <td>1072</td>\n",
       "      <td>Motion der Kommissionsminderheit Luftfahrtgese...</td>\n",
       "      <td>Motion</td>\n",
       "      <td>NaN</td>\n",
       "      <td>abgeschlossen</td>\n",
       "      <td>Datenmigration</td>\n",
       "      <td>/gast/geschaefte/678</td>\n",
       "    </tr>\n",
       "    <tr>\n",
       "      <td>1198</td>\n",
       "      <td>1016</td>\n",
       "      <td>Postulat von René Bär betreffend Ungültigerklä...</td>\n",
       "      <td>Postulat</td>\n",
       "      <td>NaN</td>\n",
       "      <td>abgeschlossen</td>\n",
       "      <td>Datenmigration</td>\n",
       "      <td>/gast/geschaefte/636</td>\n",
       "    </tr>\n",
       "    <tr>\n",
       "      <td>1218</td>\n",
       "      <td>823</td>\n",
       "      <td>Motion der Kommission Parlamentsreform betreff...</td>\n",
       "      <td>Motion</td>\n",
       "      <td>NaN</td>\n",
       "      <td>abgeschlossen</td>\n",
       "      <td>Datenmigration</td>\n",
       "      <td>/gast/geschaefte/1337</td>\n",
       "    </tr>\n",
       "    <tr>\n",
       "      <td>1219</td>\n",
       "      <td>822</td>\n",
       "      <td>Motion der Kommission Parlamentsreform betreff...</td>\n",
       "      <td>Motion</td>\n",
       "      <td>NaN</td>\n",
       "      <td>abgeschlossen</td>\n",
       "      <td>Datenmigration</td>\n",
       "      <td>/gast/geschaefte/1336</td>\n",
       "    </tr>\n",
       "    <tr>\n",
       "      <td>1223</td>\n",
       "      <td>666</td>\n",
       "      <td>Motion der Kommission Teilrevision Personalges...</td>\n",
       "      <td>Motion</td>\n",
       "      <td>NaN</td>\n",
       "      <td>abgeschlossen</td>\n",
       "      <td>Datenmigration</td>\n",
       "      <td>/gast/geschaefte/1325</td>\n",
       "    </tr>\n",
       "    <tr>\n",
       "      <td>1226</td>\n",
       "      <td>81</td>\n",
       "      <td>Motion der vorberatenden Kommission betreffend...</td>\n",
       "      <td>Motion</td>\n",
       "      <td>NaN</td>\n",
       "      <td>abgeschlossen</td>\n",
       "      <td>Datenmigration</td>\n",
       "      <td>/gast/geschaefte/1334</td>\n",
       "    </tr>\n",
       "  </tbody>\n",
       "</table>\n",
       "</div>"
      ],
      "text/plain": [
       "      VorlageNR                                           Geschäft  \\\n",
       "416        2412  Motion der Kommission zur Totalrevision der Ge...   \n",
       "419        2408  Interpellation der ad-hoc Kommission zur Unter...   \n",
       "420        2407  Motion der ad-hoc Kommission zur Untersuchung ...   \n",
       "530        2243  Motion der vorberatenden Kommission zum Pensio...   \n",
       "534        2238  Motion der vorberatenden Kommission zur Änderu...   \n",
       "554        2202  Motion der vorberatenden Kommission zum Integr...   \n",
       "599        2124  Motion der Kommission Polycom zum Kantonsratsb...   \n",
       "604        2114  Motion von Thomas Aeschi betreffend Möglichkei...   \n",
       "707        1910  Motion der erweiterten Justizprüfungskommissio...   \n",
       "984        1447  Motion der Kommission für Wasserbau und Gewäss...   \n",
       "1035       1347  Interpellation der SP-Fraktion und der Alterna...   \n",
       "1055       1310  Motion der Kommission \"Umsetzung der aktualisi...   \n",
       "1113       1187  Interpellation der Alternativen Fraktion und d...   \n",
       "1175       1072  Motion der Kommissionsminderheit Luftfahrtgese...   \n",
       "1198       1016  Postulat von René Bär betreffend Ungültigerklä...   \n",
       "1218        823  Motion der Kommission Parlamentsreform betreff...   \n",
       "1219        822  Motion der Kommission Parlamentsreform betreff...   \n",
       "1223        666  Motion der Kommission Teilrevision Personalges...   \n",
       "1226         81  Motion der vorberatenden Kommission betreffend...   \n",
       "\n",
       "     Art des Geschäfts                     Zuständigkeit         Status  \\\n",
       "416             Motion                     Staatskanzlei  abgeschlossen   \n",
       "419     Interpellation                   Finanzdirektion  abgeschlossen   \n",
       "420             Motion                   Finanzdirektion  abgeschlossen   \n",
       "530             Motion                   Finanzdirektion  abgeschlossen   \n",
       "534             Motion                   Finanzdirektion  abgeschlossen   \n",
       "554             Motion  Direktion für Bildung und Kultur  abgeschlossen   \n",
       "599             Motion              Sicherheitsdirektion  abgeschlossen   \n",
       "604             Motion              Sicherheitsdirektion  abgeschlossen   \n",
       "707             Motion                     Staatskanzlei  abgeschlossen   \n",
       "984             Motion                               NaN  abgeschlossen   \n",
       "1035    Interpellation                               NaN  abgeschlossen   \n",
       "1055            Motion                               NaN  abgeschlossen   \n",
       "1113    Interpellation                               NaN  abgeschlossen   \n",
       "1175            Motion                               NaN  abgeschlossen   \n",
       "1198          Postulat                               NaN  abgeschlossen   \n",
       "1218            Motion                               NaN  abgeschlossen   \n",
       "1219            Motion                               NaN  abgeschlossen   \n",
       "1223            Motion                               NaN  abgeschlossen   \n",
       "1226            Motion                               NaN  abgeschlossen   \n",
       "\n",
       "                         Stand                    url  \n",
       "416          Erledigterklärung  /gast/geschaefte/1399  \n",
       "419              Kenntnisnahme  /gast/geschaefte/1389  \n",
       "420          Erledigterklärung  /gast/geschaefte/1388  \n",
       "530          Erledigterklärung   /gast/geschaefte/494  \n",
       "534          Erledigterklärung   /gast/geschaefte/489  \n",
       "554          Erledigterklärung   /gast/geschaefte/454  \n",
       "599          Erledigterklärung   /gast/geschaefte/376  \n",
       "604   Nicht-Erheblicherklärung   /gast/geschaefte/366  \n",
       "707          Erledigterklärung   /gast/geschaefte/171  \n",
       "984             Datenmigration  /gast/geschaefte/1032  \n",
       "1035            Datenmigration   /gast/geschaefte/939  \n",
       "1055            Datenmigration   /gast/geschaefte/903  \n",
       "1113            Datenmigration   /gast/geschaefte/789  \n",
       "1175            Datenmigration   /gast/geschaefte/678  \n",
       "1198            Datenmigration   /gast/geschaefte/636  \n",
       "1218            Datenmigration  /gast/geschaefte/1337  \n",
       "1219            Datenmigration  /gast/geschaefte/1336  \n",
       "1223            Datenmigration  /gast/geschaefte/1325  \n",
       "1226            Datenmigration  /gast/geschaefte/1334  "
      ]
     },
     "execution_count": 5,
     "metadata": {},
     "output_type": "execute_result"
    }
   ],
   "source": [
    "df_v1[df_v1[\"Geschäft\"].str.contains(\"Kommission\")] # Ok, offenbar hat es im df_v die Kommissionsgeschäfte noch\n",
    "# Die hatte ich beim anderen Dataframe rausgeputzt."
   ]
  },
  {
   "cell_type": "code",
   "execution_count": 6,
   "metadata": {},
   "outputs": [
    {
     "data": {
      "text/plain": [
       "Unnamed: 0            int64\n",
       "Unnamed: 0_x          int64\n",
       "VorlageNR_x           int64\n",
       "Einreichedatum       object\n",
       "Link Vorstoss-PDF    object\n",
       "dtype: object"
      ]
     },
     "execution_count": 6,
     "metadata": {},
     "output_type": "execute_result"
    }
   ],
   "source": [
    "df_dat_all.dtypes # Da sollte ich wohl datetime einstellen und die unamed wegnehmen"
   ]
  },
  {
   "cell_type": "code",
   "execution_count": 7,
   "metadata": {},
   "outputs": [],
   "source": [
    "df_dat_all[\"Einreichedatum\"]=pd.to_datetime(df_dat_all[\"Einreichedatum\"])"
   ]
  },
  {
   "cell_type": "code",
   "execution_count": 8,
   "metadata": {
    "scrolled": false
   },
   "outputs": [
    {
     "data": {
      "text/plain": [
       "Unnamed: 0                    int64\n",
       "Unnamed: 0_x                  int64\n",
       "VorlageNR_x                   int64\n",
       "Einreichedatum       datetime64[ns]\n",
       "Link Vorstoss-PDF            object\n",
       "dtype: object"
      ]
     },
     "execution_count": 8,
     "metadata": {},
     "output_type": "execute_result"
    }
   ],
   "source": [
    "df_dat_all.dtypes "
   ]
  },
  {
   "cell_type": "code",
   "execution_count": 9,
   "metadata": {},
   "outputs": [],
   "source": [
    "df_dat_all1=df_dat_all[[\"VorlageNR_x\",\"Einreichedatum\"]]\n",
    "df_dat_all2=df_dat_all1.rename(columns={\"VorlageNR_x\": \"VorlageNR\"})"
   ]
  },
  {
   "cell_type": "code",
   "execution_count": 10,
   "metadata": {},
   "outputs": [],
   "source": [
    "# ich mache das mit den Vorstössen mal einzeln\n",
    "df_pdf_links=df_dat_all[[\"VorlageNR_x\",\"Link Vorstoss-PDF\"]]\n",
    "df_pdf_links2=df_pdf_links.rename(columns={\"VorlageNR_x\": \"VorlageNR\"})"
   ]
  },
  {
   "cell_type": "code",
   "execution_count": 11,
   "metadata": {},
   "outputs": [
    {
     "data": {
      "text/plain": [
       "Unnamed: 0          int64\n",
       "Namenganz          object\n",
       "P                  object\n",
       "Unnamed: 0.1      float64\n",
       "Unnamed: 0.1.1    float64\n",
       "VorlageNR           int64\n",
       "dtype: object"
      ]
     },
     "execution_count": 11,
     "metadata": {},
     "output_type": "execute_result"
    }
   ],
   "source": [
    "df_np.dtypes \n",
    "# Alles wegnehmen, ausser Namenganz, Partei und VorlageNR"
   ]
  },
  {
   "cell_type": "code",
   "execution_count": 12,
   "metadata": {},
   "outputs": [],
   "source": [
    "df_np1=df_np[[\"VorlageNR\", \"Namenganz\", \"P\"]]"
   ]
  },
  {
   "cell_type": "code",
   "execution_count": 13,
   "metadata": {},
   "outputs": [],
   "source": [
    "# Nun zusammenfügen\n",
    "df_hau_dat=pd.merge(df_v1, df_dat_all2, how=\"inner\",on= \"VorlageNR\")"
   ]
  },
  {
   "cell_type": "code",
   "execution_count": 14,
   "metadata": {},
   "outputs": [],
   "source": [
    "df_fehlende_daten=df_hau_dat.sort_values(\"Einreichedatum\").tail(24)"
   ]
  },
  {
   "cell_type": "code",
   "execution_count": 15,
   "metadata": {},
   "outputs": [],
   "source": [
    "df_fe_da_mi_pdf=pd.merge(df_fehlende_daten, df_pdf_links2, how=\"inner\",on= \"VorlageNR\")"
   ]
  },
  {
   "cell_type": "code",
   "execution_count": 16,
   "metadata": {},
   "outputs": [],
   "source": [
    "df_fehlende=df_fe_da_mi_pdf.tail(21)"
   ]
  },
  {
   "cell_type": "code",
   "execution_count": 17,
   "metadata": {},
   "outputs": [],
   "source": [
    "# Hier putze ich noch die letzte Zahl raus. die Kein PDF hat.\n",
    "df_fehlende_s=df_fehlende[df_fehlende[\"Link Vorstoss-PDF\"].str.contains(\"183\")==False]"
   ]
  },
  {
   "cell_type": "code",
   "execution_count": 18,
   "metadata": {},
   "outputs": [],
   "source": [
    "# Nun einen Loop bauen, um auch in diesen PDFs die Daten rauszukriegen.Zuerst an einem Testen"
   ]
  },
  {
   "cell_type": "markdown",
   "metadata": {},
   "source": [
    "# Einzelne PDF durchschauen"
   ]
  },
  {
   "cell_type": "code",
   "execution_count": 31,
   "metadata": {
    "scrolled": true
   },
   "outputs": [
    {
     "name": "stdout",
     "output_type": "stream",
     "text": [
      "\n"
     ]
    },
    {
     "data": {
      "text/plain": [
       "[{'Einreichedatum': '',\n",
       "  'Einreichedatum2': '',\n",
       "  'Einreichedatum3': '',\n",
       "  'VorlageNR': ''}]"
      ]
     },
     "execution_count": 31,
     "metadata": {},
     "output_type": "execute_result"
    }
   ],
   "source": [
    "dat_pdf=[]\n",
    "mypdf1 = open(\"KRGeschPDF/\"+\"13075_1817_1_Strassenbau.pdf\", mode='rb')\n",
    "pdf_document1 = PyPDF2.PdfFileReader(mypdf1)\n",
    "first_page1 = pdf_document1.getPage(0)\n",
    "front1=first_page1.extractText()\n",
    "print(front1)\n",
    "dat_p_ein1= re.findall(regex_datum, front1, re.IGNORECASE)[0]\n",
    "dat_p_zwe1= re.findall(regex_datum1, front1, re.IGNORECASE)[0]\n",
    "dat_p_dre1= re.findall(regex_datum2, front1, re.IGNORECASE)[0]\n",
    "    #Ich greiffe auf das Datum zu\n",
    "        # um zu verhindern, dass ich mehrer Daten und Vorlagen habe, sage ich mit [0] er soll das erste nehmen\n",
    "vorl_p_nr1= re.findall(regex_vorlage2, front1, re.IGNORECASE)[0] # Ich greiffe auf die Vorlagennummer zu (zum Zusammenfügen der Dataframes)\n",
    "    \n",
    "    \n",
    "minidict_pdf={\"Einreichedatum\": dat_p_ein1, \"Einreichedatum2\": dat_p_zwe1, \"Einreichedatum3\": dat_p_dre1, \"VorlageNR\":vorl_p_nr1, }\n",
    "    \n",
    "dat_pdf.append(minidict_pdf)\n",
    "dat_pdf"
   ]
  },
  {
   "cell_type": "markdown",
   "metadata": {},
   "source": [
    "# Hier die Lösung"
   ]
  },
  {
   "cell_type": "code",
   "execution_count": 25,
   "metadata": {},
   "outputs": [],
   "source": [
    "regex_vorlage= r\"Vorlage.Nr\\..(\\d*)\\.1|$\" #hier ziehe ich die Vorlagennummer raus. \n",
    "regex_vorlage1= r\"Vorlage.Nr\\..(\\d*)\\|$\"\n",
    "regex_vorlage2= r\"(\\d*)\\.1|$\" \n",
    "regex_datum = r\"vom.(\\d+\\..\\w*.\\d{4})|$\" # hier gehe ich an das DAtum\n",
    "regex_datum2 =r\"(\\d*\\..\\w*.\\d{4})|$\"\n",
    "regex_datum1 = r\"VOM.(\\d+\\..\\w*.\\d{4})|$\" # hier gehe ich an das DAtum\n",
    "regex_name=r\"\\bVON(.*UND.*)\" #Hier muss ich noch überlegen, wie anders. Problem: zum Teil sind Namen einzeln zum teil mehr\n",
    "# Und irgendwie erkennt er die Zeilenende nicht.\n",
    "regex_name1= r\"\\bVON.(\\w*.\\w*\\b)\"\n",
    "regex_partei= r\"DER.(\\w*)\""
   ]
  },
  {
   "cell_type": "code",
   "execution_count": 35,
   "metadata": {},
   "outputs": [],
   "source": [
    "dat_pdf_list=[]\n",
    "for dok in df_fehlende_s[\"Link Vorstoss-PDF\"]:\n",
    "    mypdf = open(\"KRGeschPDF/\"+dok, mode='rb')\n",
    "    pdf_name = dok\n",
    "    pdf_document = PyPDF2.PdfFileReader(mypdf)\n",
    "    first_page = pdf_document.getPage(0)\n",
    "    front=first_page.extractText()\n",
    "    dat_p_dre= re.findall(regex_datum2, front, re.IGNORECASE)[0]\n",
    "    #Ich greiffe auf das Datum zu\n",
    "        # um zu verhindern, dass ich mehrer Daten und Vorlagen habe, sage ich mit [0] er soll das erste nehmen\n",
    "    vorl_p_nr= re.findall(regex_vorlage2, front, re.IGNORECASE)[0] # Ich greiffe auf die Vorlagennummer zu (zum Zusammenfügen der Dataframes)\n",
    "    \n",
    "    \n",
    "    minidict_pdf_dat={\"Einreichedatum3\": dat_p_dre, \"VorlageNR\":vorl_p_nr, \"Link Vorstoss-PDF\":pdf_name}\n",
    "    \n",
    "    dat_pdf_list.append(minidict_pdf_dat)"
   ]
  },
  {
   "cell_type": "code",
   "execution_count": 36,
   "metadata": {},
   "outputs": [],
   "source": [
    "df_pdf2=pd.DataFrame(dat_pdf_list)"
   ]
  },
  {
   "cell_type": "code",
   "execution_count": 38,
   "metadata": {},
   "outputs": [],
   "source": [
    "df_pdf2.to_csv(\"KRFrames/fehlende_Daten\") #ok, geht irgendwie nicht. Mal mit einem Einzelnen pdf probieren"
   ]
  },
  {
   "cell_type": "code",
   "execution_count": null,
   "metadata": {},
   "outputs": [],
   "source": []
  },
  {
   "cell_type": "code",
   "execution_count": null,
   "metadata": {},
   "outputs": [],
   "source": []
  },
  {
   "cell_type": "code",
   "execution_count": null,
   "metadata": {},
   "outputs": [],
   "source": []
  },
  {
   "cell_type": "code",
   "execution_count": null,
   "metadata": {},
   "outputs": [],
   "source": []
  },
  {
   "cell_type": "code",
   "execution_count": null,
   "metadata": {},
   "outputs": [],
   "source": []
  },
  {
   "cell_type": "code",
   "execution_count": null,
   "metadata": {},
   "outputs": [],
   "source": []
  },
  {
   "cell_type": "code",
   "execution_count": null,
   "metadata": {},
   "outputs": [],
   "source": []
  },
  {
   "cell_type": "code",
   "execution_count": null,
   "metadata": {},
   "outputs": [],
   "source": [
    "df_all=pd.merge(df_v1, df_dat_all, how=\"outer\",on= \"VorlageNR\")"
   ]
  },
  {
   "cell_type": "code",
   "execution_count": null,
   "metadata": {},
   "outputs": [],
   "source": [
    "# Offenbar hat es einzelne Vorlagenr doppelt mit mehreren Daten. ich kick die mal weg. \n",
    "\n",
    "df_allgut=df_all.drop_duplicates(subset='VorlageNR', keep=False) "
   ]
  },
  {
   "cell_type": "code",
   "execution_count": null,
   "metadata": {},
   "outputs": [],
   "source": [
    "df_allgut.sort_values(\"Einreichedatum\").tail(100)"
   ]
  },
  {
   "cell_type": "code",
   "execution_count": null,
   "metadata": {},
   "outputs": [],
   "source": [
    "df_alles.shape"
   ]
  },
  {
   "cell_type": "code",
   "execution_count": null,
   "metadata": {
    "scrolled": true
   },
   "outputs": [],
   "source": [
    "df_alles.to_csv(\"KRFrames/df_alles_ohne_Namen\")"
   ]
  },
  {
   "cell_type": "code",
   "execution_count": null,
   "metadata": {},
   "outputs": [],
   "source": [
    "df_np"
   ]
  },
  {
   "cell_type": "code",
   "execution_count": null,
   "metadata": {},
   "outputs": [],
   "source": [
    "df_alles_ganz=pd.merge(df_alles, df_np, how=\"left\", on=\"VorlageNR\")\n",
    "df_alles_ganz.sort_values(\"Einreichedatum\")"
   ]
  },
  {
   "cell_type": "code",
   "execution_count": null,
   "metadata": {},
   "outputs": [],
   "source": [
    "df_tuti=df_alles_ganz[[\"VorlageNR\",\"Geschäft\", \"Namenganz\", \"P\", \"Einreichedatum\", \"Link Vorstoss-PDF\"]]"
   ]
  },
  {
   "cell_type": "code",
   "execution_count": null,
   "metadata": {},
   "outputs": [],
   "source": [
    "df_tuti #Wieso wird es nicht ergänzt. Der Fehler ist im File 02 Namen passiert. dort nachschauen."
   ]
  },
  {
   "cell_type": "code",
   "execution_count": null,
   "metadata": {
    "scrolled": true
   },
   "outputs": [],
   "source": [
    "\n",
    "pd.set_option('display.max_colwidth', -1)\n",
    "pd.set_option('display.max_rows', 100)\n",
    "df_tuti1=df_tuti.drop_duplicates(subset=['VorlageNR', 'Namenganz'], keep=False)\n",
    "# Obwohl mir nur von 30 Geschäften das Datum fehlt, explodiert dies, wenn es auf die Namen-Tabelle kommt.\n",
    "df_tuti1.sort_values(\"Einreichedatum\").tail(188)"
   ]
  },
  {
   "cell_type": "code",
   "execution_count": null,
   "metadata": {},
   "outputs": [],
   "source": []
  },
  {
   "cell_type": "code",
   "execution_count": null,
   "metadata": {},
   "outputs": [],
   "source": [
    "df_tuti.to_csv(\"KRFrames/df_tuti_Ganzes_Frame\")"
   ]
  },
  {
   "cell_type": "markdown",
   "metadata": {},
   "source": [
    "# Daten aus B&A mit falschen Zahlen\n",
    "Eine Lösung wäre, nochmals die Links zu den PDF auslesen und diese in zwei verschiedene Listen verpacken. \n",
    "Da die Datenmigration im Jahr 2000 war, schaue ich einfach mal die Zahlen ab 2005 an. Vo dort an, werden die meisten Geschäfte tatsächlich neu sein. \n",
    "## #Andere Variante: ich lasse die B&A einfach weg. Da gibt es eh keine verlässliche Daten. Mengenmässig.\n",
    "# Nun plotten"
   ]
  },
  {
   "cell_type": "code",
   "execution_count": null,
   "metadata": {},
   "outputs": [],
   "source": [
    "df_tuti = df_tuti.set_index('Einreichedatum')"
   ]
  },
  {
   "cell_type": "code",
   "execution_count": null,
   "metadata": {},
   "outputs": [],
   "source": [
    "df_tuti"
   ]
  },
  {
   "cell_type": "code",
   "execution_count": null,
   "metadata": {},
   "outputs": [],
   "source": [
    "df_tuti.dtypes"
   ]
  },
  {
   "cell_type": "code",
   "execution_count": null,
   "metadata": {},
   "outputs": [],
   "source": []
  },
  {
   "cell_type": "code",
   "execution_count": null,
   "metadata": {},
   "outputs": [],
   "source": []
  },
  {
   "cell_type": "code",
   "execution_count": null,
   "metadata": {},
   "outputs": [],
   "source": []
  },
  {
   "cell_type": "code",
   "execution_count": null,
   "metadata": {},
   "outputs": [],
   "source": []
  }
 ],
 "metadata": {
  "kernelspec": {
   "display_name": "Python 3",
   "language": "python",
   "name": "python3"
  },
  "language_info": {
   "codemirror_mode": {
    "name": "ipython",
    "version": 3
   },
   "file_extension": ".py",
   "mimetype": "text/x-python",
   "name": "python",
   "nbconvert_exporter": "python",
   "pygments_lexer": "ipython3",
   "version": "3.7.3"
  }
 },
 "nbformat": 4,
 "nbformat_minor": 2
}
