{
 "cells": [
  {
   "cell_type": "code",
   "execution_count": null,
   "metadata": {},
   "outputs": [],
   "source": []
  },
  {
   "cell_type": "markdown",
   "metadata": {},
   "source": [
    "# Homework 2"
   ]
  },
  {
   "cell_type": "markdown",
   "metadata": {},
   "source": [
    "**Inhalt:** Datensets explorieren, filtern, Daten kombinieren\n",
    "\n",
    "**Nötige Skills:** Erste Schritte mit Pandas, Daten explorieren und kombinieren\n",
    "\n",
    "**Lernziele:**\n",
    "- Review und Übung"
   ]
  },
  {
   "cell_type": "markdown",
   "metadata": {},
   "source": [
    "# Das Beispiel"
   ]
  },
  {
   "cell_type": "markdown",
   "metadata": {},
   "source": [
    "Einwohner der Stadt Zürich und ihre Herkunft. Wir sind interessiert an einer Auswertung, wo die Leute geboren sind, die in Zürich wohnen. Wie viele Menschen kommen aus welchen Gemeinden, Regionen, Ländern? Was sind das für Orte? Wie verändert sich die Population?\n",
    "\n",
    "Open Data Set der Stadt Zürich.\n",
    "\n",
    "Quelle: https://data.stadt-zuerich.ch/dataset/bev-bestand-jahr-gemeinde-land-geburtsort/resource/403b39e8-ecdc-410e-b0b3-7b689e17e046\n",
    "\n",
    "Alle nötigen Files befinden sich im Unterordner `dataprojects/wherezurichborn`"
   ]
  },
  {
   "cell_type": "markdown",
   "metadata": {},
   "source": [
    "## Vorbereitung\n",
    "\n",
    "Importieren Sie die benötigten Libraries: pandas. Stellen Sie matplotlib so ein, dass die Charts irekt angezeigt werden."
   ]
  },
  {
   "cell_type": "code",
   "execution_count": 1,
   "metadata": {},
   "outputs": [],
   "source": [
    "import pandas as pd\n"
   ]
  },
  {
   "cell_type": "code",
   "execution_count": 2,
   "metadata": {},
   "outputs": [],
   "source": [
    "%matplotlib inline"
   ]
  },
  {
   "cell_type": "markdown",
   "metadata": {},
   "source": [
    "## Daten laden"
   ]
  },
  {
   "cell_type": "markdown",
   "metadata": {},
   "source": [
    "Öffnen Sie das Datenfile fürs Jahr 2017: \"2017_bev338od3380.csv\""
   ]
  },
  {
   "cell_type": "code",
   "execution_count": 3,
   "metadata": {},
   "outputs": [],
   "source": [
    "path= \"dataprojects/wherezurichborn/2017_bev338od3380.csv\""
   ]
  },
  {
   "cell_type": "code",
   "execution_count": 4,
   "metadata": {},
   "outputs": [],
   "source": [
    "df=pd.read_csv(path)"
   ]
  },
  {
   "cell_type": "markdown",
   "metadata": {},
   "source": [
    "Zeigen Sie die obersten fünf Zeilen an"
   ]
  },
  {
   "cell_type": "code",
   "execution_count": 5,
   "metadata": {},
   "outputs": [
    {
     "data": {
      "text/html": [
       "<div>\n",
       "<style scoped>\n",
       "    .dataframe tbody tr th:only-of-type {\n",
       "        vertical-align: middle;\n",
       "    }\n",
       "\n",
       "    .dataframe tbody tr th {\n",
       "        vertical-align: top;\n",
       "    }\n",
       "\n",
       "    .dataframe thead th {\n",
       "        text-align: right;\n",
       "    }\n",
       "</style>\n",
       "<table border=\"1\" class=\"dataframe\">\n",
       "  <thead>\n",
       "    <tr style=\"text-align: right;\">\n",
       "      <th></th>\n",
       "      <th>StichtagDatJahr</th>\n",
       "      <th>xkoord</th>\n",
       "      <th>ykoord</th>\n",
       "      <th>GebOrtSort</th>\n",
       "      <th>GebOrtLang</th>\n",
       "      <th>GebLandSort</th>\n",
       "      <th>GebLandLang</th>\n",
       "      <th>AnzBestWir</th>\n",
       "    </tr>\n",
       "  </thead>\n",
       "  <tbody>\n",
       "    <tr>\n",
       "      <th>0</th>\n",
       "      <td>2017</td>\n",
       "      <td>679300.0</td>\n",
       "      <td>235700.0</td>\n",
       "      <td>1</td>\n",
       "      <td>Aeugst am Albis</td>\n",
       "      <td>8100</td>\n",
       "      <td>Schweiz</td>\n",
       "      <td>8</td>\n",
       "    </tr>\n",
       "    <tr>\n",
       "      <th>1</th>\n",
       "      <td>2017</td>\n",
       "      <td>676800.0</td>\n",
       "      <td>236800.0</td>\n",
       "      <td>2</td>\n",
       "      <td>Affoltern am Albis</td>\n",
       "      <td>8100</td>\n",
       "      <td>Schweiz</td>\n",
       "      <td>1171</td>\n",
       "    </tr>\n",
       "    <tr>\n",
       "      <th>2</th>\n",
       "      <td>2017</td>\n",
       "      <td>677800.0</td>\n",
       "      <td>241000.0</td>\n",
       "      <td>3</td>\n",
       "      <td>Bonstetten</td>\n",
       "      <td>8100</td>\n",
       "      <td>Schweiz</td>\n",
       "      <td>5</td>\n",
       "    </tr>\n",
       "    <tr>\n",
       "      <th>3</th>\n",
       "      <td>2017</td>\n",
       "      <td>682900.0</td>\n",
       "      <td>233100.0</td>\n",
       "      <td>4</td>\n",
       "      <td>Hausen am Albis</td>\n",
       "      <td>8100</td>\n",
       "      <td>Schweiz</td>\n",
       "      <td>16</td>\n",
       "    </tr>\n",
       "    <tr>\n",
       "      <th>4</th>\n",
       "      <td>2017</td>\n",
       "      <td>676400.0</td>\n",
       "      <td>239000.0</td>\n",
       "      <td>5</td>\n",
       "      <td>Hedingen</td>\n",
       "      <td>8100</td>\n",
       "      <td>Schweiz</td>\n",
       "      <td>6</td>\n",
       "    </tr>\n",
       "  </tbody>\n",
       "</table>\n",
       "</div>"
      ],
      "text/plain": [
       "   StichtagDatJahr    xkoord    ykoord  GebOrtSort          GebOrtLang  \\\n",
       "0             2017  679300.0  235700.0           1     Aeugst am Albis   \n",
       "1             2017  676800.0  236800.0           2  Affoltern am Albis   \n",
       "2             2017  677800.0  241000.0           3          Bonstetten   \n",
       "3             2017  682900.0  233100.0           4     Hausen am Albis   \n",
       "4             2017  676400.0  239000.0           5            Hedingen   \n",
       "\n",
       "   GebLandSort GebLandLang  AnzBestWir  \n",
       "0         8100     Schweiz           8  \n",
       "1         8100     Schweiz        1171  \n",
       "2         8100     Schweiz           5  \n",
       "3         8100     Schweiz          16  \n",
       "4         8100     Schweiz           6  "
      ]
     },
     "execution_count": 5,
     "metadata": {},
     "output_type": "execute_result"
    }
   ],
   "source": [
    "df.head(5)"
   ]
  },
  {
   "cell_type": "markdown",
   "metadata": {},
   "source": [
    "Zeigen Sie die untersten fünf Zeilen an"
   ]
  },
  {
   "cell_type": "code",
   "execution_count": 6,
   "metadata": {},
   "outputs": [
    {
     "data": {
      "text/html": [
       "<div>\n",
       "<style scoped>\n",
       "    .dataframe tbody tr th:only-of-type {\n",
       "        vertical-align: middle;\n",
       "    }\n",
       "\n",
       "    .dataframe tbody tr th {\n",
       "        vertical-align: top;\n",
       "    }\n",
       "\n",
       "    .dataframe thead th {\n",
       "        text-align: right;\n",
       "    }\n",
       "</style>\n",
       "<table border=\"1\" class=\"dataframe\">\n",
       "  <thead>\n",
       "    <tr style=\"text-align: right;\">\n",
       "      <th></th>\n",
       "      <th>StichtagDatJahr</th>\n",
       "      <th>xkoord</th>\n",
       "      <th>ykoord</th>\n",
       "      <th>GebOrtSort</th>\n",
       "      <th>GebOrtLang</th>\n",
       "      <th>GebLandSort</th>\n",
       "      <th>GebLandLang</th>\n",
       "      <th>AnzBestWir</th>\n",
       "    </tr>\n",
       "  </thead>\n",
       "  <tbody>\n",
       "    <tr>\n",
       "      <th>1760</th>\n",
       "      <td>2017</td>\n",
       "      <td>NaN</td>\n",
       "      <td>NaN</td>\n",
       "      <td>8995</td>\n",
       "      <td>Unbekannt</td>\n",
       "      <td>8615</td>\n",
       "      <td>Tuvalu</td>\n",
       "      <td>1</td>\n",
       "    </tr>\n",
       "    <tr>\n",
       "      <th>1761</th>\n",
       "      <td>2017</td>\n",
       "      <td>NaN</td>\n",
       "      <td>NaN</td>\n",
       "      <td>8995</td>\n",
       "      <td>Unbekannt</td>\n",
       "      <td>8621</td>\n",
       "      <td>Amerikanisch-Samoa</td>\n",
       "      <td>1</td>\n",
       "    </tr>\n",
       "    <tr>\n",
       "      <th>1762</th>\n",
       "      <td>2017</td>\n",
       "      <td>NaN</td>\n",
       "      <td>NaN</td>\n",
       "      <td>8995</td>\n",
       "      <td>Unbekannt</td>\n",
       "      <td>8654</td>\n",
       "      <td>Norfolkinsel</td>\n",
       "      <td>1</td>\n",
       "    </tr>\n",
       "    <tr>\n",
       "      <th>1763</th>\n",
       "      <td>2017</td>\n",
       "      <td>NaN</td>\n",
       "      <td>NaN</td>\n",
       "      <td>8995</td>\n",
       "      <td>Unbekannt</td>\n",
       "      <td>8671</td>\n",
       "      <td>Französisch-Polynesien</td>\n",
       "      <td>1</td>\n",
       "    </tr>\n",
       "    <tr>\n",
       "      <th>1764</th>\n",
       "      <td>2017</td>\n",
       "      <td>NaN</td>\n",
       "      <td>NaN</td>\n",
       "      <td>8995</td>\n",
       "      <td>Unbekannt</td>\n",
       "      <td>8995</td>\n",
       "      <td>Unbekannt</td>\n",
       "      <td>1011</td>\n",
       "    </tr>\n",
       "  </tbody>\n",
       "</table>\n",
       "</div>"
      ],
      "text/plain": [
       "      StichtagDatJahr  xkoord  ykoord  GebOrtSort GebOrtLang  GebLandSort  \\\n",
       "1760             2017     NaN     NaN        8995  Unbekannt         8615   \n",
       "1761             2017     NaN     NaN        8995  Unbekannt         8621   \n",
       "1762             2017     NaN     NaN        8995  Unbekannt         8654   \n",
       "1763             2017     NaN     NaN        8995  Unbekannt         8671   \n",
       "1764             2017     NaN     NaN        8995  Unbekannt         8995   \n",
       "\n",
       "                 GebLandLang  AnzBestWir  \n",
       "1760                  Tuvalu           1  \n",
       "1761      Amerikanisch-Samoa           1  \n",
       "1762            Norfolkinsel           1  \n",
       "1763  Französisch-Polynesien           1  \n",
       "1764               Unbekannt        1011  "
      ]
     },
     "execution_count": 6,
     "metadata": {},
     "output_type": "execute_result"
    }
   ],
   "source": [
    "df.tail(5)"
   ]
  },
  {
   "cell_type": "markdown",
   "metadata": {},
   "source": [
    "Überlegen Sie sich: Was bedeuten die einzelnen Spalten? Welche Spalte enthält die wichtigen Infos?"
   ]
  },
  {
   "cell_type": "code",
   "execution_count": 6,
   "metadata": {},
   "outputs": [],
   "source": [
    "# Anwort in Worten: Geburtsland"
   ]
  },
  {
   "cell_type": "markdown",
   "metadata": {},
   "source": [
    "Checken Sie die Datentypen der Spalten."
   ]
  },
  {
   "cell_type": "code",
   "execution_count": 7,
   "metadata": {
    "scrolled": true
   },
   "outputs": [
    {
     "data": {
      "text/plain": [
       "207"
      ]
     },
     "execution_count": 7,
     "metadata": {},
     "output_type": "execute_result"
    }
   ],
   "source": [
    "len(df[\"GebLandLang\"].unique())"
   ]
  },
  {
   "cell_type": "code",
   "execution_count": 8,
   "metadata": {},
   "outputs": [
    {
     "data": {
      "text/plain": [
       "StichtagDatJahr      int64\n",
       "xkoord             float64\n",
       "ykoord             float64\n",
       "GebOrtSort           int64\n",
       "GebOrtLang          object\n",
       "GebLandSort          int64\n",
       "GebLandLang         object\n",
       "AnzBestWir           int64\n",
       "dtype: object"
      ]
     },
     "execution_count": 8,
     "metadata": {},
     "output_type": "execute_result"
    }
   ],
   "source": [
    "df.dtypes"
   ]
  },
  {
   "cell_type": "code",
   "execution_count": 12,
   "metadata": {},
   "outputs": [
    {
     "data": {
      "text/plain": [
       "array(['Schweiz', 'Albanien', 'Andorra', 'Belgien', 'Bulgarien',\n",
       "       'Dänemark', 'Deutschland', 'Finnland', 'Frankreich', 'Gibraltar',\n",
       "       'Griechenland', 'Grossbritannien', 'Irland', 'Island', 'Italien',\n",
       "       'Liechtenstein', 'Luxemburg', 'Malta', 'Monaco', 'Niederlande',\n",
       "       'Norwegen', 'Österreich', 'Polen', 'Portugal', 'Rumänien',\n",
       "       'San Marino', 'Schweden', 'Spanien', 'Türkei', 'Ungarn', 'Zypern',\n",
       "       'Slowakei', 'Tschechische Republik', 'Serbien', 'Kroatien',\n",
       "       'Slowenien', 'Bosnien und Herzegowina', 'Montenegro', 'Mazedonien',\n",
       "       'Kosovo', 'Estland', 'Lettland', 'Litauen', 'Moldova', 'Russland',\n",
       "       'Ukraine', 'Belarus', 'Jersey', 'Äquatorialguinea', 'Äthiopien',\n",
       "       'Dschibuti', 'Algerien', 'Angola', 'Botsuana', 'Burundi', 'Benin',\n",
       "       \"Côte d'Ivoire\", 'Gabun', 'Gambia', 'Ghana', 'Guinea-Bissau',\n",
       "       'Guinea', 'Kamerun', 'Kap Verde', 'Kenia', 'Komoren',\n",
       "       'Kongo (Brazzaville)', 'Kongo (Kinshasa)', 'Lesotho', 'Liberia',\n",
       "       'Libyen', 'Madagaskar', 'Malawi', 'Mali', 'Marokko', 'Mauretanien',\n",
       "       'Mauritius', 'Mosambik', 'Niger', 'Nigeria', 'Burkina Faso',\n",
       "       'Reunion', 'Simbabwe', 'Ruanda', 'Sambia', 'São Tomé und Principe',\n",
       "       'Senegal', 'Seychellen', 'Sierra Leone', 'Somalia', 'Südafrika',\n",
       "       'Sudan', 'Namibia', 'Swasiland', 'Tansania', 'Togo', 'Tschad',\n",
       "       'Tunesien', 'Uganda', 'Ägypten', 'Zentralafrikanische Republik',\n",
       "       'Eritrea', 'Westsahara', 'Argentinien', 'Bahamas', 'Barbados',\n",
       "       'Bermudas', 'Bolivien', 'Brasilien', 'Chile', 'Costa Rica',\n",
       "       'Dominikanische Republik', 'Ecuador', 'El Salvador', 'Grönland',\n",
       "       'Guadeloupe', 'Guatemala', 'Französisch-Guayana', 'Guayana',\n",
       "       'Haiti', 'Belize', 'Honduras', 'Jamaika', 'Kanada', 'Kolumbien',\n",
       "       'Kuba', 'Martinique', 'Mexiko', 'Nicaragua', 'Panama', 'Paraguay',\n",
       "       'Peru', 'Puerto Rico', 'Suriname', 'Trinidad und Tobago',\n",
       "       'Uruguay', 'Venezuela', 'USA', 'Dominica', 'Grenada',\n",
       "       'Antigua und Barbuda', 'St. Lucia',\n",
       "       'St. Vincent und die Grenadinen', 'St. Kitts und Nevis',\n",
       "       'Antillen Britisch', 'Kaimaninseln', 'Jungferninseln (UK)',\n",
       "       'Niederländische Antillen', 'Afghanistan', 'Bahrain', 'Bhutan',\n",
       "       'Brunei Darussalam', 'Myanmar', 'Sri Lanka', 'Chinesisches Taipei',\n",
       "       'China', 'Hongkong', 'Indien', 'Indonesien', 'Irak', 'Iran',\n",
       "       'Israel', 'Japan', 'Jemen', 'Jordanien', 'Kambodscha', 'Katar',\n",
       "       'Kuwait', 'Laos', 'Libanon', 'Macao', 'Malaysia', 'Malediven',\n",
       "       'Oman', 'Mongolei', 'Nepal', 'Nordkorea',\n",
       "       'Vereinigte Arabische Emirate', 'Pakistan', 'Philippinen',\n",
       "       'Saudi-Arabien', 'Singapur', 'Südkorea', 'Syrien', 'Thailand',\n",
       "       'Vietnam', 'Bangladesch', 'Palästina', 'Armenien', 'Aserbaidschan',\n",
       "       'Georgien', 'Kasachstan', 'Kirgisistan', 'Tadschikistan',\n",
       "       'Turkmenistan', 'Usbekistan', 'Australien', 'Fidschi',\n",
       "       'Neukaledonien', 'Neuseeland', 'Papua-Neuguinea', 'Salomoninseln',\n",
       "       'Tuvalu', 'Amerikanisch-Samoa', 'Norfolkinsel',\n",
       "       'Französisch-Polynesien', 'Unbekannt'], dtype=object)"
      ]
     },
     "execution_count": 12,
     "metadata": {},
     "output_type": "execute_result"
    }
   ],
   "source": [
    "df[\"GebLandLang\"].unique()"
   ]
  },
  {
   "cell_type": "markdown",
   "metadata": {},
   "source": [
    "Sind die Daten sauber?"
   ]
  },
  {
   "cell_type": "code",
   "execution_count": null,
   "metadata": {
    "collapsed": true
   },
   "outputs": [],
   "source": [
    "# Ja "
   ]
  },
  {
   "cell_type": "markdown",
   "metadata": {},
   "source": [
    "Wie viele Einträge hat es insgesamt im Datensatz?"
   ]
  },
  {
   "cell_type": "code",
   "execution_count": null,
   "metadata": {},
   "outputs": [],
   "source": [
    "#siehe oben"
   ]
  },
  {
   "cell_type": "markdown",
   "metadata": {},
   "source": [
    "## Einfache Auswertungen"
   ]
  },
  {
   "cell_type": "markdown",
   "metadata": {},
   "source": [
    "Wie viele Einwohner sind im Total in der Statistik enthalten?"
   ]
  },
  {
   "cell_type": "code",
   "execution_count": 10,
   "metadata": {},
   "outputs": [
    {
     "data": {
      "text/plain": [
       "423310"
      ]
     },
     "execution_count": 10,
     "metadata": {},
     "output_type": "execute_result"
    }
   ],
   "source": [
    "sum(df[\"AnzBestWir\"])"
   ]
  },
  {
   "cell_type": "code",
   "execution_count": 8,
   "metadata": {
    "scrolled": true
   },
   "outputs": [
    {
     "data": {
      "text/plain": [
       "1765"
      ]
     },
     "execution_count": 8,
     "metadata": {},
     "output_type": "execute_result"
    }
   ],
   "source": [
    "len(df)"
   ]
  },
  {
   "cell_type": "code",
   "execution_count": 11,
   "metadata": {},
   "outputs": [
    {
     "data": {
      "text/plain": [
       "StichtagDatJahr      int64\n",
       "xkoord             float64\n",
       "ykoord             float64\n",
       "GebOrtSort           int64\n",
       "GebOrtLang          object\n",
       "GebLandSort          int64\n",
       "GebLandLang         object\n",
       "AnzBestWir           int64\n",
       "dtype: object"
      ]
     },
     "execution_count": 11,
     "metadata": {},
     "output_type": "execute_result"
    }
   ],
   "source": [
    "df.dtypes"
   ]
  },
  {
   "cell_type": "markdown",
   "metadata": {},
   "source": [
    "Sortieren Sie die Tabelle nach der Spalte \"AnzBestWir\". In welchen zehn Orten sind am meisten Zürcher Einwohner geboren?"
   ]
  },
  {
   "cell_type": "code",
   "execution_count": 12,
   "metadata": {},
   "outputs": [
    {
     "data": {
      "text/html": [
       "<div>\n",
       "<style scoped>\n",
       "    .dataframe tbody tr th:only-of-type {\n",
       "        vertical-align: middle;\n",
       "    }\n",
       "\n",
       "    .dataframe tbody tr th {\n",
       "        vertical-align: top;\n",
       "    }\n",
       "\n",
       "    .dataframe thead th {\n",
       "        text-align: right;\n",
       "    }\n",
       "</style>\n",
       "<table border=\"1\" class=\"dataframe\">\n",
       "  <thead>\n",
       "    <tr style=\"text-align: right;\">\n",
       "      <th></th>\n",
       "      <th>StichtagDatJahr</th>\n",
       "      <th>xkoord</th>\n",
       "      <th>ykoord</th>\n",
       "      <th>GebOrtSort</th>\n",
       "      <th>GebOrtLang</th>\n",
       "      <th>GebLandSort</th>\n",
       "      <th>GebLandLang</th>\n",
       "      <th>AnzBestWir</th>\n",
       "    </tr>\n",
       "  </thead>\n",
       "  <tbody>\n",
       "    <tr>\n",
       "      <th>155</th>\n",
       "      <td>2017</td>\n",
       "      <td>683100.0</td>\n",
       "      <td>247100.0</td>\n",
       "      <td>261</td>\n",
       "      <td>Zürich</td>\n",
       "      <td>8100</td>\n",
       "      <td>Schweiz</td>\n",
       "      <td>124583</td>\n",
       "    </tr>\n",
       "    <tr>\n",
       "      <th>1564</th>\n",
       "      <td>2017</td>\n",
       "      <td>NaN</td>\n",
       "      <td>NaN</td>\n",
       "      <td>8995</td>\n",
       "      <td>Unbekannt</td>\n",
       "      <td>8207</td>\n",
       "      <td>Deutschland</td>\n",
       "      <td>35809</td>\n",
       "    </tr>\n",
       "    <tr>\n",
       "      <th>1591</th>\n",
       "      <td>2017</td>\n",
       "      <td>NaN</td>\n",
       "      <td>NaN</td>\n",
       "      <td>8995</td>\n",
       "      <td>Unbekannt</td>\n",
       "      <td>8248</td>\n",
       "      <td>Serbien</td>\n",
       "      <td>20387</td>\n",
       "    </tr>\n",
       "    <tr>\n",
       "      <th>1572</th>\n",
       "      <td>2017</td>\n",
       "      <td>NaN</td>\n",
       "      <td>NaN</td>\n",
       "      <td>8995</td>\n",
       "      <td>Unbekannt</td>\n",
       "      <td>8218</td>\n",
       "      <td>Italien</td>\n",
       "      <td>12342</td>\n",
       "    </tr>\n",
       "    <tr>\n",
       "      <th>109</th>\n",
       "      <td>2017</td>\n",
       "      <td>685800.0</td>\n",
       "      <td>243800.0</td>\n",
       "      <td>161</td>\n",
       "      <td>Zollikon</td>\n",
       "      <td>8100</td>\n",
       "      <td>Schweiz</td>\n",
       "      <td>7285</td>\n",
       "    </tr>\n",
       "    <tr>\n",
       "      <th>1581</th>\n",
       "      <td>2017</td>\n",
       "      <td>NaN</td>\n",
       "      <td>NaN</td>\n",
       "      <td>8995</td>\n",
       "      <td>Unbekannt</td>\n",
       "      <td>8231</td>\n",
       "      <td>Portugal</td>\n",
       "      <td>6551</td>\n",
       "    </tr>\n",
       "    <tr>\n",
       "      <th>1586</th>\n",
       "      <td>2017</td>\n",
       "      <td>NaN</td>\n",
       "      <td>NaN</td>\n",
       "      <td>8995</td>\n",
       "      <td>Unbekannt</td>\n",
       "      <td>8239</td>\n",
       "      <td>Türkei</td>\n",
       "      <td>5585</td>\n",
       "    </tr>\n",
       "    <tr>\n",
       "      <th>188</th>\n",
       "      <td>2017</td>\n",
       "      <td>600100.0</td>\n",
       "      <td>199700.0</td>\n",
       "      <td>351</td>\n",
       "      <td>Bern</td>\n",
       "      <td>8100</td>\n",
       "      <td>Schweiz</td>\n",
       "      <td>5558</td>\n",
       "    </tr>\n",
       "    <tr>\n",
       "      <th>1579</th>\n",
       "      <td>2017</td>\n",
       "      <td>NaN</td>\n",
       "      <td>NaN</td>\n",
       "      <td>8995</td>\n",
       "      <td>Unbekannt</td>\n",
       "      <td>8229</td>\n",
       "      <td>Österreich</td>\n",
       "      <td>5516</td>\n",
       "    </tr>\n",
       "    <tr>\n",
       "      <th>733</th>\n",
       "      <td>2017</td>\n",
       "      <td>611300.0</td>\n",
       "      <td>267600.0</td>\n",
       "      <td>2701</td>\n",
       "      <td>Basel</td>\n",
       "      <td>8100</td>\n",
       "      <td>Schweiz</td>\n",
       "      <td>5422</td>\n",
       "    </tr>\n",
       "  </tbody>\n",
       "</table>\n",
       "</div>"
      ],
      "text/plain": [
       "      StichtagDatJahr    xkoord    ykoord  GebOrtSort GebOrtLang  GebLandSort  \\\n",
       "155              2017  683100.0  247100.0         261     Zürich         8100   \n",
       "1564             2017       NaN       NaN        8995  Unbekannt         8207   \n",
       "1591             2017       NaN       NaN        8995  Unbekannt         8248   \n",
       "1572             2017       NaN       NaN        8995  Unbekannt         8218   \n",
       "109              2017  685800.0  243800.0         161   Zollikon         8100   \n",
       "1581             2017       NaN       NaN        8995  Unbekannt         8231   \n",
       "1586             2017       NaN       NaN        8995  Unbekannt         8239   \n",
       "188              2017  600100.0  199700.0         351       Bern         8100   \n",
       "1579             2017       NaN       NaN        8995  Unbekannt         8229   \n",
       "733              2017  611300.0  267600.0        2701      Basel         8100   \n",
       "\n",
       "      GebLandLang  AnzBestWir  \n",
       "155       Schweiz      124583  \n",
       "1564  Deutschland       35809  \n",
       "1591      Serbien       20387  \n",
       "1572      Italien       12342  \n",
       "109       Schweiz        7285  \n",
       "1581     Portugal        6551  \n",
       "1586       Türkei        5585  \n",
       "188       Schweiz        5558  \n",
       "1579   Österreich        5516  \n",
       "733       Schweiz        5422  "
      ]
     },
     "execution_count": 12,
     "metadata": {},
     "output_type": "execute_result"
    }
   ],
   "source": [
    "df.sort_values(\"AnzBestWir\", ascending=False).head(10)"
   ]
  },
  {
   "cell_type": "markdown",
   "metadata": {},
   "source": [
    "Nun sind wir nur an den Schweizer Gemeinden interessiert - das Ausland lassen wir vorerst weg. Erstellen Sie nochmals eine Top10-Liste."
   ]
  },
  {
   "cell_type": "code",
   "execution_count": 13,
   "metadata": {},
   "outputs": [
    {
     "data": {
      "text/html": [
       "<div>\n",
       "<style scoped>\n",
       "    .dataframe tbody tr th:only-of-type {\n",
       "        vertical-align: middle;\n",
       "    }\n",
       "\n",
       "    .dataframe tbody tr th {\n",
       "        vertical-align: top;\n",
       "    }\n",
       "\n",
       "    .dataframe thead th {\n",
       "        text-align: right;\n",
       "    }\n",
       "</style>\n",
       "<table border=\"1\" class=\"dataframe\">\n",
       "  <thead>\n",
       "    <tr style=\"text-align: right;\">\n",
       "      <th></th>\n",
       "      <th>StichtagDatJahr</th>\n",
       "      <th>xkoord</th>\n",
       "      <th>ykoord</th>\n",
       "      <th>GebOrtSort</th>\n",
       "      <th>GebOrtLang</th>\n",
       "      <th>GebLandSort</th>\n",
       "      <th>GebLandLang</th>\n",
       "      <th>AnzBestWir</th>\n",
       "    </tr>\n",
       "  </thead>\n",
       "  <tbody>\n",
       "    <tr>\n",
       "      <th>155</th>\n",
       "      <td>2017</td>\n",
       "      <td>683100.0</td>\n",
       "      <td>247100.0</td>\n",
       "      <td>261</td>\n",
       "      <td>Zürich</td>\n",
       "      <td>8100</td>\n",
       "      <td>Schweiz</td>\n",
       "      <td>124583</td>\n",
       "    </tr>\n",
       "    <tr>\n",
       "      <th>109</th>\n",
       "      <td>2017</td>\n",
       "      <td>685800.0</td>\n",
       "      <td>243800.0</td>\n",
       "      <td>161</td>\n",
       "      <td>Zollikon</td>\n",
       "      <td>8100</td>\n",
       "      <td>Schweiz</td>\n",
       "      <td>7285</td>\n",
       "    </tr>\n",
       "    <tr>\n",
       "      <th>188</th>\n",
       "      <td>2017</td>\n",
       "      <td>600100.0</td>\n",
       "      <td>199700.0</td>\n",
       "      <td>351</td>\n",
       "      <td>Bern</td>\n",
       "      <td>8100</td>\n",
       "      <td>Schweiz</td>\n",
       "      <td>5558</td>\n",
       "    </tr>\n",
       "    <tr>\n",
       "      <th>733</th>\n",
       "      <td>2017</td>\n",
       "      <td>611300.0</td>\n",
       "      <td>267600.0</td>\n",
       "      <td>2701</td>\n",
       "      <td>Basel</td>\n",
       "      <td>8100</td>\n",
       "      <td>Schweiz</td>\n",
       "      <td>5422</td>\n",
       "    </tr>\n",
       "    <tr>\n",
       "      <th>142</th>\n",
       "      <td>2017</td>\n",
       "      <td>697200.0</td>\n",
       "      <td>261700.0</td>\n",
       "      <td>230</td>\n",
       "      <td>Winterthur</td>\n",
       "      <td>8100</td>\n",
       "      <td>Schweiz</td>\n",
       "      <td>5271</td>\n",
       "    </tr>\n",
       "    <tr>\n",
       "      <th>844</th>\n",
       "      <td>2017</td>\n",
       "      <td>746200.0</td>\n",
       "      <td>254600.0</td>\n",
       "      <td>3203</td>\n",
       "      <td>St. Gallen</td>\n",
       "      <td>8100</td>\n",
       "      <td>Schweiz</td>\n",
       "      <td>4618</td>\n",
       "    </tr>\n",
       "    <tr>\n",
       "      <th>446</th>\n",
       "      <td>2017</td>\n",
       "      <td>666200.0</td>\n",
       "      <td>211800.0</td>\n",
       "      <td>1061</td>\n",
       "      <td>Luzern</td>\n",
       "      <td>8100</td>\n",
       "      <td>Schweiz</td>\n",
       "      <td>4326</td>\n",
       "    </tr>\n",
       "    <tr>\n",
       "      <th>150</th>\n",
       "      <td>2017</td>\n",
       "      <td>676200.0</td>\n",
       "      <td>250000.0</td>\n",
       "      <td>247</td>\n",
       "      <td>Schlieren</td>\n",
       "      <td>8100</td>\n",
       "      <td>Schweiz</td>\n",
       "      <td>4039</td>\n",
       "    </tr>\n",
       "    <tr>\n",
       "      <th>125</th>\n",
       "      <td>2017</td>\n",
       "      <td>696700.0</td>\n",
       "      <td>245000.0</td>\n",
       "      <td>198</td>\n",
       "      <td>Uster</td>\n",
       "      <td>8100</td>\n",
       "      <td>Schweiz</td>\n",
       "      <td>3509</td>\n",
       "    </tr>\n",
       "    <tr>\n",
       "      <th>91</th>\n",
       "      <td>2017</td>\n",
       "      <td>683400.0</td>\n",
       "      <td>241300.0</td>\n",
       "      <td>135</td>\n",
       "      <td>Kilchberg (ZH)</td>\n",
       "      <td>8100</td>\n",
       "      <td>Schweiz</td>\n",
       "      <td>3343</td>\n",
       "    </tr>\n",
       "  </tbody>\n",
       "</table>\n",
       "</div>"
      ],
      "text/plain": [
       "     StichtagDatJahr    xkoord    ykoord  GebOrtSort      GebOrtLang  \\\n",
       "155             2017  683100.0  247100.0         261          Zürich   \n",
       "109             2017  685800.0  243800.0         161        Zollikon   \n",
       "188             2017  600100.0  199700.0         351            Bern   \n",
       "733             2017  611300.0  267600.0        2701           Basel   \n",
       "142             2017  697200.0  261700.0         230      Winterthur   \n",
       "844             2017  746200.0  254600.0        3203      St. Gallen   \n",
       "446             2017  666200.0  211800.0        1061          Luzern   \n",
       "150             2017  676200.0  250000.0         247       Schlieren   \n",
       "125             2017  696700.0  245000.0         198           Uster   \n",
       "91              2017  683400.0  241300.0         135  Kilchberg (ZH)   \n",
       "\n",
       "     GebLandSort GebLandLang  AnzBestWir  \n",
       "155         8100     Schweiz      124583  \n",
       "109         8100     Schweiz        7285  \n",
       "188         8100     Schweiz        5558  \n",
       "733         8100     Schweiz        5422  \n",
       "142         8100     Schweiz        5271  \n",
       "844         8100     Schweiz        4618  \n",
       "446         8100     Schweiz        4326  \n",
       "150         8100     Schweiz        4039  \n",
       "125         8100     Schweiz        3509  \n",
       "91          8100     Schweiz        3343  "
      ]
     },
     "execution_count": 13,
     "metadata": {},
     "output_type": "execute_result"
    }
   ],
   "source": [
    "df[df[\"GebLandLang\"]==\"Schweiz\"].sort_values(\"AnzBestWir\", ascending=False).head(10)"
   ]
  },
  {
   "cell_type": "markdown",
   "metadata": {},
   "source": [
    "Aus welchen Ländern (ausserhalb der Schweiz) kommen die meisten Zürcher Einwohner? Top 10 Liste."
   ]
  },
  {
   "cell_type": "code",
   "execution_count": 14,
   "metadata": {},
   "outputs": [
    {
     "data": {
      "text/html": [
       "<div>\n",
       "<style scoped>\n",
       "    .dataframe tbody tr th:only-of-type {\n",
       "        vertical-align: middle;\n",
       "    }\n",
       "\n",
       "    .dataframe tbody tr th {\n",
       "        vertical-align: top;\n",
       "    }\n",
       "\n",
       "    .dataframe thead th {\n",
       "        text-align: right;\n",
       "    }\n",
       "</style>\n",
       "<table border=\"1\" class=\"dataframe\">\n",
       "  <thead>\n",
       "    <tr style=\"text-align: right;\">\n",
       "      <th></th>\n",
       "      <th>StichtagDatJahr</th>\n",
       "      <th>xkoord</th>\n",
       "      <th>ykoord</th>\n",
       "      <th>GebOrtSort</th>\n",
       "      <th>GebOrtLang</th>\n",
       "      <th>GebLandSort</th>\n",
       "      <th>GebLandLang</th>\n",
       "      <th>AnzBestWir</th>\n",
       "    </tr>\n",
       "  </thead>\n",
       "  <tbody>\n",
       "    <tr>\n",
       "      <th>1564</th>\n",
       "      <td>2017</td>\n",
       "      <td>NaN</td>\n",
       "      <td>NaN</td>\n",
       "      <td>8995</td>\n",
       "      <td>Unbekannt</td>\n",
       "      <td>8207</td>\n",
       "      <td>Deutschland</td>\n",
       "      <td>35809</td>\n",
       "    </tr>\n",
       "    <tr>\n",
       "      <th>1591</th>\n",
       "      <td>2017</td>\n",
       "      <td>NaN</td>\n",
       "      <td>NaN</td>\n",
       "      <td>8995</td>\n",
       "      <td>Unbekannt</td>\n",
       "      <td>8248</td>\n",
       "      <td>Serbien</td>\n",
       "      <td>20387</td>\n",
       "    </tr>\n",
       "    <tr>\n",
       "      <th>1572</th>\n",
       "      <td>2017</td>\n",
       "      <td>NaN</td>\n",
       "      <td>NaN</td>\n",
       "      <td>8995</td>\n",
       "      <td>Unbekannt</td>\n",
       "      <td>8218</td>\n",
       "      <td>Italien</td>\n",
       "      <td>12342</td>\n",
       "    </tr>\n",
       "    <tr>\n",
       "      <th>1581</th>\n",
       "      <td>2017</td>\n",
       "      <td>NaN</td>\n",
       "      <td>NaN</td>\n",
       "      <td>8995</td>\n",
       "      <td>Unbekannt</td>\n",
       "      <td>8231</td>\n",
       "      <td>Portugal</td>\n",
       "      <td>6551</td>\n",
       "    </tr>\n",
       "    <tr>\n",
       "      <th>1586</th>\n",
       "      <td>2017</td>\n",
       "      <td>NaN</td>\n",
       "      <td>NaN</td>\n",
       "      <td>8995</td>\n",
       "      <td>Unbekannt</td>\n",
       "      <td>8239</td>\n",
       "      <td>Türkei</td>\n",
       "      <td>5585</td>\n",
       "    </tr>\n",
       "    <tr>\n",
       "      <th>1579</th>\n",
       "      <td>2017</td>\n",
       "      <td>NaN</td>\n",
       "      <td>NaN</td>\n",
       "      <td>8995</td>\n",
       "      <td>Unbekannt</td>\n",
       "      <td>8229</td>\n",
       "      <td>Österreich</td>\n",
       "      <td>5516</td>\n",
       "    </tr>\n",
       "    <tr>\n",
       "      <th>1585</th>\n",
       "      <td>2017</td>\n",
       "      <td>NaN</td>\n",
       "      <td>NaN</td>\n",
       "      <td>8995</td>\n",
       "      <td>Unbekannt</td>\n",
       "      <td>8236</td>\n",
       "      <td>Spanien</td>\n",
       "      <td>5101</td>\n",
       "    </tr>\n",
       "    <tr>\n",
       "      <th>1566</th>\n",
       "      <td>2017</td>\n",
       "      <td>NaN</td>\n",
       "      <td>NaN</td>\n",
       "      <td>8995</td>\n",
       "      <td>Unbekannt</td>\n",
       "      <td>8212</td>\n",
       "      <td>Frankreich</td>\n",
       "      <td>4754</td>\n",
       "    </tr>\n",
       "    <tr>\n",
       "      <th>1602</th>\n",
       "      <td>2017</td>\n",
       "      <td>NaN</td>\n",
       "      <td>NaN</td>\n",
       "      <td>8995</td>\n",
       "      <td>Unbekannt</td>\n",
       "      <td>8264</td>\n",
       "      <td>Russland</td>\n",
       "      <td>4422</td>\n",
       "    </tr>\n",
       "    <tr>\n",
       "      <th>1695</th>\n",
       "      <td>2017</td>\n",
       "      <td>NaN</td>\n",
       "      <td>NaN</td>\n",
       "      <td>8995</td>\n",
       "      <td>Unbekannt</td>\n",
       "      <td>8439</td>\n",
       "      <td>USA</td>\n",
       "      <td>4165</td>\n",
       "    </tr>\n",
       "  </tbody>\n",
       "</table>\n",
       "</div>"
      ],
      "text/plain": [
       "      StichtagDatJahr  xkoord  ykoord  GebOrtSort GebOrtLang  GebLandSort  \\\n",
       "1564             2017     NaN     NaN        8995  Unbekannt         8207   \n",
       "1591             2017     NaN     NaN        8995  Unbekannt         8248   \n",
       "1572             2017     NaN     NaN        8995  Unbekannt         8218   \n",
       "1581             2017     NaN     NaN        8995  Unbekannt         8231   \n",
       "1586             2017     NaN     NaN        8995  Unbekannt         8239   \n",
       "1579             2017     NaN     NaN        8995  Unbekannt         8229   \n",
       "1585             2017     NaN     NaN        8995  Unbekannt         8236   \n",
       "1566             2017     NaN     NaN        8995  Unbekannt         8212   \n",
       "1602             2017     NaN     NaN        8995  Unbekannt         8264   \n",
       "1695             2017     NaN     NaN        8995  Unbekannt         8439   \n",
       "\n",
       "      GebLandLang  AnzBestWir  \n",
       "1564  Deutschland       35809  \n",
       "1591      Serbien       20387  \n",
       "1572      Italien       12342  \n",
       "1581     Portugal        6551  \n",
       "1586       Türkei        5585  \n",
       "1579   Österreich        5516  \n",
       "1585      Spanien        5101  \n",
       "1566   Frankreich        4754  \n",
       "1602     Russland        4422  \n",
       "1695          USA        4165  "
      ]
     },
     "execution_count": 14,
     "metadata": {},
     "output_type": "execute_result"
    }
   ],
   "source": [
    "df[df[\"GebLandLang\"]!=\"Schweiz\"].sort_values(\"AnzBestWir\", ascending=False).head(10)"
   ]
  },
  {
   "cell_type": "markdown",
   "metadata": {},
   "source": [
    "**Plot:** Die zehn wichtigsten Herkunftsländer von Personen in Zürich. Barchart horizontal bietet sich an.\n",
    "\n",
    "Tipp: `plot(x=...., y=....)` benutzen. Und gerne mit einem Titel (gilt für alle Plots ab jetzt)!"
   ]
  },
  {
   "cell_type": "code",
   "execution_count": 15,
   "metadata": {},
   "outputs": [
    {
     "data": {
      "text/plain": [
       "<matplotlib.axes._subplots.AxesSubplot at 0x1eb6ff02908>"
      ]
     },
     "execution_count": 15,
     "metadata": {},
     "output_type": "execute_result"
    },
    {
     "data": {
      "image/png": "[encoded data removed]",
      "text/plain": [
       "<Figure size 432x288 with 1 Axes>"
      ]
     },
     "metadata": {
      "needs_background": "light"
     },
     "output_type": "display_data"
    }
   ],
   "source": [
    "df[df[\"GebLandLang\"]!=\"Schweiz\"].sort_values(\"AnzBestWir\", ascending=False).head(10).plot(kind=\"barh\", x=\"GebLandLang\", y=\"AnzBestWir\", title=\"Herkunftländer\")\n",
    "                                                                               \n"
   ]
  },
  {
   "cell_type": "markdown",
   "metadata": {},
   "source": [
    "**Plot:** Ein Histogramm, das die Verteilung der Anzahl Personen über alle Geburtsorte anzeigt."
   ]
  },
  {
   "cell_type": "code",
   "execution_count": 17,
   "metadata": {},
   "outputs": [
    {
     "ename": "ValueError",
     "evalue": "plot kind 'scatter' can only be used for data frames",
     "output_type": "error",
     "traceback": [
      "\u001b[1;31m---------------------------------------------------------------------------\u001b[0m",
      "\u001b[1;31mValueError\u001b[0m                                Traceback (most recent call last)",
      "\u001b[1;32m<ipython-input-17-8cc39ea8f286>\u001b[0m in \u001b[0;36m<module>\u001b[1;34m\u001b[0m\n\u001b[1;32m----> 1\u001b[1;33m \u001b[0mdf\u001b[0m\u001b[1;33m[\u001b[0m\u001b[1;34m\"GebOrtLang\"\u001b[0m\u001b[1;33m]\u001b[0m\u001b[1;33m.\u001b[0m\u001b[0mplot\u001b[0m\u001b[1;33m(\u001b[0m\u001b[0mkind\u001b[0m\u001b[1;33m=\u001b[0m\u001b[1;34m\"scatter\"\u001b[0m\u001b[1;33m,\u001b[0m \u001b[0mx\u001b[0m\u001b[1;33m=\u001b[0m\u001b[1;34m\"AnzBestWir\"\u001b[0m\u001b[1;33m,\u001b[0m \u001b[0my\u001b[0m\u001b[1;33m=\u001b[0m\u001b[1;34m\"GebLandLang\"\u001b[0m\u001b[1;33m,\u001b[0m \u001b[0mtitle\u001b[0m\u001b[1;33m=\u001b[0m\u001b[1;34m\"Herkunftländer\"\u001b[0m\u001b[1;33m)\u001b[0m\u001b[1;33m\u001b[0m\u001b[1;33m\u001b[0m\u001b[0m\n\u001b[0m\u001b[0;32m      2\u001b[0m \u001b[1;33m\u001b[0m\u001b[0m\n\u001b[0;32m      3\u001b[0m \u001b[1;33m\u001b[0m\u001b[0m\n",
      "\u001b[1;32m~\\Anaconda3\\lib\\site-packages\\pandas\\plotting\\_core.py\u001b[0m in \u001b[0;36m__call__\u001b[1;34m(self, kind, ax, figsize, use_index, title, grid, legend, style, logx, logy, loglog, xticks, yticks, xlim, ylim, rot, fontsize, colormap, table, yerr, xerr, label, secondary_y, **kwds)\u001b[0m\n\u001b[0;32m   2740\u001b[0m                            \u001b[0mcolormap\u001b[0m\u001b[1;33m=\u001b[0m\u001b[0mcolormap\u001b[0m\u001b[1;33m,\u001b[0m \u001b[0mtable\u001b[0m\u001b[1;33m=\u001b[0m\u001b[0mtable\u001b[0m\u001b[1;33m,\u001b[0m \u001b[0myerr\u001b[0m\u001b[1;33m=\u001b[0m\u001b[0myerr\u001b[0m\u001b[1;33m,\u001b[0m\u001b[1;33m\u001b[0m\u001b[1;33m\u001b[0m\u001b[0m\n\u001b[0;32m   2741\u001b[0m                            \u001b[0mxerr\u001b[0m\u001b[1;33m=\u001b[0m\u001b[0mxerr\u001b[0m\u001b[1;33m,\u001b[0m \u001b[0mlabel\u001b[0m\u001b[1;33m=\u001b[0m\u001b[0mlabel\u001b[0m\u001b[1;33m,\u001b[0m \u001b[0msecondary_y\u001b[0m\u001b[1;33m=\u001b[0m\u001b[0msecondary_y\u001b[0m\u001b[1;33m,\u001b[0m\u001b[1;33m\u001b[0m\u001b[1;33m\u001b[0m\u001b[0m\n\u001b[1;32m-> 2742\u001b[1;33m                            **kwds)\n\u001b[0m\u001b[0;32m   2743\u001b[0m     \u001b[0m__call__\u001b[0m\u001b[1;33m.\u001b[0m\u001b[0m__doc__\u001b[0m \u001b[1;33m=\u001b[0m \u001b[0mplot_series\u001b[0m\u001b[1;33m.\u001b[0m\u001b[0m__doc__\u001b[0m\u001b[1;33m\u001b[0m\u001b[1;33m\u001b[0m\u001b[0m\n\u001b[0;32m   2744\u001b[0m \u001b[1;33m\u001b[0m\u001b[0m\n",
      "\u001b[1;32m~\\Anaconda3\\lib\\site-packages\\pandas\\plotting\\_core.py\u001b[0m in \u001b[0;36mplot_series\u001b[1;34m(data, kind, ax, figsize, use_index, title, grid, legend, style, logx, logy, loglog, xticks, yticks, xlim, ylim, rot, fontsize, colormap, table, yerr, xerr, label, secondary_y, **kwds)\u001b[0m\n\u001b[0;32m   1996\u001b[0m                  \u001b[0myerr\u001b[0m\u001b[1;33m=\u001b[0m\u001b[0myerr\u001b[0m\u001b[1;33m,\u001b[0m \u001b[0mxerr\u001b[0m\u001b[1;33m=\u001b[0m\u001b[0mxerr\u001b[0m\u001b[1;33m,\u001b[0m\u001b[1;33m\u001b[0m\u001b[1;33m\u001b[0m\u001b[0m\n\u001b[0;32m   1997\u001b[0m                  \u001b[0mlabel\u001b[0m\u001b[1;33m=\u001b[0m\u001b[0mlabel\u001b[0m\u001b[1;33m,\u001b[0m \u001b[0msecondary_y\u001b[0m\u001b[1;33m=\u001b[0m\u001b[0msecondary_y\u001b[0m\u001b[1;33m,\u001b[0m\u001b[1;33m\u001b[0m\u001b[1;33m\u001b[0m\u001b[0m\n\u001b[1;32m-> 1998\u001b[1;33m                  **kwds)\n\u001b[0m\u001b[0;32m   1999\u001b[0m \u001b[1;33m\u001b[0m\u001b[0m\n\u001b[0;32m   2000\u001b[0m \u001b[1;33m\u001b[0m\u001b[0m\n",
      "\u001b[1;32m~\\Anaconda3\\lib\\site-packages\\pandas\\plotting\\_core.py\u001b[0m in \u001b[0;36m_plot\u001b[1;34m(data, x, y, subplots, ax, kind, **kwds)\u001b[0m\n\u001b[0;32m   1741\u001b[0m         \u001b[1;32melse\u001b[0m\u001b[1;33m:\u001b[0m\u001b[1;33m\u001b[0m\u001b[1;33m\u001b[0m\u001b[0m\n\u001b[0;32m   1742\u001b[0m             raise ValueError(\"plot kind %r can only be used for data frames\"\n\u001b[1;32m-> 1743\u001b[1;33m                              % kind)\n\u001b[0m\u001b[0;32m   1744\u001b[0m \u001b[1;33m\u001b[0m\u001b[0m\n\u001b[0;32m   1745\u001b[0m     \u001b[1;32melif\u001b[0m \u001b[0mkind\u001b[0m \u001b[1;32min\u001b[0m \u001b[0m_series_kinds\u001b[0m\u001b[1;33m:\u001b[0m\u001b[1;33m\u001b[0m\u001b[1;33m\u001b[0m\u001b[0m\n",
      "\u001b[1;31mValueError\u001b[0m: plot kind 'scatter' can only be used for data frames"
     ]
    }
   ],
   "source": [
    "df[\"GebOrtLang\"].plot(kind=\"scatter\", x=\"AnzBestWir\", y=\"GebLandLang\", title=\"Herkunftländer\")\n",
    "\n",
    "\n"
   ]
  },
  {
   "cell_type": "markdown",
   "metadata": {},
   "source": [
    "**Plot :** Ein Histogramm mit derselben Verteilung – nur für Einwohner, die aus der Schweiz stammen, aber nicht in Zürich geboren sind."
   ]
  },
  {
   "cell_type": "code",
   "execution_count": null,
   "metadata": {},
   "outputs": [],
   "source": [
    "\n",
    "\n"
   ]
  },
  {
   "cell_type": "markdown",
   "metadata": {},
   "source": [
    "Erkennt man aus diesem Chart irgendetwas interessantes?"
   ]
  },
  {
   "cell_type": "code",
   "execution_count": null,
   "metadata": {
    "collapsed": true
   },
   "outputs": [],
   "source": [
    "# In Worten\n"
   ]
  },
  {
   "cell_type": "markdown",
   "metadata": {},
   "source": [
    "Erstellen Sie einen weiteren Plot - der die Verteilung dieser Personen nochmals anders zeigt.\n",
    "\n",
    "Reihen Sie die Gemeinden auf der x-Achse nach Personenzahl auf, bilden Sie auf der y-Achse die Anzahl Personen ab.\n",
    "\n",
    "Tipp: `.reset_index()` benutzen, um die Gemeinden nach dem Sortieren aufzureihen."
   ]
  },
  {
   "cell_type": "code",
   "execution_count": null,
   "metadata": {},
   "outputs": [],
   "source": [
    "\n"
   ]
  },
  {
   "cell_type": "markdown",
   "metadata": {},
   "source": [
    "## Neue Spalte erstellen"
   ]
  },
  {
   "cell_type": "markdown",
   "metadata": {},
   "source": [
    "Die x- und y-Koordinaten der Gemeinden sind im System der Schweizer Landeskoordinaten angegeben: https://de.scoutwiki.org/Schweizer_Landeskoordinaten. Eine Einheit darauf entspricht einem Meter.\n",
    "\n",
    "Ein Ort mit den x/y-Koordinaten (000000 / 000000) ist also zB 20 Meter entfernt von einem anderen Ort mit den Koordinaten (000000 / 0000*20*).\n",
    "\n",
    "Die Koordinaten von Zürich sind: (683100.0 / 247100.0).\n",
    "\n",
    "Erstellen Sie eine neue Spalte mit dem Namen \"Distanz\", welche die Distanz einer Ortschaft zu Zürich enthält.\n",
    "\n",
    "Tipp: Pythagoras anwenden ;-) https://www.sofatutor.ch/mathematik/geometrie/berechnungen-an-dreiecken/satz-des-pythagoras"
   ]
  },
  {
   "cell_type": "code",
   "execution_count": null,
   "metadata": {
    "collapsed": true
   },
   "outputs": [],
   "source": []
  },
  {
   "cell_type": "markdown",
   "metadata": {},
   "source": [
    "Checken Sie anhand der ersten zwei Zeilen, ob die Berechnung funktioniert hat."
   ]
  },
  {
   "cell_type": "code",
   "execution_count": null,
   "metadata": {},
   "outputs": [],
   "source": []
  },
  {
   "cell_type": "markdown",
   "metadata": {},
   "source": [
    "Checken Sie, dass die Spalte \"Distanz\" in Zürich gleich null ist."
   ]
  },
  {
   "cell_type": "code",
   "execution_count": null,
   "metadata": {},
   "outputs": [],
   "source": []
  },
  {
   "cell_type": "markdown",
   "metadata": {},
   "source": [
    "**Plots:**"
   ]
  },
  {
   "cell_type": "markdown",
   "metadata": {},
   "source": [
    "Erstellen Sie einen Scatterplot: Alle Orte ausser Zürich.\n",
    "\n",
    "Auf der x-Achse: die Distanz von Zürich. Auf der y-Achse: die Anzahl Personen."
   ]
  },
  {
   "cell_type": "code",
   "execution_count": null,
   "metadata": {},
   "outputs": [],
   "source": [
    "\n"
   ]
  },
  {
   "cell_type": "markdown",
   "metadata": {},
   "source": [
    "Gibt es einen Zusammenhang?"
   ]
  },
  {
   "cell_type": "code",
   "execution_count": null,
   "metadata": {
    "collapsed": true
   },
   "outputs": [],
   "source": [
    "# In Worten"
   ]
  },
  {
   "cell_type": "markdown",
   "metadata": {},
   "source": [
    "Wir können versuchen, den obigen Chart noch etwas besser hinzukriegen. Und zwar so:"
   ]
  },
  {
   "cell_type": "markdown",
   "metadata": {},
   "source": [
    "## Numerische Wert kategorisieren"
   ]
  },
  {
   "cell_type": "markdown",
   "metadata": {},
   "source": [
    "Unsere Distanz-Spalte ist momentan ein Kontinuum: Wir haben für jede Spalte einen exakten Wert.\n",
    "\n",
    "Nun wollen wir diese Werte in Töpfe reinschmeissen: Zum Bespiel: 0 bis 10'000 Personen, 10'000 bis 20'000 Personen, etc."
   ]
  },
  {
   "cell_type": "markdown",
   "metadata": {},
   "source": [
    "**Variante 1:** Wir runden einfach auf den nächsten Zehntausender.\n",
    "\n",
    "Erstellen Sie eine neue Spalte: \"Distanz_gerundet\".\n",
    "\n",
    "Benutzen Sie dazu die Funktion `.round()` (https://pandas.pydata.org/pandas-docs/stable/generated/pandas.DataFrame.round.html)"
   ]
  },
  {
   "cell_type": "code",
   "execution_count": null,
   "metadata": {
    "collapsed": true
   },
   "outputs": [],
   "source": []
  },
  {
   "cell_type": "markdown",
   "metadata": {},
   "source": [
    "Checken Sie anhan der ersten zwei Zeilen ab, ob es funktioniert hat:"
   ]
  },
  {
   "cell_type": "code",
   "execution_count": null,
   "metadata": {},
   "outputs": [],
   "source": []
  },
  {
   "cell_type": "markdown",
   "metadata": {},
   "source": [
    "Erstellen Sie nun einen ähnlichen Plot wie zuvor - nicht als Scatter, sondern als Barchart.\n",
    "\n",
    "Wir wollen wissen: Wie viele Personen kommen jeweils insgesamt aus den Orten, die innerhalb eines bestimmten Radius zu Zürich liegen?\n",
    "\n",
    "Vorgehen:\n",
    "\n",
    "1. Gruppieren nach gerundeter Distanz\n",
    "\n",
    "1. Anzahl Personen summieren\n",
    "\n",
    "1. Plot, Barchart"
   ]
  },
  {
   "cell_type": "code",
   "execution_count": null,
   "metadata": {},
   "outputs": [],
   "source": [
    "\n"
   ]
  },
  {
   "cell_type": "markdown",
   "metadata": {},
   "source": [
    "Gibt es einen Zusammenhang?"
   ]
  },
  {
   "cell_type": "code",
   "execution_count": null,
   "metadata": {
    "collapsed": true
   },
   "outputs": [],
   "source": [
    "# In Worten"
   ]
  },
  {
   "cell_type": "markdown",
   "metadata": {},
   "source": [
    "**Variante 2 (Bonus):** Wir benutzen eine spezielle Kategorisierungsfunktion.\n",
    "\n",
    "Und zwar: pd.cut() - (https://pandas.pydata.org/pandas-docs/version/0.23.4/generated/pandas.cut.html)\n",
    "\n",
    "Diese Funktion \"schneidet\" unsere Distanz-Spalte in so viele gleich lange Stücke (\"bins\"), wie wir wollen."
   ]
  },
  {
   "cell_type": "markdown",
   "metadata": {},
   "source": [
    "Zum Beispiel: in 50 Stücke. Und sie spuckt gleich zu jedem Eintrag aus, in welches Stück er gehört."
   ]
  },
  {
   "cell_type": "code",
   "execution_count": null,
   "metadata": {
    "collapsed": true
   },
   "outputs": [],
   "source": [
    "# pd.cut(df['Distanz'], bins=50)"
   ]
  },
  {
   "cell_type": "markdown",
   "metadata": {},
   "source": [
    "Wir müssen die Funktion jetzt anwenden (kreieren Sie die Spalte \"Distanz_Kategorie\")"
   ]
  },
  {
   "cell_type": "code",
   "execution_count": null,
   "metadata": {
    "collapsed": true
   },
   "outputs": [],
   "source": []
  },
  {
   "cell_type": "markdown",
   "metadata": {},
   "source": [
    "Check, erste zwei Zeilen. Das sieht dann so aus: wir erhalten ein Intervall, mit oberer und unterer Grenze."
   ]
  },
  {
   "cell_type": "code",
   "execution_count": null,
   "metadata": {},
   "outputs": [],
   "source": []
  },
  {
   "cell_type": "markdown",
   "metadata": {},
   "source": [
    "Wir können nun den analogen Plot wie bei Variante 1 erstellen:\n",
    "\n",
    "1. Gruppieren nach kategorisierter Distanz\n",
    "\n",
    "1. Anzahl Personen summieren\n",
    "\n",
    "1. Plot, Barchart"
   ]
  },
  {
   "cell_type": "code",
   "execution_count": null,
   "metadata": {},
   "outputs": [],
   "source": [
    "\n"
   ]
  },
  {
   "cell_type": "markdown",
   "metadata": {},
   "source": [
    "Inwiefern unterscheidet sich dieser Plot von dem vorherigen?"
   ]
  },
  {
   "cell_type": "code",
   "execution_count": null,
   "metadata": {
    "collapsed": true
   },
   "outputs": [],
   "source": [
    "# In Worten"
   ]
  },
  {
   "cell_type": "markdown",
   "metadata": {},
   "source": [
    "## Daten kombinieren\n",
    "\n",
    "Falls Sie im letzten Abschnitt abgehängt haben: egal. Hier kommt was neues."
   ]
  },
  {
   "cell_type": "markdown",
   "metadata": {},
   "source": [
    "Wir haben in unserem Datenornder diverse Hilfsdateien:\n",
    "- Gemeinden_Kantone.xlsx\n",
    "- Kantone_IDs.csv\n",
    "\n",
    "Wir können diese Dateien benutzen, um weitere Auswertungen zu machen."
   ]
  },
  {
   "cell_type": "markdown",
   "metadata": {},
   "source": [
    "Laden Sie das File \"Gemeinden_Kantone.xlsx\" und speichern Sie es als Dataframe mit dem Namen `df_gem`"
   ]
  },
  {
   "cell_type": "code",
   "execution_count": null,
   "metadata": {
    "collapsed": true
   },
   "outputs": [],
   "source": []
  },
  {
   "cell_type": "markdown",
   "metadata": {},
   "source": [
    "Checken Sie die ersten fünf Spalten."
   ]
  },
  {
   "cell_type": "code",
   "execution_count": null,
   "metadata": {},
   "outputs": [],
   "source": [
    "\n"
   ]
  },
  {
   "cell_type": "markdown",
   "metadata": {},
   "source": [
    "Welche Art von Informationen enthält die Datei?"
   ]
  },
  {
   "cell_type": "code",
   "execution_count": null,
   "metadata": {
    "collapsed": true
   },
   "outputs": [],
   "source": [
    "# In Worten"
   ]
  },
  {
   "cell_type": "markdown",
   "metadata": {},
   "source": [
    "Fügen Sie die Informationen aus `df_gem` in die Haupttabelle ein. Nennen Sie die kombinierte Tabelle `df2`.\n",
    "\n",
    "Und zwar so, dass die Ortschaften, zu denen es keinen passenden Eintrag in der Hilfstabelle gibt, erhalten bleiben.\n",
    "\n",
    "Tipp: `df.merge()` benutzen."
   ]
  },
  {
   "cell_type": "code",
   "execution_count": null,
   "metadata": {
    "collapsed": true
   },
   "outputs": [],
   "source": []
  },
  {
   "cell_type": "markdown",
   "metadata": {},
   "source": [
    "Check anhand von zwei Zeilen: hat es funktioniert?"
   ]
  },
  {
   "cell_type": "code",
   "execution_count": null,
   "metadata": {},
   "outputs": [],
   "source": []
  },
  {
   "cell_type": "markdown",
   "metadata": {},
   "source": [
    "Die Spalte mit dem Gemeindenamen haben wir nun zweimal! Schmeissen Sie den zweiten Eintrag raus. Schmeissen Sie gleichzeitig auch die importierte Gemeinde-Nummer raus, die haben wir ebenfalls zweimal (Ordnung muss sein!). Check anhand von zwei Zeilen."
   ]
  },
  {
   "cell_type": "code",
   "execution_count": null,
   "metadata": {},
   "outputs": [],
   "source": [
    "\n",
    "\n"
   ]
  },
  {
   "cell_type": "markdown",
   "metadata": {},
   "source": [
    "Laden Sie nun noch das File \"Kantone_IDs.csv\" und fügen die Infos in die Haupttabelle ein.\n",
    "\n",
    "Vorgehen: Analog wie gerade eben.\n",
    "- Datei laden\n",
    "- Tabellen mergen\n",
    "- Überflüssige Spalten rauswerfen\n",
    "\n",
    "Speichern Sie die kombinierte Tabelle unter dem Namen `df3`"
   ]
  },
  {
   "cell_type": "code",
   "execution_count": null,
   "metadata": {
    "collapsed": true
   },
   "outputs": [],
   "source": []
  },
  {
   "cell_type": "code",
   "execution_count": null,
   "metadata": {},
   "outputs": [],
   "source": []
  },
  {
   "cell_type": "code",
   "execution_count": null,
   "metadata": {
    "collapsed": true
   },
   "outputs": [],
   "source": []
  },
  {
   "cell_type": "code",
   "execution_count": null,
   "metadata": {},
   "outputs": [],
   "source": [
    "\n"
   ]
  },
  {
   "cell_type": "markdown",
   "metadata": {},
   "source": [
    "In welchen zehn Kantonen wurden die meisten Einwohner der Stadt Zürich geboren? Liste ..."
   ]
  },
  {
   "cell_type": "code",
   "execution_count": null,
   "metadata": {},
   "outputs": [],
   "source": []
  },
  {
   "cell_type": "markdown",
   "metadata": {},
   "source": [
    "... und **Plot:** die Top 2 bis 9 (also Zürich nicht), Barchart horizontal."
   ]
  },
  {
   "cell_type": "code",
   "execution_count": null,
   "metadata": {},
   "outputs": [],
   "source": [
    "\n"
   ]
  },
  {
   "cell_type": "markdown",
   "metadata": {},
   "source": [
    "## Daten kombinieren 2"
   ]
  },
  {
   "cell_type": "markdown",
   "metadata": {},
   "source": [
    "Wir haben auch noch ein File, das die Einwohnerzahl jeder Gemeinde angibt:\n",
    "- Gemeinde_Einwohner.xlsx"
   ]
  },
  {
   "cell_type": "markdown",
   "metadata": {},
   "source": [
    "Laden Sie die Datei und fügen Sie die wesentlichen Infos daraus in unsere Haupttabelle ein (`df3` -> `df4`)"
   ]
  },
  {
   "cell_type": "code",
   "execution_count": null,
   "metadata": {
    "collapsed": true
   },
   "outputs": [],
   "source": []
  },
  {
   "cell_type": "code",
   "execution_count": null,
   "metadata": {},
   "outputs": [],
   "source": []
  },
  {
   "cell_type": "code",
   "execution_count": null,
   "metadata": {
    "collapsed": true
   },
   "outputs": [],
   "source": []
  },
  {
   "cell_type": "code",
   "execution_count": null,
   "metadata": {},
   "outputs": [],
   "source": [
    "\n",
    "\n"
   ]
  },
  {
   "cell_type": "markdown",
   "metadata": {},
   "source": [
    "**Scatterplot :** Gemeindegrösse vs Anzahl Personen in Zürich. Alle Gemeinden ausser Zürich."
   ]
  },
  {
   "cell_type": "code",
   "execution_count": null,
   "metadata": {},
   "outputs": [],
   "source": [
    "\n"
   ]
  },
  {
   "cell_type": "markdown",
   "metadata": {},
   "source": [
    "Erkennt man daraus einen Zusammenhang?"
   ]
  },
  {
   "cell_type": "code",
   "execution_count": null,
   "metadata": {
    "collapsed": true
   },
   "outputs": [],
   "source": [
    "# In Worten"
   ]
  },
  {
   "cell_type": "markdown",
   "metadata": {},
   "source": [
    "Bringt es etwas, wenn wir die Einwohnerdaten klassifizieren, analog zu oben mit den Distanzen?\n",
    "\n",
    "Vielleicht mit dieser Funktion hier? https://pandas.pydata.org/pandas-docs/stable/generated/pandas.qcut.html\n",
    "\n",
    "Probieren Sie es aus."
   ]
  },
  {
   "cell_type": "code",
   "execution_count": null,
   "metadata": {
    "collapsed": true
   },
   "outputs": [],
   "source": []
  },
  {
   "cell_type": "code",
   "execution_count": null,
   "metadata": {},
   "outputs": [],
   "source": []
  },
  {
   "cell_type": "code",
   "execution_count": null,
   "metadata": {},
   "outputs": [],
   "source": [
    "\n"
   ]
  },
  {
   "cell_type": "markdown",
   "metadata": {},
   "source": [
    "## Vergleich 2016"
   ]
  },
  {
   "cell_type": "markdown",
   "metadata": {},
   "source": [
    "Wir sind fast fertig! Das letzte File im Directory heisst:\n",
    "- 2016_bev338od3380.csv\n",
    "\n",
    "Es ist dieselbe Datenbank, einfach mit den Vorjahreswerten.\n",
    "\n",
    "Zeitvergleiche sind immer gut, um eine Story zu generieren. Schauen wir mal, was rauskommt."
   ]
  },
  {
   "cell_type": "markdown",
   "metadata": {},
   "source": [
    "Lesen Sie die Datei ein und geben Sie ihr den Namen `dfx`"
   ]
  },
  {
   "cell_type": "code",
   "execution_count": null,
   "metadata": {
    "collapsed": true
   },
   "outputs": [],
   "source": []
  },
  {
   "cell_type": "markdown",
   "metadata": {},
   "source": [
    "Alle Spalten löschen bis auf \"GebOrtSort\" und \"AnzBestWir\""
   ]
  },
  {
   "cell_type": "code",
   "execution_count": null,
   "metadata": {
    "collapsed": true
   },
   "outputs": [],
   "source": []
  },
  {
   "cell_type": "markdown",
   "metadata": {},
   "source": [
    "Fügen Sie die Vorjahreswerte zu unserer Datenbank df5 hinzu."
   ]
  },
  {
   "cell_type": "code",
   "execution_count": null,
   "metadata": {
    "collapsed": true
   },
   "outputs": [],
   "source": []
  },
  {
   "cell_type": "markdown",
   "metadata": {},
   "source": [
    "Ein bisschen Spalten-Renaming würde Sinn machen, zB die beiden Spalten 'AnzBestWir' mit den Jahreszahlen 2016 und 2017 beschriften"
   ]
  },
  {
   "cell_type": "code",
   "execution_count": null,
   "metadata": {
    "collapsed": true
   },
   "outputs": [],
   "source": [
    "\n",
    "\n",
    "\n"
   ]
  },
  {
   "cell_type": "code",
   "execution_count": null,
   "metadata": {
    "collapsed": true
   },
   "outputs": [],
   "source": []
  },
  {
   "cell_type": "markdown",
   "metadata": {},
   "source": [
    "Check:"
   ]
  },
  {
   "cell_type": "code",
   "execution_count": null,
   "metadata": {},
   "outputs": [],
   "source": []
  },
  {
   "cell_type": "markdown",
   "metadata": {},
   "source": [
    "Erstellen Sie eine neue Spalte mit dem Namen \"Zunahme\". Inhalt: Differenz der beiden Jahreswerte."
   ]
  },
  {
   "cell_type": "code",
   "execution_count": null,
   "metadata": {
    "collapsed": true
   },
   "outputs": [],
   "source": []
  },
  {
   "cell_type": "markdown",
   "metadata": {},
   "source": [
    "Aus welchen zehn Schweizer Ortschaften hat die Zürcher Bevölkerung am meisten zugenommen? Liste."
   ]
  },
  {
   "cell_type": "code",
   "execution_count": null,
   "metadata": {},
   "outputs": [],
   "source": []
  },
  {
   "cell_type": "markdown",
   "metadata": {},
   "source": [
    "... und **Plot**, am besten Bar horizontal."
   ]
  },
  {
   "cell_type": "code",
   "execution_count": null,
   "metadata": {},
   "outputs": [],
   "source": [
    "\n"
   ]
  },
  {
   "cell_type": "markdown",
   "metadata": {},
   "source": [
    "Aus welchen zehn Kantonen hat die Zürcher Bevölkerung am meisten zugenommen? Liste ..."
   ]
  },
  {
   "cell_type": "code",
   "execution_count": null,
   "metadata": {},
   "outputs": [],
   "source": []
  },
  {
   "cell_type": "markdown",
   "metadata": {},
   "source": [
    "... und **Plot**. Wir haben eine Headline: *\"Masseneinwanderung aus dem Kanton XX nach Zürich!\"*"
   ]
  },
  {
   "cell_type": "code",
   "execution_count": null,
   "metadata": {},
   "outputs": [],
   "source": [
    "\n"
   ]
  },
  {
   "cell_type": "markdown",
   "metadata": {},
   "source": [
    "**Plot** zu den zehn Kantonen, aus denen die ZH-Bevölkerung am meisten zurückgeht. Headline?"
   ]
  },
  {
   "cell_type": "code",
   "execution_count": null,
   "metadata": {},
   "outputs": [],
   "source": [
    "\n"
   ]
  },
  {
   "cell_type": "markdown",
   "metadata": {},
   "source": [
    "## Bonus: Geoplotting"
   ]
  },
  {
   "cell_type": "markdown",
   "metadata": {},
   "source": [
    "Ab hier können Sie sich zurücklehnen - es ist nur noch klicken angesagt.\n",
    "\n",
    "Wir plotten zum Spass noch auf einer Karte, woher die Zürcher Bevölkerung stammt.\n",
    "\n",
    "Funktioniert allerdings nur, wenn bis jetzt das meiste einigermassen richtig gelöst wurde!"
   ]
  },
  {
   "cell_type": "markdown",
   "metadata": {},
   "source": [
    "### Libraries"
   ]
  },
  {
   "cell_type": "code",
   "execution_count": null,
   "metadata": {
    "collapsed": true
   },
   "outputs": [],
   "source": [
    "import geopandas as gpd"
   ]
  },
  {
   "cell_type": "code",
   "execution_count": null,
   "metadata": {
    "collapsed": true
   },
   "outputs": [],
   "source": [
    "from shapely.geometry import Point"
   ]
  },
  {
   "cell_type": "code",
   "execution_count": null,
   "metadata": {
    "collapsed": true
   },
   "outputs": [],
   "source": [
    "import matplotlib.pyplot as plt"
   ]
  },
  {
   "cell_type": "markdown",
   "metadata": {},
   "source": [
    "### Shapefiles\n",
    "Dieselben, die wir bereits bei den Immobilien benutzt haben"
   ]
  },
  {
   "cell_type": "code",
   "execution_count": null,
   "metadata": {},
   "outputs": [],
   "source": [
    "gdf_ch = gpd.read_file('dataprojects/immobilienboom/shp/g1l17.shp')\n",
    "gdf_ch.head(2)"
   ]
  },
  {
   "cell_type": "code",
   "execution_count": null,
   "metadata": {},
   "outputs": [],
   "source": [
    "gdf_gemeinden = gpd.read_file('dataprojects/immobilienboom/shp/g1g17.shp')\n",
    "gdf_gemeinden.head(2)"
   ]
  },
  {
   "cell_type": "code",
   "execution_count": null,
   "metadata": {},
   "outputs": [],
   "source": [
    "gdf_lakes = gpd.read_file('dataprojects/immobilienboom/shp/g1s17.shp')\n",
    "gdf_lakes.head(2)"
   ]
  },
  {
   "cell_type": "markdown",
   "metadata": {},
   "source": [
    "### Informationen aus unserem Dataframe ins Shapefile"
   ]
  },
  {
   "cell_type": "code",
   "execution_count": null,
   "metadata": {
    "collapsed": true
   },
   "outputs": [],
   "source": [
    "gdf_gemeinden_m = gdf_gemeinden.merge(df5, how=\"inner\", left_on=\"GMDNR\", right_on=\"GebOrtSort\")"
   ]
  },
  {
   "cell_type": "code",
   "execution_count": null,
   "metadata": {},
   "outputs": [],
   "source": [
    "gdf_gemeinden_m.head(2)"
   ]
  },
  {
   "cell_type": "markdown",
   "metadata": {},
   "source": [
    "Und die Geometrie auf \"Point\" anpassen"
   ]
  },
  {
   "cell_type": "code",
   "execution_count": null,
   "metadata": {
    "collapsed": true
   },
   "outputs": [],
   "source": [
    "gdf_gemeinden_m['point_geometry'] = gdf_gemeinden_m.apply(lambda row: Point(row.X_CNTR, row.Y_CNTR), axis=1)"
   ]
  },
  {
   "cell_type": "code",
   "execution_count": null,
   "metadata": {
    "collapsed": true
   },
   "outputs": [],
   "source": [
    "gdf_gemeinden_m = gdf_gemeinden_m.set_geometry('point_geometry')"
   ]
  },
  {
   "cell_type": "markdown",
   "metadata": {},
   "source": [
    "Ein paar Vorbereitungen für den Plot"
   ]
  },
  {
   "cell_type": "code",
   "execution_count": null,
   "metadata": {
    "collapsed": true
   },
   "outputs": [],
   "source": [
    "title_font = {\n",
    "    'family': 'sans-serif',\n",
    "    'color':  'black',\n",
    "    'weight': 'bold',\n",
    "    'size': 20\n",
    "}"
   ]
  },
  {
   "cell_type": "code",
   "execution_count": null,
   "metadata": {
    "collapsed": true
   },
   "outputs": [],
   "source": [
    "gdf_gemeinden_m['markersize'] = (gdf_gemeinden_m['Einwohner'] ** 0.5) / 1.5\n",
    "gdf_gemeinden_m['markersize_17'] = (gdf_gemeinden_m['2017'] ** 0.5) / 1.5"
   ]
  },
  {
   "cell_type": "markdown",
   "metadata": {},
   "source": [
    "### Plot"
   ]
  },
  {
   "cell_type": "markdown",
   "metadata": {},
   "source": [
    "**Variante 1:** Herkunft fürs Jahr 2017 nach Gemeinde"
   ]
  },
  {
   "cell_type": "code",
   "execution_count": null,
   "metadata": {},
   "outputs": [],
   "source": [
    "# Code für die Landesgrenzen und die Seen\n",
    "ax = gdf_ch.plot(edgecolor='grey', color='#EEEEEE', alpha=1, linewidth=2, figsize=(20,13))\n",
    "gdf_lakes.plot(edgecolor='grey', facecolor='lightblue', alpha=1, linewidth=1, ax=ax)\n",
    "\n",
    "# Für jede Gemeinde einen Punkt - Herkunft 2017\n",
    "gdf_gemeinden_m.plot(markersize=gdf_gemeinden_m['markersize_17'], color='darkblue', alpha=0.7, linewidth=0.5, legend=True, ax=ax)\n",
    "\n",
    "my_title = \"Geburtsorte der Zürcher Bevölkerung\"\n",
    "plt.text(480000, 312000, my_title, fontdict=title_font)\n",
    "\n",
    "ax.axis('off')"
   ]
  },
  {
   "cell_type": "markdown",
   "metadata": {},
   "source": [
    "**Variante 2:** Wir zeichnen auch noch die Grösse der Gemeinde auf"
   ]
  },
  {
   "cell_type": "code",
   "execution_count": null,
   "metadata": {},
   "outputs": [],
   "source": [
    "# Code für die Landesgrenzen und die Seen\n",
    "ax = gdf_ch.plot(edgecolor='grey', color='#EEEEEE', alpha=1, linewidth=2, figsize=(20,13))\n",
    "gdf_lakes.plot(edgecolor='grey', facecolor='lightblue', alpha=1, linewidth=1, ax=ax)\n",
    "\n",
    "# Für jede Gemeinde einen Kreis - Einwohnerzahl\n",
    "gdf_gemeinden_m.plot(markersize=gdf_gemeinden_m['markersize'], edgecolor='grey', color='#EEEEEE', alpha=0.7, linewidth=0.5, legend=True, ax=ax)\n",
    "# Für jede Gemeinde einen Punkt - Herkunft 2017\n",
    "gdf_gemeinden_m.plot(markersize=gdf_gemeinden_m['markersize_17'], color='darkblue', alpha=0.7, linewidth=0.5, legend=True, ax=ax)\n",
    "\n",
    "my_title = \"Geburtsorte der Zürcher Bevölkerung\"\n",
    "plt.text(480000, 312000, my_title, fontdict=title_font)\n",
    "\n",
    "ax.axis('off')"
   ]
  },
  {
   "cell_type": "markdown",
   "metadata": {},
   "source": [
    " **Variante 3:** Farbliche Codierung der Zuwanderung 2016-2017 "
   ]
  },
  {
   "cell_type": "code",
   "execution_count": null,
   "metadata": {},
   "outputs": [],
   "source": [
    "# Code für die Landesgrenzen und die Seen\n",
    "ax = gdf_ch.plot(edgecolor='grey', color='#EEEEEE', alpha=1, linewidth=2, figsize=(20,13))\n",
    "gdf_lakes.plot(edgecolor='grey', facecolor='lightblue', alpha=1, linewidth=1, ax=ax)\n",
    "\n",
    "# Für jede Gemeinde einen Punkt - Herkunft 2017 - Farbe gemäss Spalte \"Zunahme\"\n",
    "gdf_gemeinden_m.plot(markersize=gdf_gemeinden_m['markersize_17'], column='Zunahme', scheme='quantiles', k=15, cmap='RdYlGn', alpha=0.7, linewidth=0.5, legend=True, ax=ax)\n",
    "\n",
    "my_title = \"Geburtsorte der Zürcher Bevölkerung\"\n",
    "plt.text(480000, 312000, my_title, fontdict=title_font)\n",
    "\n",
    "ax.axis('off')"
   ]
  },
  {
   "cell_type": "code",
   "execution_count": null,
   "metadata": {
    "collapsed": true
   },
   "outputs": [],
   "source": []
  },
  {
   "cell_type": "code",
   "execution_count": null,
   "metadata": {
    "collapsed": true
   },
   "outputs": [],
   "source": []
  },
  {
   "cell_type": "code",
   "execution_count": null,
   "metadata": {
    "collapsed": true
   },
   "outputs": [],
   "source": []
  }
 ],
 "metadata": {
  "kernelspec": {
   "display_name": "Python 3",
   "language": "python",
   "name": "python3"
  },
  "language_info": {
   "codemirror_mode": {
    "name": "ipython",
    "version": 3
   },
   "file_extension": ".py",
   "mimetype": "text/x-python",
   "name": "python",
   "nbconvert_exporter": "python",
   "pygments_lexer": "ipython3",
   "version": "3.7.3"
  }
 },
 "nbformat": 4,
 "nbformat_minor": 2
}
