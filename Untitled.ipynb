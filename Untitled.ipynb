{
 "cells": [
  {
   "cell_type": "markdown",
   "metadata": {},
   "source": [
    "## Abschlussarbeit Themen/These\n",
    "# «Wo gibt es im Kanton Zug am meisten Briefkastenfirmen»\n",
    "These: \n",
    "Zug ist für seine Briefkastenfirmen bekannt. Nur ist nicht klar – und von Amtsstellen auch nicht zu erfahren – wo diese stecken und in etwa wie viele es sind. Es ist davon auszugehen, dass es solche Ansammlungen gibt. Ort und Ausmass sind unbekannt. \n",
    "Geschichte:\n",
    "Wo gibt es im Kanton Zug auffällige Ansammlungen von registrierten c/o-Firmen? Wo sind mögliche Hotspots von nicht mit c/o-Adressen deklarierten Briefkastenfirmen? Die Datenanalyse wird durch eine klassische Recherche vor Ort ergänzt und soll zusätzlich Licht ins Dunkle bringen.  \n",
    "Ausbaumöglichkeiten – Folgegeschichte:  \n",
    "Durch eine eventuelle Abfrage des ersten Eintrages sowie der Löschung des Unternehmens könnte man auch noch die Entwicklung der Briefkastenfirmen über die Jahre hinweg eruieren. Gibt es wirklich weniger solche Konstrukte, wie in Zug nach dem Auffliegen der Panama-Papers von offizieller Stelle her gesagt wurde.\n",
    "Quellen: \n",
    "Handelsregister (HR) des Kantons Zug: https://zg.chregister.ch/cr-portal/suche/suche.xhtml\n",
    "Verzeichnis aller Adressen BUND:   https://data.geo.admin.ch/ch.bfs.gebaeude_wohnungs_register/CSV/meta.txt\n",
    "evtl. Ergänzung durch Telefonbuch oder wenn auffindbar Register der Anzahl Wohn- und Gewerberäume pro Gebäude. Hier könnte die Gebäudeversicherung Zahlen haben – sie war jedoch noch nicht erreichbar. \n",
    "Möglicher Knackpunkt:\n",
    "-\tAbfrageschranke auf dem Onlineportal (HR sagt nein, könnte trotzdem sein) \n",
    "-\tFalls die Ansammlungen nicht gross sind pro Adresse wird’s schwierig zu erkennen, wo Briefkastenfirmen sein könnten – Entsprechend schwierig würde die Umsetzung der Idee der Verifizierung vor Ort.  \n",
    "Ausschnitt aus Gespräch mit einer Breafingperson (Andreas Hess, Amtsleiter Handelsregister- und Konkursamt Zug)\n",
    "Es gibt Adressen, wo man annimmt, dass es Briefkastenfirmen gibt. Jene die ihre Domiziladresse korrekt mit c/o angeben, sind weniger das Problem. Die machen alles Korrekt. Problematischer ist es, wenn sie sich nicht als solche Outen und vorgeben, ein Büro mit Mitarbeitern vor Ort zu haben. \n",
    "Diese befinden sich wohl am ehesten in der Stadt Zug. Vielleicht noch Stadtgrenze zu Baar. Denn in Berggemeinden gibt es relativ wenig, weil es dort wohl an der Anonymität fehlt. Dort würde uns sicher zugetragen werden, wenn es in einem Gebäude angeblich viel mehr Firmen gibt, als real möglich ist.\n",
    "Ob eine Firma eine Briefkastenfirma ist oder wirklich Mitarbeiter hat, ist von Seiten Handelsregister schwierig zu beurteilen. Wir sehen es den Gesellschaften nicht an. Wir haben nur entsprechende Papiere auf dem Tisch und nur auf Grund dieser Papiere haben wir keine Ahnung, ob dort was dahinter steckt oder nicht. \n",
    "Relevanz:\n",
    "Erste Telefonate mit dem Handelsregister, der Zuger Kantonalbank sowie dem Amt für Wirtschaft zeigen, dass das Thema Briefkastenfirmen im Kanton Zug quasi ein Tabu-Thema ist. Man will nicht hinschauen und genauer eruieren, welche Firmen nur vorgeben, Büroräume hier zu haben und welche wirklich solche hier betreiben. Entsprechend gross ist die Relevanz in Bezug auf den Newsgehalt – mit dem Potential, auch politisch Wellen zu werfen. \n"
   ]
  },
  {
   "cell_type": "code",
   "execution_count": null,
   "metadata": {},
   "outputs": [],
   "source": []
  }
 ],
 "metadata": {
  "kernelspec": {
   "display_name": "Python 3",
   "language": "python",
   "name": "python3"
  },
  "language_info": {
   "codemirror_mode": {
    "name": "ipython",
    "version": 3
   },
   "file_extension": ".py",
   "mimetype": "text/x-python",
   "name": "python",
   "nbconvert_exporter": "python",
   "pygments_lexer": "ipython3",
   "version": "3.7.3"
  }
 },
 "nbformat": 4,
 "nbformat_minor": 2
}
