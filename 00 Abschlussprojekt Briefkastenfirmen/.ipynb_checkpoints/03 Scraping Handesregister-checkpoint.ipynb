{
 "cells": [
  {
   "cell_type": "markdown",
   "metadata": {},
   "source": [
    "## Zuger Handelsregister"
   ]
  },
  {
   "cell_type": "markdown",
   "metadata": {},
   "source": [
    "## Imports"
   ]
  },
  {
   "cell_type": "code",
   "execution_count": 1,
   "metadata": {},
   "outputs": [],
   "source": [
    "import selenium\n",
    "from selenium import webdriver\n",
    "from selenium.webdriver.common.keys import Keys\n",
    "from selenium.webdriver.common.by import By\n",
    "from selenium.webdriver.support.ui import Select\n",
    "import time\n",
    "import pandas as pd\n",
    "from bs4 import BeautifulSoup"
   ]
  },
  {
   "cell_type": "markdown",
   "metadata": {},
   "source": [
    "## Seiten besuchen und HTML-Code ablegen"
   ]
  },
  {
   "cell_type": "markdown",
   "metadata": {},
   "source": [
    "## Alles zusammen"
   ]
  },
  {
   "cell_type": "code",
   "execution_count": 35,
   "metadata": {},
   "outputs": [],
   "source": [
    "#Wir starten den Browser auf\n",
    "driver = webdriver.Chrome(executable_path='C:\\chromedriver.exe') #bei Windows ist das anders\n",
    "#Und nun sagen wir dem Browser, welche Seite er besuchen sollte. \n",
    "driver.get('https://zg.chregister.ch/cr-portal/suche/suche.xhtml')\n",
    "time.sleep(3)\n",
    "#Hier drücke ich den Cookie-Banner weg\n",
    "driver.find_element_by_id(\"j_idt198\").click() #ACHTUNG: Möglicherweise wechselt hier immer mal wieder die ID-NR\n",
    "#Ich öffne das zusätzliche Panel, ohne dass man dies auf der Seite sieht\n",
    "su_fel_ad = driver.find_element_by_id('idSucheForm:panel:idDiverseTyp_label')\n",
    "driver.execute_script('arguments[0].click();', su_fel_ad)\n",
    "time.sleep(2)\n",
    "# Den Filter ansteuern, wo ich Domiziladresse auwählen kann\n",
    "filt = driver.find_element_by_id(\"idSucheForm:panel:idDiverseTyp_filter\")\n",
    "filt.send_keys('Domiziladresse')\n",
    "filt.send_keys(Keys.ENTER)\n",
    "time.sleep(2)\n",
    "# Hier klappe ich die Zusätzlichen Suchfelder auf\n",
    "driver.find_element_by_class_name('ui-icon.ui-icon-triangle-1-e').click()\n",
    "time.sleep(2)\n",
    "# Nun gege ich die Adresse ein\n",
    "search_adress=driver.find_element_by_id(\"idSucheForm:panel:idDiverseSuchtext\")\n",
    "search_adress.send_keys(\"Baarerstrasse 11, Zug\")\n",
    "search_adress.send_keys(Keys.ENTER)"
   ]
  },
  {
   "cell_type": "code",
   "execution_count": 23,
   "metadata": {},
   "outputs": [],
   "source": [
    "search_adress=driver.find_element_by_id(\"idSucheForm:panel:idDiverseSuchtext\")\n",
    "search_adress.send_keys(\"Baarerstrasse 11, Zug\")\n",
    "search_adress.send_keys(Keys.ENTER)"
   ]
  },
  {
   "cell_type": "code",
   "execution_count": 7,
   "metadata": {},
   "outputs": [],
   "source": [
    "# Hier speichere ich die Page\n",
    "page = driver.page_source.encode(\"utf-8\")\n",
    "with open (\"page.htm\", \"wb+\") as file:\n",
    "    file.write(page)\n",
    "    file.close()"
   ]
  },
  {
   "cell_type": "code",
   "execution_count": 21,
   "metadata": {},
   "outputs": [],
   "source": [
    "# Yes! Hier kann ich den \"Weiter-Button\" anwählen\n",
    "driver.find_element_by_class_name(\"ui-paginator-next.ui-state-default.ui-corner-all\").click()"
   ]
  },
  {
   "cell_type": "code",
   "execution_count": 22,
   "metadata": {},
   "outputs": [],
   "source": [
    "#Ich muss den alten Eintrag löschen, bevor ich den Neuen machen kann.\n",
    "search_adress=driver.find_element_by_id(\"idSucheForm:panel:idDiverseSuchtext\")\n",
    "search_adress.clear()"
   ]
  },
  {
   "cell_type": "code",
   "execution_count": 16,
   "metadata": {},
   "outputs": [],
   "source": [
    "search_adress=driver.find_element_by_id(\"idSucheForm:panel:idDiverseSuchtext\")\n",
    "search_adress.send_keys(\"Baarerstrasse 79, Zug\")\n",
    "search_adress.send_keys(Keys.ENTER)"
   ]
  },
  {
   "cell_type": "code",
   "execution_count": 25,
   "metadata": {},
   "outputs": [],
   "source": [
    "#Am Ende muss ich wieder zurück zum Anfang. Sonst bleibt er auf der letzten Seite.\n",
    "#Hier tippe ich den Pfeil zurück\n",
    "driver.find_element_by_class_name(\"ui-paginator-first.ui-state-default.ui-corner-all\").click()"
   ]
  },
  {
   "cell_type": "code",
   "execution_count": null,
   "metadata": {},
   "outputs": [],
   "source": []
  },
  {
   "cell_type": "code",
   "execution_count": null,
   "metadata": {},
   "outputs": [],
   "source": []
  },
  {
   "cell_type": "code",
   "execution_count": null,
   "metadata": {},
   "outputs": [],
   "source": []
  }
 ],
 "metadata": {
  "kernelspec": {
   "display_name": "Python 3",
   "language": "python",
   "name": "python3"
  },
  "language_info": {
   "codemirror_mode": {
    "name": "ipython",
    "version": 3
   },
   "file_extension": ".py",
   "mimetype": "text/x-python",
   "name": "python",
   "nbconvert_exporter": "python",
   "pygments_lexer": "ipython3",
   "version": "3.7.3"
  }
 },
 "nbformat": 4,
 "nbformat_minor": 2
}
