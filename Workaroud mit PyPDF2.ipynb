{
 "cells": [
  {
   "cell_type": "code",
   "execution_count": 8,
   "metadata": {},
   "outputs": [],
   "source": [
    "#Anleitung hier https://stackabuse.com/python-for-nlp-working-with-text-and-pdf-files/\n",
    "#im Anaconda Prompt eingeben: pip install PyPDF2\n",
    "import PyPDF2\n",
    "mypdf = open(\"pdfs/pdoc_93_1.pdf\", mode='rb')\n",
    "pdf_document = PyPDF2.PdfFileReader(mypdf)"
   ]
  },
  {
   "cell_type": "code",
   "execution_count": 9,
   "metadata": {},
   "outputs": [
    {
     "data": {
      "text/plain": [
       "<PyPDF2.pdf.PdfFileReader at 0x187326ed860>"
      ]
     },
     "execution_count": 9,
     "metadata": {},
     "output_type": "execute_result"
    }
   ],
   "source": [
    "pdf_document "
   ]
  },
  {
   "cell_type": "code",
   "execution_count": 10,
   "metadata": {},
   "outputs": [
    {
     "data": {
      "text/plain": [
       "10"
      ]
     },
     "execution_count": 10,
     "metadata": {},
     "output_type": "execute_result"
    }
   ],
   "source": [
    "pdf_document.numPages"
   ]
  },
  {
   "cell_type": "code",
   "execution_count": 11,
   "metadata": {},
   "outputs": [
    {
     "name": "stdout",
     "output_type": "stream",
     "text": [
      "KANTON ZUGVORLAGE NR. 988.2\n",
      "(Laufnummer 11252)\n",
      "MOTION VON PETER RUST\n",
      "BETREFFEND WIRKUNGSVOLLEM PROJEKTMANAGEMENT BEI\n",
      "INFORMATIKAUSGABEN DES KANTONS\n",
      "(VORLAGE NR. 988.1 - 10790)\n",
      "BERICHT UND ANTRAG DES REGIERUNGSRATES\n",
      "VOM 26. AUGUST 2003\n",
      "Sehr geehrter Herr Präsident\n",
      "Sehr geehrte Damen und Herren\n",
      "Am 31. Januar 2002 haben Kantonsrat Peter Rust, Walchwil, sowie dreissig Mitunter-\n",
      "zeichnerinnen und Mitunterzeichner folgende Motion eingereicht:\n",
      "—Es sei dem Kantonsrat eine Vorlage zu unterbreiten, wonach auf Gesetzesstufe ein\n",
      "\n",
      "wirkungsvolles Projektmanagement vorgesehen wird, um die sehr hohen Informatik-\n",
      "\n",
      "kosten des Kantons in den Griff zu bekommen. Im Vordergrund steht ein unab-\n",
      "\n",
      "hängiges, fachlich kompetentes Organ, das die Informatikstrategie und die einzelnen\n",
      "\n",
      "Investitionsbegehren zuhanden des Regierungsrates konsequent prüft und in der\n",
      "\n",
      "Umsetzungsphase ein wirkungsvolles Controlling durchführt.ﬁ\n",
      "Hintergrund der Motion war die Besorgnis über die hohen Informatikkosten, welche\n",
      "\n",
      "bereits in einem früheren parlamentarischen Vorstoss (Vorlage Nr. 734.1 - 10053)\n",
      "\n",
      "beanstandet wurden. Die bisherigen Berichte des Regierungsrates haben den Motio-\n",
      "\n",
      "när nicht befriedigt (vgl. Vorlage Nrn. 734.2/.3 - 10324/10756). Die Strukturen und\n",
      "\n",
      "Zuständigkeiten zur Kosteneindämmung bei der Informatik seien ungenügend. Die\n",
      "\n",
      "jetzt bestehende Informatikkonferenz scheine sinnlos und es würden im Wesentli-\n",
      "\n",
      "chen lediglich die Wünsche der einzelnen Direktionen zusammengetragen. Ausser-\n",
      "\n",
      "dem sei ein EDV-Controlling bei der Umse\n",
      "tzung nicht vorhanden. Eine unabhängige\n",
      "Instanz, die vorerst die Informatikstrategie und dann die darauf basierenden einzel-\n",
      "\n",
      "nen Begehren mit der nötigen Sachkunde und Härte auf Kosten-Nutzen prüft und\n",
      "\n",
      "dem Regierungsrat nötigenfalls Ablehnungsanträge unterbereitet, fehle. \n",
      "\n"
     ]
    }
   ],
   "source": [
    "first_page = pdf_document.getPage(0)\n",
    "print(first_page.extractText())"
   ]
  },
  {
   "cell_type": "code",
   "execution_count": null,
   "metadata": {},
   "outputs": [],
   "source": []
  }
 ],
 "metadata": {
  "kernelspec": {
   "display_name": "Python 3",
   "language": "python",
   "name": "python3"
  },
  "language_info": {
   "codemirror_mode": {
    "name": "ipython",
    "version": 3
   },
   "file_extension": ".py",
   "mimetype": "text/x-python",
   "name": "python",
   "nbconvert_exporter": "python",
   "pygments_lexer": "ipython3",
   "version": "3.7.3"
  }
 },
 "nbformat": 4,
 "nbformat_minor": 2
}
