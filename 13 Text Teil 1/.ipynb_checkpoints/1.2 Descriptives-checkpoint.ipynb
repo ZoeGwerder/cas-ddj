{
 "cells": [
  {
   "cell_type": "markdown",
   "metadata": {},
   "source": [
    "# Agenda\n",
    "- Vokabular\n",
    "- Reichhaltigkeit\n",
    "- Filtern nach Länge\n",
    "- Frequency distribution\n",
    "- Bigrams \n",
    "- Concordance\n",
    "- Ähnlichkeit\n",
    "- Dispersionsplot\n",
    "- Wordcloud 2.0"
   ]
  },
  {
   "cell_type": "code",
   "execution_count": 1,
   "metadata": {},
   "outputs": [],
   "source": [
    "import nltk"
   ]
  },
  {
   "cell_type": "code",
   "execution_count": 2,
   "metadata": {},
   "outputs": [
    {
     "name": "stdout",
     "output_type": "stream",
     "text": [
      "*** Introductory Examples for the NLTK Book ***\n",
      "Loading text1, ..., text9 and sent1, ..., sent9\n",
      "Type the name of the text or sentence to view it.\n",
      "Type: 'texts()' or 'sents()' to list the materials.\n",
      "text1: Moby Dick by Herman Melville 1851\n",
      "text2: Sense and Sensibility by Jane Austen 1811\n",
      "text3: The Book of Genesis\n",
      "text4: Inaugural Address Corpus\n",
      "text5: Chat Corpus\n",
      "text6: Monty Python and the Holy Grail\n",
      "text7: Wall Street Journal\n",
      "text8: Personals Corpus\n",
      "text9: The Man Who Was Thursday by G . K . Chesterton 1908\n"
     ]
    }
   ],
   "source": [
    "from nltk.book import *"
   ]
  },
  {
   "cell_type": "markdown",
   "metadata": {},
   "source": [
    "# Vokabular\n",
    "- Wie groß ist das Vokabular von Moby Dick?"
   ]
  },
  {
   "cell_type": "code",
   "execution_count": 3,
   "metadata": {},
   "outputs": [
    {
     "data": {
      "text/plain": [
       "3"
      ]
     },
     "execution_count": 3,
     "metadata": {},
     "output_type": "execute_result"
    }
   ],
   "source": [
    "a = [1,3,3,5]\n",
    "len(set(a)) #set von a heisst: zeigt wieviele unterschiedliche Elemente hat es drin."
   ]
  },
  {
   "cell_type": "code",
   "execution_count": 4,
   "metadata": {},
   "outputs": [
    {
     "data": {
      "text/plain": [
       "4"
      ]
     },
     "execution_count": 4,
     "metadata": {},
     "output_type": "execute_result"
    }
   ],
   "source": [
    "b = [\"zoe\", \"war\", \"hier\", \"weil\", \"hier\", \"zoe\", \"war\"]\n",
    "len(set(b))"
   ]
  },
  {
   "cell_type": "code",
   "execution_count": 5,
   "metadata": {},
   "outputs": [
    {
     "data": {
      "text/plain": [
       "19317"
      ]
     },
     "execution_count": 5,
     "metadata": {},
     "output_type": "execute_result"
    }
   ],
   "source": [
    "len(set(text1)) # Hier zeigt er also, wieviele unterschiedliche Wörter es in diesem Text 1 hat."
   ]
  },
  {
   "cell_type": "markdown",
   "metadata": {},
   "source": [
    "- Das von Sense and Sensibility von Jane Austen?"
   ]
  },
  {
   "cell_type": "code",
   "execution_count": 6,
   "metadata": {},
   "outputs": [
    {
     "data": {
      "text/plain": [
       "6833"
      ]
     },
     "execution_count": 6,
     "metadata": {},
     "output_type": "execute_result"
    }
   ],
   "source": [
    "len(set(text2))"
   ]
  },
  {
   "cell_type": "code",
   "execution_count": 7,
   "metadata": {},
   "outputs": [],
   "source": [
    "text20= \"\"\"\n",
    "\n",
    "\n",
    "\n",
    "\n",
    "\n",
    "Zum Thema\n",
    "\n",
    "Psychotherapeut: «Auch harmlose Ängste können Problem werden»\n",
    "Ein- und ausstempeln: «Mit der Zeiterfassung habe ich nun mehr Ferien»\n",
    "Fehler gesehen?\n",
    "Fehler beheben!\n",
    "Die Klimaaktivisten haben sich ein hohes Ziel gesetzt. Ihrer Charta zufolge soll die Schweiz bis 2030 unter anderem die Co2-Emissionen auf netto null reduzieren. Unermüdlich kämpfen die Schweizer Klimaaktivisten seit Monaten auf der Strasse, auf Social Media und an Veranstaltungen für eine grünere Erde. Doch das Engagement zehrt an ihren Kräften.\n",
    "\n",
    "Umfrage\n",
    "Sind Sie gestresst?\n",
    " Ja, ich hätte mehr Pausen nötig.\n",
    " Nein, ich habe eine gute Work-Life-Balance.\n",
    " Weiss nicht.\n",
    " Manchmal bin ich gestresst.\n",
    "Während einige Aktivisten ihre ganze Freizeit opfern, haben sich andere den Aktivismus zum Vollzeitjob gemacht: Etwa Dominik Waser brach sein Studium ab, um mit seinem Verein Grassrooted Gemüse vor dem Abfall zu retten. Das grosse Engagement alarmierte auch schon Eltern. «Wir besprechen mit unserem Sohn, dass es Leute gibt, die durch solche Aktivitäten Burnoutsymptome zeigten», sagte die Mutter von Aktivist Jonas Kampus im SRF-Dok «Klimastreik – Wenn die Jungen aufbegehren».\n",
    "\n",
    "«Auch deine Batterien sind mal leer»\n",
    "\n",
    "«Cool, wie du versuchst, den physikalischen Gesetzen zu trotzen. Doch Schlaf ist gesund und heilsam für Körper und Geist. Also nimm auch du dir mal wieder eine Auszeit und schlafe mit gutem Gewissen so richtig aus», schrieb die Facebook-Gruppe Klimastreik Schweiz kürzlich mit dem Hinweis: «Das ist ein Beitrag der Arbeitsgruppe Wohlfühlklima an unsere lieben Klimaaktivist*innen.»\n",
    "\n",
    "Dazu postete die Gruppe ein Foto, auf dem eine junge Frau zu sehen ist, die erschöpft über ihrer Agenda vor dem Laptop ausruht. «Auch deine Batterien sind mal leer. Vergiss nicht ab und zu mal nachzutanken», heisst es dazu.\n",
    "\n",
    "Yoga und Spiele gegen Stress\n",
    "\n",
    "Die erste kantonale «Arbeitsgruppe Wohlfühlklima» wurde im Frühling gegründet. Laut Lena Bühler, Mitglied der Medien-Arbeitsgruppe vom Klimastreik Schweiz, sind an jeder Sitzung jeweils Vertreter der AG vor Ort. «Sie beobachten die Stimmung und empfehlen Leuten, die gestresst wirken, eine Pause», sagt die 16-jährige Gymischülerin. In einem Nebenraum könnten die Klimaaktivisten Yoga und Spiele machen oder einfach jemandem ihr Herz ausschütten. Daneben organisiere die AG Events, wo die Aktivisten ohne Computer zusammenfinden und nicht an die Arbeit denken.\n",
    "\n",
    "«Auf uns allen lastet ein grosser Druck, weil wir sehen, dass die Politiker ihre Verantwortung nicht wahrnehmen und das Klima nicht zum Thema Nummer eins machen. Das führt dazu, dass sich einige von uns übernehmen», so Bühler. Manche investierten die ganze Freizeit in den Klimastreik.\n",
    "\n",
    "«Angespannte Stimmung in Sitzungen»\n",
    "\n",
    "Einige Aktivisten organisieren laut Bühler neben der Schule oder dem Studium Events und schreiben bis spät in die Nacht Konzepte und E-Mails. «Die Stimmung an den Sitzungen ist manchmal angespannter, weil man merkt, dass die Leute zu wenig Schlaf haben und sie eigentlich zu erschöpft sind, um weiterzuarbeiten.» An einem Burnout sei aber noch niemand erkrankt.\n",
    "\n",
    "Die AG Wohlfühlklima zeigt offenbar bereits Wirkung . Einige Klimaaktivisten zeigen sich dankbar für das Angebot. «In meinen Augen hat sich intern bereits einiges verbessert, seit es die AG Wohlfühlklima gibt. Dank euch schaffen wir es besser, den Druck an Meetings auszuhalten», schreibt Jan Schuller auf Facebook. Dank der AG lernten sie sich besser kennen und komme wieder in den Fokus, worauf es wirklich ankomme. Auch Mireille Stauffer schreibt: «Dass es euch gibt, macht schon, dass ich mich ein Stück wohler fühle.»\n",
    "\n",
    "Eigenverantwortung zähle\n",
    "\n",
    "Auch bei Arbeitspsychologen kommt die Burnoutprävention gut an. «Besteht die Gefahr von akuter Müdigkeit oder Erschöpfung, können Angebote zum ‹Kopflüften› hilfreich sein», sagt Martial Berset, Arbeits- und Organisationspsychologe vom Büro A&O. Gerade wenn viele Leute für eine Sache brennen besteht laut Berset die Gefahr, sich gegenseitig anzustacheln und ans Limit zu kommen. «Es kann sein, dass man sich keine Ruhepausen mehr gönnt, weil man etwas besonders wichtig findet.»\n",
    "\n",
    "Wohlfühl-Oasen seien aber keine Garantie gegen Burnouts, so Berset. Ob Arbeit oder Hobby, was zähle sei die Eigenverantwortung. «Über längere Zeit am Limit zu laufen, dann ungenügend Pause machen und wieder am Limit laufen, ist nicht die Lösung.» Wer produktiv bleiben wolle, brauche eine konstante Work-Life-Balance. «Am besten teilt man sich die\"\"\""
   ]
  },
  {
   "cell_type": "code",
   "execution_count": 16,
   "metadata": {},
   "outputs": [
    {
     "name": "stderr",
     "output_type": "stream",
     "text": [
      "[nltk_data] Downloading package punkt to\n",
      "[nltk_data]     C:\\Users\\Zoe\\AppData\\Roaming\\nltk_data...\n",
      "[nltk_data]   Unzipping tokenizers\\punkt.zip.\n"
     ]
    },
    {
     "data": {
      "text/plain": [
       "578"
      ]
     },
     "execution_count": 16,
     "metadata": {},
     "output_type": "execute_result"
    }
   ],
   "source": [
    "from nltk.corpus import udhr\n",
    "nltk.download(\"punkt\")\n",
    "sample = (\" \").join(udhr.words(\"German_Deutsch-Latin1\"))\n",
    "tokens = nltk.word_tokenize(sample)\n",
    "menschenrechtserklaerungs_text = nltk.Text(tokens)\n",
    "len(set(menschenrechtserklaerungs_text))"
   ]
  },
  {
   "cell_type": "markdown",
   "metadata": {},
   "source": [
    "# Reichhaltigkeit\n",
    "- Welcher text ist am reichhaltigesten d.h. das größte Vokabular pro Wort?\n",
    "- Maximaler Quotient ist 1: 100 verschiedene wörter / 100 wörter insgesammt = 1"
   ]
  },
  {
   "cell_type": "code",
   "execution_count": 13,
   "metadata": {},
   "outputs": [
    {
     "data": {
      "text/plain": [
       "0.07406285585022564"
      ]
     },
     "execution_count": 13,
     "metadata": {},
     "output_type": "execute_result"
    }
   ],
   "source": [
    "# Moby Dick\n",
    "len(set(text1)) / float(len(text1)) "
   ]
  },
  {
   "cell_type": "code",
   "execution_count": 14,
   "metadata": {},
   "outputs": [
    {
     "data": {
      "text/plain": [
       "0.04826383002768831"
      ]
     },
     "execution_count": 14,
     "metadata": {},
     "output_type": "execute_result"
    }
   ],
   "source": [
    "# Jane Austen\n",
    "len(set(text2)) / float(len(text2))"
   ]
  },
  {
   "cell_type": "code",
   "execution_count": 17,
   "metadata": {},
   "outputs": [
    {
     "data": {
      "text/plain": [
       "0.3797634691195795"
      ]
     },
     "execution_count": 17,
     "metadata": {},
     "output_type": "execute_result"
    }
   ],
   "source": [
    "# Menschenrechtserklärung\n",
    "len(set(menschenrechtserklaerungs_text)) / float(len(menschenrechtserklaerungs_text))"
   ]
  },
  {
   "cell_type": "code",
   "execution_count": 18,
   "metadata": {},
   "outputs": [],
   "source": [
    "# die Zahl sagt wohl etwas über die Komplexität der Texte auf. Jane Austen ist einfach, Moby Dick wohl schwieriger\n",
    "# und am komplexestens ist hier wohl die Menschenrechtserklärung."
   ]
  },
  {
   "cell_type": "markdown",
   "metadata": {},
   "source": [
    "Anscheinend ist die Menschenrechtserklärung am reichhaltigsten oder am kompliziertesten? (Es ist kein fairer Vergleich :) "
   ]
  },
  {
   "cell_type": "code",
   "execution_count": 28,
   "metadata": {},
   "outputs": [
    {
     "name": "stderr",
     "output_type": "stream",
     "text": [
      "[nltk_data] Downloading package inaugural to\n",
      "[nltk_data]     C:\\Users\\Zoe\\AppData\\Roaming\\nltk_data...\n",
      "[nltk_data]   Package inaugural is already up-to-date!\n"
     ]
    }
   ],
   "source": [
    "nltk.download('inaugural')\n",
    "from nltk.corpus import inaugural"
   ]
  },
  {
   "cell_type": "code",
   "execution_count": 34,
   "metadata": {},
   "outputs": [],
   "source": [
    "trump = inaugural.words(\"2017-Trump.txt\")\n"
   ]
  },
  {
   "cell_type": "markdown",
   "metadata": {},
   "source": [
    "# Filtern \n",
    "- nach Wörtern bestimmter länge"
   ]
  },
  {
   "cell_type": "code",
   "execution_count": 23,
   "metadata": {},
   "outputs": [
    {
     "data": {
      "text/plain": [
       "['cannibalistically',\n",
       " 'characteristically',\n",
       " 'circumnavigations',\n",
       " 'comprehensiveness',\n",
       " 'indispensableness',\n",
       " 'preternaturalness',\n",
       " 'subterraneousness',\n",
       " 'superstitiousness',\n",
       " 'uncomfortableness',\n",
       " 'uncompromisedness',\n",
       " 'uninterpenetratingly']"
      ]
     },
     "execution_count": 23,
     "metadata": {},
     "output_type": "execute_result"
    }
   ],
   "source": [
    "# Moby Dick\n",
    "V = set(text1) #Mobi Dick in Variable\n",
    "long_words = [w for w in V if len(w) > 16] #für jedes Wort der Wörter in V: wenn sie länger als 18 Wörter sind, lass es drin\n",
    "sorted(long_words)#Das Resultat kommt dann in die Liste Long Words"
   ]
  },
  {
   "cell_type": "code",
   "execution_count": 27,
   "metadata": {},
   "outputs": [
    {
     "data": {
      "text/plain": [
       "['Berufsschulunterricht']"
      ]
     },
     "execution_count": 27,
     "metadata": {},
     "output_type": "execute_result"
    }
   ],
   "source": [
    "# Menschenrechtserklärung\n",
    "V = set(menschenrechtserklaerungs_text)\n",
    "long_words = [w for w in V if len(w) > 20]\n",
    "sorted(long_words)"
   ]
  },
  {
   "cell_type": "code",
   "execution_count": 36,
   "metadata": {},
   "outputs": [
    {
     "data": {
      "text/plain": [
       "['\"',\n",
       " \"'\",\n",
       " ',',\n",
       " '-',\n",
       " '.',\n",
       " '.\"',\n",
       " '20',\n",
       " '2017',\n",
       " '4',\n",
       " ':',\n",
       " ';',\n",
       " 'A',\n",
       " 'And',\n",
       " 'At',\n",
       " 'Bush',\n",
       " 'But',\n",
       " 'Buy',\n",
       " 'DC',\n",
       " 'Do',\n",
       " 'For',\n",
       " 'From',\n",
       " 'God',\n",
       " 'How',\n",
       " 'I',\n",
       " 'In',\n",
       " 'It',\n",
       " 'Lady',\n",
       " 'No',\n",
       " 'Now',\n",
       " 'One',\n",
       " 'Our',\n",
       " 'So',\n",
       " 'That',\n",
       " 'The',\n",
       " 'They',\n",
       " 'This',\n",
       " 'We',\n",
       " 'What',\n",
       " 'When',\n",
       " 'You',\n",
       " 'Your',\n",
       " 'a',\n",
       " 'aid',\n",
       " 'all',\n",
       " 'an',\n",
       " 'and',\n",
       " 'are',\n",
       " 'as',\n",
       " 'at',\n",
       " 'back',\n",
       " 'be',\n",
       " 'been',\n",
       " 'big',\n",
       " 'body',\n",
       " 'born',\n",
       " 'but',\n",
       " 'by',\n",
       " 'came',\n",
       " 'can',\n",
       " 'cash',\n",
       " 'city',\n",
       " 'come',\n",
       " 'cost',\n",
       " 'day',\n",
       " 'did',\n",
       " 'do',\n",
       " 'done',\n",
       " 'down',\n",
       " 'each',\n",
       " 'even',\n",
       " 'ever',\n",
       " 'face',\n",
       " 'fail',\n",
       " 'far',\n",
       " 'fear',\n",
       " 'fill',\n",
       " 'flag',\n",
       " 'for',\n",
       " 'form',\n",
       " 'free',\n",
       " 'from',\n",
       " 'get',\n",
       " 'good',\n",
       " 'hall',\n",
       " 'has',\n",
       " 'have',\n",
       " 'heal',\n",
       " 'hear',\n",
       " 'here',\n",
       " 'hire',\n",
       " 'home',\n",
       " 'hour',\n",
       " 'in',\n",
       " 'into',\n",
       " 'is',\n",
       " 'it',\n",
       " 'its',\n",
       " 'job',\n",
       " 'jobs',\n",
       " 'just',\n",
       " 'land',\n",
       " 'law',\n",
       " 'lead',\n",
       " 'left',\n",
       " 'let',\n",
       " 'life',\n",
       " 'lift',\n",
       " 'like',\n",
       " 'live',\n",
       " 'long',\n",
       " 'look',\n",
       " 'love',\n",
       " 'made',\n",
       " 'make',\n",
       " 'many',\n",
       " 'men',\n",
       " 'most',\n",
       " 'much',\n",
       " 'must',\n",
       " 'my',\n",
       " 'near',\n",
       " 'new',\n",
       " 'no',\n",
       " 'not',\n",
       " 'now',\n",
       " 'oath',\n",
       " 'of',\n",
       " 'off',\n",
       " 'old',\n",
       " 'on',\n",
       " 'one',\n",
       " 'ones',\n",
       " 'only',\n",
       " 'open',\n",
       " 'or',\n",
       " 'our',\n",
       " 'out',\n",
       " 'over',\n",
       " 'own',\n",
       " 'pain',\n",
       " 'part',\n",
       " 'past',\n",
       " 'put',\n",
       " 'red',\n",
       " 'rich',\n",
       " 'room',\n",
       " 's',\n",
       " 'sad',\n",
       " 'safe',\n",
       " 'same',\n",
       " 'seek',\n",
       " 'seen',\n",
       " 'sky',\n",
       " 'so',\n",
       " 'stir',\n",
       " 'take',\n",
       " 'talk',\n",
       " 'tell',\n",
       " 'tens',\n",
       " 'that',\n",
       " 'the',\n",
       " 'then',\n",
       " 'they',\n",
       " 'this',\n",
       " 'time',\n",
       " 'to',\n",
       " 'too',\n",
       " 'two',\n",
       " 'up',\n",
       " 'us',\n",
       " 've',\n",
       " 'very',\n",
       " 'want',\n",
       " 'was',\n",
       " 'way',\n",
       " 'we',\n",
       " 'were',\n",
       " 'when',\n",
       " 'who',\n",
       " 'will',\n",
       " 'with',\n",
       " 'work',\n",
       " 'yes',\n",
       " 'you',\n",
       " 'your',\n",
       " '\\x80\\x94']"
      ]
     },
     "execution_count": 36,
     "metadata": {},
     "output_type": "execute_result"
    }
   ],
   "source": [
    "#Trump\n",
    "V= set(washington)\n",
    "short_words =[w for w in V if len(w)< 5]\n",
    "sorted(short_words)"
   ]
  },
  {
   "cell_type": "markdown",
   "metadata": {},
   "source": [
    "- nach Länge und Frequenz"
   ]
  },
  {
   "cell_type": "code",
   "execution_count": 33,
   "metadata": {},
   "outputs": [
    {
     "data": {
      "text/plain": [
       "FreqDist({',': 18713, 'the': 13721, '.': 6862, 'of': 6536, 'and': 6024, 'a': 4569, 'to': 4542, ';': 4072, 'in': 3916, 'that': 2982, ...})"
      ]
     },
     "execution_count": 33,
     "metadata": {},
     "output_type": "execute_result"
    }
   ],
   "source": [
    "fdist1 = FreqDist(text1)\n",
    "fdist1 #er zeigt mir von allen Dingen im Text an, wie oft es im Text vorkommt."
   ]
  },
  {
   "cell_type": "code",
   "execution_count": 35,
   "metadata": {},
   "outputs": [
    {
     "data": {
      "text/plain": [
       "FreqDist({',': 106, '.': 89, 'and': 70, 'the': 65, 'of': 48, 'our': 47, 'will': 43, 'to': 37, 'We': 26, 'we': 24, ...})"
      ]
     },
     "execution_count": 35,
     "metadata": {},
     "output_type": "execute_result"
    }
   ],
   "source": [
    "fdist2= FreqDist(trump)\n",
    "fdist2"
   ]
  },
  {
   "cell_type": "code",
   "execution_count": 18,
   "metadata": {
    "scrolled": true
   },
   "outputs": [
    {
     "data": {
      "text/plain": [
       "[u'Mediterranean',\n",
       " u'circumstances',\n",
       " u'consternation',\n",
       " u'indispensable',\n",
       " u'involuntarily',\n",
       " u'peculiarities',\n",
       " u'perpendicular',\n",
       " u'simultaneously',\n",
       " u'superstitious',\n",
       " u'unaccountable']"
      ]
     },
     "execution_count": 18,
     "metadata": {},
     "output_type": "execute_result"
    }
   ],
   "source": [
    "# Wörter die in Moby Dick mind. 12 buchstaben lang sind und mind. 8 mal vorkommen\n",
    "sorted(w for w in set(text1) if len(w) > 12 and fdist1[w] > 8)\n",
    "# So kann man auch jene rausfiltern, die eine gewisse Länge haben."
   ]
  },
  {
   "cell_type": "code",
   "execution_count": 40,
   "metadata": {},
   "outputs": [
    {
     "data": {
      "text/plain": [
       "['Washington',\n",
       " 'completely',\n",
       " 'confidence',\n",
       " 'constantly',\n",
       " 'reasonable',\n",
       " 'remembered',\n",
       " 'struggling',\n",
       " 'themselves',\n",
       " 'throughout',\n",
       " 'transition',\n",
       " 'understand',\n",
       " 'understanding']"
      ]
     },
     "execution_count": 40,
     "metadata": {},
     "output_type": "execute_result"
    }
   ],
   "source": [
    "freqlist = FreqDist(trump)\n",
    "sorted(w for w in set(trump) if len(w) > 9 and fdist1[w] > 3)"
   ]
  },
  {
   "cell_type": "markdown",
   "metadata": {},
   "source": [
    "# Verteilung\n",
    "- Welches Wort kommt in Moby Dick am häufigsten vor?\n",
    "- https://www.youtube.com/watch?v=rF-hq_CHNH0"
   ]
  },
  {
   "cell_type": "code",
   "execution_count": 60,
   "metadata": {},
   "outputs": [
    {
     "data": {
      "image/png": "[encoded data removed]",
      "text/plain": [
       "<IPython.core.display.Image object>"
      ]
     },
     "execution_count": 60,
     "metadata": {},
     "output_type": "execute_result"
    }
   ],
   "source": [
    "from IPython.display import Image\n",
    "Image(\"frequency.png\")"
   ]
  },
  {
   "cell_type": "code",
   "execution_count": 41,
   "metadata": {},
   "outputs": [
    {
     "data": {
      "text/plain": [
       "FreqDist({',': 18713, 'the': 13721, '.': 6862, 'of': 6536, 'and': 6024, 'a': 4569, 'to': 4542, ';': 4072, 'in': 3916, 'that': 2982, ...})"
      ]
     },
     "execution_count": 41,
     "metadata": {},
     "output_type": "execute_result"
    }
   ],
   "source": [
    "fdist = FreqDist(text1)\n",
    "fdist"
   ]
  },
  {
   "cell_type": "code",
   "execution_count": 42,
   "metadata": {},
   "outputs": [],
   "source": [
    "#fdist.plot(30, cumulative=True)"
   ]
  },
  {
   "cell_type": "markdown",
   "metadata": {},
   "source": [
    "- Jedes zusätzliche Wort kommt immer weniger oft vor (diminishing returns)"
   ]
  },
  {
   "cell_type": "markdown",
   "metadata": {},
   "source": [
    "- Welches Wort kommt in meinem Satz am häufigsten vor?"
   ]
  },
  {
   "cell_type": "code",
   "execution_count": 43,
   "metadata": {},
   "outputs": [],
   "source": [
    "sample = '''Ich war heute im wald spazieren und sah ein reh. Wobeich ich nicht sicher war ob es ein Reh war oder ein Geist.'''"
   ]
  },
  {
   "cell_type": "code",
   "execution_count": 44,
   "metadata": {},
   "outputs": [
    {
     "data": {
      "text/plain": [
       "FreqDist({'war': 3, 'ein': 3, '.': 2, 'Ich': 1, 'heute': 1, 'im': 1, 'wald': 1, 'spazieren': 1, 'und': 1, 'sah': 1, ...})"
      ]
     },
     "execution_count": 44,
     "metadata": {},
     "output_type": "execute_result"
    }
   ],
   "source": [
    "tokens = nltk.word_tokenize(sample)\n",
    "text = nltk.Text(tokens)\n",
    "fdist = FreqDist(text)\n",
    "fdist"
   ]
  },
  {
   "cell_type": "code",
   "execution_count": 48,
   "metadata": {},
   "outputs": [],
   "source": [
    "busmangel=\"\"\"Erleichterung bei der Parteispitze der FDP des Kantons Zug. Matthias Michel gelang es am Sonntag, den Sitz von Ständerat Joachim Eder (FDP) im zweiten Wahlgang zu verteidigen. Damit ist die Zuger FDP weiterhin in Bundesbern vertreten, nachdem sie am 20. Oktober ihren Nationalratssitz an Manuela Weichelt (Alternative – die Grünen, ALG) verloren hatte. Michel (56) wurde mit 17206 Stimmen gewählt. Der amtierende Finanzdirektor Heinz Tännler (59, SVP) erhielt 13857 und Tabea Zimmermann Gibson (49, ALG) 6949 Stimmen. Damit setzte sich Matthias Michel letztlich deutlich gegen Heinz Tännler durch (siehe Grafik).\n",
    "\n",
    "Kanton Zug: Ständeratswahlen vom 17. November 2019\n",
    "Schlussresultat vom 2. Wahlgang\n",
    "gewählt\n",
    "Matthias Michel\n",
    " Matthias Michel\n",
    "FDP\n",
    "17 206\n",
    "Verfügbare Sitze: 1\n",
    "Heinz Tännler\n",
    "Heinz Tännler\n",
    "SVP\n",
    "13 857\n",
    "Tabea Zimmermann\n",
    "Tabea Zimmermann\n",
    "Grüne\n",
    "6 949\n",
    "Quelle: Staatskanzlei Kanton Zug – Update vor 21 Stunden\n",
    "Noch im ersten Wahlgang trennten den damals hinter dem wiedergewählten Peter Hegglin (59, CVP) auf dem zweiten Platz liegenden Michel und den drittplatzierten Tännler gerade einmal 83 Stimmen.\n",
    "\n",
    "Resultat stärkt die politische Mitte\n",
    "Matthias Michel zeigte sich nach der offiziellen Resultatverkündigung durch Landschreiber Tobias Moser erleichtert. Wie übrigens auch FDP-Parteipräsidentin Carina Brüngger. «Für die FDP ist es um viel gegangen», sagte Michel. «Umso glücklicher bin ich, dass ich den Sitz gewinnen konnte.» Er würdigte weiter die Leistung seiner Partei: «Die Partei hat nach dem Verlust des Nationalratssitzes am 20. Oktober nochmals alles mobilisiert. Auch wurde ich von anderen Parteien wie der CVP und GLP unterstützt. Aber auch Personen, die sich parteipolitisch nicht engagieren, haben mir gesagt, sie hätten mich gewählt.» Er sei auch überzeugt, dass die Wählerinnen und Wähler im Kanton Zug bewusst die politische Mitte haben stärken wollen. «Sie wollen Lösungen. Das trauen die Zugerinnen und Zuger offenbar der Mitte besser zu als den Polparteien.»\n",
    "\n",
    "Nur mässig enttäuscht zeigte sich der amtierende Finanzdirektor Heinz Tännler (SVP). «Ich bin wenig erstaunt über des Resultat. Ich habe immer gewusst, dass es eng wird. Aber so ist das politische Leben. Einmal ist man an der Spitze, ein anderes Mal eben nur zweiter.» Die Ausgangslage für den zweiten Wahlgang sei für ihn nicht einfacher geworden, vor allem, da CVP und GLP Matthias Michel offiziell unterstützt hätten. Es seien wohl auch diese Stimmen, die schliesslich den Ausschlag für den FDP-Kandidaten gegeben hätten. Für ihn sei klar, dass er seine Arbeit als Finanzdirektor des Kantons Zug weiterhin mit vollem Einsatz angehen werde. «Dafür bin ich gewählt», so Heinz Tännler.\n",
    "\n",
    "Der Wahlausgang ist wenig überraschend, zumal Heinz Tännler im zweiten Wahlgang nur gerade auf die Unterstützung seiner eigenen Partei zählen konnte. Das bedeutete, er musste gegen alle anderen Parteien ankämpfen, die entweder Matthias Michel oder Tabea Zimmermann Gibson unterstützten.\n",
    "\n",
    "Tabea Zimmermann Gibson (ALG) hat sich von Anfang an keiner Illusion hingegeben. «Vor dem zweiten Wahlgang haben mir doch zahlreiche Personen gedankt, dass ich wieder angetreten bin. Ich hätte ihnen eine Wahlmöglichkeit gegeben.» Ihre Partei, die ALG, freut sich in einer Medienmitteilung über das solide Resultat Zimmermanns. Tabea Zimmermann Gibson lässt sich in der ALG-Mitteilung folgendermassen zitieren: «Im Klima- und Frauenjahr 2019 war es mir wichtig, den Zugerinnen und Zugern auch im zweiten Wahlgang eine echte soziale und ökologische Alternative zu bieten.»\n",
    "\n",
    "Zwar werde mit Michel kein Vertreter sozialer und ökologischer Grundwerte in den Ständerat einziehen, er habe sich aber im Vorfeld der Wahlen für die Gletscherinitiative ausgesprochen. Er werde, so die ALG in ihrer Mitteilung, «griffige Massnahmen zum Klimaschutz hoffentlich mittragen.»\n",
    "\n",
    "Kantons- und Gemeinderätin Tabea Zimmermann Gibson schafft sich mit diesem Resultat eine gute Plattform, sollte sie in Erwägung ziehen, bei nächster Gelegenheit für einen Sitz im Regierungsrat zu kandidieren. Noch bestätigt sie diese Absicht nicht.\n",
    "\n",
    "Später in der Session in die Pflicht genommen\n",
    "Der neu gewählte Zuger Ständerat Matthias Michel wird sich seinen Pflichten als Standesvertreter nicht vom ersten Tag der neuen Legislatur an widmen können. Laut Zeitplan wird er später in der am 2. Dezember beginnenden Wintersession seine Tätigkeit aufnehmen. Das Wahlresultat muss zuerst vom Zuger Kantonsrat als gültig erklärt werden. Dazu wird auf den 3. Dezember um 7.30 Uhr eine Kantonsratssitzung einberufen, an der diese Gültigkeit festgestellt werden wird. Dauern wird die Sitzung etwa 15 Minuten. Durch dieses Vorgehen wird es Matthias Michel möglich sein, am 11. Dezember als Ständerat an den Bundesratswahlen teilzunehmen.\"\"\""
   ]
  },
  {
   "cell_type": "code",
   "execution_count": 56,
   "metadata": {},
   "outputs": [
    {
     "data": {
      "text/plain": [
       "FreqDist({'.': 43, ',': 33, 'die': 17, 'der': 13, 'Michel': 13, 'den': 12, 'und': 11, 'sich': 10, 'Matthias': 9, '(': 9, ...})"
      ]
     },
     "execution_count": 56,
     "metadata": {},
     "output_type": "execute_result"
    }
   ],
   "source": [
    "tokens = nltk.word_tokenize(busmangel)\n",
    "textbus = nltk.Text(tokens)\n",
    "fdist = FreqDist(textbus)\n",
    "fdist"
   ]
  },
  {
   "cell_type": "markdown",
   "metadata": {},
   "source": [
    "### Aufgabe\n",
    "- Erzeugt eigenen Text oder kopiert ihn aus dem Internet und zählt welche Wörter am häufigsten vorkommen, sind die ersten 3 Positionen bei Euch ähnlich?"
   ]
  },
  {
   "cell_type": "markdown",
   "metadata": {},
   "source": [
    "# Bigrams\n",
    "- Welche Wörter-Kombinationen (zwei Wörter) kommen häufig zusammen vor?\n",
    "- https://www.youtube.com/watch?v=h8MVXC_hqNY"
   ]
  },
  {
   "cell_type": "code",
   "execution_count": 54,
   "metadata": {},
   "outputs": [
    {
     "data": {
      "text/plain": [
       "[('es', 'notwendig'),\n",
       " ('strafbaren', 'Handlung'),\n",
       " ('im', 'Falle'),\n",
       " ('Allgemeine', 'Erklärung'),\n",
       " ('Vereinten', 'Nationen'),\n",
       " (';', 'dieses'),\n",
       " ('dem', 'Gesetz'),\n",
       " ('da', 'es'),\n",
       " ('wegen', 'einer'),\n",
       " ('des', 'Landes')]"
      ]
     },
     "execution_count": 54,
     "metadata": {},
     "output_type": "execute_result"
    }
   ],
   "source": [
    "from nltk.collocations import *\n",
    "bigram_measures = nltk.collocations.BigramAssocMeasures() #Boilerplate (brauchts einfach dass es geht)\n",
    "trigram_measures = nltk.collocations.TrigramAssocMeasures()#Boilerplate (brauchts einfach dass es geht)\n",
    "finder = BigramCollocationFinder.from_words(menschenrechtserklaerungs_text)\n",
    "finder.apply_freq_filter(2) #Filtere es nach kombinationen die mind. 2 Mal vorkamen.\n",
    "finder.nbest(bigram_measures.pmi, 10) #hier wollen wir 10 Stück von dem am meisten vorkommen"
   ]
  },
  {
   "cell_type": "code",
   "execution_count": 27,
   "metadata": {},
   "outputs": [
    {
     "name": "stdout",
     "output_type": "stream",
     "text": [
      "das Recht; Jeder hat; hat das; Niemand darf; Recht auf; Anspruch auf;\n",
      "Vereinten Nationen; dem Gesetz; auf Grund; Alle Menschen; strafbaren\n",
      "Handlung; auf gleichen; Allgemeine Erklärung; wegen einer; gegen jede;\n",
      "der Menschenrechte; notwendig ist; des Landes; diese Erklärung; hat\n",
      "Anspruch\n"
     ]
    }
   ],
   "source": [
    "menschenrechtserklaerungs_text.collocations()"
   ]
  },
  {
   "cell_type": "markdown",
   "metadata": {},
   "source": [
    "### Advanced Trigrams"
   ]
  },
  {
   "cell_type": "markdown",
   "metadata": {},
   "source": [
    "- Bigramme mit Frequenz in der Menschenrechtserklärung"
   ]
  },
  {
   "cell_type": "code",
   "execution_count": 30,
   "metadata": {},
   "outputs": [
    {
     "data": {
      "text/plain": [
       "[(u'es', u'notwendig'),\n",
       " (u'strafbaren', u'Handlung'),\n",
       " (u'im', u'Falle'),\n",
       " (u'Allgemeine', u'Erkl\\xe4rung'),\n",
       " (u'Vereinten', u'Nationen'),\n",
       " (u';', u'dieses'),\n",
       " (u'dem', u'Gesetz'),\n",
       " (u'da', u'es'),\n",
       " (u'wegen', u'einer'),\n",
       " (u'des', u'Landes')]"
      ]
     },
     "execution_count": 30,
     "metadata": {},
     "output_type": "execute_result"
    }
   ],
   "source": [
    "from nltk.collocations import *\n",
    "bigram_measures = nltk.collocations.BigramAssocMeasures()\n",
    "trigram_measures = nltk.collocations.TrigramAssocMeasures() #hier der Unterschied= Trigram...\n",
    "finder = BigramCollocationFinder.from_words(menschenrechtserklaerungs_text)\n",
    "finder.apply_freq_filter(2) # reduce to bigrams that appeared at least 3 times\n",
    "finder.nbest(bigram_measures.pmi, 10) "
   ]
  },
  {
   "cell_type": "markdown",
   "metadata": {},
   "source": [
    "- Trigramme in der Menschenrechtserklärung\n",
    "- mehr Beispiele unter http://www.nltk.org/howto/collocations.html"
   ]
  },
  {
   "cell_type": "code",
   "execution_count": 63,
   "metadata": {},
   "outputs": [
    {
     "data": {
      "text/plain": [
       "[('Zimmermann', 'Gibson'),\n",
       " ('Tabea', 'Zimmermann'),\n",
       " ('Heinz', 'Tännler'),\n",
       " ('zweiten', 'Wahlgang'),\n",
       " ('Matthias', 'Michel'),\n",
       " (',', 'dass'),\n",
       " ('.', '«'),\n",
       " (',', 'die')]"
      ]
     },
     "execution_count": 63,
     "metadata": {},
     "output_type": "execute_result"
    }
   ],
   "source": [
    "from nltk.collocations import *\n",
    "bigram_measures = nltk.collocations.BigramAssocMeasures()\n",
    "trigram_measures = nltk.collocations.TrigramAssocMeasures()\n",
    "finder = BigramCollocationFinder.from_words(textbus)\n",
    "finder.apply_freq_filter(4) # reduce to bigrams that appeared at least 3 times\n",
    "finder.nbest(bigram_measures.pmi,20) "
   ]
  },
  {
   "cell_type": "code",
   "execution_count": null,
   "metadata": {},
   "outputs": [],
   "source": []
  },
  {
   "cell_type": "code",
   "execution_count": 65,
   "metadata": {
    "scrolled": true
   },
   "outputs": [
    {
     "data": {
      "text/plain": [
       "[('des', 'Kantons', 'Zug'),\n",
       " ('amtierende', 'Finanzdirektor', 'Heinz'),\n",
       " ('CVP', 'und', 'GLP'),\n",
       " ('Tabea', 'Zimmermann', 'Gibson'),\n",
       " ('die', 'politische', 'Mitte'),\n",
       " ('Finanzdirektor', 'Heinz', 'Tännler'),\n",
       " ('20', '.', 'Oktober'),\n",
       " ('im', 'zweiten', 'Wahlgang'),\n",
       " ('Zimmermann', 'Gibson', '('),\n",
       " ('am', '20', '.'),\n",
       " ('Heinz', 'Tännler', '('),\n",
       " ('(', '59', ','),\n",
       " (',', 'dass', 'ich'),\n",
       " (',', 'ALG', ')'),\n",
       " ('.', 'Tabea', 'Zimmermann')]"
      ]
     },
     "execution_count": 65,
     "metadata": {},
     "output_type": "execute_result"
    }
   ],
   "source": [
    "finder = TrigramCollocationFinder.from_words(textbus) #hier der Unterschied= Trigram..\n",
    "finder.apply_freq_filter(2) # reduce to bigrams that appeared at least 3 times\n",
    "finder.nbest(trigram_measures.pmi, 20)"
   ]
  },
  {
   "cell_type": "code",
   "execution_count": 66,
   "metadata": {},
   "outputs": [],
   "source": [
    "textbank=\"\"\"An der Ägeristrasse sind im September die Bagger aufgefahren: Die Bushaltestellen Rütli, Obmoos und Fadenstrasse wurden behindertengerecht gemacht – die Randsteine wurden angehoben, sodass nun alle Fahrgäste auch mit Rollstuhl oder Kinderwagen bequem ohne Stufe einsteigen können. Seit rund einer Woche sind die Arbeiten abgeschlossen. Was aber auffällt: Bei gewissen Bushaltestellen fehlen Sitzbänkli. Behindertengerechte Bushaltestellen, bei denen mobilitätseingeschränkte Personen nicht einmal eine Sitzgelegenheit vorfinden? Ein Unding, fand eine Leserin, die sich bei unserer Zeitung gemeldet hat. Baudirektor Florian Weber betont, dass es weder auf kantonaler noch auf eidgenössischer Ebene gesetzliche Vorgaben zu Sitzbänken an Haltestellen gebe:\n",
    "\n",
    "«Als Minimalstandard genügt es, eine Haltestellentafel inklusive Fahrplan am Strassenrand aufzustellen.»\n",
    "\n",
    "Weiter seien für die Ausrüstung der Bushaltestellen, wozu auch Sitzbänke gehören, die Gemeinden zuständig. Bei der Stadt verweist man auf die Bushaltestelle Obmoos, wo es stadteinwärts im Busunterstand eine Sitzbank habe. Bei den übrigen erwähnten Bushaltestellen fehle der Platz auf öffentlichem Grund. Die Trottoirbreiten liessen keine zusätzlichen Sitzgelegenheiten zu, weil ansonsten der Winterdienst und die Strassenreinigung nicht mehr durchkommen würden. Zudem handle es sich bei den Bushaltestellen Rütli und Fadenstrasse auf der Ägeristrasse Richtung Berg hauptsächlich um «Aussteigehaltestellen». «Die Passagiere kommen mehrheitlich vom Stadtzentrum und verweilen nach dem Aussteigen nicht dort, sondern laufen nach Hause oder in die Schule», heisst es bei der Stadt.\n",
    "\n",
    "Zug steht im nationalen Vergleich gut da\n",
    "Gemäss dem Behindertengleichstellungsgesetz (BehiG) des Bundes soll bis Ende 2023 der gesamte öffentliche Verkehr autonom benutzbar und somit hindernisfrei sein. Bis dann muss an allen relevanten Bushaltestellen die Trottoirkante so erhöht werden, dass auch ein Rollstuhlfahrer ohne fremde Hilfe in den Bus fahren kann. Die Kantone sind bei der Umsetzung allerdings massiv in Verzug. Laut einem Bericht von Inclusion Handicap, dem Dachverband der Behindertenorganisationen Schweiz, sind erst zirka zehn Prozent der Schweizer Bushaltekanten barrierefrei benutzbar. Demgegenüber steht der Kanton Zug verhältnismässig gut da: Laut Baudirektion sind von den 311 Bushaltestellen an kantonalen Strassen bereits rund 35 Prozent (108 Haltestellen) behindertengerecht aufgerüstet. Für die Stadt Zug ist das Bild gar noch positiver: Von den 84 Bushaltestellen an Gemeindestrassen ist schon über die Hälfte barrierefrei.\n",
    "\n",
    "Baudirektor Florian Weber räumt allerdings ein, dass es nicht möglich sein wird, bis Ende 2023 alle Bushaltestellen hindernisfrei aufzurüsten. Als Beispiel erwähnt er den Bahnhof Zug, der wegen seiner Kurvenlage die Normen nicht erfüllen kann. «Der Kanton Zug ist aber bestrebt, wenn immer mit verhältnismässigem Aufwand möglich, eine Baute so auszuführen, dass die öffentlichen Verkehrsmittel durch mobilitätsbehinderte Menschen hindernisfrei benutzt werden können.»\n",
    "\n",
    "Verhältnismässigkeit als entscheidender Faktor\n",
    "Weber betont, dass auch dem BehiG dieser Grundsatz der Verhältnismässigkeit zugrunde liege. Demnach sind Benachteiligungen hinzunehmen, wenn der für Behinderte zu erwartende Nutzen in einem Missverhältnis zu folgenden Faktoren steht; dem wirtschaftlichen Aufwand, den Interessen des Umwelt-, Natur- oder Heimatschutzes sowie den Anliegen der Verkehrs- und Betriebssicherheit. Entscheidend sind auch die Zahl der Benützer einer Haltestelle und ihre Wichtigkeit als Umsteigemöglichkeit. «Bushaltestellen werden jeweils im Zusammenhang mit anstehenden Strassensanierungen und aufgrund der Prioritäten umgebaut», so Weber. Wo Haltestellen nicht hindernisfrei umgebaut werden, helfe der Chauffeur mit einer Rampe.\n",
    "\n",
    "Tatsächlich befassen sich auch die Zugerland Verkehrsbetriebe mit der Umsetzung des BehiG. «So wurde die gesamte ZVB-Flotte auf Niederflurbusse umgestellt, die ein stufenloses Einsteigen ermöglichen», erklärt ZVB-Mediensprecherin Karin Fröhlich. Bezüglich barrierefreier Bushaltestellen stehen allerdings der Kanton und die Gemeinden in der Pflicht – und die Öffentlichkeit beobachtet die Geschehnisse mit Argusaugen.\n",
    "\n",
    "Beat Husmann von der Fachstelle Hindernisfreies Bauen der Pro Infirmis Zug zieht eine durchzogene Bilanz. Zwar stelle man in den letzten zwei Jahren eine steigende Zahl angepasster Haltestellen fest.\n",
    "\n",
    "«Bei Menschen mit Behinderung herrscht aber grosser Unmut über die fehlende autonome Benutzbarkeit des öffentlichen Verkehrs im Kanton Zug», so Husmann.\n",
    "\n",
    "Hohe Bushaltekanten kämen zudem allen ÖV-Passagieren zugute – mit oder ohne Behinderung. «Und auch das Vorhandensein von Sitzbänken ist ein Nutzen für Reisende und ein nachvollziehbares Bedürfnis.»\"\"\""
   ]
  },
  {
   "cell_type": "code",
   "execution_count": 67,
   "metadata": {},
   "outputs": [
    {
     "data": {
      "text/plain": [
       "FreqDist({',': 31, '.': 31, 'der': 24, 'die': 22, 'Bushaltestellen': 12, 'und': 11, 'den': 9, 'mit': 8, '«': 8, '»': 8, ...})"
      ]
     },
     "execution_count": 67,
     "metadata": {},
     "output_type": "execute_result"
    }
   ],
   "source": [
    "tokens = nltk.word_tokenize(textbank)\n",
    "busbank = nltk.Text(tokens)\n",
    "fdist = FreqDist(busbank)\n",
    "fdist"
   ]
  },
  {
   "cell_type": "code",
   "execution_count": 69,
   "metadata": {},
   "outputs": [
    {
     "data": {
      "text/plain": [
       "[('bis', 'Ende', '2023'),\n",
       " ('Baudirektor', 'Florian', 'Weber'),\n",
       " ('.', 'Baudirektor', 'Florian'),\n",
       " ('Weber', 'betont', ','),\n",
       " ('betont', ',', 'dass'),\n",
       " (',', 'dass', 'es'),\n",
       " ('»', ',', 'so'),\n",
       " (',', 'dass', 'auch')]"
      ]
     },
     "execution_count": 69,
     "metadata": {},
     "output_type": "execute_result"
    }
   ],
   "source": [
    "finder = TrigramCollocationFinder.from_words(busbank) #hier der Unterschied= Trigram..\n",
    "finder.apply_freq_filter(2) # reduce to bigrams that appeared at least 3 times\n",
    "finder.nbest(trigram_measures.pmi, 20)"
   ]
  },
  {
   "cell_type": "code",
   "execution_count": 71,
   "metadata": {},
   "outputs": [
    {
     "data": {
      "text/plain": [
       "[('Baudirektor', 'Florian'),\n",
       " ('Ende', '2023'),\n",
       " ('bis', 'Ende'),\n",
       " ('gut', 'da'),\n",
       " ('Florian', 'Weber'),\n",
       " ('Weber', 'betont'),\n",
       " ('sich', 'bei'),\n",
       " ('Kanton', 'Zug'),\n",
       " ('und', 'Fadenstrasse'),\n",
       " ('Bushaltestellen', 'Rütli'),\n",
       " ('Zug', 'ist'),\n",
       " ('dass', 'es'),\n",
       " ('dass', 'auch'),\n",
       " ('die', 'Gemeinden'),\n",
       " ('über', 'die'),\n",
       " ('Bushaltestellen', 'an'),\n",
       " ('der', 'Umsetzung'),\n",
       " ('der', 'Ägeristrasse'),\n",
       " ('in', 'den'),\n",
       " (',', 'wenn')]"
      ]
     },
     "execution_count": 71,
     "metadata": {},
     "output_type": "execute_result"
    }
   ],
   "source": [
    "bigram_measures = nltk.collocations.BigramAssocMeasures()\n",
    "trigram_measures = nltk.collocations.TrigramAssocMeasures()\n",
    "finder = BigramCollocationFinder.from_words(busbank)\n",
    "finder.apply_freq_filter(2) # reduce to bigrams that appeared at least 3 times\n",
    "finder.nbest(bigram_measures.pmi,20) "
   ]
  },
  {
   "cell_type": "markdown",
   "metadata": {},
   "source": [
    "# Übereinstimmungen oder Konkordanz"
   ]
  },
  {
   "cell_type": "markdown",
   "metadata": {},
   "source": [
    "- In welchem Kontext steht überall \"monstrous\" im Text bei Moby Dick?"
   ]
  },
  {
   "cell_type": "code",
   "execution_count": 82,
   "metadata": {},
   "outputs": [
    {
     "name": "stdout",
     "output_type": "stream",
     "text": [
      "Displaying 12 of 12 matches:\n",
      "er die Bagger aufgefahren : Die Bushaltestellen Rütli , Obmoos und Fadenstrasse\n",
      "as aber auffällt : Bei gewissen Bushaltestellen fehlen Sitzbänkli . Behinderten\n",
      "itzbänkli . Behindertengerechte Bushaltestellen , bei denen mobilitätseingeschr\n",
      "er seien für die Ausrüstung der Bushaltestellen , wozu auch Sitzbänke gehören ,\n",
      "abe . Bei den übrigen erwähnten Bushaltestellen fehle der Platz auf öffentliche\n",
      " . Zudem handle es sich bei den Bushaltestellen Rütli und Fadenstrasse auf der \n",
      "s dann muss an allen relevanten Bushaltestellen die Trottoirkante so erhöht wer\n",
      "t Baudirektion sind von den 311 Bushaltestellen an kantonalen Strassen bereits \n",
      "gar noch positiver : Von den 84 Bushaltestellen an Gemeindestrassen ist schon ü\n",
      " sein wird , bis Ende 2023 alle Bushaltestellen hindernisfrei aufzurüsten . Als\n",
      "eit als Umsteigemöglichkeit . « Bushaltestellen werden jeweils im Zusammenhang \n",
      "lich . Bezüglich barrierefreier Bushaltestellen stehen allerdings der Kanton un\n"
     ]
    }
   ],
   "source": [
    "busbank.concordance(\"Bushaltestellen\")"
   ]
  },
  {
   "cell_type": "code",
   "execution_count": 83,
   "metadata": {},
   "outputs": [],
   "source": [
    "busbank.concordance?"
   ]
  },
  {
   "cell_type": "markdown",
   "metadata": {},
   "source": [
    "- In welchem Kontext kommen Menschenrechte in der Menschenrechtserklärung vor?"
   ]
  },
  {
   "cell_type": "code",
   "execution_count": 35,
   "metadata": {},
   "outputs": [
    {
     "name": "stdout",
     "output_type": "stream",
     "text": [
      "Displaying 25 of 25 matches:\n",
      "kt ist ist . Artikel 3 Jeder hat das Recht auf Leben , Freiheit und Sicherheit \n",
      "fen werden . Artikel 6 Jeder hat das Recht , überall als rechtsfähig anerkannt \n",
      " Handlung beschuldigt wird , hat das Recht , als unschuldig zu gelten , solange\n",
      "nnerstaatlichem oder internationalem Recht nicht strafbar war . Ebenso darf kei\n",
      "htigungen . Artikel 13 Jeder hat das Recht , sich innerhalb eines Staates frei \n",
      "tsort frei zu wählen . Jeder hat das Recht , jedes Land , einschließlich seines\n",
      "kzukehren . Artikel 14 Jeder hat das Recht , in anderen Ländern vor Verfolgung \n",
      "l zu suchen und zu genießen . Dieses Recht kann nicht in Anspruch genommen werd\n",
      "verstoßen . Artikel 15 Jeder hat das Recht auf eine Staatsangehörigkeit . Niema\n",
      "igkeit willkürlich entzogen noch das Recht versagt werden , seine Staatsanghöri\n",
      "sangehörigkeit oder der Religion das Recht zu heiraten und eine Familie zu grün\n",
      "und Staat . Artikel 17 Jeder hat das Recht , sowohl allein als auch in Gemeinsc\n",
      "bt werden . Artikel 18 Jeder hat das Recht auf Gedanken - , Gewissens - und Rel\n",
      "ens - und Religionsfreiheit ; dieses Recht schließt die Freiheit ein , seine Re\n",
      " bekennen . Artikel 19 Jeder hat das Recht auf Meinungsfreiheit und freie Meinu\n",
      " und freie Meinungsäußerung ; dieses Recht schließt die Freiheit ein , Meinunge\n",
      ". Artikel 20 Alle Menschen haben das Recht , sich friedlich zu versammeln und z\n",
      "zugehören . Artikel 21 Jeder hat das Recht , an der Gestaltung der öffentlichen\n",
      "ertreter mitzuwirken . Jeder hat das Recht auf gleichen Zugang zu öffentlichen \n",
      "at als Mitglied der Gesellschaft das Recht auf soziale Sicherheit und Anspruch \n",
      "lich sind . Artikel 23 Jeder hat das Recht auf Arbeit , auf freie Berufswahl , \n",
      ". Jeder , ohne Unterschied , hat das Recht auf gleichen Lohn für gleiche Arbeit\n",
      "eit . Jeder , der arbeitet , hat das Recht auf gerechte und befriedigende Entlo\n",
      "iale Schutzmaßnahmen . Jeder hat das Recht , zum Schutz seiner Interessen Gewer\n",
      "izutreten . Artikel 24 Jeder hat das Recht auf Erholung und Freizeit und insbes\n"
     ]
    }
   ],
   "source": [
    "menschenrechtserklaerungs_text.concordance(\"Recht\")"
   ]
  },
  {
   "cell_type": "markdown",
   "metadata": {},
   "source": [
    "## Ähnlichkeit: Welche Wörter benutzen den gleichen Kontext?\n",
    "- Bei Moby Dick?"
   ]
  },
  {
   "cell_type": "code",
   "execution_count": 36,
   "metadata": {},
   "outputs": [
    {
     "name": "stdout",
     "output_type": "stream",
     "text": [
      "imperial subtly impalpable pitiable curious abundant perilous\n",
      "trustworthy untoward singular lamentable few determined maddens\n",
      "horrible tyrannical lazy mystifying christian exasperate\n"
     ]
    }
   ],
   "source": [
    "text1.similar(\"monstrous\")"
   ]
  },
  {
   "cell_type": "markdown",
   "metadata": {},
   "source": [
    "- Bei Jane Austen?"
   ]
  },
  {
   "cell_type": "code",
   "execution_count": 38,
   "metadata": {},
   "outputs": [
    {
     "name": "stdout",
     "output_type": "stream",
     "text": [
      "very exceedingly so heartily a great good amazingly as sweet\n",
      "remarkably extremely vast\n"
     ]
    }
   ],
   "source": [
    "text2.similar(\"monstrous\")"
   ]
  },
  {
   "cell_type": "markdown",
   "metadata": {},
   "source": [
    "- In der Menschenrechtserkläreung?"
   ]
  },
  {
   "cell_type": "code",
   "execution_count": 45,
   "metadata": {},
   "outputs": [
    {
     "name": "stdout",
     "output_type": "stream",
     "text": [
      "gesellschaft arbeitszeit gleichen organisation seine\n",
      "grundschulunterricht ehe\n"
     ]
    }
   ],
   "source": [
    "menschenrechtserklaerungs_text.similar(\"Menschenrechte\")"
   ]
  },
  {
   "cell_type": "code",
   "execution_count": 92,
   "metadata": {},
   "outputs": [
    {
     "name": "stdout",
     "output_type": "stream",
     "text": [
      "\n"
     ]
    }
   ],
   "source": [
    "busbank.similar(\"Bushaltestellen\")# Textmenge ist zu klein für einen Auswertung"
   ]
  },
  {
   "cell_type": "markdown",
   "metadata": {},
   "source": [
    "## Dispersionsplot\n",
    "- Welche Wörter kommen wann im Text gemeinsam vor?"
   ]
  },
  {
   "cell_type": "code",
   "execution_count": 93,
   "metadata": {},
   "outputs": [
    {
     "data": {
      "image/png": "[encoded data removed]",
      "text/plain": [
       "<Figure size 1080x576 with 1 Axes>"
      ]
     },
     "metadata": {
      "needs_background": "light"
     },
     "output_type": "display_data"
    }
   ],
   "source": [
    "%matplotlib inline\n",
    "import matplotlib.pyplot as plt\n",
    "plt.figure(figsize=(15,8))\n",
    "text1.dispersion_plot([\"monstrous\", \"whale\", \"ship\", \"wind\", \"water\"])"
   ]
  },
  {
   "cell_type": "code",
   "execution_count": 103,
   "metadata": {},
   "outputs": [
    {
     "data": {
      "image/png": "[encoded data removed]",
      "text/plain": [
       "<Figure size 1080x576 with 1 Axes>"
      ]
     },
     "metadata": {
      "needs_background": "light"
     },
     "output_type": "display_data"
    }
   ],
   "source": [
    "plt.figure(figsize=(15,8))\n",
    "menschenrechtserklaerungs_text.dispersion_plot([\"Menschenrechte\", \"Recht\", \"darf\", \"Recht\"])"
   ]
  },
  {
   "cell_type": "code",
   "execution_count": 110,
   "metadata": {},
   "outputs": [
    {
     "data": {
      "image/png": "[encoded data removed]",
      "text/plain": [
       "<Figure size 1080x576 with 1 Axes>"
      ]
     },
     "metadata": {
      "needs_background": "light"
     },
     "output_type": "display_data"
    }
   ],
   "source": []
  },
  {
   "cell_type": "markdown",
   "metadata": {},
   "source": [
    "## Aufgabe:\n",
    "- Probiert es mal mit einem Dispersionsplot für einen Text eurer Wahl. "
   ]
  },
  {
   "cell_type": "code",
   "execution_count": 111,
   "metadata": {},
   "outputs": [
    {
     "data": {
      "image/png": "[encoded data removed]",
      "text/plain": [
       "<Figure size 1080x576 with 1 Axes>"
      ]
     },
     "metadata": {
      "needs_background": "light"
     },
     "output_type": "display_data"
    }
   ],
   "source": [
    "plt.figure(figsize=(15,8))\n",
    "busbank.dispersion_plot([\"Bus\", \"Florian\", \"Weber\", \",\"])"
   ]
  },
  {
   "cell_type": "code",
   "execution_count": null,
   "metadata": {},
   "outputs": [],
   "source": []
  }
 ],
 "metadata": {
  "kernelspec": {
   "display_name": "Python 3",
   "language": "python",
   "name": "python3"
  },
  "language_info": {
   "codemirror_mode": {
    "name": "ipython",
    "version": 3
   },
   "file_extension": ".py",
   "mimetype": "text/x-python",
   "name": "python",
   "nbconvert_exporter": "python",
   "pygments_lexer": "ipython3",
   "version": "3.7.3"
  }
 },
 "nbformat": 4,
 "nbformat_minor": 2
}
