{
 "cells": [
  {
   "cell_type": "markdown",
   "metadata": {},
   "source": [
    "## Agenda"
   ]
  },
  {
   "cell_type": "markdown",
   "metadata": {},
   "source": [
    "- Tokenization\n",
    "- Stemming\n",
    "- Lemmatization\n",
    "    - Pattern\n",
    "    - TextBlob\n",
    "- POS Tagging\n",
    "    - Pattern\n",
    "    - TextBlob\n",
    "- Stop Word removal"
   ]
  },
  {
   "cell_type": "markdown",
   "metadata": {},
   "source": [
    "## Tokenizer\n",
    "- Wie splittet man einfach einen Satz in Wörter auf?\n",
    "- https://www.admin.ch/opc/de/classified-compilation/19995395/index.html#a8"
   ]
  },
  {
   "cell_type": "code",
   "execution_count": 1,
   "metadata": {},
   "outputs": [],
   "source": [
    "import nltk\n",
    "from nltk.tokenize import word_tokenize"
   ]
  },
  {
   "cell_type": "code",
   "execution_count": 2,
   "metadata": {},
   "outputs": [],
   "source": [
    "verfassung = '''\n",
    "Im Namen Gottes des Allmächtigen!\n",
    "\n",
    "Das Schweizervolk und die Kantone,\n",
    "\n",
    "in der Verantwortung gegenüber der Schöpfung,\n",
    "\n",
    "im Bestreben, den Bund zu erneuern, um Freiheit und Demokratie, Unabhängigkeit und Frieden in Solidarität und Offenheit gegenüber der Welt zu stärken,\n",
    "\n",
    "im Willen, in gegenseitiger Rücksichtnahme und Achtung ihre Vielfalt in der Einheit zu leben,\n",
    "\n",
    "im Bewusstsein der gemeinsamen Errungenschaften und der Verantwortung gegenüber den künftigen Generationen,\n",
    "\n",
    "gewiss, dass frei nur ist, wer seine Freiheit gebraucht, und dass die Stärke des Volkes sich misst am Wohl der Schwachen,\n",
    "\n",
    "geben sich folgende Verfassung:\n",
    "'''"
   ]
  },
  {
   "cell_type": "code",
   "execution_count": 3,
   "metadata": {},
   "outputs": [
    {
     "data": {
      "text/plain": [
       "'\\nIm Namen Gottes des Allmächtigen!\\n\\nDas Schweizervolk und die Kantone,\\n\\nin der Verantwortung gegenüber der Schöpfung,\\n\\nim Bestreben, den Bund zu erneuern, um Freiheit und Demokratie, Unabhängigkeit und Frieden in Solidarität und Offenheit gegenüber der Welt zu stärken,\\n\\nim Willen, in gegenseitiger Rücksichtnahme und Achtung ihre Vielfalt in der Einheit zu leben,\\n\\nim Bewusstsein der gemeinsamen Errungenschaften und der Verantwortung gegenüber den künftigen Generationen,\\n\\ngewiss, dass frei nur ist, wer seine Freiheit gebraucht, und dass die Stärke des Volkes sich misst am Wohl der Schwachen,\\n\\ngeben sich folgende Verfassung:\\n'"
      ]
     },
     "execution_count": 3,
     "metadata": {},
     "output_type": "execute_result"
    }
   ],
   "source": [
    "#verfassung = verfassung.decode('utf-8')\n",
    "verfassung"
   ]
  },
  {
   "cell_type": "markdown",
   "metadata": {},
   "source": [
    "### In einzelne Wörter + Zeichen"
   ]
  },
  {
   "cell_type": "code",
   "execution_count": 4,
   "metadata": {},
   "outputs": [
    {
     "data": {
      "text/plain": [
       "['Im',\n",
       " 'Namen',\n",
       " 'Gottes',\n",
       " 'des',\n",
       " 'Allmächtigen',\n",
       " '!',\n",
       " 'Das',\n",
       " 'Schweizervolk',\n",
       " 'und',\n",
       " 'die']"
      ]
     },
     "execution_count": 4,
     "metadata": {},
     "output_type": "execute_result"
    }
   ],
   "source": [
    "tokens = nltk.word_tokenize(verfassung)\n",
    "tokens[0:10]"
   ]
  },
  {
   "cell_type": "markdown",
   "metadata": {},
   "source": [
    "### In Wörter\n",
    "ohne Ausrufezeichen und so"
   ]
  },
  {
   "cell_type": "code",
   "execution_count": 7,
   "metadata": {},
   "outputs": [
    {
     "data": {
      "text/plain": [
       "'wurst ist so wie brot'"
      ]
     },
     "execution_count": 7,
     "metadata": {},
     "output_type": "execute_result"
    }
   ],
   "source": [
    "\"Wurst ist so wie Brot\".lower() #alles klein schreiben, damit es stimmt"
   ]
  },
  {
   "cell_type": "code",
   "execution_count": 5,
   "metadata": {
    "scrolled": true
   },
   "outputs": [
    {
     "data": {
      "text/plain": [
       "['im',\n",
       " 'namen',\n",
       " 'gottes',\n",
       " 'des',\n",
       " 'allmächtigen',\n",
       " 'das',\n",
       " 'schweizervolk',\n",
       " 'und',\n",
       " 'die',\n",
       " 'kantone',\n",
       " 'in',\n",
       " 'der',\n",
       " 'verantwortung',\n",
       " 'gegenüber',\n",
       " 'der',\n",
       " 'schöpfung',\n",
       " 'im',\n",
       " 'bestreben',\n",
       " 'den',\n",
       " 'bund']"
      ]
     },
     "execution_count": 5,
     "metadata": {},
     "output_type": "execute_result"
    }
   ],
   "source": [
    "words = word_tokenize(verfassung)\n",
    "words=[word.lower() for word in words if word.isalpha()] #isalpha heisst: sind es Buchstaben?\n",
    "#word.lower() dass alles klein ist, sonst zählt er sie separat.\n",
    "words[0:20]"
   ]
  },
  {
   "cell_type": "code",
   "execution_count": null,
   "metadata": {},
   "outputs": [],
   "source": []
  },
  {
   "cell_type": "markdown",
   "metadata": {},
   "source": [
    "### Hier noch ein paar praktische Python funktionen wie isalpha\n",
    "\n",
    "|  s.startswith(t) | test if s starts with t |\n",
    "|  ------ | ------ |\n",
    "|  s.endswith(t) | test if s ends with t |\n",
    "|  t in s | test if t is a substring of s |\n",
    "|  s.islower() | test if s contains cased characters and all are lowercase |\n",
    "|  s.isupper() | test if s contains cased characters and all are uppercase |\n",
    "|  s.isalpha() | test if s is non-empty and all characters in s are alphabetic |\n",
    "|  s.isalnum() | test if s is non-empty and all characters in s are alphanumeric |\n",
    "|  s.isdigit() | test if s is non-empty and all characters in s are digits |\n",
    "|  s.istitle() | test if s contains cased characters and is titlecased (i.e. all words in s have initial capitals) |"
   ]
  },
  {
   "cell_type": "markdown",
   "metadata": {},
   "source": [
    "### In Sätze\n",
    "nach Sätzen zerlegen\n",
    "- zum Satzlänge testen \n",
    "- oder ähnliches"
   ]
  },
  {
   "cell_type": "code",
   "execution_count": 8,
   "metadata": {
    "scrolled": true
   },
   "outputs": [
    {
     "data": {
      "text/plain": [
       "['\\nIm Namen Gottes des Allmächtigen!',\n",
       " 'Das Schweizervolk und die Kantone,\\n\\nin der Verantwortung gegenüber der Schöpfung,\\n\\nim Bestreben, den Bund zu erneuern, um Freiheit und Demokratie, Unabhängigkeit und Frieden in Solidarität und Offenheit gegenüber der Welt zu stärken,\\n\\nim Willen, in gegenseitiger Rücksichtnahme und Achtung ihre Vielfalt in der Einheit zu leben,\\n\\nim Bewusstsein der gemeinsamen Errungenschaften und der Verantwortung gegenüber den künftigen Generationen,\\n\\ngewiss, dass frei nur ist, wer seine Freiheit gebraucht, und dass die Stärke des Volkes sich misst am Wohl der Schwachen,\\n\\ngeben sich folgende Verfassung:']"
      ]
     },
     "execution_count": 8,
     "metadata": {},
     "output_type": "execute_result"
    }
   ],
   "source": [
    "from nltk.tokenize import sent_tokenize\n",
    "sentences = sent_tokenize(verfassung)\n",
    "sentences"
   ]
  },
  {
   "cell_type": "markdown",
   "metadata": {},
   "source": [
    "## Stemming \n",
    "### auf das Urspungswort bringen\n",
    "- d.h. das überführen von Wörtern in den gleichen Stamm. \n",
    "- Übliche Probleme die Sprache so mit sich bringt:\n",
    "    - Deklination: gehe, gehst, gehen, geht, ... es handelt sich um das gleiche Wort. \n",
    "    - Plural, Groß/Kleinschreibung: katze, katzen, Katze ... es handelt sich auch um das gleiche Wort. \n",
    "    - ..."
   ]
  },
  {
   "cell_type": "code",
   "execution_count": 9,
   "metadata": {},
   "outputs": [],
   "source": [
    "porter = nltk.PorterStemmer()\n",
    "lancaster = nltk.LancasterStemmer()"
   ]
  },
  {
   "cell_type": "markdown",
   "metadata": {},
   "source": [
    "### Porter stemmer\n",
    "- geht ganz ok für Englisch\n",
    "- https://de.wikipedia.org/wiki/Porter-Stemmer-Algorithmus"
   ]
  },
  {
   "cell_type": "code",
   "execution_count": 10,
   "metadata": {},
   "outputs": [
    {
     "data": {
      "text/plain": [
       "['Universal',\n",
       " 'Declaration',\n",
       " 'of',\n",
       " 'Human',\n",
       " 'Rights',\n",
       " 'Preamble',\n",
       " 'Whereas',\n",
       " 'recognition',\n",
       " 'of',\n",
       " 'the',\n",
       " 'inherent',\n",
       " 'dignity',\n",
       " 'and',\n",
       " 'of',\n",
       " 'the',\n",
       " 'equal',\n",
       " 'and',\n",
       " 'inalienable',\n",
       " 'rights',\n",
       " 'of']"
      ]
     },
     "execution_count": 10,
     "metadata": {},
     "output_type": "execute_result"
    }
   ],
   "source": [
    "from nltk.corpus import udhr\n",
    "engl_words = udhr.words(\"English-Latin1\")\n",
    "engl_words[0:20]"
   ]
  },
  {
   "cell_type": "code",
   "execution_count": 11,
   "metadata": {
    "scrolled": true
   },
   "outputs": [
    {
     "data": {
      "text/plain": [
       "['univers',\n",
       " 'declar',\n",
       " 'of',\n",
       " 'human',\n",
       " 'right',\n",
       " 'preambl',\n",
       " 'wherea',\n",
       " 'recognit',\n",
       " 'of',\n",
       " 'the',\n",
       " 'inher',\n",
       " 'digniti',\n",
       " 'and',\n",
       " 'of',\n",
       " 'the',\n",
       " 'equal',\n",
       " 'and',\n",
       " 'inalien',\n",
       " 'right',\n",
       " 'of']"
      ]
     },
     "execution_count": 11,
     "metadata": {},
     "output_type": "execute_result"
    }
   ],
   "source": [
    "[porter.stem(w) for w in engl_words][0:20]"
   ]
  },
  {
   "cell_type": "code",
   "execution_count": 15,
   "metadata": {},
   "outputs": [
    {
     "data": {
      "text/plain": [
       "['univers']"
      ]
     },
     "execution_count": 15,
     "metadata": {},
     "output_type": "execute_result"
    }
   ],
   "source": [
    "[porter.stem(\"Universe\")]"
   ]
  },
  {
   "cell_type": "code",
   "execution_count": 14,
   "metadata": {},
   "outputs": [
    {
     "data": {
      "text/plain": [
       "['univers']"
      ]
     },
     "execution_count": 14,
     "metadata": {},
     "output_type": "execute_result"
    }
   ],
   "source": [
    "[porter.stem(\"universal\")]"
   ]
  },
  {
   "cell_type": "code",
   "execution_count": 13,
   "metadata": {},
   "outputs": [
    {
     "data": {
      "text/plain": [
       "['univers']"
      ]
     },
     "execution_count": 13,
     "metadata": {},
     "output_type": "execute_result"
    }
   ],
   "source": [
    "[porter.stem(\"University\")]"
   ]
  },
  {
   "cell_type": "markdown",
   "metadata": {},
   "source": [
    "### Lancaster Stemmer\n",
    "- kommt zu leicht anderen \"stämmen\"\n",
    "- funktioniert nicht so gut für deutsch"
   ]
  },
  {
   "cell_type": "code",
   "execution_count": 34,
   "metadata": {},
   "outputs": [
    {
     "data": {
      "text/plain": [
       "[u'univers',\n",
       " u'decl',\n",
       " u'of',\n",
       " u'hum',\n",
       " u'right',\n",
       " u'preambl',\n",
       " u'wherea',\n",
       " u'recognit',\n",
       " u'of',\n",
       " u'the',\n",
       " u'inh',\n",
       " u'dign',\n",
       " u'and',\n",
       " u'of',\n",
       " u'the',\n",
       " u'eq',\n",
       " u'and',\n",
       " u'ina',\n",
       " u'right',\n",
       " u'of']"
      ]
     },
     "execution_count": 34,
     "metadata": {},
     "output_type": "execute_result"
    }
   ],
   "source": [
    "[lancaster.stem(w) for w in engl_words][0:20]"
   ]
  },
  {
   "cell_type": "markdown",
   "metadata": {},
   "source": [
    "### Snowball stemmer\n",
    "- Geht gut für deusch\n",
    "- http://snowball.tartarus.org/algorithms/german/stemmer.html"
   ]
  },
  {
   "cell_type": "code",
   "execution_count": 18,
   "metadata": {},
   "outputs": [],
   "source": [
    "snowball = nltk.stem.snowball.GermanStemmer()"
   ]
  },
  {
   "cell_type": "code",
   "execution_count": 21,
   "metadata": {},
   "outputs": [
    {
     "data": {
      "text/plain": [
       "['im',\n",
       " 'nam',\n",
       " 'gott',\n",
       " 'des',\n",
       " 'allmacht',\n",
       " 'das',\n",
       " 'schweizervolk',\n",
       " 'und',\n",
       " 'die',\n",
       " 'kanton',\n",
       " 'in',\n",
       " 'der',\n",
       " 'verantwort',\n",
       " 'gegenub',\n",
       " 'der',\n",
       " 'schopfung',\n",
       " 'im',\n",
       " 'bestreb',\n",
       " 'den',\n",
       " 'bund']"
      ]
     },
     "execution_count": 21,
     "metadata": {},
     "output_type": "execute_result"
    }
   ],
   "source": [
    "[snowball.stem(w) for w in words][0:20]"
   ]
  },
  {
   "cell_type": "markdown",
   "metadata": {},
   "source": [
    "## Lemmatizer\n",
    "- Zurückführen des Textes zu \"Wörterbuchdefinitionen\""
   ]
  },
  {
   "cell_type": "code",
   "execution_count": 22,
   "metadata": {},
   "outputs": [],
   "source": [
    "text = \"Women in technologies areas are amazing at coding. Especially one woman is great, her name is Ursula Burns.\"\n",
    "words = word_tokenize(text)\n",
    "words_engl =[word.lower() for word in words if word.isalpha()]"
   ]
  },
  {
   "cell_type": "code",
   "execution_count": 23,
   "metadata": {},
   "outputs": [
    {
     "name": "stderr",
     "output_type": "stream",
     "text": [
      "[nltk_data] Downloading package wordnet to\n",
      "[nltk_data]     C:\\Users\\Zoe\\AppData\\Roaming\\nltk_data...\n",
      "[nltk_data]   Unzipping corpora\\wordnet.zip.\n"
     ]
    },
    {
     "data": {
      "text/plain": [
       "['woman',\n",
       " 'in',\n",
       " 'technology',\n",
       " 'area',\n",
       " 'are',\n",
       " 'amazing',\n",
       " 'at',\n",
       " 'coding',\n",
       " 'especially',\n",
       " 'one',\n",
       " 'woman',\n",
       " 'is',\n",
       " 'great',\n",
       " 'her',\n",
       " 'name',\n",
       " 'is',\n",
       " 'ursula',\n",
       " 'burn']"
      ]
     },
     "execution_count": 23,
     "metadata": {},
     "output_type": "execute_result"
    }
   ],
   "source": [
    "nltk.download('wordnet')\n",
    "from nltk import WordNetLemmatizer\n",
    "\n",
    "lemma = nltk.WordNetLemmatizer() \n",
    "lemmas = [lemma.lemmatize(i) for i in words_engl]\n",
    "lemmas[0:20]"
   ]
  },
  {
   "cell_type": "markdown",
   "metadata": {},
   "source": [
    "### Lematizer Deutsch NLTK\n",
    "- Geht leider nicht für deusch :( in nltk"
   ]
  },
  {
   "cell_type": "code",
   "execution_count": 24,
   "metadata": {},
   "outputs": [],
   "source": [
    "party_text = '''\n",
    "Kurz vor 22.00 Uhr sind Polizisten der Stadtpolizei in alle Richtungen aber vor allem in Richtung Kreis 9 ausgerückt. Grund war eine Meldung zu einer privaten Party an der Aargauerstrasse, die angeblich ausser Kontrolle geraten sei. \n",
    "'''\n",
    "#party_text = party_text.decode(\"UTF-8\")\n",
    "words = word_tokenize(party_text)\n",
    "words_german =[word.lower() for word in words if word.isalpha()]"
   ]
  },
  {
   "cell_type": "code",
   "execution_count": 25,
   "metadata": {},
   "outputs": [
    {
     "data": {
      "text/plain": [
       "['kurz',\n",
       " 'vor',\n",
       " 'uhr',\n",
       " 'sind',\n",
       " 'polizisten',\n",
       " 'der',\n",
       " 'stadtpolizei',\n",
       " 'in',\n",
       " 'alle',\n",
       " 'richtungen',\n",
       " 'aber',\n",
       " 'vor',\n",
       " 'allem',\n",
       " 'in',\n",
       " 'richtung',\n",
       " 'kreis',\n",
       " 'ausgerückt',\n",
       " 'grund',\n",
       " 'war',\n",
       " 'eine']"
      ]
     },
     "execution_count": 25,
     "metadata": {},
     "output_type": "execute_result"
    }
   ],
   "source": [
    "lemma = nltk.WordNetLemmatizer() \n",
    "lemmas = [lemma.lemmatize(i) for i in words_german]\n",
    "lemmas[0:20] #Der Text bleibt gleich. Schaffts nicht in Deutsch."
   ]
  },
  {
   "cell_type": "markdown",
   "metadata": {},
   "source": [
    "## Lemmatizer in Pattern\n",
    "- Ähnlich wie NLTK funktioniert aber auch für deutsch\n",
    "- https://www.clips.uantwerpen.be/pattern\n",
    "- ```pip install pattern```\n",
    "- Deutsche modelle kommen übrigens von der Uni Zürich https://www.zora.uzh.ch/id/eprint/28579/"
   ]
  },
  {
   "cell_type": "code",
   "execution_count": 27,
   "metadata": {},
   "outputs": [
    {
     "name": "stdout",
     "output_type": "stream",
     "text": [
      "Collecting pattern\n",
      "  Downloading https://files.pythonhosted.org/packages/1e/07/b0e61b6c818ed4b6145fe01d1c341223aa6cfbc3928538ad1f2b890924a3/Pattern-3.6.0.tar.gz (22.2MB)\n",
      "Requirement already satisfied: future in c:\\users\\zoe\\anaconda3\\lib\\site-packages (from pattern) (0.17.1)\n",
      "Collecting backports.csv (from pattern)\n",
      "  Downloading https://files.pythonhosted.org/packages/8e/26/a6bd68f13e0f38fbb643d6e497fc3462be83a0b6c4d43425c78bb51a7291/backports.csv-1.0.7-py2.py3-none-any.whl\n",
      "Collecting mysqlclient (from pattern)\n",
      "  Downloading https://files.pythonhosted.org/packages/8b/37/7054e77e9d7a4f1309671fba371b190a6991fc6919f9e08f1c4d44139fa2/mysqlclient-1.4.5-cp37-cp37m-win_amd64.whl (262kB)\n",
      "Requirement already satisfied: beautifulsoup4 in c:\\users\\zoe\\anaconda3\\lib\\site-packages (from pattern) (4.8.0)\n",
      "Requirement already satisfied: lxml in c:\\users\\zoe\\anaconda3\\lib\\site-packages (from pattern) (4.4.1)\n",
      "Collecting feedparser (from pattern)\n",
      "  Downloading https://files.pythonhosted.org/packages/91/d8/7d37fec71ff7c9dbcdd80d2b48bcdd86d6af502156fc93846fb0102cb2c4/feedparser-5.2.1.tar.bz2 (192kB)\n",
      "Requirement already satisfied: pdfminer.six in c:\\users\\zoe\\anaconda3\\lib\\site-packages (from pattern) (20181108)\n",
      "Requirement already satisfied: numpy in c:\\users\\zoe\\anaconda3\\lib\\site-packages (from pattern) (1.16.5)\n",
      "Requirement already satisfied: scipy in c:\\users\\zoe\\anaconda3\\lib\\site-packages (from pattern) (1.3.1)\n",
      "Requirement already satisfied: nltk in c:\\users\\zoe\\anaconda3\\lib\\site-packages (from pattern) (3.4.5)\n",
      "Collecting python-docx (from pattern)\n",
      "  Downloading https://files.pythonhosted.org/packages/e4/83/c66a1934ed5ed8ab1dbb9931f1779079f8bca0f6bbc5793c06c4b5e7d671/python-docx-0.8.10.tar.gz (5.5MB)\n",
      "Collecting cherrypy (from pattern)\n",
      "  Downloading https://files.pythonhosted.org/packages/2b/50/da443d5e52de445462d0c3852549d7fa2e226375a2cb4e9464545cacddb6/CherryPy-18.4.0-py2.py3-none-any.whl (418kB)\n",
      "Requirement already satisfied: requests in c:\\users\\zoe\\anaconda3\\lib\\site-packages (from pattern) (2.22.0)\n",
      "Requirement already satisfied: soupsieve>=1.2 in c:\\users\\zoe\\anaconda3\\lib\\site-packages (from beautifulsoup4->pattern) (1.9.3)\n",
      "Requirement already satisfied: sortedcontainers in c:\\users\\zoe\\anaconda3\\lib\\site-packages (from pdfminer.six->pattern) (2.1.0)\n",
      "Requirement already satisfied: six in c:\\users\\zoe\\anaconda3\\lib\\site-packages (from pdfminer.six->pattern) (1.12.0)\n",
      "Requirement already satisfied: pycryptodome in c:\\users\\zoe\\anaconda3\\lib\\site-packages (from pdfminer.six->pattern) (3.9.0)\n",
      "Requirement already satisfied: more-itertools in c:\\users\\zoe\\anaconda3\\lib\\site-packages (from cherrypy->pattern) (7.2.0)\n",
      "Collecting cheroot>=8.2.1 (from cherrypy->pattern)\n",
      "  Downloading https://files.pythonhosted.org/packages/bf/be/51b1517c6dbf3851d44b36ff08a6e1012464149f89f74c46b29d2f76545e/cheroot-8.2.1-py2.py3-none-any.whl (79kB)\n",
      "Collecting zc.lockfile (from cherrypy->pattern)\n",
      "  Downloading https://files.pythonhosted.org/packages/6c/2a/268389776288f0f26c7272c70c36c96dcc0bdb88ab6216ea18e19df1fadd/zc.lockfile-2.0-py2.py3-none-any.whl\n",
      "Requirement already satisfied: pywin32; sys_platform == \"win32\" in c:\\users\\zoe\\anaconda3\\lib\\site-packages (from cherrypy->pattern) (223)\n",
      "Collecting portend>=2.1.1 (from cherrypy->pattern)\n",
      "  Downloading https://files.pythonhosted.org/packages/d7/79/eee70a512bffe5ceb5008f8e3326581948f50ca393c3bcb4d557e4818bd1/portend-2.6-py2.py3-none-any.whl\n",
      "Requirement already satisfied: urllib3!=1.25.0,!=1.25.1,<1.26,>=1.21.1 in c:\\users\\zoe\\anaconda3\\lib\\site-packages (from requests->pattern) (1.24.2)\n",
      "Requirement already satisfied: certifi>=2017.4.17 in c:\\users\\zoe\\anaconda3\\lib\\site-packages (from requests->pattern) (2019.9.11)\n",
      "Requirement already satisfied: chardet<3.1.0,>=3.0.2 in c:\\users\\zoe\\anaconda3\\lib\\site-packages (from requests->pattern) (3.0.4)\n",
      "Requirement already satisfied: idna<2.9,>=2.5 in c:\\users\\zoe\\anaconda3\\lib\\site-packages (from requests->pattern) (2.8)\n",
      "Collecting jaraco.functools (from cheroot>=8.2.1->cherrypy->pattern)\n",
      "  Downloading https://files.pythonhosted.org/packages/12/a4/3e7366d0f5e75dcad7be88524c8cbd0f3a9fb1db243269550981740c57fe/jaraco.functools-2.0-py2.py3-none-any.whl\n",
      "Requirement already satisfied: setuptools in c:\\users\\zoe\\anaconda3\\lib\\site-packages (from zc.lockfile->cherrypy->pattern) (41.4.0)\n",
      "Collecting tempora>=1.8 (from portend>=2.1.1->cherrypy->pattern)\n",
      "  Downloading https://files.pythonhosted.org/packages/5c/12/4c97c44e5c9d111649e363353a4ca3ece9c6cc04b11cc48540f26e42d7b9/tempora-1.14.1-py2.py3-none-any.whl\n",
      "Requirement already satisfied: pytz in c:\\users\\zoe\\anaconda3\\lib\\site-packages (from tempora>=1.8->portend>=2.1.1->cherrypy->pattern) (2019.3)\n",
      "Building wheels for collected packages: pattern, feedparser, python-docx\n",
      "  Building wheel for pattern (setup.py): started\n",
      "  Building wheel for pattern (setup.py): finished with status 'done'\n",
      "  Created wheel for pattern: filename=Pattern-3.6-cp37-none-any.whl size=22332727 sha256=4c38689b8dd7bf35b05d381e0f9c1f68da5c90fe00f0e53d1af7adb623516efa\n",
      "  Stored in directory: C:\\Users\\Zoe\\AppData\\Local\\pip\\Cache\\wheels\\dc\\9a\\0e\\5fb1a603ed4e3aa8722a88e9cf4a82da7d1b63e3d2cc34bee5\n",
      "  Building wheel for feedparser (setup.py): started\n",
      "  Building wheel for feedparser (setup.py): finished with status 'done'\n",
      "  Created wheel for feedparser: filename=feedparser-5.2.1-cp37-none-any.whl size=44944 sha256=93aaf2020a540aeee6d2a1584240a8ddd4444fc3f160d7b48d99d1042e42be16\n",
      "  Stored in directory: C:\\Users\\Zoe\\AppData\\Local\\pip\\Cache\\wheels\\8c\\69\\b7\\f52763c41c5471df57703a0ef718a32a5e81ee35dcf6d4f97f\n",
      "  Building wheel for python-docx (setup.py): started\n",
      "  Building wheel for python-docx (setup.py): finished with status 'done'\n",
      "  Created wheel for python-docx: filename=python_docx-0.8.10-cp37-none-any.whl size=184496 sha256=74c124a3d6a59c3edea303f6739968584ac1a223c3d449897d76206a5b61b48c\n",
      "  Stored in directory: C:\\Users\\Zoe\\AppData\\Local\\pip\\Cache\\wheels\\18\\0b\\a0\\1dd62ff812c857c9e487f27d80d53d2b40531bec1acecfa47b\n",
      "Successfully built pattern feedparser python-docx\n",
      "Installing collected packages: backports.csv, mysqlclient, feedparser, python-docx, jaraco.functools, cheroot, zc.lockfile, tempora, portend, cherrypy, pattern\n",
      "Successfully installed backports.csv-1.0.7 cheroot-8.2.1 cherrypy-18.4.0 feedparser-5.2.1 jaraco.functools-2.0 mysqlclient-1.4.5 pattern-3.6 portend-2.6 python-docx-0.8.10 tempora-1.14.1 zc.lockfile-2.0\n"
     ]
    }
   ],
   "source": [
    "!pip install pattern"
   ]
  },
  {
   "cell_type": "code",
   "execution_count": 28,
   "metadata": {},
   "outputs": [],
   "source": [
    "from pattern.de import parse"
   ]
  },
  {
   "cell_type": "code",
   "execution_count": 29,
   "metadata": {},
   "outputs": [
    {
     "ename": "RuntimeError",
     "evalue": "generator raised StopIteration",
     "output_type": "error",
     "traceback": [
      "\u001b[1;31m---------------------------------------------------------------------------\u001b[0m",
      "\u001b[1;31mStopIteration\u001b[0m                             Traceback (most recent call last)",
      "\u001b[1;32m~\\Anaconda3\\lib\\site-packages\\pattern\\text\\__init__.py\u001b[0m in \u001b[0;36m_read\u001b[1;34m(path, encoding, comment)\u001b[0m\n\u001b[0;32m    608\u001b[0m             \u001b[1;32myield\u001b[0m \u001b[0mline\u001b[0m\u001b[1;33m\u001b[0m\u001b[1;33m\u001b[0m\u001b[0m\n\u001b[1;32m--> 609\u001b[1;33m     \u001b[1;32mraise\u001b[0m \u001b[0mStopIteration\u001b[0m\u001b[1;33m\u001b[0m\u001b[1;33m\u001b[0m\u001b[0m\n\u001b[0m\u001b[0;32m    610\u001b[0m \u001b[1;33m\u001b[0m\u001b[0m\n",
      "\u001b[1;31mStopIteration\u001b[0m: ",
      "\nThe above exception was the direct cause of the following exception:\n",
      "\u001b[1;31mRuntimeError\u001b[0m                              Traceback (most recent call last)",
      "\u001b[1;32m<ipython-input-29-09a2be76bac3>\u001b[0m in \u001b[0;36m<module>\u001b[1;34m\u001b[0m\n\u001b[0;32m      1\u001b[0m \u001b[0mtext\u001b[0m \u001b[1;33m=\u001b[0m \u001b[1;34m\"Richtungen Richtung.\"\u001b[0m\u001b[1;33m\u001b[0m\u001b[1;33m\u001b[0m\u001b[0m\n\u001b[1;32m----> 2\u001b[1;33m \u001b[0ms\u001b[0m \u001b[1;33m=\u001b[0m \u001b[0mparse\u001b[0m\u001b[1;33m(\u001b[0m\u001b[0mtext\u001b[0m\u001b[1;33m,\u001b[0m \u001b[0mrelations\u001b[0m\u001b[1;33m=\u001b[0m\u001b[1;32mTrue\u001b[0m\u001b[1;33m,\u001b[0m \u001b[0mlemmata\u001b[0m\u001b[1;33m=\u001b[0m\u001b[1;32mTrue\u001b[0m\u001b[1;33m)\u001b[0m\u001b[1;33m\u001b[0m\u001b[1;33m\u001b[0m\u001b[0m\n\u001b[0m\u001b[0;32m      3\u001b[0m \u001b[0ms\u001b[0m\u001b[1;33m\u001b[0m\u001b[1;33m\u001b[0m\u001b[0m\n",
      "\u001b[1;32m~\\Anaconda3\\lib\\site-packages\\pattern\\text\\de\\__init__.py\u001b[0m in \u001b[0;36mparse\u001b[1;34m(s, *args, **kwargs)\u001b[0m\n\u001b[0;32m    255\u001b[0m     \"\"\" Returns a tagged Unicode string.\n\u001b[0;32m    256\u001b[0m     \"\"\"\n\u001b[1;32m--> 257\u001b[1;33m     \u001b[1;32mreturn\u001b[0m \u001b[0mparser\u001b[0m\u001b[1;33m.\u001b[0m\u001b[0mparse\u001b[0m\u001b[1;33m(\u001b[0m\u001b[0ms\u001b[0m\u001b[1;33m,\u001b[0m \u001b[1;33m*\u001b[0m\u001b[0margs\u001b[0m\u001b[1;33m,\u001b[0m \u001b[1;33m**\u001b[0m\u001b[0mkwargs\u001b[0m\u001b[1;33m)\u001b[0m\u001b[1;33m\u001b[0m\u001b[1;33m\u001b[0m\u001b[0m\n\u001b[0m\u001b[0;32m    258\u001b[0m \u001b[1;33m\u001b[0m\u001b[0m\n\u001b[0;32m    259\u001b[0m \u001b[1;33m\u001b[0m\u001b[0m\n",
      "\u001b[1;32m~\\Anaconda3\\lib\\site-packages\\pattern\\text\\__init__.py\u001b[0m in \u001b[0;36mparse\u001b[1;34m(self, s, tokenize, tags, chunks, relations, lemmata, encoding, **kwargs)\u001b[0m\n\u001b[0;32m   1170\u001b[0m             \u001b[1;31m# Tagger (required by chunker, labeler & lemmatizer).\u001b[0m\u001b[1;33m\u001b[0m\u001b[1;33m\u001b[0m\u001b[1;33m\u001b[0m\u001b[0m\n\u001b[0;32m   1171\u001b[0m             \u001b[1;32mif\u001b[0m \u001b[0mtags\u001b[0m \u001b[1;32mor\u001b[0m \u001b[0mchunks\u001b[0m \u001b[1;32mor\u001b[0m \u001b[0mrelations\u001b[0m \u001b[1;32mor\u001b[0m \u001b[0mlemmata\u001b[0m\u001b[1;33m:\u001b[0m\u001b[1;33m\u001b[0m\u001b[1;33m\u001b[0m\u001b[0m\n\u001b[1;32m-> 1172\u001b[1;33m                 \u001b[0ms\u001b[0m\u001b[1;33m[\u001b[0m\u001b[0mi\u001b[0m\u001b[1;33m]\u001b[0m \u001b[1;33m=\u001b[0m \u001b[0mself\u001b[0m\u001b[1;33m.\u001b[0m\u001b[0mfind_tags\u001b[0m\u001b[1;33m(\u001b[0m\u001b[0ms\u001b[0m\u001b[1;33m[\u001b[0m\u001b[0mi\u001b[0m\u001b[1;33m]\u001b[0m\u001b[1;33m,\u001b[0m \u001b[1;33m**\u001b[0m\u001b[0mkwargs\u001b[0m\u001b[1;33m)\u001b[0m\u001b[1;33m\u001b[0m\u001b[1;33m\u001b[0m\u001b[0m\n\u001b[0m\u001b[0;32m   1173\u001b[0m             \u001b[1;32melse\u001b[0m\u001b[1;33m:\u001b[0m\u001b[1;33m\u001b[0m\u001b[1;33m\u001b[0m\u001b[0m\n\u001b[0;32m   1174\u001b[0m                 \u001b[0ms\u001b[0m\u001b[1;33m[\u001b[0m\u001b[0mi\u001b[0m\u001b[1;33m]\u001b[0m \u001b[1;33m=\u001b[0m \u001b[1;33m[\u001b[0m\u001b[1;33m[\u001b[0m\u001b[0mw\u001b[0m\u001b[1;33m]\u001b[0m \u001b[1;32mfor\u001b[0m \u001b[0mw\u001b[0m \u001b[1;32min\u001b[0m \u001b[0ms\u001b[0m\u001b[1;33m[\u001b[0m\u001b[0mi\u001b[0m\u001b[1;33m]\u001b[0m\u001b[1;33m]\u001b[0m\u001b[1;33m\u001b[0m\u001b[1;33m\u001b[0m\u001b[0m\n",
      "\u001b[1;32m~\\Anaconda3\\lib\\site-packages\\pattern\\text\\de\\__init__.py\u001b[0m in \u001b[0;36mfind_tags\u001b[1;34m(self, tokens, **kwargs)\u001b[0m\n\u001b[0;32m    227\u001b[0m         \u001b[1;31m# We restore the \"ß\" after parsing.\u001b[0m\u001b[1;33m\u001b[0m\u001b[1;33m\u001b[0m\u001b[1;33m\u001b[0m\u001b[0m\n\u001b[0;32m    228\u001b[0m         \u001b[0mtokens_ss\u001b[0m \u001b[1;33m=\u001b[0m \u001b[1;33m[\u001b[0m\u001b[0mt\u001b[0m\u001b[1;33m.\u001b[0m\u001b[0mreplace\u001b[0m\u001b[1;33m(\u001b[0m\u001b[1;34m\"ß\"\u001b[0m\u001b[1;33m,\u001b[0m \u001b[1;34m\"ss\"\u001b[0m\u001b[1;33m)\u001b[0m \u001b[1;32mfor\u001b[0m \u001b[0mt\u001b[0m \u001b[1;32min\u001b[0m \u001b[0mtokens\u001b[0m\u001b[1;33m]\u001b[0m\u001b[1;33m\u001b[0m\u001b[1;33m\u001b[0m\u001b[0m\n\u001b[1;32m--> 229\u001b[1;33m         \u001b[0mtokens_ss\u001b[0m \u001b[1;33m=\u001b[0m \u001b[0m_Parser\u001b[0m\u001b[1;33m.\u001b[0m\u001b[0mfind_tags\u001b[0m\u001b[1;33m(\u001b[0m\u001b[0mself\u001b[0m\u001b[1;33m,\u001b[0m \u001b[0mtokens_ss\u001b[0m\u001b[1;33m,\u001b[0m \u001b[1;33m**\u001b[0m\u001b[0mkwargs\u001b[0m\u001b[1;33m)\u001b[0m\u001b[1;33m\u001b[0m\u001b[1;33m\u001b[0m\u001b[0m\n\u001b[0m\u001b[0;32m    230\u001b[0m         \u001b[1;32mreturn\u001b[0m \u001b[1;33m[\u001b[0m\u001b[1;33m[\u001b[0m\u001b[0mw\u001b[0m\u001b[1;33m]\u001b[0m \u001b[1;33m+\u001b[0m \u001b[0mtokens_ss\u001b[0m\u001b[1;33m[\u001b[0m\u001b[0mi\u001b[0m\u001b[1;33m]\u001b[0m\u001b[1;33m[\u001b[0m\u001b[1;36m1\u001b[0m\u001b[1;33m:\u001b[0m\u001b[1;33m]\u001b[0m \u001b[1;32mfor\u001b[0m \u001b[0mi\u001b[0m\u001b[1;33m,\u001b[0m \u001b[0mw\u001b[0m \u001b[1;32min\u001b[0m \u001b[0menumerate\u001b[0m\u001b[1;33m(\u001b[0m\u001b[0mtokens\u001b[0m\u001b[1;33m)\u001b[0m\u001b[1;33m]\u001b[0m\u001b[1;33m\u001b[0m\u001b[1;33m\u001b[0m\u001b[0m\n\u001b[0;32m    231\u001b[0m \u001b[1;33m\u001b[0m\u001b[0m\n",
      "\u001b[1;32m~\\Anaconda3\\lib\\site-packages\\pattern\\text\\__init__.py\u001b[0m in \u001b[0;36mfind_tags\u001b[1;34m(self, tokens, **kwargs)\u001b[0m\n\u001b[0;32m   1111\u001b[0m         \u001b[1;31m# [\"The\", \"cat\", \"purs\"] => [[\"The\", \"DT\"], [\"cat\", \"NN\"], [\"purs\", \"VB\"]]\u001b[0m\u001b[1;33m\u001b[0m\u001b[1;33m\u001b[0m\u001b[1;33m\u001b[0m\u001b[0m\n\u001b[0;32m   1112\u001b[0m         return find_tags(tokens,\n\u001b[1;32m-> 1113\u001b[1;33m                     \u001b[0mlexicon\u001b[0m \u001b[1;33m=\u001b[0m \u001b[0mkwargs\u001b[0m\u001b[1;33m.\u001b[0m\u001b[0mget\u001b[0m\u001b[1;33m(\u001b[0m\u001b[1;34m\"lexicon\"\u001b[0m\u001b[1;33m,\u001b[0m \u001b[0mself\u001b[0m\u001b[1;33m.\u001b[0m\u001b[0mlexicon\u001b[0m \u001b[1;32mor\u001b[0m \u001b[1;33m{\u001b[0m\u001b[1;33m}\u001b[0m\u001b[1;33m)\u001b[0m\u001b[1;33m,\u001b[0m\u001b[1;33m\u001b[0m\u001b[1;33m\u001b[0m\u001b[0m\n\u001b[0m\u001b[0;32m   1114\u001b[0m                       \u001b[0mmodel\u001b[0m \u001b[1;33m=\u001b[0m \u001b[0mkwargs\u001b[0m\u001b[1;33m.\u001b[0m\u001b[0mget\u001b[0m\u001b[1;33m(\u001b[0m\u001b[1;34m\"model\"\u001b[0m\u001b[1;33m,\u001b[0m \u001b[0mself\u001b[0m\u001b[1;33m.\u001b[0m\u001b[0mmodel\u001b[0m\u001b[1;33m)\u001b[0m\u001b[1;33m,\u001b[0m\u001b[1;33m\u001b[0m\u001b[1;33m\u001b[0m\u001b[0m\n\u001b[0;32m   1115\u001b[0m                  \u001b[0mmorphology\u001b[0m \u001b[1;33m=\u001b[0m \u001b[0mkwargs\u001b[0m\u001b[1;33m.\u001b[0m\u001b[0mget\u001b[0m\u001b[1;33m(\u001b[0m\u001b[1;34m\"morphology\"\u001b[0m\u001b[1;33m,\u001b[0m \u001b[0mself\u001b[0m\u001b[1;33m.\u001b[0m\u001b[0mmorphology\u001b[0m\u001b[1;33m)\u001b[0m\u001b[1;33m,\u001b[0m\u001b[1;33m\u001b[0m\u001b[1;33m\u001b[0m\u001b[0m\n",
      "\u001b[1;32m~\\Anaconda3\\lib\\site-packages\\pattern\\text\\__init__.py\u001b[0m in \u001b[0;36m__len__\u001b[1;34m(self)\u001b[0m\n\u001b[0;32m    374\u001b[0m \u001b[1;33m\u001b[0m\u001b[0m\n\u001b[0;32m    375\u001b[0m     \u001b[1;32mdef\u001b[0m \u001b[0m__len__\u001b[0m\u001b[1;33m(\u001b[0m\u001b[0mself\u001b[0m\u001b[1;33m)\u001b[0m\u001b[1;33m:\u001b[0m\u001b[1;33m\u001b[0m\u001b[1;33m\u001b[0m\u001b[0m\n\u001b[1;32m--> 376\u001b[1;33m         \u001b[1;32mreturn\u001b[0m \u001b[0mself\u001b[0m\u001b[1;33m.\u001b[0m\u001b[0m_lazy\u001b[0m\u001b[1;33m(\u001b[0m\u001b[1;34m\"__len__\"\u001b[0m\u001b[1;33m)\u001b[0m\u001b[1;33m\u001b[0m\u001b[1;33m\u001b[0m\u001b[0m\n\u001b[0m\u001b[0;32m    377\u001b[0m \u001b[1;33m\u001b[0m\u001b[0m\n\u001b[0;32m    378\u001b[0m     \u001b[1;32mdef\u001b[0m \u001b[0m__iter__\u001b[0m\u001b[1;33m(\u001b[0m\u001b[0mself\u001b[0m\u001b[1;33m)\u001b[0m\u001b[1;33m:\u001b[0m\u001b[1;33m\u001b[0m\u001b[1;33m\u001b[0m\u001b[0m\n",
      "\u001b[1;32m~\\Anaconda3\\lib\\site-packages\\pattern\\text\\__init__.py\u001b[0m in \u001b[0;36m_lazy\u001b[1;34m(self, method, *args)\u001b[0m\n\u001b[0;32m    366\u001b[0m         \"\"\"\n\u001b[0;32m    367\u001b[0m         \u001b[1;32mif\u001b[0m \u001b[0mdict\u001b[0m\u001b[1;33m.\u001b[0m\u001b[0m__len__\u001b[0m\u001b[1;33m(\u001b[0m\u001b[0mself\u001b[0m\u001b[1;33m)\u001b[0m \u001b[1;33m==\u001b[0m \u001b[1;36m0\u001b[0m\u001b[1;33m:\u001b[0m\u001b[1;33m\u001b[0m\u001b[1;33m\u001b[0m\u001b[0m\n\u001b[1;32m--> 368\u001b[1;33m             \u001b[0mself\u001b[0m\u001b[1;33m.\u001b[0m\u001b[0mload\u001b[0m\u001b[1;33m(\u001b[0m\u001b[1;33m)\u001b[0m\u001b[1;33m\u001b[0m\u001b[1;33m\u001b[0m\u001b[0m\n\u001b[0m\u001b[0;32m    369\u001b[0m             \u001b[0msetattr\u001b[0m\u001b[1;33m(\u001b[0m\u001b[0mself\u001b[0m\u001b[1;33m,\u001b[0m \u001b[0mmethod\u001b[0m\u001b[1;33m,\u001b[0m \u001b[0mtypes\u001b[0m\u001b[1;33m.\u001b[0m\u001b[0mMethodType\u001b[0m\u001b[1;33m(\u001b[0m\u001b[0mgetattr\u001b[0m\u001b[1;33m(\u001b[0m\u001b[0mdict\u001b[0m\u001b[1;33m,\u001b[0m \u001b[0mmethod\u001b[0m\u001b[1;33m)\u001b[0m\u001b[1;33m,\u001b[0m \u001b[0mself\u001b[0m\u001b[1;33m)\u001b[0m\u001b[1;33m)\u001b[0m\u001b[1;33m\u001b[0m\u001b[1;33m\u001b[0m\u001b[0m\n\u001b[0;32m    370\u001b[0m         \u001b[1;32mreturn\u001b[0m \u001b[0mgetattr\u001b[0m\u001b[1;33m(\u001b[0m\u001b[0mdict\u001b[0m\u001b[1;33m,\u001b[0m \u001b[0mmethod\u001b[0m\u001b[1;33m)\u001b[0m\u001b[1;33m(\u001b[0m\u001b[0mself\u001b[0m\u001b[1;33m,\u001b[0m \u001b[1;33m*\u001b[0m\u001b[0margs\u001b[0m\u001b[1;33m)\u001b[0m\u001b[1;33m\u001b[0m\u001b[1;33m\u001b[0m\u001b[0m\n",
      "\u001b[1;32m~\\Anaconda3\\lib\\site-packages\\pattern\\text\\__init__.py\u001b[0m in \u001b[0;36mload\u001b[1;34m(self)\u001b[0m\n\u001b[0;32m    623\u001b[0m     \u001b[1;32mdef\u001b[0m \u001b[0mload\u001b[0m\u001b[1;33m(\u001b[0m\u001b[0mself\u001b[0m\u001b[1;33m)\u001b[0m\u001b[1;33m:\u001b[0m\u001b[1;33m\u001b[0m\u001b[1;33m\u001b[0m\u001b[0m\n\u001b[0;32m    624\u001b[0m         \u001b[1;31m# Arnold NNP x\u001b[0m\u001b[1;33m\u001b[0m\u001b[1;33m\u001b[0m\u001b[1;33m\u001b[0m\u001b[0m\n\u001b[1;32m--> 625\u001b[1;33m         \u001b[0mdict\u001b[0m\u001b[1;33m.\u001b[0m\u001b[0mupdate\u001b[0m\u001b[1;33m(\u001b[0m\u001b[0mself\u001b[0m\u001b[1;33m,\u001b[0m \u001b[1;33m(\u001b[0m\u001b[0mx\u001b[0m\u001b[1;33m.\u001b[0m\u001b[0msplit\u001b[0m\u001b[1;33m(\u001b[0m\u001b[1;34m\" \"\u001b[0m\u001b[1;33m)\u001b[0m\u001b[1;33m[\u001b[0m\u001b[1;33m:\u001b[0m\u001b[1;36m2\u001b[0m\u001b[1;33m]\u001b[0m \u001b[1;32mfor\u001b[0m \u001b[0mx\u001b[0m \u001b[1;32min\u001b[0m \u001b[0m_read\u001b[0m\u001b[1;33m(\u001b[0m\u001b[0mself\u001b[0m\u001b[1;33m.\u001b[0m\u001b[0m_path\u001b[0m\u001b[1;33m)\u001b[0m \u001b[1;32mif\u001b[0m \u001b[0mlen\u001b[0m\u001b[1;33m(\u001b[0m\u001b[0mx\u001b[0m\u001b[1;33m.\u001b[0m\u001b[0msplit\u001b[0m\u001b[1;33m(\u001b[0m\u001b[1;34m\" \"\u001b[0m\u001b[1;33m)\u001b[0m\u001b[1;33m)\u001b[0m \u001b[1;33m>\u001b[0m \u001b[1;36m1\u001b[0m\u001b[1;33m)\u001b[0m\u001b[1;33m)\u001b[0m\u001b[1;33m\u001b[0m\u001b[1;33m\u001b[0m\u001b[0m\n\u001b[0m\u001b[0;32m    626\u001b[0m \u001b[1;33m\u001b[0m\u001b[0m\n\u001b[0;32m    627\u001b[0m \u001b[1;31m#--- FREQUENCY -------------------------------------------------------------------------------------\u001b[0m\u001b[1;33m\u001b[0m\u001b[1;33m\u001b[0m\u001b[1;33m\u001b[0m\u001b[0m\n",
      "\u001b[1;32m~\\Anaconda3\\lib\\site-packages\\pattern\\text\\__init__.py\u001b[0m in \u001b[0;36m<genexpr>\u001b[1;34m(.0)\u001b[0m\n\u001b[0;32m    623\u001b[0m     \u001b[1;32mdef\u001b[0m \u001b[0mload\u001b[0m\u001b[1;33m(\u001b[0m\u001b[0mself\u001b[0m\u001b[1;33m)\u001b[0m\u001b[1;33m:\u001b[0m\u001b[1;33m\u001b[0m\u001b[1;33m\u001b[0m\u001b[0m\n\u001b[0;32m    624\u001b[0m         \u001b[1;31m# Arnold NNP x\u001b[0m\u001b[1;33m\u001b[0m\u001b[1;33m\u001b[0m\u001b[1;33m\u001b[0m\u001b[0m\n\u001b[1;32m--> 625\u001b[1;33m         \u001b[0mdict\u001b[0m\u001b[1;33m.\u001b[0m\u001b[0mupdate\u001b[0m\u001b[1;33m(\u001b[0m\u001b[0mself\u001b[0m\u001b[1;33m,\u001b[0m \u001b[1;33m(\u001b[0m\u001b[0mx\u001b[0m\u001b[1;33m.\u001b[0m\u001b[0msplit\u001b[0m\u001b[1;33m(\u001b[0m\u001b[1;34m\" \"\u001b[0m\u001b[1;33m)\u001b[0m\u001b[1;33m[\u001b[0m\u001b[1;33m:\u001b[0m\u001b[1;36m2\u001b[0m\u001b[1;33m]\u001b[0m \u001b[1;32mfor\u001b[0m \u001b[0mx\u001b[0m \u001b[1;32min\u001b[0m \u001b[0m_read\u001b[0m\u001b[1;33m(\u001b[0m\u001b[0mself\u001b[0m\u001b[1;33m.\u001b[0m\u001b[0m_path\u001b[0m\u001b[1;33m)\u001b[0m \u001b[1;32mif\u001b[0m \u001b[0mlen\u001b[0m\u001b[1;33m(\u001b[0m\u001b[0mx\u001b[0m\u001b[1;33m.\u001b[0m\u001b[0msplit\u001b[0m\u001b[1;33m(\u001b[0m\u001b[1;34m\" \"\u001b[0m\u001b[1;33m)\u001b[0m\u001b[1;33m)\u001b[0m \u001b[1;33m>\u001b[0m \u001b[1;36m1\u001b[0m\u001b[1;33m)\u001b[0m\u001b[1;33m)\u001b[0m\u001b[1;33m\u001b[0m\u001b[1;33m\u001b[0m\u001b[0m\n\u001b[0m\u001b[0;32m    626\u001b[0m \u001b[1;33m\u001b[0m\u001b[0m\n\u001b[0;32m    627\u001b[0m \u001b[1;31m#--- FREQUENCY -------------------------------------------------------------------------------------\u001b[0m\u001b[1;33m\u001b[0m\u001b[1;33m\u001b[0m\u001b[1;33m\u001b[0m\u001b[0m\n",
      "\u001b[1;31mRuntimeError\u001b[0m: generator raised StopIteration"
     ]
    }
   ],
   "source": [
    "text = \"Richtungen Richtung.\"\n",
    "s = parse(text, relations=True, lemmata=True)\n",
    "s"
   ]
  },
  {
   "cell_type": "code",
   "execution_count": 53,
   "metadata": {},
   "outputs": [
    {
     "data": {
      "text/plain": [
       "['kurz',\n",
       " 'vor',\n",
       " '22.00',\n",
       " 'uhr',\n",
       " 'sein',\n",
       " 'polizist',\n",
       " 'der',\n",
       " 'stadtpolizei',\n",
       " 'in',\n",
       " 'all',\n",
       " 'richtungen',\n",
       " 'aber',\n",
       " 'vor',\n",
       " 'in',\n",
       " 'richtung',\n",
       " 'kreis',\n",
       " '9',\n",
       " 'ausger\\xfcckt',\n",
       " 'grund',\n",
       " 'sein']"
      ]
     },
     "execution_count": 53,
     "metadata": {},
     "output_type": "execute_result"
    }
   ],
   "source": [
    "lemmata = []\n",
    "from pattern.de import parsetree\n",
    "s = parsetree(party_text,relations=True, lemmata=True) \n",
    "for sentence in s: \n",
    "    for chunk in sentence.chunks:\n",
    "        for word in chunk.words:\n",
    "            #print(\"%s (%s)\" %(word,word.lemma))\n",
    "            lemmata.append(word.lemma)\n",
    "lemmata[0:20]"
   ]
  },
  {
   "cell_type": "markdown",
   "metadata": {},
   "source": [
    "## Lemmatizer in Textblob\n",
    " - https://textblob.readthedocs.io/en/dev/quickstart.html\n",
    " - ```pip install -U textblob```\n",
    " - ```pip install -U textblob-de```\n",
    " - https://github.com/markuskiller/textblob-de"
   ]
  },
  {
   "cell_type": "code",
   "execution_count": 30,
   "metadata": {},
   "outputs": [
    {
     "name": "stdout",
     "output_type": "stream",
     "text": [
      "Collecting textblob\n",
      "  Downloading https://files.pythonhosted.org/packages/60/f0/1d9bfcc8ee6b83472ec571406bd0dd51c0e6330ff1a51b2d29861d389e85/textblob-0.15.3-py2.py3-none-any.whl (636kB)\n",
      "Requirement already satisfied, skipping upgrade: nltk>=3.1 in c:\\users\\zoe\\anaconda3\\lib\\site-packages (from textblob) (3.4.5)\n",
      "Requirement already satisfied, skipping upgrade: six in c:\\users\\zoe\\anaconda3\\lib\\site-packages (from nltk>=3.1->textblob) (1.12.0)\n",
      "Installing collected packages: textblob\n",
      "Successfully installed textblob-0.15.3\n",
      "Collecting textblob-de\n",
      "  Downloading https://files.pythonhosted.org/packages/47/61/7a5759c3ac60bf9330a50ce81ebe7f0aac1bc6c674d45e00f7b3e190f5af/textblob_de-0.4.3-py2.py3-none-any.whl (468kB)\n",
      "Requirement already satisfied, skipping upgrade: textblob>=0.9.0 in c:\\users\\zoe\\anaconda3\\lib\\site-packages (from textblob-de) (0.15.3)\n",
      "Requirement already satisfied, skipping upgrade: nltk>=3.1 in c:\\users\\zoe\\anaconda3\\lib\\site-packages (from textblob>=0.9.0->textblob-de) (3.4.5)\n",
      "Requirement already satisfied, skipping upgrade: six in c:\\users\\zoe\\anaconda3\\lib\\site-packages (from nltk>=3.1->textblob>=0.9.0->textblob-de) (1.12.0)\n",
      "Installing collected packages: textblob-de\n",
      "Successfully installed textblob-de-0.4.3\n"
     ]
    }
   ],
   "source": [
    "!pip install -U textblob\n",
    "!pip install -U textblob-de"
   ]
  },
  {
   "cell_type": "code",
   "execution_count": 31,
   "metadata": {},
   "outputs": [
    {
     "ename": "RuntimeError",
     "evalue": "generator raised StopIteration",
     "output_type": "error",
     "traceback": [
      "\u001b[1;31m---------------------------------------------------------------------------\u001b[0m",
      "\u001b[1;31mStopIteration\u001b[0m                             Traceback (most recent call last)",
      "\u001b[1;32m~\\Anaconda3\\lib\\site-packages\\pattern\\text\\__init__.py\u001b[0m in \u001b[0;36m_read\u001b[1;34m(path, encoding, comment)\u001b[0m\n\u001b[0;32m    608\u001b[0m             \u001b[1;32myield\u001b[0m \u001b[0mline\u001b[0m\u001b[1;33m\u001b[0m\u001b[1;33m\u001b[0m\u001b[0m\n\u001b[1;32m--> 609\u001b[1;33m     \u001b[1;32mraise\u001b[0m \u001b[0mStopIteration\u001b[0m\u001b[1;33m\u001b[0m\u001b[1;33m\u001b[0m\u001b[0m\n\u001b[0m\u001b[0;32m    610\u001b[0m \u001b[1;33m\u001b[0m\u001b[0m\n",
      "\u001b[1;31mStopIteration\u001b[0m: ",
      "\nThe above exception was the direct cause of the following exception:\n",
      "\u001b[1;31mRuntimeError\u001b[0m                              Traceback (most recent call last)",
      "\u001b[1;32m<ipython-input-31-cf055c4090b7>\u001b[0m in \u001b[0;36m<module>\u001b[1;34m\u001b[0m\n\u001b[0;32m      6\u001b[0m \u001b[1;32mfrom\u001b[0m \u001b[0mtextblob_de\u001b[0m \u001b[1;32mimport\u001b[0m \u001b[0mPatternParser\u001b[0m\u001b[1;33m\u001b[0m\u001b[1;33m\u001b[0m\u001b[0m\n\u001b[0;32m      7\u001b[0m \u001b[0mblob\u001b[0m \u001b[1;33m=\u001b[0m \u001b[0mTextBlobDE\u001b[0m\u001b[1;33m(\u001b[0m\u001b[0mparty_text\u001b[0m\u001b[1;33m,\u001b[0m \u001b[0mparser\u001b[0m\u001b[1;33m=\u001b[0m\u001b[0mPatternParser\u001b[0m\u001b[1;33m(\u001b[0m\u001b[0mpprint\u001b[0m\u001b[1;33m=\u001b[0m\u001b[1;32mFalse\u001b[0m\u001b[1;33m,\u001b[0m \u001b[0mlemmata\u001b[0m\u001b[1;33m=\u001b[0m\u001b[1;32mTrue\u001b[0m\u001b[1;33m)\u001b[0m\u001b[1;33m)\u001b[0m\u001b[1;33m\u001b[0m\u001b[1;33m\u001b[0m\u001b[0m\n\u001b[1;32m----> 8\u001b[1;33m \u001b[0mblob\u001b[0m\u001b[1;33m.\u001b[0m\u001b[0mparse\u001b[0m\u001b[1;33m(\u001b[0m\u001b[1;33m)\u001b[0m\u001b[1;33m\u001b[0m\u001b[1;33m\u001b[0m\u001b[0m\n\u001b[0m\u001b[0;32m      9\u001b[0m \u001b[0mlist\u001b[0m\u001b[1;33m(\u001b[0m\u001b[0mblob\u001b[0m\u001b[1;33m.\u001b[0m\u001b[0mwords\u001b[0m\u001b[1;33m.\u001b[0m\u001b[0mlemmatize\u001b[0m\u001b[1;33m(\u001b[0m\u001b[1;33m)\u001b[0m\u001b[1;33m)\u001b[0m\u001b[1;33m[\u001b[0m\u001b[1;36m0\u001b[0m\u001b[1;33m:\u001b[0m\u001b[1;36m20\u001b[0m\u001b[1;33m]\u001b[0m\u001b[1;33m\u001b[0m\u001b[1;33m\u001b[0m\u001b[0m\n",
      "\u001b[1;32m~\\Anaconda3\\lib\\site-packages\\textblob\\blob.py\u001b[0m in \u001b[0;36mparse\u001b[1;34m(self, parser)\u001b[0m\n\u001b[0;32m    413\u001b[0m         \"\"\"\n\u001b[0;32m    414\u001b[0m         \u001b[0mp\u001b[0m \u001b[1;33m=\u001b[0m \u001b[0mparser\u001b[0m \u001b[1;32mif\u001b[0m \u001b[0mparser\u001b[0m \u001b[1;32mis\u001b[0m \u001b[1;32mnot\u001b[0m \u001b[1;32mNone\u001b[0m \u001b[1;32melse\u001b[0m \u001b[0mself\u001b[0m\u001b[1;33m.\u001b[0m\u001b[0mparser\u001b[0m\u001b[1;33m\u001b[0m\u001b[1;33m\u001b[0m\u001b[0m\n\u001b[1;32m--> 415\u001b[1;33m         \u001b[1;32mreturn\u001b[0m \u001b[0mp\u001b[0m\u001b[1;33m.\u001b[0m\u001b[0mparse\u001b[0m\u001b[1;33m(\u001b[0m\u001b[0mself\u001b[0m\u001b[1;33m.\u001b[0m\u001b[0mraw\u001b[0m\u001b[1;33m)\u001b[0m\u001b[1;33m\u001b[0m\u001b[1;33m\u001b[0m\u001b[0m\n\u001b[0m\u001b[0;32m    416\u001b[0m \u001b[1;33m\u001b[0m\u001b[0m\n\u001b[0;32m    417\u001b[0m     \u001b[1;32mdef\u001b[0m \u001b[0mclassify\u001b[0m\u001b[1;33m(\u001b[0m\u001b[0mself\u001b[0m\u001b[1;33m)\u001b[0m\u001b[1;33m:\u001b[0m\u001b[1;33m\u001b[0m\u001b[1;33m\u001b[0m\u001b[0m\n",
      "\u001b[1;32m~\\Anaconda3\\lib\\site-packages\\textblob_de\\parsers.py\u001b[0m in \u001b[0;36mparse\u001b[1;34m(self, text)\u001b[0m\n\u001b[0;32m    110\u001b[0m                                 \u001b[0mtags\u001b[0m\u001b[1;33m=\u001b[0m\u001b[0mself\u001b[0m\u001b[1;33m.\u001b[0m\u001b[0mtags\u001b[0m\u001b[1;33m,\u001b[0m \u001b[0mchunks\u001b[0m\u001b[1;33m=\u001b[0m\u001b[0mself\u001b[0m\u001b[1;33m.\u001b[0m\u001b[0mchunks\u001b[0m\u001b[1;33m,\u001b[0m\u001b[1;33m\u001b[0m\u001b[1;33m\u001b[0m\u001b[0m\n\u001b[0;32m    111\u001b[0m                                 \u001b[0mrelations\u001b[0m\u001b[1;33m=\u001b[0m\u001b[0mself\u001b[0m\u001b[1;33m.\u001b[0m\u001b[0mrelations\u001b[0m\u001b[1;33m,\u001b[0m \u001b[0mlemmata\u001b[0m\u001b[1;33m=\u001b[0m\u001b[0mself\u001b[0m\u001b[1;33m.\u001b[0m\u001b[0mlemmata\u001b[0m\u001b[1;33m,\u001b[0m\u001b[1;33m\u001b[0m\u001b[1;33m\u001b[0m\u001b[0m\n\u001b[1;32m--> 112\u001b[1;33m                                 encoding=self.encoding, tagset=self.tagset)\n\u001b[0m\u001b[0;32m    113\u001b[0m         \u001b[1;32mif\u001b[0m \u001b[0mself\u001b[0m\u001b[1;33m.\u001b[0m\u001b[0mpprint\u001b[0m\u001b[1;33m:\u001b[0m\u001b[1;33m\u001b[0m\u001b[1;33m\u001b[0m\u001b[0m\n\u001b[0;32m    114\u001b[0m             \u001b[0m_parsed\u001b[0m \u001b[1;33m=\u001b[0m \u001b[0mpattern_pprint\u001b[0m\u001b[1;33m(\u001b[0m\u001b[0m_parsed\u001b[0m\u001b[1;33m)\u001b[0m\u001b[1;33m\u001b[0m\u001b[1;33m\u001b[0m\u001b[0m\n",
      "\u001b[1;32m~\\Anaconda3\\lib\\site-packages\\pattern\\text\\de\\__init__.py\u001b[0m in \u001b[0;36mparse\u001b[1;34m(s, *args, **kwargs)\u001b[0m\n\u001b[0;32m    255\u001b[0m     \"\"\" Returns a tagged Unicode string.\n\u001b[0;32m    256\u001b[0m     \"\"\"\n\u001b[1;32m--> 257\u001b[1;33m     \u001b[1;32mreturn\u001b[0m \u001b[0mparser\u001b[0m\u001b[1;33m.\u001b[0m\u001b[0mparse\u001b[0m\u001b[1;33m(\u001b[0m\u001b[0ms\u001b[0m\u001b[1;33m,\u001b[0m \u001b[1;33m*\u001b[0m\u001b[0margs\u001b[0m\u001b[1;33m,\u001b[0m \u001b[1;33m**\u001b[0m\u001b[0mkwargs\u001b[0m\u001b[1;33m)\u001b[0m\u001b[1;33m\u001b[0m\u001b[1;33m\u001b[0m\u001b[0m\n\u001b[0m\u001b[0;32m    258\u001b[0m \u001b[1;33m\u001b[0m\u001b[0m\n\u001b[0;32m    259\u001b[0m \u001b[1;33m\u001b[0m\u001b[0m\n",
      "\u001b[1;32m~\\Anaconda3\\lib\\site-packages\\pattern\\text\\__init__.py\u001b[0m in \u001b[0;36mparse\u001b[1;34m(self, s, tokenize, tags, chunks, relations, lemmata, encoding, **kwargs)\u001b[0m\n\u001b[0;32m   1170\u001b[0m             \u001b[1;31m# Tagger (required by chunker, labeler & lemmatizer).\u001b[0m\u001b[1;33m\u001b[0m\u001b[1;33m\u001b[0m\u001b[1;33m\u001b[0m\u001b[0m\n\u001b[0;32m   1171\u001b[0m             \u001b[1;32mif\u001b[0m \u001b[0mtags\u001b[0m \u001b[1;32mor\u001b[0m \u001b[0mchunks\u001b[0m \u001b[1;32mor\u001b[0m \u001b[0mrelations\u001b[0m \u001b[1;32mor\u001b[0m \u001b[0mlemmata\u001b[0m\u001b[1;33m:\u001b[0m\u001b[1;33m\u001b[0m\u001b[1;33m\u001b[0m\u001b[0m\n\u001b[1;32m-> 1172\u001b[1;33m                 \u001b[0ms\u001b[0m\u001b[1;33m[\u001b[0m\u001b[0mi\u001b[0m\u001b[1;33m]\u001b[0m \u001b[1;33m=\u001b[0m \u001b[0mself\u001b[0m\u001b[1;33m.\u001b[0m\u001b[0mfind_tags\u001b[0m\u001b[1;33m(\u001b[0m\u001b[0ms\u001b[0m\u001b[1;33m[\u001b[0m\u001b[0mi\u001b[0m\u001b[1;33m]\u001b[0m\u001b[1;33m,\u001b[0m \u001b[1;33m**\u001b[0m\u001b[0mkwargs\u001b[0m\u001b[1;33m)\u001b[0m\u001b[1;33m\u001b[0m\u001b[1;33m\u001b[0m\u001b[0m\n\u001b[0m\u001b[0;32m   1173\u001b[0m             \u001b[1;32melse\u001b[0m\u001b[1;33m:\u001b[0m\u001b[1;33m\u001b[0m\u001b[1;33m\u001b[0m\u001b[0m\n\u001b[0;32m   1174\u001b[0m                 \u001b[0ms\u001b[0m\u001b[1;33m[\u001b[0m\u001b[0mi\u001b[0m\u001b[1;33m]\u001b[0m \u001b[1;33m=\u001b[0m \u001b[1;33m[\u001b[0m\u001b[1;33m[\u001b[0m\u001b[0mw\u001b[0m\u001b[1;33m]\u001b[0m \u001b[1;32mfor\u001b[0m \u001b[0mw\u001b[0m \u001b[1;32min\u001b[0m \u001b[0ms\u001b[0m\u001b[1;33m[\u001b[0m\u001b[0mi\u001b[0m\u001b[1;33m]\u001b[0m\u001b[1;33m]\u001b[0m\u001b[1;33m\u001b[0m\u001b[1;33m\u001b[0m\u001b[0m\n",
      "\u001b[1;32m~\\Anaconda3\\lib\\site-packages\\pattern\\text\\de\\__init__.py\u001b[0m in \u001b[0;36mfind_tags\u001b[1;34m(self, tokens, **kwargs)\u001b[0m\n\u001b[0;32m    227\u001b[0m         \u001b[1;31m# We restore the \"ß\" after parsing.\u001b[0m\u001b[1;33m\u001b[0m\u001b[1;33m\u001b[0m\u001b[1;33m\u001b[0m\u001b[0m\n\u001b[0;32m    228\u001b[0m         \u001b[0mtokens_ss\u001b[0m \u001b[1;33m=\u001b[0m \u001b[1;33m[\u001b[0m\u001b[0mt\u001b[0m\u001b[1;33m.\u001b[0m\u001b[0mreplace\u001b[0m\u001b[1;33m(\u001b[0m\u001b[1;34m\"ß\"\u001b[0m\u001b[1;33m,\u001b[0m \u001b[1;34m\"ss\"\u001b[0m\u001b[1;33m)\u001b[0m \u001b[1;32mfor\u001b[0m \u001b[0mt\u001b[0m \u001b[1;32min\u001b[0m \u001b[0mtokens\u001b[0m\u001b[1;33m]\u001b[0m\u001b[1;33m\u001b[0m\u001b[1;33m\u001b[0m\u001b[0m\n\u001b[1;32m--> 229\u001b[1;33m         \u001b[0mtokens_ss\u001b[0m \u001b[1;33m=\u001b[0m \u001b[0m_Parser\u001b[0m\u001b[1;33m.\u001b[0m\u001b[0mfind_tags\u001b[0m\u001b[1;33m(\u001b[0m\u001b[0mself\u001b[0m\u001b[1;33m,\u001b[0m \u001b[0mtokens_ss\u001b[0m\u001b[1;33m,\u001b[0m \u001b[1;33m**\u001b[0m\u001b[0mkwargs\u001b[0m\u001b[1;33m)\u001b[0m\u001b[1;33m\u001b[0m\u001b[1;33m\u001b[0m\u001b[0m\n\u001b[0m\u001b[0;32m    230\u001b[0m         \u001b[1;32mreturn\u001b[0m \u001b[1;33m[\u001b[0m\u001b[1;33m[\u001b[0m\u001b[0mw\u001b[0m\u001b[1;33m]\u001b[0m \u001b[1;33m+\u001b[0m \u001b[0mtokens_ss\u001b[0m\u001b[1;33m[\u001b[0m\u001b[0mi\u001b[0m\u001b[1;33m]\u001b[0m\u001b[1;33m[\u001b[0m\u001b[1;36m1\u001b[0m\u001b[1;33m:\u001b[0m\u001b[1;33m]\u001b[0m \u001b[1;32mfor\u001b[0m \u001b[0mi\u001b[0m\u001b[1;33m,\u001b[0m \u001b[0mw\u001b[0m \u001b[1;32min\u001b[0m \u001b[0menumerate\u001b[0m\u001b[1;33m(\u001b[0m\u001b[0mtokens\u001b[0m\u001b[1;33m)\u001b[0m\u001b[1;33m]\u001b[0m\u001b[1;33m\u001b[0m\u001b[1;33m\u001b[0m\u001b[0m\n\u001b[0;32m    231\u001b[0m \u001b[1;33m\u001b[0m\u001b[0m\n",
      "\u001b[1;32m~\\Anaconda3\\lib\\site-packages\\pattern\\text\\__init__.py\u001b[0m in \u001b[0;36mfind_tags\u001b[1;34m(self, tokens, **kwargs)\u001b[0m\n\u001b[0;32m   1118\u001b[0m                    \u001b[0mlanguage\u001b[0m \u001b[1;33m=\u001b[0m \u001b[0mkwargs\u001b[0m\u001b[1;33m.\u001b[0m\u001b[0mget\u001b[0m\u001b[1;33m(\u001b[0m\u001b[1;34m\"language\"\u001b[0m\u001b[1;33m,\u001b[0m \u001b[0mself\u001b[0m\u001b[1;33m.\u001b[0m\u001b[0mlanguage\u001b[0m\u001b[1;33m)\u001b[0m\u001b[1;33m,\u001b[0m\u001b[1;33m\u001b[0m\u001b[1;33m\u001b[0m\u001b[0m\n\u001b[0;32m   1119\u001b[0m                     \u001b[0mdefault\u001b[0m \u001b[1;33m=\u001b[0m \u001b[0mkwargs\u001b[0m\u001b[1;33m.\u001b[0m\u001b[0mget\u001b[0m\u001b[1;33m(\u001b[0m\u001b[1;34m\"default\"\u001b[0m\u001b[1;33m,\u001b[0m \u001b[0mself\u001b[0m\u001b[1;33m.\u001b[0m\u001b[0mdefault\u001b[0m\u001b[1;33m)\u001b[0m\u001b[1;33m,\u001b[0m\u001b[1;33m\u001b[0m\u001b[1;33m\u001b[0m\u001b[0m\n\u001b[1;32m-> 1120\u001b[1;33m                         map = kwargs.get(\"map\", None))\n\u001b[0m\u001b[0;32m   1121\u001b[0m \u001b[1;33m\u001b[0m\u001b[0m\n\u001b[0;32m   1122\u001b[0m     \u001b[1;32mdef\u001b[0m \u001b[0mfind_chunks\u001b[0m\u001b[1;33m(\u001b[0m\u001b[0mself\u001b[0m\u001b[1;33m,\u001b[0m \u001b[0mtokens\u001b[0m\u001b[1;33m,\u001b[0m \u001b[1;33m**\u001b[0m\u001b[0mkwargs\u001b[0m\u001b[1;33m)\u001b[0m\u001b[1;33m:\u001b[0m\u001b[1;33m\u001b[0m\u001b[1;33m\u001b[0m\u001b[0m\n",
      "\u001b[1;32m~\\Anaconda3\\lib\\site-packages\\pattern\\text\\__init__.py\u001b[0m in \u001b[0;36mfind_tags\u001b[1;34m(tokens, lexicon, model, morphology, context, entities, default, language, map, **kwargs)\u001b[0m\n\u001b[0;32m   1526\u001b[0m             \u001b[1;31m# Use suffix rules (e.g., -ly = RB).\u001b[0m\u001b[1;33m\u001b[0m\u001b[1;33m\u001b[0m\u001b[1;33m\u001b[0m\u001b[0m\n\u001b[0;32m   1527\u001b[0m             \u001b[1;32melif\u001b[0m \u001b[0mmorphology\u001b[0m \u001b[1;32mis\u001b[0m \u001b[1;32mnot\u001b[0m \u001b[1;32mNone\u001b[0m\u001b[1;33m:\u001b[0m\u001b[1;33m\u001b[0m\u001b[1;33m\u001b[0m\u001b[0m\n\u001b[1;32m-> 1528\u001b[1;33m                 \u001b[0mtagged\u001b[0m\u001b[1;33m[\u001b[0m\u001b[0mi\u001b[0m\u001b[1;33m]\u001b[0m \u001b[1;33m=\u001b[0m \u001b[0mmorphology\u001b[0m\u001b[1;33m.\u001b[0m\u001b[0mapply\u001b[0m\u001b[1;33m(\u001b[0m\u001b[1;33m[\u001b[0m\u001b[0mtoken\u001b[0m\u001b[1;33m,\u001b[0m \u001b[0mdefault\u001b[0m\u001b[1;33m[\u001b[0m\u001b[1;36m0\u001b[0m\u001b[1;33m]\u001b[0m\u001b[1;33m]\u001b[0m\u001b[1;33m,\u001b[0m \u001b[0mprev\u001b[0m\u001b[1;33m,\u001b[0m \u001b[0mnext\u001b[0m\u001b[1;33m)\u001b[0m\u001b[1;33m\u001b[0m\u001b[1;33m\u001b[0m\u001b[0m\n\u001b[0m\u001b[0;32m   1529\u001b[0m             \u001b[1;31m# Use suffix rules (English default).\u001b[0m\u001b[1;33m\u001b[0m\u001b[1;33m\u001b[0m\u001b[1;33m\u001b[0m\u001b[0m\n\u001b[0;32m   1530\u001b[0m             \u001b[1;32melif\u001b[0m \u001b[0mlanguage\u001b[0m \u001b[1;33m==\u001b[0m \u001b[1;34m\"en\"\u001b[0m\u001b[1;33m:\u001b[0m\u001b[1;33m\u001b[0m\u001b[1;33m\u001b[0m\u001b[0m\n",
      "\u001b[1;32m~\\Anaconda3\\lib\\site-packages\\pattern\\text\\__init__.py\u001b[0m in \u001b[0;36mapply\u001b[1;34m(self, token, previous, next)\u001b[0m\n\u001b[0;32m    776\u001b[0m         \"\"\"\n\u001b[0;32m    777\u001b[0m         \u001b[0mw\u001b[0m \u001b[1;33m=\u001b[0m \u001b[0mtoken\u001b[0m\u001b[1;33m[\u001b[0m\u001b[1;36m0\u001b[0m\u001b[1;33m]\u001b[0m\u001b[1;33m\u001b[0m\u001b[1;33m\u001b[0m\u001b[0m\n\u001b[1;32m--> 778\u001b[1;33m         \u001b[1;32mfor\u001b[0m \u001b[0mr\u001b[0m \u001b[1;32min\u001b[0m \u001b[0mself\u001b[0m\u001b[1;33m:\u001b[0m\u001b[1;33m\u001b[0m\u001b[1;33m\u001b[0m\u001b[0m\n\u001b[0m\u001b[0;32m    779\u001b[0m             \u001b[1;32mif\u001b[0m \u001b[0mr\u001b[0m\u001b[1;33m[\u001b[0m\u001b[1;36m1\u001b[0m\u001b[1;33m]\u001b[0m \u001b[1;32min\u001b[0m \u001b[0mself\u001b[0m\u001b[1;33m.\u001b[0m\u001b[0m_cmd\u001b[0m\u001b[1;33m:\u001b[0m \u001b[1;31m# Rule = ly hassuf 2 RB x\u001b[0m\u001b[1;33m\u001b[0m\u001b[1;33m\u001b[0m\u001b[0m\n\u001b[0;32m    780\u001b[0m                 \u001b[0mf\u001b[0m\u001b[1;33m,\u001b[0m \u001b[0mx\u001b[0m\u001b[1;33m,\u001b[0m \u001b[0mpos\u001b[0m\u001b[1;33m,\u001b[0m \u001b[0mcmd\u001b[0m \u001b[1;33m=\u001b[0m \u001b[0mbool\u001b[0m\u001b[1;33m(\u001b[0m\u001b[1;36m0\u001b[0m\u001b[1;33m)\u001b[0m\u001b[1;33m,\u001b[0m \u001b[0mr\u001b[0m\u001b[1;33m[\u001b[0m\u001b[1;36m0\u001b[0m\u001b[1;33m]\u001b[0m\u001b[1;33m,\u001b[0m \u001b[0mr\u001b[0m\u001b[1;33m[\u001b[0m\u001b[1;33m-\u001b[0m\u001b[1;36m2\u001b[0m\u001b[1;33m]\u001b[0m\u001b[1;33m,\u001b[0m \u001b[0mr\u001b[0m\u001b[1;33m[\u001b[0m\u001b[1;36m1\u001b[0m\u001b[1;33m]\u001b[0m\u001b[1;33m.\u001b[0m\u001b[0mlower\u001b[0m\u001b[1;33m(\u001b[0m\u001b[1;33m)\u001b[0m\u001b[1;33m\u001b[0m\u001b[1;33m\u001b[0m\u001b[0m\n",
      "\u001b[1;32m~\\Anaconda3\\lib\\site-packages\\pattern\\text\\__init__.py\u001b[0m in \u001b[0;36m__iter__\u001b[1;34m(self)\u001b[0m\n\u001b[0;32m    441\u001b[0m \u001b[1;33m\u001b[0m\u001b[0m\n\u001b[0;32m    442\u001b[0m     \u001b[1;32mdef\u001b[0m \u001b[0m__iter__\u001b[0m\u001b[1;33m(\u001b[0m\u001b[0mself\u001b[0m\u001b[1;33m)\u001b[0m\u001b[1;33m:\u001b[0m\u001b[1;33m\u001b[0m\u001b[1;33m\u001b[0m\u001b[0m\n\u001b[1;32m--> 443\u001b[1;33m         \u001b[1;32mreturn\u001b[0m \u001b[0mself\u001b[0m\u001b[1;33m.\u001b[0m\u001b[0m_lazy\u001b[0m\u001b[1;33m(\u001b[0m\u001b[1;34m\"__iter__\"\u001b[0m\u001b[1;33m)\u001b[0m\u001b[1;33m\u001b[0m\u001b[1;33m\u001b[0m\u001b[0m\n\u001b[0m\u001b[0;32m    444\u001b[0m \u001b[1;33m\u001b[0m\u001b[0m\n\u001b[0;32m    445\u001b[0m     \u001b[1;32mdef\u001b[0m \u001b[0m__contains__\u001b[0m\u001b[1;33m(\u001b[0m\u001b[0mself\u001b[0m\u001b[1;33m,\u001b[0m \u001b[1;33m*\u001b[0m\u001b[0margs\u001b[0m\u001b[1;33m)\u001b[0m\u001b[1;33m:\u001b[0m\u001b[1;33m\u001b[0m\u001b[1;33m\u001b[0m\u001b[0m\n",
      "\u001b[1;32m~\\Anaconda3\\lib\\site-packages\\pattern\\text\\__init__.py\u001b[0m in \u001b[0;36m_lazy\u001b[1;34m(self, method, *args)\u001b[0m\n\u001b[0;32m    430\u001b[0m         \"\"\"\n\u001b[0;32m    431\u001b[0m         \u001b[1;32mif\u001b[0m \u001b[0mlist\u001b[0m\u001b[1;33m.\u001b[0m\u001b[0m__len__\u001b[0m\u001b[1;33m(\u001b[0m\u001b[0mself\u001b[0m\u001b[1;33m)\u001b[0m \u001b[1;33m==\u001b[0m \u001b[1;36m0\u001b[0m\u001b[1;33m:\u001b[0m\u001b[1;33m\u001b[0m\u001b[1;33m\u001b[0m\u001b[0m\n\u001b[1;32m--> 432\u001b[1;33m             \u001b[0mself\u001b[0m\u001b[1;33m.\u001b[0m\u001b[0mload\u001b[0m\u001b[1;33m(\u001b[0m\u001b[1;33m)\u001b[0m\u001b[1;33m\u001b[0m\u001b[1;33m\u001b[0m\u001b[0m\n\u001b[0m\u001b[0;32m    433\u001b[0m             \u001b[0msetattr\u001b[0m\u001b[1;33m(\u001b[0m\u001b[0mself\u001b[0m\u001b[1;33m,\u001b[0m \u001b[0mmethod\u001b[0m\u001b[1;33m,\u001b[0m \u001b[0mtypes\u001b[0m\u001b[1;33m.\u001b[0m\u001b[0mMethodType\u001b[0m\u001b[1;33m(\u001b[0m\u001b[0mgetattr\u001b[0m\u001b[1;33m(\u001b[0m\u001b[0mlist\u001b[0m\u001b[1;33m,\u001b[0m \u001b[0mmethod\u001b[0m\u001b[1;33m)\u001b[0m\u001b[1;33m,\u001b[0m \u001b[0mself\u001b[0m\u001b[1;33m)\u001b[0m\u001b[1;33m)\u001b[0m\u001b[1;33m\u001b[0m\u001b[1;33m\u001b[0m\u001b[0m\n\u001b[0;32m    434\u001b[0m         \u001b[1;32mreturn\u001b[0m \u001b[0mgetattr\u001b[0m\u001b[1;33m(\u001b[0m\u001b[0mlist\u001b[0m\u001b[1;33m,\u001b[0m \u001b[0mmethod\u001b[0m\u001b[1;33m)\u001b[0m\u001b[1;33m(\u001b[0m\u001b[0mself\u001b[0m\u001b[1;33m,\u001b[0m \u001b[1;33m*\u001b[0m\u001b[0margs\u001b[0m\u001b[1;33m)\u001b[0m\u001b[1;33m\u001b[0m\u001b[1;33m\u001b[0m\u001b[0m\n",
      "\u001b[1;32m~\\Anaconda3\\lib\\site-packages\\pattern\\text\\__init__.py\u001b[0m in \u001b[0;36mload\u001b[1;34m(self)\u001b[0m\n\u001b[0;32m    770\u001b[0m     \u001b[1;32mdef\u001b[0m \u001b[0mload\u001b[0m\u001b[1;33m(\u001b[0m\u001b[0mself\u001b[0m\u001b[1;33m)\u001b[0m\u001b[1;33m:\u001b[0m\u001b[1;33m\u001b[0m\u001b[1;33m\u001b[0m\u001b[0m\n\u001b[0;32m    771\u001b[0m         \u001b[1;31m# [\"NN\", \"s\", \"fhassuf\", \"1\", \"NNS\", \"x\"]\u001b[0m\u001b[1;33m\u001b[0m\u001b[1;33m\u001b[0m\u001b[1;33m\u001b[0m\u001b[0m\n\u001b[1;32m--> 772\u001b[1;33m         \u001b[0mlist\u001b[0m\u001b[1;33m.\u001b[0m\u001b[0mextend\u001b[0m\u001b[1;33m(\u001b[0m\u001b[0mself\u001b[0m\u001b[1;33m,\u001b[0m \u001b[1;33m(\u001b[0m\u001b[0mx\u001b[0m\u001b[1;33m.\u001b[0m\u001b[0msplit\u001b[0m\u001b[1;33m(\u001b[0m\u001b[1;33m)\u001b[0m \u001b[1;32mfor\u001b[0m \u001b[0mx\u001b[0m \u001b[1;32min\u001b[0m \u001b[0m_read\u001b[0m\u001b[1;33m(\u001b[0m\u001b[0mself\u001b[0m\u001b[1;33m.\u001b[0m\u001b[0m_path\u001b[0m\u001b[1;33m)\u001b[0m\u001b[1;33m)\u001b[0m\u001b[1;33m)\u001b[0m\u001b[1;33m\u001b[0m\u001b[1;33m\u001b[0m\u001b[0m\n\u001b[0m\u001b[0;32m    773\u001b[0m \u001b[1;33m\u001b[0m\u001b[0m\n\u001b[0;32m    774\u001b[0m     \u001b[1;32mdef\u001b[0m \u001b[0mapply\u001b[0m\u001b[1;33m(\u001b[0m\u001b[0mself\u001b[0m\u001b[1;33m,\u001b[0m \u001b[0mtoken\u001b[0m\u001b[1;33m,\u001b[0m \u001b[0mprevious\u001b[0m\u001b[1;33m=\u001b[0m\u001b[1;33m(\u001b[0m\u001b[1;32mNone\u001b[0m\u001b[1;33m,\u001b[0m \u001b[1;32mNone\u001b[0m\u001b[1;33m)\u001b[0m\u001b[1;33m,\u001b[0m \u001b[0mnext\u001b[0m\u001b[1;33m=\u001b[0m\u001b[1;33m(\u001b[0m\u001b[1;32mNone\u001b[0m\u001b[1;33m,\u001b[0m \u001b[1;32mNone\u001b[0m\u001b[1;33m)\u001b[0m\u001b[1;33m)\u001b[0m\u001b[1;33m:\u001b[0m\u001b[1;33m\u001b[0m\u001b[1;33m\u001b[0m\u001b[0m\n",
      "\u001b[1;32m~\\Anaconda3\\lib\\site-packages\\pattern\\text\\__init__.py\u001b[0m in \u001b[0;36m<genexpr>\u001b[1;34m(.0)\u001b[0m\n\u001b[0;32m    770\u001b[0m     \u001b[1;32mdef\u001b[0m \u001b[0mload\u001b[0m\u001b[1;33m(\u001b[0m\u001b[0mself\u001b[0m\u001b[1;33m)\u001b[0m\u001b[1;33m:\u001b[0m\u001b[1;33m\u001b[0m\u001b[1;33m\u001b[0m\u001b[0m\n\u001b[0;32m    771\u001b[0m         \u001b[1;31m# [\"NN\", \"s\", \"fhassuf\", \"1\", \"NNS\", \"x\"]\u001b[0m\u001b[1;33m\u001b[0m\u001b[1;33m\u001b[0m\u001b[1;33m\u001b[0m\u001b[0m\n\u001b[1;32m--> 772\u001b[1;33m         \u001b[0mlist\u001b[0m\u001b[1;33m.\u001b[0m\u001b[0mextend\u001b[0m\u001b[1;33m(\u001b[0m\u001b[0mself\u001b[0m\u001b[1;33m,\u001b[0m \u001b[1;33m(\u001b[0m\u001b[0mx\u001b[0m\u001b[1;33m.\u001b[0m\u001b[0msplit\u001b[0m\u001b[1;33m(\u001b[0m\u001b[1;33m)\u001b[0m \u001b[1;32mfor\u001b[0m \u001b[0mx\u001b[0m \u001b[1;32min\u001b[0m \u001b[0m_read\u001b[0m\u001b[1;33m(\u001b[0m\u001b[0mself\u001b[0m\u001b[1;33m.\u001b[0m\u001b[0m_path\u001b[0m\u001b[1;33m)\u001b[0m\u001b[1;33m)\u001b[0m\u001b[1;33m)\u001b[0m\u001b[1;33m\u001b[0m\u001b[1;33m\u001b[0m\u001b[0m\n\u001b[0m\u001b[0;32m    773\u001b[0m \u001b[1;33m\u001b[0m\u001b[0m\n\u001b[0;32m    774\u001b[0m     \u001b[1;32mdef\u001b[0m \u001b[0mapply\u001b[0m\u001b[1;33m(\u001b[0m\u001b[0mself\u001b[0m\u001b[1;33m,\u001b[0m \u001b[0mtoken\u001b[0m\u001b[1;33m,\u001b[0m \u001b[0mprevious\u001b[0m\u001b[1;33m=\u001b[0m\u001b[1;33m(\u001b[0m\u001b[1;32mNone\u001b[0m\u001b[1;33m,\u001b[0m \u001b[1;32mNone\u001b[0m\u001b[1;33m)\u001b[0m\u001b[1;33m,\u001b[0m \u001b[0mnext\u001b[0m\u001b[1;33m=\u001b[0m\u001b[1;33m(\u001b[0m\u001b[1;32mNone\u001b[0m\u001b[1;33m,\u001b[0m \u001b[1;32mNone\u001b[0m\u001b[1;33m)\u001b[0m\u001b[1;33m)\u001b[0m\u001b[1;33m:\u001b[0m\u001b[1;33m\u001b[0m\u001b[1;33m\u001b[0m\u001b[0m\n",
      "\u001b[1;31mRuntimeError\u001b[0m: generator raised StopIteration"
     ]
    }
   ],
   "source": [
    "party_text = '''\n",
    "Kurz vor 22.00 Uhr sind Polizisten der Stadtpolizei in alle Richtungen aber vor allem in Richtung Kreis 9 ausgerückt. Grund war eine Meldung zu einer privaten Party an der Aargauerstrasse, die angeblich ausser Kontrolle geraten sei. \n",
    "'''\n",
    "\n",
    "from textblob_de import TextBlobDE\n",
    "from textblob_de import PatternParser\n",
    "blob = TextBlobDE(party_text, parser=PatternParser(pprint=False, lemmata=True))\n",
    "blob.parse()\n",
    "list(blob.words.lemmatize())[0:20]"
   ]
  },
  {
   "cell_type": "code",
   "execution_count": 34,
   "metadata": {},
   "outputs": [],
   "source": [
    "from textblob_de.lemmatizers import PatternParserLemmatizer"
   ]
  },
  {
   "cell_type": "code",
   "execution_count": 35,
   "metadata": {},
   "outputs": [
    {
     "ename": "RuntimeError",
     "evalue": "generator raised StopIteration",
     "output_type": "error",
     "traceback": [
      "\u001b[1;31m---------------------------------------------------------------------------\u001b[0m",
      "\u001b[1;31mStopIteration\u001b[0m                             Traceback (most recent call last)",
      "\u001b[1;32m~\\Anaconda3\\lib\\site-packages\\pattern\\text\\__init__.py\u001b[0m in \u001b[0;36m_read\u001b[1;34m(path, encoding, comment)\u001b[0m\n\u001b[0;32m    608\u001b[0m             \u001b[1;32myield\u001b[0m \u001b[0mline\u001b[0m\u001b[1;33m\u001b[0m\u001b[1;33m\u001b[0m\u001b[0m\n\u001b[1;32m--> 609\u001b[1;33m     \u001b[1;32mraise\u001b[0m \u001b[0mStopIteration\u001b[0m\u001b[1;33m\u001b[0m\u001b[1;33m\u001b[0m\u001b[0m\n\u001b[0m\u001b[0;32m    610\u001b[0m \u001b[1;33m\u001b[0m\u001b[0m\n",
      "\u001b[1;31mStopIteration\u001b[0m: ",
      "\nThe above exception was the direct cause of the following exception:\n",
      "\u001b[1;31mRuntimeError\u001b[0m                              Traceback (most recent call last)",
      "\u001b[1;32m<ipython-input-35-beb56030b4a2>\u001b[0m in \u001b[0;36m<module>\u001b[1;34m\u001b[0m\n\u001b[0;32m      1\u001b[0m \u001b[0m_lemmatizer\u001b[0m \u001b[1;33m=\u001b[0m \u001b[0mPatternParserLemmatizer\u001b[0m\u001b[1;33m(\u001b[0m\u001b[1;33m)\u001b[0m\u001b[1;33m\u001b[0m\u001b[1;33m\u001b[0m\u001b[0m\n\u001b[1;32m----> 2\u001b[1;33m \u001b[0m_lemmatizer\u001b[0m\u001b[1;33m.\u001b[0m\u001b[0mlemmatize\u001b[0m\u001b[1;33m(\u001b[0m\u001b[1;34m\"Das ist ein hässliches Auto.\"\u001b[0m\u001b[1;33m)\u001b[0m\u001b[1;33m\u001b[0m\u001b[1;33m\u001b[0m\u001b[0m\n\u001b[0m",
      "\u001b[1;32m~\\Anaconda3\\lib\\site-packages\\textblob_de\\lemmatizers.py\u001b[0m in \u001b[0;36mlemmatize\u001b[1;34m(self, text)\u001b[0m\n\u001b[0;32m     50\u001b[0m         \u001b[1;32mif\u001b[0m \u001b[0mtext\u001b[0m\u001b[1;33m.\u001b[0m\u001b[0mstrip\u001b[0m\u001b[1;33m(\u001b[0m\u001b[1;33m)\u001b[0m \u001b[1;33m==\u001b[0m \u001b[1;34m\"\"\u001b[0m\u001b[1;33m:\u001b[0m\u001b[1;33m\u001b[0m\u001b[1;33m\u001b[0m\u001b[0m\n\u001b[0;32m     51\u001b[0m             \u001b[1;32mreturn\u001b[0m \u001b[1;33m[\u001b[0m\u001b[1;33m]\u001b[0m\u001b[1;33m\u001b[0m\u001b[1;33m\u001b[0m\u001b[0m\n\u001b[1;32m---> 52\u001b[1;33m         \u001b[0mparsed_sentences\u001b[0m \u001b[1;33m=\u001b[0m \u001b[0mself\u001b[0m\u001b[1;33m.\u001b[0m\u001b[0m_parse_text\u001b[0m\u001b[1;33m(\u001b[0m\u001b[0mtext\u001b[0m\u001b[1;33m)\u001b[0m\u001b[1;33m\u001b[0m\u001b[1;33m\u001b[0m\u001b[0m\n\u001b[0m\u001b[0;32m     53\u001b[0m         \u001b[0m_lemmalist\u001b[0m \u001b[1;33m=\u001b[0m \u001b[1;33m[\u001b[0m\u001b[1;33m]\u001b[0m\u001b[1;33m\u001b[0m\u001b[1;33m\u001b[0m\u001b[0m\n\u001b[0;32m     54\u001b[0m         \u001b[1;32mfor\u001b[0m \u001b[0ms\u001b[0m \u001b[1;32min\u001b[0m \u001b[0mparsed_sentences\u001b[0m\u001b[1;33m:\u001b[0m\u001b[1;33m\u001b[0m\u001b[1;33m\u001b[0m\u001b[0m\n",
      "\u001b[1;32m~\\Anaconda3\\lib\\site-packages\\textblob_de\\lemmatizers.py\u001b[0m in \u001b[0;36m_parse_text\u001b[1;34m(self, text)\u001b[0m\n\u001b[0;32m     93\u001b[0m         \u001b[0mtext\u001b[0m \u001b[1;33m=\u001b[0m \u001b[0mtext\u001b[0m\u001b[1;33m.\u001b[0m\u001b[0mreplace\u001b[0m\u001b[1;33m(\u001b[0m\u001b[1;34m\"/\"\u001b[0m\u001b[1;33m,\u001b[0m \u001b[1;34m\" FORWARDSLASH \"\u001b[0m\u001b[1;33m)\u001b[0m\u001b[1;33m\u001b[0m\u001b[1;33m\u001b[0m\u001b[0m\n\u001b[0;32m     94\u001b[0m         \u001b[0m_tokenized\u001b[0m \u001b[1;33m=\u001b[0m \u001b[1;34m\" \"\u001b[0m\u001b[1;33m.\u001b[0m\u001b[0mjoin\u001b[0m\u001b[1;33m(\u001b[0m\u001b[0mself\u001b[0m\u001b[1;33m.\u001b[0m\u001b[0mtokenizer\u001b[0m\u001b[1;33m.\u001b[0m\u001b[0mtokenize\u001b[0m\u001b[1;33m(\u001b[0m\u001b[0mtext\u001b[0m\u001b[1;33m)\u001b[0m\u001b[1;33m)\u001b[0m\u001b[1;33m\u001b[0m\u001b[1;33m\u001b[0m\u001b[0m\n\u001b[1;32m---> 95\u001b[1;33m         \u001b[0mparsed_text\u001b[0m \u001b[1;33m=\u001b[0m \u001b[0mpattern_parse\u001b[0m\u001b[1;33m(\u001b[0m\u001b[0m_tokenized\u001b[0m\u001b[1;33m,\u001b[0m \u001b[0mtokenize\u001b[0m\u001b[1;33m=\u001b[0m\u001b[1;32mFalse\u001b[0m\u001b[1;33m,\u001b[0m \u001b[0mlemmata\u001b[0m\u001b[1;33m=\u001b[0m\u001b[1;32mTrue\u001b[0m\u001b[1;33m)\u001b[0m\u001b[1;33m\u001b[0m\u001b[1;33m\u001b[0m\u001b[0m\n\u001b[0m\u001b[0;32m     96\u001b[0m         \u001b[1;32mreturn\u001b[0m \u001b[0mparsed_text\u001b[0m\u001b[1;33m.\u001b[0m\u001b[0msplit\u001b[0m\u001b[1;33m(\u001b[0m\u001b[1;34m'\\n'\u001b[0m\u001b[1;33m)\u001b[0m\u001b[1;33m\u001b[0m\u001b[1;33m\u001b[0m\u001b[0m\n",
      "\u001b[1;32m~\\Anaconda3\\lib\\site-packages\\pattern\\text\\de\\__init__.py\u001b[0m in \u001b[0;36mparse\u001b[1;34m(s, *args, **kwargs)\u001b[0m\n\u001b[0;32m    255\u001b[0m     \"\"\" Returns a tagged Unicode string.\n\u001b[0;32m    256\u001b[0m     \"\"\"\n\u001b[1;32m--> 257\u001b[1;33m     \u001b[1;32mreturn\u001b[0m \u001b[0mparser\u001b[0m\u001b[1;33m.\u001b[0m\u001b[0mparse\u001b[0m\u001b[1;33m(\u001b[0m\u001b[0ms\u001b[0m\u001b[1;33m,\u001b[0m \u001b[1;33m*\u001b[0m\u001b[0margs\u001b[0m\u001b[1;33m,\u001b[0m \u001b[1;33m**\u001b[0m\u001b[0mkwargs\u001b[0m\u001b[1;33m)\u001b[0m\u001b[1;33m\u001b[0m\u001b[1;33m\u001b[0m\u001b[0m\n\u001b[0m\u001b[0;32m    258\u001b[0m \u001b[1;33m\u001b[0m\u001b[0m\n\u001b[0;32m    259\u001b[0m \u001b[1;33m\u001b[0m\u001b[0m\n",
      "\u001b[1;32m~\\Anaconda3\\lib\\site-packages\\pattern\\text\\__init__.py\u001b[0m in \u001b[0;36mparse\u001b[1;34m(self, s, tokenize, tags, chunks, relations, lemmata, encoding, **kwargs)\u001b[0m\n\u001b[0;32m   1181\u001b[0m             \u001b[1;31m# Lemmatizer.\u001b[0m\u001b[1;33m\u001b[0m\u001b[1;33m\u001b[0m\u001b[1;33m\u001b[0m\u001b[0m\n\u001b[0;32m   1182\u001b[0m             \u001b[1;32mif\u001b[0m \u001b[0mlemmata\u001b[0m\u001b[1;33m:\u001b[0m\u001b[1;33m\u001b[0m\u001b[1;33m\u001b[0m\u001b[0m\n\u001b[1;32m-> 1183\u001b[1;33m                 \u001b[0ms\u001b[0m\u001b[1;33m[\u001b[0m\u001b[0mi\u001b[0m\u001b[1;33m]\u001b[0m \u001b[1;33m=\u001b[0m \u001b[0mself\u001b[0m\u001b[1;33m.\u001b[0m\u001b[0mfind_lemmata\u001b[0m\u001b[1;33m(\u001b[0m\u001b[0ms\u001b[0m\u001b[1;33m[\u001b[0m\u001b[0mi\u001b[0m\u001b[1;33m]\u001b[0m\u001b[1;33m,\u001b[0m \u001b[1;33m**\u001b[0m\u001b[0mkwargs\u001b[0m\u001b[1;33m)\u001b[0m\u001b[1;33m\u001b[0m\u001b[1;33m\u001b[0m\u001b[0m\n\u001b[0m\u001b[0;32m   1184\u001b[0m         \u001b[1;31m# Slash-formatted tagged string.\u001b[0m\u001b[1;33m\u001b[0m\u001b[1;33m\u001b[0m\u001b[1;33m\u001b[0m\u001b[0m\n\u001b[0;32m   1185\u001b[0m         \u001b[1;31m# With collapse=False (or split=True), returns raw list\u001b[0m\u001b[1;33m\u001b[0m\u001b[1;33m\u001b[0m\u001b[1;33m\u001b[0m\u001b[0m\n",
      "\u001b[1;32m~\\Anaconda3\\lib\\site-packages\\pattern\\text\\de\\__init__.py\u001b[0m in \u001b[0;36mfind_lemmata\u001b[1;34m(self, tokens, **kwargs)\u001b[0m\n\u001b[0;32m    215\u001b[0m \u001b[1;33m\u001b[0m\u001b[0m\n\u001b[0;32m    216\u001b[0m     \u001b[1;32mdef\u001b[0m \u001b[0mfind_lemmata\u001b[0m\u001b[1;33m(\u001b[0m\u001b[0mself\u001b[0m\u001b[1;33m,\u001b[0m \u001b[0mtokens\u001b[0m\u001b[1;33m,\u001b[0m \u001b[1;33m**\u001b[0m\u001b[0mkwargs\u001b[0m\u001b[1;33m)\u001b[0m\u001b[1;33m:\u001b[0m\u001b[1;33m\u001b[0m\u001b[1;33m\u001b[0m\u001b[0m\n\u001b[1;32m--> 217\u001b[1;33m         \u001b[1;32mreturn\u001b[0m \u001b[0mfind_lemmata\u001b[0m\u001b[1;33m(\u001b[0m\u001b[0mtokens\u001b[0m\u001b[1;33m)\u001b[0m\u001b[1;33m\u001b[0m\u001b[1;33m\u001b[0m\u001b[0m\n\u001b[0m\u001b[0;32m    218\u001b[0m \u001b[1;33m\u001b[0m\u001b[0m\n\u001b[0;32m    219\u001b[0m     \u001b[1;32mdef\u001b[0m \u001b[0mfind_tags\u001b[0m\u001b[1;33m(\u001b[0m\u001b[0mself\u001b[0m\u001b[1;33m,\u001b[0m \u001b[0mtokens\u001b[0m\u001b[1;33m,\u001b[0m \u001b[1;33m**\u001b[0m\u001b[0mkwargs\u001b[0m\u001b[1;33m)\u001b[0m\u001b[1;33m:\u001b[0m\u001b[1;33m\u001b[0m\u001b[1;33m\u001b[0m\u001b[0m\n",
      "\u001b[1;32m~\\Anaconda3\\lib\\site-packages\\pattern\\text\\de\\__init__.py\u001b[0m in \u001b[0;36mfind_lemmata\u001b[1;34m(tokens)\u001b[0m\n\u001b[0;32m    202\u001b[0m             \u001b[0mlemma\u001b[0m \u001b[1;33m=\u001b[0m \u001b[0msingularize\u001b[0m\u001b[1;33m(\u001b[0m\u001b[0mword\u001b[0m\u001b[1;33m)\u001b[0m\u001b[1;33m\u001b[0m\u001b[1;33m\u001b[0m\u001b[0m\n\u001b[0;32m    203\u001b[0m         \u001b[1;32mif\u001b[0m \u001b[0mpos\u001b[0m\u001b[1;33m.\u001b[0m\u001b[0mstartswith\u001b[0m\u001b[1;33m(\u001b[0m\u001b[1;33m(\u001b[0m\u001b[1;34m\"VB\"\u001b[0m\u001b[1;33m,\u001b[0m \u001b[1;34m\"MD\"\u001b[0m\u001b[1;33m)\u001b[0m\u001b[1;33m)\u001b[0m\u001b[1;33m:\u001b[0m\u001b[1;33m\u001b[0m\u001b[1;33m\u001b[0m\u001b[0m\n\u001b[1;32m--> 204\u001b[1;33m             \u001b[0mlemma\u001b[0m \u001b[1;33m=\u001b[0m \u001b[0mconjugate\u001b[0m\u001b[1;33m(\u001b[0m\u001b[0mword\u001b[0m\u001b[1;33m,\u001b[0m \u001b[0mINFINITIVE\u001b[0m\u001b[1;33m)\u001b[0m \u001b[1;32mor\u001b[0m \u001b[0mword\u001b[0m\u001b[1;33m\u001b[0m\u001b[1;33m\u001b[0m\u001b[0m\n\u001b[0m\u001b[0;32m    205\u001b[0m         \u001b[0mtoken\u001b[0m\u001b[1;33m.\u001b[0m\u001b[0mappend\u001b[0m\u001b[1;33m(\u001b[0m\u001b[0mlemma\u001b[0m\u001b[1;33m.\u001b[0m\u001b[0mlower\u001b[0m\u001b[1;33m(\u001b[0m\u001b[1;33m)\u001b[0m\u001b[1;33m)\u001b[0m\u001b[1;33m\u001b[0m\u001b[1;33m\u001b[0m\u001b[0m\n\u001b[0;32m    206\u001b[0m     \u001b[1;32mreturn\u001b[0m \u001b[0mtokens\u001b[0m\u001b[1;33m\u001b[0m\u001b[1;33m\u001b[0m\u001b[0m\n",
      "\u001b[1;32m~\\Anaconda3\\lib\\site-packages\\pattern\\text\\__init__.py\u001b[0m in \u001b[0;36mconjugate\u001b[1;34m(self, verb, *args, **kwargs)\u001b[0m\n\u001b[0;32m   2206\u001b[0m         \u001b[0mi2\u001b[0m \u001b[1;33m=\u001b[0m \u001b[0mself\u001b[0m\u001b[1;33m.\u001b[0m\u001b[0m_format\u001b[0m\u001b[1;33m.\u001b[0m\u001b[0mget\u001b[0m\u001b[1;33m(\u001b[0m\u001b[0mself\u001b[0m\u001b[1;33m.\u001b[0m\u001b[0m_default\u001b[0m\u001b[1;33m.\u001b[0m\u001b[0mget\u001b[0m\u001b[1;33m(\u001b[0m\u001b[0mid\u001b[0m\u001b[1;33m)\u001b[0m\u001b[1;33m)\u001b[0m\u001b[1;33m\u001b[0m\u001b[1;33m\u001b[0m\u001b[0m\n\u001b[0;32m   2207\u001b[0m         \u001b[0mi3\u001b[0m \u001b[1;33m=\u001b[0m \u001b[0mself\u001b[0m\u001b[1;33m.\u001b[0m\u001b[0m_format\u001b[0m\u001b[1;33m.\u001b[0m\u001b[0mget\u001b[0m\u001b[1;33m(\u001b[0m\u001b[0mself\u001b[0m\u001b[1;33m.\u001b[0m\u001b[0m_default\u001b[0m\u001b[1;33m.\u001b[0m\u001b[0mget\u001b[0m\u001b[1;33m(\u001b[0m\u001b[0mself\u001b[0m\u001b[1;33m.\u001b[0m\u001b[0m_default\u001b[0m\u001b[1;33m.\u001b[0m\u001b[0mget\u001b[0m\u001b[1;33m(\u001b[0m\u001b[0mid\u001b[0m\u001b[1;33m)\u001b[0m\u001b[1;33m)\u001b[0m\u001b[1;33m)\u001b[0m\u001b[1;33m\u001b[0m\u001b[1;33m\u001b[0m\u001b[0m\n\u001b[1;32m-> 2208\u001b[1;33m         \u001b[0mb\u001b[0m \u001b[1;33m=\u001b[0m \u001b[0mself\u001b[0m\u001b[1;33m.\u001b[0m\u001b[0mlemma\u001b[0m\u001b[1;33m(\u001b[0m\u001b[0mverb\u001b[0m\u001b[1;33m,\u001b[0m \u001b[0mparse\u001b[0m\u001b[1;33m=\u001b[0m\u001b[0mkwargs\u001b[0m\u001b[1;33m.\u001b[0m\u001b[0mget\u001b[0m\u001b[1;33m(\u001b[0m\u001b[1;34m\"parse\"\u001b[0m\u001b[1;33m,\u001b[0m \u001b[1;32mTrue\u001b[0m\u001b[1;33m)\u001b[0m\u001b[1;33m)\u001b[0m\u001b[1;33m\u001b[0m\u001b[1;33m\u001b[0m\u001b[0m\n\u001b[0m\u001b[0;32m   2209\u001b[0m         \u001b[0mv\u001b[0m \u001b[1;33m=\u001b[0m \u001b[1;33m[\u001b[0m\u001b[1;33m]\u001b[0m\u001b[1;33m\u001b[0m\u001b[1;33m\u001b[0m\u001b[0m\n\u001b[0;32m   2210\u001b[0m         \u001b[1;31m# Get the verb lexeme and return the requested index.\u001b[0m\u001b[1;33m\u001b[0m\u001b[1;33m\u001b[0m\u001b[1;33m\u001b[0m\u001b[0m\n",
      "\u001b[1;32m~\\Anaconda3\\lib\\site-packages\\pattern\\text\\__init__.py\u001b[0m in \u001b[0;36mlemma\u001b[1;34m(self, verb, parse)\u001b[0m\n\u001b[0;32m   2170\u001b[0m         \"\"\"\n\u001b[0;32m   2171\u001b[0m         \u001b[1;32mif\u001b[0m \u001b[0mdict\u001b[0m\u001b[1;33m.\u001b[0m\u001b[0m__len__\u001b[0m\u001b[1;33m(\u001b[0m\u001b[0mself\u001b[0m\u001b[1;33m)\u001b[0m \u001b[1;33m==\u001b[0m \u001b[1;36m0\u001b[0m\u001b[1;33m:\u001b[0m\u001b[1;33m\u001b[0m\u001b[1;33m\u001b[0m\u001b[0m\n\u001b[1;32m-> 2172\u001b[1;33m             \u001b[0mself\u001b[0m\u001b[1;33m.\u001b[0m\u001b[0mload\u001b[0m\u001b[1;33m(\u001b[0m\u001b[1;33m)\u001b[0m\u001b[1;33m\u001b[0m\u001b[1;33m\u001b[0m\u001b[0m\n\u001b[0m\u001b[0;32m   2173\u001b[0m         \u001b[1;32mif\u001b[0m \u001b[0mverb\u001b[0m\u001b[1;33m.\u001b[0m\u001b[0mlower\u001b[0m\u001b[1;33m(\u001b[0m\u001b[1;33m)\u001b[0m \u001b[1;32min\u001b[0m \u001b[0mself\u001b[0m\u001b[1;33m.\u001b[0m\u001b[0m_inverse\u001b[0m\u001b[1;33m:\u001b[0m\u001b[1;33m\u001b[0m\u001b[1;33m\u001b[0m\u001b[0m\n\u001b[0;32m   2174\u001b[0m             \u001b[1;32mreturn\u001b[0m \u001b[0mself\u001b[0m\u001b[1;33m.\u001b[0m\u001b[0m_inverse\u001b[0m\u001b[1;33m[\u001b[0m\u001b[0mverb\u001b[0m\u001b[1;33m.\u001b[0m\u001b[0mlower\u001b[0m\u001b[1;33m(\u001b[0m\u001b[1;33m)\u001b[0m\u001b[1;33m]\u001b[0m\u001b[1;33m\u001b[0m\u001b[1;33m\u001b[0m\u001b[0m\n",
      "\u001b[1;32m~\\Anaconda3\\lib\\site-packages\\pattern\\text\\__init__.py\u001b[0m in \u001b[0;36mload\u001b[1;34m(self)\u001b[0m\n\u001b[0;32m   2125\u001b[0m         \u001b[1;31m# have,,,has,,having,,,,,had,had,haven't,,,hasn't,,,,,,,hadn't,hadn't\u001b[0m\u001b[1;33m\u001b[0m\u001b[1;33m\u001b[0m\u001b[1;33m\u001b[0m\u001b[0m\n\u001b[0;32m   2126\u001b[0m         \u001b[0mid\u001b[0m \u001b[1;33m=\u001b[0m \u001b[0mself\u001b[0m\u001b[1;33m.\u001b[0m\u001b[0m_format\u001b[0m\u001b[1;33m[\u001b[0m\u001b[0mTENSES_ID\u001b[0m\u001b[1;33m[\u001b[0m\u001b[0mINFINITIVE\u001b[0m\u001b[1;33m]\u001b[0m\u001b[1;33m]\u001b[0m\u001b[1;33m\u001b[0m\u001b[1;33m\u001b[0m\u001b[0m\n\u001b[1;32m-> 2127\u001b[1;33m         \u001b[1;32mfor\u001b[0m \u001b[0mv\u001b[0m \u001b[1;32min\u001b[0m \u001b[0m_read\u001b[0m\u001b[1;33m(\u001b[0m\u001b[0mself\u001b[0m\u001b[1;33m.\u001b[0m\u001b[0m_path\u001b[0m\u001b[1;33m)\u001b[0m\u001b[1;33m:\u001b[0m\u001b[1;33m\u001b[0m\u001b[1;33m\u001b[0m\u001b[0m\n\u001b[0m\u001b[0;32m   2128\u001b[0m             \u001b[0mv\u001b[0m \u001b[1;33m=\u001b[0m \u001b[0mv\u001b[0m\u001b[1;33m.\u001b[0m\u001b[0msplit\u001b[0m\u001b[1;33m(\u001b[0m\u001b[1;34m\",\"\u001b[0m\u001b[1;33m)\u001b[0m\u001b[1;33m\u001b[0m\u001b[1;33m\u001b[0m\u001b[0m\n\u001b[0;32m   2129\u001b[0m             \u001b[0mdict\u001b[0m\u001b[1;33m.\u001b[0m\u001b[0m__setitem__\u001b[0m\u001b[1;33m(\u001b[0m\u001b[0mself\u001b[0m\u001b[1;33m,\u001b[0m \u001b[0mv\u001b[0m\u001b[1;33m[\u001b[0m\u001b[0mid\u001b[0m\u001b[1;33m]\u001b[0m\u001b[1;33m,\u001b[0m \u001b[0mv\u001b[0m\u001b[1;33m)\u001b[0m\u001b[1;33m\u001b[0m\u001b[1;33m\u001b[0m\u001b[0m\n",
      "\u001b[1;31mRuntimeError\u001b[0m: generator raised StopIteration"
     ]
    }
   ],
   "source": [
    "_lemmatizer = PatternParserLemmatizer()\n",
    "_lemmatizer.lemmatize(\"Das ist ein hässliches Auto.\")"
   ]
  },
  {
   "cell_type": "markdown",
   "metadata": {},
   "source": [
    "## POS Tagging (Part of Speech Tagging)\n",
    "- Ich bin nur interessiert an Substantiven oder Adjektiven oder Verben. \n",
    "- Wie kann ich nur diese filtern? \n",
    "- Funktioniert für Deutsch nicht auf Anhieb in NLTK :(\n",
    "- aber gut in pattern und textblob"
   ]
  },
  {
   "cell_type": "markdown",
   "metadata": {},
   "source": [
    "## Übersicht\n",
    "https://www.clips.uantwerpen.be/pages/mbsp-tags\n",
    "\n",
    "|  Tag | Description | Example |\n",
    "|  ------ | ------ | ------ |\n",
    "|  **CC** | conjunction, coordinating | and, or, but |\n",
    "|  **CD** | cardinal number | five, three, 13% |\n",
    "|  **DT** | determiner | the, a, these |\n",
    "|  **EX** | existential there | there were six boys |\n",
    "|  **FW** | foreign word | mais |\n",
    "|  **IN** | conjunction, subordinating or preposition | of, on, before, unless |\n",
    "|  **JJ** | adjective | nice, easy |\n",
    "|  **JJR** | adjective, comparative | nicer, easier |\n",
    "|  **JJS** | adjective, superlative | nicest, easiest |\n",
    "|  **LS** | list item marker |  |\n",
    "|  **MD** | verb, modal auxillary | may, should |\n",
    "|  **NN** | noun, singular or mass | tiger, chair, laughter |\n",
    "|  **NNS** | noun, plural | tigers, chairs, insects |\n",
    "|  **NNP** | noun, proper singular | Germany, God, Alice |\n",
    "|  **NNPS** | noun, proper plural | we met two Christmases ago |\n",
    "|  **PDT** | predeterminer | both his children |\n",
    "|  **POS** | possessive ending | s |\n",
    "|  **PRP** | pronoun, personal | me, you, it |\n",
    "|  **PRP** | pronoun, possessive | my, your, our |\n",
    "|  **RB** | adverb | extremely, loudly, hard |\n",
    "|  **RBR** | adverb, comparative | better |\n",
    "|  **RBS** | adverb, superlative | best |\n",
    "|  **RP** | adverb, particle | about, off, up |\n",
    "|  **SYM** | symbol | % |\n",
    "|  **TO** | infinitival to | what to do? |\n",
    "|  **UH** | interjection | oh, oops, gosh |\n",
    "|  **VB** | verb, base form | think |\n",
    "|  **VBZ** | verb, 3rd person singular present | she thinks |\n",
    "|  **VBP** | verb, non-3rd person singular present | I think |\n",
    "|  **VBD** | verb, past tense | they thought |\n",
    "|  **VBN** | verb, past participle | a sunken ship |\n",
    "|  **VBG** | verb, gerund or present participle | thinking is fun |\n",
    "|  **WDT** | wh-determiner | which, whatever, whichever |\n",
    "|  **WP** | wh-pronoun, personal | what, who, whom |\n",
    "|  **WP** | wh-pronoun, possessive | whose, whosever |\n",
    "|  **WRB** | wh-adverb | where, when |\n",
    "|  **.** | punctuation mark, sentence closer | .;?* |\n",
    "|  **,** | punctuation mark, comma | , |\n",
    "|  **:** | punctuation mark, colon | : |\n",
    "|  **(** | contextual separator, left paren | ( |\n",
    "|  **)** | contextual separator, right paren | ) |"
   ]
  },
  {
   "cell_type": "markdown",
   "metadata": {},
   "source": [
    "### POS Tags in pattern"
   ]
  },
  {
   "cell_type": "code",
   "execution_count": 58,
   "metadata": {},
   "outputs": [],
   "source": [
    "verben = []\n",
    "substantive = []\n",
    "adjektive = []\n",
    "from pattern.de import parsetree\n",
    "s = parsetree(party_text,relations=True, lemmata=True) \n",
    "for sentence in s: \n",
    "    for chunk in sentence.chunks:\n",
    "        for word in chunk.words:\n",
    "            if \"V\" in word.type:\n",
    "                verben.append(word)\n",
    "            if \"NN\" in word.type:\n",
    "                substantive.append(word)\n",
    "            if \"J\" in word.type:\n",
    "                adjektive.append(word)"
   ]
  },
  {
   "cell_type": "code",
   "execution_count": 59,
   "metadata": {},
   "outputs": [
    {
     "data": {
      "text/plain": [
       "[Word(u'sind/VB'), Word(u'war/VB'), Word(u'geraten/VBN'), Word(u'sei/VB')]"
      ]
     },
     "execution_count": 59,
     "metadata": {},
     "output_type": "execute_result"
    }
   ],
   "source": [
    "verben"
   ]
  },
  {
   "cell_type": "code",
   "execution_count": 60,
   "metadata": {},
   "outputs": [
    {
     "data": {
      "text/plain": [
       "[Word(u'Uhr/NN'),\n",
       " Word(u'Polizisten/NNS'),\n",
       " Word(u'Stadtpolizei/NN'),\n",
       " Word(u'Richtungen/NN'),\n",
       " Word(u'Richtung/NN'),\n",
       " Word(u'Kreis/NN'),\n",
       " Word(u'ausger\\xfcckt/NN'),\n",
       " Word(u'Meldung/NN'),\n",
       " Word(u'Party/NN'),\n",
       " Word(u'Aargauerstrasse/NNP'),\n",
       " Word(u'Kontrolle/NN')]"
      ]
     },
     "execution_count": 60,
     "metadata": {},
     "output_type": "execute_result"
    }
   ],
   "source": [
    "substantive"
   ]
  },
  {
   "cell_type": "code",
   "execution_count": 146,
   "metadata": {},
   "outputs": [
    {
     "data": {
      "text/plain": [
       "[Word(u'Kurz/JJ'),\n",
       " Word(u'alle/JJ'),\n",
       " Word(u'privaten/JJ'),\n",
       " Word(u'angeblich/JJ')]"
      ]
     },
     "execution_count": 146,
     "metadata": {},
     "output_type": "execute_result"
    }
   ],
   "source": [
    "adjektive"
   ]
  },
  {
   "cell_type": "markdown",
   "metadata": {},
   "source": [
    "### POS tags in textblob"
   ]
  },
  {
   "cell_type": "code",
   "execution_count": 38,
   "metadata": {},
   "outputs": [
    {
     "data": {
      "text/plain": [
       "'\\nKurz vor 22.00 Uhr sind Polizisten der Stadtpolizei in alle Richtungen aber vor allem in Richtung Kreis 9 ausgerückt. Grund war eine Meldung zu einer privaten Party an der Aargauerstrasse, die angeblich ausser Kontrolle geraten sei. \\n'"
      ]
     },
     "execution_count": 38,
     "metadata": {},
     "output_type": "execute_result"
    }
   ],
   "source": [
    "party_text"
   ]
  },
  {
   "cell_type": "code",
   "execution_count": 39,
   "metadata": {
    "scrolled": true
   },
   "outputs": [
    {
     "data": {
      "text/plain": [
       "TextBlobDE(\"\n",
       "Kurz vor 22.00 Uhr sind Polizisten der Stadtpolizei in alle Richtungen aber vor allem in Richtung Kreis 9 ausgerückt. Grund war eine Meldung zu einer privaten Party an der Aargauerstrasse, die angeblich ausser Kontrolle geraten sei. \n",
       "\")"
      ]
     },
     "execution_count": 39,
     "metadata": {},
     "output_type": "execute_result"
    }
   ],
   "source": [
    "blob = TextBlobDE(party_text, parser=PatternParser(pprint=False, lemmata=True))\n",
    "blob #Hat sich noch nich geändert. Ausser dass es jetzt ein TextBlobDE Element ist "
   ]
  },
  {
   "cell_type": "code",
   "execution_count": 41,
   "metadata": {},
   "outputs": [
    {
     "data": {
      "text/plain": [
       "[('Kurz', 'JJ'),\n",
       " ('vor', 'IN'),\n",
       " ('22.00', 'CD'),\n",
       " ('Uhr', 'NN'),\n",
       " ('sind', 'VB'),\n",
       " ('Polizisten', 'NNS'),\n",
       " ('der', 'DT'),\n",
       " ('Stadtpolizei', 'NN'),\n",
       " ('in', 'IN'),\n",
       " ('alle', 'JJ'),\n",
       " ('Richtungen', 'NN'),\n",
       " ('aber', 'RB'),\n",
       " ('vor', 'IN'),\n",
       " ('allem', 'DT'),\n",
       " ('in', 'IN'),\n",
       " ('Richtung', 'NN'),\n",
       " ('Kreis', 'NN'),\n",
       " ('9', 'CD'),\n",
       " ('ausgerückt', 'NN'),\n",
       " ('Grund', 'NN'),\n",
       " ('war', 'VB'),\n",
       " ('eine', 'DT'),\n",
       " ('Meldung', 'NN'),\n",
       " ('zu', 'IN'),\n",
       " ('einer', 'DT'),\n",
       " ('privaten', 'JJ'),\n",
       " ('Party', 'NN'),\n",
       " ('an', 'IN'),\n",
       " ('der', 'DT'),\n",
       " ('Aargauerstrasse', 'NNP'),\n",
       " ('die', 'WDT'),\n",
       " ('angeblich', 'JJ'),\n",
       " ('ausser', 'IN'),\n",
       " ('Kontrolle', 'NN'),\n",
       " ('geraten', 'VBN'),\n",
       " ('sei', 'VB')]"
      ]
     },
     "execution_count": 41,
     "metadata": {},
     "output_type": "execute_result"
    }
   ],
   "source": [
    "blob = TextBlobDE(party_text, parser=PatternParser(pprint=False, lemmata=True))\n",
    "blob.tags #jetzt zeigt er an, welches Wort welcher Wortart entspricht."
   ]
  },
  {
   "cell_type": "code",
   "execution_count": 42,
   "metadata": {},
   "outputs": [],
   "source": [
    "substantive = []\n",
    "adjektive = []\n",
    "verben = []\n",
    "blob = TextBlobDE(party_text, parser=PatternParser(pprint=False, lemmata=True))\n",
    "for word in blob.tags: #Für jedes Wort dass du im Text findest, \n",
    "    if \"NN\" in word[1]: # wenn du ein NN findest, ist es ein Nomen\n",
    "        substantive.append(word[0])\n",
    "    if \"V\" in word[1]: # wenn ein V dann ist es ein Verb\n",
    "        verben.append(word[0])\n",
    "    if \"JJ\" in word[1]:# wenn JJ ist es adjektiv\n",
    "    \n",
    "        adjektive.append(word[0])"
   ]
  },
  {
   "cell_type": "code",
   "execution_count": 43,
   "metadata": {},
   "outputs": [
    {
     "data": {
      "text/plain": [
       "['Uhr',\n",
       " 'Polizisten',\n",
       " 'Stadtpolizei',\n",
       " 'Richtungen',\n",
       " 'Richtung',\n",
       " 'Kreis',\n",
       " 'ausgerückt',\n",
       " 'Grund',\n",
       " 'Meldung',\n",
       " 'Party',\n",
       " 'Aargauerstrasse',\n",
       " 'Kontrolle']"
      ]
     },
     "execution_count": 43,
     "metadata": {},
     "output_type": "execute_result"
    }
   ],
   "source": [
    "substantive"
   ]
  },
  {
   "cell_type": "code",
   "execution_count": 44,
   "metadata": {},
   "outputs": [
    {
     "data": {
      "text/plain": [
       "['Kurz', 'alle', 'privaten', 'angeblich']"
      ]
     },
     "execution_count": 44,
     "metadata": {},
     "output_type": "execute_result"
    }
   ],
   "source": [
    "adjektive"
   ]
  },
  {
   "cell_type": "code",
   "execution_count": 45,
   "metadata": {},
   "outputs": [
    {
     "data": {
      "text/plain": [
       "['sind', 'war', 'geraten', 'sei']"
      ]
     },
     "execution_count": 45,
     "metadata": {},
     "output_type": "execute_result"
    }
   ],
   "source": [
    "verben"
   ]
  },
  {
   "cell_type": "code",
   "execution_count": 46,
   "metadata": {},
   "outputs": [],
   "source": [
    "stadtgesch =\"\"\"Im April 1990 hatte der damalige Stadtparlamentarier Peter Kamm, die Aufarbeitung der Geschichte der Stadt Zug bis 2002 verlangt. Der Vorstoss ist noch immer hängig – deren Geschichte noch nicht aufgearbeitet. Es ist der älteste Vorstoss im Grossen Gemeinderat (GGR) der noch nicht erledigt ist.\n",
    "\n",
    "Kamm schrieb im April 1990 in seiner Motion «für eine aktuelle Zuger Stadtgeschichte», dass die letzten Geschichtsschreibungen der Stadt Zug «die der Bevölkerung und den Schulen Auskunft über Stadtentstehung und das frühere Leben und Arbeiten in Zug geben», aus dem Jahr 1824 und 1864 stammen. Seit Jahren sei die Forschung dabei, Erkenntnisse in grosser Zahl zu gewinnen. Dies solle zugänglich gemacht werden. Kamm war überzeugt, dass «die Kenntnis über Zusammenhänge und über das Werden des heutigen Zug die Verantwortung für die Zukunft fördert und für die städtebauliche Weiterentwicklung der Stadt wichtig ist.»\n",
    "\n",
    "Die Zuger Geschichte war ihm ein Anliegen\n",
    "Der Verfasser des Vorstosses, der Architekt und Kunstsammler Peter Kamm, verstarb vor elf Jahren. Seine Schwester Christa Kamm weiss wohl nichts von diesem Vorstoss. Das Anliegen habe aber sehr gut zu Peter Kamms Interessen gepasst, erklärt sie. «Er interessierte sich für die Geschichte. Ihm war Zug wichtig, weil er hier aufgewachsen ist und hier auch gelebt hat.» Zudem habe er dafür gesorgt, dass die Athene nicht abgerissen wurde. Auch das Metalli wollte er erhalten – die Gebäude der Metallwarenfabrik, wo heute das gleichnamige Einkaufszentrum steht. «Für mich ist es deshalb ganz klar, dass er sich für die Stadtgeschichte eingesetzt hatte.»\n",
    "\n",
    "Stadt und Kanton sind eng verknüpft\n",
    "Fast 30 Jahre nach dem Einreichen der Motion, steht Zug noch immer ohne Geschichte da. Seit längerer Zeit liegt das Vorhaben jedoch nicht mehr bei der Stadt, wie Stadtarchivar Thomas Glauser sagt. «Stadtarchiv und Staatsarchiv sind zum Schluss gekommen, dass eine isolierte Darstellung der Stadtgeschichte ohne Einbezug des ganzen Kantons keinen Sinn macht.» Denn bis 1798 lebte rund die Hälfte der Bevölkerung des Standes Zug in der Stadt und in ihrem Untertanengebiet. Es sei daher entschieden worden, die Geschichte der Stadt Zug im Rahmen der ebenfalls noch zu schreibenden Kantonsgeschichte darzustellen.\n",
    "\n",
    "«Auf Initiative des Historischen Vereins des Kantons Zug liess der Kanton ein Konzept für eine Kantonsgeschichte erstellen, in dem auch das Schliessen der noch bestehenden, grossen Forschungslücken vorgesehen war.» Finanziert worden wäre es gemäss Glauser aus dem Lotteriefonds. Aus Kostengründen habe der Kanton die Umsetzung dieses Projekts im Zuge des Sparpakets 2015–2018 aber nicht weiterverfolgt.\n",
    "\n",
    "Neuer Vorstoss lässt Kanton schweigen\n",
    "Inzwischen verzeichnet der Kanton wieder Gewinne. Für das kommende Jahr ist gar ein Überschuss von fast 150 Millionen Franken budgetiert. Ob nun die Aufarbeitung der Zuger Kantonsgeschichte wieder zum Thema wird, ist von den Zuständigen beim Kanton nicht zu erfahren. Grund dazu ist ein aktueller Vorstoss von GLP-Kantonsrat Daniel Stadlin, der Fragen zum Stand der Kantonsgeschichte stellt. Erst nach einer Beantwortung dieser Interpellation könne die Regierung weitere Fragen beantworten, heisst es beim Kanton.\n",
    "\n",
    "Auskunft geben kann hingegen Daniel Stadlin. Obwohl er nicht wusste, dass zu seinem Anliegen ein Vorstoss im GGR noch hängig ist, geht er mit Peter Kamm einig: «Zug braucht dringend eine Niederschreibung seiner Geschichte. Ich bin fast etwas erschrocken, als ich gesehen habe, dass wir kein solches Werk haben. Die Geschichte des Kantons gehört doch zu uns.» Nur einzelne Kapitel seien teilweise erforscht. «Eine Zeitachse mit der Entwicklung – der ganze Fluss der Entstehung des heutigen Kantons – ist nirgends festgehalten.» Es müsse ja nicht gleich ein Buch sein, doch mindestens niedergeschrieben und abrufbar müssten es sein.\n",
    "\n",
    "Wann der Regierungsrat Stadlins Vorstoss beantwortet ist gemäss Landammann Stephan Schleiss noch nicht klar. Sollte sich der Kanton jedoch gegen die Umsetzung einer Kantonsgeschichte entscheiden, hätte dies auch Folgen auf den GGR-Vorstoss von Peter Kamm. Gemäss Stadtarchivar Glauser wäre es dann an der Stadt, nochmals über die Bücher zu gehen und zu entscheiden, ob die Stadt selber eine solche Geschichtsschreibung realisieren will. Die Motion von Peter Kamm wird entsprechend weiterhin aktiv bleiben – die Frist kann beliebig lang weiter erstreckt werden.\"\"\""
   ]
  },
  {
   "cell_type": "code",
   "execution_count": 60,
   "metadata": {},
   "outputs": [],
   "source": [
    "tokens = word_tokenize(stadtgesch)\n",
    "tokens =[word.lower() for word in tokens if word.isalpha()]\n",
    "stadtgesch_clean=(\" \").join(tokens)"
   ]
  },
  {
   "cell_type": "code",
   "execution_count": 61,
   "metadata": {},
   "outputs": [
    {
     "data": {
      "text/plain": [
       "[('im', 'IN'),\n",
       " ('april', 'NN'),\n",
       " ('hatte', 'VB'),\n",
       " ('der', 'DT'),\n",
       " ('damalige', 'JJ'),\n",
       " ('stadtparlamentarier', 'NN'),\n",
       " ('peter', 'NN'),\n",
       " ('kamm', 'NN'),\n",
       " ('die', 'DT'),\n",
       " ('aufarbeitung', 'NN'),\n",
       " ('der', 'DT'),\n",
       " ('geschichte', 'NN'),\n",
       " ('der', 'DT'),\n",
       " ('stadt', 'NNP'),\n",
       " ('zug', 'NNP'),\n",
       " ('bis', 'RB'),\n",
       " ('verlangt', 'VB'),\n",
       " ('der', 'DT'),\n",
       " ('vorstoss', 'NN'),\n",
       " ('ist', 'VB'),\n",
       " ('noch', 'RB'),\n",
       " ('immer', 'RB'),\n",
       " ('hängig', 'JJ'),\n",
       " ('deren', 'DT'),\n",
       " ('geschichte', 'NN'),\n",
       " ('noch', 'RB'),\n",
       " ('nicht', 'RB'),\n",
       " ('aufgearbeitet', 'NN'),\n",
       " ('es', 'PRP'),\n",
       " ('ist', 'VB'),\n",
       " ('der', 'DT'),\n",
       " ('älteste', 'NN'),\n",
       " ('vorstoss', 'NN'),\n",
       " ('im', 'IN'),\n",
       " ('grossen', 'JJ'),\n",
       " ('gemeinderat', 'NN'),\n",
       " ('ggr', 'NN'),\n",
       " ('der', 'DT'),\n",
       " ('noch', 'RB'),\n",
       " ('nicht', 'RB'),\n",
       " ('erledigt', 'VB'),\n",
       " ('ist', 'VB'),\n",
       " ('kamm', 'IN'),\n",
       " ('schrieb', 'NN'),\n",
       " ('im', 'IN'),\n",
       " ('april', 'NN'),\n",
       " ('in', 'IN'),\n",
       " ('seiner', 'PRP$'),\n",
       " ('motion', 'NN'),\n",
       " ('für', 'IN'),\n",
       " ('eine', 'DT'),\n",
       " ('aktuelle', 'JJ'),\n",
       " ('zuger', 'NN'),\n",
       " ('stadtgeschichte', 'NN'),\n",
       " ('dass', 'IN'),\n",
       " ('die', 'DT'),\n",
       " ('letzten', 'JJ'),\n",
       " ('geschichtsschreibungen', 'NN'),\n",
       " ('der', 'DT'),\n",
       " ('stadt', 'NNP'),\n",
       " ('zug', 'NNP'),\n",
       " ('die', 'WDT'),\n",
       " ('der', 'DT'),\n",
       " ('bevölkerung', 'NN'),\n",
       " ('und', 'CC'),\n",
       " ('den', 'DT'),\n",
       " ('schulen', 'VB'),\n",
       " ('auskunft', 'NN'),\n",
       " ('über', 'IN'),\n",
       " ('stadtentstehung', 'NN'),\n",
       " ('und', 'CC'),\n",
       " ('das', 'DT'),\n",
       " ('frühere', 'JJ'),\n",
       " ('leben', 'VB'),\n",
       " ('und', 'CC'),\n",
       " ('arbeiten', 'VB'),\n",
       " ('in', 'IN'),\n",
       " ('zug', 'NN'),\n",
       " ('geben', 'VB'),\n",
       " ('aus', 'IN'),\n",
       " ('dem', 'DT'),\n",
       " ('jahr', 'NN'),\n",
       " ('und', 'CC'),\n",
       " ('stammen', 'VB'),\n",
       " ('seit', 'IN'),\n",
       " ('jahren', 'NN'),\n",
       " ('sei', 'VB'),\n",
       " ('die', 'DT'),\n",
       " ('forschung', 'NN'),\n",
       " ('dabei', 'VB'),\n",
       " ('erkenntnisse', 'NN'),\n",
       " ('in', 'IN'),\n",
       " ('grosser', 'JJ'),\n",
       " ('zahl', 'NN'),\n",
       " ('zu', 'IN'),\n",
       " ('gewinnen', 'VB'),\n",
       " ('dies', 'DT'),\n",
       " ('solle', 'NN'),\n",
       " ('zugänglich', 'JJ'),\n",
       " ('gemacht', 'VB'),\n",
       " ('werden', 'VB'),\n",
       " ('kamm', 'NN'),\n",
       " ('war', 'VB'),\n",
       " ('überzeugt', 'VB'),\n",
       " ('dass', 'RB'),\n",
       " ('die', 'DT'),\n",
       " ('kenntnis', 'NN'),\n",
       " ('über', 'IN'),\n",
       " ('zusammenhänge', 'NN'),\n",
       " ('und', 'CC'),\n",
       " ('über', 'IN'),\n",
       " ('das', 'DT'),\n",
       " ('werden', 'VB'),\n",
       " ('des', 'DT'),\n",
       " ('heutigen', 'JJ'),\n",
       " ('zug', 'NN'),\n",
       " ('die', 'DT'),\n",
       " ('verantwortung', 'NN'),\n",
       " ('für', 'IN'),\n",
       " ('die', 'DT'),\n",
       " ('zukunft', 'NN'),\n",
       " ('fördert', 'VB'),\n",
       " ('und', 'CC'),\n",
       " ('für', 'IN'),\n",
       " ('die', 'DT'),\n",
       " ('städtebauliche', 'JJ'),\n",
       " ('weiterentwicklung', 'NN'),\n",
       " ('der', 'DT'),\n",
       " ('stadt', 'NNP'),\n",
       " ('wichtig', 'JJ'),\n",
       " ('die', 'DT'),\n",
       " ('zuger', 'NN'),\n",
       " ('geschichte', 'NN'),\n",
       " ('war', 'VB'),\n",
       " ('ihm', 'PRP'),\n",
       " ('ein', 'DT'),\n",
       " ('anliegen', 'NN'),\n",
       " ('der', 'DT'),\n",
       " ('verfasser', 'NN'),\n",
       " ('des', 'DT'),\n",
       " ('vorstosses', 'NN'),\n",
       " ('der', 'DT'),\n",
       " ('architekt', 'NN'),\n",
       " ('und', 'CC'),\n",
       " ('kunstsammler', 'NN'),\n",
       " ('peter', 'NN'),\n",
       " ('kamm', 'JJ'),\n",
       " ('verstarb', 'NN'),\n",
       " ('vor', 'IN'),\n",
       " ('elf', 'CD'),\n",
       " ('jahren', 'NN'),\n",
       " ('seine', 'PRP$'),\n",
       " ('schwester', 'NN'),\n",
       " ('christa', 'NN'),\n",
       " ('kamm', 'NN'),\n",
       " ('weiss', 'VB'),\n",
       " ('wohl', 'RB'),\n",
       " ('nichts', 'DT'),\n",
       " ('von', 'IN'),\n",
       " ('diesem', 'DT'),\n",
       " ('vorstoss', 'NN'),\n",
       " ('das', 'DT'),\n",
       " ('anliegen', 'NN'),\n",
       " ('habe', 'VB'),\n",
       " ('aber', 'RB'),\n",
       " ('sehr', 'RB'),\n",
       " ('gut', 'JJ'),\n",
       " ('zu', 'IN'),\n",
       " ('peter', 'NN'),\n",
       " ('kamms', 'NN'),\n",
       " ('interessen', 'NN'),\n",
       " ('gepasst', 'NN'),\n",
       " ('erklärt', 'VB'),\n",
       " ('sie', 'PRP'),\n",
       " ('er', 'PRP'),\n",
       " ('interessierte', 'JJ'),\n",
       " ('sich', 'PRP'),\n",
       " ('für', 'IN'),\n",
       " ('die', 'DT'),\n",
       " ('geschichte', 'NN'),\n",
       " ('ihm', 'PRP'),\n",
       " ('war', 'VB'),\n",
       " ('zug', 'NN'),\n",
       " ('wichtig', 'JJ'),\n",
       " ('weil', 'RB'),\n",
       " ('er', 'PRP'),\n",
       " ('hier', 'IN'),\n",
       " ('aufgewachsen', 'NN'),\n",
       " ('ist', 'VB'),\n",
       " ('und', 'CC'),\n",
       " ('hier', 'RB'),\n",
       " ('auch', 'IN'),\n",
       " ('gelebt', 'NN'),\n",
       " ('zudem', 'VB'),\n",
       " ('habe', 'RB'),\n",
       " ('er', 'PRP'),\n",
       " ('dafür', 'RB'),\n",
       " ('gesorgt', 'VBN'),\n",
       " ('dass', 'IN'),\n",
       " ('die', 'DT'),\n",
       " ('athene', 'NN'),\n",
       " ('nicht', 'RB'),\n",
       " ('abgerissen', 'NN'),\n",
       " ('wurde', 'VB'),\n",
       " ('auch', 'RB'),\n",
       " ('das', 'DT'),\n",
       " ('metalli', 'NN'),\n",
       " ('wollte', 'MD'),\n",
       " ('er', 'PRP'),\n",
       " ('erhalten', 'VB'),\n",
       " ('die', 'DT'),\n",
       " ('gebäude', 'NN'),\n",
       " ('der', 'DT'),\n",
       " ('metallwarenfabrik', 'NN'),\n",
       " ('wo', 'WRB'),\n",
       " ('heute', 'VB'),\n",
       " ('das', 'DT'),\n",
       " ('gleichnamige', 'NN'),\n",
       " ('einkaufszentrum', 'NN'),\n",
       " ('steht', 'VB'),\n",
       " ('für', 'IN'),\n",
       " ('mich', 'PRP'),\n",
       " ('ist', 'VB'),\n",
       " ('es', 'PRP'),\n",
       " ('deshalb', 'RB'),\n",
       " ('ganz', 'RB'),\n",
       " ('klar', 'JJ'),\n",
       " ('dass', 'IN'),\n",
       " ('er', 'JJ'),\n",
       " ('sich', 'PRP'),\n",
       " ('für', 'IN'),\n",
       " ('die', 'DT'),\n",
       " ('stadtgeschichte', 'NN'),\n",
       " ('eingesetzt', 'VBN'),\n",
       " ('stadt', 'NNP'),\n",
       " ('und', 'CC'),\n",
       " ('kanton', 'NNP'),\n",
       " ('sind', 'VB'),\n",
       " ('eng', 'JJ'),\n",
       " ('verknüpft', 'NN'),\n",
       " ('fast', 'JJ'),\n",
       " ('jahre', 'NN'),\n",
       " ('nach', 'IN'),\n",
       " ('dem', 'DT'),\n",
       " ('einreichen', 'VB'),\n",
       " ('der', 'DT'),\n",
       " ('motion', 'NN'),\n",
       " ('steht', 'VB'),\n",
       " ('zug', 'NN'),\n",
       " ('noch', 'RB'),\n",
       " ('immer', 'RB'),\n",
       " ('ohne', 'IN'),\n",
       " ('geschichte', 'NN'),\n",
       " ('da', 'IN'),\n",
       " ('seit', 'IN'),\n",
       " ('längerer', 'JJ'),\n",
       " ('zeit', 'NN'),\n",
       " ('liegt', 'VB'),\n",
       " ('das', 'DT'),\n",
       " ('vorhaben', 'VB'),\n",
       " ('jedoch', 'RB'),\n",
       " ('nicht', 'RB'),\n",
       " ('mehr', 'RB'),\n",
       " ('bei', 'IN'),\n",
       " ('der', 'DT'),\n",
       " ('stadt', 'NNP'),\n",
       " ('wie', 'IN'),\n",
       " ('stadtarchivar', 'NN'),\n",
       " ('thomas', 'NN'),\n",
       " ('glauser', 'NN'),\n",
       " ('sagt', 'VB'),\n",
       " ('stadtarchiv', 'NN'),\n",
       " ('und', 'CC'),\n",
       " ('staatsarchiv', 'NN'),\n",
       " ('sind', 'VB'),\n",
       " ('zum', 'IN'),\n",
       " ('schluss', 'NN'),\n",
       " ('gekommen', 'VBN'),\n",
       " ('dass', 'IN'),\n",
       " ('eine', 'DT'),\n",
       " ('isolierte', 'NN'),\n",
       " ('darstellung', 'NN'),\n",
       " ('der', 'DT'),\n",
       " ('stadtgeschichte', 'NN'),\n",
       " ('ohne', 'IN'),\n",
       " ('einbezug', 'NN'),\n",
       " ('des', 'DT'),\n",
       " ('ganzen', 'JJ'),\n",
       " ('kantons', 'NN'),\n",
       " ('keinen', 'JJ'),\n",
       " ('sinn', 'NN'),\n",
       " ('denn', 'RB'),\n",
       " ('bis', 'IN'),\n",
       " ('lebte', 'VB'),\n",
       " ('rund', 'RB'),\n",
       " ('die', 'DT'),\n",
       " ('hälfte', 'NN'),\n",
       " ('der', 'DT'),\n",
       " ('bevölkerung', 'NN'),\n",
       " ('des', 'DT'),\n",
       " ('standes', 'JJ'),\n",
       " ('zug', 'NN'),\n",
       " ('in', 'IN'),\n",
       " ('der', 'DT'),\n",
       " ('stadt', 'NNP'),\n",
       " ('und', 'CC'),\n",
       " ('in', 'IN'),\n",
       " ('ihrem', 'PRP$'),\n",
       " ('untertanengebiet', 'NN'),\n",
       " ('es', 'PRP'),\n",
       " ('sei', 'VB'),\n",
       " ('daher', 'RB'),\n",
       " ('entschieden', 'VBN'),\n",
       " ('worden', 'VBN'),\n",
       " ('die', 'DT'),\n",
       " ('geschichte', 'NN'),\n",
       " ('der', 'DT'),\n",
       " ('stadt', 'NNP'),\n",
       " ('zug', 'NNP'),\n",
       " ('im', 'IN'),\n",
       " ('rahmen', 'NN'),\n",
       " ('der', 'DT'),\n",
       " ('ebenfalls', 'RB'),\n",
       " ('noch', 'RB'),\n",
       " ('zu', 'IN'),\n",
       " ('schreibenden', 'NN'),\n",
       " ('kantonsgeschichte', 'NN'),\n",
       " ('darzustellen', 'VB'),\n",
       " ('auf', 'IN'),\n",
       " ('initiative', 'NN'),\n",
       " ('des', 'DT'),\n",
       " ('historischen', 'JJ'),\n",
       " ('vereins', 'NN'),\n",
       " ('des', 'DT'),\n",
       " ('kantons', 'NN'),\n",
       " ('zug', 'NN'),\n",
       " ('liess', 'VB'),\n",
       " ('der', 'DT'),\n",
       " ('kanton', 'NN'),\n",
       " ('ein', 'DT'),\n",
       " ('konzept', 'NN'),\n",
       " ('für', 'IN'),\n",
       " ('eine', 'DT'),\n",
       " ('kantonsgeschichte', 'NN'),\n",
       " ('erstellen', 'VB'),\n",
       " ('in', 'IN'),\n",
       " ('dem', 'DT'),\n",
       " ('auch', 'RB'),\n",
       " ('das', 'DT'),\n",
       " ('schliessen', 'VB'),\n",
       " ('der', 'DT'),\n",
       " ('noch', 'RB'),\n",
       " ('bestehenden', 'JJ'),\n",
       " ('grossen', 'JJ'),\n",
       " ('forschungslücken', 'NN'),\n",
       " ('vorgesehen', 'VBN'),\n",
       " ('finanziert', 'VBN'),\n",
       " ('worden', 'VBN'),\n",
       " ('wäre', 'VB'),\n",
       " ('es', 'PRP'),\n",
       " ('gemäss', 'IN'),\n",
       " ('glauser', 'NN'),\n",
       " ('aus', 'IN'),\n",
       " ('dem', 'DT'),\n",
       " ('lotteriefonds', 'NN'),\n",
       " ('aus', 'IN'),\n",
       " ('kostengründen', 'NN'),\n",
       " ('habe', 'VB'),\n",
       " ('der', 'DT'),\n",
       " ('kanton', 'NN'),\n",
       " ('die', 'DT'),\n",
       " ('umsetzung', 'NN'),\n",
       " ('dieses', 'DT'),\n",
       " ('projekts', 'NN'),\n",
       " ('im', 'IN'),\n",
       " ('zuge', 'NN'),\n",
       " ('des', 'DT'),\n",
       " ('sparpakets', 'NN'),\n",
       " ('aber', 'RB'),\n",
       " ('nicht', 'RB'),\n",
       " ('weiterverfolgt', 'VB'),\n",
       " ('neuer', 'JJ'),\n",
       " ('vorstoss', 'NN'),\n",
       " ('lässt', 'VB'),\n",
       " ('kanton', 'NN'),\n",
       " ('schweigen', 'VB'),\n",
       " ('inzwischen', 'RB'),\n",
       " ('verzeichnet', 'VB'),\n",
       " ('der', 'DT'),\n",
       " ('kanton', 'NN'),\n",
       " ('wieder', 'IN'),\n",
       " ('gewinne', 'NN'),\n",
       " ('für', 'IN'),\n",
       " ('das', 'DT'),\n",
       " ('kommende', 'JJ'),\n",
       " ('jahr', 'NN'),\n",
       " ('ist', 'VB'),\n",
       " ('gar', 'RB'),\n",
       " ('ein', 'DT'),\n",
       " ('überschuss', 'NN'),\n",
       " ('von', 'IN'),\n",
       " ('fast', 'VB'),\n",
       " ('millionen', 'NN'),\n",
       " ('franken', 'NN'),\n",
       " ('budgetiert', 'NN'),\n",
       " ('ob', 'IN'),\n",
       " ('nun', 'RB'),\n",
       " ('die', 'DT'),\n",
       " ('aufarbeitung', 'NN'),\n",
       " ('der', 'DT'),\n",
       " ('zuger', 'NN'),\n",
       " ('kantonsgeschichte', 'NN'),\n",
       " ('wieder', 'VB'),\n",
       " ('zum', 'IN'),\n",
       " ('thema', 'NN'),\n",
       " ('wird', 'VB'),\n",
       " ('ist', 'VBN'),\n",
       " ('von', 'IN'),\n",
       " ('den', 'DT'),\n",
       " ('zuständigen', 'NN'),\n",
       " ('beim', 'IN'),\n",
       " ('kanton', 'NN'),\n",
       " ('nicht', 'RB'),\n",
       " ('zu', 'IN'),\n",
       " ('erfahren', 'VB'),\n",
       " ('grund', 'NN'),\n",
       " ('dazu', 'VB'),\n",
       " ('ist', 'RB'),\n",
       " ('ein', 'DT'),\n",
       " ('aktueller', 'JJ'),\n",
       " ('vorstoss', 'NN'),\n",
       " ('von', 'IN'),\n",
       " ('daniel', 'RB'),\n",
       " ('stadlin', 'NN'),\n",
       " ('der', 'DT'),\n",
       " ('fragen', 'VB'),\n",
       " ('zum', 'IN'),\n",
       " ('stand', 'RB'),\n",
       " ('der', 'DT'),\n",
       " ('kantonsgeschichte', 'NN'),\n",
       " ('stellt', 'VB'),\n",
       " ('erst', 'RB'),\n",
       " ('nach', 'IN'),\n",
       " ('einer', 'DT'),\n",
       " ('beantwortung', 'NN'),\n",
       " ('dieser', 'DT'),\n",
       " ('interpellation', 'NN'),\n",
       " ('könne', 'VB'),\n",
       " ('die', 'DT'),\n",
       " ('regierung', 'NN'),\n",
       " ('weitere', 'JJ'),\n",
       " ('fragen', 'VB'),\n",
       " ('beantworten', 'VB'),\n",
       " ('heisst', 'RB'),\n",
       " ('es', 'PRP'),\n",
       " ('beim', 'IN'),\n",
       " ('kanton', 'NN'),\n",
       " ('auskunft', 'NN'),\n",
       " ('geben', 'VB'),\n",
       " ('kann', 'VB'),\n",
       " ('hingegen', 'RB'),\n",
       " ('daniel', 'RB'),\n",
       " ('stadlin', 'NN'),\n",
       " ('obwohl', 'RB'),\n",
       " ('er', 'PRP'),\n",
       " ('nicht', 'RB'),\n",
       " ('wusste', 'VB'),\n",
       " ('dass', 'IN'),\n",
       " ('zu', 'IN'),\n",
       " ('seinem', 'PRP$'),\n",
       " ('anliegen', 'NN'),\n",
       " ('ein', 'DT'),\n",
       " ('vorstoss', 'NN'),\n",
       " ('im', 'IN'),\n",
       " ('ggr', 'NN'),\n",
       " ('noch', 'RB'),\n",
       " ('hängig', 'JJ'),\n",
       " ('ist', 'VB'),\n",
       " ('geht', 'VBN'),\n",
       " ('er', 'PRP'),\n",
       " ('mit', 'IN'),\n",
       " ('peter', 'NN'),\n",
       " ('kamm', 'NN'),\n",
       " ('einig', 'JJ'),\n",
       " ('zug', 'NN'),\n",
       " ('braucht', 'VB'),\n",
       " ('dringend', 'JJ'),\n",
       " ('eine', 'DT'),\n",
       " ('niederschreibung', 'NN'),\n",
       " ('seiner', 'PRP$'),\n",
       " ('geschichte', 'NN'),\n",
       " ('ich', 'PRP'),\n",
       " ('bin', 'VB'),\n",
       " ('fast', 'VB'),\n",
       " ('etwas', 'DT'),\n",
       " ('erschrocken', 'JJ'),\n",
       " ('als', 'IN'),\n",
       " ('ich', 'PRP'),\n",
       " ('gesehen', 'VB'),\n",
       " ('habe', 'VB'),\n",
       " ('dass', 'RB'),\n",
       " ('wir', 'PRP'),\n",
       " ('kein', 'DT'),\n",
       " ('solches', 'JJ'),\n",
       " ('werk', 'NN'),\n",
       " ('haben', 'VB'),\n",
       " ('die', 'DT'),\n",
       " ('geschichte', 'NN'),\n",
       " ('des', 'DT'),\n",
       " ('kantons', 'NN'),\n",
       " ('gehört', 'VB'),\n",
       " ('doch', 'RB'),\n",
       " ('zu', 'RB'),\n",
       " ('nur', 'RB'),\n",
       " ('einzelne', 'JJ'),\n",
       " ('kapitel', 'NN'),\n",
       " ('seien', 'VB'),\n",
       " ('teilweise', 'IN'),\n",
       " ('erforscht', 'NN'),\n",
       " ('eine', 'DT'),\n",
       " ('zeitachse', 'NN'),\n",
       " ('mit', 'IN'),\n",
       " ('der', 'DT'),\n",
       " ('entwicklung', 'NN'),\n",
       " ('der', 'DT'),\n",
       " ('ganze', 'JJ'),\n",
       " ('fluss', 'NN'),\n",
       " ('der', 'DT'),\n",
       " ('entstehung', 'NN'),\n",
       " ('des', 'DT'),\n",
       " ('heutigen', 'JJ'),\n",
       " ('kantons', 'NN'),\n",
       " ('ist', 'VB'),\n",
       " ('nirgends', 'WRB'),\n",
       " ('es', 'PRP'),\n",
       " ('müsse', 'VB'),\n",
       " ('ja', 'RB'),\n",
       " ('nicht', 'RB'),\n",
       " ('gleich', 'JJ'),\n",
       " ('ein', 'DT'),\n",
       " ('buch', 'NN'),\n",
       " ('sein', 'VB'),\n",
       " ('doch', 'RB'),\n",
       " ('mindestens', 'IN'),\n",
       " ('niedergeschrieben', 'NN'),\n",
       " ('und', 'CC'),\n",
       " ('abrufbar', 'JJ'),\n",
       " ('müssten', 'VB'),\n",
       " ('es', 'PRP'),\n",
       " ('sein', 'VB'),\n",
       " ('wann', 'WRB'),\n",
       " ('der', 'DT'),\n",
       " ('regierungsrat', 'NN'),\n",
       " ('stadlins', 'NN'),\n",
       " ('vorstoss', 'NN'),\n",
       " ('beantwortet', 'VBN'),\n",
       " ('ist', 'VB'),\n",
       " ('gemäss', 'IN'),\n",
       " ('landammann', 'NNP'),\n",
       " ('stephan', 'NNP'),\n",
       " ('schleiss', 'NNP'),\n",
       " ('noch', 'RB'),\n",
       " ('nicht', 'RB'),\n",
       " ('klar', 'JJ'),\n",
       " ('sollte', 'MD'),\n",
       " ('sich', 'PRP'),\n",
       " ('der', 'DT'),\n",
       " ('kanton', 'NN'),\n",
       " ('jedoch', 'RB'),\n",
       " ('gegen', 'IN'),\n",
       " ('die', 'DT'),\n",
       " ('umsetzung', 'NN'),\n",
       " ('einer', 'DT'),\n",
       " ('kantonsgeschichte', 'NN'),\n",
       " ('entscheiden', 'VB'),\n",
       " ('hätte', 'VB'),\n",
       " ('dies', 'DT'),\n",
       " ('auch', 'RB'),\n",
       " ('folgen', 'VB'),\n",
       " ('auf', 'IN'),\n",
       " ('den', 'DT'),\n",
       " ('von', 'IN'),\n",
       " ('peter', 'JJ'),\n",
       " ('kamm', 'NN'),\n",
       " ('gemäss', 'IN'),\n",
       " ('stadtarchivar', 'NN'),\n",
       " ('glauser', 'NN'),\n",
       " ('wäre', 'VB'),\n",
       " ('es', 'PRP'),\n",
       " ('dann', 'RB'),\n",
       " ('an', 'IN'),\n",
       " ('der', 'DT'),\n",
       " ('stadt', 'NNP'),\n",
       " ('nochmals', 'RB'),\n",
       " ('über', 'IN'),\n",
       " ('die', 'DT'),\n",
       " ('bücher', 'NN'),\n",
       " ('zu', 'TO'),\n",
       " ('gehen', 'VB'),\n",
       " ('und', 'CC'),\n",
       " ('zu', 'TO'),\n",
       " ('entscheiden', 'VB'),\n",
       " ('ob', 'IN'),\n",
       " ('die', 'DT'),\n",
       " ('stadt', 'NNP'),\n",
       " ('selber', 'DT'),\n",
       " ('eine', 'DT'),\n",
       " ('solche', 'DT'),\n",
       " ('geschichtsschreibung', 'NN'),\n",
       " ('realisieren', 'VB'),\n",
       " ('will', 'MD'),\n",
       " ('die', 'DT'),\n",
       " ('motion', 'NN'),\n",
       " ('von', 'IN'),\n",
       " ('peter', 'NN'),\n",
       " ('kamm', 'NN'),\n",
       " ('wird', 'VB'),\n",
       " ('entsprechend', 'JJ'),\n",
       " ('weiterhin', 'RB'),\n",
       " ('aktiv', 'JJ'),\n",
       " ('bleiben', 'VB'),\n",
       " ('die', 'DT'),\n",
       " ('frist', 'NN'),\n",
       " ('kann', 'VB'),\n",
       " ('beliebig', 'JJ'),\n",
       " ('lang', 'JJ'),\n",
       " ('weiter', 'IN'),\n",
       " ('erstreckt', 'NN'),\n",
       " ('werden', 'VB')]"
      ]
     },
     "execution_count": 61,
     "metadata": {},
     "output_type": "execute_result"
    }
   ],
   "source": [
    "blob = TextBlobDE(stadtgesch_clean, parser=PatternParser(pprint=False, lemmata=True))\n",
    "blob.tags "
   ]
  },
  {
   "cell_type": "code",
   "execution_count": 62,
   "metadata": {},
   "outputs": [],
   "source": [
    "nomen = []\n",
    "adjektiv = []\n",
    "verb = []\n",
    "zahlen = []\n",
    "blob = TextBlobDE(stadtgesch_clean, parser=PatternParser(pprint=False, lemmata=True))\n",
    "for word in blob.tags: #Für jedes Wort dass du im Text findest, \n",
    "    if \"NN\" in word[1]: # wenn du ein NN findest, ist es ein Nomen\n",
    "        nomen.append(word[0])\n",
    "    if \"V\" in word[1]: # wenn ein V dann ist es ein Verb\n",
    "        verb.append(word[0])\n",
    "    if \"JJ\" in word[1]:# wenn JJ ist es adjektiv\n",
    "        adjektiv.append(word[0])\n",
    "    if \"CD\" in word[1]:\n",
    "        zahlen.append(word[0])"
   ]
  },
  {
   "cell_type": "code",
   "execution_count": 63,
   "metadata": {},
   "outputs": [
    {
     "data": {
      "text/plain": [
       "['elf']"
      ]
     },
     "execution_count": 63,
     "metadata": {},
     "output_type": "execute_result"
    }
   ],
   "source": [
    "zahlen"
   ]
  },
  {
   "cell_type": "code",
   "execution_count": 64,
   "metadata": {},
   "outputs": [
    {
     "data": {
      "text/plain": [
       "['hatte',\n",
       " 'verlangt',\n",
       " 'ist',\n",
       " 'ist',\n",
       " 'erledigt',\n",
       " 'ist',\n",
       " 'schulen',\n",
       " 'leben',\n",
       " 'arbeiten',\n",
       " 'geben',\n",
       " 'stammen',\n",
       " 'sei',\n",
       " 'dabei',\n",
       " 'gewinnen',\n",
       " 'gemacht',\n",
       " 'werden',\n",
       " 'war',\n",
       " 'überzeugt',\n",
       " 'werden',\n",
       " 'fördert',\n",
       " 'war',\n",
       " 'weiss',\n",
       " 'habe',\n",
       " 'erklärt',\n",
       " 'war',\n",
       " 'ist',\n",
       " 'zudem',\n",
       " 'gesorgt',\n",
       " 'wurde',\n",
       " 'erhalten',\n",
       " 'heute',\n",
       " 'steht',\n",
       " 'ist',\n",
       " 'eingesetzt',\n",
       " 'sind',\n",
       " 'einreichen',\n",
       " 'steht',\n",
       " 'liegt',\n",
       " 'vorhaben',\n",
       " 'sagt',\n",
       " 'sind',\n",
       " 'gekommen',\n",
       " 'lebte',\n",
       " 'sei',\n",
       " 'entschieden',\n",
       " 'worden',\n",
       " 'darzustellen',\n",
       " 'liess',\n",
       " 'erstellen',\n",
       " 'schliessen',\n",
       " 'vorgesehen',\n",
       " 'finanziert',\n",
       " 'worden',\n",
       " 'wäre',\n",
       " 'habe',\n",
       " 'weiterverfolgt',\n",
       " 'lässt',\n",
       " 'schweigen',\n",
       " 'verzeichnet',\n",
       " 'ist',\n",
       " 'fast',\n",
       " 'wieder',\n",
       " 'wird',\n",
       " 'ist',\n",
       " 'erfahren',\n",
       " 'dazu',\n",
       " 'fragen',\n",
       " 'stellt',\n",
       " 'könne',\n",
       " 'fragen',\n",
       " 'beantworten',\n",
       " 'geben',\n",
       " 'kann',\n",
       " 'wusste',\n",
       " 'ist',\n",
       " 'geht',\n",
       " 'braucht',\n",
       " 'bin',\n",
       " 'fast',\n",
       " 'gesehen',\n",
       " 'habe',\n",
       " 'haben',\n",
       " 'gehört',\n",
       " 'seien',\n",
       " 'ist',\n",
       " 'müsse',\n",
       " 'sein',\n",
       " 'müssten',\n",
       " 'sein',\n",
       " 'beantwortet',\n",
       " 'ist',\n",
       " 'entscheiden',\n",
       " 'hätte',\n",
       " 'folgen',\n",
       " 'wäre',\n",
       " 'gehen',\n",
       " 'entscheiden',\n",
       " 'realisieren',\n",
       " 'wird',\n",
       " 'bleiben',\n",
       " 'kann',\n",
       " 'werden']"
      ]
     },
     "execution_count": 64,
     "metadata": {},
     "output_type": "execute_result"
    }
   ],
   "source": [
    "verb"
   ]
  },
  {
   "cell_type": "markdown",
   "metadata": {},
   "source": [
    "## Stop word removal\n"
   ]
  },
  {
   "cell_type": "code",
   "execution_count": 65,
   "metadata": {},
   "outputs": [
    {
     "name": "stderr",
     "output_type": "stream",
     "text": [
      "[nltk_data] Downloading package stopwords to\n",
      "[nltk_data]     C:\\Users\\Zoe\\AppData\\Roaming\\nltk_data...\n",
      "[nltk_data]   Unzipping corpora\\stopwords.zip.\n"
     ]
    }
   ],
   "source": [
    "nltk.download('stopwords')\n",
    "from nltk.corpus import stopwords"
   ]
  },
  {
   "cell_type": "markdown",
   "metadata": {},
   "source": [
    "### Englisch"
   ]
  },
  {
   "cell_type": "code",
   "execution_count": 66,
   "metadata": {},
   "outputs": [
    {
     "data": {
      "text/plain": [
       "['i',\n",
       " 'me',\n",
       " 'my',\n",
       " 'myself',\n",
       " 'we',\n",
       " 'our',\n",
       " 'ours',\n",
       " 'ourselves',\n",
       " 'you',\n",
       " \"you're\",\n",
       " \"you've\",\n",
       " \"you'll\",\n",
       " \"you'd\",\n",
       " 'your',\n",
       " 'yours',\n",
       " 'yourself',\n",
       " 'yourselves',\n",
       " 'he',\n",
       " 'him',\n",
       " 'his',\n",
       " 'himself',\n",
       " 'she',\n",
       " \"she's\",\n",
       " 'her',\n",
       " 'hers',\n",
       " 'herself',\n",
       " 'it',\n",
       " \"it's\",\n",
       " 'its',\n",
       " 'itself',\n",
       " 'they',\n",
       " 'them',\n",
       " 'their',\n",
       " 'theirs',\n",
       " 'themselves',\n",
       " 'what',\n",
       " 'which',\n",
       " 'who',\n",
       " 'whom',\n",
       " 'this',\n",
       " 'that',\n",
       " \"that'll\",\n",
       " 'these',\n",
       " 'those',\n",
       " 'am',\n",
       " 'is',\n",
       " 'are',\n",
       " 'was',\n",
       " 'were',\n",
       " 'be',\n",
       " 'been',\n",
       " 'being',\n",
       " 'have',\n",
       " 'has',\n",
       " 'had',\n",
       " 'having',\n",
       " 'do',\n",
       " 'does',\n",
       " 'did',\n",
       " 'doing',\n",
       " 'a',\n",
       " 'an',\n",
       " 'the',\n",
       " 'and',\n",
       " 'but',\n",
       " 'if',\n",
       " 'or',\n",
       " 'because',\n",
       " 'as',\n",
       " 'until',\n",
       " 'while',\n",
       " 'of',\n",
       " 'at',\n",
       " 'by',\n",
       " 'for',\n",
       " 'with',\n",
       " 'about',\n",
       " 'against',\n",
       " 'between',\n",
       " 'into',\n",
       " 'through',\n",
       " 'during',\n",
       " 'before',\n",
       " 'after',\n",
       " 'above',\n",
       " 'below',\n",
       " 'to',\n",
       " 'from',\n",
       " 'up',\n",
       " 'down',\n",
       " 'in',\n",
       " 'out',\n",
       " 'on',\n",
       " 'off',\n",
       " 'over',\n",
       " 'under',\n",
       " 'again',\n",
       " 'further',\n",
       " 'then',\n",
       " 'once']"
      ]
     },
     "execution_count": 66,
     "metadata": {},
     "output_type": "execute_result"
    }
   ],
   "source": [
    "stopwords.words('english')[0:100]"
   ]
  },
  {
   "cell_type": "code",
   "execution_count": 67,
   "metadata": {},
   "outputs": [
    {
     "data": {
      "text/plain": [
       "['big', 'tree', 'duck']"
      ]
     },
     "execution_count": 67,
     "metadata": {},
     "output_type": "execute_result"
    }
   ],
   "source": [
    "words_engl = [\"the\", \"big\", \"tree\", \"and\", \"the\", \"duck\"]\n",
    "filtered_words = [word for word in words_engl if word not in stopwords.words('english')]\n",
    "filtered_words #Wenn Wort in den Stopwörtern nicht dabei ist, darf man es in Liste nehmen."
   ]
  },
  {
   "cell_type": "markdown",
   "metadata": {},
   "source": [
    "### Deutsch"
   ]
  },
  {
   "cell_type": "code",
   "execution_count": 68,
   "metadata": {},
   "outputs": [],
   "source": [
    "mylist = stopwords.words('german')"
   ]
  },
  {
   "cell_type": "code",
   "execution_count": 80,
   "metadata": {},
   "outputs": [
    {
     "data": {
      "text/plain": [
       "[u'andere',\n",
       " u'unseres',\n",
       " u'euch',\n",
       " u'anderm',\n",
       " u'andern',\n",
       " u'das',\n",
       " u'w\\xfcrde',\n",
       " u'w\\xe4hrend',\n",
       " u'sollte',\n",
       " u'selbst',\n",
       " u'anderr',\n",
       " u'anders',\n",
       " u'dem',\n",
       " u'aber',\n",
       " u'unserem',\n",
       " u'als',\n",
       " u'unseren',\n",
       " u'alle',\n",
       " u'dessen',\n",
       " u'machen',\n",
       " u'dazu',\n",
       " u'auf',\n",
       " u'dich',\n",
       " u'hab',\n",
       " u'demselben',\n",
       " u'aus',\n",
       " u'einige',\n",
       " u'derselbe',\n",
       " u'indem',\n",
       " u'hatte',\n",
       " u'hat',\n",
       " u'sich',\n",
       " u'bin',\n",
       " u'musste',\n",
       " u'sie',\n",
       " u'mein',\n",
       " u'deine',\n",
       " u'ihnen',\n",
       " u'deinem',\n",
       " u'deinen',\n",
       " u'allen',\n",
       " u'deines',\n",
       " u'deiner',\n",
       " u'einmal',\n",
       " u'dasselbe',\n",
       " u'du',\n",
       " u'bis',\n",
       " u'hin',\n",
       " u'wenn',\n",
       " u'viel',\n",
       " u'keiner',\n",
       " u'keines',\n",
       " u'die',\n",
       " u'warst',\n",
       " u'w\\xfcrden',\n",
       " u'haben',\n",
       " u'doch',\n",
       " u'nichts',\n",
       " u'keinem',\n",
       " u'keinen',\n",
       " u'anderem',\n",
       " u'dir',\n",
       " u'eine',\n",
       " u'kann',\n",
       " u'solcher',\n",
       " u'nur',\n",
       " u'hinter',\n",
       " u'eurer',\n",
       " u'werden',\n",
       " u'solchen',\n",
       " u'es',\n",
       " u'er',\n",
       " u'um',\n",
       " u'ohne',\n",
       " u'einem',\n",
       " u'meinen',\n",
       " u'diesem',\n",
       " u'diesen',\n",
       " u'meinem',\n",
       " u'meiner',\n",
       " u'meines',\n",
       " u'dieser',\n",
       " u'dieses',\n",
       " u'sonst',\n",
       " u'werde',\n",
       " u'dein',\n",
       " u'jede',\n",
       " u'denselben',\n",
       " u'vom',\n",
       " u'dort',\n",
       " u'soll',\n",
       " u'jeden',\n",
       " u'jedem',\n",
       " u'diese',\n",
       " u'wo',\n",
       " u'seine',\n",
       " u'wirst',\n",
       " u'auch',\n",
       " u'weil',\n",
       " u'jedes',\n",
       " u'jeder',\n",
       " u'habe',\n",
       " u'weiter',\n",
       " u'zur',\n",
       " u'uns',\n",
       " u'bist',\n",
       " u'ob',\n",
       " u'ist',\n",
       " u'k\\xf6nnte',\n",
       " u'ander',\n",
       " u'und',\n",
       " u'einig',\n",
       " u'da\\xdf',\n",
       " u'zum',\n",
       " u'solches',\n",
       " u'wie',\n",
       " u'einer',\n",
       " u'eines',\n",
       " u'ihr',\n",
       " u'nach',\n",
       " u'gewesen',\n",
       " u'desselben',\n",
       " u'ihn',\n",
       " u'wir',\n",
       " u'ihm',\n",
       " u'einen',\n",
       " u'alles',\n",
       " u'f\\xfcr',\n",
       " u'jene',\n",
       " u'sind',\n",
       " u'jenem',\n",
       " u'welches',\n",
       " u'jenen',\n",
       " u'einiger',\n",
       " u'einiges',\n",
       " u'oder',\n",
       " u'weg',\n",
       " u'einigem',\n",
       " u'damit',\n",
       " u'euer',\n",
       " u'dieselbe',\n",
       " u'was',\n",
       " u'war',\n",
       " u'sondern',\n",
       " u'jener',\n",
       " u'einigen',\n",
       " u'unsere',\n",
       " u'mich',\n",
       " u'muss',\n",
       " u'an',\n",
       " u'nun',\n",
       " u'bei',\n",
       " u'welchem',\n",
       " u'der',\n",
       " u'des',\n",
       " u'nicht',\n",
       " u'will',\n",
       " u'dann',\n",
       " u'jenes',\n",
       " u'den',\n",
       " u'welchen',\n",
       " u'sein',\n",
       " u'ein',\n",
       " u'ihre',\n",
       " u'seinem',\n",
       " u'seinen',\n",
       " u'keine',\n",
       " u'wieder',\n",
       " u'aller',\n",
       " u'noch',\n",
       " u'wollen',\n",
       " u'von',\n",
       " u'gegen',\n",
       " u'am',\n",
       " u'ins',\n",
       " u'\\xfcber',\n",
       " u'im',\n",
       " u'zwischen',\n",
       " u'vor',\n",
       " u'in',\n",
       " u'welcher',\n",
       " u'allem',\n",
       " u'welche',\n",
       " u'ihren',\n",
       " u'seiner',\n",
       " u'seines',\n",
       " u'anderer',\n",
       " u'anderes',\n",
       " u'unter',\n",
       " u'manchem',\n",
       " u'wollte',\n",
       " u'manchen',\n",
       " u'k\\xf6nnen',\n",
       " u'also',\n",
       " u'manches',\n",
       " u'mancher',\n",
       " u'dieselben',\n",
       " u'solchem',\n",
       " u'waren',\n",
       " u'zu',\n",
       " u'hier',\n",
       " u'mir',\n",
       " u'anderen',\n",
       " u'mit',\n",
       " u'durch',\n",
       " u'manche',\n",
       " u'eures',\n",
       " u'zwar',\n",
       " u'dies',\n",
       " u'wird',\n",
       " u'jetzt',\n",
       " u'etwas',\n",
       " u'derselben',\n",
       " u'eure',\n",
       " u'euren',\n",
       " u'eurem',\n",
       " u'ihres',\n",
       " u'man',\n",
       " u'ihrem',\n",
       " u'kein',\n",
       " u'sehr',\n",
       " u'meine',\n",
       " u'hatten',\n",
       " u'so',\n",
       " u'denn',\n",
       " u'da',\n",
       " u'derer',\n",
       " u'unser',\n",
       " u'solche',\n",
       " u'ihrer']"
      ]
     },
     "execution_count": 80,
     "metadata": {},
     "output_type": "execute_result"
    }
   ],
   "source": [
    "my_new_list = list(set(mylist)- set([\"ich\"]))\n",
    "my_new_list"
   ]
  },
  {
   "cell_type": "code",
   "execution_count": 82,
   "metadata": {},
   "outputs": [
    {
     "data": {
      "text/plain": [
       "['wald', 'spazieren']"
      ]
     },
     "execution_count": 82,
     "metadata": {},
     "output_type": "execute_result"
    }
   ],
   "source": [
    "words_german = [\"ich\", \"war\", \"im\", \"wald\", \"spazieren\"]\n",
    "filtered_words = [word for word in words_german if word not in stopwords.words('german')]\n",
    "filtered_words"
   ]
  },
  {
   "cell_type": "markdown",
   "metadata": {},
   "source": [
    "## Wordle 2.0"
   ]
  },
  {
   "cell_type": "markdown",
   "metadata": {},
   "source": [
    "- Tokenization\n",
    "- Lemmatization"
   ]
  },
  {
   "cell_type": "code",
   "execution_count": 69,
   "metadata": {},
   "outputs": [],
   "source": [
    "text = (\" \").join(udhr.words(\"German_Deutsch-Latin1\"))\n",
    "# tokenize and lemmatize\n",
    "words = word_tokenize(text)\n",
    "words_german =[word.lower() for word in words if word.isalpha()]\n",
    "lemma = nltk.WordNetLemmatizer()\n",
    "lemmas = [lemma.lemmatize(i) for i in words_german]\n",
    "clean_blob = lemmas"
   ]
  },
  {
   "cell_type": "markdown",
   "metadata": {},
   "source": [
    "- Numbers etc.. removal\n",
    "- Stop word removal"
   ]
  },
  {
   "cell_type": "code",
   "execution_count": 70,
   "metadata": {},
   "outputs": [
    {
     "data": {
      "text/plain": [
       "['allgemeine',\n",
       " 'erklärung',\n",
       " 'menschenrechte',\n",
       " 'resolution',\n",
       " 'a',\n",
       " 'iii',\n",
       " 'präambel',\n",
       " 'anerkennung',\n",
       " 'angeborenen',\n",
       " 'gleichen',\n",
       " 'unveräußerlichen',\n",
       " 'rechte',\n",
       " 'mitglieder',\n",
       " 'gemeinschaft',\n",
       " 'menschen',\n",
       " 'grundlage',\n",
       " 'freiheit',\n",
       " 'gerechtigkeit',\n",
       " 'frieden',\n",
       " 'welt']"
      ]
     },
     "execution_count": 70,
     "metadata": {},
     "output_type": "execute_result"
    }
   ],
   "source": [
    "from nltk.corpus import stopwords\n",
    "words_alpha =[word.lower() for word in clean_blob if word.isalpha()]\n",
    "stopwords = stopwords.words('german')\n",
    "stopwords.append(\"jede\")\n",
    "result = [word for word in words_alpha if word not in stopwords]\n",
    "result[0:20]"
   ]
  },
  {
   "cell_type": "code",
   "execution_count": 71,
   "metadata": {},
   "outputs": [
    {
     "data": {
      "text/plain": [
       "['allgemeine',\n",
       " 'erklärung',\n",
       " 'menschenrechte',\n",
       " 'resolution',\n",
       " 'a',\n",
       " 'iii',\n",
       " 'präambel',\n",
       " 'anerkennung',\n",
       " 'angeborenen',\n",
       " 'gleichen',\n",
       " 'unveräußerlichen',\n",
       " 'rechte',\n",
       " 'mitglieder',\n",
       " 'gemeinschaft',\n",
       " 'menschen',\n",
       " 'grundlage',\n",
       " 'freiheit',\n",
       " 'gerechtigkeit',\n",
       " 'frieden',\n",
       " 'welt']"
      ]
     },
     "execution_count": 71,
     "metadata": {},
     "output_type": "execute_result"
    }
   ],
   "source": [
    "result[0:20]"
   ]
  },
  {
   "cell_type": "code",
   "execution_count": 72,
   "metadata": {},
   "outputs": [],
   "source": [
    "text = (\" \").join(result)"
   ]
  },
  {
   "cell_type": "code",
   "execution_count": 73,
   "metadata": {},
   "outputs": [],
   "source": [
    " a = [123,\n",
    "     123]"
   ]
  },
  {
   "cell_type": "code",
   "execution_count": 75,
   "metadata": {},
   "outputs": [
    {
     "data": {
      "image/png": "[encoded data removed]",
      "text/plain": [
       "<Figure size 1080x576 with 1 Axes>"
      ]
     },
     "metadata": {
      "needs_background": "light"
     },
     "output_type": "display_data"
    }
   ],
   "source": [
    "from wordcloud import WordCloud\n",
    "import matplotlib.pyplot as plt\n",
    "import numpy as np\n",
    "from PIL import Image\n",
    "import os\n",
    "from os import path\n",
    "d = path.dirname(__file__) if \"__file__\" in locals() else os.getcwd()\n",
    "\n",
    "maske = np.array(Image.open(path.join(d, \"maske.png\")))\n",
    "\n",
    "wc = WordCloud(background_color=\"white\", max_words=2000, mask=maske, contour_width=3, contour_color='steelblue',collocations=False, normalize_plurals=False)\n",
    "wc.generate(text)\n",
    "plt.figure(figsize=(15,8))\n",
    "plt.imshow(wc, interpolation=\"bilinear\")\n",
    "plt.axis(\"off\")\n",
    "plt.show()"
   ]
  },
  {
   "cell_type": "code",
   "execution_count": null,
   "metadata": {},
   "outputs": [],
   "source": []
  },
  {
   "cell_type": "code",
   "execution_count": null,
   "metadata": {},
   "outputs": [],
   "source": []
  }
 ],
 "metadata": {
  "kernelspec": {
   "display_name": "Python 3",
   "language": "python",
   "name": "python3"
  },
  "language_info": {
   "codemirror_mode": {
    "name": "ipython",
    "version": 3
   },
   "file_extension": ".py",
   "mimetype": "text/x-python",
   "name": "python",
   "nbconvert_exporter": "python",
   "pygments_lexer": "ipython3",
   "version": "3.7.3"
  }
 },
 "nbformat": 4,
 "nbformat_minor": 2
}
