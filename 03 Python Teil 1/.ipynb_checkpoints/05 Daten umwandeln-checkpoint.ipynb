{
 "cells": [
  {
   "cell_type": "markdown",
   "metadata": {},
   "source": [
    "# Daten umwandeln - Strings und Zahlen\n",
    "Daten umzuwandeln ist wahrscheinlich, das was du am meisten machen wirst. Deshalb ist es praktisch es schon jetzt kennen zu lernen. "
   ]
  },
  {
   "cell_type": "markdown",
   "metadata": {},
   "source": [
    "### Einen String in eine Zahl umwandeln\n",
    "Dazu wenden wir den **int()**-Befehl auf einen String (direkt oder in einer Variable gespeichert) an: **int(string)**\n",
    "\n",
    "int steht für Integer, den englischen Begriff für Ganzzahl."
   ]
  },
  {
   "cell_type": "code",
   "execution_count": 1,
   "metadata": {},
   "outputs": [
    {
     "name": "stdout",
     "output_type": "stream",
     "text": [
      "11\n"
     ]
    }
   ],
   "source": [
    "a = \"5\"\n",
    "b = \"6\"\n",
    "\n",
    "print(int(a) + int(b))"
   ]
  },
  {
   "cell_type": "markdown",
   "metadata": {},
   "source": [
    "### Einen String in eine Kommazahl umwandeln\n",
    "Dazu wenden wir den **float()**-Befehl auf einen String (direkt oder in einer Variable gespeichert) an: **float(string)** \n",
    " \n",
    " \n",
    "Der Name float kommt daher, dass man Kommazahlen auch Fließkommazahlen nennt."
   ]
  },
  {
   "cell_type": "code",
   "execution_count": 2,
   "metadata": {
    "scrolled": true
   },
   "outputs": [
    {
     "name": "stdout",
     "output_type": "stream",
     "text": [
      "12.1\n"
     ]
    }
   ],
   "source": [
    "a = \"5.5\"\n",
    "b = \"6.6\"\n",
    "\n",
    "print(float(a) + float(b))"
   ]
  },
  {
   "cell_type": "code",
   "execution_count": 4,
   "metadata": {},
   "outputs": [
    {
     "data": {
      "text/plain": [
       "2.6666666666666665"
      ]
     },
     "execution_count": 4,
     "metadata": {},
     "output_type": "execute_result"
    }
   ],
   "source": [
    "8/3 \n",
    "#python macht hier trotz integer-zahlen floats als Resultat. andere Sprachen geben nur den Wert 2 raus."
   ]
  },
  {
   "cell_type": "code",
   "execution_count": 3,
   "metadata": {},
   "outputs": [
    {
     "data": {
      "text/plain": [
       "16.274647383930002"
      ]
     },
     "execution_count": 3,
     "metadata": {},
     "output_type": "execute_result"
    }
   ],
   "source": [
    "float(\"13.27464738393\")+3\n"
   ]
  },
  {
   "cell_type": "code",
   "execution_count": 5,
   "metadata": {},
   "outputs": [
    {
     "data": {
      "text/plain": [
       "float"
      ]
     },
     "execution_count": 5,
     "metadata": {},
     "output_type": "execute_result"
    }
   ],
   "source": [
    "a=3\n",
    "b=5\n",
    "c=a/b\n",
    "type(c)  #mit "
   ]
  },
  {
   "cell_type": "markdown",
   "metadata": {},
   "source": [
    "### Eine Zahl in einen String umwandeln\n",
    "Dazu wenden wir den **str()**-Befehl auf eine Ganzzahl oder Kommazahl an (direkt oder in einer Variable gespeichert): **str(zahl)**"
   ]
  },
  {
   "cell_type": "code",
   "execution_count": null,
   "metadata": {},
   "outputs": [],
   "source": [
    "age = 21\n",
    "print(\"Ich bin \" + str(age) + \" Jahre alt\")\n"
   ]
  },
  {
   "cell_type": "markdown",
   "metadata": {},
   "source": [
    "## Übung\n",
    "\n",
    "- Speichere  die Zahl PI mit 4 Nachkommastellen in der Variable a. \n",
    "- Multipliziere sie mit 2. \n",
    "- Wandle die Zahl in einen String um und gebe sie aus als Satz: \"Das doppelter der Zahl Pi ist: a\"\n",
    "\n"
   ]
  },
  {
   "cell_type": "code",
   "execution_count": 8,
   "metadata": {},
   "outputs": [
    {
     "name": "stdout",
     "output_type": "stream",
     "text": [
      "Das doppelte der Zahl Pi ist 6.283\n"
     ]
    }
   ],
   "source": [
    "a=3.1415\n",
    "b=2*a\n",
    "print(\"Das doppelte der Zahl Pi ist \"+str(b))"
   ]
  },
  {
   "cell_type": "markdown",
   "metadata": {},
   "source": [
    "# Daten umwandeln - Listen und Strings\n",
    "Wir können mit Python Elemente zu einer Liste zusammenfügen oder eine Liste in einzelne Elemente zerlegen."
   ]
  },
  {
   "cell_type": "markdown",
   "metadata": {},
   "source": [
    "### Strings aus einer Liste zu einem String zusammenfügen\n",
    "\n",
    "Mit dem  **join()**-Befehl, der auf einen String angewendet wird, verbinden wir die Strings aus einer Liste zu einem neuen String: **string.join(liste)**\n",
    "\n",
    "Der String, auf den join() angewendet wird, bildet dabei die Nahtstelle: Dieser String wird als Verbindung zwischen den einzelnen Listenelementen im neuen String gesetzt."
   ]
  },
  {
   "cell_type": "code",
   "execution_count": 9,
   "metadata": {
    "scrolled": true
   },
   "outputs": [
    {
     "name": "stdout",
     "output_type": "stream",
     "text": [
      "Max, Monika, Erik, Franziska\n"
     ]
    }
   ],
   "source": [
    "students = [\"Max\", \"Monika\", \"Erik\", \"Franziska\"]\n",
    "print(\", \".join(students))"
   ]
  },
  {
   "cell_type": "code",
   "execution_count": 10,
   "metadata": {},
   "outputs": [
    {
     "name": "stdout",
     "output_type": "stream",
     "text": [
      "An unserer Uni studieren: Max, Monika, Erik, Franziska\n"
     ]
    }
   ],
   "source": [
    "students_as_string = \", \".join(students)\n",
    "print(\"An unserer Uni studieren: \" + students_as_string)"
   ]
  },
  {
   "cell_type": "code",
   "execution_count": null,
   "metadata": {},
   "outputs": [],
   "source": [
    "students = [\"Max\", \"Monika\", \"Erik\", \"Franziska\"]\n",
    "print(\" - \".join(students))"
   ]
  },
  {
   "cell_type": "markdown",
   "metadata": {},
   "source": [
    "### Einen String in eine Liste aufspalten\n",
    "\n",
    "Mit dem **split()**-Befehl, der auf einen String angewendet wird, wird dieser String an seinen Leerzeichen aufgespalten und die daraus resultierenden Einzelstrings in einer Liste gespeichert: **string.split()**"
   ]
  },
  {
   "cell_type": "code",
   "execution_count": 12,
   "metadata": {},
   "outputs": [],
   "source": [
    "i = \"Max, Monika, Erik, Franziska\""
   ]
  },
  {
   "cell_type": "code",
   "execution_count": 13,
   "metadata": {
    "scrolled": true
   },
   "outputs": [
    {
     "name": "stdout",
     "output_type": "stream",
     "text": [
      "['Max,', 'Monika,', 'Erik,', 'Franziska']\n"
     ]
    }
   ],
   "source": [
    "print(i.split())"
   ]
  },
  {
   "cell_type": "markdown",
   "metadata": {},
   "source": [
    "Wir können sogar noch genauer festlegen, an welchen Stellen der String von split() aufgespaltet werden soll."
   ]
  },
  {
   "cell_type": "code",
   "execution_count": 14,
   "metadata": {
    "scrolled": true
   },
   "outputs": [
    {
     "name": "stdout",
     "output_type": "stream",
     "text": [
      "['Max', 'Monika', 'Erik', 'Franziska']\n"
     ]
    }
   ],
   "source": [
    "print(i.split(\", \")) #so kann ich ihm sagen, wie er die Liste auseinandernehmen soll. Wo er sie splitten soll"
   ]
  },
  {
   "cell_type": "code",
   "execution_count": 15,
   "metadata": {},
   "outputs": [
    {
     "name": "stdout",
     "output_type": "stream",
     "text": [
      "['M', 'x, Monik', ', Erik, Fr', 'nzisk', '']\n"
     ]
    }
   ],
   "source": [
    "print(i.split(\"a\")) #so wird beim a gesplittet (und dieses nicht mehr gezeigt)"
   ]
  },
  {
   "cell_type": "markdown",
   "metadata": {},
   "source": [
    "Insbesondere können wir auch mehrere der Befehle, die wir schon kennen gelernt haben, miteinander kombinieren:"
   ]
  },
  {
   "cell_type": "code",
   "execution_count": 16,
   "metadata": {},
   "outputs": [
    {
     "name": "stdout",
     "output_type": "stream",
     "text": [
      "7\n"
     ]
    }
   ],
   "source": [
    "# Hier zählen wir die Anzahl der Wörter des Satzes s\n",
    "\n",
    "s = \"Ich bin ein Satz mit vielen Wörtern\"\n",
    "print(len(s.split()))"
   ]
  },
  {
   "cell_type": "markdown",
   "metadata": {},
   "source": [
    "## Übung 1\n",
    "- Nimm einen Artikel aus 20 minuten. \n",
    "- Kopiere ihn in einen String. \n",
    "- Zerlege den Artikel in Wörter. \n",
    "- Zähle die Wörter. \n",
    "- Gib aus \" Der Artikel xyz enthält x wörter\" "
   ]
  },
  {
   "cell_type": "code",
   "execution_count": 23,
   "metadata": {},
   "outputs": [],
   "source": [
    "#mit den dreifachen Hochkommas ''' zeigt es, dass alles was danach kommt, String ist - solange bis es endet.\n",
    "text='''Die politische Konkurrenz anschwärzen: Das gehörte bisher nicht zu den Stilmitteln der CVP, sondern zeichnete die Kampagnen der SVP, der Juso und teilweise der SP aus, also der Pol-Parteien. Nun also versucht es auch die selbsternannte Partei des Ausgleichs mit Negativ-Werbung.\n",
    "\n",
    "Patrik Müller.\n",
    "Patrik Müller.\n",
    "Wer bei Google den Namen eines Kandidaten einer anderen Partei eingibt, erhält als obersten Treffer ein unscheinbares Inserat. Klickt man darauf, landet man auf einer CVP-Website, wo erklärt wird, warum der gesuchte Politiker ungeeignet ist und wieso die CVP die besseren Leute hat: «Zeigt mir lieber echte Lösungen!», ruft die Website den Nutzern zu.\n",
    "\n",
    "Die empörten Reaktionen der Konkurrenz erklärt man sich in der CVP damit, die Christdemokraten würden halt «gemeinhin als brav und bieder» gelten, wie es die Luzerner Ständeratskandidatin Andrea Gmür erklärt. Vielen CVPlern scheint die aggressive Werbung aus der nationalen Parteizentrale nicht geheuer zu sein. Der Luzerner Kantonalparteipräsident entschuldigte sich bei der FDP, die er nicht als Gegnerin, sondern als Verbündete bezeichnete: «So geht man nicht mit Partnern um.»\n",
    "\n",
    "In Luzern und vielen anderen Kantonen kooperieren CVP und FDP traditionell mit Listenverbindungen, und bei den Ständeratswahlen empfehlen sie sich gegenseitig. Da ist es gleichsam schizophren, den Kandidaten, den man mit auf den Wahlzettel schreiben soll, im Internet zu verunglimpfen.\n",
    "\n",
    "Gerhard Pfister, Parteipräsident der CVP. (Bild: Stefan Kaiser, Zug, 8. November 2018)\n",
    "Gerhard Pfister, Parteipräsident der CVP. (Bild: Stefan Kaiser, Zug, 8. November 2018)\n",
    "Parteipräsident Gerhard Pfister mimt Erstaunen: Er sei «verwundert», dass die Aktion bei der politischen Konkurrenz derart heftige Reaktionen auslöse. Wers glaubt! Die Empörung ist wohlkalkuliert, ebenso wie bei der Würmer-Kampagne der SVP. Aufmerksamkeit zu erlangen war bislang nicht die Stärke der CVP, doch wie will man Wahlen gewinnen, wenn niemand über einen spricht?\n",
    "\n",
    "Diesmal ist es der CVP gelungen: Die Kontroverse um ihre Kampagne fand den Weg auf die Frontseiten unserer Zeitung, der «NZZ», «20 Minuten», und sie war die erste Meldung in der «Tagesschau». Wer Pfister kennt, wäre in der Tat «verwundert», würde er sich nicht diebisch darüber freuen. Die Onlinewerbung trägt unverkennbar die Handschrift des CVP-Präsidenten. Sie ist die logische Fortsetzung seines bisherigen Wirkens. Das zeigt sich etwa darin, dass er auf die FDP zielt. Sie reagiert denn auch am wütendsten auf den CVP-Angriff, und das ist genau so gewollt: Schon kurz nach seiner Wahl zum Parteichef im April 2016 machte Pfister klar, dass er seine Partei nicht als Juniorpartnerin der FDP sieht, sondern als deren Konkurrenz. Bei der Umsetzung der Masseneinwanderungsinitiative übernahm er die Position des Arbeitgeberverbandes. Die CVP sei die wahre Wirtschaftspartei, behauptete Pfister steil. Doch wird die CVP – ausserhalb des Pfister-Kantons Zug – wirklich als das wahrgenommen?\n",
    "\n",
    "Das Label ordnet man noch immer der FDP zu, teilweise auch den Grünliberalen. Trotzdem liegt Pfister nicht falsch, wenn er im freisinnigen Teich Wähler fischen möchte – die Parteien sind sich ähnlich und die FDP ist verletzlich, seit dem Klima-Schwenker ohnehin. Nicht nur strategisch, auch stilistisch ist die Kampagne Pfister-like. Er mag die Provokation, ja bisweilen den Radau. Man braucht nur seinem Twitter-Konto zu folgen, wo er manchmal im Trump-Stil tobt. Mancher Journalist hat schon polemische Mails erhalten, in denen Pfister seinem Ärger Luft macht.\n",
    "\n",
    "Aus dem Fernsehen kennt das Publikum Pfister als geschmeidigen, rhetorisch beschlagenen Debattierer, der historische Vergleiche mag und aus Büchern zitiert. Doch der Mann hat eben zwei Gesichter: Es gibt nicht nur Pfister, den Intellektuellen. Die Kampagne ist das Coming-out von Pfister, dem Wüterich. Mal kultiviert, mal rabiat: Das gibt es in dieser Ausprägung sonst nur einmal in der helvetischen Politik, in der Person Christoph Blocher.\n",
    "\n",
    "Es ist nicht die einzige Parallele. Auch Pfister führt, wie Blocher, straff und selbstbewusst, er hat die (nationalen) Parteistrukturen professionalisiert, er versteht es, die Medien für sich zu interessieren. Bei der SVP hat das Blocher-Prinzip 25 Jahre lang funktioniert, aber tut dies das Pfister-Prinzip bei der eher harmoniebedürftigen CVP-Basis auch? Überrascht die kriselnde Partei bei den Wahlen positiv, wird Pfister zum starken Mann der Partei. Verliert sie weiter, werden Rücktrittsforderungen laut werden. Auch das weisst Pfister. Mit der Negativkampagne geht er auf tutti – auch in eigener Sache.'''\n",
    "anzahl=(len(text.split()))"
   ]
  },
  {
   "cell_type": "code",
   "execution_count": 26,
   "metadata": {},
   "outputs": [
    {
     "name": "stdout",
     "output_type": "stream",
     "text": [
      " Der Artikel enthält 672 wörter\n"
     ]
    }
   ],
   "source": [
    "print(\" Der Artikel enthält \"+str(anzahl)+ \" wörter\")"
   ]
  },
  {
   "cell_type": "markdown",
   "metadata": {},
   "source": [
    "## Übung 2 \n",
    "\n",
    "- Lass dir vom Nachbarn seine Email geben. \n",
    "- Wenn die Mailadresse _Max-Mustermann@gmail.com_ lautet, sollst du _Max-Mustermann_ ausgeben; wenn die Mailadresse _KlaraKlarnamen@uni-berlin.de_ heisst, sollst du _KlaraKlarnamen_ ausgeben."
   ]
  },
  {
   "cell_type": "code",
   "execution_count": 43,
   "metadata": {},
   "outputs": [
    {
     "name": "stdout",
     "output_type": "stream",
     "text": [
      "sven zaugg\n"
     ]
    }
   ],
   "source": [
    "mail=\"sven.zaugg@ringier.ch\"\n",
    "splitted_mail=mail.split(\"@\")\n",
    "dotfree=splitted_mail[0].split(\".\")\n",
    "name=\" \".join(dotfree)\n",
    "print(name)\n"
   ]
  },
  {
   "cell_type": "code",
   "execution_count": 33,
   "metadata": {},
   "outputs": [
    {
     "data": {
      "text/plain": [
       "'ringier.ch'"
      ]
     },
     "execution_count": 33,
     "metadata": {},
     "output_type": "execute_result"
    }
   ],
   "source": [
    "name.pop()"
   ]
  },
  {
   "cell_type": "markdown",
   "metadata": {},
   "source": [
    "## Übung 3\n",
    "\n",
    "Aktuell legen alle Kunden (`mail1`, `mail2`, `mail3`) als separate Variable vor. Wir möchten daraus jetzt eine Liste bauen, sodass wir die Möglichkeit hätten, später noch weitere Kunden in diese Liste hinzuzufügen.\n",
    "\n",
    "Überführe deswegen die Kunden `mail1`, `mail2` und `mail3` in die Liste `clients` und lasse dir anschließend die Anzahl der Elemente der Liste `clients` mit Hilfe von Python ausgeben."
   ]
  },
  {
   "cell_type": "code",
   "execution_count": 44,
   "metadata": {},
   "outputs": [
    {
     "name": "stdout",
     "output_type": "stream",
     "text": [
      "['zarah.zauber@zauberberg.de', 'thomas.plotkowiak@gmail.com', 'uwe_unhold@dunklerwald.de']\n"
     ]
    }
   ],
   "source": [
    "mail1 = \"zarah.zauber@zauberberg.de\"\n",
    "mail2 = \"thomas.plotkowiak@gmail.com\"\n",
    "mail3 = \"uwe_unhold@dunklerwald.de\" \n",
    "\n",
    "clients = [mail1,mail2,mail3]\n",
    "\n",
    "\n",
    "# Füge hier mail1, mail2, mail3 zur clients - Liste hinzu \n",
    "# Zähle wieviele elemente die liste hat.\n",
    "\n",
    "print(clients)"
   ]
  },
  {
   "cell_type": "code",
   "execution_count": 45,
   "metadata": {},
   "outputs": [
    {
     "name": "stdout",
     "output_type": "stream",
     "text": [
      "3\n"
     ]
    }
   ],
   "source": [
    "print(len(clients))"
   ]
  },
  {
   "cell_type": "code",
   "execution_count": null,
   "metadata": {},
   "outputs": [],
   "source": [
    "print(\"wir haben aktuell \"+str(len(clients))+ \" Kunden im System. Das sind:\\n\" + \"\\n\".join(clients))\n",
    "#für Zeilenabstand \"\\n\". Achtung: ist Backslash und nicht Slash."
   ]
  },
  {
   "cell_type": "code",
   "execution_count": null,
   "metadata": {},
   "outputs": [],
   "source": []
  }
 ],
 "metadata": {
  "kernelspec": {
   "display_name": "Python 3",
   "language": "python",
   "name": "python3"
  },
  "language_info": {
   "codemirror_mode": {
    "name": "ipython",
    "version": 3
   },
   "file_extension": ".py",
   "mimetype": "text/x-python",
   "name": "python",
   "nbconvert_exporter": "python",
   "pygments_lexer": "ipython3",
   "version": "3.7.3"
  }
 },
 "nbformat": 4,
 "nbformat_minor": 2
}
