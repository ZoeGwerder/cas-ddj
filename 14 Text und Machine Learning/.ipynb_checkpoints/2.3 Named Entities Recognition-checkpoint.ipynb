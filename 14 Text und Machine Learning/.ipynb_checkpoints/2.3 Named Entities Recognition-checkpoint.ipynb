{
 "cells": [
  {
   "cell_type": "markdown",
   "metadata": {},
   "source": [
    "# Named Entities Recognition with NLTK\n",
    "- Named entities sind Orte, Firmen, Organisationen, Länder, etc.. alles Eigennamen. \n",
    "- Oft sind diese Eigennamen relativ wichtig im Text. "
   ]
  },
  {
   "cell_type": "code",
   "execution_count": 8,
   "metadata": {},
   "outputs": [
    {
     "name": "stdout",
     "output_type": "stream",
     "text": [
      "Collecting httplib2\n",
      "  Downloading https://files.pythonhosted.org/packages/d2/84/f97b9efdb17c9b73e133bdbf2b4bfd09cd0be655e36e3ee3c4bec9095048/httplib2-0.14.0-py3-none-any.whl (94kB)\n",
      "Installing collected packages: httplib2\n",
      "Successfully installed httplib2-0.14.0\n"
     ]
    }
   ],
   "source": [
    "!pip install httplib2"
   ]
  },
  {
   "cell_type": "code",
   "execution_count": 9,
   "metadata": {},
   "outputs": [
    {
     "name": "stderr",
     "output_type": "stream",
     "text": [
      "[nltk_data] Downloading package averaged_perceptron_tagger to\n",
      "[nltk_data]     C:\\Users\\Zoe\\AppData\\Roaming\\nltk_data...\n",
      "[nltk_data]   Package averaged_perceptron_tagger is already up-to-\n",
      "[nltk_data]       date!\n"
     ]
    },
    {
     "data": {
      "text/plain": [
       "True"
      ]
     },
     "execution_count": 9,
     "metadata": {},
     "output_type": "execute_result"
    }
   ],
   "source": [
    "import nltk\n",
    "nltk.download('averaged_perceptron_tagger')"
   ]
  },
  {
   "cell_type": "code",
   "execution_count": 10,
   "metadata": {},
   "outputs": [
    {
     "data": {
      "text/plain": [
       "[('John', 'NNP'),\n",
       " ('Smith', 'NNP'),\n",
       " ('is', 'VBZ'),\n",
       " ('from', 'IN'),\n",
       " ('the', 'DT'),\n",
       " ('United', 'NNP'),\n",
       " ('States', 'NNPS'),\n",
       " ('of', 'IN'),\n",
       " ('America', 'NNP'),\n",
       " ('and', 'CC'),\n",
       " ('works', 'VBZ'),\n",
       " ('at', 'IN'),\n",
       " ('Microsoft', 'NNP'),\n",
       " ('Research', 'NNP'),\n",
       " ('Labs', 'NNP')]"
      ]
     },
     "execution_count": 10,
     "metadata": {},
     "output_type": "execute_result"
    }
   ],
   "source": [
    "nltk.pos_tag(nltk.word_tokenize(\"John Smith is from the United States of America and works at Microsoft Research Labs\"))"
   ]
  },
  {
   "cell_type": "code",
   "execution_count": 11,
   "metadata": {},
   "outputs": [
    {
     "name": "stderr",
     "output_type": "stream",
     "text": [
      "[nltk_data] Downloading package averaged_perceptron_tagger to\n",
      "[nltk_data]     C:\\Users\\Zoe\\AppData\\Roaming\\nltk_data...\n",
      "[nltk_data]   Package averaged_perceptron_tagger is already up-to-\n",
      "[nltk_data]       date!\n",
      "[nltk_data] Downloading package maxent_ne_chunker to\n",
      "[nltk_data]     C:\\Users\\Zoe\\AppData\\Roaming\\nltk_data...\n",
      "[nltk_data]   Package maxent_ne_chunker is already up-to-date!\n",
      "[nltk_data] Downloading package words to\n",
      "[nltk_data]     C:\\Users\\Zoe\\AppData\\Roaming\\nltk_data...\n"
     ]
    },
    {
     "name": "stdout",
     "output_type": "stream",
     "text": [
      "(S\n",
      "  (PERSON John/NNP)\n",
      "  (PERSON Smith/NNP)\n",
      "  is/VBZ\n",
      "  from/IN\n",
      "  the/DT\n",
      "  (GPE United/NNP States/NNPS)\n",
      "  of/IN\n",
      "  (GPE America/NNP)\n",
      "  and/CC\n",
      "  works/VBZ\n",
      "  at/IN\n",
      "  (ORGANIZATION Microsoft/NNP Research/NNP Labs/NNP))\n"
     ]
    },
    {
     "name": "stderr",
     "output_type": "stream",
     "text": [
      "[nltk_data]   Unzipping corpora\\words.zip.\n"
     ]
    }
   ],
   "source": [
    "import nltk\n",
    "nltk.download('averaged_perceptron_tagger')\n",
    "nltk.download('maxent_ne_chunker')\n",
    "nltk.download('words')\n",
    "print(nltk.ne_chunk(nltk.pos_tag(nltk.word_tokenize(\"John Smith is from the United States of America and works at Microsoft Research Labs\"))))"
   ]
  },
  {
   "cell_type": "code",
   "execution_count": 12,
   "metadata": {},
   "outputs": [
    {
     "name": "stdout",
     "output_type": "stream",
     "text": [
      "(S\n",
      "  (PERSON Johan/NNP)\n",
      "  (PERSON Meier/NNP)\n",
      "  kommt/NNP\n",
      "  aus/NN\n",
      "  (GPE Deutschland/NNP)\n",
      "  und/NN\n",
      "  arbeitet/NN\n",
      "  bei/NN\n",
      "  der/NN\n",
      "  (ORGANIZATION Forschungsabteilung/NNP)\n",
      "  von/NNP\n",
      "  Microsoft/NNP)\n"
     ]
    },
    {
     "name": "stderr",
     "output_type": "stream",
     "text": [
      "[nltk_data] Downloading package maxent_ne_chunker to\n",
      "[nltk_data]     C:\\Users\\Zoe\\AppData\\Roaming\\nltk_data...\n",
      "[nltk_data]   Package maxent_ne_chunker is already up-to-date!\n"
     ]
    }
   ],
   "source": [
    "nltk.download('maxent_ne_chunker')\n",
    "print(nltk.ne_chunk(nltk.pos_tag(nltk.word_tokenize(\"Johan Meier kommt aus Deutschland und arbeitet bei der Forschungsabteilung von Microsoft\"))))"
   ]
  },
  {
   "cell_type": "markdown",
   "metadata": {},
   "source": [
    "# Named Entities Recognition as a Service\n",
    "- Extrahieren von wichtigen sog. Named entities (cities, persons, etc..)\n",
    "- http://www.opencalais.com/opencalais-api/\n",
    "- http://www.opencalais.com/wp-content/uploads/folder/ThomsonReutersOpenCalaisAPIUserGuideR12_1.pdf\n",
    "- Super praktisch wenn man sehr viele Dokumente hat und aggregiert sehen möchte worüber gesprochen wird...."
   ]
  },
  {
   "cell_type": "markdown",
   "metadata": {},
   "source": [
    "```pip install httplib2```"
   ]
  },
  {
   "cell_type": "markdown",
   "metadata": {},
   "source": [
    "### Aufgabe\n",
    "Holt euch den text von http://www.spiegel.de/politik/ausland/brexit-das-endspiel-hat-begonnen-a-1238299.html mit dem readability tool."
   ]
  },
  {
   "cell_type": "code",
   "execution_count": 14,
   "metadata": {},
   "outputs": [],
   "source": [
    "text = '''Marc Hauser, Leiter Naturgefahren bei den SBB, steigt ab und an in einen Helikopter, um das Gelände entlang von Bahnstrecken nach potenziellen Gefahrenquellen abzusuchen. In einer solchen intensiven Beobachtungsphase befindet er sich derzeit wieder. Sein Zielgebiet: Die Axenflue. Sie liegt ungefähr zwei Kilometer südlich von Sisikon. Sie besteht aus stark deformierten Kalken der sogenannten Axendecke. Diese liegen genau an der Grenze zwischen zwei tektonischen Einheiten, welche während der Alpenfaltung gegen einander verschoben wurden. Das ist der Grund, warum der Kalkstein hier so brüchig ist.\n",
    "\n",
    "Bei Steinschlaggefahr, wie hier an der 350 Meter senkrecht abfallenden Axenflue, ist Vorsicht geboten. Verschiedentlich haben Steinschläge in der nahen Vergangenheit die Strasse von Brunnen über Sisikon nach Flüelen verschüttet, was immer wieder längere Sperren notwendig machte. So gesehen, gilt für alle Verkehrswege im Gebiet des Axens alles vorzukehren, damit Schadenereignisse ausbleiben.\n",
    "\n",
    "Schon vor 140 Jahren wurden die Gefahrenherde erkannt\n",
    "Bei den SBB ist ein solcher Schadenfall bis jetzt – glücklicherweise – nicht bekannt. Vorbeugen ist aber auch hier besser als heilen. Trifft ein Zug auf ein Hindernis auf der Schiene, besteht das Risiko einer Entgleisung. Wo am Axen die Gefahrenherde liegen, haben schon die Bauherren der Gotthard-Bahn im Jahre 1882 erkannt und auch feinsäuberlich auf einem Plan eingetragen. Heute werden neue Ausbruchgebiete oder Steinschlagereignisse mit Fotos und digitalen Daten direkt auf dem iPad dargestellt.\n",
    "\n",
    "Was aktuell mit der Digitalisierung zu erledigen ist, entstand im vorletzten Jahrhundert mittels einem mühsamen und mitunter nicht ungefährlichen Datensammeln zu Fuss. «Die Feldaufnahmen wurden früher in einem Feldbuch festgehalten, heute ist das alles digital auf einem iPad vorhanden», sagt Marc Hauser. Dieses habe er immer auf Mann. Das zeigt, wie sich das Anforderungsprofil der SBB-Abteilung Naturgefahren in den vergangenen Jahren grundlegend geändert hat. Vieles sei einfach geworden, sagt Hauser auch noch: «Doch mit den digitalen Online-­Felsüberwachungen sei auch die Verantwortung gestiegen.»\n",
    "\n",
    "Helikopterflüge sind schwierig\n",
    "Eines ist aber gewiss: Dank der Digitalisierung müssen sich die SBB-Mitarbeiter nicht mehr so oft wie früher Gefahren aussetzen, um an die notwendigen Daten zu kommen. Dabei kommen jedoch nicht nur Helikopter zum Zuge, sondern vermehrt auch Drohnen. Der SBB-Leiter Naturgefahren Marc Hauser weiss, dass es mittlerweile im Bahnunternehmen mehrere Drohnenpiloten gibt.\n",
    "\n",
    "Der Vorteil der Erkundung mittels Helikopter ist jedoch, dass sich dem Fachmann ein globaler Überblick bietet. Marc Hauser ist einer, dem die kleinsten Details in einer senkrechten Felswand auffallen. Er lenkt den Helikopter zwar nicht, aber er dirigiert dessen Piloten. Der muss sein Fluggerät mal ein wenig hinaufziehen, dann wieder zurückziehen. Der bereits recht tiefe Sonnenstand ist auch ein Hindernis, denn wer gegen ihn fliegt, ist praktisch blind. Der erfahrene Pilot weiss dann aber auch dieses Problem zu umgehen.\n",
    "\n",
    "Einen Helikopter zu fliegen gilt an sich schon als schwierig. Bei solchen Erkundungsflügen kommt noch hinzu, dass immer auch die fast überall durchführenden Stromkabel zu beachten sind. Und zu nah an den Felsen heranfliegen, davor hütet sich der Helikopterpilot schon aufgrund der ihm aufgetragenen Verantwortung für die Mannschaft. Für einen Laien mag all der Fels im Gebiet Sulzegg und Gumpisch zwischen den beiden Bahnhöfen Silikon und Flüelen nicht speziell aussehen.\n",
    "\n",
    "Doch immer wieder sagt Marc Hauser: «Das ist ein Kandidat, den wir im Auge behalten müssen.» Nicht alle bei diesem Flug beobachteten Gefahrenherde erfordern eine sofortige Intervention, aber sehr wohl eine intensivere Beobachtung. Dem geübten Auge von Marc Hauser von den SBB entgeht nichts. Da ein Abbruch, dort eine kleine Verschiebung. Diese Art des Augenscheins umschreibt der SBB-Fachmann so:\n",
    "\n",
    "«Wir erhalten ein zuverlässiges Bild und müssen uns selber nicht mehr in Gefahr begeben.»\n",
    "\n",
    "Auf dem Rückflug hat Hauser noch eine Bitte. Er will nachschauen, ob ein Telejoint-Meter an der Felswand oberhalb des Gebiets Rynächt angebracht ist. Die Suche nach diesem Messgerät ist gar nicht so einfach. Doch dann endlich entdeckt er das rote Messinstrument inmitten einer grauen Felswand. Wichtig ist die Beobachtung dieser Felspartie deshalb, weil sie oberhalb des zweiröhrigen Nordportals des Gotthard-Basistunnels liegt. Ein Felsabsturz würde die für Güter- wie auch Personentransporte wichtige Nord-Süd-Achsen lahmlegen.\n",
    "\n",
    "Kurz nach der Landung geht es auf dem Landweg zurück in Richtung Axen. Im Gebiet Sulzegg sind derzeit Arbeiten im Gang, die zur Sicherung der unterhalb verlaufenden Bahnstrecke gedacht sind, aber auch die Axenstrasse schützen werden. Wo früher starre Einrichtungen verbaut worden sind, kommen heute flexible Systeme zum Einsatz. Sie ähneln einem engmaschigen Vorhang aus Metall. Um die verschiedenen Teile zusammenzusetzen, braucht es Fachleute, die jeden Handgriff kennen.\n",
    "\n",
    "Am Gumpischbach, einer anderen Gefahrenstelle am Axen, arbeitet die SBB Hand in Hand mit dem Bundesamt für Strassen. Hier entsteht ein grosser Ablenkdamm, der dafür sorgt, dass Murgänge das Bachbett des Gumpischbachs nicht verlassen und so direkt in den Urnersee gelangen. Doch diese Schutzmassnahme allein würde das Risiko bei den SBB massiv erhöhen, wenn nicht gleichzeitig auch die Durchflusskapazität unter der Bahnbrücke erhöht wird. Aus diesem Grund muss das Bachdelta des Gumpisch ab jetzt regelmässig ausgebaggert werden, um Auflandungen frühzeitig zu vermeiden.\n",
    "\n",
    "Die SBB-Seestrecke muss 2020 fertig saniert sein\n",
    "Die Risikoanalyse am Ostufer des Urnersees gehört auch zur Ertüchtigung der Zulaufstrecken für den Gotthard- wie den Monte-Ceneri-Basistunnel. Seit Längerem ist die Strecke zwischen Silikon und Flüelen nur einspurig befahrbar. Das seeseitige Gleis wird umfassend saniert. Die Streckenführung geht auf die Zeit der Gotthard-Bahn zurück und zeichnet sich entlang des Axen dadurch aus, dass sich Tunnels und die offene Strecke in schneller Folge abwechseln. Die zweite Spur zwischen Brunnen und Flüelen verläuft hingegen mehr oder weniger in Tunnels. Das vereinfacht die Schutzmassnahmen. Laut Marc Hauser, Leiter Naturgefahren SBB, wendet die Staatsbahn pro Jahr rund 15 Millionen Franken auf: Fünf Millionen für neue Anlagen, den Rest, um Bestehendes im Schuss zu halten.'''"
   ]
  },
  {
   "cell_type": "code",
   "execution_count": 15,
   "metadata": {},
   "outputs": [
    {
     "ename": "UnicodeEncodeError",
     "evalue": "'latin-1' codec can't encode character '\\u2013' in position 1102: Body ('–') is not valid Latin-1. Use body.encode('utf-8') if you want to send it encoded in UTF-8.",
     "output_type": "error",
     "traceback": [
      "\u001b[1;31m---------------------------------------------------------------------------\u001b[0m",
      "\u001b[1;31mUnicodeEncodeError\u001b[0m                        Traceback (most recent call last)",
      "\u001b[1;32m<ipython-input-15-35993f373c38>\u001b[0m in \u001b[0;36m<module>\u001b[1;34m\u001b[0m\n\u001b[0;32m      9\u001b[0m }\n\u001b[0;32m     10\u001b[0m \u001b[0mhttp\u001b[0m \u001b[1;33m=\u001b[0m \u001b[0mhttplib2\u001b[0m\u001b[1;33m.\u001b[0m\u001b[0mHttp\u001b[0m\u001b[1;33m(\u001b[0m\u001b[1;33m)\u001b[0m\u001b[1;33m\u001b[0m\u001b[1;33m\u001b[0m\u001b[0m\n\u001b[1;32m---> 11\u001b[1;33m \u001b[0mresponse\u001b[0m\u001b[1;33m,\u001b[0m \u001b[0mcontent\u001b[0m \u001b[1;33m=\u001b[0m \u001b[0mhttp\u001b[0m\u001b[1;33m.\u001b[0m\u001b[0mrequest\u001b[0m\u001b[1;33m(\u001b[0m\u001b[0mCALAIS_TAG_API\u001b[0m\u001b[1;33m,\u001b[0m \u001b[1;34m'POST'\u001b[0m\u001b[1;33m,\u001b[0m \u001b[0mheaders\u001b[0m\u001b[1;33m=\u001b[0m\u001b[0mheaders\u001b[0m\u001b[1;33m,\u001b[0m \u001b[0mbody\u001b[0m\u001b[1;33m=\u001b[0m\u001b[0mtext\u001b[0m\u001b[1;33m)\u001b[0m\u001b[1;33m\u001b[0m\u001b[1;33m\u001b[0m\u001b[0m\n\u001b[0m\u001b[0;32m     12\u001b[0m \u001b[0mjcontent\u001b[0m \u001b[1;33m=\u001b[0m \u001b[0mjson\u001b[0m\u001b[1;33m.\u001b[0m\u001b[0mloads\u001b[0m\u001b[1;33m(\u001b[0m\u001b[0mcontent\u001b[0m\u001b[1;33m.\u001b[0m\u001b[0mdecode\u001b[0m\u001b[1;33m(\u001b[0m\u001b[1;34m\"utf-8\"\u001b[0m\u001b[1;33m)\u001b[0m\u001b[1;33m)\u001b[0m \u001b[1;31m# Parse the json return into a python dict\u001b[0m\u001b[1;33m\u001b[0m\u001b[1;33m\u001b[0m\u001b[0m\n",
      "\u001b[1;32m~\\Anaconda3\\lib\\site-packages\\httplib2\\__init__.py\u001b[0m in \u001b[0;36mrequest\u001b[1;34m(self, uri, method, body, headers, redirections, connection_type)\u001b[0m\n\u001b[0;32m   1955\u001b[0m                         \u001b[0mheaders\u001b[0m\u001b[1;33m,\u001b[0m\u001b[1;33m\u001b[0m\u001b[1;33m\u001b[0m\u001b[0m\n\u001b[0;32m   1956\u001b[0m                         \u001b[0mredirections\u001b[0m\u001b[1;33m,\u001b[0m\u001b[1;33m\u001b[0m\u001b[1;33m\u001b[0m\u001b[0m\n\u001b[1;32m-> 1957\u001b[1;33m                         \u001b[0mcachekey\u001b[0m\u001b[1;33m,\u001b[0m\u001b[1;33m\u001b[0m\u001b[1;33m\u001b[0m\u001b[0m\n\u001b[0m\u001b[0;32m   1958\u001b[0m                     )\n\u001b[0;32m   1959\u001b[0m         \u001b[1;32mexcept\u001b[0m \u001b[0mException\u001b[0m \u001b[1;32mas\u001b[0m \u001b[0me\u001b[0m\u001b[1;33m:\u001b[0m\u001b[1;33m\u001b[0m\u001b[1;33m\u001b[0m\u001b[0m\n",
      "\u001b[1;32m~\\Anaconda3\\lib\\site-packages\\httplib2\\__init__.py\u001b[0m in \u001b[0;36m_request\u001b[1;34m(self, conn, host, absolute_uri, request_uri, method, body, headers, redirections, cachekey)\u001b[0m\n\u001b[0;32m   1620\u001b[0m \u001b[1;33m\u001b[0m\u001b[0m\n\u001b[0;32m   1621\u001b[0m         (response, content) = self._conn_request(\n\u001b[1;32m-> 1622\u001b[1;33m             \u001b[0mconn\u001b[0m\u001b[1;33m,\u001b[0m \u001b[0mrequest_uri\u001b[0m\u001b[1;33m,\u001b[0m \u001b[0mmethod\u001b[0m\u001b[1;33m,\u001b[0m \u001b[0mbody\u001b[0m\u001b[1;33m,\u001b[0m \u001b[0mheaders\u001b[0m\u001b[1;33m\u001b[0m\u001b[1;33m\u001b[0m\u001b[0m\n\u001b[0m\u001b[0;32m   1623\u001b[0m         )\n\u001b[0;32m   1624\u001b[0m \u001b[1;33m\u001b[0m\u001b[0m\n",
      "\u001b[1;32m~\\Anaconda3\\lib\\site-packages\\httplib2\\__init__.py\u001b[0m in \u001b[0;36m_conn_request\u001b[1;34m(self, conn, request_uri, method, body, headers)\u001b[0m\n\u001b[0;32m   1527\u001b[0m                 \u001b[1;32mif\u001b[0m \u001b[0mconn\u001b[0m\u001b[1;33m.\u001b[0m\u001b[0msock\u001b[0m \u001b[1;32mis\u001b[0m \u001b[1;32mNone\u001b[0m\u001b[1;33m:\u001b[0m\u001b[1;33m\u001b[0m\u001b[1;33m\u001b[0m\u001b[0m\n\u001b[0;32m   1528\u001b[0m                     \u001b[0mconn\u001b[0m\u001b[1;33m.\u001b[0m\u001b[0mconnect\u001b[0m\u001b[1;33m(\u001b[0m\u001b[1;33m)\u001b[0m\u001b[1;33m\u001b[0m\u001b[1;33m\u001b[0m\u001b[0m\n\u001b[1;32m-> 1529\u001b[1;33m                 \u001b[0mconn\u001b[0m\u001b[1;33m.\u001b[0m\u001b[0mrequest\u001b[0m\u001b[1;33m(\u001b[0m\u001b[0mmethod\u001b[0m\u001b[1;33m,\u001b[0m \u001b[0mrequest_uri\u001b[0m\u001b[1;33m,\u001b[0m \u001b[0mbody\u001b[0m\u001b[1;33m,\u001b[0m \u001b[0mheaders\u001b[0m\u001b[1;33m)\u001b[0m\u001b[1;33m\u001b[0m\u001b[1;33m\u001b[0m\u001b[0m\n\u001b[0m\u001b[0;32m   1530\u001b[0m             \u001b[1;32mexcept\u001b[0m \u001b[0msocket\u001b[0m\u001b[1;33m.\u001b[0m\u001b[0mtimeout\u001b[0m\u001b[1;33m:\u001b[0m\u001b[1;33m\u001b[0m\u001b[1;33m\u001b[0m\u001b[0m\n\u001b[0;32m   1531\u001b[0m                 \u001b[0mconn\u001b[0m\u001b[1;33m.\u001b[0m\u001b[0mclose\u001b[0m\u001b[1;33m(\u001b[0m\u001b[1;33m)\u001b[0m\u001b[1;33m\u001b[0m\u001b[1;33m\u001b[0m\u001b[0m\n",
      "\u001b[1;32m~\\Anaconda3\\lib\\http\\client.py\u001b[0m in \u001b[0;36mrequest\u001b[1;34m(self, method, url, body, headers, encode_chunked)\u001b[0m\n\u001b[0;32m   1227\u001b[0m                 encode_chunked=False):\n\u001b[0;32m   1228\u001b[0m         \u001b[1;34m\"\"\"Send a complete request to the server.\"\"\"\u001b[0m\u001b[1;33m\u001b[0m\u001b[1;33m\u001b[0m\u001b[0m\n\u001b[1;32m-> 1229\u001b[1;33m         \u001b[0mself\u001b[0m\u001b[1;33m.\u001b[0m\u001b[0m_send_request\u001b[0m\u001b[1;33m(\u001b[0m\u001b[0mmethod\u001b[0m\u001b[1;33m,\u001b[0m \u001b[0murl\u001b[0m\u001b[1;33m,\u001b[0m \u001b[0mbody\u001b[0m\u001b[1;33m,\u001b[0m \u001b[0mheaders\u001b[0m\u001b[1;33m,\u001b[0m \u001b[0mencode_chunked\u001b[0m\u001b[1;33m)\u001b[0m\u001b[1;33m\u001b[0m\u001b[1;33m\u001b[0m\u001b[0m\n\u001b[0m\u001b[0;32m   1230\u001b[0m \u001b[1;33m\u001b[0m\u001b[0m\n\u001b[0;32m   1231\u001b[0m     \u001b[1;32mdef\u001b[0m \u001b[0m_send_request\u001b[0m\u001b[1;33m(\u001b[0m\u001b[0mself\u001b[0m\u001b[1;33m,\u001b[0m \u001b[0mmethod\u001b[0m\u001b[1;33m,\u001b[0m \u001b[0murl\u001b[0m\u001b[1;33m,\u001b[0m \u001b[0mbody\u001b[0m\u001b[1;33m,\u001b[0m \u001b[0mheaders\u001b[0m\u001b[1;33m,\u001b[0m \u001b[0mencode_chunked\u001b[0m\u001b[1;33m)\u001b[0m\u001b[1;33m:\u001b[0m\u001b[1;33m\u001b[0m\u001b[1;33m\u001b[0m\u001b[0m\n",
      "\u001b[1;32m~\\Anaconda3\\lib\\http\\client.py\u001b[0m in \u001b[0;36m_send_request\u001b[1;34m(self, method, url, body, headers, encode_chunked)\u001b[0m\n\u001b[0;32m   1272\u001b[0m             \u001b[1;31m# RFC 2616 Section 3.7.1 says that text default has a\u001b[0m\u001b[1;33m\u001b[0m\u001b[1;33m\u001b[0m\u001b[1;33m\u001b[0m\u001b[0m\n\u001b[0;32m   1273\u001b[0m             \u001b[1;31m# default charset of iso-8859-1.\u001b[0m\u001b[1;33m\u001b[0m\u001b[1;33m\u001b[0m\u001b[1;33m\u001b[0m\u001b[0m\n\u001b[1;32m-> 1274\u001b[1;33m             \u001b[0mbody\u001b[0m \u001b[1;33m=\u001b[0m \u001b[0m_encode\u001b[0m\u001b[1;33m(\u001b[0m\u001b[0mbody\u001b[0m\u001b[1;33m,\u001b[0m \u001b[1;34m'body'\u001b[0m\u001b[1;33m)\u001b[0m\u001b[1;33m\u001b[0m\u001b[1;33m\u001b[0m\u001b[0m\n\u001b[0m\u001b[0;32m   1275\u001b[0m         \u001b[0mself\u001b[0m\u001b[1;33m.\u001b[0m\u001b[0mendheaders\u001b[0m\u001b[1;33m(\u001b[0m\u001b[0mbody\u001b[0m\u001b[1;33m,\u001b[0m \u001b[0mencode_chunked\u001b[0m\u001b[1;33m=\u001b[0m\u001b[0mencode_chunked\u001b[0m\u001b[1;33m)\u001b[0m\u001b[1;33m\u001b[0m\u001b[1;33m\u001b[0m\u001b[0m\n\u001b[0;32m   1276\u001b[0m \u001b[1;33m\u001b[0m\u001b[0m\n",
      "\u001b[1;32m~\\Anaconda3\\lib\\http\\client.py\u001b[0m in \u001b[0;36m_encode\u001b[1;34m(data, name)\u001b[0m\n\u001b[0;32m    158\u001b[0m             \u001b[1;34m\"%s (%.20r) is not valid Latin-1. Use %s.encode('utf-8') \"\u001b[0m\u001b[1;33m\u001b[0m\u001b[1;33m\u001b[0m\u001b[0m\n\u001b[0;32m    159\u001b[0m             \u001b[1;34m\"if you want to send it encoded in UTF-8.\"\u001b[0m \u001b[1;33m%\u001b[0m\u001b[1;33m\u001b[0m\u001b[1;33m\u001b[0m\u001b[0m\n\u001b[1;32m--> 160\u001b[1;33m             (name.title(), data[err.start:err.end], name)) from None\n\u001b[0m\u001b[0;32m    161\u001b[0m \u001b[1;33m\u001b[0m\u001b[0m\n\u001b[0;32m    162\u001b[0m \u001b[1;33m\u001b[0m\u001b[0m\n",
      "\u001b[1;31mUnicodeEncodeError\u001b[0m: 'latin-1' codec can't encode character '\\u2013' in position 1102: Body ('–') is not valid Latin-1. Use body.encode('utf-8') if you want to send it encoded in UTF-8."
     ]
    }
   ],
   "source": [
    "import httplib2\n",
    "import json\n",
    "LOCAL_API_KEY = 's8kVFJoL3LFkMtPfBJKrJAF8BgJ7g85E' # Aquire this by registering at the Calais site\n",
    "CALAIS_TAG_API = 'https://api.thomsonreuters.com/permid/calais'\n",
    "headers = {\n",
    "    'X-AG-Access-Token': LOCAL_API_KEY,\n",
    "    'content-type': 'text/raw',\n",
    "    'outputformat': 'application/json'\n",
    "}\n",
    "http = httplib2.Http()\n",
    "response, content = http.request(CALAIS_TAG_API, 'POST', headers=headers, body=text) \n",
    "# \"Post\" sagt, dass es in die API raufgeschickt wird.\n",
    "jcontent = json.loads(content.decode(\"utf-8\")) # Parse the json return into a python dict"
   ]
  },
  {
   "cell_type": "markdown",
   "metadata": {},
   "source": [
    "funktioniert nicht. Dies ist der Code um etwas an eine API schicken können mit dem post-Befehl"
   ]
  },
  {
   "cell_type": "code",
   "execution_count": 12,
   "metadata": {},
   "outputs": [
    {
     "data": {
      "text/plain": [
       "{u'contentType': u'text/raw',\n",
       " u'language': u'German',\n",
       " u'processingVer': u'AllMetadata',\n",
       " u'serverVersion': u'OneCalais_12.1-RELEASE:26',\n",
       " u'signature': u'digestalg-1|q7oa/KlnNf3PidpxF0BoUXLk8v0=|Z6GwklMbABIhMy/KTZwCD1BiJfdgLcsRw/IlotYPwxwNr5jvED98Bw==',\n",
       " u'submissionDate': u'2018-11-20 10:16:37.708',\n",
       " u'submitterCode': u'0ca6a864-5659-789d-5f32-f365f695e757',\n",
       " u'truncatedTextLength': u'346'}"
      ]
     },
     "execution_count": 12,
     "metadata": {},
     "output_type": "execute_result"
    }
   ],
   "source": [
    "jcontent[\"doc\"][\"meta\"]"
   ]
  },
  {
   "cell_type": "code",
   "execution_count": 20,
   "metadata": {},
   "outputs": [
    {
     "name": "stdout",
     "output_type": "stream",
     "text": [
      "No name present for entity http://d.opencalais.com/dochash-1/7a5109b7-28b2-3d4e-8cb5-8f9c992c4624/lid/DefaultLangId\n",
      "Key: http://d.opencalais.com/genericHasher-1/e1fd0a20-f464-39be-a88f-25038cc7f50c Type: France Name: Country\n",
      "No name present for entity http://d.opencalais.com/dochash-1/7a5109b7-28b2-3d4e-8cb5-8f9c992c4624/ComponentVersions\n",
      "No name present for entity doc\n",
      "No name present for entity http://d.opencalais.com/dochash-1/7a5109b7-28b2-3d4e-8cb5-8f9c992c4624/cat/3\n",
      "No name present for entity http://d.opencalais.com/dochash-1/7a5109b7-28b2-3d4e-8cb5-8f9c992c4624/cat/2\n",
      "No name present for entity http://d.opencalais.com/dochash-1/7a5109b7-28b2-3d4e-8cb5-8f9c992c4624/cat/1\n",
      "Key: http://d.opencalais.com/pershash-1/5a3bc114-9bf8-3fb7-b78a-ca9758c3d05a Type: Theresa May Name: Person\n",
      "No name present for entity http://d.opencalais.com/dochash-1/7a5109b7-28b2-3d4e-8cb5-8f9c992c4624/SocialTag/2\n",
      "No name present for entity http://d.opencalais.com/dochash-1/7a5109b7-28b2-3d4e-8cb5-8f9c992c4624/SocialTag/3\n",
      "No name present for entity http://d.opencalais.com/dochash-1/7a5109b7-28b2-3d4e-8cb5-8f9c992c4624/SocialTag/1\n"
     ]
    }
   ],
   "source": [
    "for (k,v) in jcontent.iteritems():\n",
    "    try:\n",
    "        print(\"Key: %s Type: %s Name: %s\" % (k,v[\"name\"],v[\"_type\"]))\n",
    "    except:\n",
    "        print(\"No name present for entity %s\" % k)"
   ]
  },
  {
   "cell_type": "markdown",
   "metadata": {},
   "source": [
    "## Aufgabe\n",
    "- Von welchen Ländern und Unternehmen wird vor allem gesprochen?"
   ]
  }
 ],
 "metadata": {
  "kernelspec": {
   "display_name": "Python 3",
   "language": "python",
   "name": "python3"
  },
  "language_info": {
   "codemirror_mode": {
    "name": "ipython",
    "version": 3
   },
   "file_extension": ".py",
   "mimetype": "text/x-python",
   "name": "python",
   "nbconvert_exporter": "python",
   "pygments_lexer": "ipython3",
   "version": "3.7.3"
  }
 },
 "nbformat": 4,
 "nbformat_minor": 2
}
